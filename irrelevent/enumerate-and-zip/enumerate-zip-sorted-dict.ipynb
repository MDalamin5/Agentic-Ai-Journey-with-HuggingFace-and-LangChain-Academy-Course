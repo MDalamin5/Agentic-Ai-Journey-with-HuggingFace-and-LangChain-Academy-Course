{
 "cells": [
  {
   "cell_type": "code",
   "execution_count": 2,
   "id": "15ce59d2",
   "metadata": {},
   "outputs": [
    {
     "name": "stdout",
     "output_type": "stream",
     "text": [
      "(0, 'A')\n",
      "(1, 'l')\n",
      "(2, 'a')\n",
      "(3, 'm')\n",
      "(4, 'i')\n",
      "(5, 'n')\n"
     ]
    }
   ],
   "source": [
    "name = \"Alamin\"\n",
    "\n",
    "for i in enumerate(name):\n",
    "    print(i)"
   ]
  },
  {
   "cell_type": "code",
   "execution_count": 4,
   "id": "d379b5f8",
   "metadata": {},
   "outputs": [
    {
     "name": "stdout",
     "output_type": "stream",
     "text": [
      "0 A\n",
      "1 l\n",
      "A\n",
      "2 a\n",
      "3 m\n",
      "4 i\n",
      "5 n\n"
     ]
    }
   ],
   "source": [
    "for index, data in enumerate(name):\n",
    "    if index == 2:\n",
    "        print(name[index].upper())\n",
    "    print(index, data)"
   ]
  },
  {
   "cell_type": "markdown",
   "id": "b716aa0d",
   "metadata": {},
   "source": [
    "## ***ZIP***"
   ]
  },
  {
   "cell_type": "code",
   "execution_count": 9,
   "id": "8270441a",
   "metadata": {},
   "outputs": [
    {
     "data": {
      "text/plain": [
       "[(1, 'a', 'almain'), (2, 'b', 'aminul'), (3, 'c', 'niloy')]"
      ]
     },
     "execution_count": 9,
     "metadata": {},
     "output_type": "execute_result"
    }
   ],
   "source": [
    "l1 = [1, 2, 3]\n",
    "l2 = ['a', 'b', 'c']\n",
    "l3 = [\"almain\", 'aminul', 'niloy']\n",
    "\n",
    "data = zip(l1, l2, l3)\n",
    "\n",
    "list(data)"
   ]
  },
  {
   "cell_type": "code",
   "execution_count": 11,
   "id": "250e5110",
   "metadata": {},
   "outputs": [
    {
     "name": "stdout",
     "output_type": "stream",
     "text": [
      "0 --> 1 a almain\n",
      "1 --> 2 b aminul\n",
      "2 --> 3 c niloy\n"
     ]
    }
   ],
   "source": [
    "data = zip(l1, l2, l3)\n",
    "for index, (num, char, name) in enumerate(data):\n",
    "    print(index, \"-->\", num, char, name)"
   ]
  },
  {
   "cell_type": "code",
   "execution_count": 12,
   "id": "3c94d5cf",
   "metadata": {},
   "outputs": [
    {
     "data": {
      "text/plain": [
       "[6, 5, 3, 3, 2, 1]"
      ]
     },
     "execution_count": 12,
     "metadata": {},
     "output_type": "execute_result"
    }
   ],
   "source": [
    "sorted([1, 3, 5, 6, 2, 3], reverse=True)"
   ]
  },
  {
   "cell_type": "code",
   "execution_count": null,
   "id": "4245afb5",
   "metadata": {},
   "outputs": [],
   "source": []
  }
 ],
 "metadata": {
  "kernelspec": {
   "display_name": "lang_aca",
   "language": "python",
   "name": "python3"
  },
  "language_info": {
   "codemirror_mode": {
    "name": "ipython",
    "version": 3
   },
   "file_extension": ".py",
   "mimetype": "text/x-python",
   "name": "python",
   "nbconvert_exporter": "python",
   "pygments_lexer": "ipython3",
   "version": "3.11.11"
  }
 },
 "nbformat": 4,
 "nbformat_minor": 5
}
