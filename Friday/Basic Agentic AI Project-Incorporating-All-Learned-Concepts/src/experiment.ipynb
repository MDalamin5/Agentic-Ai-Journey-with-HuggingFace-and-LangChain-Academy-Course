{
 "cells": [
  {
   "cell_type": "code",
   "execution_count": 157,
   "id": "8f79e87f",
   "metadata": {},
   "outputs": [],
   "source": [
    "from pydantic import BaseModel, Field\n",
    "from typing import TypedDict, List, Dict, Annotated, Literal\n",
    "import operator\n",
    "from langgraph.graph import MessagesState\n",
    "from langchain_groq import ChatGroq\n",
    "from dotenv import load_dotenv\n",
    "from langchain_core.messages import HumanMessage, SystemMessage, AnyMessage\n",
    "import os\n",
    "load_dotenv()\n",
    "\n",
    "os.environ[\"GORQ_API_KEY\"]=os.getenv(\"GROQ_API_KEY\")\n",
    "\n",
    "llm = ChatGroq(model=\"meta-llama/llama-4-scout-17b-16e-instruct\")\n",
    "\n",
    "class AgentState(TypedDict):\n",
    "    user_input: Annotated[str, Field(description=\"This is user question.\")]\n",
    "    user_tasks: Annotated[list[str], Field(description=\"The list of user task\")]\n",
    "    # user_notes: Annotated[Dict[str, str], Field(description=\"This is the user all Notes about relevant topics.\"), operator.add]\n",
    "    user_notes: Annotated[list[str], Field(description=\"This is the user all Notes about relevant topics.\")]\n",
    "    output_response: Annotated[str, Field(description=\"Output of the agent like its completed the user assign task.\")]\n",
    "    route_node: str"
   ]
  },
  {
   "cell_type": "code",
   "execution_count": 158,
   "id": "8297ae0e",
   "metadata": {},
   "outputs": [],
   "source": [
    "class RouteInput(BaseModel):\n",
    "    \"\"\"This is router class its define the user next node based on the user input.\"\"\"\n",
    "    \n",
    "    route: Annotated[Literal[\"task_manager\", \"notes_taker\"], Field(description=\"its define based on the user input like what user want to do now.\")]"
   ]
  },
  {
   "cell_type": "code",
   "execution_count": 159,
   "id": "9c5608c4",
   "metadata": {},
   "outputs": [
    {
     "data": {
      "text/plain": [
       "'task_manager'"
      ]
     },
     "execution_count": 159,
     "metadata": {},
     "output_type": "execute_result"
    }
   ],
   "source": [
    "router_planner = llm.with_structured_output(RouteInput)\n",
    "\n",
    "router_planner.invoke(\"Currenly i'm done the math assignment.\").route"
   ]
  },
  {
   "cell_type": "code",
   "execution_count": 160,
   "id": "693876d4",
   "metadata": {},
   "outputs": [],
   "source": [
    "def route_task(state: AgentState):\n",
    "    \"\"\"This is route task node\"\"\"\n",
    "    \n",
    "    print(\"----Route task function-----\")\n",
    "    \n",
    "    input = state[\"user_input\"]\n",
    "    \n",
    "    system_msg = f\"\"\"Think you are a manager and you assign task based on the user input. You have only two option like task_manager which doing to-do related task its just store that task. And another one is notes_taker worker who take the notes or make report based on the user topics.\\n\n",
    "    user input is: {input}\\n\\n\n",
    "    \n",
    "    output will be: task_manager or notes_taker based on the user input.\n",
    "    \"\"\"\n",
    "    \n",
    "    response = router_planner.invoke([SystemMessage(content=system_msg)])\n",
    "    return {\n",
    "        \"route_node\": response.route\n",
    "    }"
   ]
  },
  {
   "cell_type": "code",
   "execution_count": 161,
   "id": "a3793a56",
   "metadata": {},
   "outputs": [],
   "source": [
    "## taskManagerNode\n",
    "def task_manager(state: AgentState):\n",
    "    \"\"\"This is task manager state\"\"\"\n",
    "    \n",
    "    existing_task = state.get(\"user_tasks\", \"\")\n",
    "    \n",
    "    \n",
    "    print(\"---Task Manager Node---\")\n",
    "    system_msg = f\"\"\"Think You are a task manager and you will add user task as the bullet point. If user told you about a task you will add this task in the User task list.\n",
    "    after add the task you will be tell you the user like you add the task in his task list. make sure add the the task in bullet point wise.\\n\n",
    "    this is user existing task: {existing_task} its can be empty. but if not empty the update this list.\n",
    "    if user told like he finish a task then you will be remove this task form the list.\n",
    "    and user input is: {state['user_input']}.\n",
    "    \n",
    "    \n",
    "    \"\"\"\n",
    "    task_list = llm.invoke([SystemMessage(content=system_msg)])\n",
    "    \n",
    "    return {\n",
    "        \"user_tasks\": [task_list.content]\n",
    "    }"
   ]
  },
  {
   "cell_type": "code",
   "execution_count": 162,
   "id": "7428437d",
   "metadata": {},
   "outputs": [],
   "source": [
    "def notes_taker(state: AgentState):\n",
    "    \"\"\"This is node taker node\"\"\"\n",
    "    \n",
    "    system_msg = f\"Take a node based on the user question: {state['user_input']}\"\n",
    "    \n",
    "    response = llm.invoke([SystemMessage(content=system_msg)])\n",
    "    \n",
    "    return {\n",
    "        \"user_notes\": [response.content]\n",
    "    }"
   ]
  },
  {
   "cell_type": "code",
   "execution_count": 163,
   "id": "e9104ecd",
   "metadata": {},
   "outputs": [],
   "source": [
    "def route(state: AgentState):\n",
    "    \"\"\"This is route node\"\"\"\n",
    "    \n",
    "    if state[\"route_node\"] == \"task_manager\":\n",
    "        return \"task_manager\"\n",
    "    else:\n",
    "        return \"notes_taker\""
   ]
  },
  {
   "cell_type": "markdown",
   "id": "be5d51cf",
   "metadata": {},
   "source": [
    "## Build the Graph"
   ]
  },
  {
   "cell_type": "code",
   "execution_count": 164,
   "id": "a25eda00",
   "metadata": {},
   "outputs": [
    {
     "data": {
      "image/png": "[encoded data removed]",
      "text/plain": [
       "<IPython.core.display.Image object>"
      ]
     },
     "metadata": {},
     "output_type": "display_data"
    }
   ],
   "source": [
    "from langgraph.graph import START, END, StateGraph\n",
    "from IPython.display import display, Image\n",
    "from langgraph.checkpoint.memory import MemorySaver\n",
    "\n",
    "builder = StateGraph(AgentState)\n",
    "\n",
    "builder.add_node(\"route_task\", route_task)\n",
    "builder.add_node(\"task_manager\", task_manager)\n",
    "builder.add_node(\"notes_taker\", notes_taker)\n",
    "\n",
    "builder.add_edge(START, \"route_task\")\n",
    "builder.add_conditional_edges(\n",
    "    \"route_task\",\n",
    "    route,\n",
    "    {\n",
    "        \"task_manager\": \"task_manager\",\n",
    "        \"notes_taker\": \"notes_taker\"\n",
    "    }\n",
    ")\n",
    "builder.add_edge(\"task_manager\", END)\n",
    "builder.add_edge(\"notes_taker\", END)\n",
    "\n",
    "memory = MemorySaver()\n",
    "\n",
    "graph = builder.compile(checkpointer=memory)\n",
    "\n",
    "display(Image(graph.get_graph().draw_mermaid_png()))"
   ]
  },
  {
   "cell_type": "code",
   "execution_count": 165,
   "id": "8de50fbc",
   "metadata": {},
   "outputs": [],
   "source": [
    "config = {\"configurable\": {\"thread_id\": \"1\"}}"
   ]
  },
  {
   "cell_type": "code",
   "execution_count": 166,
   "id": "061b10e9",
   "metadata": {},
   "outputs": [
    {
     "name": "stdout",
     "output_type": "stream",
     "text": [
      "----Route task function-----\n",
      "---Task Manager Node---\n"
     ]
    },
    {
     "data": {
      "text/plain": [
       "{'user_input': 'I want to do bike ride today 7pm at Dhaka.',\n",
       " 'user_tasks': [\"I'll add the task to your list.\\n\\nYour current task list:\\n* \\n\\nI've added a new task to your list:\\n\\nYour updated task list:\\n* Bike ride today at 7pm at Dhaka\\n\\nI'll make sure to keep track of your tasks. Let me know if you need to add, remove or update any task! \\n\\nWhat else you want to do?\"],\n",
       " 'route_node': 'task_manager'}"
      ]
     },
     "execution_count": 166,
     "metadata": {},
     "output_type": "execute_result"
    }
   ],
   "source": [
    "graph.invoke(\n",
    "    {\n",
    "        \"user_input\": \"I want to do bike ride today 7pm at Dhaka.\"\n",
    "    },\n",
    "    config=config\n",
    ")"
   ]
  },
  {
   "cell_type": "code",
   "execution_count": 167,
   "id": "10da134c",
   "metadata": {},
   "outputs": [
    {
     "name": "stdout",
     "output_type": "stream",
     "text": [
      "----Route task function-----\n"
     ]
    },
    {
     "data": {
      "text/plain": [
       "{'user_input': 'crate short notes about the Machine learning for my fist class.',\n",
       " 'user_tasks': [\"I'll add the task to your list.\\n\\nYour current task list:\\n* \\n\\nI've added a new task to your list:\\n\\nYour updated task list:\\n* Bike ride today at 7pm at Dhaka\\n\\nI'll make sure to keep track of your tasks. Let me know if you need to add, remove or update any task! \\n\\nWhat else you want to do?\"],\n",
       " 'user_notes': [\"Here are some short notes on Machine Learning for your first class:\\n\\n**What is Machine Learning?**\\n\\n* Machine Learning (ML) is a subset of Artificial Intelligence (AI) that enables machines to learn from data without being explicitly programmed.\\n* It involves training algorithms to make predictions or decisions based on data.\\n\\n**Types of Machine Learning:**\\n\\n1. **Supervised Learning**: The algorithm learns from labeled data to make predictions on new, unseen data.\\n\\t* Examples: Image classification, sentiment analysis\\n2. **Unsupervised Learning**: The algorithm discovers patterns or relationships in unlabeled data.\\n\\t* Examples: Clustering, dimensionality reduction\\n3. **Reinforcement Learning**: The algorithm learns through trial and error by interacting with an environment.\\n\\t* Examples: Robotics, game playing\\n\\n**Key Concepts:**\\n\\n1. **Data**: The fuel for ML algorithms.\\n2. **Model**: A mathematical representation of a system or relationship.\\n3. **Training**: The process of fitting a model to data.\\n4. **Testing**: The process of evaluating a model's performance on new data.\\n\\n**Machine Learning Workflow:**\\n\\n1. **Problem Definition**: Identify a problem to solve.\\n2. **Data Collection**: Gather relevant data.\\n3. **Data Preprocessing**: Clean and prepare data.\\n4. **Model Selection**: Choose a suitable ML algorithm.\\n5. **Training**: Train the model on data.\\n6. **Evaluation**: Test and evaluate the model.\\n\\n**Applications of Machine Learning:**\\n\\n1. **Computer Vision**: Image recognition, object detection\\n2. **Natural Language Processing (NLP)**: Text classification, language translation\\n3. **Speech Recognition**: Speech-to-text systems\\n4. **Recommendation Systems**: Personalized recommendations\\n\\n**Challenges in Machine Learning:**\\n\\n1. **Data Quality**: Noisy or missing data.\\n2. **Overfitting**: Models that are too complex.\\n3. **Underfitting**: Models that are too simple.\\n\\nThese notes should give you a good starting point for your first class on Machine Learning!\"],\n",
       " 'route_node': 'notes_taker'}"
      ]
     },
     "execution_count": 167,
     "metadata": {},
     "output_type": "execute_result"
    }
   ],
   "source": [
    "graph.invoke(\n",
    "    {\n",
    "        \"user_input\": \"crate short notes about the Machine learning for my fist class.\"\n",
    "    },\n",
    "    config=config\n",
    ")"
   ]
  },
  {
   "cell_type": "code",
   "execution_count": 168,
   "id": "70abf833",
   "metadata": {},
   "outputs": [
    {
     "data": {
      "text/plain": [
       "{'user_input': 'crate short notes about the Machine learning for my fist class.',\n",
       " 'user_tasks': [\"I'll add the task to your list.\\n\\nYour current task list:\\n* \\n\\nI've added a new task to your list:\\n\\nYour updated task list:\\n* Bike ride today at 7pm at Dhaka\\n\\nI'll make sure to keep track of your tasks. Let me know if you need to add, remove or update any task! \\n\\nWhat else you want to do?\"],\n",
       " 'user_notes': [\"Here are some short notes on Machine Learning for your first class:\\n\\n**What is Machine Learning?**\\n\\n* Machine Learning (ML) is a subset of Artificial Intelligence (AI) that enables machines to learn from data without being explicitly programmed.\\n* It involves training algorithms to make predictions or decisions based on data.\\n\\n**Types of Machine Learning:**\\n\\n1. **Supervised Learning**: The algorithm learns from labeled data to make predictions on new, unseen data.\\n\\t* Examples: Image classification, sentiment analysis\\n2. **Unsupervised Learning**: The algorithm discovers patterns or relationships in unlabeled data.\\n\\t* Examples: Clustering, dimensionality reduction\\n3. **Reinforcement Learning**: The algorithm learns through trial and error by interacting with an environment.\\n\\t* Examples: Robotics, game playing\\n\\n**Key Concepts:**\\n\\n1. **Data**: The fuel for ML algorithms.\\n2. **Model**: A mathematical representation of a system or relationship.\\n3. **Training**: The process of fitting a model to data.\\n4. **Testing**: The process of evaluating a model's performance on new data.\\n\\n**Machine Learning Workflow:**\\n\\n1. **Problem Definition**: Identify a problem to solve.\\n2. **Data Collection**: Gather relevant data.\\n3. **Data Preprocessing**: Clean and prepare data.\\n4. **Model Selection**: Choose a suitable ML algorithm.\\n5. **Training**: Train the model on data.\\n6. **Evaluation**: Test and evaluate the model.\\n\\n**Applications of Machine Learning:**\\n\\n1. **Computer Vision**: Image recognition, object detection\\n2. **Natural Language Processing (NLP)**: Text classification, language translation\\n3. **Speech Recognition**: Speech-to-text systems\\n4. **Recommendation Systems**: Personalized recommendations\\n\\n**Challenges in Machine Learning:**\\n\\n1. **Data Quality**: Noisy or missing data.\\n2. **Overfitting**: Models that are too complex.\\n3. **Underfitting**: Models that are too simple.\\n\\nThese notes should give you a good starting point for your first class on Machine Learning!\"],\n",
       " 'route_node': 'notes_taker'}"
      ]
     },
     "execution_count": 168,
     "metadata": {},
     "output_type": "execute_result"
    }
   ],
   "source": [
    "graph.get_state(config).values"
   ]
  },
  {
   "cell_type": "code",
   "execution_count": 169,
   "id": "da9d0501",
   "metadata": {},
   "outputs": [
    {
     "name": "stdout",
     "output_type": "stream",
     "text": [
      "----Route task function-----\n"
     ]
    },
    {
     "data": {
      "text/plain": [
       "{'user_input': 'crate short notes about the Deep Learning for my fist class.',\n",
       " 'user_tasks': [\"I'll add the task to your list.\\n\\nYour current task list:\\n* \\n\\nI've added a new task to your list:\\n\\nYour updated task list:\\n* Bike ride today at 7pm at Dhaka\\n\\nI'll make sure to keep track of your tasks. Let me know if you need to add, remove or update any task! \\n\\nWhat else you want to do?\"],\n",
       " 'user_notes': ['Here are some short notes on Deep Learning that you can use for your first class:\\n\\n**What is Deep Learning?**\\n\\n* A subset of Machine Learning (ML) that uses artificial neural networks to analyze data\\n* Inspired by the structure and function of the human brain\\n* Can learn complex patterns in data without manual feature engineering\\n\\n**Key Concepts:**\\n\\n1. **Artificial Neural Networks (ANNs)**: composed of layers of interconnected nodes (neurons) that process and transmit information\\n2. **Deep Neural Networks (DNNs)**: ANNs with multiple hidden layers, allowing for hierarchical representations of data\\n3. **Training**: adjusting network weights and biases to minimize error between predicted and actual outputs\\n\\n**Types of Deep Learning:**\\n\\n1. **Supervised Learning**: predict output labels for given inputs (e.g., image classification)\\n2. **Unsupervised Learning**: discover patterns or relationships in data without labeled outputs (e.g., clustering)\\n3. **Reinforcement Learning**: learn to make decisions through trial and error (e.g., game playing)\\n\\n**Applications of Deep Learning:**\\n\\n1. **Computer Vision**: image recognition, object detection, segmentation\\n2. **Natural Language Processing (NLP)**: text classification, language translation, sentiment analysis\\n3. **Speech Recognition**: speech-to-text systems\\n\\n**Key Architectures:**\\n\\n1. **Convolutional Neural Networks (CNNs)**: for image and video analysis\\n2. **Recurrent Neural Networks (RNNs)**: for sequential data, such as text or speech\\n3. **Generative Adversarial Networks (GANs)**: for generating new data samples\\n\\n**Challenges and Limitations:**\\n\\n1. **Training Time**: can be computationally expensive and require large datasets\\n2. **Overfitting**: models may perform well on training data but poorly on unseen data\\n3. **Interpretability**: complex models can be difficult to understand and explain\\n\\nThese notes should provide a good starting point for your first class on Deep Learning. You can expand on each topic as needed!'],\n",
       " 'route_node': 'notes_taker'}"
      ]
     },
     "execution_count": 169,
     "metadata": {},
     "output_type": "execute_result"
    }
   ],
   "source": [
    "graph.invoke(\n",
    "    {\n",
    "        \"user_input\": \"crate short notes about the Deep Learning for my fist class.\"\n",
    "    },\n",
    "    config=config\n",
    ")"
   ]
  },
  {
   "cell_type": "code",
   "execution_count": null,
   "id": "08505231",
   "metadata": {},
   "outputs": [],
   "source": []
  },
  {
   "cell_type": "code",
   "execution_count": 170,
   "id": "efb94a03",
   "metadata": {},
   "outputs": [
    {
     "name": "stdout",
     "output_type": "stream",
     "text": [
      "--- Checkpoint Found ---\n",
      "Saved State: {'v': 3, 'ts': '2025-05-26T12:30:51.243249+00:00', 'id': '1f03a2d4-284e-6d6b-800a-d53376d04d50', 'channel_versions': {'__start__': '00000000000000000000000000000010.0.926700354835655', 'user_input': '00000000000000000000000000000010.0.6709341117135458', 'branch:to:route_task': '00000000000000000000000000000011.0.4696003667929146', 'route_node': '00000000000000000000000000000011.0.7265127211452905', 'branch:to:task_manager': '00000000000000000000000000000004.0.8609281722027584', 'user_tasks': '00000000000000000000000000000004.0.55322648115796', 'branch:to:notes_taker': '00000000000000000000000000000012.0.021689392629896664', 'user_notes': '00000000000000000000000000000012.0.7081689806261078'}, 'versions_seen': {'__input__': {}, '__start__': {'__start__': '00000000000000000000000000000009.0.4335434946756175'}, 'route_task': {'branch:to:route_task': '00000000000000000000000000000010.0.013821105878307982'}, 'task_manager': {'branch:to:task_manager': '00000000000000000000000000000003.0.2063728800770559'}, 'notes_taker': {'branch:to:notes_taker': '00000000000000000000000000000011.0.6908889153773617'}}, 'channel_values': {'user_input': 'crate short notes about the Deep Learning for my fist class.', 'route_node': 'notes_taker', 'user_tasks': [\"I'll add the task to your list.\\n\\nYour current task list:\\n* \\n\\nI've added a new task to your list:\\n\\nYour updated task list:\\n* Bike ride today at 7pm at Dhaka\\n\\nI'll make sure to keep track of your tasks. Let me know if you need to add, remove or update any task! \\n\\nWhat else you want to do?\"], 'user_notes': ['Here are some short notes on Deep Learning that you can use for your first class:\\n\\n**What is Deep Learning?**\\n\\n* A subset of Machine Learning (ML) that uses artificial neural networks to analyze data\\n* Inspired by the structure and function of the human brain\\n* Can learn complex patterns in data without manual feature engineering\\n\\n**Key Concepts:**\\n\\n1. **Artificial Neural Networks (ANNs)**: composed of layers of interconnected nodes (neurons) that process and transmit information\\n2. **Deep Neural Networks (DNNs)**: ANNs with multiple hidden layers, allowing for hierarchical representations of data\\n3. **Training**: adjusting network weights and biases to minimize error between predicted and actual outputs\\n\\n**Types of Deep Learning:**\\n\\n1. **Supervised Learning**: predict output labels for given inputs (e.g., image classification)\\n2. **Unsupervised Learning**: discover patterns or relationships in data without labeled outputs (e.g., clustering)\\n3. **Reinforcement Learning**: learn to make decisions through trial and error (e.g., game playing)\\n\\n**Applications of Deep Learning:**\\n\\n1. **Computer Vision**: image recognition, object detection, segmentation\\n2. **Natural Language Processing (NLP)**: text classification, language translation, sentiment analysis\\n3. **Speech Recognition**: speech-to-text systems\\n\\n**Key Architectures:**\\n\\n1. **Convolutional Neural Networks (CNNs)**: for image and video analysis\\n2. **Recurrent Neural Networks (RNNs)**: for sequential data, such as text or speech\\n3. **Generative Adversarial Networks (GANs)**: for generating new data samples\\n\\n**Challenges and Limitations:**\\n\\n1. **Training Time**: can be computationally expensive and require large datasets\\n2. **Overfitting**: models may perform well on training data but poorly on unseen data\\n3. **Interpretability**: complex models can be difficult to understand and explain\\n\\nThese notes should provide a good starting point for your first class on Deep Learning. You can expand on each topic as needed!']}, 'pending_sends': []}\n"
     ]
    }
   ],
   "source": [
    "latest_checkpoint = memory.get(config)\n",
    "\n",
    "# Print the checkpoint details\n",
    "if latest_checkpoint:\n",
    "    print(\"--- Checkpoint Found ---\")\n",
    "    # The actual state values are usually in 'channel_values'\n",
    "    print(\"Saved State:\", latest_checkpoint)\n",
    "    # You can also print the whole checkpoint object for more details\n",
    "    # print(\"Full Checkpoint:\", latest_checkpoint)\n",
    "else:\n",
    "    print(\"No checkpoint found for this config.\")\n"
   ]
  },
  {
   "cell_type": "code",
   "execution_count": 171,
   "id": "a1b11667",
   "metadata": {},
   "outputs": [
    {
     "data": {
      "text/plain": [
       "{'user_input': 'crate short notes about the Deep Learning for my fist class.',\n",
       " 'route_node': 'notes_taker',\n",
       " 'user_tasks': [\"I'll add the task to your list.\\n\\nYour current task list:\\n* \\n\\nI've added a new task to your list:\\n\\nYour updated task list:\\n* Bike ride today at 7pm at Dhaka\\n\\nI'll make sure to keep track of your tasks. Let me know if you need to add, remove or update any task! \\n\\nWhat else you want to do?\"],\n",
       " 'user_notes': ['Here are some short notes on Deep Learning that you can use for your first class:\\n\\n**What is Deep Learning?**\\n\\n* A subset of Machine Learning (ML) that uses artificial neural networks to analyze data\\n* Inspired by the structure and function of the human brain\\n* Can learn complex patterns in data without manual feature engineering\\n\\n**Key Concepts:**\\n\\n1. **Artificial Neural Networks (ANNs)**: composed of layers of interconnected nodes (neurons) that process and transmit information\\n2. **Deep Neural Networks (DNNs)**: ANNs with multiple hidden layers, allowing for hierarchical representations of data\\n3. **Training**: adjusting network weights and biases to minimize error between predicted and actual outputs\\n\\n**Types of Deep Learning:**\\n\\n1. **Supervised Learning**: predict output labels for given inputs (e.g., image classification)\\n2. **Unsupervised Learning**: discover patterns or relationships in data without labeled outputs (e.g., clustering)\\n3. **Reinforcement Learning**: learn to make decisions through trial and error (e.g., game playing)\\n\\n**Applications of Deep Learning:**\\n\\n1. **Computer Vision**: image recognition, object detection, segmentation\\n2. **Natural Language Processing (NLP)**: text classification, language translation, sentiment analysis\\n3. **Speech Recognition**: speech-to-text systems\\n\\n**Key Architectures:**\\n\\n1. **Convolutional Neural Networks (CNNs)**: for image and video analysis\\n2. **Recurrent Neural Networks (RNNs)**: for sequential data, such as text or speech\\n3. **Generative Adversarial Networks (GANs)**: for generating new data samples\\n\\n**Challenges and Limitations:**\\n\\n1. **Training Time**: can be computationally expensive and require large datasets\\n2. **Overfitting**: models may perform well on training data but poorly on unseen data\\n3. **Interpretability**: complex models can be difficult to understand and explain\\n\\nThese notes should provide a good starting point for your first class on Deep Learning. You can expand on each topic as needed!']}"
      ]
     },
     "execution_count": 171,
     "metadata": {},
     "output_type": "execute_result"
    }
   ],
   "source": [
    "latest_checkpoint['channel_values']"
   ]
  },
  {
   "cell_type": "code",
   "execution_count": null,
   "id": "ca918f54",
   "metadata": {},
   "outputs": [],
   "source": []
  }
 ],
 "metadata": {
  "kernelspec": {
   "display_name": "lang_aca",
   "language": "python",
   "name": "python3"
  },
  "language_info": {
   "codemirror_mode": {
    "name": "ipython",
    "version": 3
   },
   "file_extension": ".py",
   "mimetype": "text/x-python",
   "name": "python",
   "nbconvert_exporter": "python",
   "pygments_lexer": "ipython3",
   "version": "3.11.11"
  }
 },
 "nbformat": 4,
 "nbformat_minor": 5
}
