{
 "cells": [
  {
   "cell_type": "markdown",
   "id": "a87004c3",
   "metadata": {},
   "source": [
    "Supervisor is a multi-agent architecture where specialized agents are coordinated by a central supervisor agent. The supervisor agent controls all communication flow and task delegation, making decisions about which agent to invoke based on the current context and task requirements.\n",
    "\n",
    "![Supervisor](supervisor-agent.png)"
   ]
  },
  {
   "cell_type": "code",
   "execution_count": null,
   "id": "2a9f9c1d",
   "metadata": {},
   "outputs": [],
   "source": []
  }
 ],
 "metadata": {
  "kernelspec": {
   "display_name": "lang_aca",
   "language": "python",
   "name": "python3"
  },
  "language_info": {
   "name": "python",
   "version": "3.11.11"
  }
 },
 "nbformat": 4,
 "nbformat_minor": 5
}
