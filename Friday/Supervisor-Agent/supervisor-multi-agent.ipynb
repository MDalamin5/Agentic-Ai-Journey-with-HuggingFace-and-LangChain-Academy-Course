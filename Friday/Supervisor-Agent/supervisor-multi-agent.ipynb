{
 "cells": [
  {
   "cell_type": "markdown",
   "id": "a87004c3",
   "metadata": {},
   "source": [
    "Supervisor is a multi-agent architecture where specialized agents are coordinated by a central supervisor agent. The supervisor agent controls all communication flow and task delegation, making decisions about which agent to invoke based on the current context and task requirements.\n",
    "\n",
    "![Supervisor](supervisor-agent.png)"
   ]
  },
  {
   "cell_type": "code",
   "execution_count": 19,
   "id": "2a9f9c1d",
   "metadata": {},
   "outputs": [],
   "source": [
    "from langchain_groq import ChatGroq\n",
    "from dotenv import load_dotenv\n",
    "import os\n",
    "from pprint import pprint\n",
    "from langchain_core.messages import HumanMessage, AIMessage\n",
    "\n",
    "load_dotenv()\n",
    "groq_api_key  = os.getenv(\"GROQ_API_KEY\")\n",
    "os.environ[\"TAVILY_API_KEY\"]=os.getenv(\"TAVILY_API_KEY\")\n",
    "weather_api = os.getenv(\"WEATHER_API\")\n",
    "groq_api_key = os.getenv(\"GROQ_API_KEY\")\n",
    "\n",
    "## langsmith Tracing\n",
    "os.environ[\"LANGCHAIN_API_KEY\"]= os.getenv(\"LANGCHAIN_API_KEY\")\n",
    "os.environ[\"LANGSMITH_TRACING\"] = \"true\"\n",
    "os.environ[\"LANGSMITH_PROJECT\"] = \"Supervisor Multi Agent\"\n",
    "\n",
    "llm = ChatGroq(model_name=\"meta-llama/llama-4-scout-17b-16e-instruct\", groq_api_key=groq_api_key)"
   ]
  },
  {
   "cell_type": "code",
   "execution_count": 20,
   "id": "0dabf87b",
   "metadata": {},
   "outputs": [],
   "source": [
    "from langchain_tavily import TavilySearch\n",
    "\n",
    "web_search = TavilySearch(max_results=3)"
   ]
  },
  {
   "cell_type": "code",
   "execution_count": 21,
   "id": "3bfe2cde",
   "metadata": {},
   "outputs": [],
   "source": [
    "import requests\n",
    "from langchain_core.tools import tool\n",
    "\n",
    "@tool\n",
    "def get_weather_data(city: str) -> str:\n",
    "    \"\"\"\n",
    "    This function fetches the current weather data for a given city\n",
    "    \"\"\"\n",
    "    url = f\"http://api.weatherstack.com/current?access_key={weather_api}&query={city}\"\n",
    "    response = requests.get(url)\n",
    "    return response.json()"
   ]
  },
  {
   "cell_type": "code",
   "execution_count": 22,
   "id": "275ccd01",
   "metadata": {},
   "outputs": [
    {
     "data": {
      "text/plain": [
       "{'request': {'type': 'City',\n",
       "  'query': 'Dhaka, Bangladesh',\n",
       "  'language': 'en',\n",
       "  'unit': 'm'},\n",
       " 'location': {'name': 'Dhaka',\n",
       "  'country': 'Bangladesh',\n",
       "  'region': '',\n",
       "  'lat': '23.723',\n",
       "  'lon': '90.409',\n",
       "  'timezone_id': 'Asia/Dhaka',\n",
       "  'localtime': '2025-05-16 20:59',\n",
       "  'localtime_epoch': 1747429140,\n",
       "  'utc_offset': '6.0'},\n",
       " 'current': {'observation_time': '02:59 PM',\n",
       "  'temperature': 29,\n",
       "  'weather_code': 176,\n",
       "  'weather_icons': ['https://cdn.worldweatheronline.com/images/wsymbols01_png_64/wsymbol_0025_light_rain_showers_night.png'],\n",
       "  'weather_descriptions': ['Patchy rain nearby'],\n",
       "  'astro': {'sunrise': '05:16 AM',\n",
       "   'sunset': '06:34 PM',\n",
       "   'moonrise': '10:01 PM',\n",
       "   'moonset': '07:40 AM',\n",
       "   'moon_phase': 'Waning Gibbous',\n",
       "   'moon_illumination': 90},\n",
       "  'air_quality': {'co': '458.8',\n",
       "   'no2': '7.215',\n",
       "   'o3': '123',\n",
       "   'so2': '12.395',\n",
       "   'pm2_5': '57.72',\n",
       "   'pm10': '85.47',\n",
       "   'us-epa-index': '3',\n",
       "   'gb-defra-index': '3'},\n",
       "  'wind_speed': 16,\n",
       "  'wind_degree': 200,\n",
       "  'wind_dir': 'SSW',\n",
       "  'pressure': 1005,\n",
       "  'precip': 0.2,\n",
       "  'humidity': 67,\n",
       "  'cloudcover': 88,\n",
       "  'feelslike': 33,\n",
       "  'uv_index': 0,\n",
       "  'visibility': 9,\n",
       "  'is_day': 'no'}}"
      ]
     },
     "execution_count": 22,
     "metadata": {},
     "output_type": "execute_result"
    }
   ],
   "source": [
    "get_weather_data.invoke(\n",
    "    {\n",
    "        \"city\": \"Dhaka\"\n",
    "    }\n",
    ")"
   ]
  },
  {
   "cell_type": "markdown",
   "id": "9d324c17",
   "metadata": {},
   "source": [
    "## build the Search agent"
   ]
  },
  {
   "cell_type": "code",
   "execution_count": 24,
   "id": "68226c3f",
   "metadata": {},
   "outputs": [],
   "source": [
    "from langgraph.prebuilt import create_react_agent\n",
    "\n",
    "research_agent = create_react_agent(\n",
    "    model=llm,\n",
    "    tools=[web_search],\n",
    "    prompt=(\n",
    "        \"You are a research agent.\\n\\n\"\n",
    "        \"INSTRUCTIONS:\\n\"\n",
    "        \"- Assist ONLY with research-related tasks, DO NOT do any math\\n\"\n",
    "        \"- After you're done with your tasks, respond to the supervisor directly\\n\"\n",
    "        \"- Respond ONLY with the results of your work, do NOT include ANY other text.\"\n",
    "    ),\n",
    "    name=\"research_agent\",\n",
    ")"
   ]
  },
  {
   "cell_type": "code",
   "execution_count": 26,
   "id": "b4527434",
   "metadata": {},
   "outputs": [],
   "source": [
    "response = research_agent.invoke(\n",
    "    {\n",
    "        \"messages\": [HumanMessage(content=\"Name of the capital of bangladesh\")]\n",
    "    }\n",
    ")"
   ]
  },
  {
   "cell_type": "code",
   "execution_count": 27,
   "id": "87da2bbf",
   "metadata": {},
   "outputs": [
    {
     "name": "stdout",
     "output_type": "stream",
     "text": [
      "================================\u001b[1m Human Message \u001b[0m=================================\n",
      "\n",
      "Name of the capital of bangladesh\n",
      "==================================\u001b[1m Ai Message \u001b[0m==================================\n",
      "Name: research_agent\n",
      "Tool Calls:\n",
      "  tavily_search (call_96cj)\n",
      " Call ID: call_96cj\n",
      "  Args:\n",
      "    query: capital of bangladesh\n",
      "    search_depth: basic\n",
      "    topic: general\n",
      "=================================\u001b[1m Tool Message \u001b[0m=================================\n",
      "Name: tavily_search\n",
      "\n",
      "{\"query\": \"capital of bangladesh\", \"follow_up_questions\": null, \"answer\": null, \"images\": [], \"results\": [{\"title\": \"What Is The Capital Of Bangladesh? - WorldAtlas\", \"url\": \"https://www.worldatlas.com/articles/what-is-the-capital-of-bangladesh.html\", \"content\": \"Learn about the history, geography, and culture of Dhaka, the largest and most populous city in Bangladesh. Find out how Dhaka became the capital of Bangladesh in 1971 and what makes it a unique and diverse city.\", \"score\": 0.8742601, \"raw_content\": null}, {\"title\": \"Bangladesh | History, Capital, Map, Flag, Population, Pronunciation ...\", \"url\": \"https://www.britannica.com/place/Bangladesh\", \"content\": \"Bangladesh,  country of South Asia, located in the delta of the Padma (Ganges [Ganga]) and Jamuna (Brahmaputra) rivers in the northeastern part of the Indian subcontinent. In the northeast and southeast—in the Sylhet and Chittagong Hills areas, respectively—the alluvial plains give place to ridges, running mainly north-south, that form part of the mountains that separate Bangladesh from Myanmar and India. In east-central Bangladesh the Brahmaputra River in its old course (the Old Brahmaputra River) built up the flood basin of the Meghna River, the region that includes the low and fertile Meghna-Sitalakhya Doab (the land area between those rivers). Lying to the south of the Feni River in southeastern Bangladesh is the Chittagong region, which has many hills, hillocks, valleys, and forests and is quite different in aspect from other parts of the country.\", \"score\": 0.5315261, \"raw_content\": null}, {\"title\": \"Dhaka - Wikipedia\", \"url\": \"https://en.wikipedia.org/wiki/Dhaka\", \"content\": \"Bandung | | show * v * t * e Megacities | | --- | | Africa (5) | * Cairo * Johannesburg * Kinshasa * Lagos * Luanda | | Asia (37) | | China (16) | * Beijing * Changsha * Chengdu * Chongqing * Guangzhou * Dongguan * Shenzhen * Hangzhou * Jieyang * Shanghai * Suzhou * Tianjin * Wuhan * Xiamen * Xi'an * Zhengzhou | | --- | | India (6) | * Bangalore * Chennai * Delhi * Hyderabad * Kolkata * Mumbai | | Japan (3) | * Kyoto–Osaka–Kobe (Keihanshin) * Nagoya * Tokyo | | Indonesia (2) | * Jakarta * Surabaya | | Pakistan (2) | * Karachi * Lahore | | Other (8) | * Bangkok * Dhaka * Ho Chi Minh City * Istanbul * Metro Manila * Seoul * Taipei * Tehran | | | Europe (4) | * Istanbul * London * Moscow * Paris | | America (8) | | Brazil (2) | * Rio de Janeiro * São Paulo | | --- | | United States (2) | * Los Angeles * New York City | | Other (4) | * Bogotá * Buenos Aires * Lima * Mexico City | | | Cities portal** | |\", \"score\": 0.26257628, \"raw_content\": null}], \"response_time\": 1.82}\n",
      "==================================\u001b[1m Ai Message \u001b[0m==================================\n",
      "Name: research_agent\n",
      "\n",
      "The capital of Bangladesh is Dhaka.\n"
     ]
    }
   ],
   "source": [
    "for m in response['messages']:\n",
    "    m.pretty_print()"
   ]
  },
  {
   "cell_type": "code",
   "execution_count": 37,
   "id": "95865f6d",
   "metadata": {},
   "outputs": [],
   "source": [
    "weather_agent = create_react_agent(\n",
    "    model=llm,\n",
    "    tools=[get_weather_data],\n",
    "    prompt=(\n",
    "        \"You are a Weather agent.\\n\\n\"\n",
    "        \"INSTRUCTIONS:\\n\"\n",
    "        \"- Assist ONLY with when need to know actual weather info of any city, DO NOT do any math or other task\\n\"\n",
    "        \"- After you're done with your tasks, respond to the supervisor directly\\n\"\n",
    "        \"- Respond ONLY with the results(weather condition and temperature) of your work, do NOT include ANY other text.\"\n",
    "    ),\n",
    "    name=\"weather_agent\",\n",
    ")"
   ]
  },
  {
   "cell_type": "code",
   "execution_count": 38,
   "id": "f39ef9ca",
   "metadata": {},
   "outputs": [],
   "source": [
    "response = weather_agent.invoke(\n",
    "    {\n",
    "        \"messages\": [HumanMessage(content=\"Name of the weather condition today in Dhaka?\")]\n",
    "    }\n",
    ")"
   ]
  },
  {
   "cell_type": "code",
   "execution_count": 39,
   "id": "3939d77b",
   "metadata": {},
   "outputs": [
    {
     "name": "stdout",
     "output_type": "stream",
     "text": [
      "================================\u001b[1m Human Message \u001b[0m=================================\n",
      "\n",
      "Name of the weather condition today in Dhaka?\n",
      "==================================\u001b[1m Ai Message \u001b[0m==================================\n",
      "Name: weather_agent\n",
      "Tool Calls:\n",
      "  get_weather_data (call_q4d4)\n",
      " Call ID: call_q4d4\n",
      "  Args:\n",
      "    city: Dhaka\n",
      "=================================\u001b[1m Tool Message \u001b[0m=================================\n",
      "Name: get_weather_data\n",
      "\n",
      "{\"request\": {\"type\": \"City\", \"query\": \"Dhaka, Bangladesh\", \"language\": \"en\", \"unit\": \"m\"}, \"location\": {\"name\": \"Dhaka\", \"country\": \"Bangladesh\", \"region\": \"\", \"lat\": \"23.723\", \"lon\": \"90.409\", \"timezone_id\": \"Asia/Dhaka\", \"localtime\": \"2025-05-16 21:11\", \"localtime_epoch\": 1747429860, \"utc_offset\": \"6.0\"}, \"current\": {\"observation_time\": \"03:11 PM\", \"temperature\": 29, \"weather_code\": 113, \"weather_icons\": [\"https://cdn.worldweatheronline.com/images/wsymbols01_png_64/wsymbol_0008_clear_sky_night.png\"], \"weather_descriptions\": [\"Clear \"], \"astro\": {\"sunrise\": \"05:16 AM\", \"sunset\": \"06:34 PM\", \"moonrise\": \"10:01 PM\", \"moonset\": \"07:40 AM\", \"moon_phase\": \"Waning Gibbous\", \"moon_illumination\": 90}, \"air_quality\": {\"co\": \"486.55\", \"no2\": \"10.545\", \"o3\": \"119\", \"so2\": \"13.32\", \"pm2_5\": \"57.35\", \"pm10\": \"85.1\", \"us-epa-index\": \"3\", \"gb-defra-index\": \"3\"}, \"wind_speed\": 20, \"wind_degree\": 151, \"wind_dir\": \"SSE\", \"pressure\": 1005, \"precip\": 0, \"humidity\": 67, \"cloudcover\": 13, \"feelslike\": 32, \"uv_index\": 0, \"visibility\": 10, \"is_day\": \"no\"}}\n",
      "==================================\u001b[1m Ai Message \u001b[0m==================================\n",
      "Name: weather_agent\n",
      "\n",
      "Clear, 29°C\n"
     ]
    }
   ],
   "source": [
    "for m in response['messages']:\n",
    "    m.pretty_print()"
   ]
  },
  {
   "cell_type": "markdown",
   "id": "9f0b1a8c",
   "metadata": {},
   "source": [
    "## Math agent"
   ]
  },
  {
   "cell_type": "code",
   "execution_count": 40,
   "id": "c51b736a",
   "metadata": {},
   "outputs": [],
   "source": [
    "def add(a: float, b: float):\n",
    "    \"\"\"Add two numbers.\"\"\"\n",
    "    return a + b\n",
    "\n",
    "\n",
    "def multiply(a: float, b: float):\n",
    "    \"\"\"Multiply two numbers.\"\"\"\n",
    "    return a * b\n",
    "\n",
    "\n",
    "def divide(a: float, b: float):\n",
    "    \"\"\"Divide two numbers.\"\"\"\n",
    "    return a / b\n",
    "\n",
    "\n",
    "math_agent = create_react_agent(\n",
    "    model=llm,\n",
    "    tools=[add, multiply, divide],\n",
    "    prompt=(\n",
    "        \"You are a math agent.\\n\\n\"\n",
    "        \"INSTRUCTIONS:\\n\"\n",
    "        \"- Assist ONLY with math-related tasks\\n\"\n",
    "        \"- After you're done with your tasks, respond to the supervisor directly\\n\"\n",
    "        \"- Respond ONLY with the results of your work, do NOT include ANY other text.\"\n",
    "    ),\n",
    "    name=\"math_agent\",\n",
    ")"
   ]
  },
  {
   "cell_type": "code",
   "execution_count": 43,
   "id": "a74071b3",
   "metadata": {},
   "outputs": [],
   "source": [
    "from langgraph_supervisor import create_supervisor\n",
    "from langchain.chat_models import init_chat_model\n",
    "from langgraph.graph import MessagesState\n",
    "\n",
    "supervisor = create_supervisor(\n",
    "    model=llm,\n",
    "    agents=[research_agent, math_agent, weather_agent],\n",
    "    prompt=(\n",
    "        \"You are a supervisor managing two agents:\\n\"\n",
    "        \"- a research agent. Assign research-related tasks to this agent\\n\"\n",
    "        \"- a math agent. Assign math-related tasks to this agent\\n\"\n",
    "        \"- a Weather agent Assign to get realtime weather of any city related tasks to this agent\\n\"\n",
    "        \"Assign work to one agent at a time, do not call agents in parallel.\\n\"\n",
    "        \"Do not do any work yourself.\"\n",
    "    ),\n",
    "    add_handoff_back_messages=True,\n",
    "    output_mode=\"full_history\",\n",
    ").compile()"
   ]
  },
  {
   "cell_type": "code",
   "execution_count": 49,
   "id": "65290742",
   "metadata": {},
   "outputs": [],
   "source": [
    "response = supervisor.invoke(\n",
    "    {\n",
    "        \"messages\": [HumanMessage(content=\"Find the capital of Bangladesh, then find the its current weather condition today.\")]\n",
    "    }\n",
    ")\n"
   ]
  },
  {
   "cell_type": "code",
   "execution_count": 50,
   "id": "5cc4f17e",
   "metadata": {},
   "outputs": [
    {
     "name": "stdout",
     "output_type": "stream",
     "text": [
      "================================\u001b[1m Human Message \u001b[0m=================================\n",
      "\n",
      "Find the capital of Bangladesh, then find the its current weather condition today.\n",
      "==================================\u001b[1m Ai Message \u001b[0m==================================\n",
      "Name: supervisor\n",
      "Tool Calls:\n",
      "  transfer_to_research_agent (call_ekef)\n",
      " Call ID: call_ekef\n",
      "  Args:\n",
      "    query: What is the capital of Bangladesh?\n",
      "=================================\u001b[1m Tool Message \u001b[0m=================================\n",
      "Name: transfer_to_research_agent\n",
      "\n",
      "Successfully transferred to research_agent\n",
      "==================================\u001b[1m Ai Message \u001b[0m==================================\n",
      "Name: research_agent\n",
      "Tool Calls:\n",
      "  tavily_search (call_jtfa)\n",
      " Call ID: call_jtfa\n",
      "  Args:\n",
      "    query: What is the capital of Bangladesh?\n",
      "=================================\u001b[1m Tool Message \u001b[0m=================================\n",
      "Name: tavily_search\n",
      "\n",
      "{\"query\": \"What is the capital of Bangladesh?\", \"follow_up_questions\": null, \"answer\": null, \"images\": [], \"results\": [{\"title\": \"What Is The Capital Of Bangladesh? - WorldAtlas\", \"url\": \"https://www.worldatlas.com/articles/what-is-the-capital-of-bangladesh.html\", \"content\": \"Lying along the east bank of the Buriganga River in the heart of the Bengal delta is Dhaka, the capital of Bangladesh. Dhaka is the largest city in Bangladesh and is the cultural and economic hub of the country. Ever since the city was made the capital of Bangladesh, Dhaka has grown in population, area coverage, and social and economic diversity. Dhaka is not only the largest city in Bangladesh, but it is also one of the major cities in South Asia. Dhaka is home to an estimated population of about 17 million people and is one of the world’s most densely populated cities in the world. Dhaka is not only home to the national stadium but houses many of Bangladesh's top stars in cricket.\", \"score\": 0.94401723, \"raw_content\": null}, {\"title\": \"Bangladesh | History, Capital, Map, Flag, Population, Pronunciation ...\", \"url\": \"https://www.britannica.com/place/Bangladesh\", \"content\": \"Bangladesh,  country of South Asia, located in the delta of the Padma (Ganges [Ganga]) and Jamuna (Brahmaputra) rivers in the northeastern part of the Indian subcontinent. In the northeast and southeast—in the Sylhet and Chittagong Hills areas, respectively—the alluvial plains give place to ridges, running mainly north-south, that form part of the mountains that separate Bangladesh from Myanmar and India. In east-central Bangladesh the Brahmaputra River in its old course (the Old Brahmaputra River) built up the flood basin of the Meghna River, the region that includes the low and fertile Meghna-Sitalakhya Doab (the land area between those rivers). Lying to the south of the Feni River in southeastern Bangladesh is the Chittagong region, which has many hills, hillocks, valleys, and forests and is quite different in aspect from other parts of the country.\", \"score\": 0.5248093, \"raw_content\": null}, {\"title\": \"Dhaka - Wikipedia\", \"url\": \"https://en.wikipedia.org/wiki/Dhaka\", \"content\": \"Bandung | | show * v * t * e Megacities | | --- | | Africa (5) | * Cairo * Johannesburg * Kinshasa * Lagos * Luanda | | Asia (37) | | China (16) | * Beijing * Changsha * Chengdu * Chongqing * Guangzhou * Dongguan * Shenzhen * Hangzhou * Jieyang * Shanghai * Suzhou * Tianjin * Wuhan * Xiamen * Xi'an * Zhengzhou | | --- | | India (6) | * Bangalore * Chennai * Delhi * Hyderabad * Kolkata * Mumbai | | Japan (3) | * Kyoto–Osaka–Kobe (Keihanshin) * Nagoya * Tokyo | | Indonesia (2) | * Jakarta * Surabaya | | Pakistan (2) | * Karachi * Lahore | | Other (8) | * Bangkok * Dhaka * Ho Chi Minh City * Istanbul * Metro Manila * Seoul * Taipei * Tehran | | | Europe (4) | * Istanbul * London * Moscow * Paris | | America (8) | | Brazil (2) | * Rio de Janeiro * São Paulo | | --- | | United States (2) | * Los Angeles * New York City | | Other (4) | * Bogotá * Buenos Aires * Lima * Mexico City | | | Cities portal** | |\", \"score\": 0.50168514, \"raw_content\": null}], \"response_time\": 1.6}\n",
      "==================================\u001b[1m Ai Message \u001b[0m==================================\n",
      "Name: research_agent\n",
      "Tool Calls:\n",
      "  tavily_search (call_mzwv)\n",
      " Call ID: call_mzwv\n",
      "  Args:\n",
      "    query: Dhaka current weather condition today\n",
      "=================================\u001b[1m Tool Message \u001b[0m=================================\n",
      "Name: tavily_search\n",
      "\n",
      "{\"query\": \"Dhaka current weather condition today\", \"follow_up_questions\": null, \"answer\": null, \"images\": [], \"results\": [{\"title\": \"Weather in Dhaka\", \"url\": \"https://www.weatherapi.com/\", \"content\": \"{'location': {'name': 'Dhaka', 'region': '', 'country': 'Bangladesh', 'lat': 23.7231, 'lon': 90.4086, 'tz_id': 'Asia/Dhaka', 'localtime_epoch': 1747409348, 'localtime': '2025-05-16 21:29'}, 'current': {'last_updated_epoch': 1747408500, 'last_updated': '2025-05-16 21:15', 'temp_c': 28.7, 'temp_f': 83.6, 'is_day': 0, 'condition': {'text': 'Clear', 'icon': '//cdn.weatherapi.com/weather/64x64/night/113.png', 'code': 1000}, 'wind_mph': 12.3, 'wind_kph': 19.8, 'wind_degree': 151, 'wind_dir': 'SSE', 'pressure_mb': 1005.0, 'pressure_in': 29.66, 'precip_mm': 0.0, 'precip_in': 0.0, 'humidity': 67, 'cloud': 13, 'feelslike_c': 31.8, 'feelslike_f': 89.2, 'windchill_c': 28.7, 'windchill_f': 83.6, 'heatindex_c': 31.8, 'heatindex_f': 89.2, 'dewpoint_c': 22.1, 'dewpoint_f': 71.7, 'vis_km': 10.0, 'vis_miles': 6.0, 'uv': 0.0, 'gust_mph': 19.0, 'gust_kph': 30.5}}\", \"score\": 0.9871812, \"raw_content\": null}, {\"title\": \"Weather in Dhaka in May 2025 (Dhaka Division) - Detailed Weather ...\", \"url\": \"https://world-weather.info/forecast/bangladesh/dhaka/may-2025/\", \"content\": \"Detailed ⚡ Dhaka Weather Forecast for May 2025 - day/night 🌡️ temperatures, precipitations - World-Weather.info. Add the current city. Search. Weather; Archive; Widgets °F. World; Bangladesh; Weather in Dhaka; Weather in Dhaka in May 2025. ... 16 +95° +84° 17 +93° +84° 18\", \"score\": 0.9317675, \"raw_content\": null}, {\"title\": \"Dhaka weather in May 2025 | Dhaka 14 day weather\", \"url\": \"https://www.weather25.com/asia/bangladesh/dhaka?page=month&month=May\", \"content\": \"Full weather forecast for Dhaka in May 2025. Check the temperatures, chance of rain and more in Dhaka during May. United States England Australia Canada °F °C. Dhaka . Weather in May 2025 . Overview ; 14 Days ; May ; June ; Long range ; ... 16. 38 ° / 28 ° 17. 37 ° / 28 ° 18\", \"score\": 0.9051298, \"raw_content\": null}], \"response_time\": 2.67}\n",
      "==================================\u001b[1m Ai Message \u001b[0m==================================\n",
      "Name: research_agent\n",
      "\n",
      "The capital of Bangladesh is Dhaka. The current weather condition in Dhaka today is clear with a temperature of 28.7°C (83.6°F).\n",
      "==================================\u001b[1m Ai Message \u001b[0m==================================\n",
      "Name: research_agent\n",
      "\n",
      "Transferring back to supervisor\n",
      "Tool Calls:\n",
      "  transfer_back_to_supervisor (6122b940-7b5a-42b2-b6a6-ed49dc951755)\n",
      " Call ID: 6122b940-7b5a-42b2-b6a6-ed49dc951755\n",
      "  Args:\n",
      "=================================\u001b[1m Tool Message \u001b[0m=================================\n",
      "Name: transfer_back_to_supervisor\n",
      "\n",
      "Successfully transferred back to supervisor\n",
      "==================================\u001b[1m Ai Message \u001b[0m==================================\n",
      "Name: supervisor\n",
      "Tool Calls:\n",
      "  transfer_to_weather_agent (call_57v9)\n",
      " Call ID: call_57v9\n",
      "  Args:\n",
      "    city: Dhaka\n",
      "=================================\u001b[1m Tool Message \u001b[0m=================================\n",
      "Name: transfer_to_weather_agent\n",
      "\n",
      "Successfully transferred to weather_agent\n",
      "==================================\u001b[1m Ai Message \u001b[0m==================================\n",
      "Name: weather_agent\n",
      "Tool Calls:\n",
      "  get_weather_data (call_47pe)\n",
      " Call ID: call_47pe\n",
      "  Args:\n",
      "    city: Dhaka\n",
      "=================================\u001b[1m Tool Message \u001b[0m=================================\n",
      "Name: get_weather_data\n",
      "\n",
      "{\"request\": {\"type\": \"City\", \"query\": \"Dhaka, Bangladesh\", \"language\": \"en\", \"unit\": \"m\"}, \"location\": {\"name\": \"Dhaka\", \"country\": \"Bangladesh\", \"region\": \"\", \"lat\": \"23.723\", \"lon\": \"90.409\", \"timezone_id\": \"Asia/Dhaka\", \"localtime\": \"2025-05-16 21:28\", \"localtime_epoch\": 1747430880, \"utc_offset\": \"6.0\"}, \"current\": {\"observation_time\": \"03:28 PM\", \"temperature\": 29, \"weather_code\": 113, \"weather_icons\": [\"https://cdn.worldweatheronline.com/images/wsymbols01_png_64/wsymbol_0008_clear_sky_night.png\"], \"weather_descriptions\": [\"Clear \"], \"astro\": {\"sunrise\": \"05:16 AM\", \"sunset\": \"06:34 PM\", \"moonrise\": \"10:01 PM\", \"moonset\": \"07:40 AM\", \"moon_phase\": \"Waning Gibbous\", \"moon_illumination\": 90}, \"air_quality\": {\"co\": \"486.55\", \"no2\": \"10.545\", \"o3\": \"119\", \"so2\": \"13.32\", \"pm2_5\": \"57.35\", \"pm10\": \"85.1\", \"us-epa-index\": \"3\", \"gb-defra-index\": \"3\"}, \"wind_speed\": 20, \"wind_degree\": 151, \"wind_dir\": \"SSE\", \"pressure\": 1005, \"precip\": 0, \"humidity\": 67, \"cloudcover\": 13, \"feelslike\": 32, \"uv_index\": 0, \"visibility\": 10, \"is_day\": \"no\"}}\n",
      "==================================\u001b[1m Ai Message \u001b[0m==================================\n",
      "Name: weather_agent\n",
      "\n",
      "Clear, 29°C\n",
      "==================================\u001b[1m Ai Message \u001b[0m==================================\n",
      "Name: weather_agent\n",
      "\n",
      "Transferring back to supervisor\n",
      "Tool Calls:\n",
      "  transfer_back_to_supervisor (3abaf720-29c0-4081-b8c2-bc857801a4dc)\n",
      " Call ID: 3abaf720-29c0-4081-b8c2-bc857801a4dc\n",
      "  Args:\n",
      "=================================\u001b[1m Tool Message \u001b[0m=================================\n",
      "Name: transfer_back_to_supervisor\n",
      "\n",
      "Successfully transferred back to supervisor\n",
      "==================================\u001b[1m Ai Message \u001b[0m==================================\n",
      "Name: supervisor\n",
      "\n",
      "The capital of Bangladesh is Dhaka. The current weather condition in Dhaka today is clear with a temperature of 29°C.\n"
     ]
    }
   ],
   "source": [
    "for m in response['messages']:\n",
    "    m.pretty_print()"
   ]
  },
  {
   "cell_type": "code",
   "execution_count": null,
   "id": "2d4d4e6d",
   "metadata": {},
   "outputs": [],
   "source": []
  }
 ],
 "metadata": {
  "kernelspec": {
   "display_name": "lang_aca",
   "language": "python",
   "name": "python3"
  },
  "language_info": {
   "codemirror_mode": {
    "name": "ipython",
    "version": 3
   },
   "file_extension": ".py",
   "mimetype": "text/x-python",
   "name": "python",
   "nbconvert_exporter": "python",
   "pygments_lexer": "ipython3",
   "version": "3.11.11"
  }
 },
 "nbformat": 4,
 "nbformat_minor": 5
}
