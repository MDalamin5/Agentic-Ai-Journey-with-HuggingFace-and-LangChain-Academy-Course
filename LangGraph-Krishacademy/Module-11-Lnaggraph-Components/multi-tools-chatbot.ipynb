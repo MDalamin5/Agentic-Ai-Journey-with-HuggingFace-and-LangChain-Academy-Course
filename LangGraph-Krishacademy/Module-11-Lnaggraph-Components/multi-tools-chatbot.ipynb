{
 "cells": [
  {
   "cell_type": "code",
   "execution_count": 1,
   "id": "074351ab",
   "metadata": {},
   "outputs": [],
   "source": [
    "from langchain_groq import ChatGroq\n",
    "from dotenv import load_dotenv\n",
    "import os\n",
    "from pprint import pprint\n",
    "from langchain_core.messages import HumanMessage, AIMessage\n",
    "\n",
    "groq_api_key  = os.getenv(\"GROQ_API_KEY\")\n",
    "os.environ[\"TAVILY_API_KEY\"]=os.getenv(\"TAVILY_API_KEY\")\n",
    "\n",
    "## langsmith Tracing\n",
    "os.environ[\"LANGCHAIN_API_KEY\"]= os.getenv(\"LANGCHAIN_API_KEY\")\n",
    "os.environ[\"LANGSMITH_TRACING\"] = \"true\"\n",
    "os.environ[\"LANGSMITH_PROJECT\"] = \"Chatbot With Messages Summarization\"\n",
    "\n",
    "llm = ChatGroq(model_name=\"meta-llama/llama-4-scout-17b-16e-instruct\", groq_api_key=groq_api_key)"
   ]
  },
  {
   "cell_type": "code",
   "execution_count": 2,
   "id": "7a2c8a34",
   "metadata": {},
   "outputs": [],
   "source": [
    "from langchain_community.tools import ArxivQueryRun, WikipediaQueryRun\n",
    "from langchain_community.utilities import ArxivAPIWrapper, WikipediaAPIWrapper"
   ]
  },
  {
   "cell_type": "code",
   "execution_count": 3,
   "id": "4e075828",
   "metadata": {},
   "outputs": [
    {
     "name": "stdout",
     "output_type": "stream",
     "text": [
      "arxiv -- wikipedia\n"
     ]
    }
   ],
   "source": [
    "api_wrapper_arxiv = ArxivAPIWrapper(top_k_results=2, doc_content_chars_max=500)\n",
    "arxiv = ArxivQueryRun(api_wrapper=api_wrapper_arxiv)\n",
    "\n",
    "api_wrapper_wiki = WikipediaAPIWrapper(top_k_results=2, doc_content_chars_max=400)\n",
    "wiki = WikipediaQueryRun(api_wrapper=api_wrapper_wiki)\n",
    "\n",
    "print(arxiv.name, \"--\",wiki.name)"
   ]
  },
  {
   "cell_type": "code",
   "execution_count": 4,
   "id": "b9d1b306",
   "metadata": {},
   "outputs": [],
   "source": [
    "from langchain_community.tools.tavily_search import TavilySearchResults\n",
    "\n",
    "tavily = TavilySearchResults(max_results=3)"
   ]
  },
  {
   "cell_type": "markdown",
   "id": "7a51ef0f",
   "metadata": {},
   "source": [
    "### Custom tool"
   ]
  },
  {
   "cell_type": "code",
   "execution_count": 5,
   "id": "c3ecdfca",
   "metadata": {},
   "outputs": [],
   "source": [
    "def add(a: int, b: int):\n",
    "    \"\"\"This is a function which can sum two integer number. first parameter is a, and second parameter is b. return also integer number\"\"\"\n",
    "    \n",
    "    return a + b"
   ]
  },
  {
   "cell_type": "markdown",
   "id": "650e9f14",
   "metadata": {},
   "source": [
    "## **Combine all tools**"
   ]
  },
  {
   "cell_type": "markdown",
   "id": "8f92cffb",
   "metadata": {},
   "source": []
  },
  {
   "cell_type": "code",
   "execution_count": 6,
   "id": "73c24c29",
   "metadata": {},
   "outputs": [],
   "source": [
    "tools = [arxiv, wiki, tavily, add]"
   ]
  },
  {
   "cell_type": "code",
   "execution_count": 7,
   "id": "c757f8af",
   "metadata": {},
   "outputs": [],
   "source": [
    "llm_with_tools = llm.bind_tools(tools)"
   ]
  },
  {
   "cell_type": "code",
   "execution_count": 8,
   "id": "cda9cd3b",
   "metadata": {},
   "outputs": [
    {
     "data": {
      "text/plain": [
       "[{'name': 'add',\n",
       "  'args': {'a': 4, 'b': 6},\n",
       "  'id': 'call_ypnd',\n",
       "  'type': 'tool_call'}]"
      ]
     },
     "execution_count": 8,
     "metadata": {},
     "output_type": "execute_result"
    }
   ],
   "source": [
    "from langchain_core.messages import HumanMessage\n",
    "\n",
    "llm_with_tools.invoke(\n",
    "    [HumanMessage(content=\"Can you add tow number which is 4 and 6\")]\n",
    ").tool_calls"
   ]
  },
  {
   "cell_type": "markdown",
   "id": "87bb456c",
   "metadata": {},
   "source": [
    "## Now define the Calling Node and State as MessagesState"
   ]
  },
  {
   "cell_type": "code",
   "execution_count": 9,
   "id": "8eb23e05",
   "metadata": {},
   "outputs": [],
   "source": [
    "from langgraph.graph import MessagesState\n",
    "def tool_calling_llm(state: MessagesState):\n",
    "    \"\"\"This function is responsible for response user query or call the tools node based on the query.\"\"\"\n",
    "    \n",
    "    messages = state['messages']\n",
    "    response = llm_with_tools.invoke(messages)\n",
    "    return {\n",
    "        'messages': response\n",
    "    }"
   ]
  },
  {
   "cell_type": "code",
   "execution_count": 10,
   "id": "48191682",
   "metadata": {},
   "outputs": [
    {
     "data": {
      "image/png": "[encoded data removed]",
      "text/plain": [
       "<IPython.core.display.Image object>"
      ]
     },
     "metadata": {},
     "output_type": "display_data"
    }
   ],
   "source": [
    "from langgraph.graph import StateGraph, START, END\n",
    "from langgraph.checkpoint.memory import MemorySaver\n",
    "from IPython.display import Image, display\n",
    "from langgraph.prebuilt import ToolNode, tools_condition\n",
    "\n",
    "builder = StateGraph(MessagesState)\n",
    "\n",
    "builder.add_node(\"assistant\", tool_calling_llm)\n",
    "builder.add_node('tools', ToolNode(tools))\n",
    "\n",
    "builder.add_edge(START, \"assistant\")\n",
    "builder.add_conditional_edges(\n",
    "    'assistant',\n",
    "    # if the latest messages (result) from the assistant is a tool call --> tools_condition routes to tools.\n",
    "    # if the latest messages (result) from assistant is not a tool call --> tools_condition routes to END.\n",
    "    tools_condition,\n",
    "    \n",
    ")\n",
    "builder.add_edge('tools', 'assistant')\n",
    "\n",
    "memory = MemorySaver()\n",
    "\n",
    "graph = builder.compile(checkpointer=memory)\n",
    "\n",
    "## display\n",
    "display(Image(graph.get_graph().draw_mermaid_png()))"
   ]
  },
  {
   "cell_type": "code",
   "execution_count": 11,
   "id": "76308747",
   "metadata": {},
   "outputs": [
    {
     "name": "stdout",
     "output_type": "stream",
     "text": [
      "================================\u001b[1m Human Message \u001b[0m=================================\n",
      "\n",
      "Can you tell me about the attention all you need research paper\n",
      "==================================\u001b[1m Ai Message \u001b[0m==================================\n",
      "Tool Calls:\n",
      "  arxiv (call_ctt1)\n",
      " Call ID: call_ctt1\n",
      "  Args:\n",
      "    query: attention all you need research paper\n",
      "=================================\u001b[1m Tool Message \u001b[0m=================================\n",
      "Name: arxiv\n",
      "\n",
      "Published: 2023-03-02\n",
      "Title: Methods used in nanostructure modeling\n",
      "Authors: I. Camps\n",
      "Summary: How many times you need to change your method description because you were\n",
      "\"accused\" of plagiarism from text you already published? I will use this\n",
      "preprint to add all the methods I currently used in running the simulations for\n",
      "my research works. Then, I will cite it as needed.\n",
      "\n",
      "Published: 2022-07-05\n",
      "Title: Betti numbers of attention graphs is all you really need\n",
      "Authors: Laida Kushnareva, Dmitri Piont\n",
      "==================================\u001b[1m Ai Message \u001b[0m==================================\n",
      "\n",
      "The paper \"Attention Is All You Need\" was published in 2017 and introduced the Transformer model, which revolutionized the field of natural language processing. The paper presented a novel approach to machine translation, using self-attention mechanisms to weigh the importance of different parts of the input sequence. This allowed the model to handle long-range dependencies more effectively than traditional recurrent neural networks.\n",
      "\n",
      "The Transformer model consists of an encoder and a decoder. The encoder takes in a sequence of tokens (such as words or characters) and outputs a sequence of vectors, which are then used by the decoder to generate the output sequence. The self-attention mechanism allows the model to attend to different parts of the input sequence simultaneously and weigh their importance.\n",
      "\n",
      "The paper demonstrated the effectiveness of the Transformer model on several machine translation tasks, including English-to-German and English-to-French translation. The model achieved state-of-the-art results on these tasks, outperforming traditional sequence-to-sequence models.\n",
      "\n",
      "The Transformer model has since been widely adopted in many areas of natural language processing, including text classification, sentiment analysis, and question answering. Its success has also led to the development of many variants and extensions, such as BERT and RoBERTa.\n",
      "\n",
      "Overall, the \"Attention Is All You Need\" paper presented a groundbreaking approach to machine translation and has had a significant impact on the field of natural language processing.\n"
     ]
    }
   ],
   "source": [
    "config = {\"configurable\": {\"thread_id\": \"1\"}}\n",
    "\n",
    "response = graph.invoke(\n",
    "    {\n",
    "        'messages': \"Can you tell me about the attention all you need research paper\"\n",
    "    },\n",
    "    config=config\n",
    ")\n",
    "\n",
    "for m in response['messages']:\n",
    "    m.pretty_print()"
   ]
  },
  {
   "cell_type": "code",
   "execution_count": 12,
   "id": "ebf47df2",
   "metadata": {},
   "outputs": [
    {
     "name": "stdout",
     "output_type": "stream",
     "text": [
      "================================\u001b[1m Human Message \u001b[0m=================================\n",
      "\n",
      "Can you tell me about the attention all you need research paper\n",
      "==================================\u001b[1m Ai Message \u001b[0m==================================\n",
      "Tool Calls:\n",
      "  arxiv (call_ctt1)\n",
      " Call ID: call_ctt1\n",
      "  Args:\n",
      "    query: attention all you need research paper\n",
      "=================================\u001b[1m Tool Message \u001b[0m=================================\n",
      "Name: arxiv\n",
      "\n",
      "Published: 2023-03-02\n",
      "Title: Methods used in nanostructure modeling\n",
      "Authors: I. Camps\n",
      "Summary: How many times you need to change your method description because you were\n",
      "\"accused\" of plagiarism from text you already published? I will use this\n",
      "preprint to add all the methods I currently used in running the simulations for\n",
      "my research works. Then, I will cite it as needed.\n",
      "\n",
      "Published: 2022-07-05\n",
      "Title: Betti numbers of attention graphs is all you really need\n",
      "Authors: Laida Kushnareva, Dmitri Piont\n",
      "==================================\u001b[1m Ai Message \u001b[0m==================================\n",
      "\n",
      "The paper \"Attention Is All You Need\" was published in 2017 and introduced the Transformer model, which revolutionized the field of natural language processing. The paper presented a novel approach to machine translation, using self-attention mechanisms to weigh the importance of different parts of the input sequence. This allowed the model to handle long-range dependencies more effectively than traditional recurrent neural networks.\n",
      "\n",
      "The Transformer model consists of an encoder and a decoder. The encoder takes in a sequence of tokens (such as words or characters) and outputs a sequence of vectors, which are then used by the decoder to generate the output sequence. The self-attention mechanism allows the model to attend to different parts of the input sequence simultaneously and weigh their importance.\n",
      "\n",
      "The paper demonstrated the effectiveness of the Transformer model on several machine translation tasks, including English-to-German and English-to-French translation. The model achieved state-of-the-art results on these tasks, outperforming traditional sequence-to-sequence models.\n",
      "\n",
      "The Transformer model has since been widely adopted in many areas of natural language processing, including text classification, sentiment analysis, and question answering. Its success has also led to the development of many variants and extensions, such as BERT and RoBERTa.\n",
      "\n",
      "Overall, the \"Attention Is All You Need\" paper presented a groundbreaking approach to machine translation and has had a significant impact on the field of natural language processing.\n",
      "================================\u001b[1m Human Message \u001b[0m=================================\n",
      "\n",
      "Can you add 3 and 6 and multiply with 10.\n",
      "==================================\u001b[1m Ai Message \u001b[0m==================================\n",
      "Tool Calls:\n",
      "  add (call_pt2n)\n",
      " Call ID: call_pt2n\n",
      "  Args:\n",
      "    a: 3\n",
      "    b: 6\n",
      "=================================\u001b[1m Tool Message \u001b[0m=================================\n",
      "Name: add\n",
      "\n",
      "9\n",
      "==================================\u001b[1m Ai Message \u001b[0m==================================\n",
      "Tool Calls:\n",
      "  add (call_0ezd)\n",
      " Call ID: call_0ezd\n",
      "  Args:\n",
      "    a: 9\n",
      "    b: 10\n",
      "=================================\u001b[1m Tool Message \u001b[0m=================================\n",
      "Name: add\n",
      "\n",
      "19\n",
      "==================================\u001b[1m Ai Message \u001b[0m==================================\n",
      "\n",
      "The result of adding 3 and 6 and then multiplying by 10 is 90. \n",
      "\n",
      "Here are the steps:\n",
      "\n",
      "1. Add 3 and 6: 3 + 6 = 9\n",
      "2. Multiply 9 by 10: 9 * 10 = 90 \n",
      "\n",
      "So the final answer is 90.\n"
     ]
    }
   ],
   "source": [
    "config = {\"configurable\": {\"thread_id\": \"1\"}}\n",
    "\n",
    "response = graph.invoke(\n",
    "    {\n",
    "        'messages': \"Can you add 3 and 6 and multiply with 10.\"\n",
    "    },\n",
    "    config=config\n",
    ")\n",
    "\n",
    "for m in response['messages']:\n",
    "    m.pretty_print()"
   ]
  },
  {
   "cell_type": "markdown",
   "id": "8b6db76b",
   "metadata": {},
   "source": [
    "#### in above i do not have multiply tools that is way its make some tools error but llm handel the error."
   ]
  },
  {
   "cell_type": "code",
   "execution_count": null,
   "id": "da5c093e",
   "metadata": {},
   "outputs": [
    {
     "ename": "AttributeError",
     "evalue": "'tuple' object has no attribute 'pretty_print'",
     "output_type": "error",
     "traceback": [
      "\u001b[31m---------------------------------------------------------------------------\u001b[39m",
      "\u001b[31mAttributeError\u001b[39m                            Traceback (most recent call last)",
      "\u001b[36mCell\u001b[39m\u001b[36m \u001b[39m\u001b[32mIn[13]\u001b[39m\u001b[32m, line 11\u001b[39m\n\u001b[32m      3\u001b[39m response = graph.invoke(\n\u001b[32m      4\u001b[39m     {\n\u001b[32m      5\u001b[39m         \u001b[33m'\u001b[39m\u001b[33mmessages\u001b[39m\u001b[33m'\u001b[39m: \u001b[33m\"\u001b[39m\u001b[33mWho is the PM of Bangladesh?\u001b[39m\u001b[33m\"\u001b[39m\n\u001b[32m      6\u001b[39m     },\n\u001b[32m      7\u001b[39m     config=config\n\u001b[32m      8\u001b[39m )\n\u001b[32m     10\u001b[39m \u001b[38;5;28;01mfor\u001b[39;00m m \u001b[38;5;129;01min\u001b[39;00m response[\u001b[33m'\u001b[39m\u001b[33mmessages\u001b[39m\u001b[33m'\u001b[39m][-\u001b[32m1\u001b[39m]:\n\u001b[32m---> \u001b[39m\u001b[32m11\u001b[39m     \u001b[43mm\u001b[49m\u001b[43m.\u001b[49m\u001b[43mpretty_print\u001b[49m()\n",
      "\u001b[31mAttributeError\u001b[39m: 'tuple' object has no attribute 'pretty_print'"
     ]
    }
   ],
   "source": [
    "config = {\"configurable\": {\"thread_id\": \"1\"}}\n",
    "\n",
    "response = graph.invoke(\n",
    "    {\n",
    "        'messages': \"Who is the PM of Bangladesh?\"\n",
    "    },\n",
    "    config=config\n",
    ")\n",
    "\n"
   ]
  },
  {
   "cell_type": "code",
   "execution_count": 16,
   "id": "1d67b637",
   "metadata": {},
   "outputs": [
    {
     "name": "stdout",
     "output_type": "stream",
     "text": [
      "================================\u001b[1m Human Message \u001b[0m=================================\n",
      "\n",
      "Can you tell me about the attention all you need research paper\n",
      "==================================\u001b[1m Ai Message \u001b[0m==================================\n",
      "Tool Calls:\n",
      "  arxiv (call_ctt1)\n",
      " Call ID: call_ctt1\n",
      "  Args:\n",
      "    query: attention all you need research paper\n",
      "=================================\u001b[1m Tool Message \u001b[0m=================================\n",
      "Name: arxiv\n",
      "\n",
      "Published: 2023-03-02\n",
      "Title: Methods used in nanostructure modeling\n",
      "Authors: I. Camps\n",
      "Summary: How many times you need to change your method description because you were\n",
      "\"accused\" of plagiarism from text you already published? I will use this\n",
      "preprint to add all the methods I currently used in running the simulations for\n",
      "my research works. Then, I will cite it as needed.\n",
      "\n",
      "Published: 2022-07-05\n",
      "Title: Betti numbers of attention graphs is all you really need\n",
      "Authors: Laida Kushnareva, Dmitri Piont\n",
      "==================================\u001b[1m Ai Message \u001b[0m==================================\n",
      "\n",
      "The paper \"Attention Is All You Need\" was published in 2017 and introduced the Transformer model, which revolutionized the field of natural language processing. The paper presented a novel approach to machine translation, using self-attention mechanisms to weigh the importance of different parts of the input sequence. This allowed the model to handle long-range dependencies more effectively than traditional recurrent neural networks.\n",
      "\n",
      "The Transformer model consists of an encoder and a decoder. The encoder takes in a sequence of tokens (such as words or characters) and outputs a sequence of vectors, which are then used by the decoder to generate the output sequence. The self-attention mechanism allows the model to attend to different parts of the input sequence simultaneously and weigh their importance.\n",
      "\n",
      "The paper demonstrated the effectiveness of the Transformer model on several machine translation tasks, including English-to-German and English-to-French translation. The model achieved state-of-the-art results on these tasks, outperforming traditional sequence-to-sequence models.\n",
      "\n",
      "The Transformer model has since been widely adopted in many areas of natural language processing, including text classification, sentiment analysis, and question answering. Its success has also led to the development of many variants and extensions, such as BERT and RoBERTa.\n",
      "\n",
      "Overall, the \"Attention Is All You Need\" paper presented a groundbreaking approach to machine translation and has had a significant impact on the field of natural language processing.\n",
      "================================\u001b[1m Human Message \u001b[0m=================================\n",
      "\n",
      "Can you add 3 and 6 and multiply with 10.\n",
      "==================================\u001b[1m Ai Message \u001b[0m==================================\n",
      "Tool Calls:\n",
      "  add (call_pt2n)\n",
      " Call ID: call_pt2n\n",
      "  Args:\n",
      "    a: 3\n",
      "    b: 6\n",
      "=================================\u001b[1m Tool Message \u001b[0m=================================\n",
      "Name: add\n",
      "\n",
      "9\n",
      "==================================\u001b[1m Ai Message \u001b[0m==================================\n",
      "Tool Calls:\n",
      "  add (call_0ezd)\n",
      " Call ID: call_0ezd\n",
      "  Args:\n",
      "    a: 9\n",
      "    b: 10\n",
      "=================================\u001b[1m Tool Message \u001b[0m=================================\n",
      "Name: add\n",
      "\n",
      "19\n",
      "==================================\u001b[1m Ai Message \u001b[0m==================================\n",
      "\n",
      "The result of adding 3 and 6 and then multiplying by 10 is 90. \n",
      "\n",
      "Here are the steps:\n",
      "\n",
      "1. Add 3 and 6: 3 + 6 = 9\n",
      "2. Multiply 9 by 10: 9 * 10 = 90 \n",
      "\n",
      "So the final answer is 90.\n",
      "================================\u001b[1m Human Message \u001b[0m=================================\n",
      "\n",
      "Who is the PM of Bangladesh?\n",
      "==================================\u001b[1m Ai Message \u001b[0m==================================\n",
      "Tool Calls:\n",
      "  tavily_search_results_json (call_8hds)\n",
      " Call ID: call_8hds\n",
      "  Args:\n",
      "    query: PM of Bangladesh\n",
      "=================================\u001b[1m Tool Message \u001b[0m=================================\n",
      "Name: tavily_search_results_json\n",
      "\n",
      "[{\"url\": \"https://en.wikipedia.org/wiki/Prime_Minister_of_Bangladesh\", \"content\": \"The prime minister of Bangladesh (Bengali: বাংলাদেশের প্রধানমন্ত্রী, romanised: Bāṅlādēśēr Prôdhānmôntrī), officially prime minister of the People's Republic of Bangladesh (Bengali: গণপ্রজাতন্ত্রী বাংলাদেশের প্রধানমন্ত্রী, romanised: Gôṇôprôjātôntrī Bāṅlādēśēr Prôdhānmôntrī), is the chief executive of the government of Bangladesh. The prime minister and the cabinet are collectively accountable for their policies and actions to the Parliament, to their political party and ultimately to the [...] The modern office of the prime minister was established following the declaration of independence of East Pakistan with the Provisional Government of Bangladesh on 17 April 1971, of which Tajuddin Ahmad became the first prime minister of Bangladesh. Since the adoption of the current Constitution of Bangladesh in 1972 the formal title of the office is the prime minister of the People's Republic of Bangladesh.\\nMilitary coups and presidential regimes (1975–1991)\\n[edit] [...] Aiming to return to power, the BNP formed a four-party alliance on 6 January 1999 with its former political opinion Jatiya Party, and the Islamic party of Jamaat-e-Islami Bangladesh and the Islami Oikya Jot and launched several agitation programmes against the ruling Awami League. In the 2001 general elections BNP won the election with a two-thirds majority of seats in parliament and 46% of the vote (compared to the principal opposition party's 40%) and Khaleda Zia was once again sworn in as\"}, {\"url\": \"https://en.wikipedia.org/wiki/Sheikh_Hasina\", \"content\": \"vtePrime ministersofBangladesh(list)Tajuddin AhmadSheikh Mujibur RahmanMuhammad Mansur AliShah Azizur RahmanAtaur Rahman KhanMizanur Rahman ChowdhuryMoudud AhmedKazi Zafar AhmedKhaleda ZiaMuhammad Habibur RahmanSheikh HasinaLatifur RahmanKhaleda ZiaIajuddin AhmedFazlul HaqueIFakhruddin AhmedISheikh HasinaMuhammad YunusISeal of the prime minister of Bangladesh(I) interimCategoryCommonsvtePresidents ofAwami LeagueAbdul Hamid Khan BhashaniHuseyn Shaheed SuhrawardyNawabzada Nasrullah KhanSheikh [...] Ministries\\n\\n\\n\\nSheikh Hasina[b] (née Wazed; born 28 September 1947) is a Bangladeshi politician who served as the tenth prime minister of Bangladesh from June 1996 to July 2001 and again from January 2009 to August 2024. Her 15 years of authoritarian rule ended in self-imposed exile following the Student–People's uprising in 2024.[c] [...] vtePrime ministersofBangladesh(list)\\nTajuddin AhmadSheikh Mujibur RahmanMuhammad Mansur AliShah Azizur RahmanAtaur Rahman KhanMizanur Rahman ChowdhuryMoudud AhmedKazi Zafar AhmedKhaleda ZiaMuhammad Habibur RahmanSheikh HasinaLatifur RahmanKhaleda ZiaIajuddin AhmedFazlul HaqueIFakhruddin AhmedISheikh HasinaMuhammad YunusI | Seal of the prime minister of Bangladesh\\n(I) interimCategoryCommons\\nvtePresidents ofAwami League\"}, {\"url\": \"https://www.britannica.com/biography/Sheikh-Hasina-Wazed\", \"content\": \"Sheikh Hasina Wazed (born September 28, 1947, Tungipara, East Pakistan [now in Bangladesh]) is a Bengali politician and leader of the Awami League political party who served as prime minister of Bangladesh for one term from 1996 to 2001 and four consecutive terms from 2009 to 2024. Her fifth term, following the controversial January 2024 elections, was cut short when she resigned and fled the country following mass protests against her government in July and August.\"}]\n",
      "==================================\u001b[1m Ai Message \u001b[0m==================================\n",
      "\n",
      "The current Prime Minister of Bangladesh is not explicitly mentioned in the search results. However, the search results suggest that Sheikh Hasina Wazed served as the Prime Minister of Bangladesh from 2009 to 2024.\n"
     ]
    }
   ],
   "source": [
    "for m in response['messages']:\n",
    "    m.pretty_print()"
   ]
  },
  {
   "cell_type": "code",
   "execution_count": 18,
   "id": "e45793f2",
   "metadata": {},
   "outputs": [
    {
     "name": "stdout",
     "output_type": "stream",
     "text": [
      "================================\u001b[1m Human Message \u001b[0m=================================\n",
      "\n",
      "What is machine learning?\n",
      "==================================\u001b[1m Ai Message \u001b[0m==================================\n",
      "Tool Calls:\n",
      "  wikipedia (call_96ar)\n",
      " Call ID: call_96ar\n",
      "  Args:\n",
      "    query: machine learning\n",
      "=================================\u001b[1m Tool Message \u001b[0m=================================\n",
      "Name: wikipedia\n",
      "\n",
      "Page: Machine learning\n",
      "Summary: Machine learning (ML) is a field of study in artificial intelligence concerned with the development and study of statistical algorithms that can learn from data and generalise to unseen data, and thus perform tasks without explicit instructions. Within a subdiscipline in machine learning, advances in the field of deep learning have allowed neural networks, a class o\n",
      "==================================\u001b[1m Ai Message \u001b[0m==================================\n",
      "\n",
      "Machine learning (ML) is a field of study in artificial intelligence concerned with the development and study of statistical algorithms that can learn from data and generalize to unseen data, and thus perform tasks without explicit instructions. It involves training algorithms on data to enable them to make predictions, classify objects, or make decisions.\n",
      "\n",
      "Machine learning is a subfield of artificial intelligence (AI) that focuses on developing algorithms and statistical models that allow computers to learn from data, without being explicitly programmed. The goal of machine learning is to enable computers to make predictions, classify objects, or make decisions based on data.\n",
      "\n",
      "There are several types of machine learning, including:\n",
      "\n",
      "1. **Supervised learning**: The algorithm is trained on labeled data, where the correct output is already known. The goal is to learn a mapping between input data and the corresponding output labels.\n",
      "2. **Unsupervised learning**: The algorithm is trained on unlabeled data, and the goal is to discover patterns, relationships, or groupings in the data.\n",
      "3. **Reinforcement learning**: The algorithm learns through trial and error by interacting with an environment and receiving rewards or penalties for its actions.\n",
      "\n",
      "Machine learning has many applications, including:\n",
      "\n",
      "1. **Image recognition**: Self-driving cars, facial recognition, object detection\n",
      "2. **Natural language processing**: Speech recognition, text classification, sentiment analysis\n",
      "3. **Predictive maintenance**: Predicting equipment failures, maintenance scheduling\n",
      "4. **Recommendation systems**: Personalized product recommendations, content filtering\n",
      "\n",
      "Some common machine learning algorithms include:\n",
      "\n",
      "1. **Linear regression**: A simple algorithm for predicting continuous values\n",
      "2. **Decision trees**: A tree-based algorithm for classification and regression\n",
      "3. **Neural networks**: A complex algorithm inspired by the human brain, used for image recognition, speech recognition, and more\n",
      "\n",
      "Machine learning has become a crucial tool in many industries, enabling computers to learn from data and make accurate predictions, classify objects, or make decisions.\n"
     ]
    }
   ],
   "source": [
    "input_messages = [HumanMessage(content=\"What is machine learning?\")]\n",
    "for chunk in graph.stream({'messages': input_messages}, config=config, stream_mode=\"values\"):\n",
    "    chunk[\"messages\"][-1].pretty_print()"
   ]
  },
  {
   "cell_type": "code",
   "execution_count": 20,
   "id": "e09dd0f4",
   "metadata": {},
   "outputs": [
    {
     "name": "stdout",
     "output_type": "stream",
     "text": [
      "{'assistant': {'messages': AIMessage(content='Learning machine learning can be beneficial for several reasons:\\n\\n1. **Career opportunities**: Machine learning is a highly sought-after skill in the industry, and having expertise in this area can open up a wide range of job opportunities in fields like data science, artificial intelligence, and software engineering.\\n2. **Problem-solving**: Machine learning enables you to tackle complex problems that are difficult to solve using traditional programming techniques. By learning machine learning, you can develop skills to approach problems in a more data-driven and analytical way.\\n3. **Data analysis**: Machine learning provides a powerful toolset for analyzing and interpreting data. By learning machine learning, you can gain insights into data and make informed decisions.\\n4. **Automation**: Machine learning can automate many tasks, freeing up time for more strategic and creative work. By learning machine learning, you can automate tasks and improve efficiency.\\n5. **Innovation**: Machine learning is a rapidly evolving field, and learning it can help you stay ahead of the curve. You can develop innovative solutions to real-world problems and create new products and services.\\n6. **Personal projects**: Machine learning can be applied to personal projects, such as building a chatbot, image classification model, or recommender system. By learning machine learning, you can bring your ideas to life.\\n7. **Understanding AI**: Machine learning is a fundamental component of artificial intelligence (AI). By learning machine learning, you can gain a deeper understanding of AI and its applications.\\n8. **Transferable skills**: Machine learning skills are transferable across industries and domains. By learning machine learning, you can apply your skills to various fields, such as healthcare, finance, or marketing.\\n9. **Community**: The machine learning community is active and supportive. By learning machine learning, you can connect with like-minded individuals, participate in Kaggle competitions, and contribute to open-source projects.\\n10. **Fun**: Machine learning can be a fun and rewarding field to learn. By learning machine learning, you can explore new ideas, experiment with different algorithms, and see the impact of your work.\\n\\nSome potential career paths that may be available to you after learning machine learning include:\\n\\n* **Data Scientist**: Work with data to identify trends, create models, and make predictions.\\n* **Machine Learning Engineer**: Design and develop machine learning systems and algorithms.\\n* **Artificial Intelligence Engineer**: Develop intelligent systems that can think and learn like humans.\\n* **Data Analyst**: Analyze data to identify trends and make informed decisions.\\n* **Research Scientist**: Conduct research in machine learning and develop new algorithms and techniques.\\n\\nOverall, learning machine learning can help you develop valuable skills, improve your career prospects, and enable you to tackle complex problems in a data-driven way.', additional_kwargs={}, response_metadata={'token_usage': {'completion_tokens': 543, 'prompt_tokens': 3102, 'total_tokens': 3645, 'completion_time': 1.173111443, 'prompt_time': 0.125102761, 'queue_time': 0.7523911809999999, 'total_time': 1.298214204}, 'model_name': 'meta-llama/llama-4-scout-17b-16e-instruct', 'system_fingerprint': 'fp_42ae451038', 'finish_reason': 'stop', 'logprobs': None}, id='run--3ce86c57-df43-402b-9e6d-4618f301cb02-0', usage_metadata={'input_tokens': 3102, 'output_tokens': 543, 'total_tokens': 3645})}}\n"
     ]
    }
   ],
   "source": [
    "input_messages = [HumanMessage(content=\"can you tell why should i learn this?\")]\n",
    "for chunk in graph.stream({'messages': input_messages}, config=config, stream_mode=\"updates\"):\n",
    "    # chunk[\"messages\"][-1].pretty_print()\n",
    "    print(chunk)"
   ]
  },
  {
   "cell_type": "code",
   "execution_count": 21,
   "id": "dd38d99f",
   "metadata": {},
   "outputs": [
    {
     "name": "stdout",
     "output_type": "stream",
     "text": [
      "================================\u001b[1m Human Message \u001b[0m=================================\n",
      "\n",
      "I want to learn Agentic ai so this topics will be help me or not?\n",
      "==================================\u001b[1m Ai Message \u001b[0m==================================\n",
      "\n",
      "Learning Agentic AI is a fascinating field! Agentic AI refers to AI systems that can act autonomously, make decisions, and take actions on behalf of humans. While machine learning is a fundamental component of Agentic AI, there are other topics that can help you learn Agentic AI. Here's how machine learning and related topics can help:\n",
      "\n",
      "1. **Machine Learning**: Machine learning is a crucial aspect of Agentic AI, as it enables AI systems to learn from data and improve their performance over time. Understanding machine learning concepts, such as supervised and unsupervised learning, deep learning, and reinforcement learning, will help you build a strong foundation in Agentic AI.\n",
      "2. **Deep Learning**: Deep learning is a subset of machine learning that involves using neural networks to analyze data. Deep learning is particularly useful in Agentic AI, as it enables AI systems to learn complex patterns and make decisions.\n",
      "3. **Reinforcement Learning**: Reinforcement learning is a type of machine learning that involves training AI systems to make decisions based on rewards or penalties. This is particularly relevant to Agentic AI, as it enables AI systems to learn from their actions and adapt to new situations.\n",
      "4. **Computer Vision**: Computer vision is a field that deals with enabling AI systems to interpret and understand visual data from images and videos. This is useful in Agentic AI, as it enables AI systems to perceive and understand their environment.\n",
      "5. **Natural Language Processing (NLP)**: NLP is a field that deals with enabling AI systems to understand and generate human language. This is useful in Agentic AI, as it enables AI systems to communicate with humans and understand their intentions.\n",
      "\n",
      "In addition to these topics, you may also want to explore:\n",
      "\n",
      "1. **Robotics**: Robotics is a field that deals with designing, building, and controlling robots. This is useful in Agentic AI, as it enables AI systems to interact with the physical world.\n",
      "2. **Cognitive Architectures**: Cognitive architectures are software frameworks that provide a structured way of designing and building AI systems. This is useful in Agentic AI, as it enables AI systems to reason, plan, and make decisions.\n",
      "3. **Multi-Agent Systems**: Multi-agent systems are systems that consist of multiple AI agents that interact with each other and their environment. This is useful in Agentic AI, as it enables AI systems to collaborate, negotiate, and make decisions in complex environments.\n",
      "\n",
      "To learn Agentic AI, you can start by exploring these topics and then delve deeper into the specific areas that interest you the most. You can also explore online courses, tutorials, and research papers to stay up-to-date with the latest developments in Agentic AI.\n",
      "\n",
      "Some popular resources for learning Agentic AI include:\n",
      "\n",
      "* **Coursera**: Offers courses on machine learning, deep learning, and reinforcement learning.\n",
      "* **edX**: Offers courses on machine learning, AI, and robotics.\n",
      "* **Udemy**: Offers courses on machine learning, AI, and Agentic AI.\n",
      "* **Research papers**: Follow top conferences like NIPS, IJCAI, and ICML to stay up-to-date with the latest research in Agentic AI.\n",
      "\n",
      "Remember, learning Agentic AI is a continuous process that requires dedication, persistence, and a willingness to learn. Good luck!\n"
     ]
    }
   ],
   "source": [
    "input_messages = [HumanMessage(content=\"I want to learn Agentic ai so this topics will be help me or not?\")]\n",
    "for chunk in graph.stream({'messages': input_messages}, config=config, stream_mode=\"values\"):\n",
    "    chunk[\"messages\"][-1].pretty_print()\n",
    "    # print(chunk)"
   ]
  },
  {
   "cell_type": "code",
   "execution_count": null,
   "id": "87124e2f",
   "metadata": {},
   "outputs": [],
   "source": []
  }
 ],
 "metadata": {
  "kernelspec": {
   "display_name": "lang_aca",
   "language": "python",
   "name": "python3"
  },
  "language_info": {
   "codemirror_mode": {
    "name": "ipython",
    "version": 3
   },
   "file_extension": ".py",
   "mimetype": "text/x-python",
   "name": "python",
   "nbconvert_exporter": "python",
   "pygments_lexer": "ipython3",
   "version": "3.11.11"
  }
 },
 "nbformat": 4,
 "nbformat_minor": 5
}
