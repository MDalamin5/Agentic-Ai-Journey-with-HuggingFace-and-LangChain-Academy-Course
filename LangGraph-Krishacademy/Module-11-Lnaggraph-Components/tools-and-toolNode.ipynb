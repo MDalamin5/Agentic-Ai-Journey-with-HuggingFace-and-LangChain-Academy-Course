{
 "cells": [
  {
   "cell_type": "code",
   "execution_count": 1,
   "id": "ac802c74",
   "metadata": {},
   "outputs": [],
   "source": [
    "from langchain_groq import ChatGroq\n",
    "from dotenv import load_dotenv\n",
    "import os\n",
    "from pprint import pprint\n",
    "from langchain_core.messages import HumanMessage, AIMessage\n",
    "\n",
    "groq_api_key  = os.getenv(\"GROQ_API_KEY\")\n",
    "\n",
    "## langsmith Tracing\n",
    "os.environ[\"LANGCHAIN_API_KEY\"]= os.getenv(\"LANGCHAIN_API_KEY\")\n",
    "os.environ[\"LANGSMITH_TRACING\"] = \"true\"\n",
    "os.environ[\"LANGSMITH_PROJECT\"] = \"Chatbot With Messages Summarization\"\n",
    "\n",
    "llm = ChatGroq(model_name=\"meta-llama/llama-4-scout-17b-16e-instruct\", groq_api_key=groq_api_key)"
   ]
  },
  {
   "cell_type": "code",
   "execution_count": 4,
   "id": "3e700edd",
   "metadata": {},
   "outputs": [],
   "source": [
    "from langgraph.graph import MessagesState"
   ]
  },
  {
   "cell_type": "code",
   "execution_count": 2,
   "id": "29df296a",
   "metadata": {},
   "outputs": [],
   "source": [
    "def add(a: int, b: int):\n",
    "    \"\"\"This is a function which can sum two integer number. first parameter is a, and second parameter is b. return also integer number\"\"\"\n",
    "    \n",
    "    return a + b\n"
   ]
  },
  {
   "cell_type": "code",
   "execution_count": 5,
   "id": "26d40243",
   "metadata": {},
   "outputs": [],
   "source": [
    "def llmInvoke(state: MessagesState):\n",
    "    \"\"\"This is a function which is responsible for generate response based on user query.\"\"\"\n",
    "    \n",
    "    llm_with_tool = llm.bind_tools([add])\n",
    "    response = llm_with_tool.invoke(state['messages'])\n",
    "    \n",
    "    return {\n",
    "        'messages': response\n",
    "    }"
   ]
  },
  {
   "cell_type": "markdown",
   "id": "35e5a699",
   "metadata": {},
   "source": [
    "## build the graph"
   ]
  },
  {
   "cell_type": "code",
   "execution_count": 7,
   "id": "3157a379",
   "metadata": {},
   "outputs": [],
   "source": [
    "tools = [add]"
   ]
  },
  {
   "cell_type": "code",
   "execution_count": 21,
   "id": "465df7c4",
   "metadata": {},
   "outputs": [],
   "source": [
    "from langgraph.graph import StateGraph, START, END\n",
    "from langgraph.checkpoint.memory import MemorySaver\n",
    "from IPython.display import Image, display\n",
    "from langgraph.prebuilt import ToolNode, tools_condition\n",
    "\n",
    "builder = StateGraph(MessagesState)\n",
    "builder.add_node('tool_llm', llmInvoke)\n",
    "builder.add_node(\"tools\", ToolNode(tools))\n",
    "\n",
    "builder.add_edge(START, \"tool_llm\")\n",
    "builder.add_conditional_edges(\n",
    "    \"tool_llm\",\n",
    "    # if the latest messages (result) form the tool_llm is a tool call --> tools_condition routes to the tools\n",
    "    # if the latest messages (result) form the tool_llm is not a tool call --> tools_condition routs to END\n",
    "    tools_condition\n",
    ")\n",
    "builder.add_edge('tools', 'tool_llm')\n",
    "\n",
    "memory = MemorySaver()\n",
    "graph = builder.compile(checkpointer=memory)"
   ]
  },
  {
   "cell_type": "code",
   "execution_count": 19,
   "id": "9b139aa2",
   "metadata": {},
   "outputs": [
    {
     "name": "stdout",
     "output_type": "stream",
     "text": [
      "================================\u001b[1m Human Message \u001b[0m=================================\n",
      "\n",
      "Can you add this two number 5 and 7.\n",
      "==================================\u001b[1m Ai Message \u001b[0m==================================\n",
      "Tool Calls:\n",
      "  add (call_fqvt)\n",
      " Call ID: call_fqvt\n",
      "  Args:\n",
      "    a: 5\n",
      "    b: 7\n",
      "=================================\u001b[1m Tool Message \u001b[0m=================================\n",
      "Name: add\n",
      "\n",
      "12\n",
      "==================================\u001b[1m Ai Message \u001b[0m==================================\n",
      "Tool Calls:\n",
      "  add (call_0ekd)\n",
      " Call ID: call_0ekd\n",
      "  Args:\n",
      "    a: 5\n",
      "    b: 7\n",
      "=================================\u001b[1m Tool Message \u001b[0m=================================\n",
      "Name: add\n",
      "\n",
      "12\n",
      "==================================\u001b[1m Ai Message \u001b[0m==================================\n",
      "\n",
      "That's correct! The result of adding 5 and 7 is indeed 12. \n",
      "\n",
      "If you have any more numbers you'd like to add, feel free to let me know!\n"
     ]
    }
   ],
   "source": [
    "config = {\"configurable\": {\"thread_id\": \"1\"}}\n",
    "\n",
    "response = graph.invoke(\n",
    "    {\n",
    "        'messages': \"Can you add this two number 5 and 7.\"\n",
    "    },\n",
    "    config=config\n",
    ")\n",
    "\n",
    "for m in response['messages']:\n",
    "    m.pretty_print()"
   ]
  },
  {
   "cell_type": "code",
   "execution_count": null,
   "id": "c6d6135a",
   "metadata": {},
   "outputs": [],
   "source": []
  }
 ],
 "metadata": {
  "kernelspec": {
   "display_name": "lang_aca",
   "language": "python",
   "name": "python3"
  },
  "language_info": {
   "codemirror_mode": {
    "name": "ipython",
    "version": 3
   },
   "file_extension": ".py",
   "mimetype": "text/x-python",
   "name": "python",
   "nbconvert_exporter": "python",
   "pygments_lexer": "ipython3",
   "version": "3.11.11"
  }
 },
 "nbformat": 4,
 "nbformat_minor": 5
}
