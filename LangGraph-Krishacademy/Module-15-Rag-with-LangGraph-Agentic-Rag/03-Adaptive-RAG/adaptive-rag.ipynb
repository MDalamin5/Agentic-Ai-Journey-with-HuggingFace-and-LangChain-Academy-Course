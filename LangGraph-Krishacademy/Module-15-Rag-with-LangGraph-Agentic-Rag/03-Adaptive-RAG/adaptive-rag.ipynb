{
 "cells": [
  {
   "cell_type": "markdown",
   "id": "7af6652b",
   "metadata": {},
   "source": []
  },
  {
   "cell_type": "markdown",
   "id": "d1fc3b29",
   "metadata": {},
   "source": [
    "# ***Try to implement this complex Rag: Adaptive Rag System***\n",
    "\n",
    "![adaptive-rag](adaptive-rag.png)"
   ]
  },
  {
   "cell_type": "code",
   "execution_count": null,
   "id": "0e8613dc",
   "metadata": {},
   "outputs": [],
   "source": []
  }
 ],
 "metadata": {
  "language_info": {
   "name": "python"
  }
 },
 "nbformat": 4,
 "nbformat_minor": 5
}
