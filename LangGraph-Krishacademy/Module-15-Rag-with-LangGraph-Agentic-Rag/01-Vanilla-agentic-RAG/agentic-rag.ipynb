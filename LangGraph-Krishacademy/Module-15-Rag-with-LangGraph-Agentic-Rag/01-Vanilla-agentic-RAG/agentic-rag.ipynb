{
 "cells": [
  {
   "cell_type": "code",
   "execution_count": 3,
   "id": "5d359e20",
   "metadata": {},
   "outputs": [],
   "source": [
    "import os\n",
    "from dotenv import load_dotenv\n",
    "load_dotenv()\n",
    "\n",
    "from langchain_groq import ChatGroq\n",
    "\n",
    "os.environ[\"GROQ_API_KEY\"]=os.getenv(\"GROQ_API_KEY\")\n",
    "os.environ[\"HF_TOKEN\"]=os.getenv(\"HF_TOKEN\")\n",
    "\n",
    "llm = ChatGroq(model=\"qwen-qwq-32b\")"
   ]
  },
  {
   "cell_type": "code",
   "execution_count": 4,
   "id": "84654be2",
   "metadata": {},
   "outputs": [
    {
     "name": "stderr",
     "output_type": "stream",
     "text": [
      "USER_AGENT environment variable not set, consider setting it to identify your requests.\n"
     ]
    }
   ],
   "source": [
    "from langchain_community.document_loaders import WebBaseLoader\n",
    "from langchain_community.vectorstores import Chroma, FAISS\n",
    "from langchain_community.embeddings import HuggingFaceBgeEmbeddings\n",
    "from langchain_text_splitters import RecursiveCharacterTextSplitter"
   ]
  },
  {
   "cell_type": "markdown",
   "id": "aa283102",
   "metadata": {},
   "source": [
    "## **Retriever for the LangGraph**"
   ]
  },
  {
   "cell_type": "code",
   "execution_count": 5,
   "id": "d800e3d4",
   "metadata": {},
   "outputs": [],
   "source": [
    "urls = [\n",
    "    \"https://langchain-ai.github.io/langgraph/\",\n",
    "    \"https://modelcontextprotocol.io/introduction\",\n",
    "    \"https://langchain-ai.github.io/langgraph/agents/multi-agent/\"\n",
    "]"
   ]
  },
  {
   "cell_type": "code",
   "execution_count": 6,
   "id": "a73edee1",
   "metadata": {},
   "outputs": [
    {
     "data": {
      "text/plain": [
       "3"
      ]
     },
     "execution_count": 6,
     "metadata": {},
     "output_type": "execute_result"
    }
   ],
   "source": [
    "docs = [WebBaseLoader(url).load() for url in urls]\n",
    "len(docs)"
   ]
  },
  {
   "cell_type": "code",
   "execution_count": 7,
   "id": "1e1f0d32",
   "metadata": {},
   "outputs": [
    {
     "name": "stdout",
     "output_type": "stream",
     "text": [
      "[Document(metadata={'source': 'https://langchain-ai.github.io/langgraph/', 'title': 'LangGraph', 'description': 'Build reliable, stateful AI systems, without giving up control', 'language': 'en'}, page_content='Deployment\\n    \\n  \\n\\n\\n\\n\\n\\n\\n\\n\\n\\n    Prebuilt agents\\n    \\n  \\n\\n\\n\\n\\n\\n            Prebuilt agents\\n          \\n\\n\\n\\n\\n    Overview\\n    \\n  \\n\\n\\n\\n\\n\\n    Running agents\\n    \\n  \\n\\n\\n\\n\\n\\n    Streaming\\n    \\n  \\n\\n\\n\\n\\n\\n    Models\\n    \\n  \\n\\n\\n\\n\\n\\n    Tools\\n    \\n  \\n\\n\\n\\n\\n\\n    MCP Integration\\n    \\n  \\n\\n\\n\\n\\n\\n    Context\\n    \\n  \\n\\n\\n\\n\\n\\n    Memory\\n    \\n  \\n\\n\\n\\n\\n\\n    Human-in-the-loop\\n    \\n  \\n\\n\\n\\n\\n\\n    Multi-agent\\n    \\n  \\n\\n\\n\\n\\n\\n    Evals\\n    \\n  \\n\\n\\n\\n\\n\\n    Deployment\\n    \\n  \\n\\n\\n\\n\\n\\n    UI\\n    \\n  \\n\\n\\n\\n\\n\\n\\n\\n\\n\\n    LangGraph framework\\n    \\n  \\n\\n\\n\\n\\n\\n            LangGraph framework\\n          \\n\\n\\n\\n\\n    Agent architectures\\n    \\n  \\n\\n\\n\\n\\n\\n\\n    Graphs\\n    \\n  \\n\\n\\n\\n\\n\\n\\n    Streaming\\n    \\n  \\n\\n\\n\\n\\n\\n\\n    Persistence\\n    \\n  \\n\\n\\n\\n\\n\\n\\n    Memory\\n    \\n  \\n\\n\\n\\n\\n\\n\\n    Human-in-the-loop\\n    \\n  \\n\\n\\n\\n\\n\\n\\n    Breakpoints\\n    \\n  \\n\\n\\n\\n\\n\\n\\n    Time travel\\n    \\n  \\n\\n\\n\\n\\n\\n\\n    Tools\\n    \\n  \\n\\n\\n\\n\\n\\n\\n    Subgraphs\\n    \\n  \\n\\n\\n\\n\\n\\n\\n    Multi-agent\\n    \\n  \\n\\n\\n\\n\\n\\n\\n    Functional API\\n    \\n  \\n\\n\\n\\n\\n\\n\\n\\n\\n\\n\\n    LangGraph Platform\\n    \\n  \\n\\n\\n\\n\\n\\n            LangGraph Platform'), Document(metadata={'source': 'https://langchain-ai.github.io/langgraph/', 'title': 'LangGraph', 'description': 'Build reliable, stateful AI systems, without giving up control', 'language': 'en'}, page_content='Multi-agent\\n    \\n  \\n\\n\\n\\n\\n\\n\\n    Functional API\\n    \\n  \\n\\n\\n\\n\\n\\n\\n\\n\\n\\n\\n    LangGraph Platform\\n    \\n  \\n\\n\\n\\n\\n\\n            LangGraph Platform\\n          \\n\\n\\n\\n\\n    Overview\\n    \\n  \\n\\n\\n\\n\\n\\n    Get started\\n    \\n  \\n\\n\\n\\n\\n\\n\\n    Components\\n    \\n  \\n\\n\\n\\n\\n\\n\\n    Data management\\n    \\n  \\n\\n\\n\\n\\n\\n\\n    Authentication & access control\\n    \\n  \\n\\n\\n\\n\\n\\n\\n    Assistants\\n    \\n  \\n\\n\\n\\n\\n\\n\\n    Threads\\n    \\n  \\n\\n\\n\\n\\n\\n\\n    Runs\\n    \\n  \\n\\n\\n\\n\\n\\n\\n    Streaming\\n    \\n  \\n\\n\\n\\n\\n\\n\\n    Human-in-the-loop\\n    \\n  \\n\\n\\n\\n\\n\\n    Breakpoints\\n    \\n  \\n\\n\\n\\n\\n\\n    Time travel\\n    \\n  \\n\\n\\n\\n\\n\\n    MCP\\n    \\n  \\n\\n\\n\\n\\n\\n    Double-texting\\n    \\n  \\n\\n\\n\\n\\n\\n\\n    Webhooks\\n    \\n  \\n\\n\\n\\n\\n\\n\\n    Cron jobs\\n    \\n  \\n\\n\\n\\n\\n\\n\\n    Server customization\\n    \\n  \\n\\n\\n\\n\\n\\n\\n    Deployment\\n    \\n  \\n\\n\\n\\n\\n\\n\\n\\n\\n\\n\\n\\n\\n    Reference\\n    \\n  \\n\\n\\n\\n\\n\\n\\n    Examples\\n    \\n  \\n\\n\\n\\n\\n\\n\\n    Resources\\n    \\n  \\n\\n\\n\\n\\n\\n\\n\\n\\n\\n\\n\\n\\n\\n\\n      Table of contents\\n    \\n\\n\\n\\n\\n      Get started\\n    \\n\\n\\n\\n\\n\\n      Core benefits\\n    \\n\\n\\n\\n\\n\\n      LangGraph’s ecosystem\\n    \\n\\n\\n\\n\\n\\n      Additional resources\\n    \\n\\n\\n\\n\\n\\n      Acknowledgements')]\n"
     ]
    }
   ],
   "source": [
    "doc_list = [item for sublist in docs for item in sublist]\n",
    "\n",
    "text_splitter = RecursiveCharacterTextSplitter(chunk_size=1000, chunk_overlap=150)\n",
    "\n",
    "doc_splits = text_splitter.split_documents(documents=doc_list)\n",
    "print(doc_splits[1:3])"
   ]
  },
  {
   "cell_type": "markdown",
   "id": "4a0ec00b",
   "metadata": {},
   "source": [
    "## ***Use HuggingFace Embedding Model***"
   ]
  },
  {
   "cell_type": "code",
   "execution_count": 8,
   "id": "827e41fc",
   "metadata": {},
   "outputs": [
    {
     "name": "stderr",
     "output_type": "stream",
     "text": [
      "c:\\Users\\Lenovo\\anaconda3\\envs\\lang_aca\\Lib\\site-packages\\tqdm\\auto.py:21: TqdmWarning: IProgress not found. Please update jupyter and ipywidgets. See https://ipywidgets.readthedocs.io/en/stable/user_install.html\n",
      "  from .autonotebook import tqdm as notebook_tqdm\n"
     ]
    }
   ],
   "source": [
    "embeddings = HuggingFaceBgeEmbeddings(model_name=\"sentence-transformers/all-MiniLM-L6-v2\")"
   ]
  },
  {
   "cell_type": "code",
   "execution_count": 9,
   "id": "a357ee9e",
   "metadata": {},
   "outputs": [],
   "source": [
    "vectorstore = FAISS.from_documents(\n",
    "    documents=doc_splits,\n",
    "    embedding=embeddings,\n",
    ")\n",
    "\n",
    "langGraph_retriever = vectorstore.as_retriever()"
   ]
  },
  {
   "cell_type": "code",
   "execution_count": 10,
   "id": "19eae0be",
   "metadata": {},
   "outputs": [
    {
     "data": {
      "text/plain": [
       "[Document(metadata={'source': 'https://langchain-ai.github.io/langgraph/', 'title': 'LangGraph', 'description': 'Build reliable, stateful AI systems, without giving up control', 'language': 'en'}, page_content='LangGraph\\n\\n\\n\\n\\n\\n\\n\\n\\n\\n\\n\\n\\n\\n\\n\\n\\n\\n\\n\\n\\n\\n\\n          Skip to content\\n        \\n\\n\\n\\n\\n\\n\\n\\nWe are growing and hiring for multiple roles for LangChain, LangGraph and LangSmith.  Join our team!\\n\\n\\n\\n\\n\\n\\n\\n\\n\\n\\n\\n\\n\\n\\n\\n\\n\\n            LangGraph\\n          \\n\\n\\n\\n            \\n              LangGraph\\n            \\n          \\n\\n\\n\\n\\n\\n\\n\\n\\n\\n\\n\\n\\n\\n\\n\\n\\n\\n\\n\\n\\n\\n\\n\\n\\n\\n\\n\\n\\n\\n\\n\\n\\n\\n\\n\\n\\n\\n\\n\\n\\n            Initializing search\\n          \\n\\n\\n\\n\\n\\n\\n\\n\\n\\n\\n\\n\\n    GitHub\\n  \\n\\n\\n\\n\\n\\n\\n\\n\\n          \\n  \\n  \\n    \\n  \\n  Guides\\n\\n        \\n\\n\\n\\n          \\n  \\n  \\n    \\n  \\n  Reference\\n\\n        \\n\\n\\n\\n          \\n  \\n  \\n    \\n  \\n  Examples\\n\\n        \\n\\n\\n\\n          \\n  \\n  \\n    \\n  \\n  Resources\\n\\n        \\n\\n\\n\\n\\n\\n\\n\\n\\n\\n\\n\\n\\n\\n\\n\\n\\n\\n    LangGraph\\n  \\n\\n\\n\\n\\n\\n\\n    GitHub\\n  \\n\\n\\n\\n\\n\\n\\n\\n\\n    Guides\\n    \\n  \\n\\n\\n\\n\\n\\n\\n\\n\\n            Guides\\n          \\n\\n\\n\\n\\n\\n    Get started\\n    \\n  \\n\\n\\n\\n\\n\\n            Get started\\n          \\n\\n\\n\\n\\n    Quickstart\\n    \\n  \\n\\n\\n\\n\\n\\n    LangGraph basics\\n    \\n  \\n\\n\\n\\n\\n\\n\\n    Deployment\\n    \\n  \\n\\n\\n\\n\\n\\n\\n\\n\\n\\n    Prebuilt agents\\n    \\n  \\n\\n\\n\\n\\n\\n            Prebuilt agents\\n          \\n\\n\\n\\n\\n    Overview'),\n",
       " Document(metadata={'source': 'https://langchain-ai.github.io/langgraph/', 'title': 'LangGraph', 'description': 'Build reliable, stateful AI systems, without giving up control', 'language': 'en'}, page_content='Note\\nLooking for the JS version of LangGraph? See the JS repo and the JS docs.\\n\\nAdditional resources¶\\n\\nGuides: Quick, actionable code snippets for topics such as streaming, adding memory & persistence, and design patterns (e.g. branching, subgraphs, etc.).\\nReference: Detailed reference on core classes, methods, how to use the graph and checkpointing APIs, and higher-level prebuilt components.\\nExamples: Guided examples on getting started with LangGraph.\\nLangChain Academy: Learn the basics of LangGraph in our free, structured course.\\nTemplates: Pre-built reference apps for common agentic workflows (e.g. ReAct agent, memory, retrieval etc.) that can be cloned and adapted.\\nCase studies: Hear how industry leaders use LangGraph to ship AI applications at scale.\\n\\nAcknowledgements¶\\nLangGraph is inspired by Pregel and Apache Beam. The public interface draws inspiration from NetworkX. LangGraph is built by LangChain Inc, the creators of LangChain, but can be used without LangChain.'),\n",
       " Document(metadata={'source': 'https://langchain-ai.github.io/langgraph/agents/multi-agent/', 'title': 'Multi-agent', 'description': 'Build reliable, stateful AI systems, without giving up control', 'language': 'en'}, page_content='# Run the multi-agent graph\\nfor chunk in multi_agent_graph.stream(\\n    {\\n        \"messages\": [\\n            {\\n                \"role\": \"user\",\\n                \"content\": \"book a flight from BOS to JFK and a stay at McKittrick Hotel\"\\n            }\\n        ]\\n    }\\n):\\n    print(chunk)\\n    print(\"\\\\n\")\\n\\n\\nAccess agent\\'s state\\nThe Command primitive allows specifying a state update and a node transition as a single operation, making it useful for implementing handoffs.\\nName of the agent or node to hand off to.\\nTake the agent\\'s messages and add them to the parent\\'s state as part of the handoff. The next agent will see the parent state.\\nIndicate to LangGraph that we need to navigate to agent node in a parent multi-agent graph.\\n\\n\\nNote\\nThis handoff implementation assumes that:\\n\\neach agent receives overall message history (across all agents) in the multi-agent system as its input\\neach agent outputs its internal messages history to the overall message history of the multi-agent system'),\n",
       " Document(metadata={'source': 'https://langchain-ai.github.io/langgraph/', 'title': 'LangGraph', 'description': 'Build reliable, stateful AI systems, without giving up control', 'language': 'en'}, page_content='# Run the agent\\nagent.invoke(\\n    {\"messages\": [{\"role\": \"user\", \"content\": \"what is the weather in sf\"}]}\\n)\\n\\nFor more information, see the Quickstart. Or, to learn how to build an agent workflow with a customizable architecture, long-term memory, and other complex task handling, see the LangGraph basics tutorials.\\nCore benefits¶\\nLangGraph provides low-level supporting infrastructure for any long-running, stateful workflow or agent. LangGraph does not abstract prompts or architecture, and provides the following central benefits:')]"
      ]
     },
     "execution_count": 10,
     "metadata": {},
     "output_type": "execute_result"
    }
   ],
   "source": [
    "query = \"Why Lnaggraph is important?\"\n",
    "\n",
    "response = langGraph_retriever.invoke(query)\n",
    "response"
   ]
  },
  {
   "cell_type": "markdown",
   "id": "9379cd6d",
   "metadata": {},
   "source": [
    "## Make this retriever into a retriever tools"
   ]
  },
  {
   "cell_type": "code",
   "execution_count": 11,
   "id": "65f38e2c",
   "metadata": {},
   "outputs": [],
   "source": [
    "from langchain.tools.retriever import create_retriever_tool\n",
    "\n",
    "langGraph_retriever_tool = create_retriever_tool(\n",
    "    langGraph_retriever,\n",
    "    \"retriever_vector_db_blog\",\n",
    "    \"Search and run information abut Model Context Protocol(MCP) and multi-agent system.\"\n",
    ")"
   ]
  },
  {
   "cell_type": "code",
   "execution_count": 12,
   "id": "d4239058",
   "metadata": {},
   "outputs": [
    {
     "data": {
      "text/plain": [
       "Tool(name='retriever_vector_db_blog', description='Search and run information abut Model Context Protocol(MCP) and multi-agent system.', args_schema=<class 'langchain_core.tools.retriever.RetrieverInput'>, func=functools.partial(<function _get_relevant_documents at 0x0000020B92E9C180>, retriever=VectorStoreRetriever(tags=['FAISS', 'HuggingFaceBgeEmbeddings'], vectorstore=<langchain_community.vectorstores.faiss.FAISS object at 0x0000020BB2A78F50>, search_kwargs={}), document_prompt=PromptTemplate(input_variables=['page_content'], input_types={}, partial_variables={}, template='{page_content}'), document_separator='\\n\\n', response_format='content'), coroutine=functools.partial(<function _aget_relevant_documents at 0x0000020B92E9F560>, retriever=VectorStoreRetriever(tags=['FAISS', 'HuggingFaceBgeEmbeddings'], vectorstore=<langchain_community.vectorstores.faiss.FAISS object at 0x0000020BB2A78F50>, search_kwargs={}), document_prompt=PromptTemplate(input_variables=['page_content'], input_types={}, partial_variables={}, template='{page_content}'), document_separator='\\n\\n', response_format='content'))"
      ]
     },
     "execution_count": 12,
     "metadata": {},
     "output_type": "execute_result"
    }
   ],
   "source": [
    "langGraph_retriever_tool"
   ]
  },
  {
   "cell_type": "markdown",
   "id": "6b3e92a3",
   "metadata": {},
   "source": [
    "# **LangChain blogs - Separate Vector DB**"
   ]
  },
  {
   "cell_type": "code",
   "execution_count": 13,
   "id": "fa7bbde7",
   "metadata": {},
   "outputs": [],
   "source": [
    "urls = [\n",
    "    \"https://python.langchain.com/docs/tutorials/\",\n",
    "    \"https://python.langchain.com/docs/introduction/\",\n",
    "    \"https://python.langchain.com/docs/versions/v0_3/\"   \n",
    "]"
   ]
  },
  {
   "cell_type": "code",
   "execution_count": 14,
   "id": "f860d364",
   "metadata": {},
   "outputs": [
    {
     "data": {
      "text/plain": [
       "3"
      ]
     },
     "execution_count": 14,
     "metadata": {},
     "output_type": "execute_result"
    }
   ],
   "source": [
    "docs = [WebBaseLoader(url).load() for url in urls]\n",
    "len(docs)"
   ]
  },
  {
   "cell_type": "code",
   "execution_count": 15,
   "id": "df7e905b",
   "metadata": {},
   "outputs": [],
   "source": [
    "doc_list = [item for sublist in docs for item in sublist]"
   ]
  },
  {
   "cell_type": "code",
   "execution_count": 16,
   "id": "92cf5b6a",
   "metadata": {},
   "outputs": [],
   "source": [
    "text_splitter = RecursiveCharacterTextSplitter(\n",
    "    chunk_size=1500,\n",
    "    chunk_overlap=200\n",
    ")\n",
    "\n",
    "doc_splits = text_splitter.split_documents(documents=doc_list)\n",
    "\n",
    "vectorstore_langChain = FAISS.from_documents(\n",
    "    documents=doc_splits,\n",
    "    embedding=embeddings\n",
    ")"
   ]
  },
  {
   "cell_type": "code",
   "execution_count": 17,
   "id": "cdb066a5",
   "metadata": {},
   "outputs": [
    {
     "data": {
      "text/plain": [
       "[Document(metadata={'source': 'https://python.langchain.com/docs/introduction/', 'title': 'Introduction | 🦜️🔗 LangChain', 'description': 'LangChain is a framework for developing applications powered by large language models (LLMs).', 'language': 'en'}, page_content='Introduction | 🦜️🔗 LangChain'),\n",
       " Document(metadata={'source': 'https://python.langchain.com/docs/versions/v0_3/', 'title': 'LangChain v0.3 | 🦜️🔗 LangChain', 'description': 'Last updated: 09.16.24', 'language': 'en'}, page_content='LangChain v0.3 | 🦜️🔗 LangChain'),\n",
       " Document(metadata={'source': 'https://python.langchain.com/docs/tutorials/', 'title': 'Tutorials | 🦜️🔗 LangChain', 'description': 'New to LangChain or LLM app development in general? Read this material to quickly get up and running building your first applications.', 'language': 'en'}, page_content='Tutorials | 🦜️🔗 LangChain'),\n",
       " Document(metadata={'source': 'https://python.langchain.com/docs/introduction/', 'title': 'Introduction | 🦜️🔗 LangChain', 'description': 'LangChain is a framework for developing applications powered by large language models (LLMs).', 'language': 'en'}, page_content='LangChain is a framework for developing applications powered by large language models (LLMs).\\nLangChain simplifies every stage of the LLM application lifecycle:')]"
      ]
     },
     "execution_count": 17,
     "metadata": {},
     "output_type": "execute_result"
    }
   ],
   "source": [
    "langChain_retriever = vectorstore_langChain.as_retriever()\n",
    "\n",
    "langChain_retriever.invoke(\"Why langChain?\")"
   ]
  },
  {
   "cell_type": "code",
   "execution_count": 18,
   "id": "e57217c5",
   "metadata": {},
   "outputs": [],
   "source": [
    "langChain_retriever_tool = create_retriever_tool(\n",
    "    retriever=langChain_retriever,\n",
    "    name=\"Retriever_vector_langchain_blog\",\n",
    "    description=\"Search and run information about langchain tutorial and different version.\"\n",
    ")"
   ]
  },
  {
   "cell_type": "code",
   "execution_count": 19,
   "id": "a50c90cb",
   "metadata": {},
   "outputs": [
    {
     "data": {
      "text/plain": [
       "Tool(name='Retriever_vector_langchain_blog', description='Search and run information about langchain tutorial and different version.', args_schema=<class 'langchain_core.tools.retriever.RetrieverInput'>, func=functools.partial(<function _get_relevant_documents at 0x0000020B92E9C180>, retriever=VectorStoreRetriever(tags=['FAISS', 'HuggingFaceBgeEmbeddings'], vectorstore=<langchain_community.vectorstores.faiss.FAISS object at 0x0000020BB2AC8ED0>, search_kwargs={}), document_prompt=PromptTemplate(input_variables=['page_content'], input_types={}, partial_variables={}, template='{page_content}'), document_separator='\\n\\n', response_format='content'), coroutine=functools.partial(<function _aget_relevant_documents at 0x0000020B92E9F560>, retriever=VectorStoreRetriever(tags=['FAISS', 'HuggingFaceBgeEmbeddings'], vectorstore=<langchain_community.vectorstores.faiss.FAISS object at 0x0000020BB2AC8ED0>, search_kwargs={}), document_prompt=PromptTemplate(input_variables=['page_content'], input_types={}, partial_variables={}, template='{page_content}'), document_separator='\\n\\n', response_format='content'))"
      ]
     },
     "execution_count": 19,
     "metadata": {},
     "output_type": "execute_result"
    }
   ],
   "source": [
    "langChain_retriever_tool"
   ]
  },
  {
   "cell_type": "code",
   "execution_count": 20,
   "id": "c7e786b5",
   "metadata": {},
   "outputs": [],
   "source": [
    "tools = [langChain_retriever_tool, langGraph_retriever_tool]"
   ]
  },
  {
   "cell_type": "markdown",
   "id": "6b7c6cf9",
   "metadata": {},
   "source": [
    "# ***Now Time To Build The Agentic RAG***"
   ]
  },
  {
   "cell_type": "code",
   "execution_count": 22,
   "id": "6c722d59",
   "metadata": {},
   "outputs": [
    {
     "data": {
      "text/plain": [
       "AIMessage(content='\\n<think>\\nOkay, the user said \"Hello sir!!\". I need to respond appropriately. Let me start with a friendly greeting. Maybe \"Hello! How can I assist you today?\" That\\'s standard but polite.\\n\\nWait, they used \"sir\", maybe they expect a more formal response? Should I use \"Good day\" instead? Hmm, but \"Hello\" is also common. Let me check if there\\'s any context I\\'m missing. Since it\\'s the first message, probably not. Keep it simple and open-ended. Make sure to offer help. Yeah, that should be good. Let me go with that.\\n</think>\\n\\nHello! How can I assist you today? 😊', additional_kwargs={}, response_metadata={'token_usage': {'completion_tokens': 138, 'prompt_tokens': 13, 'total_tokens': 151, 'completion_time': 0.335488406, 'prompt_time': 0.002878349, 'queue_time': 0.162174466, 'total_time': 0.338366755}, 'model_name': 'qwen-qwq-32b', 'system_fingerprint': 'fp_512a3da6bb', 'finish_reason': 'stop', 'logprobs': None}, id='run--f4197476-16bb-4ee8-83b9-72f5fb521f8f-0', usage_metadata={'input_tokens': 13, 'output_tokens': 138, 'total_tokens': 151})"
      ]
     },
     "execution_count": 22,
     "metadata": {},
     "output_type": "execute_result"
    }
   ],
   "source": [
    "from langchain_core.messages import HumanMessage\n",
    "llm.invoke([HumanMessage(content=\"Hello sir!!\")])"
   ]
  },
  {
   "cell_type": "code",
   "execution_count": 23,
   "id": "6aa52003",
   "metadata": {},
   "outputs": [],
   "source": [
    "from typing import Annotated, Sequence\n",
    "from typing_extensions import TypedDict\n",
    "\n",
    "from langchain_core.messages import BaseMessage, HumanMessage, SystemMessage\n",
    "from langgraph.graph.message import add_messages\n",
    "\n",
    "class AgentState(TypedDict):\n",
    "    messages: Annotated[Sequence[BaseMessage], add_messages]"
   ]
  },
  {
   "cell_type": "code",
   "execution_count": 24,
   "id": "de1aca9f",
   "metadata": {},
   "outputs": [],
   "source": [
    "llm_with_tools = llm.bind_tools(tools)"
   ]
  },
  {
   "cell_type": "code",
   "execution_count": 27,
   "id": "1d4a8d71",
   "metadata": {},
   "outputs": [],
   "source": [
    "def agent(state: AgentState):\n",
    "    \"\"\"\n",
    "    Invokes the agent model to generate a response based on the current state. Given the question,\n",
    "    it will decide to retrieve using the retriever tool, or simple end e.g. like response by llm only.\n",
    "    \n",
    "    Args:\n",
    "        state(messages): The current state.\n",
    "    \n",
    "    Returns:\n",
    "        dict: The update state with the agent response appended to messages.\n",
    "    \n",
    "    \"\"\"\n",
    "    print(\"--Calling Agent--\")\n",
    "    messages = state['messages']\n",
    "    response = llm_with_tools.invoke(messages)\n",
    "    \n",
    "    print(response)\n",
    "    # we return the list, because this will get added to the existing list.\n",
    "    return {\n",
    "        \"messages\": [response]\n",
    "    }\n",
    "    "
   ]
  },
  {
   "cell_type": "code",
   "execution_count": 29,
   "id": "3aa74ffe",
   "metadata": {},
   "outputs": [],
   "source": [
    "from langchain import hub\n",
    "from langchain_core.output_parsers import StrOutputParser\n",
    "from langchain_core.prompts import PromptTemplate\n",
    "from typing import List, Literal\n",
    "from pydantic import BaseModel, Field\n",
    "\n",
    "\n",
    "def grade_documents(state: AgentState) -> Literal[\"generate\", \"rewrite\"]:\n",
    "    \"\"\"\n",
    "    Determine the retrieved documents are relevant to the question or not.\n",
    "    \n",
    "    Args:\n",
    "        state(messages): The current state.\n",
    "    \n",
    "    Return:\n",
    "        str: A decision for weather the document are relevant or not.\n",
    "    \"\"\"\n",
    "    \n",
    "    print(\"---Checking The document---\")\n",
    "    \n",
    "    ## Data schema\n",
    "    class Grade(BaseModel):\n",
    "        \"\"\"Binary score for relevance score check.\"\"\"\n",
    "        binary_score: Literal['yes', 'no'] = Field(description=\"relevance score 'yes' or 'no' \")\n",
    "        \n",
    "    llm_with_str_op = llm.with_structured_output(Grade)\n",
    "    \n",
    "    ## Define the prompt\n",
    "    prompt = PromptTemplate(\n",
    "        template=\"\"\"\n",
    "        You are a grader assessing relevance of a retrieved document toa user question. \\n\n",
    "        Here is the retrieve document: \\n\\n {context} \\n\\n\n",
    "        And this is the user question: {question} \\n\n",
    "        if the document contains keyword(s) or semantic meaning related to the user question grade it as relevant.\\n\n",
    "        Give a binary score 'yes' or 'no' score to indicate whether the document is relevant ot the question.\n",
    "        \"\"\",\n",
    "        input_variables=[\"context\", \"question\"]\n",
    "    )\n",
    "    \n",
    "    chain = prompt | llm_with_str_op\n",
    "    \n",
    "    messages = state[\"messages\"]\n",
    "    last_messages = messages[-1]\n",
    "    docs = last_messages.content\n",
    "    question = messages[0].content\n",
    "    print(question)\n",
    "    \n",
    "    scored_result = chain.invoke(\n",
    "        {\n",
    "            \"context\": docs,\n",
    "            \"question\": question\n",
    "        }\n",
    "    )\n",
    "    \n",
    "    score = scored_result.binary_score\n",
    "    \n",
    "    if score == 'yes':\n",
    "        print(\"---Decision: docs is relevance\")\n",
    "        return \"generate\"\n",
    "    else:\n",
    "        print(\"---This is not relevance---\")\n",
    "        return \"rewrite\""
   ]
  },
  {
   "cell_type": "code",
   "execution_count": 30,
   "id": "d1601f4f",
   "metadata": {},
   "outputs": [],
   "source": [
    "def generate(state: AgentState):\n",
    "    \"\"\"\n",
    "    Generate answer based on the context and user query.\n",
    "    \n",
    "    Args:\n",
    "        state(messages): The current state\n",
    "        \n",
    "    Returns:\n",
    "        dict: The updated messages\n",
    "    \"\"\"\n",
    "    \n",
    "    print(\"---Generative---\")\n",
    "    messages = state[\"messages\"]\n",
    "    question = messages[0].content\n",
    "    docs = messages[-1].content\n",
    "    \n",
    "    prompt = hub.pull(\"rlm/rag-prompt\")\n",
    "    \n",
    "    ## format the docs\n",
    "    def format_docs(docs):\n",
    "        return \"\\n\\n\".join(doc.page_content for doc in docs)\n",
    "    \n",
    "    parser = StrOutputParser()\n",
    "    ## rag chain\n",
    "    rag_chain = prompt | llm | parser\n",
    "    \n",
    "    ## run\n",
    "    response = rag_chain.invoke(\n",
    "        {\n",
    "            \"context\": docs,\n",
    "            \"question\": question\n",
    "        }\n",
    "    )\n",
    "    \n",
    "    return {\n",
    "        \"messages\": [response]\n",
    "    }"
   ]
  },
  {
   "cell_type": "code",
   "execution_count": 31,
   "id": "de82cfce",
   "metadata": {},
   "outputs": [],
   "source": [
    "def rewrite(state: AgentState):\n",
    "    \"\"\"\n",
    "    Transform the query to produce a bette question.\n",
    "    \n",
    "    Args:\n",
    "        state(messages): the current state\n",
    "        \n",
    "    Returns:\n",
    "        dict: THe updated state with re-phrased question.\n",
    "    \n",
    "    \"\"\"\n",
    "    \n",
    "    print(\"--Transform query\")\n",
    "    messages = state['messages']\n",
    "    question = messages[0].content\n",
    "    \n",
    "    msg = [\n",
    "        HumanMessage(content=f\"\"\"\\n\n",
    "                     Look at the input and try to reason about the underlying semantic intent meaning. \\n\n",
    "                     Here is the initial question:\n",
    "                     \\n\\n\n",
    "                     {question}\\n\\n\n",
    "                     Formulate an improve question: \n",
    "                     \"\"\",)\n",
    "    ]\n",
    "    response = llm.invoke(msg)\n",
    "    return {\n",
    "        \"messages\": [response]\n",
    "    }"
   ]
  },
  {
   "cell_type": "markdown",
   "id": "2fd72f32",
   "metadata": {},
   "source": [
    "## **Build the graph**"
   ]
  },
  {
   "cell_type": "code",
   "execution_count": 32,
   "id": "bb00f368",
   "metadata": {},
   "outputs": [
    {
     "data": {
      "image/png": "[encoded data removed]",
      "text/plain": [
       "<IPython.core.display.Image object>"
      ]
     },
     "metadata": {},
     "output_type": "display_data"
    }
   ],
   "source": [
    "from langgraph.graph import START, StateGraph, END\n",
    "from langgraph.prebuilt import ToolNode, tools_condition\n",
    "from IPython.display import display, Image\n",
    "\n",
    "workflow = StateGraph(AgentState)\n",
    "\n",
    "workflow.add_node(\"agent\", agent)\n",
    "workflow.add_node(\"retrieve\", ToolNode(tools))\n",
    "workflow.add_node(\"rewrite\", rewrite)\n",
    "workflow.add_node(\"generate\", generate)\n",
    "\n",
    "workflow.add_edge(START, \"agent\")\n",
    "workflow.add_conditional_edges(\n",
    "    \"agent\",\n",
    "    # Assess agent decision\n",
    "    #\n",
    "    tools_condition,\n",
    "    {\n",
    "        # translate the condition output to nodes in out graph\n",
    "        \"tools\": \"retrieve\",\n",
    "        END: END\n",
    "    }\n",
    ")\n",
    "workflow.add_conditional_edges(\n",
    "    \"retrieve\",\n",
    "    #\n",
    "    #\n",
    "    grade_documents,\n",
    ")\n",
    "workflow.add_edge(\"generate\", END)\n",
    "workflow.add_edge(\"rewrite\", \"agent\")\n",
    "\n",
    "graph = workflow.compile()\n",
    "\n",
    "display(Image(graph.get_graph().draw_mermaid_png()))\n"
   ]
  },
  {
   "cell_type": "code",
   "execution_count": 34,
   "id": "27faeb1e",
   "metadata": {},
   "outputs": [
    {
     "name": "stdout",
     "output_type": "stream",
     "text": [
      "--Calling Agent--\n",
      "content='' additional_kwargs={'tool_calls': [{'id': 'call_2jcs', 'function': {'arguments': '{\"query\": \"Why LangGraph is important for Agentic workflows instead of LangChain, focusing on multi-agent systems and dynamic workflows\"}', 'name': 'retriever_vector_db_blog'}, 'type': 'function'}]} response_metadata={'token_usage': {'completion_tokens': 1249, 'prompt_tokens': 269, 'total_tokens': 1518, 'completion_time': 3.045856789, 'prompt_time': 0.016664861, 'queue_time': 0.25032559000000004, 'total_time': 3.06252165}, 'model_name': 'qwen-qwq-32b', 'system_fingerprint': 'fp_1e88ca32eb', 'finish_reason': 'tool_calls', 'logprobs': None} id='run--f1c94e12-32bd-4696-89ee-48323f910459-0' tool_calls=[{'name': 'retriever_vector_db_blog', 'args': {'query': 'Why LangGraph is important for Agentic workflows instead of LangChain, focusing on multi-agent systems and dynamic workflows'}, 'id': 'call_2jcs', 'type': 'tool_call'}] usage_metadata={'input_tokens': 269, 'output_tokens': 1249, 'total_tokens': 1518}\n",
      "---Checking The document---\n",
      "Why langgraph is important to building of Agentic workflow instead of using langcahin\n",
      "---Decision: docs is relevance\n",
      "---Generative---\n"
     ]
    },
    {
     "data": {
      "text/plain": [
       "{'messages': [HumanMessage(content='Why langgraph is important to building of Agentic workflow instead of using langcahin', additional_kwargs={}, response_metadata={}, id='247b2530-415c-4f4b-b013-17c4e5b29073'),\n",
       "  AIMessage(content='', additional_kwargs={'tool_calls': [{'id': 'call_2jcs', 'function': {'arguments': '{\"query\": \"Why LangGraph is important for Agentic workflows instead of LangChain, focusing on multi-agent systems and dynamic workflows\"}', 'name': 'retriever_vector_db_blog'}, 'type': 'function'}]}, response_metadata={'token_usage': {'completion_tokens': 1249, 'prompt_tokens': 269, 'total_tokens': 1518, 'completion_time': 3.045856789, 'prompt_time': 0.016664861, 'queue_time': 0.25032559000000004, 'total_time': 3.06252165}, 'model_name': 'qwen-qwq-32b', 'system_fingerprint': 'fp_1e88ca32eb', 'finish_reason': 'tool_calls', 'logprobs': None}, id='run--f1c94e12-32bd-4696-89ee-48323f910459-0', tool_calls=[{'name': 'retriever_vector_db_blog', 'args': {'query': 'Why LangGraph is important for Agentic workflows instead of LangChain, focusing on multi-agent systems and dynamic workflows'}, 'id': 'call_2jcs', 'type': 'tool_call'}], usage_metadata={'input_tokens': 269, 'output_tokens': 1249, 'total_tokens': 1518}),\n",
       "  ToolMessage(content='Multi-agent\\n    \\n  \\n\\n\\n\\n\\n\\n\\n    Functional API\\n    \\n  \\n\\n\\n\\n\\n\\n\\n\\n\\n\\n\\n    LangGraph Platform\\n    \\n  \\n\\n\\n\\n\\n\\n            LangGraph Platform\\n          \\n\\n\\n\\n\\n    Overview\\n    \\n  \\n\\n\\n\\n\\n\\n    Get started\\n    \\n  \\n\\n\\n\\n\\n\\n\\n    Components\\n    \\n  \\n\\n\\n\\n\\n\\n\\n    Data management\\n    \\n  \\n\\n\\n\\n\\n\\n\\n    Authentication & access control\\n    \\n  \\n\\n\\n\\n\\n\\n\\n    Assistants\\n    \\n  \\n\\n\\n\\n\\n\\n\\n    Threads\\n    \\n  \\n\\n\\n\\n\\n\\n\\n    Runs\\n    \\n  \\n\\n\\n\\n\\n\\n\\n    Streaming\\n    \\n  \\n\\n\\n\\n\\n\\n\\n    Human-in-the-loop\\n    \\n  \\n\\n\\n\\n\\n\\n    Breakpoints\\n    \\n  \\n\\n\\n\\n\\n\\n    Time travel\\n    \\n  \\n\\n\\n\\n\\n\\n    MCP\\n    \\n  \\n\\n\\n\\n\\n\\n    Double-texting\\n    \\n  \\n\\n\\n\\n\\n\\n\\n    Webhooks\\n    \\n  \\n\\n\\n\\n\\n\\n\\n    Cron jobs\\n    \\n  \\n\\n\\n\\n\\n\\n\\n    Server customization\\n    \\n  \\n\\n\\n\\n\\n\\n\\n    Deployment\\n    \\n  \\n\\n\\n\\n\\n\\n\\n\\n\\n\\n\\n\\n\\n    Reference\\n    \\n  \\n\\n\\n\\n\\n\\n\\n    Examples\\n    \\n  \\n\\n\\n\\n\\n\\n\\n    Resources\\n    \\n  \\n\\n\\n\\n\\n\\n\\n\\n\\n\\n\\n\\n\\n\\n\\n      Table of contents\\n    \\n\\n\\n\\n\\n      Get started\\n    \\n\\n\\n\\n\\n\\n      Core benefits\\n    \\n\\n\\n\\n\\n\\n      LangGraph’s ecosystem\\n    \\n\\n\\n\\n\\n\\n      Additional resources\\n    \\n\\n\\n\\n\\n\\n      Acknowledgements\\n\\nCore benefits\\n    \\n\\n\\n\\n\\n\\n      LangGraph’s ecosystem\\n    \\n\\n\\n\\n\\n\\n      Additional resources\\n    \\n\\n\\n\\n\\n\\n      Acknowledgements\\n    \\n\\n\\n\\n\\n\\n\\n\\n\\n\\n\\n\\n\\n\\n\\nLangGraph\\n\\n\\n\\n\\n\\n\\n\\n\\n\\n\\n\\n\\n\\n\\n\\n\\n\\n\\n\\nTrusted by companies shaping the future of agents – including Klarna, Replit, Elastic, and more – LangGraph is a low-level orchestration framework for building, managing, and deploying long-running, stateful agents.\\nGet started¶\\nInstall LangGraph:\\npip install -U langgraph\\n\\nThen, create an agent using prebuilt components:\\n# pip install -qU \"langchain[anthropic]\" to call the model\\n\\nfrom langgraph.prebuilt import create_react_agent\\n\\ndef get_weather(city: str) -> str:\\n    \"\"\"Get weather for a given city.\"\"\"\\n    return f\"It\\'s always sunny in {city}!\"\\n\\nagent = create_react_agent(\\n    model=\"anthropic:claude-3-7-sonnet-latest\",\\n    tools=[get_weather],\\n    prompt=\"You are a helpful assistant\"\\n)\\n\\n# Run the agent\\nagent.invoke(\\n    {\"messages\": [{\"role\": \"user\", \"content\": \"what is the weather in sf\"}]}\\n)\\n\\nLangGraph’s ecosystem¶\\nWhile LangGraph can be used standalone, it also integrates seamlessly with any LangChain product, giving developers a full suite of tools for building agents. To improve your LLM application development, pair LangGraph with:\\n\\nLangSmith — Helpful for agent evals and observability. Debug poor-performing LLM app runs, evaluate agent trajectories, gain visibility in production, and improve performance over time.\\nLangGraph Platform — Deploy and scale agents effortlessly with a purpose-built deployment platform for long running, stateful workflows. Discover, reuse, configure, and share agents across teams — and iterate quickly with visual prototyping in LangGraph Studio.\\nLangChain – Provides integrations and composable components to streamline LLM application development.\\n\\n\\nNote\\nLooking for the JS version of LangGraph? See the JS repo and the JS docs.\\n\\nAdditional resources¶\\n\\n# Run the agent\\nagent.invoke(\\n    {\"messages\": [{\"role\": \"user\", \"content\": \"what is the weather in sf\"}]}\\n)\\n\\nFor more information, see the Quickstart. Or, to learn how to build an agent workflow with a customizable architecture, long-term memory, and other complex task handling, see the LangGraph basics tutorials.\\nCore benefits¶\\nLangGraph provides low-level supporting infrastructure for any long-running, stateful workflow or agent. LangGraph does not abstract prompts or architecture, and provides the following central benefits:', name='retriever_vector_db_blog', id='349ddfce-8383-40bc-a49c-98599eb2ab72', tool_call_id='call_2jcs'),\n",
       "  HumanMessage(content=\"\\n<think>\\nOkay, I need to figure out why LangGraph is important for building Agentic workflows instead of using LangChain. Let me look through the provided context.\\n\\nThe core benefits section says LangGraph offers low-level infrastructure for long-running, stateful workflows. It mentions that it doesn't abstract prompts or architecture, which might mean more control. The ecosystem part talks about integrating with LangChain, but LangGraph specifically handles things like state management, which is crucial for agents that need to maintain context over time. LangChain might be more for composable components, while LangGraph's features like Runs, Threads, and Breakpoints are tailored for managing complex, persistent agent workflows. So, using LangGraph gives better support for those long-lived, stateful processes that agents require, which LangChain alone might not handle as effectively.\\n</think>\\n\\nLangGraph is crucial for Agentic workflows because it provides native support for stateful, long-running processes through features like persistent memory and workflow orchestration. Unlike LangChain, which focuses on composable components, LangGraph's infrastructure inherently manages agent continuity, context retention, and complex task flows essential for autonomous systems. Its integration with tools like LangSmith also enhances debugging and observability for stateful agents.\", additional_kwargs={}, response_metadata={}, id='c3b4b419-2a1b-4f15-aed7-8a31ac56cb41')]}"
      ]
     },
     "execution_count": 34,
     "metadata": {},
     "output_type": "execute_result"
    }
   ],
   "source": [
    "## Testing\n",
    "graph.invoke(\n",
    "    {\n",
    "        \"messages\": \"Why langgraph is important to building of Agentic workflow instead of using langcahin\"\n",
    "    }\n",
    ")"
   ]
  },
  {
   "cell_type": "code",
   "execution_count": 35,
   "id": "fd363c91",
   "metadata": {},
   "outputs": [
    {
     "name": "stdout",
     "output_type": "stream",
     "text": [
      "--Calling Agent--\n",
      "content='Machine learning (ML) is a subset of artificial intelligence (AI) that focuses on developing algorithms and statistical models enabling computers to improve their performance at specific tasks through experience (data) rather than explicit programming. Instead of being explicitly programmed, ML systems learn patterns from data and make predictions or decisions.\\n\\n### Why Should You Learn Machine Learning?\\n1. **High Demand in Industries**: ML is transforming sectors like healthcare, finance, retail, and autonomous systems, creating numerous job opportunities.\\n2. **Solve Complex Problems**: ML can analyze massive datasets to uncover insights, predict trends (e.g., weather forecasting, stock markets), and automate decision-making.\\n3. **Innovation**: It drives advancements in AI applications like natural language processing (e.g., chatbots), computer vision (e.g., facial recognition), and robotics.\\n4. **Personalized Solutions**: ML enables tailored experiences in recommendation systems (e.g., Netflix, Spotify) and personalized marketing.\\n5. **Automation**: It automates repetitive tasks (e.g., data entry, customer service via chatbots), boosting efficiency and reducing costs.\\n\\nIf you’re interested in a specific application (e.g., LangChain for LLM workflows or MCP for multi-agent systems), let me know, and I can provide deeper insights!' additional_kwargs={} response_metadata={'token_usage': {'completion_tokens': 616, 'prompt_tokens': 263, 'total_tokens': 879, 'completion_time': 1.499132242, 'prompt_time': 0.020639735, 'queue_time': 0.24274337499999998, 'total_time': 1.519771977}, 'model_name': 'qwen-qwq-32b', 'system_fingerprint': 'fp_512a3da6bb', 'finish_reason': 'stop', 'logprobs': None} id='run--343c2b7f-c579-49ab-ab6f-8a04e263c282-0' usage_metadata={'input_tokens': 263, 'output_tokens': 616, 'total_tokens': 879}\n"
     ]
    },
    {
     "data": {
      "text/plain": [
       "{'messages': [HumanMessage(content='What is machine learning and why should i learn it?', additional_kwargs={}, response_metadata={}, id='8f577e78-651d-4e08-9579-5db894918217'),\n",
       "  AIMessage(content='Machine learning (ML) is a subset of artificial intelligence (AI) that focuses on developing algorithms and statistical models enabling computers to improve their performance at specific tasks through experience (data) rather than explicit programming. Instead of being explicitly programmed, ML systems learn patterns from data and make predictions or decisions.\\n\\n### Why Should You Learn Machine Learning?\\n1. **High Demand in Industries**: ML is transforming sectors like healthcare, finance, retail, and autonomous systems, creating numerous job opportunities.\\n2. **Solve Complex Problems**: ML can analyze massive datasets to uncover insights, predict trends (e.g., weather forecasting, stock markets), and automate decision-making.\\n3. **Innovation**: It drives advancements in AI applications like natural language processing (e.g., chatbots), computer vision (e.g., facial recognition), and robotics.\\n4. **Personalized Solutions**: ML enables tailored experiences in recommendation systems (e.g., Netflix, Spotify) and personalized marketing.\\n5. **Automation**: It automates repetitive tasks (e.g., data entry, customer service via chatbots), boosting efficiency and reducing costs.\\n\\nIf you’re interested in a specific application (e.g., LangChain for LLM workflows or MCP for multi-agent systems), let me know, and I can provide deeper insights!', additional_kwargs={}, response_metadata={'token_usage': {'completion_tokens': 616, 'prompt_tokens': 263, 'total_tokens': 879, 'completion_time': 1.499132242, 'prompt_time': 0.020639735, 'queue_time': 0.24274337499999998, 'total_time': 1.519771977}, 'model_name': 'qwen-qwq-32b', 'system_fingerprint': 'fp_512a3da6bb', 'finish_reason': 'stop', 'logprobs': None}, id='run--343c2b7f-c579-49ab-ab6f-8a04e263c282-0', usage_metadata={'input_tokens': 263, 'output_tokens': 616, 'total_tokens': 879})]}"
      ]
     },
     "execution_count": 35,
     "metadata": {},
     "output_type": "execute_result"
    }
   ],
   "source": [
    "## Testing\n",
    "graph.invoke(\n",
    "    {\n",
    "        \"messages\": \"What is machine learning and why should i learn it?\"\n",
    "    }\n",
    ")"
   ]
  },
  {
   "cell_type": "code",
   "execution_count": null,
   "id": "2c4cfd92",
   "metadata": {},
   "outputs": [],
   "source": []
  }
 ],
 "metadata": {
  "kernelspec": {
   "display_name": "lang_aca",
   "language": "python",
   "name": "python3"
  },
  "language_info": {
   "codemirror_mode": {
    "name": "ipython",
    "version": 3
   },
   "file_extension": ".py",
   "mimetype": "text/x-python",
   "name": "python",
   "nbconvert_exporter": "python",
   "pygments_lexer": "ipython3",
   "version": "3.11.11"
  }
 },
 "nbformat": 4,
 "nbformat_minor": 5
}
