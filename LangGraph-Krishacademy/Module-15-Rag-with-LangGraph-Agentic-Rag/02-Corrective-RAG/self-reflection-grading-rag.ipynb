{
 "cells": [
  {
   "cell_type": "code",
   "execution_count": 169,
   "id": "773b0195",
   "metadata": {},
   "outputs": [],
   "source": [
    "import os\n",
    "from dotenv import load_dotenv\n",
    "load_dotenv()\n",
    "\n",
    "from langchain_groq import ChatGroq\n",
    "\n",
    "os.environ[\"GROQ_API_KEY\"]=os.getenv(\"GROQ_API_KEY\")\n",
    "os.environ[\"HF_TOKEN\"]=os.getenv(\"HF_TOKEN\")\n",
    "os.environ[\"TAVILY_API_KEY\"]=os.getenv(\"TAVILY_API_KEY\")\n",
    "\n",
    "llm = ChatGroq(model=\"qwen-qwq-32b\")"
   ]
  },
  {
   "cell_type": "markdown",
   "id": "e677de88",
   "metadata": {},
   "source": [
    "## Building The Vector db"
   ]
  },
  {
   "cell_type": "code",
   "execution_count": 170,
   "id": "53387940",
   "metadata": {},
   "outputs": [],
   "source": [
    "from langchain_community.document_loaders import WebBaseLoader\n",
    "from langchain_community.vectorstores import Chroma, FAISS\n",
    "from langchain_community.embeddings import HuggingFaceBgeEmbeddings\n",
    "from langchain_text_splitters import RecursiveCharacterTextSplitter"
   ]
  },
  {
   "cell_type": "code",
   "execution_count": 171,
   "id": "0dca1dcf",
   "metadata": {},
   "outputs": [],
   "source": [
    "urls = [\n",
    "    \"https://langchain-ai.github.io/langgraph/\",\n",
    "    \"https://modelcontextprotocol.io/introduction\",\n",
    "    \"https://langchain-ai.github.io/langgraph/agents/multi-agent/\"\n",
    "]"
   ]
  },
  {
   "cell_type": "code",
   "execution_count": 172,
   "id": "cd60b2bc",
   "metadata": {},
   "outputs": [
    {
     "data": {
      "text/plain": [
       "3"
      ]
     },
     "execution_count": 172,
     "metadata": {},
     "output_type": "execute_result"
    }
   ],
   "source": [
    "docs = [WebBaseLoader(url).load() for url in urls]\n",
    "len(docs)"
   ]
  },
  {
   "cell_type": "code",
   "execution_count": 173,
   "id": "8a48e04f",
   "metadata": {},
   "outputs": [
    {
     "name": "stdout",
     "output_type": "stream",
     "text": [
      "[Document(metadata={'source': 'https://langchain-ai.github.io/langgraph/', 'title': 'LangGraph', 'description': 'Build reliable, stateful AI systems, without giving up control', 'language': 'en'}, page_content='Deployment\\n    \\n  \\n\\n\\n\\n\\n\\n\\n\\n\\n\\n    Prebuilt agents\\n    \\n  \\n\\n\\n\\n\\n\\n            Prebuilt agents\\n          \\n\\n\\n\\n\\n    Overview\\n    \\n  \\n\\n\\n\\n\\n\\n    Running agents\\n    \\n  \\n\\n\\n\\n\\n\\n    Streaming\\n    \\n  \\n\\n\\n\\n\\n\\n    Models\\n    \\n  \\n\\n\\n\\n\\n\\n    Tools\\n    \\n  \\n\\n\\n\\n\\n\\n    MCP Integration\\n    \\n  \\n\\n\\n\\n\\n\\n    Context\\n    \\n  \\n\\n\\n\\n\\n\\n    Memory\\n    \\n  \\n\\n\\n\\n\\n\\n    Human-in-the-loop\\n    \\n  \\n\\n\\n\\n\\n\\n    Multi-agent\\n    \\n  \\n\\n\\n\\n\\n\\n    Evals\\n    \\n  \\n\\n\\n\\n\\n\\n    Deployment\\n    \\n  \\n\\n\\n\\n\\n\\n    UI\\n    \\n  \\n\\n\\n\\n\\n\\n\\n\\n\\n\\n    LangGraph framework\\n    \\n  \\n\\n\\n\\n\\n\\n            LangGraph framework\\n          \\n\\n\\n\\n\\n    Agent architectures\\n    \\n  \\n\\n\\n\\n\\n\\n\\n    Graphs\\n    \\n  \\n\\n\\n\\n\\n\\n\\n    Streaming\\n    \\n  \\n\\n\\n\\n\\n\\n\\n    Persistence\\n    \\n  \\n\\n\\n\\n\\n\\n\\n    Memory\\n    \\n  \\n\\n\\n\\n\\n\\n\\n    Human-in-the-loop\\n    \\n  \\n\\n\\n\\n\\n\\n\\n    Breakpoints\\n    \\n  \\n\\n\\n\\n\\n\\n\\n    Time travel\\n    \\n  \\n\\n\\n\\n\\n\\n\\n    Tools\\n    \\n  \\n\\n\\n\\n\\n\\n\\n    Subgraphs\\n    \\n  \\n\\n\\n\\n\\n\\n\\n    Multi-agent\\n    \\n  \\n\\n\\n\\n\\n\\n\\n    Functional API\\n    \\n  \\n\\n\\n\\n\\n\\n\\n\\n\\n\\n\\n    LangGraph Platform\\n    \\n  \\n\\n\\n\\n\\n\\n            LangGraph Platform'), Document(metadata={'source': 'https://langchain-ai.github.io/langgraph/', 'title': 'LangGraph', 'description': 'Build reliable, stateful AI systems, without giving up control', 'language': 'en'}, page_content='Multi-agent\\n    \\n  \\n\\n\\n\\n\\n\\n\\n    Functional API\\n    \\n  \\n\\n\\n\\n\\n\\n\\n\\n\\n\\n\\n    LangGraph Platform\\n    \\n  \\n\\n\\n\\n\\n\\n            LangGraph Platform\\n          \\n\\n\\n\\n\\n    Overview\\n    \\n  \\n\\n\\n\\n\\n\\n    Get started\\n    \\n  \\n\\n\\n\\n\\n\\n\\n    Components\\n    \\n  \\n\\n\\n\\n\\n\\n\\n    Data management\\n    \\n  \\n\\n\\n\\n\\n\\n\\n    Authentication & access control\\n    \\n  \\n\\n\\n\\n\\n\\n\\n    Assistants\\n    \\n  \\n\\n\\n\\n\\n\\n\\n    Threads\\n    \\n  \\n\\n\\n\\n\\n\\n\\n    Runs\\n    \\n  \\n\\n\\n\\n\\n\\n\\n    Streaming\\n    \\n  \\n\\n\\n\\n\\n\\n\\n    Human-in-the-loop\\n    \\n  \\n\\n\\n\\n\\n\\n    Breakpoints\\n    \\n  \\n\\n\\n\\n\\n\\n    Time travel\\n    \\n  \\n\\n\\n\\n\\n\\n    MCP\\n    \\n  \\n\\n\\n\\n\\n\\n    Double-texting\\n    \\n  \\n\\n\\n\\n\\n\\n\\n    Webhooks\\n    \\n  \\n\\n\\n\\n\\n\\n\\n    Cron jobs\\n    \\n  \\n\\n\\n\\n\\n\\n\\n    Server customization\\n    \\n  \\n\\n\\n\\n\\n\\n\\n    Deployment\\n    \\n  \\n\\n\\n\\n\\n\\n\\n\\n\\n\\n\\n\\n\\n    Reference\\n    \\n  \\n\\n\\n\\n\\n\\n\\n    Examples\\n    \\n  \\n\\n\\n\\n\\n\\n\\n    Resources\\n    \\n  \\n\\n\\n\\n\\n\\n\\n\\n\\n\\n\\n\\n\\n\\n\\n      Table of contents\\n    \\n\\n\\n\\n\\n      Get started\\n    \\n\\n\\n\\n\\n\\n      Core benefits\\n    \\n\\n\\n\\n\\n\\n      LangGraph’s ecosystem\\n    \\n\\n\\n\\n\\n\\n      Additional resources\\n    \\n\\n\\n\\n\\n\\n      Acknowledgements')]\n"
     ]
    }
   ],
   "source": [
    "doc_list = [item for sublist in docs for item in sublist]\n",
    "\n",
    "text_splitter = RecursiveCharacterTextSplitter(chunk_size=1000, chunk_overlap=150)\n",
    "\n",
    "doc_splits = text_splitter.split_documents(documents=doc_list)\n",
    "print(doc_splits[1:3])"
   ]
  },
  {
   "cell_type": "code",
   "execution_count": 174,
   "id": "b6df7a4c",
   "metadata": {},
   "outputs": [],
   "source": [
    "embeddings = HuggingFaceBgeEmbeddings(model_name=\"sentence-transformers/all-MiniLM-L6-v2\")"
   ]
  },
  {
   "cell_type": "code",
   "execution_count": 175,
   "id": "ecbca00f",
   "metadata": {},
   "outputs": [],
   "source": [
    "\n",
    "vectorstore = FAISS.from_documents(\n",
    "    documents=doc_splits,\n",
    "    embedding=embeddings,\n",
    ")\n",
    "\n",
    "langGraph_retriever = vectorstore.as_retriever()"
   ]
  },
  {
   "cell_type": "code",
   "execution_count": 176,
   "id": "be48b649",
   "metadata": {},
   "outputs": [],
   "source": [
    "# query = \"Why multi agent is important?\"\n",
    "\n",
    "# response = langGraph_retriever.invoke(query)\n",
    "# response"
   ]
  },
  {
   "cell_type": "code",
   "execution_count": 177,
   "id": "8759da3a",
   "metadata": {},
   "outputs": [],
   "source": [
    "from langchain_tavily import TavilySearch\n",
    "\n",
    "tavily_search = TavilySearch(\n",
    "    max_results=3,\n",
    "    topic=\"general\",\n",
    "\n",
    ")"
   ]
  },
  {
   "cell_type": "code",
   "execution_count": 178,
   "id": "e2e8931e",
   "metadata": {},
   "outputs": [],
   "source": [
    "# tavily_search.invoke(\"What is the capita of Bangladesh?\")"
   ]
  },
  {
   "cell_type": "code",
   "execution_count": 179,
   "id": "3d68ef44",
   "metadata": {},
   "outputs": [],
   "source": [
    "# response_s = tavily_search.invoke(\"What is the capita of Bangladesh?\")\n",
    "# response_s['results']"
   ]
  },
  {
   "cell_type": "code",
   "execution_count": 180,
   "id": "40f8b7b0",
   "metadata": {},
   "outputs": [],
   "source": [
    "# response_s['results'][0]['content']"
   ]
  },
  {
   "cell_type": "code",
   "execution_count": 181,
   "id": "18f385d8",
   "metadata": {},
   "outputs": [],
   "source": [
    "# type(response_s)"
   ]
  },
  {
   "cell_type": "markdown",
   "id": "a0413466",
   "metadata": {},
   "source": [
    "## Now define the Graph State"
   ]
  },
  {
   "cell_type": "code",
   "execution_count": 182,
   "id": "0e349abe",
   "metadata": {},
   "outputs": [],
   "source": [
    "from typing import TypedDict, List, Literal, Dict\n",
    "from pydantic import BaseModel, Field\n",
    "\n",
    "class CragState(TypedDict):\n",
    "    \"\"\"the\"\"\"\n",
    "    question: str = Field(description=\"This is the user query.\")\n",
    "    context: str =Field(description=\"This is the retrieve data form vector store based on the user query.\")\n",
    "    response: str = Field(description=\"its model generated response based on the user query and context.\")\n",
    "    s_docs : str = Field(default=None, description=\"This the list of document of the vector context similarity search chunk of data.\")\n",
    "    grade: Literal['yes', 'no']\n",
    "    pol_ques: str = None"
   ]
  },
  {
   "cell_type": "code",
   "execution_count": 183,
   "id": "ecb027b9",
   "metadata": {},
   "outputs": [],
   "source": [
    "def formate_docs(docs):\n",
    "    return \"\\n\\n\".join(doc.page_content for doc in docs)"
   ]
  },
  {
   "cell_type": "code",
   "execution_count": 184,
   "id": "499e339b",
   "metadata": {},
   "outputs": [],
   "source": [
    "def retrieve(state: CragState):\n",
    "    \"\"\"THis is the function is responsible for to retrieve the document based on the user query.\"\"\"\n",
    "    query = state['question']\n",
    "    \n",
    "    response = langGraph_retriever.invoke(query)\n",
    "    context = formate_docs(response)\n",
    "    \n",
    "    return {\n",
    "        \"context\": context\n",
    "    }\n",
    "    \n",
    "    "
   ]
  },
  {
   "cell_type": "code",
   "execution_count": 185,
   "id": "e8cc4b7b",
   "metadata": {},
   "outputs": [],
   "source": [
    "## schema\n",
    "class Grade(BaseModel):\n",
    "    \"\"\"This is produce binary output based on the document if relevant then sya yes otherwise say no.\"\"\"\n",
    "    binary_output: Literal[\"yes\", \"no\"] = Field(description=\"if the document is relevant to the query then say yes otherwise say no\")"
   ]
  },
  {
   "cell_type": "code",
   "execution_count": 186,
   "id": "2482c012",
   "metadata": {},
   "outputs": [],
   "source": [
    "from langchain_core.messages import HumanMessage, SystemMessage\n",
    "\n",
    "def grade_document(state: CragState) ->Literal[\"yes\", \"no\"]:\n",
    "    \"\"\"This function is response for the grade the document like retrieve document is relevant to the question or not.\"\"\"\n",
    "    context= state['context']\n",
    "    question = state['question']\n",
    "    system_msg = f\"\"\"Your task is to check where the retrieve context is relevant with the question or not. if relevant then just say yes otherwise say no\n",
    "                        this question is: {question} \\n\n",
    "                    this context is: \\n\\n\n",
    "                    {context} \\n\\n\n",
    "                    carefully analysis the context and question and produced the output based on the schema.\n",
    "                    \"\"\"\n",
    "    llm_with_str_op = llm.with_structured_output(Grade)\n",
    "    \n",
    "    response = llm_with_str_op.invoke([SystemMessage(content=system_msg)])\n",
    "    print(response.binary_output)\n",
    "    return {\n",
    "        \"grade\": response.binary_output\n",
    "    }\n",
    "\n",
    "\n"
   ]
  },
  {
   "cell_type": "code",
   "execution_count": 187,
   "id": "00871000",
   "metadata": {},
   "outputs": [],
   "source": [
    "def route_node(state: CragState):\n",
    "    print(\"reoute node\")\n",
    "    \"\"\"This function is responsible for the route the node where transform query of generate the response\"\"\"\n",
    "    \n",
    "    if state['grade'] == 'yes':\n",
    "        print(\"the query is relevant.\")\n",
    "        return \"generate\"\n",
    "    else:\n",
    "        print(\"This query is not relevant.\")\n",
    "        return \"transform_query\""
   ]
  },
  {
   "cell_type": "code",
   "execution_count": null,
   "id": "5b15d3d5",
   "metadata": {},
   "outputs": [],
   "source": [
    "\n",
    "\n",
    "def transform_query(state: CragState):\n",
    "    \"\"\"This function is responsible for polishing the user query for better result generation\"\"\"\n",
    "    print(\"transform query\")\n",
    "    user_query = state['question']\n",
    "    \n",
    "    system_msg = f\"This is the current user query: {user_query}\\nThis query may not be capable of retrieving relevant content from the vectorDB. Please update or polish the query to get the best response.\"\n",
    "    \n",
    "    response = llm.invoke([SystemMessage(content=system_msg)])\n",
    "    print(f\"Polished query: {response.content}\")\n",
    "    \n",
    "    return {'pol_ques': response.content}"
   ]
  },
  {
   "cell_type": "code",
   "execution_count": 189,
   "id": "ab1c256b",
   "metadata": {},
   "outputs": [],
   "source": [
    "def web_search(state: CragState):\n",
    "    print(\"web serarch\")\n",
    "    \"\"\"This function is responsible for retrieve data form the web based on the query.\"\"\"\n",
    "    query = state['pol_ques']\n",
    "    response = tavily_search.invoke(query)\n",
    "    \n",
    "    return {\n",
    "        \"s_docs\": response\n",
    "    }"
   ]
  },
  {
   "cell_type": "code",
   "execution_count": null,
   "id": "854e23e5",
   "metadata": {},
   "outputs": [],
   "source": [
    "\n",
    "    \n",
    "def generate(state: CragState):\n",
    "    \"\"\"This function generates the response based on the context and query.\"\"\"\n",
    "    print(\"generate\")\n",
    "    \n",
    "    # Check if pol_ques exists in the state\n",
    "    if 'pol_ques' in state and state['pol_ques']:\n",
    "        print(\"--web content--\")\n",
    "        question = state['pol_ques']\n",
    "        context = state.get('s_docs', '')\n",
    "    else:\n",
    "        print(\"--vectordb context--\")\n",
    "        question = state[\"question\"]\n",
    "        context = state.get('context', '')\n",
    "    \n",
    "    system_msg = f\"\"\"\n",
    "    You are an assistant for question-answering tasks. Use the following pieces of retrieved context to answer the question. If you don't know the answer, just say that you don't know. Use three sentences maximum and keep the answer concise.\n",
    "    Question: {question} \n",
    "    Context: {context} \n",
    "    Answer:\n",
    "    \"\"\"\n",
    "    \n",
    "    result = llm.invoke([SystemMessage(content=system_msg)])\n",
    "    print(result)\n",
    "    \n",
    "    return {\"response\": result.content}"
   ]
  },
  {
   "cell_type": "code",
   "execution_count": 191,
   "id": "6033cebf",
   "metadata": {},
   "outputs": [
    {
     "data": {
      "image/png": "[encoded data removed]",
      "text/plain": [
       "<IPython.core.display.Image object>"
      ]
     },
     "metadata": {},
     "output_type": "display_data"
    }
   ],
   "source": [
    "from langgraph.graph import START, StateGraph, END\n",
    "from langgraph.prebuilt import ToolNode, tools_condition\n",
    "from IPython.display import display, Image\n",
    "\n",
    "builder = StateGraph(CragState)\n",
    "\n",
    "builder.add_node(\"retrieve\", retrieve)\n",
    "builder.add_node(\"grade_document\", grade_document)\n",
    "builder.add_node(\"transform_query\", transform_query)\n",
    "builder.add_node(\"web_search\", web_search)\n",
    "builder.add_node(\"generate\", generate)\n",
    "\n",
    "## define the edge\n",
    "builder.add_edge(START, \"retrieve\")\n",
    "builder.add_edge(\"retrieve\", \"grade_document\")\n",
    "builder.add_conditional_edges(\n",
    "    \"grade_document\",\n",
    "    route_node,\n",
    "    {\n",
    "        \"transform_query\": \"transform_query\",\n",
    "        \"generate\": \"generate\"\n",
    "    },\n",
    ")\n",
    "builder.add_edge(\"transform_query\", \"web_search\")\n",
    "builder.add_edge(\"web_search\", \"generate\")\n",
    "builder.add_edge(\"generate\", END)\n",
    "\n",
    "graph = builder.compile()\n",
    "\n",
    "## displaying\n",
    "display(Image(graph.get_graph(xray=True).draw_mermaid_png()))"
   ]
  },
  {
   "cell_type": "code",
   "execution_count": 193,
   "id": "3bae8c74",
   "metadata": {},
   "outputs": [
    {
     "name": "stdout",
     "output_type": "stream",
     "text": [
      "no\n",
      "reoute node\n",
      "This query is not relevant.\n",
      "transform query\n",
      "Polished query: \n",
      "<think>\n",
      "Okay, the user asked \"what is the capital of banglades?\" with a typo in \"Bangladesh\". First, I need to correct the spelling of the country's name to ensure accurate results. The correct spelling is \"Bangladesh\". Then, the capital of Bangladesh is Dhaka, which is a well-known fact. However, the user mentioned that their query might not retrieve relevant content from the vectorDB. Maybe the typo caused an issue. To improve the query, I should first correct \"banglades\" to \"Bangladesh\" and rephrase the question for clarity. That way, the system can better match it with existing data. Let me confirm the capital again to be sure. Yes, Dhaka is the capital. So the polished query should be \"What is the capital of Bangladesh?\" which should yield the correct answer without any issues.\n",
      "</think>\n",
      "\n",
      "The capital of Bangladesh is Dhaka. To ensure accurate retrieval from a database or knowledge base, the query should be phrased clearly and spelled correctly. Here's a polished version of your query for optimal results:\n",
      "\n",
      "**Polished Query:**  \n",
      "*\"What is the capital of Bangladesh?\"*\n",
      "\n",
      "This revised query removes typos and uses proper capitalization, making it easier to match with authoritative information.\n",
      "web serarch\n",
      "generate\n",
      "--web content--\n",
      "content='\\n<think>\\nOkay, the user\\'s question is about the capital of Bangladesh, but there was an error because their query was too long. The error message mentions a maximum of 400 characters, so maybe the original query was over that. But in this case, the user\\'s question was pretty short. Wait, looking at the example, the user had a typo in \"Bangladesh\" as \"banglades\". The error might be due to some other part of the query?\\n\\nWait, the user\\'s original message had a lot of markdown and formatting, including the detailed context and instructions. Oh, but the error message they received was because the query was too long. The assistant\\'s response mentioned a polished query, but the error occurred again. Hmm, maybe the user included too much in their query, like the entire problem setup.\\n\\nThe user wants to know the capital of Bangladesh. The correct answer is Dhaka. The previous attempt had an error because the query exceeded the character limit. To fix it, I should shorten the query to just the essential part without extra formatting. The answer is straightforward: Dhaka. Let me make sure to present it concisely to avoid hitting the limit again.\\n</think>\\n\\nThe capital of Bangladesh is **Dhaka**. To avoid query length errors, keep requests concise. For example: \"What is the capital of Bangladesh?\" This ensures efficient retrieval of accurate information.' additional_kwargs={} response_metadata={'token_usage': {'completion_tokens': 284, 'prompt_tokens': 362, 'total_tokens': 646, 'completion_time': 0.706371535, 'prompt_time': 0.047112427, 'queue_time': 5.533721268, 'total_time': 0.753483962}, 'model_name': 'qwen-qwq-32b', 'system_fingerprint': 'fp_1e88ca32eb', 'finish_reason': 'stop', 'logprobs': None} id='run--4023c31b-0d99-4ba1-9da9-55f179281b31-0' usage_metadata={'input_tokens': 362, 'output_tokens': 284, 'total_tokens': 646}\n"
     ]
    },
    {
     "data": {
      "text/plain": [
       "{'question': 'what is the capital of banglades?',\n",
       " 'context': '\\u200bGet started\\nChoose the path that best fits your needs:\\n\\u200bQuick Starts\\nFor Server DevelopersGet started building your own server to use in Claude for Desktop and other clientsFor Client DevelopersGet started building your own client that can integrate with all MCP serversFor Claude Desktop UsersGet started using pre-built servers in Claude for Desktop\\n\\u200bExamples\\nExample ServersCheck out our gallery of official MCP servers and implementationsExample ClientsView the list of clients that support MCP integrations\\n\\u200bTutorials\\nBuilding MCP with LLMsLearn how to use LLMs like Claude to speed up your MCP developmentDebugging GuideLearn how to effectively debug MCP servers and integrationsMCP InspectorTest and inspect your MCP servers with our interactive debugging toolMCP Workshop (Video, 2hr)\\n\\u200bExplore MCP\\nDive deeper into MCP’s core concepts and capabilities:\\n\\nWas this page helpful?\\n      \\n\\n\\n\\n\\n\\n\\n\\n\\n\\n\\n\\n              \\n              \\n                \\n              \\n              \\n              \\n                \\n                \\n              \\n              Thanks for your feedback!\\n            \\n\\n              \\n              \\n                \\n              \\n              \\n              \\n                \\n                \\n              \\n              Thanks for your feedback! Please help us improve this page by adding to the discussion below.\\n            \\n\\n\\n\\n\\n\\n\\n\\n\\n\\n\\n\\n  Back to top\\n\\n\\n\\n\\n\\n\\n\\n                Next\\n              \\n\\n                Quickstart\\n              \\n\\n\\n\\n\\n\\n\\n\\n\\n\\n\\n      Copyright © 2025 LangChain, Inc | Consent Preferences\\n\\n  \\n  \\n    Made with\\n    \\n      Material for MkDocs\\n\\nCore benefits\\n    \\n\\n\\n\\n\\n\\n      LangGraph’s ecosystem\\n    \\n\\n\\n\\n\\n\\n      Additional resources\\n    \\n\\n\\n\\n\\n\\n      Acknowledgements\\n    \\n\\n\\n\\n\\n\\n\\n\\n\\n\\n\\n\\n\\n\\n\\nLangGraph\\n\\n\\n\\n\\n\\n\\n\\n\\n\\n\\n\\n\\n\\n\\n\\n\\n\\n\\n\\nTrusted by companies shaping the future of agents – including Klarna, Replit, Elastic, and more – LangGraph is a low-level orchestration framework for building, managing, and deploying long-running, stateful agents.\\nGet started¶\\nInstall LangGraph:\\npip install -U langgraph\\n\\nThen, create an agent using prebuilt components:\\n# pip install -qU \"langchain[anthropic]\" to call the model\\n\\nfrom langgraph.prebuilt import create_react_agent\\n\\ndef get_weather(city: str) -> str:\\n    \"\"\"Get weather for a given city.\"\"\"\\n    return f\"It\\'s always sunny in {city}!\"\\n\\nagent = create_react_agent(\\n    model=\"anthropic:claude-3-7-sonnet-latest\",\\n    tools=[get_weather],\\n    prompt=\"You are a helpful assistant\"\\n)\\n\\n# Run the agent\\nagent.invoke(\\n    {\"messages\": [{\"role\": \"user\", \"content\": \"what is the weather in sf\"}]}\\n)\\n\\nLangGraph\\n\\n\\n\\n\\n\\n\\n\\n\\n\\n\\n\\n\\n\\n\\n\\n\\n\\n\\n\\n\\n\\n\\n          Skip to content\\n        \\n\\n\\n\\n\\n\\n\\n\\nWe are growing and hiring for multiple roles for LangChain, LangGraph and LangSmith.  Join our team!\\n\\n\\n\\n\\n\\n\\n\\n\\n\\n\\n\\n\\n\\n\\n\\n\\n\\n            LangGraph\\n          \\n\\n\\n\\n            \\n              LangGraph\\n            \\n          \\n\\n\\n\\n\\n\\n\\n\\n\\n\\n\\n\\n\\n\\n\\n\\n\\n\\n\\n\\n\\n\\n\\n\\n\\n\\n\\n\\n\\n\\n\\n\\n\\n\\n\\n\\n\\n\\n\\n\\n\\n            Initializing search\\n          \\n\\n\\n\\n\\n\\n\\n\\n\\n\\n\\n\\n\\n    GitHub\\n  \\n\\n\\n\\n\\n\\n\\n\\n\\n          \\n  \\n  \\n    \\n  \\n  Guides\\n\\n        \\n\\n\\n\\n          \\n  \\n  \\n    \\n  \\n  Reference\\n\\n        \\n\\n\\n\\n          \\n  \\n  \\n    \\n  \\n  Examples\\n\\n        \\n\\n\\n\\n          \\n  \\n  \\n    \\n  \\n  Resources\\n\\n        \\n\\n\\n\\n\\n\\n\\n\\n\\n\\n\\n\\n\\n\\n\\n\\n\\n\\n    LangGraph\\n  \\n\\n\\n\\n\\n\\n\\n    GitHub\\n  \\n\\n\\n\\n\\n\\n\\n\\n\\n    Guides\\n    \\n  \\n\\n\\n\\n\\n\\n\\n\\n\\n            Guides\\n          \\n\\n\\n\\n\\n\\n    Get started\\n    \\n  \\n\\n\\n\\n\\n\\n            Get started\\n          \\n\\n\\n\\n\\n    Quickstart\\n    \\n  \\n\\n\\n\\n\\n\\n    LangGraph basics\\n    \\n  \\n\\n\\n\\n\\n\\n\\n    Deployment\\n    \\n  \\n\\n\\n\\n\\n\\n\\n\\n\\n\\n    Prebuilt agents\\n    \\n  \\n\\n\\n\\n\\n\\n            Prebuilt agents\\n          \\n\\n\\n\\n\\n    Overview',\n",
       " 'response': '\\n<think>\\nOkay, the user\\'s question is about the capital of Bangladesh, but there was an error because their query was too long. The error message mentions a maximum of 400 characters, so maybe the original query was over that. But in this case, the user\\'s question was pretty short. Wait, looking at the example, the user had a typo in \"Bangladesh\" as \"banglades\". The error might be due to some other part of the query?\\n\\nWait, the user\\'s original message had a lot of markdown and formatting, including the detailed context and instructions. Oh, but the error message they received was because the query was too long. The assistant\\'s response mentioned a polished query, but the error occurred again. Hmm, maybe the user included too much in their query, like the entire problem setup.\\n\\nThe user wants to know the capital of Bangladesh. The correct answer is Dhaka. The previous attempt had an error because the query exceeded the character limit. To fix it, I should shorten the query to just the essential part without extra formatting. The answer is straightforward: Dhaka. Let me make sure to present it concisely to avoid hitting the limit again.\\n</think>\\n\\nThe capital of Bangladesh is **Dhaka**. To avoid query length errors, keep requests concise. For example: \"What is the capital of Bangladesh?\" This ensures efficient retrieval of accurate information.',\n",
       " 's_docs': {'error': ValueError('Error 400: Query is too long. Max query length is 400 characters.')},\n",
       " 'grade': 'no',\n",
       " 'pol_ques': '\\n<think>\\nOkay, the user asked \"what is the capital of banglades?\" with a typo in \"Bangladesh\". First, I need to correct the spelling of the country\\'s name to ensure accurate results. The correct spelling is \"Bangladesh\". Then, the capital of Bangladesh is Dhaka, which is a well-known fact. However, the user mentioned that their query might not retrieve relevant content from the vectorDB. Maybe the typo caused an issue. To improve the query, I should first correct \"banglades\" to \"Bangladesh\" and rephrase the question for clarity. That way, the system can better match it with existing data. Let me confirm the capital again to be sure. Yes, Dhaka is the capital. So the polished query should be \"What is the capital of Bangladesh?\" which should yield the correct answer without any issues.\\n</think>\\n\\nThe capital of Bangladesh is Dhaka. To ensure accurate retrieval from a database or knowledge base, the query should be phrased clearly and spelled correctly. Here\\'s a polished version of your query for optimal results:\\n\\n**Polished Query:**  \\n*\"What is the capital of Bangladesh?\"*\\n\\nThis revised query removes typos and uses proper capitalization, making it easier to match with authoritative information.'}"
      ]
     },
     "execution_count": 193,
     "metadata": {},
     "output_type": "execute_result"
    }
   ],
   "source": [
    "graph.invoke(\n",
    "    {\n",
    "        \"question\": \"what is the capital of banglades?\"\n",
    "    }\n",
    ")"
   ]
  },
  {
   "cell_type": "code",
   "execution_count": null,
   "id": "0552479b",
   "metadata": {},
   "outputs": [],
   "source": []
  }
 ],
 "metadata": {
  "kernelspec": {
   "display_name": "lang_aca",
   "language": "python",
   "name": "python3"
  },
  "language_info": {
   "codemirror_mode": {
    "name": "ipython",
    "version": 3
   },
   "file_extension": ".py",
   "mimetype": "text/x-python",
   "name": "python",
   "nbconvert_exporter": "python",
   "pygments_lexer": "ipython3",
   "version": "3.11.11"
  }
 },
 "nbformat": 4,
 "nbformat_minor": 5
}
