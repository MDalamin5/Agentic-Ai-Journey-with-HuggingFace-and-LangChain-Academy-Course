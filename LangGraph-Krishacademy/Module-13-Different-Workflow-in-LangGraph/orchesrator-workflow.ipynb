{
 "cells": [
  {
   "cell_type": "markdown",
   "id": "518e75b7",
   "metadata": {},
   "source": [
    "# ***Parallelization using `SEND API`***"
   ]
  },
  {
   "cell_type": "code",
   "execution_count": 1,
   "id": "6bd105ad",
   "metadata": {},
   "outputs": [],
   "source": [
    "import os\n",
    "from dotenv import load_dotenv\n",
    "load_dotenv()\n",
    "\n",
    "from langchain_groq import ChatGroq\n",
    "\n",
    "os.environ[\"GROQ_API_KEY\"]=os.getenv(\"GROQ_API_KEY\")\n",
    "\n",
    "llm = ChatGroq(model=\"meta-llama/llama-4-scout-17b-16e-instruct\")"
   ]
  },
  {
   "cell_type": "markdown",
   "id": "a9bb00db",
   "metadata": {},
   "source": [
    "## Define the Report section Structure."
   ]
  },
  {
   "cell_type": "code",
   "execution_count": 5,
   "id": "f1663e75",
   "metadata": {},
   "outputs": [],
   "source": [
    "from pydantic import BaseModel, Field\n",
    "from typing import TypedDict, List, Literal, Annotated\n",
    "\n",
    "class Section(BaseModel):\n",
    "    name: Annotated[str, Field(description=\"This is the name of the section of the report.\")]\n",
    "    description: Annotated[str, Field(description=\"The brief explanation of the main topics and concept of the section.\")]\n",
    "    \n",
    "class Sections(BaseModel):\n",
    "    sections: Annotated[List[Section], Field(description=\"Sections of the report.\")]\n",
    "    \n",
    "planner = llm.with_structured_output(Sections)"
   ]
  },
  {
   "cell_type": "code",
   "execution_count": 7,
   "id": "4c769494",
   "metadata": {},
   "outputs": [
    {
     "data": {
      "text/plain": [
       "{'sections': [{'name': 'Introduction',\n",
       "   'description': 'Agentic AI refers to a type of artificial intelligence that is capable of autonomous decision-making and action. It is designed to mimic human-like intelligence, with the ability to perceive, reason, and act in complex environments.'},\n",
       "  {'name': 'Key Features',\n",
       "   'description': 'Agentic AI systems are characterized by their ability to learn from experience, adapt to new situations, and make decisions based on their own goals and motivations. They are often designed to interact with humans and other agents in a collaborative or competitive manner.'},\n",
       "  {'name': 'Applications',\n",
       "   'description': 'Agentic AI has a wide range of applications, including robotics, autonomous vehicles, smart homes, and personalized assistants. It is also being explored for use in areas such as healthcare, finance, and education.'},\n",
       "  {'name': 'Benefits',\n",
       "   'description': 'The benefits of Agentic AI include improved efficiency, increased productivity, and enhanced decision-making capabilities. It also has the potential to enable new forms of human-AI collaboration and to drive innovation in various industries.'},\n",
       "  {'name': 'Challenges',\n",
       "   'description': 'Despite its potential, Agentic AI also poses several challenges, including the need for more advanced algorithms and data structures, as well as concerns around transparency, accountability, and ethics.'}]}"
      ]
     },
     "execution_count": 7,
     "metadata": {},
     "output_type": "execute_result"
    }
   ],
   "source": [
    "planner.invoke(\"can you write a details report about the Agentic ai.\").model_dump()"
   ]
  },
  {
   "cell_type": "code",
   "execution_count": null,
   "id": "3df61a3e",
   "metadata": {},
   "outputs": [],
   "source": []
  }
 ],
 "metadata": {
  "kernelspec": {
   "display_name": "lang_aca",
   "language": "python",
   "name": "python3"
  },
  "language_info": {
   "codemirror_mode": {
    "name": "ipython",
    "version": 3
   },
   "file_extension": ".py",
   "mimetype": "text/x-python",
   "name": "python",
   "nbconvert_exporter": "python",
   "pygments_lexer": "ipython3",
   "version": "3.11.11"
  }
 },
 "nbformat": 4,
 "nbformat_minor": 5
}
