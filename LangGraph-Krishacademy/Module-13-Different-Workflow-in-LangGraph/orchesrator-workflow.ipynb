{
 "cells": [
  {
   "cell_type": "markdown",
   "id": "518e75b7",
   "metadata": {},
   "source": [
    "# ***Parallelization using `SEND API`***"
   ]
  },
  {
   "cell_type": "code",
   "execution_count": 129,
   "id": "6bd105ad",
   "metadata": {},
   "outputs": [],
   "source": [
    "import os\n",
    "from dotenv import load_dotenv\n",
    "load_dotenv()\n",
    "\n",
    "from langchain_groq import ChatGroq\n",
    "\n",
    "os.environ[\"GROQ_API_KEY\"]=os.getenv(\"GROQ_API_KEY\")\n",
    "\n",
    "llm = ChatGroq(model=\"meta-llama/llama-4-scout-17b-16e-instruct\")"
   ]
  },
  {
   "cell_type": "markdown",
   "id": "a9bb00db",
   "metadata": {},
   "source": [
    "## Define the Report section Structure."
   ]
  },
  {
   "cell_type": "code",
   "execution_count": 130,
   "id": "f1663e75",
   "metadata": {},
   "outputs": [],
   "source": [
    "from pydantic import BaseModel, Field\n",
    "from typing import TypedDict, List, Literal, Annotated\n",
    "\n",
    "class Section(BaseModel):\n",
    "    name: Annotated[str, Field(description=\"This is the name of the section of the report.\")]\n",
    "    description: Annotated[str, Field(description=\"The brief explanation of the main topics and concept of the section.\")]\n",
    "    \n",
    "class Sections(BaseModel):\n",
    "    sections: Annotated[List[Section], Field(description=\"Sections of the report.\")]\n",
    "    \n",
    "planner = llm.with_structured_output(Sections)"
   ]
  },
  {
   "cell_type": "code",
   "execution_count": 131,
   "id": "4c769494",
   "metadata": {},
   "outputs": [
    {
     "data": {
      "text/plain": [
       "{'sections': [{'name': 'Introduction',\n",
       "   'description': 'Agentic AI refers to a type of artificial intelligence that is capable of autonomous decision-making and action. It is designed to mimic human-like intelligence, with the ability to perceive, reason, and act in complex environments.'},\n",
       "  {'name': 'Key Features',\n",
       "   'description': 'Agentic AI systems are characterized by their ability to learn from experience, adapt to new situations, and make decisions based on their goals and objectives. They can operate in a variety of domains, including robotics, finance, and healthcare.'},\n",
       "  {'name': 'Applications',\n",
       "   'description': \"Agentic AI has numerous applications across industries, including autonomous vehicles, personalized medicine, and intelligent virtual assistants. It has the potential to transform businesses and improve people's lives.\"},\n",
       "  {'name': 'Benefits',\n",
       "   'description': 'The benefits of Agentic AI include increased efficiency, improved accuracy, and enhanced decision-making capabilities. It can also enable new products and services, and create new business models.'},\n",
       "  {'name': 'Challenges',\n",
       "   'description': 'Despite its potential, Agentic AI also poses significant challenges, including the need for transparency, explainability, and accountability. There are also concerns about job displacement, bias, and security risks.'}]}"
      ]
     },
     "execution_count": 131,
     "metadata": {},
     "output_type": "execute_result"
    }
   ],
   "source": [
    "response = planner.invoke(\"can you write a details report about the Agentic ai.\").model_dump()\n",
    "response"
   ]
  },
  {
   "cell_type": "code",
   "execution_count": 132,
   "id": "3df61a3e",
   "metadata": {},
   "outputs": [
    {
     "data": {
      "text/plain": [
       "'Agentic AI refers to a type of artificial intelligence that is capable of autonomous decision-making and action. It is designed to mimic human-like intelligence, with the ability to perceive, reason, and act in complex environments.'"
      ]
     },
     "execution_count": 132,
     "metadata": {},
     "output_type": "execute_result"
    }
   ],
   "source": [
    "response['sections'][0]['description']"
   ]
  },
  {
   "cell_type": "code",
   "execution_count": 133,
   "id": "249624ab",
   "metadata": {},
   "outputs": [
    {
     "data": {
      "text/plain": [
       "[Section(name='Introduction', description='Deep learning is a subset of machine learning that involves the use of artificial neural networks to analyze and interpret data.'),\n",
       " Section(name='History of Deep Learning', description=\"The concept of deep learning dates back to the 1940s, but it wasn't until the 2010s that it gained popularity and became a major area of research in the field of artificial intelligence.\"),\n",
       " Section(name='Key Concepts', description='Some key concepts in deep learning include artificial neural networks, deep neural networks, convolutional neural networks, and recurrent neural networks.'),\n",
       " Section(name='Applications of Deep Learning', description='Deep learning has a wide range of applications, including image and speech recognition, natural language processing, and autonomous vehicles.'),\n",
       " Section(name='Challenges and Limitations', description='Despite its many successes, deep learning also has some challenges and limitations, including the need for large amounts of data and computational resources, and the risk of overfitting.'),\n",
       " Section(name='Future of Deep Learning', description='The future of deep learning is likely to involve continued advances in areas such as transfer learning, explainability, and edge AI.')]"
      ]
     },
     "execution_count": 133,
     "metadata": {},
     "output_type": "execute_result"
    }
   ],
   "source": [
    "response = planner.invoke(\"can you write a details report about the Deep Learning.\")\n",
    "response.sections"
   ]
  },
  {
   "cell_type": "markdown",
   "id": "8adef591",
   "metadata": {},
   "source": [
    "## Graph State"
   ]
  },
  {
   "cell_type": "code",
   "execution_count": 134,
   "id": "2913ddfc",
   "metadata": {},
   "outputs": [],
   "source": [
    "import operator\n",
    "from langchain_core.messages import HumanMessage , SystemMessage\n",
    "class State(TypedDict):\n",
    "    \"\"\"Description\"\"\"\n",
    "    topic: str\n",
    "    sections: list[Section]\n",
    "    completed_sections: Annotated[list, operator.add]\n",
    "    final_report: str\n",
    "    \n",
    "    \n",
    "class WorkerState(TypedDict):\n",
    "    \"\"\"description\"\"\"\n",
    "    section: Section\n",
    "    completed_sections: Annotated[list, operator.add]\n",
    "    \n",
    "\n",
    "    "
   ]
  },
  {
   "cell_type": "code",
   "execution_count": 135,
   "id": "34ca6c6f",
   "metadata": {},
   "outputs": [],
   "source": [
    "\n",
    "from langgraph.types import Send\n",
    "#nodes\n",
    "def orchestrator(state: State):\n",
    "    \"\"\"Orchestrator that generate a plan for the report.\"\"\"\n",
    "    \n",
    "    report_sections = planner.invoke(\n",
    "        [\n",
    "            SystemMessage(content=\"Generate a details plan for the report\"),\n",
    "            HumanMessage(content=(f\"hare is the report topics {state['topic']}\")),\n",
    "        ]\n",
    "    )\n",
    "    \n",
    "    print(\"Report section: \", report_sections.sections)\n",
    "    \n",
    "    return {\n",
    "        \"sections\": report_sections.sections\n",
    "    }\n",
    "    \n",
    "\n",
    "def llm_call(state: WorkerState):\n",
    "    print(\"i'm haere llm call------\")\n",
    "    \"\"\"Worker writes a section of the report.\"\"\"\n",
    "    \n",
    "    section = llm.invoke(\n",
    "        [\n",
    "            SystemMessage(content=\"Write a report section following the provided name and description. Include no preamble for each section and use markdown format.\"),\n",
    "            HumanMessage(content=f\"Hare is the section name: {state['section'].name} and description: {state['section'].description}\"),\n",
    "        ]\n",
    "    )\n",
    "    \n",
    "    return {\n",
    "        \"completed_sections\": [section.content]\n",
    "    }\n",
    "    \n",
    "def assign_worker(state: State):\n",
    "    print(\"----assign worker----\")\n",
    "    \"\"\"Assign a worker to each section in the plan.\"\"\"\n",
    "    return [Send(\"llm_call\", {\"section\": s}) for s in state[\"sections\"]]\n",
    "\n",
    "\n",
    "def synthesizer(state: State):\n",
    "    print(\"----systhe-----\")\n",
    "    \"\"\"this function is responsible for merge the all document.\"\"\"\n",
    "    completed_sections = state[\"completed_sections\"]\n",
    "    \n",
    "    completed_sections_report = \"\\n\\n---\\n\\n\".join(completed_sections)\n",
    "    # print(\"Allll contennntntk\", completed_sections_report)\n",
    "    # # from IPython.display import Markdown\n",
    "    # # Markdown(completed_sections_report)\n",
    "    return {\n",
    "        \"final_report\": completed_sections_report\n",
    "    }"
   ]
  },
  {
   "cell_type": "markdown",
   "id": "3da3fd7b",
   "metadata": {},
   "source": [
    "## workflow"
   ]
  },
  {
   "cell_type": "code",
   "execution_count": 136,
   "id": "a7b44f62",
   "metadata": {},
   "outputs": [
    {
     "data": {
      "image/png": "[encoded data removed]",
      "text/plain": [
       "<IPython.core.display.Image object>"
      ]
     },
     "metadata": {},
     "output_type": "display_data"
    }
   ],
   "source": [
    "from langgraph.graph import StateGraph, START, END\n",
    "from IPython.display import Image, display\n",
    "builder = StateGraph(State)\n",
    "\n",
    "builder.add_node(\"orchestrator\", orchestrator)\n",
    "builder.add_node(\"llm_call\", llm_call)\n",
    "builder.add_node(\"synthesizer\", synthesizer)\n",
    "\n",
    "## add edges\n",
    "builder.add_edge(START, \"orchestrator\")\n",
    "builder.add_conditional_edges(\n",
    "    \"orchestrator\",\n",
    "    assign_worker,\n",
    "    [\"llm_call\"]\n",
    ")\n",
    "builder.add_edge(\"llm_call\", \"synthesizer\")\n",
    "builder.add_edge(\"synthesizer\", END)\n",
    "\n",
    "graph = builder.compile()\n",
    "##\n",
    "display(Image(graph.get_graph().draw_mermaid_png()))"
   ]
  },
  {
   "cell_type": "code",
   "execution_count": 137,
   "id": "7c57ac4e",
   "metadata": {},
   "outputs": [
    {
     "name": "stdout",
     "output_type": "stream",
     "text": [
      "Report section:  [Section(name='Introduction', description='This section will provide an overview of Agentic AI, its definition, and its significance in the current technological landscape.'), Section(name='What is Agentic AI?', description='This section will delve into the specifics of Agentic AI, including its characteristics, capabilities, and applications.'), Section(name='Key Features and Benefits', description='This section will highlight the key features and benefits of Agentic AI, such as its ability to learn, reason, and interact with humans.'), Section(name='Applications and Use Cases', description='This section will explore the various applications and use cases of Agentic AI across industries, including healthcare, finance, and education.'), Section(name='Challenges and Limitations', description='This section will discuss the challenges and limitations of Agentic AI, including issues related to bias, transparency, and accountability.'), Section(name='Future Outlook and Conclusion', description='This section will provide an outlook on the future of Agentic AI, its potential impact on society, and conclude the report with key takeaways.')]\n",
      "----assign worker----\n",
      "i'm haere llm call------\n",
      "i'm haere llm call------\n",
      "i'm haere llm call------\n",
      "i'm haere llm call------\n",
      "i'm haere llm call------\n",
      "i'm haere llm call------\n",
      "----systhe-----\n"
     ]
    }
   ],
   "source": [
    "state = graph.invoke(\n",
    "   {\n",
    "        \"topic\": \"Create report on Agentic AI\"\n",
    "   }\n",
    ")"
   ]
  },
  {
   "cell_type": "code",
   "execution_count": 138,
   "id": "26321854",
   "metadata": {},
   "outputs": [
    {
     "data": {
      "text/markdown": [
       "### Introduction\n",
       "Agentic AI refers to a type of artificial intelligence that is capable of acting independently, making decisions, and taking actions on its own, often with a high degree of autonomy. This form of AI is designed to simulate human-like intelligence, with the ability to perceive its environment, process information, and execute tasks without explicit programming for every step.\n",
       "\n",
       "### Description\n",
       "The significance of Agentic AI in the current technological landscape cannot be overstated. As AI continues to evolve, the development of agentic systems represents a shift towards more sophisticated and human-like intelligence. These systems have the potential to revolutionize various industries, from healthcare and finance to transportation and education, by enabling more efficient, adaptive, and personalized solutions.\n",
       "\n",
       "### Key Characteristics\n",
       "- **Autonomy**: The ability to operate and make decisions without human intervention.\n",
       "- **Adaptability**: The capacity to adjust to new information, environments, or tasks.\n",
       "- **Goal-Oriented Behavior**: The ability to set objectives and work towards achieving them.\n",
       "\n",
       "### Significance\n",
       "The emergence of Agentic AI holds profound implications for society, economy, and technology. It promises to unlock new levels of productivity, innovation, and efficiency. However, it also raises important questions about ethics, safety, and the future of work. As such, understanding Agentic AI is crucial for navigating the opportunities and challenges presented by this rapidly evolving field.\n",
       "\n",
       "---\n",
       "\n",
       "### What is Agentic AI?\n",
       "Agentic AI refers to a type of artificial intelligence that exhibits a high degree of autonomy, agency, and goal-directed behavior. The key characteristics of Agentic AI include:\n",
       "\n",
       "* **Autonomy**: The ability to operate independently, making decisions and taking actions without human intervention.\n",
       "* **Self-initiation**: The capacity to initiate actions or tasks on its own, rather than simply responding to external stimuli.\n",
       "* **Goal-directed behavior**: The ability to set and pursue its own goals, adapting to changing circumstances as needed.\n",
       "\n",
       "The capabilities of Agentic AI include:\n",
       "\n",
       "* **Complex problem-solving**: Agentic AI can tackle complex, dynamic problems that require adaptive and creative solutions.\n",
       "* **Learning and adaptation**: Agentic AI can learn from experience, updating its knowledge and behavior to improve its performance over time.\n",
       "* **Human-like interaction**: Agentic AI can interact with humans in a more natural, intuitive way, using language, gestures, and other forms of communication.\n",
       "\n",
       "The applications of Agentic AI are diverse and widespread, including:\n",
       "\n",
       "* **Virtual assistants**: Agentic AI can power virtual assistants that help users with a range of tasks, from scheduling appointments to making travel arrangements.\n",
       "* **Smart homes and cities**: Agentic AI can be used to create smart homes and cities that adapt to the needs of their occupants, optimizing energy usage, traffic flow, and public services.\n",
       "* **Healthcare and medicine**: Agentic AI can help with medical diagnosis, treatment planning, and patient care, improving health outcomes and reducing costs.\n",
       "\n",
       "---\n",
       "\n",
       "### Key Features and Benefits\n",
       "\n",
       "* **Autonomous Learning**: Agentic AI has the ability to learn from various data sources, update its knowledge base, and adapt to new information without requiring manual intervention.\n",
       "* **Advanced Reasoning**: The AI system can reason and draw inferences from the data it has learned, enabling it to make informed decisions and predictions.\n",
       "* **Human-AI Interaction**: Agentic AI is designed to interact with humans in a natural and intuitive way, using various interfaces such as text, voice, and visual displays.\n",
       "* **Contextual Understanding**: The AI system can understand the context of a conversation or situation, enabling it to respond appropriately and provide relevant information.\n",
       "* **Scalability and Flexibility**: Agentic AI can be applied to various domains and industries, and can be scaled up or down depending on the specific use case.\n",
       "\n",
       "The benefits of Agentic AI include:\n",
       "\n",
       "* **Improved Efficiency**: Agentic AI can automate routine and repetitive tasks, freeing up human resources for more strategic and creative work.\n",
       "* **Enhanced Decision-Making**: The AI system's ability to analyze large amounts of data and make informed decisions can lead to better outcomes and reduced errors.\n",
       "* **Increased Productivity**: Agentic AI can assist humans in various tasks, such as data analysis, customer service, and content creation, leading to increased productivity and efficiency.\n",
       "* **Personalized Experiences**: The AI system's ability to understand human preferences and behavior can enable personalized experiences and tailored recommendations.\n",
       "\n",
       "---\n",
       "\n",
       "### Applications and Use Cases\n",
       "Agentic AI has the potential to transform numerous industries and domains, enabling more efficient, effective, and personalized solutions. Some of the key applications and use cases of Agentic AI are highlighted below.\n",
       "\n",
       "#### Healthcare\n",
       "* **Personalized Medicine**: Agentic AI can help tailor treatment plans to individual patients based on their unique genetic profiles, medical histories, and lifestyle factors.\n",
       "* **Clinical Decision Support**: Agentic AI systems can analyze large amounts of medical data to provide healthcare professionals with real-time, evidence-based recommendations for diagnosis, treatment, and patient care.\n",
       "* **Patient Engagement**: Agentic AI-powered chatbots and virtual assistants can help patients manage chronic conditions, adhere to medication regimens, and stay informed about their health.\n",
       "\n",
       "#### Finance\n",
       "* **Risk Management**: Agentic AI can help financial institutions identify and mitigate potential risks, such as credit default, market volatility, and regulatory non-compliance.\n",
       "* **Portfolio Optimization**: Agentic AI systems can analyze market data and optimize investment portfolios to maximize returns and minimize losses.\n",
       "* **Customer Service**: Agentic AI-powered chatbots and virtual assistants can provide personalized support to customers, helping them manage accounts, make transactions, and access financial information.\n",
       "\n",
       "#### Education\n",
       "* **Personalized Learning**: Agentic AI can help tailor educational content and learning experiences to individual students' needs, abilities, and learning styles.\n",
       "* **Intelligent Tutoring Systems**: Agentic AI systems can provide one-on-one support to students, offering real-time feedback, guidance, and assessment.\n",
       "* **Content Creation**: Agentic AI can assist educators in developing high-quality educational content, such as adaptive assessments, interactive simulations, and virtual labs.\n",
       "\n",
       "#### Other Industries\n",
       "* **Manufacturing**: Agentic AI can help optimize production processes, predict maintenance needs, and improve product quality.\n",
       "* **Transportation**: Agentic AI systems can enable more efficient route planning, traffic management, and autonomous vehicle operation.\n",
       "* **Customer Service**: Agentic AI-powered chatbots and virtual assistants can provide personalized support to customers across various industries, helping them access information, resolve issues, and complete transactions.\n",
       "\n",
       "---\n",
       "\n",
       "### Challenges and Limitations\n",
       "\n",
       "The development and deployment of Agentic AI systems are accompanied by several challenges and limitations that need to be addressed. One of the primary concerns is **bias**. Agentic AI systems can perpetuate and even amplify existing biases present in the data used for their training. These biases can affect decision-making processes, leading to unfair outcomes in critical areas such as hiring, law enforcement, and loan approvals. Ensuring that Agentic AI systems are designed and trained to recognize and mitigate bias is essential.\n",
       "\n",
       "Another significant challenge is **transparency**. As Agentic AI systems become more autonomous, understanding their decision-making processes becomes increasingly difficult. This lack of transparency can lead to mistrust among users and stakeholders, making it challenging to implement these systems in high-stakes environments. Techniques such as explainable AI (XAI) are being explored to provide insights into the workings of Agentic AI systems, but more research is needed to achieve sufficient transparency.\n",
       "\n",
       "**Accountability** is also a major concern. With Agentic AI systems operating autonomously, it can be difficult to determine who is responsible when something goes wrong. This issue is particularly problematic in situations where the system's actions result in harm or financial loss. Developing clear guidelines and regulations for accountability in Agentic AI is crucial to ensure that these systems can be used safely and effectively.\n",
       "\n",
       "Furthermore, **security** poses a significant challenge. Agentic AI systems can be vulnerable to attacks that compromise their integrity and functionality. For instance, adversarial attacks can be used to manipulate the system's decisions or steal sensitive information. Ensuring the security of Agentic AI systems requires the development of robust defense mechanisms and secure-by-design approaches.\n",
       "\n",
       "Lastly, there are **ethical and societal implications** to consider. The deployment of Agentic AI systems can lead to significant changes in the workforce, potentially displacing jobs and requiring workers to acquire new skills. There are also concerns about the impact of these systems on individual autonomy and freedom. Addressing these challenges requires a multidisciplinary approach that involves not only technologists but also ethicists, policymakers, and social scientists.\n",
       "\n",
       "---\n",
       "\n",
       "### Future Outlook and Conclusion\n",
       "\n",
       "The rapid advancement of Agentic AI is expected to have a profound impact on various aspects of society, transforming the way we live, work, and interact with technology. As Agentic AI continues to evolve, we can anticipate significant improvements in areas such as healthcare, education, and transportation. \n",
       "\n",
       "*   **Potential Impact on Society:** Agentic AI has the potential to augment human capabilities, enhancing productivity and efficiency across industries. However, this technological leap also raises concerns about job displacement, data privacy, and the need for robust regulatory frameworks.\n",
       "*   **Future Applications:** Future applications of Agentic AI may include personalized medicine, autonomous vehicles, and intelligent tutoring systems. These innovations have the potential to revolutionize industries and improve the quality of life for individuals worldwide.\n",
       "*   **Key Challenges:** Despite the promising prospects, several challenges need to be addressed, including ensuring transparency, accountability, and fairness in Agentic AI decision-making processes.\n",
       "\n",
       "**Key Takeaways:**\n",
       "\n",
       "1.  Agentic AI has the potential to drive significant societal and economic change.\n",
       "2.  Addressing the challenges associated with Agentic AI, such as job displacement and data privacy, is crucial.\n",
       "3.  Continued research and development are necessary to ensure the safe and responsible deployment of Agentic AI.\n",
       "\n",
       "In conclusion, Agentic AI represents a transformative technology with far-reaching implications for society. As we move forward, it is essential to prioritize responsible innovation, ensuring that the benefits of Agentic AI are realized while minimizing its risks."
      ],
      "text/plain": [
       "<IPython.core.display.Markdown object>"
      ]
     },
     "execution_count": 138,
     "metadata": {},
     "output_type": "execute_result"
    }
   ],
   "source": [
    "from IPython.display import Markdown\n",
    "Markdown(state['final_report'])"
   ]
  }
 ],
 "metadata": {
  "kernelspec": {
   "display_name": "lang_aca",
   "language": "python",
   "name": "python3"
  },
  "language_info": {
   "codemirror_mode": {
    "name": "ipython",
    "version": 3
   },
   "file_extension": ".py",
   "mimetype": "text/x-python",
   "name": "python",
   "nbconvert_exporter": "python",
   "pygments_lexer": "ipython3",
   "version": "3.11.11"
  }
 },
 "nbformat": 4,
 "nbformat_minor": 5
}
