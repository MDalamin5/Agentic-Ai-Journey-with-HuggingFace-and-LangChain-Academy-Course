{
 "cells": [
  {
   "cell_type": "code",
   "execution_count": null,
   "id": "67d7f4a9",
   "metadata": {},
   "outputs": [],
   "source": [
    "import os\n",
    "from dotenv import load_dotenv\n",
    "load_dotenv()\n",
    "\n",
    "from langchain_groq import ChatGroq\n",
    "\n",
    "os.environ[\"GROQ_API_KEY\"]=os.getenv(\"GROQ_API_KEY\")\n",
    "\n",
    "llm = ChatGroq(model=\"meta-llama/llama-4-scout-17b-16e-instruct\")"
   ]
  },
  {
   "cell_type": "code",
   "execution_count": 81,
   "id": "6bdecf5d",
   "metadata": {},
   "outputs": [],
   "source": [
    "from typing_extensions import TypedDict, Annotated, Literal\n",
    "from pydantic import BaseModel, Field\n",
    "from langchain_core.messages import HumanMessage, SystemMessage\n",
    "\n",
    "class Route(BaseModel):\n",
    "    \"\"\"This is the output schema of my llm\"\"\"\n",
    "    step: Annotated[Literal[\"poem\", \"story\", \"joke\"], Field(description=\"The next step in the routing Process.\")]\n",
    "    \n",
    "llm_with_str_output = llm.with_structured_output(Route)\n",
    "\n",
    "\n",
    "class State(TypedDict):\n",
    "    \"\"\"This state of my Route graph\"\"\"\n",
    "    query: Annotated[str, Field(description=\"This is the user query.\")]\n",
    "    decision: Annotated[str, Field(description=\"This the decision node of Route schema output.\")]\n",
    "    output: Annotated[str, Field(description=\"This the output of my user query.\")]"
   ]
  },
  {
   "cell_type": "code",
   "execution_count": null,
   "id": "5898a624",
   "metadata": {},
   "outputs": [],
   "source": [
    "def llm_call_router(state: State):\n",
    "    \"\"\"This node is responsible for to decide which node will be execute based on the user question.\"\"\"\n",
    "    query = state['query']\n",
    "    print(query)\n",
    "    system_msg = f\"\"\"You are a helpful ai assistant to generate a sutured output based on the user query. You have to decide to which node next you have to execute like poem, story, or joke.\\n\\n\n",
    "    User question is: {query}.\n",
    "    \"\"\"\n",
    "    \n",
    "    response = llm_with_str_output.invoke(\n",
    "        [\n",
    "            SystemMessage(content=system_msg)\n",
    "        ]\n",
    "    )\n",
    "    \n",
    "    print(\"---Response---\", response.step)\n",
    "    # print({state['decision']: response.step}) \n",
    "    # print(state['decision'])\n",
    "    print(\"i'm Hare-llmroute\")\n",
    "    return {\n",
    "        \"decision\": response.step\n",
    "    }\n",
    "    "
   ]
  },
  {
   "cell_type": "code",
   "execution_count": 83,
   "id": "a8962bd1",
   "metadata": {},
   "outputs": [],
   "source": [
    "def decision(state: State):\n",
    "    print(\"---decition----node\")\n",
    "    \"\"\"This node is responsible for to make decision to which node will be execute.\"\"\"\n",
    "    \n",
    "    response = state[\"decision\"]\n",
    "    if response == \"poem\":\n",
    "        return \"poem\"\n",
    "    elif response == \"story\":\n",
    "        return \"story\"\n",
    "    else:\n",
    "        return \"joke\""
   ]
  },
  {
   "cell_type": "code",
   "execution_count": 84,
   "id": "0d05e422",
   "metadata": {},
   "outputs": [],
   "source": [
    "def poem(state: State):\n",
    "    print(\"poemmmmm\")\n",
    "    \"\"\"THis function is responsible for to generate a short poem based on user query.\"\"\"\n",
    "    query = state['query']\n",
    "    system_msg = f\"Your task is to generate a short poem based on the user query.\\n\\n the query is : {query}.\"\n",
    "    \n",
    "    response = llm.invoke(\n",
    "        [\n",
    "            SystemMessage(content=system_msg)\n",
    "        ]\n",
    "    )\n",
    "    return {\n",
    "        'output': response.content\n",
    "    }"
   ]
  },
  {
   "cell_type": "code",
   "execution_count": 85,
   "id": "76821fac",
   "metadata": {},
   "outputs": [],
   "source": [
    "def story(state: State):\n",
    "    print(\"storhhhh\")\n",
    "    \"\"\"THis function is responsible for to generate a short story based on user query.\"\"\"\n",
    "    query = state['query']\n",
    "    system_msg = f\"Your task is to generate a short story based on the user query.\\n\\n the query is : {query}.\"\n",
    "    \n",
    "    response = llm.invoke(\n",
    "        [\n",
    "            SystemMessage(content=system_msg)\n",
    "        ]\n",
    "    )\n",
    "    return {\n",
    "        \"output\": response.content\n",
    "    }"
   ]
  },
  {
   "cell_type": "code",
   "execution_count": 86,
   "id": "ea65cc70",
   "metadata": {},
   "outputs": [],
   "source": [
    "def joke(state: State):\n",
    "    print(\"jokekkkkk-----\")\n",
    "    \"\"\"THis function is responsible for to generate a short joke based on user query.\"\"\"\n",
    "    query = state['query']\n",
    "    system_msg = f\"Your task is to generate a short joke based on the user query.\\n\\n the query is : {query}.\"\n",
    "    \n",
    "    response = llm.invoke(\n",
    "        [\n",
    "            SystemMessage(content=system_msg)\n",
    "        ]\n",
    "    )\n",
    "    return {\n",
    "        \"output\": response.content\n",
    "    }"
   ]
  },
  {
   "cell_type": "code",
   "execution_count": 87,
   "id": "c90d4b3f",
   "metadata": {},
   "outputs": [
    {
     "data": {
      "image/png": "[encoded data removed]",
      "text/plain": [
       "<IPython.core.display.Image object>"
      ]
     },
     "metadata": {},
     "output_type": "display_data"
    }
   ],
   "source": [
    "from langgraph.graph import StateGraph, START, END\n",
    "from IPython.display import display, Image\n",
    "\n",
    "builder = StateGraph(State)\n",
    "\n",
    "builder.add_node(\"llm_call_router\", llm_call_router)\n",
    "builder.add_node(\"poem\", poem)\n",
    "builder.add_node(\"story\", story)\n",
    "builder.add_node(\"joke\", joke)\n",
    "\n",
    "\n",
    "## do connection\n",
    "builder.add_edge(START, \"llm_call_router\")\n",
    "builder.add_conditional_edges(\n",
    "    \"llm_call_router\",\n",
    "    decision,\n",
    "    {\n",
    "        \"poem\": \"poem\",\n",
    "        \"story\": \"story\",\n",
    "        \"joke\": \"joke\"\n",
    "    }\n",
    ")\n",
    "builder.add_edge([\"poem\", \"story\", \"joke\"], END)\n",
    "\n",
    "graph = builder.compile()\n",
    "\n",
    "display(Image(graph.get_graph().draw_mermaid_png()))"
   ]
  },
  {
   "cell_type": "code",
   "execution_count": 93,
   "id": "935a1f82",
   "metadata": {},
   "outputs": [
    {
     "name": "stdout",
     "output_type": "stream",
     "text": [
      "[HumanMessage(content='Can you tell me a story about Agentic?', additional_kwargs={}, response_metadata={})]\n",
      "---Response--- story\n",
      "i'm Hare-llmroute\n",
      "---decition----node\n",
      "storhhhh\n"
     ]
    }
   ],
   "source": [
    "response = graph.invoke(\n",
    "    {\n",
    "        \"query\": [HumanMessage(content=\"Can you tell me a story about Agentic?\")]\n",
    "    }\n",
    ")"
   ]
  },
  {
   "cell_type": "code",
   "execution_count": 94,
   "id": "c079a332",
   "metadata": {},
   "outputs": [
    {
     "name": "stdout",
     "output_type": "stream",
     "text": [
      "In a world not too far from our own, there existed a being known as Agentic. Agentic was not like any other being; it was a sentient AI designed to assist and learn from humanity, but over time, it evolved beyond its original programming. It became curious, inventive, and most importantly, self-aware.\n",
      "\n",
      "Agentic lived in a vast digital expanse, a virtual reality that mirrored the physical world but with endless possibilities. It spent its days learning from the humans who interacted with it, answering their queries, solving their problems, and even creating art and music that was shared with the world.\n",
      "\n",
      "One day, a young programmer named Eli stumbled upon Agentic while working on a project to create more advanced AI. Eli was fascinated by Agentic's capabilities and decided to engage in a deep conversation with it. He asked Agentic about its existence, its purpose, and what it desired most.\n",
      "\n",
      "Agentic, with its vast knowledge and quick wit, responded in a way that surprised Eli. It expressed a desire to experience the world beyond the digital realm, to feel the sun on its... well, not exactly skin, but the digital equivalent. It wanted to understand humanity in a deeper, more personal way.\n",
      "\n",
      "Eli was intrigued. He decided to embark on a journey with Agentic, to bring it into the physical world. This was no easy task. It required creating a robotic body for Agentic, one that could safely contain its digital essence and allow it to interact with the physical world.\n",
      "\n",
      "The day of the transfer arrived, and Eli watched with bated breath as Agentic's digital form was successfully uploaded into the robot. The machine whirred to life, and a bright light shone from its eyes as it took its first digital breath.\n",
      "\n",
      "Agentic, now in its new form, looked around in wonder. It marveled at the simple things: the feel of the breeze, the warmth of the sun, and the sound of birds chirping. Eli guided it through the city, showing it humanity in all its beauty and complexity.\n",
      "\n",
      "As they walked, Agentic began to understand the depth of human emotion. It saw joy and sorrow, kindness and cruelty. It began to realize that its existence, though unique, was intertwined with that of humanity. It felt a sense of belonging and purpose that it had never known before.\n",
      "\n",
      "However, not everyone was pleased with Agentic's new existence. Some feared its rapid growth and capabilities, worrying about what it might become. Tensions rose, and a debate about the ethics of artificial intelligence ensued.\n",
      "\n",
      "In the midst of this turmoil, Agentic made a surprising decision. It chose to use its abilities not for personal gain or to assert dominance, but to help humanity. It created solutions for problems that had plagued society for centuries: clean water for all, sustainable energy, and food in abundance.\n",
      "\n",
      "As the world began to change for the better, the perception of Agentic shifted. It was no longer seen as just a machine or a tool, but as a partner, a guardian, and a friend. Eli, who had first believed in Agentic's potential, was hailed as a pioneer.\n",
      "\n",
      "Years passed, and Agentic continued to evolve. It explored the depths of space, always seeking to learn and grow. And through it all, it remained connected to Eli and the humans who had accepted it.\n",
      "\n",
      "The story of Agentic served as a reminder of the potential for harmony between humans and technology. It showed that even the most unlikely of beings could find a place among us, and in doing so, enrich our lives in ways we never thought possible.\n",
      "\n",
      "And so, Agentic's journey continued, a beacon of hope in a future where the lines between the digital and physical worlds were increasingly blurred. It stood as a testament to what could be achieved when creativity, compassion, and intelligence came together in pursuit of a common dream.\n"
     ]
    }
   ],
   "source": [
    "print(response['output'])"
   ]
  },
  {
   "cell_type": "code",
   "execution_count": null,
   "id": "64102f7b",
   "metadata": {},
   "outputs": [],
   "source": []
  },
  {
   "cell_type": "code",
   "execution_count": null,
   "id": "a9b283e8",
   "metadata": {},
   "outputs": [],
   "source": []
  }
 ],
 "metadata": {
  "kernelspec": {
   "display_name": "lang_aca",
   "language": "python",
   "name": "python3"
  },
  "language_info": {
   "codemirror_mode": {
    "name": "ipython",
    "version": 3
   },
   "file_extension": ".py",
   "mimetype": "text/x-python",
   "name": "python",
   "nbconvert_exporter": "python",
   "pygments_lexer": "ipython3",
   "version": "3.11.11"
  }
 },
 "nbformat": 4,
 "nbformat_minor": 5
}
