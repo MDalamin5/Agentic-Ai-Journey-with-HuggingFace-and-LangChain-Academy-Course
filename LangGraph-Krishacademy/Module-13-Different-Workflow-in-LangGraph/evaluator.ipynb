{
 "cells": [
  {
   "cell_type": "code",
   "execution_count": 112,
   "id": "b212c57f",
   "metadata": {},
   "outputs": [],
   "source": [
    "import os\n",
    "from dotenv import load_dotenv\n",
    "load_dotenv()\n",
    "\n",
    "from langchain_groq import ChatGroq\n",
    "\n",
    "os.environ[\"GROQ_API_KEY\"]=os.getenv(\"GROQ_API_KEY\")\n",
    "\n",
    "llm = ChatGroq(model=\"meta-llama/llama-4-scout-17b-16e-instruct\")"
   ]
  },
  {
   "cell_type": "code",
   "execution_count": 113,
   "id": "41f3fa7b",
   "metadata": {},
   "outputs": [],
   "source": [
    "from pydantic import BaseModel, Field\n",
    "from typing import TypedDict\n",
    "from langchain_core.messages import HumanMessage, SystemMessage\n",
    "\n",
    "class Joke_State(TypedDict):\n",
    "    \"\"\"This is the joke generate Schema.\"\"\"\n",
    "    query: str = Field(description=\"User query to generate the joke based on the user query.\")\n",
    "    response: str = Field(description=\"This joke is produced by the model.\")\n",
    "    joke_sentiment: str = Field(description=\"the sentiment of the joke like is it good or bad.\")"
   ]
  },
  {
   "cell_type": "code",
   "execution_count": 114,
   "id": "cdeca1b0",
   "metadata": {},
   "outputs": [],
   "source": [
    "class Joke(TypedDict):\n",
    "    \"\"\"This is use for to produced structured output of the joke.\"\"\"\n",
    "    joke: str = Field(description=\"This is joke and its produced based on the user query.\")"
   ]
  },
  {
   "cell_type": "code",
   "execution_count": 115,
   "id": "fe8a90a6",
   "metadata": {},
   "outputs": [],
   "source": [
    "from typing import Literal\n",
    "class EvaluatorState(TypedDict):\n",
    "    \"\"\"this schema is use for to evaluate the joke is good or bad\"\"\"\n",
    "    sentiment: Literal['good', \"bad\"] = Field(description=\"if joke is very good the output will be good other wise output will be bad\")"
   ]
  },
  {
   "cell_type": "code",
   "execution_count": 116,
   "id": "9f2a37b9",
   "metadata": {},
   "outputs": [],
   "source": [
    "def joke_generator(state:Joke_State):\n",
    "    print(\"joke_generator\")\n",
    "    \"\"\"This function is responsible for to generate the best joke on the user query.\"\"\"\n",
    "    system_msg = \"Think you are a standup comedian, ang can produce best joke for your audience.\"\n",
    "    \n",
    "    response = llm.with_structured_output(Joke).invoke([SystemMessage(content=system_msg)]+state[\"query\"])\n",
    "    # print(response['joke'])\n",
    "    return {\n",
    "        \"response\": response['joke']\n",
    "    }"
   ]
  },
  {
   "cell_type": "code",
   "execution_count": 117,
   "id": "da1fe87f",
   "metadata": {},
   "outputs": [],
   "source": [
    "def evaluator(state: Joke_State):\n",
    "    print('evelator')\n",
    "    \"\"\"This function is responsible for to evaluate the joke is good or bad\"\"\"\n",
    "    joke = state['response']\n",
    "    print(joke)\n",
    "    system_msg = f\"Think you are a joke evaluator. Evaluate this joke: {joke} if this joke is good the say good if not then say bad. and follow output schema like structured output.\"\n",
    "    \n",
    "    result = llm.with_structured_output(EvaluatorState).invoke([SystemMessage(content=system_msg)])\n",
    "    print(result['sentiment'])\n",
    "    return {\n",
    "        'joke_sentiment': result[\"sentiment\"]\n",
    "    }"
   ]
  },
  {
   "cell_type": "code",
   "execution_count": 118,
   "id": "f3763137",
   "metadata": {},
   "outputs": [],
   "source": [
    "\n",
    "from langgraph.graph import START, END, StateGraph\n",
    "def router(state: Joke_State):\n",
    "    print('router')\n",
    "    \"\"\"this is a router to route the node\"\"\"\n",
    "    \n",
    "    if state['joke_sentiment'] == \"good\":\n",
    "        return END\n",
    "    return \"joke_generator\""
   ]
  },
  {
   "cell_type": "code",
   "execution_count": 119,
   "id": "8051fdb4",
   "metadata": {},
   "outputs": [
    {
     "data": {
      "image/png": "[encoded data removed]",
      "text/plain": [
       "<IPython.core.display.Image object>"
      ]
     },
     "metadata": {},
     "output_type": "display_data"
    }
   ],
   "source": [
    "\n",
    "from IPython.display import Image, display\n",
    "\n",
    "builder = StateGraph(Joke_State)\n",
    "\n",
    "builder.add_node(\"generator\", joke_generator)\n",
    "builder.add_node('evaluator', evaluator)\n",
    "\n",
    "builder.add_edge(START, 'generator')\n",
    "builder.add_edge('generator', 'evaluator')\n",
    "builder.add_conditional_edges('evaluator', router)\n",
    "# builder.add_edge('evaluator', END)\n",
    "\n",
    "graph = builder.compile()\n",
    "\n",
    "## displaying\n",
    "display(Image(graph.get_graph().draw_mermaid_png()))\n",
    "\n"
   ]
  },
  {
   "cell_type": "code",
   "execution_count": 120,
   "id": "9f8a2b10",
   "metadata": {},
   "outputs": [
    {
     "name": "stdout",
     "output_type": "stream",
     "text": [
      "joke_generator\n",
      "evelator\n",
      "Why did the Agentic AI go to therapy? Because it was struggling to make decisions on its own and was feeling a little 'agent-less'!\n",
      "good\n",
      "router\n"
     ]
    },
    {
     "data": {
      "text/plain": [
       "{'query': [HumanMessage(content='can you generate a joke about the Agentic ai topics.', additional_kwargs={}, response_metadata={})],\n",
       " 'response': \"Why did the Agentic AI go to therapy? Because it was struggling to make decisions on its own and was feeling a little 'agent-less'!\",\n",
       " 'joke_sentiment': 'good'}"
      ]
     },
     "execution_count": 120,
     "metadata": {},
     "output_type": "execute_result"
    }
   ],
   "source": [
    "## Testing\n",
    "graph.invoke(\n",
    "    {\n",
    "        'query': [HumanMessage(content=\"can you generate a joke about the Agentic ai topics.\")]\n",
    "    }\n",
    ")"
   ]
  },
  {
   "cell_type": "code",
   "execution_count": null,
   "id": "e75d6988",
   "metadata": {},
   "outputs": [],
   "source": []
  }
 ],
 "metadata": {
  "kernelspec": {
   "display_name": "lang_aca",
   "language": "python",
   "name": "python3"
  },
  "language_info": {
   "codemirror_mode": {
    "name": "ipython",
    "version": 3
   },
   "file_extension": ".py",
   "mimetype": "text/x-python",
   "name": "python",
   "nbconvert_exporter": "python",
   "pygments_lexer": "ipython3",
   "version": "3.11.11"
  }
 },
 "nbformat": 4,
 "nbformat_minor": 5
}
