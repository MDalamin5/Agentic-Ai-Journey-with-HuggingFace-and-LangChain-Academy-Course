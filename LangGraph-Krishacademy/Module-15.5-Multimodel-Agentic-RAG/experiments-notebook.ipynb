{
 "cells": [
  {
   "cell_type": "markdown",
   "id": "b9f18a92",
   "metadata": {},
   "source": [
    "# **Multi-Model `RAG`**"
   ]
  },
  {
   "cell_type": "markdown",
   "id": "d2457786",
   "metadata": {},
   "source": []
  }
 ],
 "metadata": {
  "language_info": {
   "name": "python"
  }
 },
 "nbformat": 4,
 "nbformat_minor": 5
}
