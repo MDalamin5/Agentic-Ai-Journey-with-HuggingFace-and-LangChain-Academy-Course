{
 "cells": [
  {
   "cell_type": "markdown",
   "id": "b9f18a92",
   "metadata": {},
   "source": [
    "# **Multi-Model `RAG`**"
   ]
  },
  {
   "cell_type": "markdown",
   "id": "8bfa71b9",
   "metadata": {},
   "source": [
    "## **For Embedding**\n",
    "- use `openai model`\n",
    "\n",
    "`CLIP` is a is a multimodal vision and language model motivated by overcoming the fixed number of object categories when training a computer vision model. CLIP learns about images directly from raw text by jointly training on 400M (image, text) pairs. Pretraining on this scale enables zero-shot transfer to downstream tasks. CLIP uses an image encoder and text encoder to get visual features and text features. Both features are projected to a latent space with the same number of dimensions and their dot product gives a similarity score."
   ]
  },
  {
   "cell_type": "code",
   "execution_count": null,
   "id": "d2235242",
   "metadata": {
    "vscode": {
     "languageId": "plaintext"
    }
   },
   "outputs": [],
   "source": []
  }
 ],
 "metadata": {
  "language_info": {
   "name": "python"
  }
 },
 "nbformat": 4,
 "nbformat_minor": 5
}
