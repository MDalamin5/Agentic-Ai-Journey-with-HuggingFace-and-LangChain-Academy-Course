{
 "cells": [
  {
   "cell_type": "code",
   "execution_count": 1,
   "id": "3df50850",
   "metadata": {},
   "outputs": [],
   "source": [
    "from langchain.chat_models import init_chat_model"
   ]
  },
  {
   "cell_type": "code",
   "execution_count": 2,
   "id": "fb8aece2",
   "metadata": {},
   "outputs": [],
   "source": [
    "import os\n",
    "from dotenv import load_dotenv\n",
    "load_dotenv()\n",
    "\n",
    "os.environ[\"GROQ_API_KEY\"] = os.getenv(\"GROQ_API_KEY\")"
   ]
  },
  {
   "cell_type": "code",
   "execution_count": 3,
   "id": "8b3ecb7a",
   "metadata": {},
   "outputs": [
    {
     "data": {
      "text/plain": [
       "AIMessage(content='<think>\\nOkay, the user wrote \"test line\". Let me see what they need. It\\'s pretty brief. Maybe they just want a simple response to confirm it\\'s working? Or perhaps they\\'re testing if the system is responsive. I should acknowledge their message and offer further assistance. Let me check if there\\'s any hidden context, but since there\\'s none, a straightforward reply should be best. Let me make sure to keep it friendly and open-ended.\\n</think>\\n\\nHello! It seems like you might be testing a message. If you have any questions or need assistance, feel free to let me know. How can I help you today?', additional_kwargs={}, response_metadata={'token_usage': {'completion_tokens': 130, 'prompt_tokens': 10, 'total_tokens': 140, 'completion_time': 0.304144218, 'prompt_time': 0.03445463, 'queue_time': 0.04515356, 'total_time': 0.338598848}, 'model_name': 'qwen/qwen3-32b', 'system_fingerprint': 'fp_5cf921caa2', 'finish_reason': 'stop', 'logprobs': None}, id='run--85d9d60a-3941-48b7-8545-47c32b4e1f32-0', usage_metadata={'input_tokens': 10, 'output_tokens': 130, 'total_tokens': 140})"
      ]
     },
     "execution_count": 3,
     "metadata": {},
     "output_type": "execute_result"
    }
   ],
   "source": [
    "from langchain.chat_models import init_chat_model\n",
    "\n",
    "# Replace 'llama3-8b-8192' with the specific Groq model you want to use\n",
    "llm = init_chat_model(\"groq:qwen/qwen3-32b\")\n",
    "\n",
    "llm.invoke(\"test line\")"
   ]
  },
  {
   "cell_type": "markdown",
   "id": "5ca8d35a",
   "metadata": {},
   "source": [
    "## **Building Agent without MCP**"
   ]
  },
  {
   "cell_type": "code",
   "execution_count": 4,
   "id": "a633b4ef",
   "metadata": {},
   "outputs": [],
   "source": [
    "## Search tools\n",
    "import getpass\n",
    "\n",
    "if not os.environ.get(\"TAVILY_API_KEY\"):\n",
    "    os.environ[\"TAVILY_API_KEY\"] = getpass.getpass(\"Tavily API key:\\n\")"
   ]
  },
  {
   "cell_type": "code",
   "execution_count": 5,
   "id": "8b0d13d8",
   "metadata": {},
   "outputs": [],
   "source": [
    "from langchain_tavily import TavilySearch\n",
    "\n",
    "search_tool = TavilySearch(\n",
    "    max_results=5,\n",
    "    topic=\"general\",\n",
    "    # include_answer=False,\n",
    "    # include_raw_content=False,\n",
    "    # include_images=False,\n",
    "    # include_image_descriptions=False,\n",
    "    # search_depth=\"basic\",\n",
    "    # time_range=\"day\",\n",
    "    # include_domains=None,\n",
    "    # exclude_domains=None\n",
    ")"
   ]
  },
  {
   "cell_type": "code",
   "execution_count": 6,
   "id": "68496da6",
   "metadata": {},
   "outputs": [],
   "source": [
    "llm_with_tools =llm.bind_tools([search_tool], tool_choice=\"any\") "
   ]
  },
  {
   "cell_type": "code",
   "execution_count": 7,
   "id": "e33026c6",
   "metadata": {},
   "outputs": [],
   "source": [
    "response =llm_with_tools.invoke(\"can you tell me the current weather of khulna.\") "
   ]
  },
  {
   "cell_type": "code",
   "execution_count": 8,
   "id": "ccdaca41",
   "metadata": {},
   "outputs": [
    {
     "data": {
      "text/plain": [
       "AIMessage(content='', additional_kwargs={'tool_calls': [{'id': 'gw8btp5ey', 'function': {'arguments': '{\"query\":\"current weather Khulna\"}', 'name': 'tavily_search'}, 'type': 'function'}]}, response_metadata={'token_usage': {'completion_tokens': 391, 'prompt_tokens': 1140, 'total_tokens': 1531, 'completion_time': 0.940214026, 'prompt_time': 0.061253799, 'queue_time': 0.055023481, 'total_time': 1.001467825}, 'model_name': 'qwen/qwen3-32b', 'system_fingerprint': 'fp_5cf921caa2', 'finish_reason': 'tool_calls', 'logprobs': None}, id='run--f5f47d96-9f42-454e-925a-6d23d12637c5-0', tool_calls=[{'name': 'tavily_search', 'args': {'query': 'current weather Khulna'}, 'id': 'gw8btp5ey', 'type': 'tool_call'}], usage_metadata={'input_tokens': 1140, 'output_tokens': 391, 'total_tokens': 1531})"
      ]
     },
     "execution_count": 8,
     "metadata": {},
     "output_type": "execute_result"
    }
   ],
   "source": [
    "response"
   ]
  },
  {
   "cell_type": "code",
   "execution_count": 9,
   "id": "87a9b262",
   "metadata": {},
   "outputs": [
    {
     "data": {
      "text/plain": [
       "[{'name': 'tavily_search',\n",
       "  'args': {'query': 'current weather Khulna'},\n",
       "  'id': 'gw8btp5ey',\n",
       "  'type': 'tool_call'}]"
      ]
     },
     "execution_count": 9,
     "metadata": {},
     "output_type": "execute_result"
    }
   ],
   "source": [
    "response.tool_calls"
   ]
  },
  {
   "cell_type": "code",
   "execution_count": 10,
   "id": "29ded1bd",
   "metadata": {},
   "outputs": [],
   "source": [
    "tools_msg = search_tool.invoke(response.tool_calls[0][\"args\"])"
   ]
  },
  {
   "cell_type": "code",
   "execution_count": 11,
   "id": "f9d3c782",
   "metadata": {},
   "outputs": [
    {
     "data": {
      "text/plain": [
       "{'query': 'current weather Khulna',\n",
       " 'follow_up_questions': None,\n",
       " 'answer': None,\n",
       " 'images': [],\n",
       " 'results': [{'title': 'Weather in Khulna',\n",
       "   'url': 'https://www.weatherapi.com/',\n",
       "   'content': \"{'location': {'name': 'Khulna', 'region': '', 'country': 'Bangladesh', 'lat': 22.8, 'lon': 89.55, 'tz_id': 'Asia/Dhaka', 'localtime_epoch': 1755882352, 'localtime': '2025-08-22 23:05'}, 'current': {'last_updated_epoch': 1755882000, 'last_updated': '2025-08-22 23:00', 'temp_c': 25.7, 'temp_f': 78.3, 'is_day': 0, 'condition': {'text': 'Light rain shower', 'icon': '//cdn.weatherapi.com/weather/64x64/night/353.png', 'code': 1240}, 'wind_mph': 4.5, 'wind_kph': 7.2, 'wind_degree': 207, 'wind_dir': 'SSW', 'pressure_mb': 1002.0, 'pressure_in': 29.6, 'precip_mm': 0.35, 'precip_in': 0.01, 'humidity': 92, 'cloud': 88, 'feelslike_c': 29.3, 'feelslike_f': 84.7, 'windchill_c': 25.7, 'windchill_f': 78.3, 'heatindex_c': 29.3, 'heatindex_f': 84.7, 'dewpoint_c': 24.4, 'dewpoint_f': 75.9, 'vis_km': 10.0, 'vis_miles': 6.0, 'uv': 0.0, 'gust_mph': 7.5, 'gust_kph': 12.1}}\",\n",
       "   'score': 0.9262718,\n",
       "   'raw_content': None},\n",
       "  {'url': 'https://www.timeanddate.com/weather/bangladesh/khulna',\n",
       "   'title': 'Weather for Khulna, Bangladesh - Time and Date',\n",
       "   'content': 'Current weather in Khulna and forecast for today, tomorrow, and next 14 days. ... Aug 22, 2025 at 12:00 am. Visibility: 2 mi. Pressure: 29.66 \"Hg. Humidity: 90',\n",
       "   'score': 0.9100432,\n",
       "   'raw_content': None},\n",
       "  {'url': 'https://www.weatherbug.com/weather-forecast/10-day-weather/khulna-khulna-bg',\n",
       "   'title': '10-Day Weather Forecast - Khulna, Khulna, BD - WeatherBug',\n",
       "   'content': '10-Day Weather Forecast - Khulna, Khulna, BD · Fri, Aug 22. 85|80°F 80% Chance of Storms. Today. 85°F · Weekend Weather · Sat, Aug 23. 85|81°F 70% Chance of',\n",
       "   'score': 0.80771893,\n",
       "   'raw_content': None},\n",
       "  {'url': 'https://www.accuweather.com/en/bd/khulna/29075/weather-forecast/29075',\n",
       "   'title': 'Khulna, Khulna, Bangladesh Weather Forecast - AccuWeather',\n",
       "   'content': 'Current Weather. 6:58 PM. 83°F. Mostly cloudy. RealFeel® 97° · Looking Ahead. Showers and a thunderstorm Saturday morning through Sunday afternoon. Khulna',\n",
       "   'score': 0.78963995,\n",
       "   'raw_content': None},\n",
       "  {'url': 'https://www.accuweather.com/en/bd/khulna/29075/august-weather/29075',\n",
       "   'title': 'August - Khulna, Khulna, Bangladesh Monthly Weather | AccuWeather',\n",
       "   'content': 'Khulna, Khulna. 81°F · settings. Khulna, Khulna Weather. Today WinterCast Local {stormName} Tracker Hourly Daily Radar MinuteCast® Monthly Air Quality Health &',\n",
       "   'score': 0.7060491,\n",
       "   'raw_content': None}],\n",
       " 'response_time': 1.63,\n",
       " 'request_id': '92d8308a-85a8-410c-b91f-bde3ac7b63db'}"
      ]
     },
     "execution_count": 11,
     "metadata": {},
     "output_type": "execute_result"
    }
   ],
   "source": [
    "tools_msg"
   ]
  },
  {
   "cell_type": "markdown",
   "id": "269010f8",
   "metadata": {},
   "source": [
    "## **Build the simple agent with Tools**"
   ]
  },
  {
   "cell_type": "code",
   "execution_count": 12,
   "id": "ec80fe9b",
   "metadata": {},
   "outputs": [],
   "source": [
    "from langgraph.graph import StateGraph, MessagesState, START, END\n",
    "\n",
    "class AgentState(MessagesState):\n",
    "    pass"
   ]
  },
  {
   "cell_type": "code",
   "execution_count": 14,
   "id": "dd8c2d93",
   "metadata": {},
   "outputs": [],
   "source": [
    "def assistant(state: AgentState):\n",
    "    print(\"---Assistant---\")\n",
    "    question = state['messages'][-1]\n",
    "    \n",
    "    response = llm_with_tools.invoke(question)\n",
    "    \n",
    "    return {\n",
    "        \"messages\": response\n",
    "    }"
   ]
  },
  {
   "cell_type": "code",
   "execution_count": 15,
   "id": "8e2f44ca",
   "metadata": {},
   "outputs": [],
   "source": [
    "tools = [search_tool]"
   ]
  },
  {
   "cell_type": "code",
   "execution_count": 18,
   "id": "59578326",
   "metadata": {},
   "outputs": [
    {
     "data": {
      "image/png": "[encoded data removed]",
      "text/plain": [
       "<langgraph.graph.state.CompiledStateGraph object at 0x0000021AD2B13880>"
      ]
     },
     "execution_count": 18,
     "metadata": {},
     "output_type": "execute_result"
    }
   ],
   "source": [
    "from langgraph.prebuilt import ToolNode, tools_condition\n",
    "\n",
    "builder = StateGraph(AgentState)\n",
    "\n",
    "builder.add_node(\"Assistant\", assistant)\n",
    "builder.add_node(\"tools\", ToolNode(tools))\n",
    "\n",
    "builder.add_edge(START, \"Assistant\")\n",
    "builder.add_conditional_edges(\n",
    "    \"Assistant\",\n",
    "    tools_condition\n",
    ")\n",
    "\n",
    "app = builder.compile()\n",
    "\n",
    "app"
   ]
  },
  {
   "cell_type": "code",
   "execution_count": null,
   "id": "3bec48e8",
   "metadata": {},
   "outputs": [],
   "source": []
  }
 ],
 "metadata": {
  "kernelspec": {
   "display_name": "ailb",
   "language": "python",
   "name": "python3"
  },
  "language_info": {
   "codemirror_mode": {
    "name": "ipython",
    "version": 3
   },
   "file_extension": ".py",
   "mimetype": "text/x-python",
   "name": "python",
   "nbconvert_exporter": "python",
   "pygments_lexer": "ipython3",
   "version": "3.10.16"
  }
 },
 "nbformat": 4,
 "nbformat_minor": 5
}
