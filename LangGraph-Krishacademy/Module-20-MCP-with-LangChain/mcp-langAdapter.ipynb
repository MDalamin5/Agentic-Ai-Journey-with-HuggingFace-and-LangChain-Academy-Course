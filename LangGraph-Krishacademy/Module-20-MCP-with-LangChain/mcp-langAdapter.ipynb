{
 "cells": [
  {
   "cell_type": "code",
   "execution_count": 1,
   "id": "3df50850",
   "metadata": {},
   "outputs": [],
   "source": [
    "from langchain.chat_models import init_chat_model"
   ]
  },
  {
   "cell_type": "code",
   "execution_count": 3,
   "id": "fb8aece2",
   "metadata": {},
   "outputs": [],
   "source": [
    "import os\n",
    "from dotenv import load_dotenv\n",
    "load_dotenv()\n",
    "\n",
    "os.environ[\"GROQ_API_KEY\"] = os.getenv(\"GROQ_API_KEY\")"
   ]
  },
  {
   "cell_type": "code",
   "execution_count": 14,
   "id": "8b3ecb7a",
   "metadata": {},
   "outputs": [
    {
     "data": {
      "text/plain": [
       "AIMessage(content='<think>\\nOkay, the user wrote \"test line\". Let me think about how to respond.\\n\\nFirst, they might just be checking if the system is working. Since there\\'s no specific question, I should acknowledge their test and offer help. Maybe say something like \"Hello! How can I assist you today?\" to invite them to ask a real question. Keep it friendly and open-ended. Also, make sure the response is in the same language they used, which is English here. Don\\'t add any extra information unless needed. Just a simple, polite reply to encourage them to engage further.\\n</think>\\n\\nHello! How can I assist you today? Feel free to ask any questions or let me know if you need help with anything specific. 😊', additional_kwargs={}, response_metadata={'token_usage': {'completion_tokens': 151, 'prompt_tokens': 10, 'total_tokens': 161, 'completion_time': 0.286686704, 'prompt_time': 0.006449127, 'queue_time': 0.045527223, 'total_time': 0.293135831}, 'model_name': 'qwen/qwen3-32b', 'system_fingerprint': 'fp_5cf921caa2', 'finish_reason': 'stop', 'logprobs': None}, id='run--af859970-244f-43ce-a950-9acb5632216f-0', usage_metadata={'input_tokens': 10, 'output_tokens': 151, 'total_tokens': 161})"
      ]
     },
     "execution_count": 14,
     "metadata": {},
     "output_type": "execute_result"
    }
   ],
   "source": [
    "from langchain.chat_models import init_chat_model\n",
    "\n",
    "# Replace 'llama3-8b-8192' with the specific Groq model you want to use\n",
    "llm = init_chat_model(\"groq:qwen/qwen3-32b\")\n",
    "\n",
    "llm.invoke(\"test line\")"
   ]
  },
  {
   "cell_type": "markdown",
   "id": "5ca8d35a",
   "metadata": {},
   "source": [
    "## **Building Agent without MCP**"
   ]
  },
  {
   "cell_type": "code",
   "execution_count": 10,
   "id": "a633b4ef",
   "metadata": {},
   "outputs": [],
   "source": [
    "## Search tools\n",
    "import getpass\n",
    "\n",
    "if not os.environ.get(\"TAVILY_API_KEY\"):\n",
    "    os.environ[\"TAVILY_API_KEY\"] = getpass.getpass(\"Tavily API key:\\n\")"
   ]
  },
  {
   "cell_type": "code",
   "execution_count": 11,
   "id": "8b0d13d8",
   "metadata": {},
   "outputs": [],
   "source": [
    "from langchain_tavily import TavilySearch\n",
    "\n",
    "search_tool = TavilySearch(\n",
    "    max_results=5,\n",
    "    topic=\"general\",\n",
    "    # include_answer=False,\n",
    "    # include_raw_content=False,\n",
    "    # include_images=False,\n",
    "    # include_image_descriptions=False,\n",
    "    # search_depth=\"basic\",\n",
    "    # time_range=\"day\",\n",
    "    # include_domains=None,\n",
    "    # exclude_domains=None\n",
    ")"
   ]
  },
  {
   "cell_type": "code",
   "execution_count": 15,
   "id": "68496da6",
   "metadata": {},
   "outputs": [],
   "source": [
    "llm_with_tools =llm.bind_tools([search_tool], tool_choice=\"any\") "
   ]
  },
  {
   "cell_type": "code",
   "execution_count": 17,
   "id": "e33026c6",
   "metadata": {},
   "outputs": [],
   "source": [
    "response =llm_with_tools.invoke(\"can you tell me the current weather of khulna.\") "
   ]
  },
  {
   "cell_type": "code",
   "execution_count": 18,
   "id": "ccdaca41",
   "metadata": {},
   "outputs": [
    {
     "data": {
      "text/plain": [
       "AIMessage(content='', additional_kwargs={'tool_calls': [{'id': '0pwfdv76a', 'function': {'arguments': '{\"query\":\"current weather of khulna\"}', 'name': 'tavily_search'}, 'type': 'function'}]}, response_metadata={'token_usage': {'completion_tokens': 673, 'prompt_tokens': 1140, 'total_tokens': 1813, 'completion_time': 1.53264266, 'prompt_time': 0.069089708, 'queue_time': 0.055460122, 'total_time': 1.601732368}, 'model_name': 'qwen/qwen3-32b', 'system_fingerprint': 'fp_5cf921caa2', 'finish_reason': 'tool_calls', 'logprobs': None}, id='run--706c7ee0-9f85-4912-8144-aa09c552b2b2-0', tool_calls=[{'name': 'tavily_search', 'args': {'query': 'current weather of khulna'}, 'id': '0pwfdv76a', 'type': 'tool_call'}], usage_metadata={'input_tokens': 1140, 'output_tokens': 673, 'total_tokens': 1813})"
      ]
     },
     "execution_count": 18,
     "metadata": {},
     "output_type": "execute_result"
    }
   ],
   "source": [
    "response"
   ]
  },
  {
   "cell_type": "code",
   "execution_count": 19,
   "id": "87a9b262",
   "metadata": {},
   "outputs": [
    {
     "data": {
      "text/plain": [
       "[{'name': 'tavily_search',\n",
       "  'args': {'query': 'current weather of khulna'},\n",
       "  'id': '0pwfdv76a',\n",
       "  'type': 'tool_call'}]"
      ]
     },
     "execution_count": 19,
     "metadata": {},
     "output_type": "execute_result"
    }
   ],
   "source": [
    "response.tool_calls"
   ]
  },
  {
   "cell_type": "code",
   "execution_count": 20,
   "id": "29ded1bd",
   "metadata": {},
   "outputs": [],
   "source": [
    "tools_msg = search_tool.invoke(response.tool_calls[0][\"args\"])"
   ]
  },
  {
   "cell_type": "code",
   "execution_count": 21,
   "id": "f9d3c782",
   "metadata": {},
   "outputs": [
    {
     "data": {
      "text/plain": [
       "{'query': 'current weather of khulna',\n",
       " 'follow_up_questions': None,\n",
       " 'answer': None,\n",
       " 'images': [],\n",
       " 'results': [{'title': 'Weather in Khulna',\n",
       "   'url': 'https://www.weatherapi.com/',\n",
       "   'content': \"{'location': {'name': 'Khulna', 'region': '', 'country': 'Bangladesh', 'lat': 22.8, 'lon': 89.55, 'tz_id': 'Asia/Dhaka', 'localtime_epoch': 1755780331, 'localtime': '2025-08-21 18:45'}, 'current': {'last_updated_epoch': 1755780300, 'last_updated': '2025-08-21 18:45', 'temp_c': 25.6, 'temp_f': 78.1, 'is_day': 0, 'condition': {'text': 'Patchy light drizzle', 'icon': '//cdn.weatherapi.com/weather/64x64/night/263.png', 'code': 1150}, 'wind_mph': 8.3, 'wind_kph': 13.3, 'wind_degree': 224, 'wind_dir': 'SW', 'pressure_mb': 1002.0, 'pressure_in': 29.59, 'precip_mm': 0.4, 'precip_in': 0.02, 'humidity': 93, 'cloud': 69, 'feelslike_c': 29.1, 'feelslike_f': 84.4, 'windchill_c': 25.6, 'windchill_f': 78.1, 'heatindex_c': 29.1, 'heatindex_f': 84.4, 'dewpoint_c': 24.4, 'dewpoint_f': 75.8, 'vis_km': 5.0, 'vis_miles': 3.0, 'uv': 0.0, 'gust_mph': 11.9, 'gust_kph': 19.2}}\",\n",
       "   'score': 0.9318127,\n",
       "   'raw_content': None},\n",
       "  {'url': 'https://www.timeanddate.com/weather/bangladesh/khulna',\n",
       "   'title': 'Weather for Khulna, Bangladesh',\n",
       "   'content': 'Current weather in Khulna and forecast for today, tomorrow, and next 14 days. ... Aug 21, 2025 at 12:00 pm. Visibility: 2 mi. Pressure: 29.65 \"Hg. Humidity: 86',\n",
       "   'score': 0.9134376,\n",
       "   'raw_content': None},\n",
       "  {'url': 'https://www.weathertab.com/en/d/08/bangladesh/kanainagar-3/',\n",
       "   'title': 'August 2025 Daily Weather Forecast for Kānāinagar, ...',\n",
       "   'content': 'Kānāinagar, Khulna Division Daily Weather Forecast for August 2025 ; 7. Thu. 45%. 88 to 98 °F 75 to 85 °F 28 to 38 °C 21 to 31 °C · Sunrise 5:34AM. Sunset 6:40PM.',\n",
       "   'score': 0.84858394,\n",
       "   'raw_content': None},\n",
       "  {'url': 'https://www.timeanddate.com/weather/bangladesh/khulna/ext',\n",
       "   'title': 'Khulna, Bangladesh 14 day weather forecast',\n",
       "   'content': '2 Week Extended Forecast in Khulna, Bangladesh ; Aug 21, 87 / 77 °F · Isolated tstorms. Overcast. 96 °F · 10 mph ; Aug 22, 85 / 77 °F · Isolated tstorms. Overcast.',\n",
       "   'score': 0.81204927,\n",
       "   'raw_content': None},\n",
       "  {'url': 'https://www.accuweather.com/en/bd/khulna/29075/weather-forecast/29075',\n",
       "   'title': 'Khulna, Khulna, Bangladesh Weather Forecast',\n",
       "   'content': 'Tonight: Partly to mostly cloudy with heavy showers late Lo: 77° · Current Weather. 11:04 AM. 81°F. Cloudy. RealFeel® 91°. Khulna Weather Radar. Khulna Weather',\n",
       "   'score': 0.7777226,\n",
       "   'raw_content': None}],\n",
       " 'response_time': 1.35,\n",
       " 'request_id': '3e624934-f8b3-46d4-a287-f57fc926909d'}"
      ]
     },
     "execution_count": 21,
     "metadata": {},
     "output_type": "execute_result"
    }
   ],
   "source": [
    "tools_msg"
   ]
  },
  {
   "cell_type": "code",
   "execution_count": null,
   "id": "7a7fef6b",
   "metadata": {},
   "outputs": [],
   "source": []
  }
 ],
 "metadata": {
  "kernelspec": {
   "display_name": "ailb",
   "language": "python",
   "name": "python3"
  },
  "language_info": {
   "codemirror_mode": {
    "name": "ipython",
    "version": 3
   },
   "file_extension": ".py",
   "mimetype": "text/x-python",
   "name": "python",
   "nbconvert_exporter": "python",
   "pygments_lexer": "ipython3",
   "version": "3.10.16"
  }
 },
 "nbformat": 4,
 "nbformat_minor": 5
}
