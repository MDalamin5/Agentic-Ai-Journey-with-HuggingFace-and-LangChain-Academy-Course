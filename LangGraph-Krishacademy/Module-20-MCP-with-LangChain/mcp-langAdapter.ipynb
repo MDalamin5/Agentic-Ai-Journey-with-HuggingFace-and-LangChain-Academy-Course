{
 "cells": [
  {
   "cell_type": "code",
   "execution_count": 1,
   "id": "3df50850",
   "metadata": {},
   "outputs": [],
   "source": [
    "from langchain.chat_models import init_chat_model"
   ]
  },
  {
   "cell_type": "code",
   "execution_count": 3,
   "id": "fb8aece2",
   "metadata": {},
   "outputs": [],
   "source": [
    "import os\n",
    "from dotenv import load_dotenv\n",
    "load_dotenv()\n",
    "\n",
    "os.environ[\"GROQ_API_KEY\"] = os.getenv(\"GROQ_API_KEY\")"
   ]
  },
  {
   "cell_type": "code",
   "execution_count": 9,
   "id": "8b3ecb7a",
   "metadata": {},
   "outputs": [
    {
     "data": {
      "text/plain": [
       "AIMessage(content=\"It looks like you're testing to see if I'm working properly! That's perfectly fine. I'm happy to report that I'm functioning as intended. Is there anything else I can help you with or would you like to try a different test?\", additional_kwargs={}, response_metadata={'token_usage': {'completion_tokens': 51, 'prompt_tokens': 12, 'total_tokens': 63, 'completion_time': 0.048914024, 'prompt_time': 0.002261812, 'queue_time': 0.270513919, 'total_time': 0.051175836}, 'model_name': 'llama3-8b-8192', 'system_fingerprint': 'fp_59f3b579f6', 'finish_reason': 'stop', 'logprobs': None}, id='run--1e2233ad-c232-4031-b2f6-214b626dbfef-0', usage_metadata={'input_tokens': 12, 'output_tokens': 51, 'total_tokens': 63})"
      ]
     },
     "execution_count": 9,
     "metadata": {},
     "output_type": "execute_result"
    }
   ],
   "source": [
    "from langchain.chat_models import init_chat_model\n",
    "\n",
    "# Replace 'llama3-8b-8192' with the specific Groq model you want to use\n",
    "llm = init_chat_model(\"groq:llama3-8b-8192\")\n",
    "\n",
    "llm.invoke(\"test line\")"
   ]
  }
 ],
 "metadata": {
  "kernelspec": {
   "display_name": "ailb",
   "language": "python",
   "name": "python3"
  },
  "language_info": {
   "codemirror_mode": {
    "name": "ipython",
    "version": 3
   },
   "file_extension": ".py",
   "mimetype": "text/x-python",
   "name": "python",
   "nbconvert_exporter": "python",
   "pygments_lexer": "ipython3",
   "version": "3.10.16"
  }
 },
 "nbformat": 4,
 "nbformat_minor": 5
}
