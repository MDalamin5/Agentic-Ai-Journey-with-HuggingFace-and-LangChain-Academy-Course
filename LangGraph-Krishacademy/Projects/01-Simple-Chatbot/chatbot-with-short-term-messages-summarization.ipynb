{
 "cells": [
  {
   "cell_type": "markdown",
   "id": "dfcc08b1",
   "metadata": {},
   "source": [
    "# ***Simple Chatbot by LangGraph***\n",
    "- ### Has Messages history\n",
    "- ### Messages Summarization\n",
    "- ### Tracing on LangSmith Platform"
   ]
  },
  {
   "cell_type": "code",
   "execution_count": 1,
   "id": "87bad912",
   "metadata": {},
   "outputs": [],
   "source": [
    "from langchain_groq import ChatGroq\n",
    "from dotenv import load_dotenv\n",
    "import os\n",
    "from pprint import pprint\n",
    "from langchain_core.messages import HumanMessage, AIMessage\n",
    "\n",
    "groq_api_key  = os.getenv(\"GROQ_API_KEY\")\n",
    "\n",
    "## langsmith Tracing\n",
    "os.environ[\"LANGCHAIN_API_KEY\"]= os.getenv(\"LANGCHAIN_API_KEY\")\n",
    "os.environ[\"LANGSMITH_TRACING\"] = \"true\"\n",
    "os.environ[\"LANGSMITH_PROJECT\"] = \"Chatbot With Messages Summarization\"\n",
    "\n",
    "llm = ChatGroq(model_name=\"meta-llama/llama-4-scout-17b-16e-instruct\", groq_api_key=groq_api_key)"
   ]
  },
  {
   "cell_type": "markdown",
   "id": "712575a3",
   "metadata": {},
   "source": [
    "## Define the Messages State"
   ]
  },
  {
   "cell_type": "code",
   "execution_count": 2,
   "id": "deca32c5",
   "metadata": {},
   "outputs": [],
   "source": [
    "from langgraph.graph import MessagesState\n",
    "\n",
    "class State(MessagesState):\n",
    "    summary: str"
   ]
  },
  {
   "cell_type": "markdown",
   "id": "234bcbc2",
   "metadata": {},
   "source": [
    "## Define te call node how my model response to User"
   ]
  },
  {
   "cell_type": "code",
   "execution_count": 3,
   "id": "2697d7a2",
   "metadata": {},
   "outputs": [],
   "source": [
    "from langchain_core.messages import HumanMessage, SystemMessage, RemoveMessage\n",
    "def call_node(state:State):\n",
    "    \"\"\"This node is responsible for to interact with user query with his previous messages summary if available\"\"\"\n",
    "    \n",
    "    summary = state.get('summary', \"\")\n",
    "    \n",
    "    if summary:\n",
    "        system_msg = f\"This is user previous chat history summary. Use this chat Summary to response the user query\\n\\n Summary: {summary}\"\n",
    "        \n",
    "        # messages = [SystemMessage(content=system_msg)]+HumanMessage(content=state['messages'])\n",
    "        messages = [SystemMessage(content=system_msg)]+state['messages']\n",
    "        \n",
    "    else:\n",
    "        messages = state['messages']\n",
    "        \n",
    "    response = llm.invoke(messages)\n",
    "\n",
    "    return {\n",
    "        'messages': response\n",
    "    }"
   ]
  },
  {
   "cell_type": "markdown",
   "id": "e9f6eb53",
   "metadata": {},
   "source": [
    "## This node is responsible for Summary generation"
   ]
  },
  {
   "cell_type": "code",
   "execution_count": 4,
   "id": "a2980809",
   "metadata": {},
   "outputs": [],
   "source": [
    "def summarize_conversation(state: State):\n",
    "    \"\"\"This function is responsible for summarize the user conversation and remove the user previous messages except last tow conversation.\"\"\"\n",
    "    \n",
    "    summary = state.get('summary', \"\")\n",
    "    \n",
    "    if summary:\n",
    "        summary_msg = f\"This is earlier messages summary: {summary}. \\nExtend the summary by taking into acount the new messages above\"\n",
    "        \n",
    "    else:\n",
    "        summary_msg = f\"Create s summary of the above conversation.\"\n",
    "        \n",
    "    messages = state['messages'] + [HumanMessage(content=summary_msg)]\n",
    "    \n",
    "    result = llm.invoke(messages)\n",
    "    \n",
    "    ## remove the old messages form the chat list.\n",
    "    \n",
    "    delete_messages = [RemoveMessage(id = m.id) for m in state['messages'][: -2]]\n",
    "    \n",
    "    return {\n",
    "        'messages': delete_messages,\n",
    "        'summary': result.content\n",
    "    }"
   ]
  },
  {
   "cell_type": "markdown",
   "id": "91c5cff5",
   "metadata": {},
   "source": [
    "## Condition when do start summary of conversation"
   ]
  },
  {
   "cell_type": "code",
   "execution_count": 5,
   "id": "76b785f4",
   "metadata": {},
   "outputs": [],
   "source": [
    "from langgraph.graph import END\n",
    "\n",
    "def should_continue(state: State):\n",
    "    \"\"\"this function is responsible for when should do summarize of messages by checking messages length\"\"\"\n",
    "    messages = state[\"messages\"]\n",
    "    \n",
    "    if len(messages) > 6:\n",
    "        return \"summarize_conversation\"\n",
    "    return \"END\""
   ]
  },
  {
   "cell_type": "markdown",
   "id": "39b72baa",
   "metadata": {},
   "source": [
    "## ***Now define the graph with Checkpoint memory***"
   ]
  },
  {
   "cell_type": "code",
   "execution_count": 6,
   "id": "69b74327",
   "metadata": {},
   "outputs": [
    {
     "data": {
      "image/png": "[encoded data removed]",
      "text/plain": [
       "<IPython.core.display.Image object>"
      ]
     },
     "metadata": {},
     "output_type": "display_data"
    }
   ],
   "source": [
    "from langgraph.graph import StateGraph, START\n",
    "from langgraph.checkpoint.memory import MemorySaver\n",
    "from IPython.display import Image, display\n",
    "\n",
    "builder = StateGraph(State)\n",
    "\n",
    "builder.add_node(\"call_node\", call_node)\n",
    "builder.add_node(summarize_conversation)\n",
    "\n",
    "## add edges\n",
    "builder.add_edge(START, \"call_node\")\n",
    "builder.add_conditional_edges('call_node', should_continue)\n",
    "builder.add_edge('summarize_conversation', END)\n",
    "\n",
    "memory = MemorySaver()\n",
    "\n",
    "my_graph = builder.compile(checkpointer=memory)\n",
    "\n",
    "## display the graph\n",
    "display(Image(my_graph.get_graph(xray=1).draw_mermaid_png()))"
   ]
  },
  {
   "cell_type": "code",
   "execution_count": 7,
   "id": "37c2dfd6",
   "metadata": {},
   "outputs": [
    {
     "name": "stdout",
     "output_type": "stream",
     "text": [
      "==================================\u001b[1m Ai Message \u001b[0m==================================\n",
      "\n",
      "Wa Alaikumussalam! Nice to meet you, Alamin! How are you today?\n"
     ]
    }
   ],
   "source": [
    "config = {\"configurable\": {\"thread_id\": \"1\"}}\n",
    "\n",
    "# Start conversation\n",
    "input_message = HumanMessage(content=\"Assalamualikum! I'm Alamin\")\n",
    "output = my_graph.invoke({\"messages\": [input_message]}, config) \n",
    "for m in output['messages'][-1:]:\n",
    "    m.pretty_print()"
   ]
  },
  {
   "cell_type": "code",
   "execution_count": 8,
   "id": "7a264153",
   "metadata": {},
   "outputs": [
    {
     "name": "stdout",
     "output_type": "stream",
     "text": [
      "==================================\u001b[1m Ai Message \u001b[0m==================================\n",
      "\n",
      "Your name is Alamin!\n",
      "==================================\u001b[1m Ai Message \u001b[0m==================================\n",
      "\n",
      "A fan of the San Francisco 49ers, eh? What's your favorite thing about the team? Is it their rich history, their iconic red and gold uniforms, or perhaps a specific player like Joe Montana or Patrick Willis?\n"
     ]
    }
   ],
   "source": [
    "input_message = HumanMessage(content=\"what's my name?\")\n",
    "output = my_graph.invoke({\"messages\": [input_message]}, config) \n",
    "for m in output['messages'][-1:]:\n",
    "    m.pretty_print()\n",
    "\n",
    "input_message = HumanMessage(content=\"i like the 49ers!\")\n",
    "output = my_graph.invoke({\"messages\": [input_message]}, config) \n",
    "for m in output['messages'][-1:]:\n",
    "    m.pretty_print()"
   ]
  },
  {
   "cell_type": "code",
   "execution_count": 9,
   "id": "1dc580bd",
   "metadata": {},
   "outputs": [
    {
     "name": "stdout",
     "output_type": "stream",
     "text": [
      "==================================\u001b[1m Ai Message \u001b[0m==================================\n",
      "\n",
      "Nick Bosa is an incredible player! As of 2022, he signed a 5-year, $135 million contract extension with the 49ers, which makes him one of the highest-paid defensive players in the NFL. He's definitely a key player for the team and a fan favorite! What do you think about his performance on the field?\n"
     ]
    }
   ],
   "source": [
    "input_message = HumanMessage(content=\"i like Nick Bosa, isn't he the highest paid defensive player?\")\n",
    "output = my_graph.invoke({\"messages\": [input_message]}, config) \n",
    "for m in output['messages'][-1:]:\n",
    "    m.pretty_print()"
   ]
  },
  {
   "cell_type": "code",
   "execution_count": 10,
   "id": "9eec4b5c",
   "metadata": {},
   "outputs": [
    {
     "data": {
      "text/plain": [
       "\"Here's a summary of our conversation:\\n\\n* You introduced yourself as Alamin and I responded with a warm greeting.\\n* You mentioned that you like the San Francisco 49ers.\\n* You expressed your admiration for Nick Bosa, a defensive player for the 49ers, and mentioned that he's one of the highest-paid defensive players in the NFL.\\n\\nIt was a pleasure chatting with you, Alamin! If you want to talk more about the 49ers or anything else, feel free to start a conversation anytime.\""
      ]
     },
     "execution_count": 10,
     "metadata": {},
     "output_type": "execute_result"
    }
   ],
   "source": [
    "my_graph.get_state(config).values.get(\"summary\",\"\")"
   ]
  },
  {
   "cell_type": "code",
   "execution_count": null,
   "id": "be6b76cc",
   "metadata": {},
   "outputs": [],
   "source": []
  }
 ],
 "metadata": {
  "kernelspec": {
   "display_name": "lang_aca",
   "language": "python",
   "name": "python3"
  },
  "language_info": {
   "codemirror_mode": {
    "name": "ipython",
    "version": 3
   },
   "file_extension": ".py",
   "mimetype": "text/x-python",
   "name": "python",
   "nbconvert_exporter": "python",
   "pygments_lexer": "ipython3",
   "version": "3.11.11"
  }
 },
 "nbformat": 4,
 "nbformat_minor": 5
}
