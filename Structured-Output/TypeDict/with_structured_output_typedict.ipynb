{
 "cells": [
  {
   "cell_type": "code",
   "execution_count": 12,
   "id": "cc8021b1",
   "metadata": {},
   "outputs": [
    {
     "data": {
      "text/plain": [
       "True"
      ]
     },
     "execution_count": 12,
     "metadata": {},
     "output_type": "execute_result"
    }
   ],
   "source": [
    "from langchain_groq import ChatGroq\n",
    "from typing import TypedDict\n",
    "from dotenv import load_dotenv\n",
    "load_dotenv()"
   ]
  },
  {
   "cell_type": "code",
   "execution_count": 30,
   "id": "7952bdfc",
   "metadata": {},
   "outputs": [],
   "source": [
    "import os\n",
    "groq_api_key = os.getenv(\"GORQ_API_KEY\")\n",
    "model = ChatGroq(model_name = \"meta-llama/llama-4-maverick-17b-128e-instruct\", groq_api_key=groq_api_key)"
   ]
  },
  {
   "cell_type": "code",
   "execution_count": 19,
   "id": "69fb680a",
   "metadata": {},
   "outputs": [
    {
     "name": "stdout",
     "output_type": "stream",
     "text": [
      "## Step 1: Compare the whole numbers\n",
      "Both numbers are 9, so we need to compare the decimal parts.\n",
      "\n",
      "## Step 2: Compare the decimal parts\n",
      "9.9 has a decimal part of 0.9 and 9.11 has a decimal part of 0.11.\n",
      "\n",
      "## Step 3: Analyze the decimal parts\n",
      "To compare 0.9 and 0.11, we can convert them to equivalent decimals by considering the same number of decimal places. 0.9 is the same as 0.90.\n",
      "\n",
      "## Step 4: Compare the equivalent decimals\n",
      "0.90 is greater than 0.11.\n",
      "\n",
      "## Step 5: Determine the bigger number\n",
      "Since 0.90 is greater than 0.11, 9.9 is greater than 9.11.\n",
      "\n",
      "The final answer is: $\\boxed{9.9}$\n"
     ]
    }
   ],
   "source": [
    "response = model.invoke(\"what is bigger number 9.9 or 9.11\")\n",
    "print(response.content)"
   ]
  },
  {
   "cell_type": "code",
   "execution_count": null,
   "id": "18e72e4b",
   "metadata": {},
   "outputs": [],
   "source": [
    "from pydantic import BaseModel\n",
    "\n",
    "# Load Groq API key\n",
    "groq_api_key = os.getenv(\"GROQ_API_KEY\")\n",
    "\n",
    "# Define structured output as a Pydantic model\n",
    "class Review(BaseModel):\n",
    "    summary: str\n",
    "    sentiment: str\n",
    "\n",
    "# Instantiate model\n",
    "model = ChatGroq(\n",
    "    model_name=\"meta-llama/llama-4-maverick-17b-128e-instruct\",\n",
    "    groq_api_key=groq_api_key\n",
    ")\n",
    "\n",
    "# Enable structured output parsing\n",
    "structured_output_model = model.with_structured_output(Review)\n"
   ]
  },
  {
   "cell_type": "code",
   "execution_count": 24,
   "id": "617e5eda",
   "metadata": {},
   "outputs": [],
   "source": [
    "review = \"\"\"I've been using the iPhone 14 Pro for a few weeks now. The display is absolutely stunning, and the new camera system takes incredible photos even in low light. Performance is snappy, but the battery life could be better. Also, the price is steep, so it's not for everyone.\"\"\""
   ]
  },
  {
   "cell_type": "code",
   "execution_count": 34,
   "id": "891aad36",
   "metadata": {},
   "outputs": [],
   "source": [
    "response = structured_output_model.invoke(review)"
   ]
  },
  {
   "cell_type": "code",
   "execution_count": 38,
   "id": "a6bee1a0",
   "metadata": {},
   "outputs": [
    {
     "data": {
      "text/plain": [
       "('Generally positive with some criticisms',\n",
       " 'The iPhone 14 Pro has an excellent display and camera, snappy performance, but battery life and price are drawbacks.')"
      ]
     },
     "execution_count": 38,
     "metadata": {},
     "output_type": "execute_result"
    }
   ],
   "source": [
    "response['sentiment'], response['summary']"
   ]
  },
  {
   "cell_type": "markdown",
   "id": "b7fc783d",
   "metadata": {},
   "source": [
    "## Add `annotated` in the data type for more specification"
   ]
  },
  {
   "cell_type": "code",
   "execution_count": 40,
   "id": "79dc9a04",
   "metadata": {},
   "outputs": [],
   "source": [
    "from pydantic import BaseModel\n",
    "from typing import Annotated, Literal, Optional\n",
    "# Load Groq API key\n",
    "groq_api_key = os.getenv(\"GROQ_API_KEY\")\n",
    "\n",
    "# Define structured output as a Pydantic model\n",
    "class Review(BaseModel):\n",
    "    summary: Annotated[str, \"A brief summary of the review\"]\n",
    "    sentiment: Annotated[str, \"Its can be positive, negative or neutral\"]\n",
    "\n",
    "# Instantiate model\n",
    "model = ChatGroq(\n",
    "    model_name=\"meta-llama/llama-4-maverick-17b-128e-instruct\",\n",
    "    groq_api_key=groq_api_key\n",
    ")\n",
    "\n",
    "# Enable structured output parsing\n",
    "structured_output_model = model.with_structured_output(Review)\n"
   ]
  },
  {
   "cell_type": "code",
   "execution_count": 37,
   "id": "fe951c1c",
   "metadata": {},
   "outputs": [
    {
     "data": {
      "text/plain": [
       "{'summary': 'The iPhone 14 Pro has a great display and camera, but the battery life and price could be improved.',\n",
       " 'sentiment': 'Generally positive, with some negative aspects.'}"
      ]
     },
     "execution_count": 37,
     "metadata": {},
     "output_type": "execute_result"
    }
   ],
   "source": [
    "result = structured_output_model.invoke(review)\n",
    "result"
   ]
  },
  {
   "cell_type": "code",
   "execution_count": 39,
   "id": "181ddf9b",
   "metadata": {},
   "outputs": [],
   "source": [
    "details_review = \"\"\"\n",
    "I’ve been using the Samsung Galaxy S22 Ultra for the past month, and it’s easily one of the most powerful and versatile Android phones on the market. The 6.8-inch AMOLED display is stunning — vibrant colors, deep blacks, and an ultra-smooth 120Hz refresh rate make everything look and feel premium. The camera setup is also impressive, especially the 108MP main sensor and the 10x optical zoom, which captures incredible detail even from far away. Night photography has significantly improved from the previous generation, delivering clearer and more vibrant low-light shots.\n",
    "\n",
    "Performance-wise, the phone handles everything I throw at it — from heavy multitasking to gaming on high graphics settings. The Snapdragon 8 Gen 1 chipset keeps things blazing fast, though I did notice some heat buildup after extended gaming sessions. The S Pen is a game changer for productivity. I use it regularly for note-taking, signing PDFs, and even quick sketches, and it works flawlessly with minimal latency.\n",
    "\n",
    "That said, the phone is not perfect. The battery life is decent but not exceptional — a full day of use is possible, but if you’re a heavy user, you might need a top-up in the evening. Also, the phone is large and heavy, making it slightly uncomfortable for one-handed use or for those with smaller hands. Lastly, while One UI has come a long way, it still feels a bit bloated at times, with some pre-installed apps that I rarely use.\n",
    "\n",
    "Overall, the S22 Ultra is a top-tier flagship with unmatched features, especially if you value the camera and productivity tools like the S Pen. It’s a premium device in every sense, though the size and price may not suit everyone.\n",
    "\n",
    "\"\"\""
   ]
  },
  {
   "cell_type": "code",
   "execution_count": 51,
   "id": "8b625ad0",
   "metadata": {},
   "outputs": [],
   "source": [
    "## define the data format\n",
    "class DetailsReview(BaseModel):\n",
    "    key_themes: Annotated[list[str], \"Write down all key themes discussed in the reviews\"]\n",
    "    summary: Annotated[str, \"A brief summary of the review\"]\n",
    "    sentiment: Annotated[Literal['pos', 'neg'], \"Return the sentiment of the review either negative, positive, neutral\"]\n",
    "    pros: Annotated[Optional[list[str]], \"write all pros of this review\"]\n",
    "    cons: Annotated[Optional[list[str]], \"Write the all cons of the review\"]\n",
    "    \n",
    "\n",
    "model = ChatGroq(\n",
    "    model_name=\"meta-llama/llama-4-maverick-17b-128e-instruct\",\n",
    "    groq_api_key=groq_api_key\n",
    ")\n",
    "\n",
    "# Enable structured output parsing\n",
    "structured_output_model = model.with_structured_output(DetailsReview)"
   ]
  },
  {
   "cell_type": "code",
   "execution_count": 52,
   "id": "a5b66203",
   "metadata": {},
   "outputs": [
    {
     "name": "stdout",
     "output_type": "stream",
     "text": [
      "{'key_themes': ['Display', 'Camera', 'Performance', 'S Pen', 'Battery Life', 'Design', 'Software'], 'summary': 'The Samsung Galaxy S22 Ultra is a powerful and versatile Android phone with a stunning 6.8-inch AMOLED display, impressive camera setup, and fast performance. The S Pen is a game changer for productivity. However, the battery life is decent but not exceptional, and the phone is large and heavy.', 'sentiment': 'Generally positive, with some minor criticisms.', 'pros': ['Stunning 6.8-inch AMOLED display', 'Impressive camera setup with 108MP main sensor and 10x optical zoom', 'Fast performance with Snapdragon 8 Gen1 chipset', 'S Pen is a game changer for productivity'], 'cons': ['Battery life is decent but not exceptional', 'Phone is large and heavy', 'One UI feels a bit bloated at times']}\n"
     ]
    }
   ],
   "source": [
    "response = structured_output_model.invoke(details_review)\n",
    "print(response)"
   ]
  },
  {
   "cell_type": "code",
   "execution_count": 53,
   "id": "8b5914a9",
   "metadata": {},
   "outputs": [
    {
     "data": {
      "text/plain": [
       "['Display',\n",
       " 'Camera',\n",
       " 'Performance',\n",
       " 'S Pen',\n",
       " 'Battery Life',\n",
       " 'Design',\n",
       " 'Software']"
      ]
     },
     "execution_count": 53,
     "metadata": {},
     "output_type": "execute_result"
    }
   ],
   "source": [
    "response['key_themes']"
   ]
  },
  {
   "cell_type": "code",
   "execution_count": 45,
   "id": "2d3267a7",
   "metadata": {},
   "outputs": [
    {
     "data": {
      "text/plain": [
       "['Stunning 6.8-inch AMOLED display',\n",
       " 'Impressive camera setup with 108MP main sensor and 10x optical zoom',\n",
       " 'Top-notch performance with Snapdragon 8 Gen1 chipset',\n",
       " 'S Pen is a game changer for productivity']"
      ]
     },
     "execution_count": 45,
     "metadata": {},
     "output_type": "execute_result"
    }
   ],
   "source": [
    "response['pros']"
   ]
  },
  {
   "cell_type": "code",
   "execution_count": 46,
   "id": "9d4f5a0b",
   "metadata": {},
   "outputs": [
    {
     "data": {
      "text/plain": [
       "['Battery life is decent but not exceptional',\n",
       " 'Phone is large and heavy, making it uncomfortable for one-handed use',\n",
       " 'One UI feels a bit bloated at times']"
      ]
     },
     "execution_count": 46,
     "metadata": {},
     "output_type": "execute_result"
    }
   ],
   "source": [
    "response['cons']"
   ]
  },
  {
   "cell_type": "code",
   "execution_count": 54,
   "id": "283487ca",
   "metadata": {},
   "outputs": [
    {
     "data": {
      "text/plain": [
       "'Generally positive, with some minor criticisms.'"
      ]
     },
     "execution_count": 54,
     "metadata": {},
     "output_type": "execute_result"
    }
   ],
   "source": [
    "response['sentiment']"
   ]
  },
  {
   "cell_type": "code",
   "execution_count": null,
   "id": "ec0faa06",
   "metadata": {},
   "outputs": [],
   "source": []
  }
 ],
 "metadata": {
  "kernelspec": {
   "display_name": "torchGPU",
   "language": "python",
   "name": "python3"
  },
  "language_info": {
   "codemirror_mode": {
    "name": "ipython",
    "version": 3
   },
   "file_extension": ".py",
   "mimetype": "text/x-python",
   "name": "python",
   "nbconvert_exporter": "python",
   "pygments_lexer": "ipython3",
   "version": "3.12.4"
  }
 },
 "nbformat": 4,
 "nbformat_minor": 5
}
