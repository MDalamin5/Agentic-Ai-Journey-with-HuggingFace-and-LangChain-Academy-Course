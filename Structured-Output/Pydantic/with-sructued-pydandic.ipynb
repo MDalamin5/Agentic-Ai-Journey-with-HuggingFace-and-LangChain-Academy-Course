{
 "cells": [
  {
   "cell_type": "code",
   "execution_count": 2,
   "id": "9d2b8e3d",
   "metadata": {},
   "outputs": [],
   "source": [
    "from pydantic import BaseModel, Field\n",
    "from typing import Annotated, Literal, Optional\n",
    "from langchain_groq import ChatGroq\n",
    "\n",
    "\n",
    "import os\n",
    "groq_api_key = os.getenv(\"GORQ_API_KEY\")\n",
    "model = ChatGroq(model_name = \"meta-llama/llama-4-maverick-17b-128e-instruct\", groq_api_key=groq_api_key)"
   ]
  },
  {
   "cell_type": "code",
   "execution_count": null,
   "id": "d05f0f9c",
   "metadata": {},
   "outputs": [],
   "source": [
    "## define the data format\n",
    "class DetailsReview(BaseModel):\n",
    "    key_themes: list[str] = Field(description=\"Write down all key themes discussed in the reviews\")\n",
    "    summary: list[str] = Field(description=\"A brief summary of th review\")\n",
    "    sentiment: Literal[\"Positive\", \"Negative\"] = Field(description=\"Return the sentiment of the review\")\n",
    "    pros: Optional[list[str]] = Field(default=None, description=\"Write the all pros the review\")\n",
    "    cons: Optional[list[str]] = Field(default=None, description=\"Write the all cons the review\")\n",
    "    name: Optional[str] = Field(default=None, description=\"Write down the reviewer name if there\")\n",
    "    \n",
    "    \n",
    "\n",
    "\n",
    "# Enable structured output parsing\n",
    "structured_output_model = model.with_structured_output(DetailsReview)"
   ]
  },
  {
   "cell_type": "code",
   "execution_count": 4,
   "id": "a720466d",
   "metadata": {},
   "outputs": [],
   "source": [
    "details_review = \"\"\"\n",
    "I’ve been using the Samsung Galaxy S22 Ultra for the past month, and it’s easily one of the most powerful and versatile Android phones on the market. The 6.8-inch AMOLED display is stunning — vibrant colors, deep blacks, and an ultra-smooth 120Hz refresh rate make everything look and feel premium. The camera setup is also impressive, especially the 108MP main sensor and the 10x optical zoom, which captures incredible detail even from far away. Night photography has significantly improved from the previous generation, delivering clearer and more vibrant low-light shots.\n",
    "\n",
    "Performance-wise, the phone handles everything I throw at it — from heavy multitasking to gaming on high graphics settings. The Snapdragon 8 Gen 1 chipset keeps things blazing fast, though I did notice some heat buildup after extended gaming sessions. The S Pen is a game changer for productivity. I use it regularly for note-taking, signing PDFs, and even quick sketches, and it works flawlessly with minimal latency.\n",
    "\n",
    "That said, the phone is not perfect. The battery life is decent but not exceptional — a full day of use is possible, but if you’re a heavy user, you might need a top-up in the evening. Also, the phone is large and heavy, making it slightly uncomfortable for one-handed use or for those with smaller hands. Lastly, while One UI has come a long way, it still feels a bit bloated at times, with some pre-installed apps that I rarely use.\n",
    "\n",
    "Overall, the S22 Ultra is a top-tier flagship with unmatched features, especially if you value the camera and productivity tools like the S Pen. It’s a premium device in every sense, though the size and price may not suit everyone.\n",
    "\n",
    "\"\"\""
   ]
  },
  {
   "cell_type": "code",
   "execution_count": 5,
   "id": "fd2445f9",
   "metadata": {},
   "outputs": [
    {
     "name": "stdout",
     "output_type": "stream",
     "text": [
      "{'sentiment': 'Positive', 'key_themes': ['display', 'camera', 'performance', 'S Pen', 'battery life', 'size', 'One UI'], 'summary': 'The Samsung Galaxy S22 Ultra is a powerful and versatile Android phone with a stunning display, impressive camera setup, and fast performance. The S Pen is a game changer for productivity. However, the battery life is decent but not exceptional, and the phone is large and heavy. One UI still feels a bit bloated at times.'}\n"
     ]
    }
   ],
   "source": [
    "response = structured_output_model.invoke(details_review)\n",
    "print(response)"
   ]
  },
  {
   "cell_type": "code",
   "execution_count": 6,
   "id": "a3616860",
   "metadata": {},
   "outputs": [],
   "source": [
    "## define the data format\n",
    "class DetailsReview(BaseModel):\n",
    "    key_themes: list[str] = Field(description=\"Write down all key themes discussed in the reviews\")\n",
    "    summary: list[str] = Field(description=\"A brief summary of th review\")\n",
    "    sentiment: Literal[\"Positive\", \"Negative\"] = Field(description=\"Return the sentiment of the review\")\n",
    "    pros: Optional[list[str]] = Field(default=None, description=\"Write the all pros the review\")\n",
    "    cons: Optional[list[str]] = Field(default=None, description=\"Write the all cons the review\")\n",
    "    name: Optional[str] = Field(default=None, description=\"Write down the reviewer name if there\")\n",
    "    \n",
    "    \n",
    "\n",
    "\n",
    "# Enable structured output parsing\n",
    "structured_output_model = model.with_structured_output(DetailsReview, method=\"function_calling\")"
   ]
  },
  {
   "cell_type": "code",
   "execution_count": 7,
   "id": "5ad58c10",
   "metadata": {},
   "outputs": [
    {
     "name": "stdout",
     "output_type": "stream",
     "text": [
      "{'key_themes': ['display', 'camera', 'performance', 'S Pen', 'battery life', 'size', 'One UI'], 'summary': 'The Samsung Galaxy S22 Ultra is a powerful and versatile Android phone with a stunning display, impressive camera setup, and top-notch performance. The S Pen is a game changer for productivity. However, the battery life is decent but not exceptional, and the phone is large and heavy.', 'sentiment': 'Positive'}\n"
     ]
    }
   ],
   "source": [
    "response = structured_output_model.invoke(details_review)\n",
    "print(response)"
   ]
  },
  {
   "cell_type": "code",
   "execution_count": null,
   "id": "ac763fc6",
   "metadata": {},
   "outputs": [],
   "source": []
  }
 ],
 "metadata": {
  "kernelspec": {
   "display_name": "torchGPU",
   "language": "python",
   "name": "python3"
  },
  "language_info": {
   "codemirror_mode": {
    "name": "ipython",
    "version": 3
   },
   "file_extension": ".py",
   "mimetype": "text/x-python",
   "name": "python",
   "nbconvert_exporter": "python",
   "pygments_lexer": "ipython3",
   "version": "3.12.4"
  }
 },
 "nbformat": 4,
 "nbformat_minor": 5
}
