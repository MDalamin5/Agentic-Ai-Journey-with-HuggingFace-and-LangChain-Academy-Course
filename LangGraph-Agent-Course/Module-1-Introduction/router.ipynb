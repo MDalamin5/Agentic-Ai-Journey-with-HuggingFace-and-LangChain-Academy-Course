{
 "cells": [
  {
   "cell_type": "code",
   "execution_count": 17,
   "id": "4cfcb06c",
   "metadata": {},
   "outputs": [],
   "source": [
    "from langchain_groq import ChatGroq\n",
    "from dotenv import load_dotenv\n",
    "from langchain.tools.tavily_search import TavilySearchResults\n",
    "from langchain_core.tools import tool\n",
    "import requests\n",
    "import os"
   ]
  },
  {
   "cell_type": "code",
   "execution_count": 18,
   "id": "ab72e0c6",
   "metadata": {},
   "outputs": [],
   "source": [
    "load_dotenv()\n",
    "groq_api_key = os.getenv(\"GROQ_API_KEY\")"
   ]
  },
  {
   "cell_type": "code",
   "execution_count": 21,
   "id": "57c12bc4",
   "metadata": {},
   "outputs": [],
   "source": [
    "\n",
    "llm = ChatGroq(model_name = \"meta-llama/llama-4-scout-17b-16e-instruct\", groq_api_key=groq_api_key)"
   ]
  },
  {
   "cell_type": "code",
   "execution_count": 23,
   "id": "d3a37a0d",
   "metadata": {},
   "outputs": [],
   "source": [
    "def multiply(a: int, b: int) ->int:\n",
    "    \"\"\"\n",
    "    This function multiply tow integer number a and b\n",
    "    \n",
    "    Args:\n",
    "        a: first int\n",
    "        b: second int\n",
    "    \"\"\"\n",
    "    return a*b"
   ]
  },
  {
   "cell_type": "code",
   "execution_count": 24,
   "id": "1ab410e3",
   "metadata": {},
   "outputs": [],
   "source": [
    "llm_with_tools =llm.bind_tools([multiply])"
   ]
  },
  {
   "cell_type": "code",
   "execution_count": 25,
   "id": "eb568ccb",
   "metadata": {},
   "outputs": [],
   "source": [
    "from IPython.display import Image, display\n",
    "from langgraph.graph import StateGraph, START, END\n",
    "from langgraph.graph import MessagesState\n",
    "from langgraph.prebuilt import ToolNode\n",
    "from langgraph.prebuilt import tools_condition"
   ]
  },
  {
   "cell_type": "code",
   "execution_count": null,
   "id": "4ac557e8",
   "metadata": {},
   "outputs": [],
   "source": []
  }
 ],
 "metadata": {
  "kernelspec": {
   "display_name": "torchGPU",
   "language": "python",
   "name": "python3"
  },
  "language_info": {
   "codemirror_mode": {
    "name": "ipython",
    "version": 3
   },
   "file_extension": ".py",
   "mimetype": "text/x-python",
   "name": "python",
   "nbconvert_exporter": "python",
   "pygments_lexer": "ipython3",
   "version": "3.12.4"
  }
 },
 "nbformat": 4,
 "nbformat_minor": 5
}
