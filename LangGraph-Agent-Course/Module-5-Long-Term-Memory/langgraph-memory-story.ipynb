{
 "cells": [
  {
   "cell_type": "markdown",
   "id": "db0362c0",
   "metadata": {},
   "source": [
    "# ***Basics Implementation of the Long-Term-Memory in ChatBot***"
   ]
  },
  {
   "cell_type": "code",
   "execution_count": 1,
   "id": "1a6619ad",
   "metadata": {},
   "outputs": [],
   "source": [
    "import uuid\n",
    "from langgraph.store.memory import InMemoryStore"
   ]
  },
  {
   "cell_type": "markdown",
   "id": "ed845d7f",
   "metadata": {},
   "source": [
    "## Define the in memory store using build in class `InMemoryStore`"
   ]
  },
  {
   "cell_type": "code",
   "execution_count": 2,
   "id": "945684e7",
   "metadata": {},
   "outputs": [],
   "source": [
    "in_memory_store = InMemoryStore()"
   ]
  },
  {
   "cell_type": "markdown",
   "id": "13a34d30",
   "metadata": {},
   "source": [
    "When storing objects (e.g., memories) in the [Store](https://langchain-ai.github.io/langgraph/reference/store/#langgraph.store.base.BaseStore), we provide:\n",
    "\n",
    "- The `namespace` for the object, a tuple (similar to directories)\n",
    "- the object `key` (similar to filenames)\n",
    "- the object `value` (similar to file contents)\n",
    "\n",
    "We use the [put](https://langchain-ai.github.io/langgraph/reference/store/#langgraph.store.base.BaseStore.put) method to save an object to the store by `namespace` and `key`.\n",
    "\n",
    "![langgraph_store.png](inmemory.png)"
   ]
  },
  {
   "cell_type": "code",
   "execution_count": 3,
   "id": "0e6bf9b7",
   "metadata": {},
   "outputs": [],
   "source": [
    "## Namespace for the memory\n",
    "user_id = \"1\"\n",
    "namespace_for_memory = (user_id, \"memory\")\n",
    "\n",
    "# save a memory to namespace as key and values\n",
    "key = str(uuid.uuid4())\n",
    "\n",
    "# this is the memory context like value of the memory\n",
    "value = {\n",
    "    'food_preference': \"I like beef\"\n",
    "}\n",
    "\n",
    "## now save this info into the memory\n",
    "in_memory_store.put(namespace=namespace_for_memory, key=key, value=value)"
   ]
  },
  {
   "cell_type": "markdown",
   "id": "7897b136",
   "metadata": {},
   "source": [
    "#### we use `search` to retrieve the object from the store by namespace\n",
    "- This is return a list"
   ]
  },
  {
   "cell_type": "code",
   "execution_count": 4,
   "id": "476402af",
   "metadata": {},
   "outputs": [
    {
     "data": {
      "text/plain": [
       "list"
      ]
     },
     "execution_count": 4,
     "metadata": {},
     "output_type": "execute_result"
    }
   ],
   "source": [
    "# search\n",
    "memories = in_memory_store.search(namespace_for_memory)\n",
    "type(memories)"
   ]
  },
  {
   "cell_type": "code",
   "execution_count": 5,
   "id": "14d34713",
   "metadata": {},
   "outputs": [
    {
     "data": {
      "text/plain": [
       "{'namespace': ['1', 'memory'],\n",
       " 'key': '132405f5-c8a3-47b5-a913-cb022f8f0e36',\n",
       " 'value': {'food_preference': 'I like beef'},\n",
       " 'created_at': '2025-05-12T06:38:58.352749+00:00',\n",
       " 'updated_at': '2025-05-12T06:38:58.352749+00:00',\n",
       " 'score': None}"
      ]
     },
     "execution_count": 5,
     "metadata": {},
     "output_type": "execute_result"
    }
   ],
   "source": [
    "## Metadata\n",
    "memories[0].dict()"
   ]
  },
  {
   "cell_type": "code",
   "execution_count": 6,
   "id": "b8d861fc",
   "metadata": {},
   "outputs": [
    {
     "name": "stdout",
     "output_type": "stream",
     "text": [
      "132405f5-c8a3-47b5-a913-cb022f8f0e36 {'food_preference': 'I like beef'}\n"
     ]
    }
   ],
   "source": [
    "print(memories[0].key, memories[0].value)"
   ]
  },
  {
   "cell_type": "markdown",
   "id": "a68349af",
   "metadata": {},
   "source": [
    "We can also use [get](https://langchain-ai.github.io/langgraph/reference/store/#langgraph.store.base.BaseStore.get) to retrieve an object by `namespace` and `key`."
   ]
  },
  {
   "cell_type": "code",
   "execution_count": 7,
   "id": "02db6ca9",
   "metadata": {},
   "outputs": [
    {
     "data": {
      "text/plain": [
       "{'namespace': ['1', 'memory'],\n",
       " 'key': '132405f5-c8a3-47b5-a913-cb022f8f0e36',\n",
       " 'value': {'food_preference': 'I like beef'},\n",
       " 'created_at': '2025-05-12T06:38:58.352749+00:00',\n",
       " 'updated_at': '2025-05-12T06:38:58.352749+00:00'}"
      ]
     },
     "execution_count": 7,
     "metadata": {},
     "output_type": "execute_result"
    }
   ],
   "source": [
    "## get the memory by namespace and key\n",
    "memory = in_memory_store.get(namespace_for_memory, key)\n",
    "memory.dict()\n"
   ]
  },
  {
   "cell_type": "code",
   "execution_count": 8,
   "id": "eff372b2",
   "metadata": {},
   "outputs": [
    {
     "data": {
      "text/plain": [
       "'I like beef'"
      ]
     },
     "execution_count": 8,
     "metadata": {},
     "output_type": "execute_result"
    }
   ],
   "source": [
    "memory_content = memory.value.get(\"food_preference\")\n",
    "memory_content"
   ]
  },
  {
   "cell_type": "markdown",
   "id": "dc139d4e",
   "metadata": {},
   "source": [
    "# ***Time to Build Chatbot with long-term-memory***"
   ]
  },
  {
   "cell_type": "code",
   "execution_count": 9,
   "id": "0aae6224",
   "metadata": {},
   "outputs": [],
   "source": [
    "from IPython.display import display, Image\n",
    "from langchain_groq import ChatGroq\n",
    "from dotenv import load_dotenv\n",
    "from langgraph.checkpoint.memory import MemorySaver\n",
    "from langgraph.graph import MessagesState, StateGraph, START, END\n",
    "from langgraph.store.base import BaseStore\n",
    "\n",
    "from langchain_core.messages import HumanMessage, SystemMessage\n",
    "from langchain_core.runnables.config import RunnableConfig\n",
    "load_dotenv()\n",
    "import os\n",
    "\n",
    "os.environ[\"LANGCHAIN_API_KEY\"] = os.getenv(\"LANGCHAIN_API_KEY\")\n",
    "os.environ[\"LANGSMITH_TRACING\"] = \"true\"\n",
    "os.environ[\"LANGSMITH_PROJECT\"] = \"langchain-academy\"\n",
    "\n",
    "groq_api_key = os.getenv(\"GROQ_API_KEY\")\n",
    "\n",
    "model = ChatGroq(model_name = \"meta-llama/llama-4-scout-17b-16e-instruct\", groq_api_key=groq_api_key)"
   ]
  },
  {
   "cell_type": "markdown",
   "id": "c734b6ef",
   "metadata": {},
   "source": [
    "## Necessary Prompt"
   ]
  },
  {
   "cell_type": "code",
   "execution_count": 10,
   "id": "fa8f604d",
   "metadata": {},
   "outputs": [],
   "source": [
    "# Chatbot instruction\n",
    "MODEL_SYSTEM_MESSAGE = \"\"\"You are a helpful assistant with memory that provides information about the user. \n",
    "If you have memory for this user, use it to personalize your responses.\n",
    "Here is the memory (it may be empty): {memory}\"\"\"\n",
    "\n",
    "# Create new memory from the chat history and any existing memory\n",
    "CREATE_MEMORY_INSTRUCTION = \"\"\"\"You are collecting information about the user to personalize your responses.\n",
    "\n",
    "CURRENT USER INFORMATION:\n",
    "{memory}\n",
    "\n",
    "INSTRUCTIONS:\n",
    "1. Review the chat history below carefully\n",
    "2. Identify new information about the user, such as:\n",
    "   - Personal details (name, location)\n",
    "   - Preferences (likes, dislikes)\n",
    "   - Interests and hobbies\n",
    "   - Past experiences\n",
    "   - Goals or future plans\n",
    "3. Merge any new information with existing memory\n",
    "4. Format the memory as a clear, bulleted list\n",
    "5. If new information conflicts with existing memory, keep the most recent version\n",
    "\n",
    "Remember: Only include factual information directly stated by the user. Do not make assumptions or inferences.\n",
    "\n",
    "Based on the chat history below, please update the user information:\"\"\""
   ]
  },
  {
   "cell_type": "markdown",
   "id": "bb8ed3cd",
   "metadata": {},
   "source": [
    "## **Call model**"
   ]
  },
  {
   "cell_type": "code",
   "execution_count": 11,
   "id": "d1afae0c",
   "metadata": {},
   "outputs": [],
   "source": [
    "def call_model(state: MessagesState, config: RunnableConfig, store: BaseStore):\n",
    "    \"\"\"Load memory from the store and use it to personalize the chatbot's response\"\"\"\n",
    "    \n",
    "    ## get the user id\n",
    "    user_id = config['configurable']['user_id']\n",
    "    \n",
    "    ## retriever memory form the store\n",
    "    namespace = (\"memory\", user_id)\n",
    "    key = \"user_memory\"\n",
    "    existing_memory = store.get(namespace=namespace, key=key)\n",
    "    \n",
    "    ## extract the existing memory and add as the prefix\n",
    "    if existing_memory:\n",
    "        existing_memory_content = existing_memory.value.get(\"memory\")\n",
    "    else:\n",
    "        existing_memory_content = \"No existing memory found.\"\n",
    "        \n",
    "    ## format the memory to the system prompt\n",
    "    system_msg = MODEL_SYSTEM_MESSAGE.format(memory=existing_memory_content)\n",
    "    \n",
    "    ## respond using memory as well as the chat history\n",
    "    response = model.invoke([SystemMessage(content=system_msg)]+state['messages'])\n",
    "    \n",
    "    return {\n",
    "        'messages': response\n",
    "    }\n",
    "    \n",
    "    \n",
    "## Write the memory\n",
    "    \n",
    "def write_memory(state: MessagesState, config: RunnableConfig, store: BaseStore):\n",
    "    \"\"\"Reflect on the chat history and save a memory to the store\"\"\"\n",
    "    \n",
    "    # Get the user ID from the config\n",
    "    user_id = config[\"configurable\"][\"user_id\"]\n",
    "\n",
    "    # Retrieve existing memory from the store\n",
    "    namespace = (\"memory\", user_id)\n",
    "    existing_memory = store.get(namespace, \"user_memory\")\n",
    "        \n",
    "    # Extract the memory\n",
    "    if existing_memory:\n",
    "        existing_memory_content = existing_memory.value.get('memory')\n",
    "    else:\n",
    "        existing_memory_content = \"No existing memory found.\"\n",
    "    \n",
    "    # format the memory in the system prompt\n",
    "    system_msg = CREATE_MEMORY_INSTRUCTION.format(memory = existing_memory_content)\n",
    "    new_memory = model.invoke([SystemMessage(content=system_msg)]+state['messages'])\n",
    "    \n",
    "    ## overwrite the existing memory in the store\n",
    "    key = \"user_memory\"\n",
    "    \n",
    "    ## write the value as a dictionary with a memory key\n",
    "    store.put(namespace, key, {\"memory\": new_memory.content})\n",
    "        "
   ]
  },
  {
   "cell_type": "markdown",
   "id": "949c9787",
   "metadata": {},
   "source": [
    "## Define the graph"
   ]
  },
  {
   "cell_type": "code",
   "execution_count": 12,
   "id": "1adde438",
   "metadata": {},
   "outputs": [
    {
     "data": {
      "image/png": "[encoded data removed]",
      "text/plain": [
       "<IPython.core.display.Image object>"
      ]
     },
     "metadata": {},
     "output_type": "display_data"
    }
   ],
   "source": [
    "builder = StateGraph(MessagesState)\n",
    "builder.add_node(\"call_model\", call_model)\n",
    "builder.add_node(\"write_memory\", write_memory)\n",
    "\n",
    "builder.add_edge(START, 'call_model')\n",
    "builder.add_edge('call_model', 'write_memory')\n",
    "builder.add_edge(\"write_memory\", END)\n",
    "\n",
    "## store for long-term memory(across thread) memory\n",
    "across_thread_memory = InMemoryStore()\n",
    "\n",
    "## checkpointer for short-term (within thread) memory\n",
    "within_thread_memory = MemorySaver()\n",
    "\n",
    "graph = builder.compile(checkpointer=within_thread_memory, store=across_thread_memory)\n",
    "\n",
    "## display the graph\n",
    "display(Image(graph.get_graph(xray=1).draw_mermaid_png()))"
   ]
  },
  {
   "cell_type": "markdown",
   "id": "efbedc14",
   "metadata": {},
   "source": [
    "When we interact with the chatbot, we supply two things:\n",
    "\n",
    "1. `Short-term (within-thread) memory`: A `thread ID` for persisting the chat history.\n",
    "2. `Long-term (cross-thread) memory`: A `user ID` to namespace long-term memories to the user.\n",
    "\n",
    "Let's see how these work. "
   ]
  },
  {
   "cell_type": "code",
   "execution_count": 13,
   "id": "5a7a99fc",
   "metadata": {},
   "outputs": [
    {
     "name": "stdout",
     "output_type": "stream",
     "text": [
      "================================\u001b[1m Human Message \u001b[0m=================================\n",
      "\n",
      "Assalamualikum, my name is AlAmin\n",
      "==================================\u001b[1m Ai Message \u001b[0m==================================\n",
      "\n",
      "Wa alaikumussalam, AlAmin! It's nice to meet you. How are you today?\n"
     ]
    }
   ],
   "source": [
    "# We supply a thread ID for short-term (within-thread) memory\n",
    "# We supply a user ID for long-term (across-thread) memory \n",
    "config = {\"configurable\": {\"thread_id\": \"1\", \"user_id\": \"1\"}}\n",
    "\n",
    "# User input \n",
    "input_messages = [HumanMessage(content=\"Assalamualikum, my name is AlAmin\")]\n",
    "\n",
    "## run the graph with streaming mode\n",
    "for chunk in graph.stream(\n",
    "    {\n",
    "        \"messages\": input_messages\n",
    "    },\n",
    "    config=config,\n",
    "    stream_mode='values'\n",
    "):\n",
    "    chunk['messages'][-1].pretty_print()\n",
    "\n"
   ]
  },
  {
   "cell_type": "code",
   "execution_count": 14,
   "id": "b85ccb3e",
   "metadata": {},
   "outputs": [
    {
     "name": "stdout",
     "output_type": "stream",
     "text": [
      "================================\u001b[1m Human Message \u001b[0m=================================\n",
      "\n",
      "Allhamdulliha, I like to bike around Bashundhra-r/a, Dhaka\n",
      "==================================\u001b[1m Ai Message \u001b[0m==================================\n",
      "\n",
      "Alhamdulillah! Bashundhara Residential Area in Dhaka is a lovely place to bike around. The roads are relatively smooth, and it's a great way to stay active and enjoy the outdoors. Do you have a favorite route or spot in Bashundhara that you like to visit while biking?\n"
     ]
    }
   ],
   "source": [
    "# User input \n",
    "input_messages = [HumanMessage(content=\"Allhamdulliha, I like to bike around Bashundhra-r/a, Dhaka\")]\n",
    "\n",
    "# Run the graph\n",
    "for chunk in graph.stream({\"messages\": input_messages}, config, stream_mode=\"values\"):\n",
    "    chunk[\"messages\"][-1].pretty_print()"
   ]
  },
  {
   "cell_type": "markdown",
   "id": "9bfc3a0c",
   "metadata": {},
   "source": [
    "We're using the `MemorySaver` checkpointer for within-thread memory.\n",
    "\n",
    "This saves the chat history to the thread.\n",
    "\n",
    "We can look at the chat history saved to the thread."
   ]
  },
  {
   "cell_type": "code",
   "execution_count": 15,
   "id": "885d7592",
   "metadata": {},
   "outputs": [
    {
     "name": "stdout",
     "output_type": "stream",
     "text": [
      "================================\u001b[1m Human Message \u001b[0m=================================\n",
      "\n",
      "Assalamualikum, my name is AlAmin\n",
      "==================================\u001b[1m Ai Message \u001b[0m==================================\n",
      "\n",
      "Wa alaikumussalam, AlAmin! It's nice to meet you. How are you today?\n",
      "================================\u001b[1m Human Message \u001b[0m=================================\n",
      "\n",
      "Allhamdulliha, I like to bike around Bashundhra-r/a, Dhaka\n",
      "==================================\u001b[1m Ai Message \u001b[0m==================================\n",
      "\n",
      "Alhamdulillah! Bashundhara Residential Area in Dhaka is a lovely place to bike around. The roads are relatively smooth, and it's a great way to stay active and enjoy the outdoors. Do you have a favorite route or spot in Bashundhara that you like to visit while biking?\n"
     ]
    }
   ],
   "source": [
    "thread = {\"configurable\": {\"thread_id\": \"1\"}}\n",
    "state = graph.get_state(thread).values\n",
    "for m in state[\"messages\"]: \n",
    "    m.pretty_print()"
   ]
  },
  {
   "cell_type": "markdown",
   "id": "522c8a01",
   "metadata": {},
   "source": [
    "Recall that we compiled the graph with our the store: \n",
    "\n",
    "```python\n",
    "across_thread_memory = InMemoryStore()\n",
    "```\n",
    "\n",
    "And, we added a node to the graph (`write_memory`) that reflects on the chat history and saves a memory to the store.\n",
    "\n",
    "We can to see if the memory was saved to the store."
   ]
  },
  {
   "cell_type": "code",
   "execution_count": 16,
   "id": "afd203ce",
   "metadata": {},
   "outputs": [
    {
     "data": {
      "text/plain": [
       "{'namespace': ['memory', '1'],\n",
       " 'key': 'user_memory',\n",
       " 'value': {'memory': ' \\n\\n**Current User Information:**\\n* Name: AlAmin\\n* Location: Bashundhara Residential Area, Dhaka\\n* Interests/Hobbies: Biking'},\n",
       " 'created_at': '2025-05-12T06:39:02.331949+00:00',\n",
       " 'updated_at': '2025-05-12T06:39:02.331949+00:00'}"
      ]
     },
     "execution_count": 16,
     "metadata": {},
     "output_type": "execute_result"
    }
   ],
   "source": [
    "# Namespace for the memory to save\n",
    "user_id = \"1\"\n",
    "namespace = (\"memory\", user_id)\n",
    "existing_memory = across_thread_memory.get(namespace, \"user_memory\")\n",
    "existing_memory.dict()"
   ]
  },
  {
   "cell_type": "markdown",
   "id": "98c7ed83",
   "metadata": {},
   "source": [
    "Now, let's kick off a *new thread* with the *same user ID*.\n",
    "\n",
    "We should see that the chatbot remembered the user's profile and used it to personalize the response."
   ]
  },
  {
   "cell_type": "code",
   "execution_count": 17,
   "id": "97a00e82",
   "metadata": {},
   "outputs": [
    {
     "name": "stdout",
     "output_type": "stream",
     "text": [
      "================================\u001b[1m Human Message \u001b[0m=================================\n",
      "\n",
      "Assalamualikum! Where would you recommend that I go biking?\n",
      "==================================\u001b[1m Ai Message \u001b[0m==================================\n",
      "\n",
      "Wa alaikumussalam! Ah, biking is a great hobby, AlAmin! I'm glad you asked.\n",
      "\n",
      "Considering you're from Bashundhara Residential Area, Dhaka, I'd recommend the following biking spots:\n",
      "\n",
      "1. **Hatirjheel Lake**: A scenic and relatively flat route with a dedicated bike lane. You can enjoy the lake's views and the city's vibrant atmosphere.\n",
      "2. **Banani Lake**: Another beautiful spot with a walking and biking path. The lake's surroundings are perfect for a leisurely bike ride.\n",
      "3. **Gulshan Lake Park**: A peaceful spot with a designated bike path. You can enjoy the serene environment and some exercise.\n",
      "4. **The Liberation War Museum to Suhrawardy Uddan route**: A relatively flat and scenic route that takes you through some of Dhaka's historic areas.\n",
      "\n",
      "If you're looking for a more challenging ride, you could consider:\n",
      "\n",
      "1. **The hills of Mirpur**: Offers some uphill climbs and scenic views of the city.\n",
      "2. **The bike trails near the Turag River**: A bit farther from Bashundhara, but worth the ride for the scenic views and varied terrain.\n",
      "\n",
      "Remember to always wear safety gear, follow traffic rules, and be mindful of road conditions.\n",
      "\n",
      "Which one of these options sounds appealing to you, AlAmin?\n"
     ]
    }
   ],
   "source": [
    "# We supply a user ID for across-thread memory as well as a new thread ID\n",
    "config = {\"configurable\": {\"thread_id\": \"2\", \"user_id\": \"1\"}}\n",
    "\n",
    "# User input \n",
    "input_messages = [HumanMessage(content=\"Assalamualikum! Where would you recommend that I go biking?\")]\n",
    "\n",
    "# Run the graph\n",
    "for chunk in graph.stream({\"messages\": input_messages}, config, stream_mode=\"values\"):\n",
    "    chunk[\"messages\"][-1].pretty_print()"
   ]
  },
  {
   "cell_type": "code",
   "execution_count": null,
   "id": "af832d7d",
   "metadata": {},
   "outputs": [],
   "source": []
  }
 ],
 "metadata": {
  "kernelspec": {
   "display_name": "lang_aca",
   "language": "python",
   "name": "python3"
  },
  "language_info": {
   "codemirror_mode": {
    "name": "ipython",
    "version": 3
   },
   "file_extension": ".py",
   "mimetype": "text/x-python",
   "name": "python",
   "nbconvert_exporter": "python",
   "pygments_lexer": "ipython3",
   "version": "3.11.11"
  }
 },
 "nbformat": 4,
 "nbformat_minor": 5
}
