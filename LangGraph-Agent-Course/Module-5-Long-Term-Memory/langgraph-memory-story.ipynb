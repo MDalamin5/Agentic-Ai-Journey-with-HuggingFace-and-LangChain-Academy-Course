{
 "cells": [
  {
   "cell_type": "markdown",
   "id": "db0362c0",
   "metadata": {},
   "source": [
    "# ***Basics Implementation of the Long-Term-Memory in ChatBot***"
   ]
  },
  {
   "cell_type": "code",
   "execution_count": 1,
   "id": "1a6619ad",
   "metadata": {},
   "outputs": [],
   "source": [
    "import uuid\n",
    "from langgraph.store.memory import InMemoryStore"
   ]
  },
  {
   "cell_type": "markdown",
   "id": "ed845d7f",
   "metadata": {},
   "source": [
    "## Define the in memory store using build in class `InMemoryStore`"
   ]
  },
  {
   "cell_type": "code",
   "execution_count": 2,
   "id": "945684e7",
   "metadata": {},
   "outputs": [],
   "source": [
    "in_memory_store = InMemoryStore()"
   ]
  },
  {
   "cell_type": "markdown",
   "id": "13a34d30",
   "metadata": {},
   "source": [
    "When storing objects (e.g., memories) in the [Store](https://langchain-ai.github.io/langgraph/reference/store/#langgraph.store.base.BaseStore), we provide:\n",
    "\n",
    "- The `namespace` for the object, a tuple (similar to directories)\n",
    "- the object `key` (similar to filenames)\n",
    "- the object `value` (similar to file contents)\n",
    "\n",
    "We use the [put](https://langchain-ai.github.io/langgraph/reference/store/#langgraph.store.base.BaseStore.put) method to save an object to the store by `namespace` and `key`.\n",
    "\n",
    "![langgraph_store.png](inmemory.png)"
   ]
  },
  {
   "cell_type": "code",
   "execution_count": 5,
   "id": "0e6bf9b7",
   "metadata": {},
   "outputs": [],
   "source": [
    "## Namespace for the memory\n",
    "user_id = \"1\"\n",
    "namespace_for_memory = (user_id, \"memory\")\n",
    "\n",
    "# save a memory to namespace as key and values\n",
    "key = str(uuid.uuid4())\n",
    "\n",
    "# this is the memory context like value of the memory\n",
    "value = {\n",
    "    'food_preference': \"I like beef\"\n",
    "}\n",
    "\n",
    "## now save this info into the memory\n",
    "in_memory_store.put(namespace=namespace_for_memory, key=key, value=value)"
   ]
  },
  {
   "cell_type": "markdown",
   "id": "7897b136",
   "metadata": {},
   "source": [
    "#### we use `search` to retrieve the object from the store by namespace\n",
    "- This is return a list"
   ]
  },
  {
   "cell_type": "code",
   "execution_count": null,
   "id": "476402af",
   "metadata": {},
   "outputs": [
    {
     "data": {
      "text/plain": [
       "list"
      ]
     },
     "execution_count": 7,
     "metadata": {},
     "output_type": "execute_result"
    }
   ],
   "source": [
    "# search\n",
    "memories = in_memory_store.search(namespace_for_memory)\n",
    "type(memories)"
   ]
  },
  {
   "cell_type": "code",
   "execution_count": null,
   "id": "14d34713",
   "metadata": {},
   "outputs": [
    {
     "data": {
      "text/plain": [
       "{'namespace': ['1', 'memory'],\n",
       " 'key': '222e9bfc-0d8b-4a98-a3f6-5efea24c04c0',\n",
       " 'value': {'food_preference': 'I like beef'},\n",
       " 'created_at': '2025-05-12T04:41:20.025246+00:00',\n",
       " 'updated_at': '2025-05-12T04:41:20.025246+00:00',\n",
       " 'score': None}"
      ]
     },
     "execution_count": 10,
     "metadata": {},
     "output_type": "execute_result"
    }
   ],
   "source": [
    "## Metadata\n",
    "memories[0].dict()"
   ]
  },
  {
   "cell_type": "code",
   "execution_count": 11,
   "id": "b8d861fc",
   "metadata": {},
   "outputs": [
    {
     "name": "stdout",
     "output_type": "stream",
     "text": [
      "222e9bfc-0d8b-4a98-a3f6-5efea24c04c0 {'food_preference': 'I like beef'}\n"
     ]
    }
   ],
   "source": [
    "print(memories[0].key, memories[0].value)"
   ]
  },
  {
   "cell_type": "markdown",
   "id": "a68349af",
   "metadata": {},
   "source": [
    "We can also use [get](https://langchain-ai.github.io/langgraph/reference/store/#langgraph.store.base.BaseStore.get) to retrieve an object by `namespace` and `key`."
   ]
  },
  {
   "cell_type": "code",
   "execution_count": 14,
   "id": "02db6ca9",
   "metadata": {},
   "outputs": [
    {
     "data": {
      "text/plain": [
       "{'namespace': ['1', 'memory'],\n",
       " 'key': '222e9bfc-0d8b-4a98-a3f6-5efea24c04c0',\n",
       " 'value': {'food_preference': 'I like beef'},\n",
       " 'created_at': '2025-05-12T04:41:20.025246+00:00',\n",
       " 'updated_at': '2025-05-12T04:41:20.025246+00:00'}"
      ]
     },
     "execution_count": 14,
     "metadata": {},
     "output_type": "execute_result"
    }
   ],
   "source": [
    "## get the memory by namespace and key\n",
    "memory = in_memory_store.get(namespace_for_memory, key)\n",
    "memory.dict()"
   ]
  },
  {
   "cell_type": "markdown",
   "id": "dc139d4e",
   "metadata": {},
   "source": [
    "# ***Time to Build Chatbot with long-term-memory***"
   ]
  },
  {
   "cell_type": "code",
   "execution_count": null,
   "id": "0aae6224",
   "metadata": {},
   "outputs": [],
   "source": []
  }
 ],
 "metadata": {
  "kernelspec": {
   "display_name": "lang_aca",
   "language": "python",
   "name": "python3"
  },
  "language_info": {
   "codemirror_mode": {
    "name": "ipython",
    "version": 3
   },
   "file_extension": ".py",
   "mimetype": "text/x-python",
   "name": "python",
   "nbconvert_exporter": "python",
   "pygments_lexer": "ipython3",
   "version": "3.11.11"
  }
 },
 "nbformat": 4,
 "nbformat_minor": 5
}
