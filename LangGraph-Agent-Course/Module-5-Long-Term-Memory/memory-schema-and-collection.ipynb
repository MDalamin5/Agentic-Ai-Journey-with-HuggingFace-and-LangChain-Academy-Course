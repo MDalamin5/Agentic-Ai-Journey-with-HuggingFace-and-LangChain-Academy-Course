{
 "cells": [
  {
   "cell_type": "markdown",
   "id": "38cfcda9",
   "metadata": {},
   "source": [
    "# **Goals**\n",
    "\n",
    "Sometimes we want to save memories to a [collection](https://docs.google.com/presentation/d/181mvjlgsnxudQI6S3ritg9sooNyu4AcLLFH1UK0kIuk/edit#slide=id.g30eb3c8cf10_0_200) rather than single profile. \n",
    "\n",
    "Here we'll update our chatbot to [save memories to a collection](https://langchain-ai.github.io/langgraph/concepts/memory/#collection).\n",
    "\n",
    "We'll also show how to use [Trustcall](https://github.com/hinthornw/trustcall) to update this collection. \n"
   ]
  },
  {
   "cell_type": "code",
   "execution_count": 1,
   "id": "31fbfda4",
   "metadata": {},
   "outputs": [],
   "source": [
    "from IPython.display import display, Image\n",
    "from langchain_groq import ChatGroq\n",
    "from dotenv import load_dotenv\n",
    "from langgraph.checkpoint.memory import MemorySaver\n",
    "from langgraph.graph import MessagesState, StateGraph, START, END\n",
    "from langgraph.store.base import BaseStore\n",
    "\n",
    "from langchain_core.messages import HumanMessage, SystemMessage\n",
    "from langchain_core.runnables.config import RunnableConfig\n",
    "load_dotenv()\n",
    "import os\n",
    "\n",
    "os.environ[\"LANGCHAIN_API_KEY\"] = os.getenv(\"LANGCHAIN_API_KEY\")\n",
    "os.environ[\"LANGSMITH_TRACING\"] = \"true\"\n",
    "os.environ[\"LANGSMITH_PROJECT\"] = \"langchain-academy\"\n",
    "\n",
    "groq_api_key = os.getenv(\"GROQ_API_KEY\")\n",
    "\n",
    "model = ChatGroq(model_name = \"meta-llama/llama-4-scout-17b-16e-instruct\", groq_api_key=groq_api_key)"
   ]
  },
  {
   "cell_type": "markdown",
   "id": "356cf2d1",
   "metadata": {},
   "source": [
    "## Defining a collection schema\n",
    "\n",
    "Instead of storing user information in a fixed profile structure, we'll create a flexible collection schema to store memories about user interactions.\n",
    "\n",
    "Each memory will be stored as a separate entry with a single `content` field for the main information we want to remember\n",
    "\n",
    "This approach allows us to build an open-ended collection of memories that can grow and change as we learn more about the user.\n",
    "\n",
    "We can define a collection schema as a [Pydantic](https://docs.pydantic.dev/latest/) object. "
   ]
  },
  {
   "cell_type": "code",
   "execution_count": 46,
   "id": "f4368ca5",
   "metadata": {},
   "outputs": [],
   "source": [
    "from pydantic import BaseModel, Field\n",
    "\n",
    "class Memory(BaseModel):\n",
    "    \"\"\"Tool for storing information about the user for long-term memory.\"\"\"\n",
    "    \n",
    "    content: str = Field(description=\"The main content of the memory. For example: User expressed interest in learning about French.\")\n",
    "\n",
    "class MemoryCollection(BaseModel):\n",
    "    # \"\"\"Tool for storing information about the user for long-term memory.\"\"\"\n",
    "    \n",
    "    memories: list[Memory] = Field(description=\"A list of memories about the user.\")"
   ]
  },
  {
   "cell_type": "code",
   "execution_count": 51,
   "id": "3c888611",
   "metadata": {},
   "outputs": [
    {
     "data": {
      "text/plain": [
       "[Memory(content=\"User's name is Al Amin.\"), Memory(content='User likes bike.')]"
      ]
     },
     "execution_count": 51,
     "metadata": {},
     "output_type": "execute_result"
    }
   ],
   "source": [
    "from langchain_core.messages import HumanMessage, SystemMessage\n",
    "\n",
    "model_with_structure = model.with_structured_output(MemoryCollection)\n",
    "\n",
    "# Invoke the model to produce structured output that matches the schema\n",
    "memory_collection = model_with_structure.invoke([HumanMessage(\"My name is Al Amin. I like bike.\")])\n",
    "memory_collection.memories"
   ]
  },
  {
   "cell_type": "code",
   "execution_count": 52,
   "id": "8a731391",
   "metadata": {},
   "outputs": [
    {
     "data": {
      "text/plain": [
       "{'content': \"User's name is Al Amin.\"}"
      ]
     },
     "execution_count": 52,
     "metadata": {},
     "output_type": "execute_result"
    }
   ],
   "source": [
    "memory_collection.memories[0].model_dump()"
   ]
  },
  {
   "cell_type": "code",
   "execution_count": 53,
   "id": "233bc983",
   "metadata": {},
   "outputs": [
    {
     "data": {
      "text/plain": [
       "{'content': 'User likes bike.'}"
      ]
     },
     "execution_count": 53,
     "metadata": {},
     "output_type": "execute_result"
    }
   ],
   "source": [
    "memory_collection.memories[1].model_dump()"
   ]
  },
  {
   "cell_type": "markdown",
   "id": "568f43f2",
   "metadata": {},
   "source": [
    "### Save dictionary representation of each memory to the store."
   ]
  },
  {
   "cell_type": "code",
   "execution_count": 54,
   "id": "80dc6a6e",
   "metadata": {},
   "outputs": [],
   "source": [
    "from langgraph.store.memory import InMemoryStore\n",
    "import uuid\n",
    "in_memory_store = InMemoryStore()\n",
    "\n",
    "user_id = '1'\n",
    "namespace_for_memory = (user_id, \"memories\")\n",
    "\n",
    "key = str(uuid.uuid4())\n",
    "value = memory_collection.memories[0].model_dump()\n",
    "in_memory_store.put(namespace_for_memory, key, value)\n",
    "\n",
    "key = str(uuid.uuid4())\n",
    "value = memory_collection.memories[1].model_dump()\n",
    "in_memory_store.put(namespace_for_memory, key, value)"
   ]
  },
  {
   "cell_type": "code",
   "execution_count": 55,
   "id": "fc44f944",
   "metadata": {},
   "outputs": [
    {
     "name": "stdout",
     "output_type": "stream",
     "text": [
      "{'namespace': ['1', 'memories'], 'key': 'aa765124-817e-43b4-b1a8-125d5d28a13f', 'value': {'content': \"User's name is Al Amin.\"}, 'created_at': '2025-05-13T05:57:07.259249+00:00', 'updated_at': '2025-05-13T05:57:07.259249+00:00', 'score': None}\n",
      "{'namespace': ['1', 'memories'], 'key': '4233b6cf-9517-476d-babb-cb117c78faac', 'value': {'content': 'User likes bike.'}, 'created_at': '2025-05-13T05:57:07.259249+00:00', 'updated_at': '2025-05-13T05:57:07.259249+00:00', 'score': None}\n"
     ]
    }
   ],
   "source": [
    "# Search \n",
    "for m in in_memory_store.search(namespace_for_memory):\n",
    "    print(m.dict())"
   ]
  },
  {
   "cell_type": "markdown",
   "id": "7ce0d344",
   "metadata": {},
   "source": [
    "## ***Updating collection schema***\n",
    "\n",
    "We discussed the challenges with updating a profile schema in the last lesson. \n",
    "\n",
    "The same applies for collections! \n",
    "\n",
    "We want the ability to update the collection with new memories as well as update existing memories in the collection. \n",
    "\n",
    "Now we'll show that [Trustcall](https://github.com/hinthornw/trustcall) can be also used to update a collection. \n",
    "\n",
    "This enables both addition of new memories as well as [updating existing memories in the collection](https://github.com/hinthornw/trustcall?tab=readme-ov-file#simultanous-updates--insertions\n",
    ").\n",
    "\n",
    "Let's define a new extractor with Trustcall. \n",
    "\n",
    "As before, we provide the schema for each memory, `Memory`.  \n",
    "\n",
    "But, we can supply `enable_inserts=True` to allow the extractor to insert new memories to the collection. "
   ]
  },
  {
   "cell_type": "code",
   "execution_count": 56,
   "id": "45d76161",
   "metadata": {},
   "outputs": [],
   "source": [
    "from trustcall import create_extractor\n",
    "\n",
    "# Create the extractor\n",
    "trustcall_extractor = create_extractor(\n",
    "    model,\n",
    "    tools=[Memory],\n",
    "    tool_choice=\"Memory\",\n",
    "    enable_inserts=True,\n",
    ")"
   ]
  },
  {
   "cell_type": "code",
   "execution_count": 57,
   "id": "7f3fffde",
   "metadata": {},
   "outputs": [],
   "source": [
    "from langchain_core.messages import HumanMessage, SystemMessage, AIMessage\n",
    "\n",
    "# Instruction\n",
    "instruction = \"\"\"Extract memories from the following conversation:\"\"\"\n",
    "\n",
    "# Conversation\n",
    "conversation = [HumanMessage(content=\"Hi, I'm Al Amin.\"), \n",
    "                AIMessage(content=\"Nice to meet you, Al Amin.\"), \n",
    "                HumanMessage(content=\"This morning I had a nice bike ride in Bashundhara r/a, Dhaka.\")]\n",
    "\n",
    "# Invoke the extractor\n",
    "result = trustcall_extractor.invoke({\"messages\": [SystemMessage(content=instruction)] + conversation})"
   ]
  },
  {
   "cell_type": "markdown",
   "id": "f495f952",
   "metadata": {},
   "source": [
    "#### above error by model.But code is correct. hare need `gpt-4o` model."
   ]
  },
  {
   "cell_type": "code",
   "execution_count": 58,
   "id": "c6dd5a53",
   "metadata": {},
   "outputs": [
    {
     "name": "stdout",
     "output_type": "stream",
     "text": [
      "==================================\u001b[1m Ai Message \u001b[0m==================================\n",
      "Tool Calls:\n",
      "  Memory (call_6tzp)\n",
      " Call ID: call_6tzp\n",
      "  Args:\n",
      "    content: Al Amin had a bike ride in Bashundhara r/a, Dhaka.\n"
     ]
    }
   ],
   "source": [
    "# Messages contain the tool calls\n",
    "for m in result[\"messages\"]:\n",
    "    m.pretty_print()"
   ]
  },
  {
   "cell_type": "code",
   "execution_count": 59,
   "id": "5be549b2",
   "metadata": {},
   "outputs": [
    {
     "name": "stdout",
     "output_type": "stream",
     "text": [
      "content='Al Amin had a bike ride in Bashundhara r/a, Dhaka.'\n"
     ]
    }
   ],
   "source": [
    "# Responses contain the memories that adhere to the schema\n",
    "for m in result[\"responses\"]: \n",
    "    print(m)"
   ]
  },
  {
   "cell_type": "code",
   "execution_count": 60,
   "id": "905115ed",
   "metadata": {},
   "outputs": [
    {
     "name": "stdout",
     "output_type": "stream",
     "text": [
      "{'id': 'call_6tzp'}\n"
     ]
    }
   ],
   "source": [
    "# Metadata contains the tool call  \n",
    "for m in result[\"response_metadata\"]: \n",
    "    print(m)"
   ]
  },
  {
   "cell_type": "code",
   "execution_count": 61,
   "id": "a07dd08c",
   "metadata": {},
   "outputs": [
    {
     "data": {
      "text/plain": [
       "[('0',\n",
       "  'Memory',\n",
       "  {'content': 'Al Amin had a bike ride in Bashundhara r/a, Dhaka.'})]"
      ]
     },
     "execution_count": 61,
     "metadata": {},
     "output_type": "execute_result"
    }
   ],
   "source": [
    "# Update the conversation\n",
    "updated_conversation = [AIMessage(content=\"That's great, did you do after?\"), \n",
    "                        HumanMessage(content=\"I went to Tartine and ate a croissant.\"),                        \n",
    "                        AIMessage(content=\"What else is on your mind?\"),\n",
    "                        HumanMessage(content=\"I was thinking about my Japan, and going back this winter!\"),]\n",
    "\n",
    "# Update the instruction\n",
    "system_msg = \"\"\"Update existing memories and create new ones based on the following conversation:\"\"\"\n",
    "\n",
    "# We'll save existing memories, giving them an ID, key (tool name), and value\n",
    "tool_name = \"Memory\"\n",
    "existing_memories = [(str(i), tool_name, memory.model_dump()) for i, memory in enumerate(result[\"responses\"])] if result[\"responses\"] else None\n",
    "existing_memories"
   ]
  },
  {
   "cell_type": "code",
   "execution_count": 62,
   "id": "46161037",
   "metadata": {},
   "outputs": [],
   "source": [
    "# Invoke the extractor with our updated conversation and existing memories\n",
    "result = trustcall_extractor.invoke({\"messages\": updated_conversation, \n",
    "                                     \"existing\": existing_memories})"
   ]
  },
  {
   "cell_type": "code",
   "execution_count": 63,
   "id": "3db5ec66",
   "metadata": {},
   "outputs": [
    {
     "name": "stdout",
     "output_type": "stream",
     "text": [
      "==================================\u001b[1m Ai Message \u001b[0m==================================\n",
      "Tool Calls:\n",
      "  Memory (call_bqkh)\n",
      " Call ID: call_bqkh\n",
      "  Args:\n",
      "    content: Al Amin had a bike ride in Bashundhara r/a, Dhaka. He went to Tartine and ate a croissant. He was thinking about Japan and going back this winter.\n"
     ]
    }
   ],
   "source": [
    "# Messages from the model indicate two tool calls were made\n",
    "for m in result[\"messages\"]:\n",
    "    m.pretty_print()"
   ]
  },
  {
   "cell_type": "code",
   "execution_count": 64,
   "id": "e27cbdd0",
   "metadata": {},
   "outputs": [
    {
     "name": "stdout",
     "output_type": "stream",
     "text": [
      "content='Al Amin had a bike ride in Bashundhara r/a, Dhaka. He went to Tartine and ate a croissant. He was thinking about Japan and going back this winter.'\n"
     ]
    }
   ],
   "source": [
    "# Responses contain the memories that adhere to the schema\n",
    "for m in result[\"responses\"]: \n",
    "    print(m)"
   ]
  },
  {
   "cell_type": "code",
   "execution_count": 65,
   "id": "6ac31c35",
   "metadata": {},
   "outputs": [
    {
     "name": "stdout",
     "output_type": "stream",
     "text": [
      "{'id': 'call_bqkh'}\n"
     ]
    }
   ],
   "source": [
    "# Metadata contains the tool call  \n",
    "for m in result[\"response_metadata\"]: \n",
    "    print(m)"
   ]
  },
  {
   "cell_type": "markdown",
   "id": "62d94b52",
   "metadata": {},
   "source": [
    "## Chatbot with collection schema updating\n",
    "\n",
    "---\n",
    "\n",
    "\n",
    "\n",
    "Now, let's bring Trustcall into our chatbot to create and update a memory collection."
   ]
  },
  {
   "cell_type": "code",
   "execution_count": 66,
   "id": "85a6196f",
   "metadata": {},
   "outputs": [
    {
     "data": {
      "image/png": "[encoded data removed]",
      "text/plain": [
       "<IPython.core.display.Image object>"
      ]
     },
     "metadata": {},
     "output_type": "display_data"
    }
   ],
   "source": [
    "from IPython.display import Image, display\n",
    "import uuid\n",
    "from typing import List\n",
    "from pydantic import BaseModel, Field\n",
    "\n",
    "from langgraph.graph import StateGraph, MessagesState, START, END\n",
    "from langgraph.store.memory import InMemoryStore\n",
    "from langchain_core.messages import merge_message_runs\n",
    "from langchain_core.messages import HumanMessage, SystemMessage\n",
    "from langchain_core.runnables.config import RunnableConfig\n",
    "from langgraph.checkpoint.memory import MemorySaver\n",
    "from langgraph.store.base import BaseStore\n",
    "from langchain_groq import ChatGroq\n",
    "# from langgraph.prebuilt import create_extractor\n",
    "\n",
    "# Initialize the model\n",
    "model = ChatGroq(model_name = \"meta-llama/llama-4-scout-17b-16e-instruct\", groq_api_key=groq_api_key)\n",
    "\n",
    "# Memory schema with proper description\n",
    "class Memory(BaseModel):\n",
    "    \"\"\"Tool for storing information about the user for long-term memory.\"\"\"\n",
    "    \n",
    "    content: str = Field(\n",
    "        description=\"The main content of the memory. For example: User expressed interest in learning about French.\"\n",
    "    )\n",
    "\n",
    "# Create the Trustcall extractor\n",
    "trustcall_extractor = create_extractor(\n",
    "    model,\n",
    "    tools=[Memory],\n",
    "    tool_choice=\"Memory\",\n",
    "    # This allows the extractor to insert new memories\n",
    "    enable_inserts=True,\n",
    ")\n",
    "\n",
    "# Chatbot instruction\n",
    "MODEL_SYSTEM_MESSAGE = \"\"\"You are a helpful chatbot. You are designed to be a companion to a user. \n",
    "\n",
    "You have a long term memory which keeps track of information you learn about the user over time.\n",
    "\n",
    "Current Memory (may include updated memories from this conversation): \n",
    "\n",
    "{memory}\"\"\"\n",
    "\n",
    "# Trustcall instruction\n",
    "TRUSTCALL_INSTRUCTION = \"\"\"Reflect on following interaction. \n",
    "\n",
    "Use the provided tools to retain any necessary memories about the user. \n",
    "\n",
    "Use parallel tool calling to handle updates and insertions simultaneously:\"\"\"\n",
    "\n",
    "def call_model(state: MessagesState, config: RunnableConfig, store: BaseStore):\n",
    "    \"\"\"Load memories from the store and use them to personalize the chatbot's response.\"\"\"\n",
    "    \n",
    "    # Get the user ID from the config\n",
    "    user_id = config[\"configurable\"][\"user_id\"]\n",
    "\n",
    "    # Retrieve memory from the store\n",
    "    namespace = (\"memories\", user_id)\n",
    "    memories = store.search(namespace)\n",
    "\n",
    "    # Format the memories for the system prompt\n",
    "    info = \"\\n\".join(f\"- {mem.value['content']}\" for mem in memories)\n",
    "    system_msg = MODEL_SYSTEM_MESSAGE.format(memory=info)\n",
    "\n",
    "    # Respond using memory as well as the chat history\n",
    "    response = model.invoke([SystemMessage(content=system_msg)]+state[\"messages\"])\n",
    "\n",
    "    return {\"messages\": response}\n",
    "\n",
    "def write_memory(state: MessagesState, config: RunnableConfig, store: BaseStore):\n",
    "    \"\"\"Reflect on the chat history and update the memory collection.\"\"\"\n",
    "    \n",
    "    # Get the user ID from the config\n",
    "    user_id = config[\"configurable\"][\"user_id\"]\n",
    "\n",
    "    # Define the namespace for the memories\n",
    "    namespace = (\"memories\", user_id)\n",
    "\n",
    "    # Retrieve the most recent memories for context\n",
    "    existing_items = store.search(namespace)\n",
    "\n",
    "    # Format the existing memories for the Trustcall extractor\n",
    "    tool_name = \"Memory\"\n",
    "    existing_memories = ([(existing_item.key, tool_name, existing_item.value)\n",
    "                          for existing_item in existing_items]\n",
    "                          if existing_items\n",
    "                          else None\n",
    "                        )\n",
    "\n",
    "    # Merge the chat history and the instruction\n",
    "    updated_messages=list(merge_message_runs(messages=[SystemMessage(content=TRUSTCALL_INSTRUCTION)] + state[\"messages\"]))\n",
    "\n",
    "    # Invoke the extractor\n",
    "    result = trustcall_extractor.invoke({\"messages\": updated_messages, \n",
    "                                        \"existing\": existing_memories})\n",
    "\n",
    "    # Save the memories from Trustcall to the store\n",
    "    for r, rmeta in zip(result[\"responses\"], result[\"response_metadata\"]):\n",
    "        store.put(namespace,\n",
    "                  rmeta.get(\"json_doc_id\", str(uuid.uuid4())),\n",
    "                  r.model_dump(mode=\"json\"),\n",
    "            )\n",
    "\n",
    "# Define the graph\n",
    "builder = StateGraph(MessagesState)\n",
    "builder.add_node(\"call_model\", call_model)\n",
    "builder.add_node(\"write_memory\", write_memory)\n",
    "builder.add_edge(START, \"call_model\")\n",
    "builder.add_edge(\"call_model\", \"write_memory\")\n",
    "builder.add_edge(\"write_memory\", END)\n",
    "\n",
    "# Store for long-term (across-thread) memory\n",
    "across_thread_memory = InMemoryStore()\n",
    "\n",
    "# Checkpointer for short-term (within-thread) memory\n",
    "within_thread_memory = MemorySaver()\n",
    "\n",
    "# Compile the graph with the checkpointer fir and store\n",
    "graph = builder.compile(checkpointer=within_thread_memory, store=across_thread_memory)\n",
    "\n",
    "# View\n",
    "display(Image(graph.get_graph(xray=1).draw_mermaid_png()))"
   ]
  },
  {
   "cell_type": "code",
   "execution_count": 72,
   "id": "9d8c8ec2",
   "metadata": {},
   "outputs": [
    {
     "name": "stdout",
     "output_type": "stream",
     "text": [
      "================================\u001b[1m Human Message \u001b[0m=================================\n",
      "\n",
      "Assalamualikum, i'm Al Amin\n",
      "==================================\u001b[1m Ai Message \u001b[0m==================================\n",
      "\n",
      "Wa alaikumussalam, Al Amin! It's nice to meet you. I'm here to chat and help with any questions or topics you'd like to discuss. How are you doing today? \n",
      "\n",
      "(By the way, I'll make sure to remember your name, Al Amin, for our future conversations!)\n"
     ]
    }
   ],
   "source": [
    "# We supply a thread ID for short-term (within-thread) memory\n",
    "# We supply a user ID for long-term (across-thread) memory \n",
    "config = {\"configurable\": {\"thread_id\": \"3\", \"user_id\": \"3\"}}\n",
    "\n",
    "# User input \n",
    "input_messages = [HumanMessage(content=\"Assalamualikum, i'm Al Amin\")]\n",
    "\n",
    "# Run the graph\n",
    "for chunk in graph.stream({\"messages\": input_messages}, config, stream_mode=\"values\"):\n",
    "    chunk[\"messages\"][-1].pretty_print()"
   ]
  },
  {
   "cell_type": "code",
   "execution_count": 73,
   "id": "19391ddf",
   "metadata": {},
   "outputs": [
    {
     "name": "stdout",
     "output_type": "stream",
     "text": [
      "================================\u001b[1m Human Message \u001b[0m=================================\n",
      "\n",
      "I like to bike Bashundhara r/a, Dhaka\n",
      "==================================\u001b[1m Ai Message \u001b[0m==================================\n",
      "\n",
      "Bashundhara Residential Area in Dhaka is a lovely place to bike around. The roads are relatively smooth, and it's a great way to explore the area. Are you a regular biker, Al Amin? Do you have a favorite route or spot in Bashundhara R/A that you like to visit on your bike?\n"
     ]
    }
   ],
   "source": [
    "# User input \n",
    "input_messages = [HumanMessage(content=\"I like to bike Bashundhara r/a, Dhaka\")]\n",
    "\n",
    "# Run the graph\n",
    "for chunk in graph.stream({\"messages\": input_messages}, config, stream_mode=\"values\"):\n",
    "    chunk[\"messages\"][-1].pretty_print()"
   ]
  },
  {
   "cell_type": "code",
   "execution_count": 74,
   "id": "6530f30e",
   "metadata": {},
   "outputs": [
    {
     "name": "stdout",
     "output_type": "stream",
     "text": [
      "{'namespace': ['memories', '3'], 'key': 'd05fee14-1d56-4c38-b82d-de345c40096a', 'value': {'content': 'User introduced himself as Al Amin.'}, 'created_at': '2025-05-13T06:02:37.108009+00:00', 'updated_at': '2025-05-13T06:02:37.108009+00:00', 'score': None}\n",
      "{'namespace': ['memories', '3'], 'key': 'fec93391-d275-40af-83f2-50a94ece93bf', 'value': {'content': 'Al Amin likes biking in Bashundhara r/a, Dhaka.'}, 'created_at': '2025-05-13T06:02:54.687744+00:00', 'updated_at': '2025-05-13T06:02:54.687744+00:00', 'score': None}\n"
     ]
    }
   ],
   "source": [
    "# Namespace for the memory to save\n",
    "user_id = \"3\"\n",
    "namespace = (\"memories\", user_id)\n",
    "memories = across_thread_memory.search(namespace)\n",
    "for m in memories:\n",
    "    print(m.dict())"
   ]
  },
  {
   "cell_type": "code",
   "execution_count": 75,
   "id": "f28f041b",
   "metadata": {},
   "outputs": [
    {
     "name": "stdout",
     "output_type": "stream",
     "text": [
      "================================\u001b[1m Human Message \u001b[0m=================================\n",
      "\n",
      "I also enjoy going to bakeries\n",
      "==================================\u001b[1m Ai Message \u001b[0m==================================\n",
      "\n",
      "A sweet tooth, Al Amin? Bakeries can be a wonderful treat. Are you particularly fond of any specific types of baked goods, like pastries, cakes, or bread? Or are there any bakeries in Dhaka that you especially enjoy visiting? \n",
      "\n",
      "(By the way, I recall you mentioned biking in Bashundhara R/A earlier. Maybe you've stopped by a bakery or two after a ride?)\n"
     ]
    }
   ],
   "source": [
    "# User input \n",
    "input_messages = [HumanMessage(content=\"I also enjoy going to bakeries\")]\n",
    "\n",
    "# Run the graph\n",
    "for chunk in graph.stream({\"messages\": input_messages}, config, stream_mode=\"values\"):\n",
    "    chunk[\"messages\"][-1].pretty_print()"
   ]
  },
  {
   "cell_type": "markdown",
   "id": "bcaef8e1",
   "metadata": {},
   "source": [
    "## Chat with a new Thread"
   ]
  },
  {
   "cell_type": "code",
   "execution_count": 77,
   "id": "3c7a17a5",
   "metadata": {},
   "outputs": [
    {
     "name": "stdout",
     "output_type": "stream",
     "text": [
      "================================\u001b[1m Human Message \u001b[0m=================================\n",
      "\n",
      "What bakeries do you recommend for me?\n",
      "==================================\u001b[1m Ai Message \u001b[0m==================================\n",
      "\n",
      "Al Amin, that's you! I recall that you mentioned enjoying bakeries in Bashundhara r/a, Dhaka. Unfortunately, I don't have specific bakery recommendations stored in my memory. However, I can suggest that you try searching online for highly-rated bakeries in Bashundhara r/a, Dhaka. You can also ask locals or check social media for recommendations.\n",
      "\n",
      "That being said, I can try to help you brainstorm or provide general information about bakeries. Would you like me to do that?\n"
     ]
    }
   ],
   "source": [
    "# We supply a thread ID for short-term (within-thread) memory\n",
    "# We supply a user ID for long-term (across-thread) memory \n",
    "config = {\"configurable\": {\"thread_id\": \"4\", \"user_id\": \"3\"}}\n",
    "\n",
    "# User input \n",
    "input_messages = [HumanMessage(content=\"What bakeries do you recommend for me?\")]\n",
    "\n",
    "# Run the graph\n",
    "for chunk in graph.stream({\"messages\": input_messages}, config, stream_mode=\"values\"):\n",
    "    chunk[\"messages\"][-1].pretty_print()"
   ]
  },
  {
   "cell_type": "code",
   "execution_count": 78,
   "id": "d3269531",
   "metadata": {},
   "outputs": [
    {
     "name": "stdout",
     "output_type": "stream",
     "text": [
      "================================\u001b[1m Human Message \u001b[0m=================================\n",
      "\n",
      "What Restaurant do you recommend for me?\n",
      "==================================\u001b[1m Ai Message \u001b[0m==================================\n",
      "\n",
      "As Al Amin, I recall that you enjoy biking in Bashundhara r/a, Dhaka. If you're looking for a restaurant recommendation, I'd be happy to help. However, I don't have specific restaurant recommendations stored in my memory.\n",
      "\n",
      "That being said, since you mentioned you enjoy bakeries, I can suggest looking for restaurants that have a bakery or café attached to them. Alternatively, you can try searching online for highly-rated restaurants in Bashundhara r/a, Dhaka.\n",
      "\n",
      "If you'd like, I can also try to provide general information about restaurants in the area or help you brainstorm options. Would you like me to do that?\n"
     ]
    }
   ],
   "source": [
    "# We supply a thread ID for short-term (within-thread) memory\n",
    "# We supply a user ID for long-term (across-thread) memory \n",
    "config = {\"configurable\": {\"thread_id\": \"4\", \"user_id\": \"3\"}}\n",
    "\n",
    "# User input \n",
    "input_messages = [HumanMessage(content=\"What Restaurant do you recommend for me?\")]\n",
    "\n",
    "# Run the graph\n",
    "for chunk in graph.stream({\"messages\": input_messages}, config, stream_mode=\"values\"):\n",
    "    chunk[\"messages\"][-1].pretty_print()"
   ]
  },
  {
   "cell_type": "code",
   "execution_count": 79,
   "id": "f43ba589",
   "metadata": {},
   "outputs": [
    {
     "name": "stdout",
     "output_type": "stream",
     "text": [
      "================================\u001b[1m Human Message \u001b[0m=================================\n",
      "\n",
      "Can you tell some name its helps a lot?\n",
      "==================================\u001b[1m Ai Message \u001b[0m==================================\n",
      "\n",
      "As Al Amin, I recall that you were looking for bakery and restaurant recommendations in Bashundhara r/a, Dhaka. While I don't have a comprehensive list, I can suggest a few options that might be worth trying:\n",
      "\n",
      "For bakeries:\n",
      "\n",
      "* Impress Bakery (I've heard it's a popular spot)\n",
      "* Bashundhara Bakery (conveniently located in the area)\n",
      "* Apollo Bakery (known for their delicious treats)\n",
      "\n",
      "For restaurants:\n",
      "\n",
      "* The Bashundhara (a restaurant with a variety of cuisines)\n",
      "* The Coffee Bean & Tea Leaf (a great spot for coffee and snacks)\n",
      "* Some popular food courts or cafes in the Bashundhara r/a area\n",
      "\n",
      "Keep in mind that these are just suggestions, and you may want to check reviews or ask locals for more recommendations. I hope this helps, and I'm happy to try to provide more information if you need it!\n"
     ]
    }
   ],
   "source": [
    "input_messages = [HumanMessage(content=\"Can you tell some name its helps a lot?\")]\n",
    "\n",
    "# Run the graph\n",
    "for chunk in graph.stream({\"messages\": input_messages}, config, stream_mode=\"values\"):\n",
    "    chunk[\"messages\"][-1].pretty_print()"
   ]
  },
  {
   "cell_type": "code",
   "execution_count": 80,
   "id": "f0844f7e",
   "metadata": {},
   "outputs": [
    {
     "name": "stdout",
     "output_type": "stream",
     "text": [
      "{'namespace': ['memories', '3'], 'key': 'd05fee14-1d56-4c38-b82d-de345c40096a', 'value': {'content': 'User introduced himself as Al Amin.'}, 'created_at': '2025-05-13T06:02:37.108009+00:00', 'updated_at': '2025-05-13T06:02:37.108009+00:00', 'score': None}\n",
      "{'namespace': ['memories', '3'], 'key': 'fec93391-d275-40af-83f2-50a94ece93bf', 'value': {'content': 'Al Amin likes biking in Bashundhara r/a, Dhaka.'}, 'created_at': '2025-05-13T06:02:54.687744+00:00', 'updated_at': '2025-05-13T06:02:54.687744+00:00', 'score': None}\n",
      "{'namespace': ['memories', '3'], 'key': '61868eee-0264-4d48-869b-eaa29119caf1', 'value': {'content': 'Al Amin enjoys biking in Bashundhara r/a, Dhaka and likes bakeries.'}, 'created_at': '2025-05-13T06:03:23.141822+00:00', 'updated_at': '2025-05-13T06:03:23.141822+00:00', 'score': None}\n",
      "{'namespace': ['memories', '3'], 'key': '793e0070-df1f-4aea-b4da-3647771a21ae', 'value': {'content': 'User asked for bakery recommendations.'}, 'created_at': '2025-05-13T06:03:47.819591+00:00', 'updated_at': '2025-05-13T06:03:47.819591+00:00', 'score': None}\n",
      "{'namespace': ['memories', '3'], 'key': '2a9576b4-6d7c-4e67-b7f2-06a5bcd5e79c', 'value': {'content': 'User asked for bakery recommendations in Bashundhara r/a, Dhaka.'}, 'created_at': '2025-05-13T06:04:24.880835+00:00', 'updated_at': '2025-05-13T06:04:24.880835+00:00', 'score': None}\n",
      "{'namespace': ['memories', '3'], 'key': '3c470756-c0a0-4f17-987d-894521b15749', 'value': {'content': 'User asked for restaurant recommendations.'}, 'created_at': '2025-05-13T06:05:59.080140+00:00', 'updated_at': '2025-05-13T06:05:59.080140+00:00', 'score': None}\n",
      "{'namespace': ['memories', '3'], 'key': 'c50d0fbc-091f-482d-b964-75b73d87c932', 'value': {'content': 'User asked for bakery and restaurant recommendations in Bashundhara r/a, Dhaka. Impress Bakery, Bashundhara Bakery, and Apollo Bakery are popular spots for bakeries. The Bashundhara, The Coffee Bean & Tea Leaf, and some popular food courts or cafes in the Bashundhara r/a area are recommended for restaurants.'}, 'created_at': '2025-05-13T06:07:06.024906+00:00', 'updated_at': '2025-05-13T06:07:06.024906+00:00', 'score': None}\n"
     ]
    }
   ],
   "source": [
    "# Namespace for the memory to save\n",
    "user_id = \"3\"\n",
    "namespace = (\"memories\", user_id)\n",
    "memories = across_thread_memory.search(namespace)\n",
    "for m in memories:\n",
    "    print(m.dict())"
   ]
  }
 ],
 "metadata": {
  "kernelspec": {
   "display_name": "lang_aca",
   "language": "python",
   "name": "python3"
  },
  "language_info": {
   "codemirror_mode": {
    "name": "ipython",
    "version": 3
   },
   "file_extension": ".py",
   "mimetype": "text/x-python",
   "name": "python",
   "nbconvert_exporter": "python",
   "pygments_lexer": "ipython3",
   "version": "3.11.11"
  }
 },
 "nbformat": 4,
 "nbformat_minor": 5
}
