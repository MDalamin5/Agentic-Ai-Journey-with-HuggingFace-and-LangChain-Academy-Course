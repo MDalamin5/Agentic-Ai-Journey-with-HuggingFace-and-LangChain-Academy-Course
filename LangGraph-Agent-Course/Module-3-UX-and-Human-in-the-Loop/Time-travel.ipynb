{
 "cells": [
  {
   "cell_type": "markdown",
   "id": "d8a33839",
   "metadata": {},
   "source": [
    "# ***What is Checkpoint id in langgraph Thrade or Messages History***\n",
    "\n",
    "\n",
    "### Overview\n",
    "\n",
    "- In LangGraph, a \"checkpoint ID\" is an identifier that distinguishes a specific checkpoint within a thread. Think of it as a unique snapshot of the graph's state at a particular point in time during its execution, tagged with a specific thread ID. \n",
    "Here's a more detailed explanation:\n",
    "- Thread:\n",
    "A thread in LangGraph represents a unique session or conversation associated with a graph execution. \n",
    "- Checkpoint:\n",
    "A checkpoint is a snapshot of the graph's state at a particular super-step (a point where the graph executes a batch of nodes). \n",
    "- Checkpoint ID:\n",
    "Each checkpoint within a thread is given a unique ID, allowing you to refer to that specific state snapshot. This ID helps you navigate the history of the thread and access the graph's state at different points. \n",
    "- In essence, the checkpoint ID is like a key that unlocks a specific moment in the graph's execution history, allowing you to retrieve the state of the graph as it was at that particular point in time within a given thread. "
   ]
  },
  {
   "cell_type": "code",
   "execution_count": 1,
   "id": "cc40da37",
   "metadata": {},
   "outputs": [],
   "source": [
    "from langchain_groq import ChatGroq\n",
    "import os\n",
    "from dotenv import load_dotenv\n",
    "\n",
    "groq_api_key = os.getenv(\"GROQ_API_KEY\")\n",
    "llm = ChatGroq(model_name = \"meta-llama/llama-4-scout-17b-16e-instruct\", groq_api_key=groq_api_key)"
   ]
  },
  {
   "cell_type": "code",
   "execution_count": 3,
   "id": "ec42f367",
   "metadata": {},
   "outputs": [],
   "source": [
    "def multiply(a: int, b: int) -> int:\n",
    "    \"\"\"Multiply a and b.\n",
    "\n",
    "    Args:\n",
    "        a: first int\n",
    "        b: second int\n",
    "    \"\"\"\n",
    "    return a * b\n",
    "\n",
    "# This will be a tool\n",
    "def add(a: int, b: int) -> int:\n",
    "    \"\"\"Adds a and b.\n",
    "\n",
    "    Args:\n",
    "        a: first int\n",
    "        b: second int\n",
    "    \"\"\"\n",
    "    return a + b\n",
    "\n",
    "def divide(a: int, b: int) -> float:\n",
    "    \"\"\"Divide a by b.\n",
    "\n",
    "    Args:\n",
    "        a: first int\n",
    "        b: second int\n",
    "    \"\"\"\n",
    "    return a / b\n",
    "\n",
    "tools = [add, multiply, divide]\n",
    "llm_with_tools = llm.bind_tools(tools)"
   ]
  },
  {
   "cell_type": "code",
   "execution_count": 4,
   "id": "6d8c218f",
   "metadata": {},
   "outputs": [
    {
     "data": {
      "image/png": "[encoded data removed]",
      "text/plain": [
       "<IPython.core.display.Image object>"
      ]
     },
     "metadata": {},
     "output_type": "display_data"
    }
   ],
   "source": [
    "from IPython.display import Image, display\n",
    "\n",
    "from langgraph.checkpoint.memory import MemorySaver\n",
    "from langgraph.graph import MessagesState\n",
    "from langgraph.graph import START, END, StateGraph\n",
    "from langgraph.prebuilt import tools_condition, ToolNode\n",
    "\n",
    "from langchain_core.messages import AIMessage, HumanMessage, SystemMessage\n",
    "\n",
    "# System message\n",
    "sys_msg = SystemMessage(content=\"You are a helpful assistant tasked with performing arithmetic on a set of inputs.\")\n",
    "\n",
    "# Node\n",
    "def assistant(state: MessagesState):\n",
    "   return {\"messages\": [llm_with_tools.invoke([sys_msg] + state[\"messages\"])]}\n",
    "\n",
    "# Graph\n",
    "builder = StateGraph(MessagesState)\n",
    "\n",
    "# Define nodes: these do the work\n",
    "builder.add_node(\"assistant\", assistant)\n",
    "builder.add_node(\"tools\", ToolNode(tools))\n",
    "\n",
    "# Define edges: these determine the control flow\n",
    "builder.add_edge(START, \"assistant\")\n",
    "builder.add_conditional_edges(\n",
    "    \"assistant\",\n",
    "    # If the latest message (result) from assistant is a tool call -> tools_condition routes to tools\n",
    "    # If the latest message (result) from assistant is a not a tool call -> tools_condition routes to END\n",
    "    tools_condition,\n",
    ")\n",
    "builder.add_edge(\"tools\", \"assistant\")\n",
    "\n",
    "memory = MemorySaver()\n",
    "graph = builder.compile(checkpointer=MemorySaver())\n",
    "\n",
    "# Show\n",
    "display(Image(graph.get_graph(xray=True).draw_mermaid_png()))"
   ]
  },
  {
   "cell_type": "code",
   "execution_count": 5,
   "id": "ff362e59",
   "metadata": {},
   "outputs": [
    {
     "name": "stdout",
     "output_type": "stream",
     "text": [
      "================================\u001b[1m Human Message \u001b[0m=================================\n",
      "\n",
      "Multiply 3 and 3\n",
      "==================================\u001b[1m Ai Message \u001b[0m==================================\n",
      "Tool Calls:\n",
      "  multiply (call_2q72)\n",
      " Call ID: call_2q72\n",
      "  Args:\n",
      "    a: 3\n",
      "    b: 3\n",
      "=================================\u001b[1m Tool Message \u001b[0m=================================\n",
      "Name: multiply\n",
      "\n",
      "9\n",
      "==================================\u001b[1m Ai Message \u001b[0m==================================\n",
      "\n",
      "The result of the multiplication is 9.\n"
     ]
    }
   ],
   "source": [
    "# Input\n",
    "initial_input = {\"messages\": HumanMessage(content=\"Multiply 3 and 3\")}\n",
    "\n",
    "# Thread\n",
    "thread = {\"configurable\": {\"thread_id\": \"1\"}}\n",
    "\n",
    "# Run the graph until the first interruption\n",
    "for event in graph.stream(initial_input, thread, stream_mode=\"values\"):\n",
    "    event['messages'][-1].pretty_print()"
   ]
  },
  {
   "cell_type": "markdown",
   "id": "bb0eec93",
   "metadata": {},
   "source": [
    "## Browsing History\n",
    "- Hare we can use `get_state` to look at the current state of our graph, given the `thread_id`"
   ]
  },
  {
   "cell_type": "code",
   "execution_count": 6,
   "id": "b554e0f3",
   "metadata": {},
   "outputs": [
    {
     "data": {
      "text/plain": [
       "StateSnapshot(values={'messages': [HumanMessage(content='Multiply 3 and 3', additional_kwargs={}, response_metadata={}, id='1a27610d-44d9-4096-a407-2d776f1f3962'), AIMessage(content='', additional_kwargs={'tool_calls': [{'id': 'call_2q72', 'function': {'arguments': '{\"a\": 3, \"b\": 3}', 'name': 'multiply'}, 'type': 'function'}]}, response_metadata={'token_usage': {'completion_tokens': 20, 'prompt_tokens': 349, 'total_tokens': 369, 'completion_time': 0.039410487, 'prompt_time': 0.012153907, 'queue_time': 0.044697631, 'total_time': 0.051564394}, 'model_name': 'meta-llama/llama-4-scout-17b-16e-instruct', 'system_fingerprint': 'fp_37da608fc1', 'finish_reason': 'tool_calls', 'logprobs': None}, id='run--ac132ec1-7cb9-4e1b-a174-9b05fe63d90d-0', tool_calls=[{'name': 'multiply', 'args': {'a': 3, 'b': 3}, 'id': 'call_2q72', 'type': 'tool_call'}], usage_metadata={'input_tokens': 349, 'output_tokens': 20, 'total_tokens': 369}), ToolMessage(content='9', name='multiply', id='0318adfe-0c93-47d7-9da9-36e21b59e6ad', tool_call_id='call_2q72'), AIMessage(content='The result of the multiplication is 9.', additional_kwargs={}, response_metadata={'token_usage': {'completion_tokens': 10, 'prompt_tokens': 378, 'total_tokens': 388, 'completion_time': 0.020994064, 'prompt_time': 0.012051869, 'queue_time': 0.045598849, 'total_time': 0.033045933}, 'model_name': 'meta-llama/llama-4-scout-17b-16e-instruct', 'system_fingerprint': 'fp_37da608fc1', 'finish_reason': 'stop', 'logprobs': None}, id='run--ee7cfb0c-6642-4059-9c14-1378fe57e7b4-0', usage_metadata={'input_tokens': 378, 'output_tokens': 10, 'total_tokens': 388})]}, next=(), config={'configurable': {'thread_id': '1', 'checkpoint_ns': '', 'checkpoint_id': '1f02c8d1-7560-646d-8003-081e9cd6e8fc'}}, metadata={'source': 'loop', 'writes': {'assistant': {'messages': [AIMessage(content='The result of the multiplication is 9.', additional_kwargs={}, response_metadata={'token_usage': {'completion_tokens': 10, 'prompt_tokens': 378, 'total_tokens': 388, 'completion_time': 0.020994064, 'prompt_time': 0.012051869, 'queue_time': 0.045598849, 'total_time': 0.033045933}, 'model_name': 'meta-llama/llama-4-scout-17b-16e-instruct', 'system_fingerprint': 'fp_37da608fc1', 'finish_reason': 'stop', 'logprobs': None}, id='run--ee7cfb0c-6642-4059-9c14-1378fe57e7b4-0', usage_metadata={'input_tokens': 378, 'output_tokens': 10, 'total_tokens': 388})]}}, 'step': 3, 'parents': {}, 'thread_id': '1'}, created_at='2025-05-09T04:21:34.200945+00:00', parent_config={'configurable': {'thread_id': '1', 'checkpoint_ns': '', 'checkpoint_id': '1f02c8d1-7386-6e3b-8002-dc1e1b4127b5'}}, tasks=(), interrupts=())"
      ]
     },
     "execution_count": 6,
     "metadata": {},
     "output_type": "execute_result"
    }
   ],
   "source": [
    "graph.get_state(\n",
    "    thread\n",
    ")"
   ]
  },
  {
   "cell_type": "code",
   "execution_count": 7,
   "id": "0f83cc8b",
   "metadata": {},
   "outputs": [
    {
     "data": {
      "text/plain": [
       "StateSnapshot(values={'messages': [HumanMessage(content='Multiply 3 and 3', additional_kwargs={}, response_metadata={}, id='1a27610d-44d9-4096-a407-2d776f1f3962'), AIMessage(content='', additional_kwargs={'tool_calls': [{'id': 'call_2q72', 'function': {'arguments': '{\"a\": 3, \"b\": 3}', 'name': 'multiply'}, 'type': 'function'}]}, response_metadata={'token_usage': {'completion_tokens': 20, 'prompt_tokens': 349, 'total_tokens': 369, 'completion_time': 0.039410487, 'prompt_time': 0.012153907, 'queue_time': 0.044697631, 'total_time': 0.051564394}, 'model_name': 'meta-llama/llama-4-scout-17b-16e-instruct', 'system_fingerprint': 'fp_37da608fc1', 'finish_reason': 'tool_calls', 'logprobs': None}, id='run--ac132ec1-7cb9-4e1b-a174-9b05fe63d90d-0', tool_calls=[{'name': 'multiply', 'args': {'a': 3, 'b': 3}, 'id': 'call_2q72', 'type': 'tool_call'}], usage_metadata={'input_tokens': 349, 'output_tokens': 20, 'total_tokens': 369}), ToolMessage(content='9', name='multiply', id='0318adfe-0c93-47d7-9da9-36e21b59e6ad', tool_call_id='call_2q72'), AIMessage(content='The result of the multiplication is 9.', additional_kwargs={}, response_metadata={'token_usage': {'completion_tokens': 10, 'prompt_tokens': 378, 'total_tokens': 388, 'completion_time': 0.020994064, 'prompt_time': 0.012051869, 'queue_time': 0.045598849, 'total_time': 0.033045933}, 'model_name': 'meta-llama/llama-4-scout-17b-16e-instruct', 'system_fingerprint': 'fp_37da608fc1', 'finish_reason': 'stop', 'logprobs': None}, id='run--ee7cfb0c-6642-4059-9c14-1378fe57e7b4-0', usage_metadata={'input_tokens': 378, 'output_tokens': 10, 'total_tokens': 388})]}, next=(), config={'configurable': {'thread_id': '1', 'checkpoint_ns': '', 'checkpoint_id': '1f02c8d1-7560-646d-8003-081e9cd6e8fc'}}, metadata={'source': 'loop', 'writes': {'assistant': {'messages': [AIMessage(content='The result of the multiplication is 9.', additional_kwargs={}, response_metadata={'token_usage': {'completion_tokens': 10, 'prompt_tokens': 378, 'total_tokens': 388, 'completion_time': 0.020994064, 'prompt_time': 0.012051869, 'queue_time': 0.045598849, 'total_time': 0.033045933}, 'model_name': 'meta-llama/llama-4-scout-17b-16e-instruct', 'system_fingerprint': 'fp_37da608fc1', 'finish_reason': 'stop', 'logprobs': None}, id='run--ee7cfb0c-6642-4059-9c14-1378fe57e7b4-0', usage_metadata={'input_tokens': 378, 'output_tokens': 10, 'total_tokens': 388})]}}, 'step': 3, 'parents': {}, 'thread_id': '1'}, created_at='2025-05-09T04:21:34.200945+00:00', parent_config={'configurable': {'thread_id': '1', 'checkpoint_ns': '', 'checkpoint_id': '1f02c8d1-7386-6e3b-8002-dc1e1b4127b5'}}, tasks=(), interrupts=())"
      ]
     },
     "execution_count": 7,
     "metadata": {},
     "output_type": "execute_result"
    }
   ],
   "source": [
    "graph.get_state({'configurable': {'thread_id': '1'}})"
   ]
  },
  {
   "cell_type": "markdown",
   "id": "46f67da9",
   "metadata": {},
   "source": [
    "We can also browse the state history of our agent.\n",
    "\n",
    "`get_state_history` lets us get the state at all prior steps.\n"
   ]
  },
  {
   "cell_type": "code",
   "execution_count": 8,
   "id": "e23f3e6e",
   "metadata": {},
   "outputs": [],
   "source": [
    "all_states = [s for s in graph.get_state_history(thread)]"
   ]
  },
  {
   "cell_type": "code",
   "execution_count": 9,
   "id": "7017c3b8",
   "metadata": {},
   "outputs": [
    {
     "data": {
      "text/plain": [
       "5"
      ]
     },
     "execution_count": 9,
     "metadata": {},
     "output_type": "execute_result"
    }
   ],
   "source": [
    "len(all_states)"
   ]
  },
  {
   "cell_type": "code",
   "execution_count": 10,
   "id": "759423ad",
   "metadata": {},
   "outputs": [
    {
     "data": {
      "text/plain": [
       "StateSnapshot(values={'messages': [HumanMessage(content='Multiply 3 and 3', additional_kwargs={}, response_metadata={}, id='1a27610d-44d9-4096-a407-2d776f1f3962'), AIMessage(content='', additional_kwargs={'tool_calls': [{'id': 'call_2q72', 'function': {'arguments': '{\"a\": 3, \"b\": 3}', 'name': 'multiply'}, 'type': 'function'}]}, response_metadata={'token_usage': {'completion_tokens': 20, 'prompt_tokens': 349, 'total_tokens': 369, 'completion_time': 0.039410487, 'prompt_time': 0.012153907, 'queue_time': 0.044697631, 'total_time': 0.051564394}, 'model_name': 'meta-llama/llama-4-scout-17b-16e-instruct', 'system_fingerprint': 'fp_37da608fc1', 'finish_reason': 'tool_calls', 'logprobs': None}, id='run--ac132ec1-7cb9-4e1b-a174-9b05fe63d90d-0', tool_calls=[{'name': 'multiply', 'args': {'a': 3, 'b': 3}, 'id': 'call_2q72', 'type': 'tool_call'}], usage_metadata={'input_tokens': 349, 'output_tokens': 20, 'total_tokens': 369}), ToolMessage(content='9', name='multiply', id='0318adfe-0c93-47d7-9da9-36e21b59e6ad', tool_call_id='call_2q72'), AIMessage(content='The result of the multiplication is 9.', additional_kwargs={}, response_metadata={'token_usage': {'completion_tokens': 10, 'prompt_tokens': 378, 'total_tokens': 388, 'completion_time': 0.020994064, 'prompt_time': 0.012051869, 'queue_time': 0.045598849, 'total_time': 0.033045933}, 'model_name': 'meta-llama/llama-4-scout-17b-16e-instruct', 'system_fingerprint': 'fp_37da608fc1', 'finish_reason': 'stop', 'logprobs': None}, id='run--ee7cfb0c-6642-4059-9c14-1378fe57e7b4-0', usage_metadata={'input_tokens': 378, 'output_tokens': 10, 'total_tokens': 388})]}, next=(), config={'configurable': {'thread_id': '1', 'checkpoint_ns': '', 'checkpoint_id': '1f02c8d1-7560-646d-8003-081e9cd6e8fc'}}, metadata={'source': 'loop', 'writes': {'assistant': {'messages': [AIMessage(content='The result of the multiplication is 9.', additional_kwargs={}, response_metadata={'token_usage': {'completion_tokens': 10, 'prompt_tokens': 378, 'total_tokens': 388, 'completion_time': 0.020994064, 'prompt_time': 0.012051869, 'queue_time': 0.045598849, 'total_time': 0.033045933}, 'model_name': 'meta-llama/llama-4-scout-17b-16e-instruct', 'system_fingerprint': 'fp_37da608fc1', 'finish_reason': 'stop', 'logprobs': None}, id='run--ee7cfb0c-6642-4059-9c14-1378fe57e7b4-0', usage_metadata={'input_tokens': 378, 'output_tokens': 10, 'total_tokens': 388})]}}, 'step': 3, 'parents': {}, 'thread_id': '1'}, created_at='2025-05-09T04:21:34.200945+00:00', parent_config={'configurable': {'thread_id': '1', 'checkpoint_ns': '', 'checkpoint_id': '1f02c8d1-7386-6e3b-8002-dc1e1b4127b5'}}, tasks=(), interrupts=())"
      ]
     },
     "execution_count": 10,
     "metadata": {},
     "output_type": "execute_result"
    }
   ],
   "source": [
    "all_states[0]"
   ]
  },
  {
   "cell_type": "code",
   "execution_count": 11,
   "id": "b8f6edcf",
   "metadata": {},
   "outputs": [
    {
     "data": {
      "text/plain": [
       "StateSnapshot(values={'messages': []}, next=('__start__',), config={'configurable': {'thread_id': '1', 'checkpoint_ns': '', 'checkpoint_id': '1f02c8d1-7112-64cf-bfff-574625789617'}}, metadata={'source': 'input', 'writes': {'__start__': {'messages': HumanMessage(content='Multiply 3 and 3', additional_kwargs={}, response_metadata={})}}, 'step': -1, 'parents': {}, 'thread_id': '1'}, created_at='2025-05-09T04:21:33.749575+00:00', parent_config=None, tasks=(PregelTask(id='f7ce5910-5154-6d53-9706-458a25edcf59', name='__start__', path=('__pregel_pull', '__start__'), error=None, interrupts=(), state=None, result={'messages': HumanMessage(content='Multiply 3 and 3', additional_kwargs={}, response_metadata={}, id='1a27610d-44d9-4096-a407-2d776f1f3962')}),), interrupts=())"
      ]
     },
     "execution_count": 11,
     "metadata": {},
     "output_type": "execute_result"
    }
   ],
   "source": [
    "all_states[-1]"
   ]
  },
  {
   "cell_type": "code",
   "execution_count": 12,
   "id": "14efb374",
   "metadata": {},
   "outputs": [
    {
     "data": {
      "text/plain": [
       "StateSnapshot(values={'messages': [HumanMessage(content='Multiply 3 and 3', additional_kwargs={}, response_metadata={}, id='1a27610d-44d9-4096-a407-2d776f1f3962')]}, next=('assistant',), config={'configurable': {'thread_id': '1', 'checkpoint_ns': '', 'checkpoint_id': '1f02c8d1-711d-62ad-8000-30472851998b'}}, metadata={'source': 'loop', 'writes': None, 'step': 0, 'parents': {}, 'thread_id': '1'}, created_at='2025-05-09T04:21:33.754026+00:00', parent_config={'configurable': {'thread_id': '1', 'checkpoint_ns': '', 'checkpoint_id': '1f02c8d1-7112-64cf-bfff-574625789617'}}, tasks=(PregelTask(id='4717b087-dde2-dc3a-884a-01931dffde6e', name='assistant', path=('__pregel_pull', 'assistant'), error=None, interrupts=(), state=None, result={'messages': [AIMessage(content='', additional_kwargs={'tool_calls': [{'id': 'call_2q72', 'function': {'arguments': '{\"a\": 3, \"b\": 3}', 'name': 'multiply'}, 'type': 'function'}]}, response_metadata={'token_usage': {'completion_tokens': 20, 'prompt_tokens': 349, 'total_tokens': 369, 'completion_time': 0.039410487, 'prompt_time': 0.012153907, 'queue_time': 0.044697631, 'total_time': 0.051564394}, 'model_name': 'meta-llama/llama-4-scout-17b-16e-instruct', 'system_fingerprint': 'fp_37da608fc1', 'finish_reason': 'tool_calls', 'logprobs': None}, id='run--ac132ec1-7cb9-4e1b-a174-9b05fe63d90d-0', tool_calls=[{'name': 'multiply', 'args': {'a': 3, 'b': 3}, 'id': 'call_2q72', 'type': 'tool_call'}], usage_metadata={'input_tokens': 349, 'output_tokens': 20, 'total_tokens': 369})]}),), interrupts=())"
      ]
     },
     "execution_count": 12,
     "metadata": {},
     "output_type": "execute_result"
    }
   ],
   "source": [
    "all_states[-2]"
   ]
  },
  {
   "cell_type": "markdown",
   "id": "78f2f3e3",
   "metadata": {},
   "source": [
    "Everything above we can visualize here: \n",
    "\n",
    "![fig1.jpg](https://cdn.prod.website-files.com/65b8cd72835ceeacd4449a53/66dbb038211b544898570be3_time-travel1.png)"
   ]
  },
  {
   "cell_type": "markdown",
   "id": "bd584d8f",
   "metadata": {},
   "source": [
    "## ***Replaying***\n",
    "- We can re-run our agent from any of the prior steps.\n",
    "\n",
    "![fig2.jpg](https://cdn.prod.website-files.com/65b8cd72835ceeacd4449a53/66dbb038a0bd34b541c78fb8_time-travel2.png)"
   ]
  },
  {
   "cell_type": "code",
   "execution_count": 13,
   "id": "26bc9498",
   "metadata": {},
   "outputs": [
    {
     "data": {
      "text/plain": [
       "StateSnapshot(values={'messages': [HumanMessage(content='Multiply 3 and 3', additional_kwargs={}, response_metadata={}, id='1a27610d-44d9-4096-a407-2d776f1f3962')]}, next=('assistant',), config={'configurable': {'thread_id': '1', 'checkpoint_ns': '', 'checkpoint_id': '1f02c8d1-711d-62ad-8000-30472851998b'}}, metadata={'source': 'loop', 'writes': None, 'step': 0, 'parents': {}, 'thread_id': '1'}, created_at='2025-05-09T04:21:33.754026+00:00', parent_config={'configurable': {'thread_id': '1', 'checkpoint_ns': '', 'checkpoint_id': '1f02c8d1-7112-64cf-bfff-574625789617'}}, tasks=(PregelTask(id='4717b087-dde2-dc3a-884a-01931dffde6e', name='assistant', path=('__pregel_pull', 'assistant'), error=None, interrupts=(), state=None, result={'messages': [AIMessage(content='', additional_kwargs={'tool_calls': [{'id': 'call_2q72', 'function': {'arguments': '{\"a\": 3, \"b\": 3}', 'name': 'multiply'}, 'type': 'function'}]}, response_metadata={'token_usage': {'completion_tokens': 20, 'prompt_tokens': 349, 'total_tokens': 369, 'completion_time': 0.039410487, 'prompt_time': 0.012153907, 'queue_time': 0.044697631, 'total_time': 0.051564394}, 'model_name': 'meta-llama/llama-4-scout-17b-16e-instruct', 'system_fingerprint': 'fp_37da608fc1', 'finish_reason': 'tool_calls', 'logprobs': None}, id='run--ac132ec1-7cb9-4e1b-a174-9b05fe63d90d-0', tool_calls=[{'name': 'multiply', 'args': {'a': 3, 'b': 3}, 'id': 'call_2q72', 'type': 'tool_call'}], usage_metadata={'input_tokens': 349, 'output_tokens': 20, 'total_tokens': 369})]}),), interrupts=())"
      ]
     },
     "execution_count": 13,
     "metadata": {},
     "output_type": "execute_result"
    }
   ],
   "source": [
    "to_replay = all_states[-2]\n",
    "to_replay"
   ]
  },
  {
   "cell_type": "code",
   "execution_count": 14,
   "id": "455ce700",
   "metadata": {},
   "outputs": [
    {
     "data": {
      "text/plain": [
       "{'messages': [HumanMessage(content='Multiply 3 and 3', additional_kwargs={}, response_metadata={}, id='1a27610d-44d9-4096-a407-2d776f1f3962')]}"
      ]
     },
     "execution_count": 14,
     "metadata": {},
     "output_type": "execute_result"
    }
   ],
   "source": [
    "to_replay.values"
   ]
  },
  {
   "cell_type": "code",
   "execution_count": 15,
   "id": "61fc99a6",
   "metadata": {},
   "outputs": [
    {
     "data": {
      "text/plain": [
       "('assistant',)"
      ]
     },
     "execution_count": 15,
     "metadata": {},
     "output_type": "execute_result"
    }
   ],
   "source": [
    "to_replay.next"
   ]
  },
  {
   "cell_type": "code",
   "execution_count": 16,
   "id": "7c346e61",
   "metadata": {},
   "outputs": [
    {
     "data": {
      "text/plain": [
       "{'configurable': {'thread_id': '1',\n",
       "  'checkpoint_ns': '',\n",
       "  'checkpoint_id': '1f02c8d1-711d-62ad-8000-30472851998b'}}"
      ]
     },
     "execution_count": 16,
     "metadata": {},
     "output_type": "execute_result"
    }
   ],
   "source": [
    "to_replay.config"
   ]
  },
  {
   "cell_type": "markdown",
   "id": "a73a2f45",
   "metadata": {},
   "source": [
    "To replay from here, we simply pass the config back to the agent!\n",
    "\n",
    "The graph knows that this checkpoint has aleady been executed. \n",
    "\n",
    "It just re-plays from this checkpoint!"
   ]
  },
  {
   "cell_type": "code",
   "execution_count": 17,
   "id": "b69f84c9",
   "metadata": {},
   "outputs": [
    {
     "name": "stdout",
     "output_type": "stream",
     "text": [
      "================================\u001b[1m Human Message \u001b[0m=================================\n",
      "\n",
      "Multiply 3 and 3\n",
      "==================================\u001b[1m Ai Message \u001b[0m==================================\n",
      "Tool Calls:\n",
      "  multiply (call_dfpy)\n",
      " Call ID: call_dfpy\n",
      "  Args:\n",
      "    a: 3\n",
      "    b: 3\n",
      "=================================\u001b[1m Tool Message \u001b[0m=================================\n",
      "Name: multiply\n",
      "\n",
      "9\n",
      "==================================\u001b[1m Ai Message \u001b[0m==================================\n",
      "\n",
      "The result of the multiplication is 9.\n"
     ]
    }
   ],
   "source": [
    "for event in graph.stream(None, to_replay.config, stream_mode=\"values\"):\n",
    "    event['messages'][-1].pretty_print()"
   ]
  },
  {
   "cell_type": "markdown",
   "id": "ae4c1358",
   "metadata": {},
   "source": [
    "## **Forking**\n",
    "\n",
    "What if we want to run from that same step, but with a different input.\n",
    "\n",
    "This is forking.\n",
    "\n",
    "![fig3.jpg](https://cdn.prod.website-files.com/65b8cd72835ceeacd4449a53/66dbb038f89f2d847ee5c336_time-travel3.png)"
   ]
  },
  {
   "cell_type": "code",
   "execution_count": 18,
   "id": "c8f424a3",
   "metadata": {},
   "outputs": [
    {
     "data": {
      "text/plain": [
       "[HumanMessage(content='Multiply 3 and 3', additional_kwargs={}, response_metadata={}, id='1a27610d-44d9-4096-a407-2d776f1f3962')]"
      ]
     },
     "execution_count": 18,
     "metadata": {},
     "output_type": "execute_result"
    }
   ],
   "source": [
    "to_fork = all_states[-2]\n",
    "to_fork.values['messages']"
   ]
  },
  {
   "cell_type": "code",
   "execution_count": 19,
   "id": "01889a6c",
   "metadata": {},
   "outputs": [
    {
     "data": {
      "text/plain": [
       "{'configurable': {'thread_id': '1',\n",
       "  'checkpoint_ns': '',\n",
       "  'checkpoint_id': '1f02c8d1-711d-62ad-8000-30472851998b'}}"
      ]
     },
     "execution_count": 19,
     "metadata": {},
     "output_type": "execute_result"
    }
   ],
   "source": [
    "## and this step config like the checkpoint id is\n",
    "\n",
    "to_fork.config"
   ]
  },
  {
   "cell_type": "markdown",
   "id": "0bd17fae",
   "metadata": {},
   "source": [
    "### Let's modify the state at this checkpoint.\n",
    "\n",
    "We can just run `update_state` with the `checkpoint_id` supplied. \n",
    "\n",
    "Remember how our reducer on `messages` works: \n",
    "\n",
    "* It will append, unless we supply a message ID.\n",
    "* We supply the message ID to overwrite the message, rather than appending to state!\n",
    "\n",
    "So, to overwrite the the message, we just supply the message ID, which we have `to_fork.values[\"messages\"].id`."
   ]
  },
  {
   "cell_type": "code",
   "execution_count": 20,
   "id": "d660bb63",
   "metadata": {},
   "outputs": [],
   "source": [
    "fork_config = graph.update_state(\n",
    "    to_fork.config,\n",
    "    {\n",
    "        \"messages\": [HumanMessage(content=\"multiply 5 and 4\",\n",
    "                                  id = to_fork.values['messages'][0].id)]\n",
    "    },\n",
    ")"
   ]
  },
  {
   "cell_type": "code",
   "execution_count": 21,
   "id": "d7d706e1",
   "metadata": {},
   "outputs": [
    {
     "data": {
      "text/plain": [
       "{'configurable': {'thread_id': '1',\n",
       "  'checkpoint_ns': '',\n",
       "  'checkpoint_id': '1f02c906-eb0f-6ef5-8001-ef2d924d37df'}}"
      ]
     },
     "execution_count": 21,
     "metadata": {},
     "output_type": "execute_result"
    }
   ],
   "source": [
    "fork_config"
   ]
  },
  {
   "cell_type": "markdown",
   "id": "432b4d85",
   "metadata": {},
   "source": [
    "### This creates a new, forked checkpoint.\n",
    " \n",
    "But, the metadata - e.g., where to go next - is perserved! \n",
    "\n",
    "We can see the current state of our agent has been updated with our fork."
   ]
  },
  {
   "cell_type": "code",
   "execution_count": 22,
   "id": "a5c4d4cd",
   "metadata": {},
   "outputs": [],
   "source": [
    "all_states = [state for state in graph.get_state_history(thread)]"
   ]
  },
  {
   "cell_type": "code",
   "execution_count": 24,
   "id": "cc0bdf11",
   "metadata": {},
   "outputs": [
    {
     "data": {
      "text/plain": [
       "[HumanMessage(content='multiply 5 and 4', additional_kwargs={}, response_metadata={}, id='1a27610d-44d9-4096-a407-2d776f1f3962')]"
      ]
     },
     "execution_count": 24,
     "metadata": {},
     "output_type": "execute_result"
    }
   ],
   "source": [
    "all_states[0].values['messages']"
   ]
  },
  {
   "cell_type": "code",
   "execution_count": 25,
   "id": "609f058b",
   "metadata": {},
   "outputs": [
    {
     "data": {
      "text/plain": [
       "('assistant',)"
      ]
     },
     "execution_count": 25,
     "metadata": {},
     "output_type": "execute_result"
    }
   ],
   "source": [
    "all_states[0].next"
   ]
  },
  {
   "cell_type": "markdown",
   "id": "dc10be98",
   "metadata": {},
   "source": [
    "Now, when we stream, the graph knows this checkpoint has never been executed.\n",
    "\n",
    "So, the graph runs, rather than simply re-playing."
   ]
  },
  {
   "cell_type": "code",
   "execution_count": 27,
   "id": "4fb2136e",
   "metadata": {},
   "outputs": [
    {
     "name": "stdout",
     "output_type": "stream",
     "text": [
      "================================\u001b[1m Human Message \u001b[0m=================================\n",
      "\n",
      "multiply 5 and 4\n",
      "==================================\u001b[1m Ai Message \u001b[0m==================================\n",
      "Tool Calls:\n",
      "  multiply (call_zcgj)\n",
      " Call ID: call_zcgj\n",
      "  Args:\n",
      "    a: 5\n",
      "    b: 4\n",
      "=================================\u001b[1m Tool Message \u001b[0m=================================\n",
      "Name: multiply\n",
      "\n",
      "20\n",
      "==================================\u001b[1m Ai Message \u001b[0m==================================\n",
      "\n",
      "The result of multiplying 5 and 4 is 20.\n"
     ]
    }
   ],
   "source": [
    "for event in graph.stream(None, fork_config, stream_mode='values'):\n",
    "    event['messages'][-1].pretty_print()"
   ]
  },
  {
   "cell_type": "code",
   "execution_count": 28,
   "id": "3481e540",
   "metadata": {},
   "outputs": [
    {
     "data": {
      "text/plain": [
       "StateSnapshot(values={'messages': [HumanMessage(content='multiply 5 and 4', additional_kwargs={}, response_metadata={}, id='1a27610d-44d9-4096-a407-2d776f1f3962'), AIMessage(content='', additional_kwargs={'tool_calls': [{'id': 'call_zcgj', 'function': {'arguments': '{\"a\": 5, \"b\": 4}', 'name': 'multiply'}, 'type': 'function'}]}, response_metadata={'token_usage': {'completion_tokens': 20, 'prompt_tokens': 349, 'total_tokens': 369, 'completion_time': 0.045961535, 'prompt_time': 0.011018881, 'queue_time': 0.234776734, 'total_time': 0.056980416}, 'model_name': 'meta-llama/llama-4-scout-17b-16e-instruct', 'system_fingerprint': 'fp_37da608fc1', 'finish_reason': 'tool_calls', 'logprobs': None}, id='run--c239a70f-174c-46df-9184-be49e25655df-0', tool_calls=[{'name': 'multiply', 'args': {'a': 5, 'b': 4}, 'id': 'call_zcgj', 'type': 'tool_call'}], usage_metadata={'input_tokens': 349, 'output_tokens': 20, 'total_tokens': 369}), ToolMessage(content='20', name='multiply', id='d7d64707-a6eb-4b75-8172-f3f515e744a3', tool_call_id='call_zcgj'), AIMessage(content='The result of multiplying 5 and 4 is 20.', additional_kwargs={}, response_metadata={'token_usage': {'completion_tokens': 14, 'prompt_tokens': 378, 'total_tokens': 392, 'completion_time': 0.027638048, 'prompt_time': 0.011607045, 'queue_time': 0.234451462, 'total_time': 0.039245093}, 'model_name': 'meta-llama/llama-4-scout-17b-16e-instruct', 'system_fingerprint': 'fp_37da608fc1', 'finish_reason': 'stop', 'logprobs': None}, id='run--3efd41ee-15e8-4c7e-8c51-f392f501bbf7-0', usage_metadata={'input_tokens': 378, 'output_tokens': 14, 'total_tokens': 392})]}, next=(), config={'configurable': {'thread_id': '1', 'checkpoint_ns': '', 'checkpoint_id': '1f02c912-2541-6388-8004-73f7f7ebc342'}}, metadata={'source': 'loop', 'writes': {'assistant': {'messages': [AIMessage(content='The result of multiplying 5 and 4 is 20.', additional_kwargs={}, response_metadata={'token_usage': {'completion_tokens': 14, 'prompt_tokens': 378, 'total_tokens': 392, 'completion_time': 0.027638048, 'prompt_time': 0.011607045, 'queue_time': 0.234451462, 'total_time': 0.039245093}, 'model_name': 'meta-llama/llama-4-scout-17b-16e-instruct', 'system_fingerprint': 'fp_37da608fc1', 'finish_reason': 'stop', 'logprobs': None}, id='run--3efd41ee-15e8-4c7e-8c51-f392f501bbf7-0', usage_metadata={'input_tokens': 378, 'output_tokens': 14, 'total_tokens': 392})]}}, 'step': 4, 'parents': {}, 'thread_id': '1'}, created_at='2025-05-09T04:50:30.630080+00:00', parent_config={'configurable': {'thread_id': '1', 'checkpoint_ns': '', 'checkpoint_id': '1f02c912-1f20-6f53-8003-7908f23a14d7'}}, tasks=(), interrupts=())"
      ]
     },
     "execution_count": 28,
     "metadata": {},
     "output_type": "execute_result"
    }
   ],
   "source": [
    "graph.get_state({'configurable': {'thread_id': '1'}})"
   ]
  },
  {
   "cell_type": "code",
   "execution_count": null,
   "id": "a0920e2a",
   "metadata": {},
   "outputs": [],
   "source": []
  }
 ],
 "metadata": {
  "kernelspec": {
   "display_name": "lang_aca",
   "language": "python",
   "name": "python3"
  },
  "language_info": {
   "codemirror_mode": {
    "name": "ipython",
    "version": 3
   },
   "file_extension": ".py",
   "mimetype": "text/x-python",
   "name": "python",
   "nbconvert_exporter": "python",
   "pygments_lexer": "ipython3",
   "version": "3.11.11"
  }
 },
 "nbformat": 4,
 "nbformat_minor": 5
}
