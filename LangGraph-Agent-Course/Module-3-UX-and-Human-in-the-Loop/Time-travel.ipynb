{
 "cells": [
  {
   "cell_type": "markdown",
   "id": "d8a33839",
   "metadata": {},
   "source": [
    "# ***What is Checkpoint id in langgraph Thrade or Messages History***\n",
    "\n",
    "\n",
    "### Overview\n",
    "\n",
    "- In LangGraph, a \"checkpoint ID\" is an identifier that distinguishes a specific checkpoint within a thread. Think of it as a unique snapshot of the graph's state at a particular point in time during its execution, tagged with a specific thread ID. \n",
    "Here's a more detailed explanation:\n",
    "- Thread:\n",
    "A thread in LangGraph represents a unique session or conversation associated with a graph execution. \n",
    "- Checkpoint:\n",
    "A checkpoint is a snapshot of the graph's state at a particular super-step (a point where the graph executes a batch of nodes). \n",
    "- Checkpoint ID:\n",
    "Each checkpoint within a thread is given a unique ID, allowing you to refer to that specific state snapshot. This ID helps you navigate the history of the thread and access the graph's state at different points. \n",
    "- In essence, the checkpoint ID is like a key that unlocks a specific moment in the graph's execution history, allowing you to retrieve the state of the graph as it was at that particular point in time within a given thread. "
   ]
  },
  {
   "cell_type": "code",
   "execution_count": 1,
   "id": "cc40da37",
   "metadata": {},
   "outputs": [],
   "source": [
    "from langchain_groq import ChatGroq\n",
    "import os\n",
    "from dotenv import load_dotenv\n",
    "\n",
    "groq_api_key = os.getenv(\"GROQ_API_KEY\")\n",
    "llm = ChatGroq(model_name = \"meta-llama/llama-4-scout-17b-16e-instruct\", groq_api_key=groq_api_key)"
   ]
  },
  {
   "cell_type": "code",
   "execution_count": null,
   "id": "ec42f367",
   "metadata": {},
   "outputs": [],
   "source": []
  }
 ],
 "metadata": {
  "kernelspec": {
   "display_name": "lang_aca",
   "language": "python",
   "name": "python3"
  },
  "language_info": {
   "codemirror_mode": {
    "name": "ipython",
    "version": 3
   },
   "file_extension": ".py",
   "mimetype": "text/x-python",
   "name": "python",
   "nbconvert_exporter": "python",
   "pygments_lexer": "ipython3",
   "version": "3.11.11"
  }
 },
 "nbformat": 4,
 "nbformat_minor": 5
}
