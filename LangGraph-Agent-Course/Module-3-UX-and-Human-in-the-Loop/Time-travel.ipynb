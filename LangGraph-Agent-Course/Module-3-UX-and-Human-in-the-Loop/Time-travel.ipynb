{
 "cells": [
  {
   "cell_type": "markdown",
   "id": "d8a33839",
   "metadata": {},
   "source": [
    "# ***What is Checkpoint id in langgraph Thrade or Messages History***\n",
    "\n",
    "\n",
    "### Overview\n",
    "\n",
    "- In LangGraph, a \"checkpoint ID\" is an identifier that distinguishes a specific checkpoint within a thread. Think of it as a unique snapshot of the graph's state at a particular point in time during its execution, tagged with a specific thread ID. \n",
    "Here's a more detailed explanation:\n",
    "- Thread:\n",
    "A thread in LangGraph represents a unique session or conversation associated with a graph execution. \n",
    "- Checkpoint:\n",
    "A checkpoint is a snapshot of the graph's state at a particular super-step (a point where the graph executes a batch of nodes). \n",
    "- Checkpoint ID:\n",
    "Each checkpoint within a thread is given a unique ID, allowing you to refer to that specific state snapshot. This ID helps you navigate the history of the thread and access the graph's state at different points. \n",
    "- In essence, the checkpoint ID is like a key that unlocks a specific moment in the graph's execution history, allowing you to retrieve the state of the graph as it was at that particular point in time within a given thread. "
   ]
  },
  {
   "cell_type": "code",
   "execution_count": 40,
   "id": "cc40da37",
   "metadata": {},
   "outputs": [],
   "source": [
    "from langchain_groq import ChatGroq\n",
    "import os\n",
    "from dotenv import load_dotenv\n",
    "\n",
    "groq_api_key = os.getenv(\"GROQ_API_KEY\")\n",
    "llm = ChatGroq(model_name = \"meta-llama/llama-4-scout-17b-16e-instruct\", groq_api_key=groq_api_key)"
   ]
  },
  {
   "cell_type": "code",
   "execution_count": 41,
   "id": "ec42f367",
   "metadata": {},
   "outputs": [],
   "source": [
    "def multiply(a: int, b: int) -> int:\n",
    "    \"\"\"Multiply a and b.\n",
    "\n",
    "    Args:\n",
    "        a: first int\n",
    "        b: second int\n",
    "    \"\"\"\n",
    "    return a * b\n",
    "\n",
    "# This will be a tool\n",
    "def add(a: int, b: int) -> int:\n",
    "    \"\"\"Adds a and b.\n",
    "\n",
    "    Args:\n",
    "        a: first int\n",
    "        b: second int\n",
    "    \"\"\"\n",
    "    return a + b\n",
    "\n",
    "def divide(a: int, b: int) -> float:\n",
    "    \"\"\"Divide a by b.\n",
    "\n",
    "    Args:\n",
    "        a: first int\n",
    "        b: second int\n",
    "    \"\"\"\n",
    "    return a / b\n",
    "\n",
    "tools = [add, multiply, divide]\n",
    "llm_with_tools = llm.bind_tools(tools)"
   ]
  },
  {
   "cell_type": "code",
   "execution_count": 42,
   "id": "6d8c218f",
   "metadata": {},
   "outputs": [
    {
     "data": {
      "image/png": "[encoded data removed]",
      "text/plain": [
       "<IPython.core.display.Image object>"
      ]
     },
     "metadata": {},
     "output_type": "display_data"
    }
   ],
   "source": [
    "from IPython.display import Image, display\n",
    "\n",
    "from langgraph.checkpoint.memory import MemorySaver\n",
    "from langgraph.graph import MessagesState\n",
    "from langgraph.graph import START, END, StateGraph\n",
    "from langgraph.prebuilt import tools_condition, ToolNode\n",
    "\n",
    "from langchain_core.messages import AIMessage, HumanMessage, SystemMessage\n",
    "\n",
    "# System message\n",
    "sys_msg = SystemMessage(content=\"You are a helpful assistant tasked with performing arithmetic on a set of inputs.\")\n",
    "\n",
    "# Node\n",
    "def assistant(state: MessagesState):\n",
    "   return {\"messages\": [llm_with_tools.invoke([sys_msg] + state[\"messages\"])]}\n",
    "\n",
    "# Graph\n",
    "builder = StateGraph(MessagesState)\n",
    "\n",
    "# Define nodes: these do the work\n",
    "builder.add_node(\"assistant\", assistant)\n",
    "builder.add_node(\"tools\", ToolNode(tools))\n",
    "\n",
    "# Define edges: these determine the control flow\n",
    "builder.add_edge(START, \"assistant\")\n",
    "builder.add_conditional_edges(\n",
    "    \"assistant\",\n",
    "    # If the latest message (result) from assistant is a tool call -> tools_condition routes to tools\n",
    "    # If the latest message (result) from assistant is a not a tool call -> tools_condition routes to END\n",
    "    tools_condition,\n",
    ")\n",
    "builder.add_edge(\"tools\", \"assistant\")\n",
    "\n",
    "memory = MemorySaver()\n",
    "graph = builder.compile(checkpointer=MemorySaver())\n",
    "\n",
    "# Show\n",
    "display(Image(graph.get_graph(xray=True).draw_mermaid_png()))"
   ]
  },
  {
   "cell_type": "code",
   "execution_count": 43,
   "id": "ff362e59",
   "metadata": {},
   "outputs": [
    {
     "name": "stdout",
     "output_type": "stream",
     "text": [
      "================================\u001b[1m Human Message \u001b[0m=================================\n",
      "\n",
      "Multiply 3 and 3\n",
      "==================================\u001b[1m Ai Message \u001b[0m==================================\n",
      "Tool Calls:\n",
      "  multiply (call_ah9v)\n",
      " Call ID: call_ah9v\n",
      "  Args:\n",
      "    a: 3\n",
      "    b: 3\n",
      "=================================\u001b[1m Tool Message \u001b[0m=================================\n",
      "Name: multiply\n",
      "\n",
      "9\n",
      "==================================\u001b[1m Ai Message \u001b[0m==================================\n",
      "\n",
      "The result of multiplying 3 and 3 is 9.\n"
     ]
    }
   ],
   "source": [
    "# Input\n",
    "initial_input = {\"messages\": HumanMessage(content=\"Multiply 3 and 3\")}\n",
    "\n",
    "# Thread\n",
    "thread = {\"configurable\": {\"thread_id\": \"1\"}}\n",
    "\n",
    "# Run the graph until the first interruption\n",
    "for event in graph.stream(initial_input, thread, stream_mode=\"values\"):\n",
    "    event['messages'][-1].pretty_print()"
   ]
  },
  {
   "cell_type": "markdown",
   "id": "bb0eec93",
   "metadata": {},
   "source": [
    "## Browsing History\n",
    "- Hare we can use `get_state` to look at the current state of our graph, given the `thread_id`"
   ]
  },
  {
   "cell_type": "code",
   "execution_count": 44,
   "id": "b554e0f3",
   "metadata": {},
   "outputs": [
    {
     "data": {
      "text/plain": [
       "StateSnapshot(values={'messages': [HumanMessage(content='Multiply 3 and 3', additional_kwargs={}, response_metadata={}, id='cd096072-a6dc-40ee-acc2-a43214a03532'), AIMessage(content='', additional_kwargs={'tool_calls': [{'id': 'call_ah9v', 'function': {'arguments': '{\"a\": 3, \"b\": 3}', 'name': 'multiply'}, 'type': 'function'}]}, response_metadata={'token_usage': {'completion_tokens': 20, 'prompt_tokens': 349, 'total_tokens': 369, 'completion_time': 0.039331423, 'prompt_time': 0.011659628, 'queue_time': 0.046041832000000005, 'total_time': 0.050991051}, 'model_name': 'meta-llama/llama-4-scout-17b-16e-instruct', 'system_fingerprint': 'fp_42ae451038', 'finish_reason': 'tool_calls', 'logprobs': None}, id='run--5fefb543-7934-4644-b2c8-2351f331efbd-0', tool_calls=[{'name': 'multiply', 'args': {'a': 3, 'b': 3}, 'id': 'call_ah9v', 'type': 'tool_call'}], usage_metadata={'input_tokens': 349, 'output_tokens': 20, 'total_tokens': 369}), ToolMessage(content='9', name='multiply', id='d77dc111-7a8c-419f-9fb3-892a5aeef303', tool_call_id='call_ah9v'), AIMessage(content='The result of multiplying 3 and 3 is 9.', additional_kwargs={}, response_metadata={'token_usage': {'completion_tokens': 14, 'prompt_tokens': 378, 'total_tokens': 392, 'completion_time': 0.027631626, 'prompt_time': 0.01216255, 'queue_time': 0.04577052, 'total_time': 0.039794176}, 'model_name': 'meta-llama/llama-4-scout-17b-16e-instruct', 'system_fingerprint': 'fp_42ae451038', 'finish_reason': 'stop', 'logprobs': None}, id='run--900c579d-830f-492b-a590-40df7da98b66-0', usage_metadata={'input_tokens': 378, 'output_tokens': 14, 'total_tokens': 392})]}, next=(), config={'configurable': {'thread_id': '1', 'checkpoint_ns': '', 'checkpoint_id': '1f02c96d-cf59-6c75-8003-f0fd213dca4a'}}, metadata={'source': 'loop', 'writes': {'assistant': {'messages': [AIMessage(content='The result of multiplying 3 and 3 is 9.', additional_kwargs={}, response_metadata={'token_usage': {'completion_tokens': 14, 'prompt_tokens': 378, 'total_tokens': 392, 'completion_time': 0.027631626, 'prompt_time': 0.01216255, 'queue_time': 0.04577052, 'total_time': 0.039794176}, 'model_name': 'meta-llama/llama-4-scout-17b-16e-instruct', 'system_fingerprint': 'fp_42ae451038', 'finish_reason': 'stop', 'logprobs': None}, id='run--900c579d-830f-492b-a590-40df7da98b66-0', usage_metadata={'input_tokens': 378, 'output_tokens': 14, 'total_tokens': 392})]}}, 'step': 3, 'parents': {}, 'thread_id': '1'}, created_at='2025-05-09T05:31:31.228581+00:00', parent_config={'configurable': {'thread_id': '1', 'checkpoint_ns': '', 'checkpoint_id': '1f02c96d-cdc6-6a35-8002-c50afde16523'}}, tasks=(), interrupts=())"
      ]
     },
     "execution_count": 44,
     "metadata": {},
     "output_type": "execute_result"
    }
   ],
   "source": [
    "graph.get_state(\n",
    "    thread\n",
    ")"
   ]
  },
  {
   "cell_type": "code",
   "execution_count": 45,
   "id": "0f83cc8b",
   "metadata": {},
   "outputs": [
    {
     "data": {
      "text/plain": [
       "StateSnapshot(values={'messages': [HumanMessage(content='Multiply 3 and 3', additional_kwargs={}, response_metadata={}, id='cd096072-a6dc-40ee-acc2-a43214a03532'), AIMessage(content='', additional_kwargs={'tool_calls': [{'id': 'call_ah9v', 'function': {'arguments': '{\"a\": 3, \"b\": 3}', 'name': 'multiply'}, 'type': 'function'}]}, response_metadata={'token_usage': {'completion_tokens': 20, 'prompt_tokens': 349, 'total_tokens': 369, 'completion_time': 0.039331423, 'prompt_time': 0.011659628, 'queue_time': 0.046041832000000005, 'total_time': 0.050991051}, 'model_name': 'meta-llama/llama-4-scout-17b-16e-instruct', 'system_fingerprint': 'fp_42ae451038', 'finish_reason': 'tool_calls', 'logprobs': None}, id='run--5fefb543-7934-4644-b2c8-2351f331efbd-0', tool_calls=[{'name': 'multiply', 'args': {'a': 3, 'b': 3}, 'id': 'call_ah9v', 'type': 'tool_call'}], usage_metadata={'input_tokens': 349, 'output_tokens': 20, 'total_tokens': 369}), ToolMessage(content='9', name='multiply', id='d77dc111-7a8c-419f-9fb3-892a5aeef303', tool_call_id='call_ah9v'), AIMessage(content='The result of multiplying 3 and 3 is 9.', additional_kwargs={}, response_metadata={'token_usage': {'completion_tokens': 14, 'prompt_tokens': 378, 'total_tokens': 392, 'completion_time': 0.027631626, 'prompt_time': 0.01216255, 'queue_time': 0.04577052, 'total_time': 0.039794176}, 'model_name': 'meta-llama/llama-4-scout-17b-16e-instruct', 'system_fingerprint': 'fp_42ae451038', 'finish_reason': 'stop', 'logprobs': None}, id='run--900c579d-830f-492b-a590-40df7da98b66-0', usage_metadata={'input_tokens': 378, 'output_tokens': 14, 'total_tokens': 392})]}, next=(), config={'configurable': {'thread_id': '1', 'checkpoint_ns': '', 'checkpoint_id': '1f02c96d-cf59-6c75-8003-f0fd213dca4a'}}, metadata={'source': 'loop', 'writes': {'assistant': {'messages': [AIMessage(content='The result of multiplying 3 and 3 is 9.', additional_kwargs={}, response_metadata={'token_usage': {'completion_tokens': 14, 'prompt_tokens': 378, 'total_tokens': 392, 'completion_time': 0.027631626, 'prompt_time': 0.01216255, 'queue_time': 0.04577052, 'total_time': 0.039794176}, 'model_name': 'meta-llama/llama-4-scout-17b-16e-instruct', 'system_fingerprint': 'fp_42ae451038', 'finish_reason': 'stop', 'logprobs': None}, id='run--900c579d-830f-492b-a590-40df7da98b66-0', usage_metadata={'input_tokens': 378, 'output_tokens': 14, 'total_tokens': 392})]}}, 'step': 3, 'parents': {}, 'thread_id': '1'}, created_at='2025-05-09T05:31:31.228581+00:00', parent_config={'configurable': {'thread_id': '1', 'checkpoint_ns': '', 'checkpoint_id': '1f02c96d-cdc6-6a35-8002-c50afde16523'}}, tasks=(), interrupts=())"
      ]
     },
     "execution_count": 45,
     "metadata": {},
     "output_type": "execute_result"
    }
   ],
   "source": [
    "graph.get_state({'configurable': {'thread_id': '1'}})"
   ]
  },
  {
   "cell_type": "markdown",
   "id": "46f67da9",
   "metadata": {},
   "source": [
    "We can also browse the state history of our agent.\n",
    "\n",
    "`get_state_history` lets us get the state at all prior steps.\n"
   ]
  },
  {
   "cell_type": "code",
   "execution_count": 46,
   "id": "e23f3e6e",
   "metadata": {},
   "outputs": [],
   "source": [
    "all_states = [s for s in graph.get_state_history(thread)]"
   ]
  },
  {
   "cell_type": "code",
   "execution_count": 47,
   "id": "7017c3b8",
   "metadata": {},
   "outputs": [
    {
     "data": {
      "text/plain": [
       "5"
      ]
     },
     "execution_count": 47,
     "metadata": {},
     "output_type": "execute_result"
    }
   ],
   "source": [
    "len(all_states)"
   ]
  },
  {
   "cell_type": "code",
   "execution_count": 48,
   "id": "759423ad",
   "metadata": {},
   "outputs": [
    {
     "data": {
      "text/plain": [
       "StateSnapshot(values={'messages': [HumanMessage(content='Multiply 3 and 3', additional_kwargs={}, response_metadata={}, id='cd096072-a6dc-40ee-acc2-a43214a03532'), AIMessage(content='', additional_kwargs={'tool_calls': [{'id': 'call_ah9v', 'function': {'arguments': '{\"a\": 3, \"b\": 3}', 'name': 'multiply'}, 'type': 'function'}]}, response_metadata={'token_usage': {'completion_tokens': 20, 'prompt_tokens': 349, 'total_tokens': 369, 'completion_time': 0.039331423, 'prompt_time': 0.011659628, 'queue_time': 0.046041832000000005, 'total_time': 0.050991051}, 'model_name': 'meta-llama/llama-4-scout-17b-16e-instruct', 'system_fingerprint': 'fp_42ae451038', 'finish_reason': 'tool_calls', 'logprobs': None}, id='run--5fefb543-7934-4644-b2c8-2351f331efbd-0', tool_calls=[{'name': 'multiply', 'args': {'a': 3, 'b': 3}, 'id': 'call_ah9v', 'type': 'tool_call'}], usage_metadata={'input_tokens': 349, 'output_tokens': 20, 'total_tokens': 369}), ToolMessage(content='9', name='multiply', id='d77dc111-7a8c-419f-9fb3-892a5aeef303', tool_call_id='call_ah9v'), AIMessage(content='The result of multiplying 3 and 3 is 9.', additional_kwargs={}, response_metadata={'token_usage': {'completion_tokens': 14, 'prompt_tokens': 378, 'total_tokens': 392, 'completion_time': 0.027631626, 'prompt_time': 0.01216255, 'queue_time': 0.04577052, 'total_time': 0.039794176}, 'model_name': 'meta-llama/llama-4-scout-17b-16e-instruct', 'system_fingerprint': 'fp_42ae451038', 'finish_reason': 'stop', 'logprobs': None}, id='run--900c579d-830f-492b-a590-40df7da98b66-0', usage_metadata={'input_tokens': 378, 'output_tokens': 14, 'total_tokens': 392})]}, next=(), config={'configurable': {'thread_id': '1', 'checkpoint_ns': '', 'checkpoint_id': '1f02c96d-cf59-6c75-8003-f0fd213dca4a'}}, metadata={'source': 'loop', 'writes': {'assistant': {'messages': [AIMessage(content='The result of multiplying 3 and 3 is 9.', additional_kwargs={}, response_metadata={'token_usage': {'completion_tokens': 14, 'prompt_tokens': 378, 'total_tokens': 392, 'completion_time': 0.027631626, 'prompt_time': 0.01216255, 'queue_time': 0.04577052, 'total_time': 0.039794176}, 'model_name': 'meta-llama/llama-4-scout-17b-16e-instruct', 'system_fingerprint': 'fp_42ae451038', 'finish_reason': 'stop', 'logprobs': None}, id='run--900c579d-830f-492b-a590-40df7da98b66-0', usage_metadata={'input_tokens': 378, 'output_tokens': 14, 'total_tokens': 392})]}}, 'step': 3, 'parents': {}, 'thread_id': '1'}, created_at='2025-05-09T05:31:31.228581+00:00', parent_config={'configurable': {'thread_id': '1', 'checkpoint_ns': '', 'checkpoint_id': '1f02c96d-cdc6-6a35-8002-c50afde16523'}}, tasks=(), interrupts=())"
      ]
     },
     "execution_count": 48,
     "metadata": {},
     "output_type": "execute_result"
    }
   ],
   "source": [
    "all_states[0]"
   ]
  },
  {
   "cell_type": "code",
   "execution_count": 49,
   "id": "b8f6edcf",
   "metadata": {},
   "outputs": [
    {
     "data": {
      "text/plain": [
       "StateSnapshot(values={'messages': []}, next=('__start__',), config={'configurable': {'thread_id': '1', 'checkpoint_ns': '', 'checkpoint_id': '1f02c96d-cab7-6227-bfff-eb558ead844b'}}, metadata={'source': 'input', 'writes': {'__start__': {'messages': HumanMessage(content='Multiply 3 and 3', additional_kwargs={}, response_metadata={})}}, 'step': -1, 'parents': {}, 'thread_id': '1'}, created_at='2025-05-09T05:31:30.742531+00:00', parent_config=None, tasks=(PregelTask(id='d2eefaa2-ed1b-aa5e-c4d9-a3fb6b9274b9', name='__start__', path=('__pregel_pull', '__start__'), error=None, interrupts=(), state=None, result={'messages': HumanMessage(content='Multiply 3 and 3', additional_kwargs={}, response_metadata={}, id='cd096072-a6dc-40ee-acc2-a43214a03532')}),), interrupts=())"
      ]
     },
     "execution_count": 49,
     "metadata": {},
     "output_type": "execute_result"
    }
   ],
   "source": [
    "all_states[-1]"
   ]
  },
  {
   "cell_type": "code",
   "execution_count": 50,
   "id": "14efb374",
   "metadata": {},
   "outputs": [
    {
     "data": {
      "text/plain": [
       "StateSnapshot(values={'messages': [HumanMessage(content='Multiply 3 and 3', additional_kwargs={}, response_metadata={}, id='cd096072-a6dc-40ee-acc2-a43214a03532')]}, next=('assistant',), config={'configurable': {'thread_id': '1', 'checkpoint_ns': '', 'checkpoint_id': '1f02c96d-cab7-6228-8000-a60c55168b31'}}, metadata={'source': 'loop', 'writes': None, 'step': 0, 'parents': {}, 'thread_id': '1'}, created_at='2025-05-09T05:31:30.742531+00:00', parent_config={'configurable': {'thread_id': '1', 'checkpoint_ns': '', 'checkpoint_id': '1f02c96d-cab7-6227-bfff-eb558ead844b'}}, tasks=(PregelTask(id='5be54d6a-b277-b823-e144-3a1dd2c87914', name='assistant', path=('__pregel_pull', 'assistant'), error=None, interrupts=(), state=None, result={'messages': [AIMessage(content='', additional_kwargs={'tool_calls': [{'id': 'call_ah9v', 'function': {'arguments': '{\"a\": 3, \"b\": 3}', 'name': 'multiply'}, 'type': 'function'}]}, response_metadata={'token_usage': {'completion_tokens': 20, 'prompt_tokens': 349, 'total_tokens': 369, 'completion_time': 0.039331423, 'prompt_time': 0.011659628, 'queue_time': 0.046041832000000005, 'total_time': 0.050991051}, 'model_name': 'meta-llama/llama-4-scout-17b-16e-instruct', 'system_fingerprint': 'fp_42ae451038', 'finish_reason': 'tool_calls', 'logprobs': None}, id='run--5fefb543-7934-4644-b2c8-2351f331efbd-0', tool_calls=[{'name': 'multiply', 'args': {'a': 3, 'b': 3}, 'id': 'call_ah9v', 'type': 'tool_call'}], usage_metadata={'input_tokens': 349, 'output_tokens': 20, 'total_tokens': 369})]}),), interrupts=())"
      ]
     },
     "execution_count": 50,
     "metadata": {},
     "output_type": "execute_result"
    }
   ],
   "source": [
    "all_states[-2]"
   ]
  },
  {
   "cell_type": "markdown",
   "id": "78f2f3e3",
   "metadata": {},
   "source": [
    "Everything above we can visualize here: \n",
    "\n",
    "![fig1.jpg](https://cdn.prod.website-files.com/65b8cd72835ceeacd4449a53/66dbb038211b544898570be3_time-travel1.png)"
   ]
  },
  {
   "cell_type": "markdown",
   "id": "bd584d8f",
   "metadata": {},
   "source": [
    "## ***Replaying***\n",
    "- We can re-run our agent from any of the prior steps.\n",
    "\n",
    "![fig2.jpg](https://cdn.prod.website-files.com/65b8cd72835ceeacd4449a53/66dbb038a0bd34b541c78fb8_time-travel2.png)"
   ]
  },
  {
   "cell_type": "code",
   "execution_count": 51,
   "id": "26bc9498",
   "metadata": {},
   "outputs": [
    {
     "data": {
      "text/plain": [
       "StateSnapshot(values={'messages': [HumanMessage(content='Multiply 3 and 3', additional_kwargs={}, response_metadata={}, id='cd096072-a6dc-40ee-acc2-a43214a03532')]}, next=('assistant',), config={'configurable': {'thread_id': '1', 'checkpoint_ns': '', 'checkpoint_id': '1f02c96d-cab7-6228-8000-a60c55168b31'}}, metadata={'source': 'loop', 'writes': None, 'step': 0, 'parents': {}, 'thread_id': '1'}, created_at='2025-05-09T05:31:30.742531+00:00', parent_config={'configurable': {'thread_id': '1', 'checkpoint_ns': '', 'checkpoint_id': '1f02c96d-cab7-6227-bfff-eb558ead844b'}}, tasks=(PregelTask(id='5be54d6a-b277-b823-e144-3a1dd2c87914', name='assistant', path=('__pregel_pull', 'assistant'), error=None, interrupts=(), state=None, result={'messages': [AIMessage(content='', additional_kwargs={'tool_calls': [{'id': 'call_ah9v', 'function': {'arguments': '{\"a\": 3, \"b\": 3}', 'name': 'multiply'}, 'type': 'function'}]}, response_metadata={'token_usage': {'completion_tokens': 20, 'prompt_tokens': 349, 'total_tokens': 369, 'completion_time': 0.039331423, 'prompt_time': 0.011659628, 'queue_time': 0.046041832000000005, 'total_time': 0.050991051}, 'model_name': 'meta-llama/llama-4-scout-17b-16e-instruct', 'system_fingerprint': 'fp_42ae451038', 'finish_reason': 'tool_calls', 'logprobs': None}, id='run--5fefb543-7934-4644-b2c8-2351f331efbd-0', tool_calls=[{'name': 'multiply', 'args': {'a': 3, 'b': 3}, 'id': 'call_ah9v', 'type': 'tool_call'}], usage_metadata={'input_tokens': 349, 'output_tokens': 20, 'total_tokens': 369})]}),), interrupts=())"
      ]
     },
     "execution_count": 51,
     "metadata": {},
     "output_type": "execute_result"
    }
   ],
   "source": [
    "to_replay = all_states[-2]\n",
    "to_replay"
   ]
  },
  {
   "cell_type": "code",
   "execution_count": 52,
   "id": "455ce700",
   "metadata": {},
   "outputs": [
    {
     "data": {
      "text/plain": [
       "{'messages': [HumanMessage(content='Multiply 3 and 3', additional_kwargs={}, response_metadata={}, id='cd096072-a6dc-40ee-acc2-a43214a03532')]}"
      ]
     },
     "execution_count": 52,
     "metadata": {},
     "output_type": "execute_result"
    }
   ],
   "source": [
    "to_replay.values"
   ]
  },
  {
   "cell_type": "code",
   "execution_count": 53,
   "id": "61fc99a6",
   "metadata": {},
   "outputs": [
    {
     "data": {
      "text/plain": [
       "('assistant',)"
      ]
     },
     "execution_count": 53,
     "metadata": {},
     "output_type": "execute_result"
    }
   ],
   "source": [
    "to_replay.next"
   ]
  },
  {
   "cell_type": "code",
   "execution_count": 54,
   "id": "7c346e61",
   "metadata": {},
   "outputs": [
    {
     "data": {
      "text/plain": [
       "{'configurable': {'thread_id': '1',\n",
       "  'checkpoint_ns': '',\n",
       "  'checkpoint_id': '1f02c96d-cab7-6228-8000-a60c55168b31'}}"
      ]
     },
     "execution_count": 54,
     "metadata": {},
     "output_type": "execute_result"
    }
   ],
   "source": [
    "to_replay.config"
   ]
  },
  {
   "cell_type": "markdown",
   "id": "a73a2f45",
   "metadata": {},
   "source": [
    "To replay from here, we simply pass the config back to the agent!\n",
    "\n",
    "The graph knows that this checkpoint has aleady been executed. \n",
    "\n",
    "It just re-plays from this checkpoint!"
   ]
  },
  {
   "cell_type": "code",
   "execution_count": 55,
   "id": "b69f84c9",
   "metadata": {},
   "outputs": [
    {
     "name": "stdout",
     "output_type": "stream",
     "text": [
      "================================\u001b[1m Human Message \u001b[0m=================================\n",
      "\n",
      "Multiply 3 and 3\n",
      "==================================\u001b[1m Ai Message \u001b[0m==================================\n",
      "Tool Calls:\n",
      "  multiply (call_pppv)\n",
      " Call ID: call_pppv\n",
      "  Args:\n",
      "    a: 3\n",
      "    b: 3\n",
      "=================================\u001b[1m Tool Message \u001b[0m=================================\n",
      "Name: multiply\n",
      "\n",
      "9\n",
      "==================================\u001b[1m Ai Message \u001b[0m==================================\n",
      "\n",
      "The result of multiplying 3 and 3 is 9.\n"
     ]
    }
   ],
   "source": [
    "for event in graph.stream(None, to_replay.config, stream_mode=\"values\"):\n",
    "    event['messages'][-1].pretty_print()"
   ]
  },
  {
   "cell_type": "markdown",
   "id": "ae4c1358",
   "metadata": {},
   "source": [
    "## **Forking**\n",
    "\n",
    "What if we want to run from that same step, but with a different input.\n",
    "\n",
    "This is forking.\n",
    "\n",
    "![fig3.jpg](https://cdn.prod.website-files.com/65b8cd72835ceeacd4449a53/66dbb038f89f2d847ee5c336_time-travel3.png)"
   ]
  },
  {
   "cell_type": "code",
   "execution_count": 56,
   "id": "c8f424a3",
   "metadata": {},
   "outputs": [
    {
     "data": {
      "text/plain": [
       "[HumanMessage(content='Multiply 3 and 3', additional_kwargs={}, response_metadata={}, id='cd096072-a6dc-40ee-acc2-a43214a03532')]"
      ]
     },
     "execution_count": 56,
     "metadata": {},
     "output_type": "execute_result"
    }
   ],
   "source": [
    "to_fork = all_states[-2]\n",
    "to_fork.values['messages']"
   ]
  },
  {
   "cell_type": "code",
   "execution_count": 57,
   "id": "01889a6c",
   "metadata": {},
   "outputs": [
    {
     "data": {
      "text/plain": [
       "{'configurable': {'thread_id': '1',\n",
       "  'checkpoint_ns': '',\n",
       "  'checkpoint_id': '1f02c96d-cab7-6228-8000-a60c55168b31'}}"
      ]
     },
     "execution_count": 57,
     "metadata": {},
     "output_type": "execute_result"
    }
   ],
   "source": [
    "## and this step config like the checkpoint id is\n",
    "\n",
    "to_fork.config"
   ]
  },
  {
   "cell_type": "markdown",
   "id": "0bd17fae",
   "metadata": {},
   "source": [
    "### Let's modify the state at this checkpoint.\n",
    "\n",
    "We can just run `update_state` with the `checkpoint_id` supplied. \n",
    "\n",
    "Remember how our reducer on `messages` works: \n",
    "\n",
    "* It will append, unless we supply a message ID.\n",
    "* We supply the message ID to overwrite the message, rather than appending to state!\n",
    "\n",
    "So, to overwrite the the message, we just supply the message ID, which we have `to_fork.values[\"messages\"].id`."
   ]
  },
  {
   "cell_type": "code",
   "execution_count": 58,
   "id": "d660bb63",
   "metadata": {},
   "outputs": [],
   "source": [
    "fork_config = graph.update_state(\n",
    "    to_fork.config,\n",
    "    {\n",
    "        \"messages\": [HumanMessage(content=\"multiply 5 and 4\",\n",
    "                                  id = to_fork.values['messages'][0].id)]\n",
    "    },\n",
    ")"
   ]
  },
  {
   "cell_type": "code",
   "execution_count": 59,
   "id": "d7d706e1",
   "metadata": {},
   "outputs": [
    {
     "data": {
      "text/plain": [
       "{'configurable': {'thread_id': '1',\n",
       "  'checkpoint_ns': '',\n",
       "  'checkpoint_id': '1f02c96d-d89a-6308-8001-98ff5c3c30ee'}}"
      ]
     },
     "execution_count": 59,
     "metadata": {},
     "output_type": "execute_result"
    }
   ],
   "source": [
    "fork_config"
   ]
  },
  {
   "cell_type": "markdown",
   "id": "432b4d85",
   "metadata": {},
   "source": [
    "### This creates a new, forked checkpoint.\n",
    " \n",
    "But, the metadata - e.g., where to go next - is perserved! \n",
    "\n",
    "We can see the current state of our agent has been updated with our fork."
   ]
  },
  {
   "cell_type": "code",
   "execution_count": 60,
   "id": "a5c4d4cd",
   "metadata": {},
   "outputs": [],
   "source": [
    "all_states = [state for state in graph.get_state_history(thread)]"
   ]
  },
  {
   "cell_type": "code",
   "execution_count": 61,
   "id": "cc0bdf11",
   "metadata": {},
   "outputs": [
    {
     "data": {
      "text/plain": [
       "[HumanMessage(content='multiply 5 and 4', additional_kwargs={}, response_metadata={}, id='cd096072-a6dc-40ee-acc2-a43214a03532')]"
      ]
     },
     "execution_count": 61,
     "metadata": {},
     "output_type": "execute_result"
    }
   ],
   "source": [
    "all_states[0].values['messages']"
   ]
  },
  {
   "cell_type": "code",
   "execution_count": 62,
   "id": "609f058b",
   "metadata": {},
   "outputs": [
    {
     "data": {
      "text/plain": [
       "('assistant',)"
      ]
     },
     "execution_count": 62,
     "metadata": {},
     "output_type": "execute_result"
    }
   ],
   "source": [
    "all_states[0].next"
   ]
  },
  {
   "cell_type": "markdown",
   "id": "dc10be98",
   "metadata": {},
   "source": [
    "Now, when we stream, the graph knows this checkpoint has never been executed.\n",
    "\n",
    "So, the graph runs, rather than simply re-playing."
   ]
  },
  {
   "cell_type": "code",
   "execution_count": 63,
   "id": "4fb2136e",
   "metadata": {},
   "outputs": [
    {
     "name": "stdout",
     "output_type": "stream",
     "text": [
      "================================\u001b[1m Human Message \u001b[0m=================================\n",
      "\n",
      "multiply 5 and 4\n",
      "==================================\u001b[1m Ai Message \u001b[0m==================================\n",
      "Tool Calls:\n",
      "  multiply (call_bav7)\n",
      " Call ID: call_bav7\n",
      "  Args:\n",
      "    a: 5\n",
      "    b: 4\n",
      "=================================\u001b[1m Tool Message \u001b[0m=================================\n",
      "Name: multiply\n",
      "\n",
      "20\n",
      "==================================\u001b[1m Ai Message \u001b[0m==================================\n",
      "\n",
      "The result of multiplying 5 and 4 is 20.\n"
     ]
    }
   ],
   "source": [
    "for event in graph.stream(None, fork_config, stream_mode='values'):\n",
    "    event['messages'][-1].pretty_print()"
   ]
  },
  {
   "cell_type": "code",
   "execution_count": 64,
   "id": "3481e540",
   "metadata": {},
   "outputs": [
    {
     "data": {
      "text/plain": [
       "StateSnapshot(values={'messages': [HumanMessage(content='multiply 5 and 4', additional_kwargs={}, response_metadata={}, id='cd096072-a6dc-40ee-acc2-a43214a03532'), AIMessage(content='', additional_kwargs={'tool_calls': [{'id': 'call_bav7', 'function': {'arguments': '{\"a\": 5, \"b\": 4}', 'name': 'multiply'}, 'type': 'function'}]}, response_metadata={'token_usage': {'completion_tokens': 20, 'prompt_tokens': 349, 'total_tokens': 369, 'completion_time': 0.039264892, 'prompt_time': 0.013933728, 'queue_time': 0.061256462000000005, 'total_time': 0.05319862}, 'model_name': 'meta-llama/llama-4-scout-17b-16e-instruct', 'system_fingerprint': 'fp_37da608fc1', 'finish_reason': 'tool_calls', 'logprobs': None}, id='run--54aa5cc9-e163-4928-a293-d151791c3d50-0', tool_calls=[{'name': 'multiply', 'args': {'a': 5, 'b': 4}, 'id': 'call_bav7', 'type': 'tool_call'}], usage_metadata={'input_tokens': 349, 'output_tokens': 20, 'total_tokens': 369}), ToolMessage(content='20', name='multiply', id='02d645ac-ddef-493e-9c93-26aa5d78ac6c', tool_call_id='call_bav7'), AIMessage(content='The result of multiplying 5 and 4 is 20.', additional_kwargs={}, response_metadata={'token_usage': {'completion_tokens': 14, 'prompt_tokens': 378, 'total_tokens': 392, 'completion_time': 0.030415966, 'prompt_time': 0.012839001, 'queue_time': 0.119861169, 'total_time': 0.043254967}, 'model_name': 'meta-llama/llama-4-scout-17b-16e-instruct', 'system_fingerprint': 'fp_37da608fc1', 'finish_reason': 'stop', 'logprobs': None}, id='run--fea9b826-8656-4f36-aed4-7e6f260c0da8-0', usage_metadata={'input_tokens': 378, 'output_tokens': 14, 'total_tokens': 392})]}, next=(), config={'configurable': {'thread_id': '1', 'checkpoint_ns': '', 'checkpoint_id': '1f02c96d-dd6d-6b06-8004-99d38b459016'}}, metadata={'source': 'loop', 'writes': {'assistant': {'messages': [AIMessage(content='The result of multiplying 5 and 4 is 20.', additional_kwargs={}, response_metadata={'token_usage': {'completion_tokens': 14, 'prompt_tokens': 378, 'total_tokens': 392, 'completion_time': 0.030415966, 'prompt_time': 0.012839001, 'queue_time': 0.119861169, 'total_time': 0.043254967}, 'model_name': 'meta-llama/llama-4-scout-17b-16e-instruct', 'system_fingerprint': 'fp_37da608fc1', 'finish_reason': 'stop', 'logprobs': None}, id='run--fea9b826-8656-4f36-aed4-7e6f260c0da8-0', usage_metadata={'input_tokens': 378, 'output_tokens': 14, 'total_tokens': 392})]}}, 'step': 4, 'parents': {}, 'thread_id': '1'}, created_at='2025-05-09T05:31:32.704743+00:00', parent_config={'configurable': {'thread_id': '1', 'checkpoint_ns': '', 'checkpoint_id': '1f02c96d-db0e-6d43-8003-c8fae943a4a6'}}, tasks=(), interrupts=())"
      ]
     },
     "execution_count": 64,
     "metadata": {},
     "output_type": "execute_result"
    }
   ],
   "source": [
    "graph.get_state({'configurable': {'thread_id': '1'}})"
   ]
  },
  {
   "cell_type": "markdown",
   "id": "222c0d03",
   "metadata": {},
   "source": [
    "# **Time travel with LangGraph API**"
   ]
  },
  {
   "cell_type": "code",
   "execution_count": 65,
   "id": "a0920e2a",
   "metadata": {},
   "outputs": [],
   "source": [
    "from langgraph_sdk import get_client\n",
    "client = get_client(url=\"http://127.0.0.1:2024\")"
   ]
  },
  {
   "cell_type": "markdown",
   "id": "7ede15f2",
   "metadata": {},
   "source": [
    "## *Re-playing*"
   ]
  },
  {
   "cell_type": "code",
   "execution_count": 66,
   "id": "5c667653",
   "metadata": {},
   "outputs": [
    {
     "name": "stdout",
     "output_type": "stream",
     "text": [
      "--------------------Assistant Node--------------------\n",
      "{'content': '', 'additional_kwargs': {'tool_calls': [{'id': 'call_tp6t', 'function': {'arguments': '{\"a\": 4, \"b\": 3}', 'name': 'multiply'}, 'type': 'function'}]}, 'response_metadata': {'token_usage': {'completion_tokens': 20, 'prompt_tokens': 352, 'total_tokens': 372, 'completion_time': 0.042205556, 'prompt_time': 0.011154747, 'queue_time': 0.048392053, 'total_time': 0.053360303}, 'model_name': 'meta-llama/llama-4-scout-17b-16e-instruct', 'system_fingerprint': 'fp_42ae451038', 'finish_reason': 'tool_calls', 'logprobs': None}, 'type': 'ai', 'name': None, 'id': 'run--11e77096-d7f0-42bd-a16f-5ba8f5c6aa6c-0', 'example': False, 'tool_calls': [{'name': 'multiply', 'args': {'a': 4, 'b': 3}, 'id': 'call_tp6t', 'type': 'tool_call'}], 'invalid_tool_calls': [], 'usage_metadata': {'input_tokens': 352, 'output_tokens': 20, 'total_tokens': 372}}\n",
      "--------------------Tools Node--------------------\n",
      "{'content': '12', 'additional_kwargs': {}, 'response_metadata': {}, 'type': 'tool', 'name': 'multiply', 'id': '5fc9157c-0429-4a92-9625-274f37ba875b', 'tool_call_id': 'call_tp6t', 'artifact': None, 'status': 'success'}\n",
      "--------------------Assistant Node--------------------\n",
      "{'content': 'The result of multiplying 4 and 3 is 12.', 'additional_kwargs': {}, 'response_metadata': {'token_usage': {'completion_tokens': 14, 'prompt_tokens': 381, 'total_tokens': 395, 'completion_time': 0.032936537, 'prompt_time': 0.0146038, 'queue_time': 0.608356729, 'total_time': 0.047540337}, 'model_name': 'meta-llama/llama-4-scout-17b-16e-instruct', 'system_fingerprint': 'fp_37da608fc1', 'finish_reason': 'stop', 'logprobs': None}, 'type': 'ai', 'name': None, 'id': 'run--4985b1b4-cb64-4207-a73a-a9d2c596d144-0', 'example': False, 'tool_calls': [], 'invalid_tool_calls': [], 'usage_metadata': {'input_tokens': 381, 'output_tokens': 14, 'total_tokens': 395}}\n"
     ]
    }
   ],
   "source": [
    "initial_input = {\"messages\": HumanMessage(content=\"Multiply 4 and 3\")}\n",
    "thread = await client.threads.create()\n",
    "async for chunk in client.runs.stream(\n",
    "    thread[\"thread_id\"],\n",
    "    assistant_id = \"agent\",\n",
    "    input=initial_input,\n",
    "    stream_mode=\"updates\",\n",
    "):\n",
    "    if chunk.data:\n",
    "        assisant_node = chunk.data.get('assistant', {}).get('messages', [])\n",
    "        tool_node = chunk.data.get('tools', {}).get('messages', [])\n",
    "        if assisant_node:\n",
    "            print(\"-\" * 20+\"Assistant Node\"+\"-\" * 20)\n",
    "            print(assisant_node[-1])\n",
    "        elif tool_node:\n",
    "            print(\"-\" * 20+\"Tools Node\"+\"-\" * 20)\n",
    "            print(tool_node[-1])"
   ]
  },
  {
   "cell_type": "code",
   "execution_count": 67,
   "id": "f7eede4b",
   "metadata": {},
   "outputs": [
    {
     "data": {
      "text/plain": [
       "{'values': {'messages': [{'content': 'Multiply 4 and 3',\n",
       "    'additional_kwargs': {},\n",
       "    'response_metadata': {},\n",
       "    'type': 'human',\n",
       "    'name': None,\n",
       "    'id': 'dcfe423e-9529-4d52-b8e5-a611cbab9b37',\n",
       "    'example': False}]},\n",
       " 'next': ['assistant'],\n",
       " 'tasks': [{'id': '3cd218a9-0451-0208-6569-04d4fff6087a',\n",
       "   'name': 'assistant',\n",
       "   'path': ['__pregel_pull', 'assistant'],\n",
       "   'error': None,\n",
       "   'interrupts': [],\n",
       "   'checkpoint': None,\n",
       "   'state': None,\n",
       "   'result': {'messages': [{'content': '',\n",
       "      'additional_kwargs': {'tool_calls': [{'id': 'call_tp6t',\n",
       "         'function': {'arguments': '{\"a\": 4, \"b\": 3}', 'name': 'multiply'},\n",
       "         'type': 'function'}]},\n",
       "      'response_metadata': {'token_usage': {'completion_tokens': 20,\n",
       "        'prompt_tokens': 352,\n",
       "        'total_tokens': 372,\n",
       "        'completion_time': 0.042205556,\n",
       "        'prompt_time': 0.011154747,\n",
       "        'queue_time': 0.048392053,\n",
       "        'total_time': 0.053360303},\n",
       "       'model_name': 'meta-llama/llama-4-scout-17b-16e-instruct',\n",
       "       'system_fingerprint': 'fp_42ae451038',\n",
       "       'finish_reason': 'tool_calls',\n",
       "       'logprobs': None},\n",
       "      'type': 'ai',\n",
       "      'name': None,\n",
       "      'id': 'run--11e77096-d7f0-42bd-a16f-5ba8f5c6aa6c-0',\n",
       "      'example': False,\n",
       "      'tool_calls': [{'name': 'multiply',\n",
       "        'args': {'a': 4, 'b': 3},\n",
       "        'id': 'call_tp6t',\n",
       "        'type': 'tool_call'}],\n",
       "      'invalid_tool_calls': [],\n",
       "      'usage_metadata': {'input_tokens': 352,\n",
       "       'output_tokens': 20,\n",
       "       'total_tokens': 372}}]}}],\n",
       " 'metadata': {'user-agent': 'langgraph-sdk-py/0.1.66',\n",
       "  'langgraph_auth_user': None,\n",
       "  'langgraph_auth_user_id': '',\n",
       "  'langgraph_auth_permissions': [],\n",
       "  'graph_id': 'agent',\n",
       "  'assistant_id': 'fe096781-5601-53d2-b2f6-0d3403f7e9ca',\n",
       "  'user_id': '',\n",
       "  'created_by': 'system',\n",
       "  'run_attempt': 1,\n",
       "  'langgraph_version': '0.4.1',\n",
       "  'langgraph_plan': 'developer',\n",
       "  'langgraph_host': 'self-hosted',\n",
       "  'langgraph_api_url': 'http://127.0.0.1:2024',\n",
       "  'run_id': '1f02c96d-e000-6bf2-9fff-ab565add5192',\n",
       "  'thread_id': 'fd91b1eb-9fc2-490c-9b04-54df25fe2928',\n",
       "  'source': 'loop',\n",
       "  'writes': None,\n",
       "  'step': 0,\n",
       "  'parents': {}},\n",
       " 'created_at': '2025-05-09T05:31:34.365214+00:00',\n",
       " 'checkpoint': {'checkpoint_id': '1f02c96d-ed43-692e-8000-29f0bcdb7f19',\n",
       "  'thread_id': 'fd91b1eb-9fc2-490c-9b04-54df25fe2928',\n",
       "  'checkpoint_ns': ''},\n",
       " 'parent_checkpoint': {'checkpoint_id': '1f02c96d-ed43-692d-bfff-5567e9b71211',\n",
       "  'thread_id': 'fd91b1eb-9fc2-490c-9b04-54df25fe2928',\n",
       "  'checkpoint_ns': ''},\n",
       " 'checkpoint_id': '1f02c96d-ed43-692e-8000-29f0bcdb7f19',\n",
       " 'parent_checkpoint_id': '1f02c96d-ed43-692d-bfff-5567e9b71211'}"
      ]
     },
     "execution_count": 67,
     "metadata": {},
     "output_type": "execute_result"
    }
   ],
   "source": [
    "states = await client.threads.get_history(thread['thread_id'])\n",
    "to_replay = states[-2]\n",
    "to_replay"
   ]
  },
  {
   "cell_type": "code",
   "execution_count": 68,
   "id": "a28e66e4",
   "metadata": {},
   "outputs": [
    {
     "name": "stdout",
     "output_type": "stream",
     "text": [
      "Receiving new event of type: metadata...\n",
      "{'run_id': '1f02c96d-f7c9-61f7-9937-dddbad817581', 'attempt': 1}\n",
      "\n",
      "\n",
      "\n",
      "Receiving new event of type: values...\n",
      "{'messages': [{'content': 'Multiply 4 and 3', 'additional_kwargs': {}, 'response_metadata': {}, 'type': 'human', 'name': None, 'id': 'dcfe423e-9529-4d52-b8e5-a611cbab9b37', 'example': False}]}\n",
      "\n",
      "\n",
      "\n",
      "Receiving new event of type: values...\n",
      "{'messages': [{'content': 'Multiply 4 and 3', 'additional_kwargs': {}, 'response_metadata': {}, 'type': 'human', 'name': None, 'id': 'dcfe423e-9529-4d52-b8e5-a611cbab9b37', 'example': False}, {'content': '', 'additional_kwargs': {'tool_calls': [{'id': 'call_wda0', 'function': {'arguments': '{\"a\": 4, \"b\": 3}', 'name': 'multiply'}, 'type': 'function'}]}, 'response_metadata': {'token_usage': {'completion_tokens': 20, 'prompt_tokens': 352, 'total_tokens': 372, 'completion_time': 0.039386973, 'prompt_time': 0.016044396, 'queue_time': 0.057325614, 'total_time': 0.055431369}, 'model_name': 'meta-llama/llama-4-scout-17b-16e-instruct', 'system_fingerprint': 'fp_42ae451038', 'finish_reason': 'tool_calls', 'logprobs': None}, 'type': 'ai', 'name': None, 'id': 'run--71d0a368-0cc5-4a3a-9ccd-178d1b2a0377-0', 'example': False, 'tool_calls': [{'name': 'multiply', 'args': {'a': 4, 'b': 3}, 'id': 'call_wda0', 'type': 'tool_call'}], 'invalid_tool_calls': [], 'usage_metadata': {'input_tokens': 352, 'output_tokens': 20, 'total_tokens': 372}}]}\n",
      "\n",
      "\n",
      "\n",
      "Receiving new event of type: values...\n",
      "{'messages': [{'content': 'Multiply 4 and 3', 'additional_kwargs': {}, 'response_metadata': {}, 'type': 'human', 'name': None, 'id': 'dcfe423e-9529-4d52-b8e5-a611cbab9b37', 'example': False}, {'content': '', 'additional_kwargs': {'tool_calls': [{'id': 'call_wda0', 'function': {'arguments': '{\"a\": 4, \"b\": 3}', 'name': 'multiply'}, 'type': 'function'}]}, 'response_metadata': {'token_usage': {'completion_tokens': 20, 'prompt_tokens': 352, 'total_tokens': 372, 'completion_time': 0.039386973, 'prompt_time': 0.016044396, 'queue_time': 0.057325614, 'total_time': 0.055431369}, 'model_name': 'meta-llama/llama-4-scout-17b-16e-instruct', 'system_fingerprint': 'fp_42ae451038', 'finish_reason': 'tool_calls', 'logprobs': None}, 'type': 'ai', 'name': None, 'id': 'run--71d0a368-0cc5-4a3a-9ccd-178d1b2a0377-0', 'example': False, 'tool_calls': [{'name': 'multiply', 'args': {'a': 4, 'b': 3}, 'id': 'call_wda0', 'type': 'tool_call'}], 'invalid_tool_calls': [], 'usage_metadata': {'input_tokens': 352, 'output_tokens': 20, 'total_tokens': 372}}, {'content': '12', 'additional_kwargs': {}, 'response_metadata': {}, 'type': 'tool', 'name': 'multiply', 'id': 'd91e3f7a-96cc-46d3-a2cc-92de373f8378', 'tool_call_id': 'call_wda0', 'artifact': None, 'status': 'success'}]}\n",
      "\n",
      "\n",
      "\n",
      "Receiving new event of type: values...\n",
      "{'messages': [{'content': 'Multiply 4 and 3', 'additional_kwargs': {}, 'response_metadata': {}, 'type': 'human', 'name': None, 'id': 'dcfe423e-9529-4d52-b8e5-a611cbab9b37', 'example': False}, {'content': '', 'additional_kwargs': {'tool_calls': [{'id': 'call_wda0', 'function': {'arguments': '{\"a\": 4, \"b\": 3}', 'name': 'multiply'}, 'type': 'function'}]}, 'response_metadata': {'token_usage': {'completion_tokens': 20, 'prompt_tokens': 352, 'total_tokens': 372, 'completion_time': 0.039386973, 'prompt_time': 0.016044396, 'queue_time': 0.057325614, 'total_time': 0.055431369}, 'model_name': 'meta-llama/llama-4-scout-17b-16e-instruct', 'system_fingerprint': 'fp_42ae451038', 'finish_reason': 'tool_calls', 'logprobs': None}, 'type': 'ai', 'name': None, 'id': 'run--71d0a368-0cc5-4a3a-9ccd-178d1b2a0377-0', 'example': False, 'tool_calls': [{'name': 'multiply', 'args': {'a': 4, 'b': 3}, 'id': 'call_wda0', 'type': 'tool_call'}], 'invalid_tool_calls': [], 'usage_metadata': {'input_tokens': 352, 'output_tokens': 20, 'total_tokens': 372}}, {'content': '12', 'additional_kwargs': {}, 'response_metadata': {}, 'type': 'tool', 'name': 'multiply', 'id': 'd91e3f7a-96cc-46d3-a2cc-92de373f8378', 'tool_call_id': 'call_wda0', 'artifact': None, 'status': 'success'}, {'content': 'The result of multiplying 4 and 3 is 12.', 'additional_kwargs': {}, 'response_metadata': {'token_usage': {'completion_tokens': 14, 'prompt_tokens': 381, 'total_tokens': 395, 'completion_time': 0.034818585, 'prompt_time': 0.013542033, 'queue_time': 0.30318855699999997, 'total_time': 0.048360618}, 'model_name': 'meta-llama/llama-4-scout-17b-16e-instruct', 'system_fingerprint': 'fp_37da608fc1', 'finish_reason': 'stop', 'logprobs': None}, 'type': 'ai', 'name': None, 'id': 'run--abfacd69-fe92-4fa2-b6c0-48d5974a39a0-0', 'example': False, 'tool_calls': [], 'invalid_tool_calls': [], 'usage_metadata': {'input_tokens': 381, 'output_tokens': 14, 'total_tokens': 395}}]}\n",
      "\n",
      "\n",
      "\n"
     ]
    }
   ],
   "source": [
    "# stream mode is update\n",
    "async for chunk in client.runs.stream(\n",
    "    thread[\"thread_id\"],\n",
    "    assistant_id=\"agent\",\n",
    "    input=None,\n",
    "    stream_mode=\"values\",\n",
    "    checkpoint_id=to_replay['checkpoint_id']\n",
    "):      \n",
    "    print(f\"Receiving new event of type: {chunk.event}...\")\n",
    "    print(chunk.data)\n",
    "    print(\"\\n\\n\")"
   ]
  },
  {
   "cell_type": "code",
   "execution_count": 69,
   "id": "d3ff36f1",
   "metadata": {},
   "outputs": [
    {
     "name": "stdout",
     "output_type": "stream",
     "text": [
      "--------------------Assistant Node--------------------\n",
      "{'content': '', 'additional_kwargs': {'tool_calls': [{'id': 'call_pgeq', 'function': {'arguments': '{\"a\": 4, \"b\": 3}', 'name': 'multiply'}, 'type': 'function'}]}, 'response_metadata': {'token_usage': {'completion_tokens': 20, 'prompt_tokens': 352, 'total_tokens': 372, 'completion_time': 0.039320804, 'prompt_time': 0.012672952, 'queue_time': 0.045111578, 'total_time': 0.051993756}, 'model_name': 'meta-llama/llama-4-scout-17b-16e-instruct', 'system_fingerprint': 'fp_42ae451038', 'finish_reason': 'tool_calls', 'logprobs': None}, 'type': 'ai', 'name': None, 'id': 'run--211c88de-a961-44ed-ab58-47ad8139de79-0', 'example': False, 'tool_calls': [{'name': 'multiply', 'args': {'a': 4, 'b': 3}, 'id': 'call_pgeq', 'type': 'tool_call'}], 'invalid_tool_calls': [], 'usage_metadata': {'input_tokens': 352, 'output_tokens': 20, 'total_tokens': 372}}\n",
      "--------------------Tools Node--------------------\n",
      "{'content': '12', 'additional_kwargs': {}, 'response_metadata': {}, 'type': 'tool', 'name': 'multiply', 'id': '5fc042bc-a594-458e-aff3-10c092194004', 'tool_call_id': 'call_pgeq', 'artifact': None, 'status': 'success'}\n",
      "--------------------Assistant Node--------------------\n",
      "{'content': '', 'additional_kwargs': {'tool_calls': [{'id': 'call_gdgf', 'function': {'arguments': '{\"a\": 4, \"b\": 3}', 'name': 'add'}, 'type': 'function'}]}, 'response_metadata': {'token_usage': {'completion_tokens': 21, 'prompt_tokens': 381, 'total_tokens': 402, 'completion_time': 0.048367175, 'prompt_time': 0.013764504, 'queue_time': 0.045738035999999996, 'total_time': 0.062131679}, 'model_name': 'meta-llama/llama-4-scout-17b-16e-instruct', 'system_fingerprint': 'fp_42ae451038', 'finish_reason': 'tool_calls', 'logprobs': None}, 'type': 'ai', 'name': None, 'id': 'run--a436e486-e620-41a5-bfe3-3ff5c86545a6-0', 'example': False, 'tool_calls': [{'name': 'add', 'args': {'a': 4, 'b': 3}, 'id': 'call_gdgf', 'type': 'tool_call'}], 'invalid_tool_calls': [], 'usage_metadata': {'input_tokens': 381, 'output_tokens': 21, 'total_tokens': 402}}\n",
      "--------------------Tools Node--------------------\n",
      "{'content': '7', 'additional_kwargs': {}, 'response_metadata': {}, 'type': 'tool', 'name': 'add', 'id': '3e64e257-a320-4f6a-bb6b-71fd1f1358dd', 'tool_call_id': 'call_gdgf', 'artifact': None, 'status': 'success'}\n",
      "--------------------Assistant Node--------------------\n",
      "{'content': '', 'additional_kwargs': {'tool_calls': [{'id': 'call_jhwt', 'function': {'arguments': '{\"a\":4, \"b\":3}', 'name': 'divide'}, 'type': 'function'}]}, 'response_metadata': {'token_usage': {'completion_tokens': 17, 'prompt_tokens': 409, 'total_tokens': 426, 'completion_time': 0.0335108, 'prompt_time': 0.012357847, 'queue_time': 0.044866093, 'total_time': 0.045868647}, 'model_name': 'meta-llama/llama-4-scout-17b-16e-instruct', 'system_fingerprint': 'fp_37da608fc1', 'finish_reason': 'tool_calls', 'logprobs': None}, 'type': 'ai', 'name': None, 'id': 'run--907c6c50-569f-441e-966d-55681b15a1f3-0', 'example': False, 'tool_calls': [{'name': 'divide', 'args': {'a': 4, 'b': 3}, 'id': 'call_jhwt', 'type': 'tool_call'}], 'invalid_tool_calls': [], 'usage_metadata': {'input_tokens': 409, 'output_tokens': 17, 'total_tokens': 426}}\n",
      "--------------------Tools Node--------------------\n",
      "{'content': '1.3333333333333333', 'additional_kwargs': {}, 'response_metadata': {}, 'type': 'tool', 'name': 'divide', 'id': '087ea770-e994-4ae0-a0e4-539af0e89a01', 'tool_call_id': 'call_jhwt', 'artifact': None, 'status': 'success'}\n",
      "--------------------Assistant Node--------------------\n",
      "{'content': '', 'additional_kwargs': {'tool_calls': [{'id': 'call_9n3a', 'function': {'arguments': '{\"a\":4, \"b\":3}', 'name': 'multiply'}, 'type': 'function'}, {'id': 'call_aprf', 'function': {'arguments': '{\"a\":4, \"b\":3}', 'name': 'add'}, 'type': 'function'}, {'id': 'call_3p4z', 'function': {'arguments': '{\"a\":4, \"b\":3}', 'name': 'divide'}, 'type': 'function'}]}, 'response_metadata': {'token_usage': {'completion_tokens': 113, 'prompt_tokens': 444, 'total_tokens': 557, 'completion_time': 0.243581256, 'prompt_time': 0.021101663, 'queue_time': 0.046328077, 'total_time': 0.264682919}, 'model_name': 'meta-llama/llama-4-scout-17b-16e-instruct', 'system_fingerprint': 'fp_42ae451038', 'finish_reason': 'tool_calls', 'logprobs': None}, 'type': 'ai', 'name': None, 'id': 'run--514e52ed-3546-492e-a1f9-4990c7f6d750-0', 'example': False, 'tool_calls': [{'name': 'multiply', 'args': {'a': 4, 'b': 3}, 'id': 'call_9n3a', 'type': 'tool_call'}, {'name': 'add', 'args': {'a': 4, 'b': 3}, 'id': 'call_aprf', 'type': 'tool_call'}, {'name': 'divide', 'args': {'a': 4, 'b': 3}, 'id': 'call_3p4z', 'type': 'tool_call'}], 'invalid_tool_calls': [], 'usage_metadata': {'input_tokens': 444, 'output_tokens': 113, 'total_tokens': 557}}\n",
      "--------------------Tools Node--------------------\n",
      "{'content': '1.3333333333333333', 'additional_kwargs': {}, 'response_metadata': {}, 'type': 'tool', 'name': 'divide', 'id': '2c257dfd-194e-4196-9e18-be1c7a818976', 'tool_call_id': 'call_3p4z', 'artifact': None, 'status': 'success'}\n",
      "--------------------Assistant Node--------------------\n",
      "{'content': 'It seems like you want me to perform the operations and provide the results. Here are the results:\\n\\n- Multiplication: 4 * 3 = 12\\n- Addition: 4 + 3 = 7\\n- Division: 4 / 3 = 1.3333333333333333\\n\\nLet me know if you need anything else!', 'additional_kwargs': {}, 'response_metadata': {'token_usage': {'completion_tokens': 73, 'prompt_tokens': 526, 'total_tokens': 599, 'completion_time': 0.143874366, 'prompt_time': 0.015383341, 'queue_time': 0.048728849, 'total_time': 0.159257707}, 'model_name': 'meta-llama/llama-4-scout-17b-16e-instruct', 'system_fingerprint': 'fp_37da608fc1', 'finish_reason': 'stop', 'logprobs': None}, 'type': 'ai', 'name': None, 'id': 'run--797905c4-b47d-481a-8dad-d7bda933c840-0', 'example': False, 'tool_calls': [], 'invalid_tool_calls': [], 'usage_metadata': {'input_tokens': 526, 'output_tokens': 73, 'total_tokens': 599}}\n"
     ]
    }
   ],
   "source": [
    "## steaming in update mode\n",
    "\n",
    "async for chunk in client.runs.stream(\n",
    "    thread[\"thread_id\"],\n",
    "    assistant_id=\"agent\",\n",
    "    input=None,\n",
    "    stream_mode=\"updates\",\n",
    "    checkpoint_id=to_replay['checkpoint_id']\n",
    "):\n",
    "    if chunk.data:\n",
    "        assisant_node = chunk.data.get('assistant', {}).get('messages', [])\n",
    "        tool_node = chunk.data.get('tools', {}).get('messages', [])\n",
    "        if assisant_node:\n",
    "            print(\"-\" * 20+\"Assistant Node\"+\"-\" * 20)\n",
    "            print(assisant_node[-1])\n",
    "        elif tool_node:\n",
    "            print(\"-\" * 20+\"Tools Node\"+\"-\" * 20)\n",
    "            print(tool_node[-1])"
   ]
  },
  {
   "cell_type": "markdown",
   "id": "369680b4",
   "metadata": {},
   "source": [
    "# ***Forking***\n",
    "\n",
    "Now, let's look at forking.\n",
    "\n",
    "Let's get the same step as we worked with above, the human input.\n",
    "\n",
    "Let's create a new thread with our agent."
   ]
  },
  {
   "cell_type": "code",
   "execution_count": 70,
   "id": "b30813d5",
   "metadata": {},
   "outputs": [
    {
     "name": "stdout",
     "output_type": "stream",
     "text": [
      "--------------------Assistant Node--------------------\n",
      "{'content': '', 'additional_kwargs': {'tool_calls': [{'id': 'call_d7be', 'function': {'arguments': '{\"a\": 2, \"b\": 3}', 'name': 'multiply'}, 'type': 'function'}]}, 'response_metadata': {'token_usage': {'completion_tokens': 20, 'prompt_tokens': 352, 'total_tokens': 372, 'completion_time': 0.039347762, 'prompt_time': 0.011261, 'queue_time': 0.04640098, 'total_time': 0.050608762}, 'model_name': 'meta-llama/llama-4-scout-17b-16e-instruct', 'system_fingerprint': 'fp_37da608fc1', 'finish_reason': 'tool_calls', 'logprobs': None}, 'type': 'ai', 'name': None, 'id': 'run--b7ce52f6-c253-4114-a14b-fcf9f061d3da-0', 'example': False, 'tool_calls': [{'name': 'multiply', 'args': {'a': 2, 'b': 3}, 'id': 'call_d7be', 'type': 'tool_call'}], 'invalid_tool_calls': [], 'usage_metadata': {'input_tokens': 352, 'output_tokens': 20, 'total_tokens': 372}}\n",
      "--------------------Tools Node--------------------\n",
      "{'content': '6', 'additional_kwargs': {}, 'response_metadata': {}, 'type': 'tool', 'name': 'multiply', 'id': '19e76400-7678-41c8-a660-f19c26883f8c', 'tool_call_id': 'call_d7be', 'artifact': None, 'status': 'success'}\n",
      "--------------------Assistant Node--------------------\n",
      "{'content': '', 'additional_kwargs': {'tool_calls': [{'id': 'call_kaez', 'function': {'arguments': '{\"a\": 6, \"b\": 6}', 'name': 'add'}, 'type': 'function'}]}, 'response_metadata': {'token_usage': {'completion_tokens': 19, 'prompt_tokens': 381, 'total_tokens': 400, 'completion_time': 0.038531461, 'prompt_time': 0.012550384, 'queue_time': 0.046178376, 'total_time': 0.051081845}, 'model_name': 'meta-llama/llama-4-scout-17b-16e-instruct', 'system_fingerprint': 'fp_37da608fc1', 'finish_reason': 'tool_calls', 'logprobs': None}, 'type': 'ai', 'name': None, 'id': 'run--56e3218f-9131-43ba-be41-3b23300fe60b-0', 'example': False, 'tool_calls': [{'name': 'add', 'args': {'a': 6, 'b': 6}, 'id': 'call_kaez', 'type': 'tool_call'}], 'invalid_tool_calls': [], 'usage_metadata': {'input_tokens': 381, 'output_tokens': 19, 'total_tokens': 400}}\n",
      "--------------------Tools Node--------------------\n",
      "{'content': '12', 'additional_kwargs': {}, 'response_metadata': {}, 'type': 'tool', 'name': 'add', 'id': '3c28d785-20dc-4935-bc87-9d72e7c6499c', 'tool_call_id': 'call_kaez', 'artifact': None, 'status': 'success'}\n",
      "--------------------Assistant Node--------------------\n",
      "{'content': '', 'additional_kwargs': {'tool_calls': [{'id': 'call_b2sd', 'function': {'arguments': '{\"a\":12, \"b\":3}', 'name': 'divide'}, 'type': 'function'}]}, 'response_metadata': {'token_usage': {'completion_tokens': 17, 'prompt_tokens': 409, 'total_tokens': 426, 'completion_time': 0.03347629, 'prompt_time': 0.012566663, 'queue_time': 0.050705467, 'total_time': 0.046042953}, 'model_name': 'meta-llama/llama-4-scout-17b-16e-instruct', 'system_fingerprint': 'fp_42ae451038', 'finish_reason': 'tool_calls', 'logprobs': None}, 'type': 'ai', 'name': None, 'id': 'run--8ac47b60-eda9-4930-b490-1b8504163eb5-0', 'example': False, 'tool_calls': [{'name': 'divide', 'args': {'a': 12, 'b': 3}, 'id': 'call_b2sd', 'type': 'tool_call'}], 'invalid_tool_calls': [], 'usage_metadata': {'input_tokens': 409, 'output_tokens': 17, 'total_tokens': 426}}\n",
      "--------------------Tools Node--------------------\n",
      "{'content': '4.0', 'additional_kwargs': {}, 'response_metadata': {}, 'type': 'tool', 'name': 'divide', 'id': 'b2dbd1cc-7122-4c15-a8d7-5f62bfc635c1', 'tool_call_id': 'call_b2sd', 'artifact': None, 'status': 'success'}\n",
      "--------------------Assistant Node--------------------\n",
      "{'content': '', 'additional_kwargs': {'tool_calls': [{'id': 'call_1ska', 'function': {'arguments': '{\"a\":4, \"b\":2}', 'name': 'multiply'}, 'type': 'function'}]}, 'response_metadata': {'token_usage': {'completion_tokens': 18, 'prompt_tokens': 439, 'total_tokens': 457, 'completion_time': 0.035426757, 'prompt_time': 0.013369301, 'queue_time': 0.046150367, 'total_time': 0.048796058}, 'model_name': 'meta-llama/llama-4-scout-17b-16e-instruct', 'system_fingerprint': 'fp_42ae451038', 'finish_reason': 'tool_calls', 'logprobs': None}, 'type': 'ai', 'name': None, 'id': 'run--358a56a1-6641-4ac9-878e-edff1e148394-0', 'example': False, 'tool_calls': [{'name': 'multiply', 'args': {'a': 4, 'b': 2}, 'id': 'call_1ska', 'type': 'tool_call'}], 'invalid_tool_calls': [], 'usage_metadata': {'input_tokens': 439, 'output_tokens': 18, 'total_tokens': 457}}\n",
      "--------------------Tools Node--------------------\n",
      "{'content': '8', 'additional_kwargs': {}, 'response_metadata': {}, 'type': 'tool', 'name': 'multiply', 'id': '49c50659-0c67-4298-a17e-04c1d50656ed', 'tool_call_id': 'call_1ska', 'artifact': None, 'status': 'success'}\n",
      "--------------------Assistant Node--------------------\n",
      "{'content': '', 'additional_kwargs': {'tool_calls': [{'id': 'call_zsyz', 'function': {'arguments': '{\"a\":8, \"b\":1}', 'name': 'add'}, 'type': 'function'}]}, 'response_metadata': {'token_usage': {'completion_tokens': 17, 'prompt_tokens': 468, 'total_tokens': 485, 'completion_time': 0.034333606, 'prompt_time': 0.014199807, 'queue_time': 0.045258783, 'total_time': 0.048533413}, 'model_name': 'meta-llama/llama-4-scout-17b-16e-instruct', 'system_fingerprint': 'fp_42ae451038', 'finish_reason': 'tool_calls', 'logprobs': None}, 'type': 'ai', 'name': None, 'id': 'run--95751790-6022-4610-91d9-44d08bd051b5-0', 'example': False, 'tool_calls': [{'name': 'add', 'args': {'a': 8, 'b': 1}, 'id': 'call_zsyz', 'type': 'tool_call'}], 'invalid_tool_calls': [], 'usage_metadata': {'input_tokens': 468, 'output_tokens': 17, 'total_tokens': 485}}\n",
      "--------------------Tools Node--------------------\n",
      "{'content': '9', 'additional_kwargs': {}, 'response_metadata': {}, 'type': 'tool', 'name': 'add', 'id': '8289ea0c-0771-4cb6-94e3-48ae27b08953', 'tool_call_id': 'call_zsyz', 'artifact': None, 'status': 'success'}\n",
      "--------------------Assistant Node--------------------\n",
      "{'content': '', 'additional_kwargs': {'tool_calls': [{'id': 'call_vpg2', 'function': {'arguments': '{\"a\":9, \"b\":3}', 'name': 'divide'}, 'type': 'function'}]}, 'response_metadata': {'token_usage': {'completion_tokens': 17, 'prompt_tokens': 496, 'total_tokens': 513, 'completion_time': 0.03346878, 'prompt_time': 0.016075326, 'queue_time': 0.044127731999999996, 'total_time': 0.049544106}, 'model_name': 'meta-llama/llama-4-scout-17b-16e-instruct', 'system_fingerprint': 'fp_42ae451038', 'finish_reason': 'tool_calls', 'logprobs': None}, 'type': 'ai', 'name': None, 'id': 'run--38dd7bd0-8914-430e-af1d-56f6cc04e31e-0', 'example': False, 'tool_calls': [{'name': 'divide', 'args': {'a': 9, 'b': 3}, 'id': 'call_vpg2', 'type': 'tool_call'}], 'invalid_tool_calls': [], 'usage_metadata': {'input_tokens': 496, 'output_tokens': 17, 'total_tokens': 513}}\n",
      "--------------------Tools Node--------------------\n",
      "{'content': '3.0', 'additional_kwargs': {}, 'response_metadata': {}, 'type': 'tool', 'name': 'divide', 'id': '90f6c307-6abf-4404-a295-c3ad90f4a3d8', 'tool_call_id': 'call_vpg2', 'artifact': None, 'status': 'success'}\n",
      "--------------------Assistant Node--------------------\n",
      "{'content': '', 'additional_kwargs': {'tool_calls': [{'id': 'call_dgb1', 'function': {'arguments': '{\"a\":3, \"b\":3}', 'name': 'multiply'}, 'type': 'function'}]}, 'response_metadata': {'token_usage': {'completion_tokens': 18, 'prompt_tokens': 526, 'total_tokens': 544, 'completion_time': 0.044695785, 'prompt_time': 0.017113508, 'queue_time': 0.044891782, 'total_time': 0.061809293}, 'model_name': 'meta-llama/llama-4-scout-17b-16e-instruct', 'system_fingerprint': 'fp_42ae451038', 'finish_reason': 'tool_calls', 'logprobs': None}, 'type': 'ai', 'name': None, 'id': 'run--dc311870-cf81-4b46-8bdc-baa7f0f03f86-0', 'example': False, 'tool_calls': [{'name': 'multiply', 'args': {'a': 3, 'b': 3}, 'id': 'call_dgb1', 'type': 'tool_call'}], 'invalid_tool_calls': [], 'usage_metadata': {'input_tokens': 526, 'output_tokens': 18, 'total_tokens': 544}}\n",
      "--------------------Tools Node--------------------\n",
      "{'content': '9', 'additional_kwargs': {}, 'response_metadata': {}, 'type': 'tool', 'name': 'multiply', 'id': '7ec1f89d-e3eb-4967-b6c3-00c8fb675b84', 'tool_call_id': 'call_dgb1', 'artifact': None, 'status': 'success'}\n",
      "--------------------Assistant Node--------------------\n",
      "{'content': '', 'additional_kwargs': {'tool_calls': [{'id': 'call_244a', 'function': {'arguments': '{\"a\":9, \"b\":9}', 'name': 'add'}, 'type': 'function'}]}, 'response_metadata': {'token_usage': {'completion_tokens': 17, 'prompt_tokens': 555, 'total_tokens': 572, 'completion_time': 0.040866878, 'prompt_time': 0.024785743, 'queue_time': 0.078608497, 'total_time': 0.065652621}, 'model_name': 'meta-llama/llama-4-scout-17b-16e-instruct', 'system_fingerprint': 'fp_42ae451038', 'finish_reason': 'tool_calls', 'logprobs': None}, 'type': 'ai', 'name': None, 'id': 'run--74eac1e7-5d51-4c53-8cb5-d00b5996fdc6-0', 'example': False, 'tool_calls': [{'name': 'add', 'args': {'a': 9, 'b': 9}, 'id': 'call_244a', 'type': 'tool_call'}], 'invalid_tool_calls': [], 'usage_metadata': {'input_tokens': 555, 'output_tokens': 17, 'total_tokens': 572}}\n",
      "--------------------Tools Node--------------------\n",
      "{'content': '18', 'additional_kwargs': {}, 'response_metadata': {}, 'type': 'tool', 'name': 'add', 'id': '2fc3964f-a3ce-4038-b6b8-aafd4de8d9b1', 'tool_call_id': 'call_244a', 'artifact': None, 'status': 'success'}\n",
      "--------------------Assistant Node--------------------\n",
      "{'content': '', 'additional_kwargs': {'tool_calls': [{'id': 'call_srk5', 'function': {'arguments': '{\"a\":18, \"b\":2}', 'name': 'divide'}, 'type': 'function'}]}, 'response_metadata': {'token_usage': {'completion_tokens': 17, 'prompt_tokens': 583, 'total_tokens': 600, 'completion_time': 0.037441184, 'prompt_time': 0.02190316, 'queue_time': 0.09692547, 'total_time': 0.059344344}, 'model_name': 'meta-llama/llama-4-scout-17b-16e-instruct', 'system_fingerprint': 'fp_42ae451038', 'finish_reason': 'tool_calls', 'logprobs': None}, 'type': 'ai', 'name': None, 'id': 'run--dfcf304a-51b2-4bed-af2d-25276f85f0e4-0', 'example': False, 'tool_calls': [{'name': 'divide', 'args': {'a': 18, 'b': 2}, 'id': 'call_srk5', 'type': 'tool_call'}], 'invalid_tool_calls': [], 'usage_metadata': {'input_tokens': 583, 'output_tokens': 17, 'total_tokens': 600}}\n",
      "--------------------Tools Node--------------------\n",
      "{'content': '9.0', 'additional_kwargs': {}, 'response_metadata': {}, 'type': 'tool', 'name': 'divide', 'id': '79113206-343b-4b9f-853e-71bb465434bb', 'tool_call_id': 'call_srk5', 'artifact': None, 'status': 'success'}\n",
      "--------------------Assistant Node--------------------\n",
      "{'content': '', 'additional_kwargs': {'tool_calls': [{'id': 'call_cg6q', 'function': {'arguments': '{\"a\":9, \"b\":9}', 'name': 'add'}, 'type': 'function'}]}, 'response_metadata': {'token_usage': {'completion_tokens': 17, 'prompt_tokens': 613, 'total_tokens': 630, 'completion_time': 0.036000558, 'prompt_time': 0.027794843, 'queue_time': 0.044157936999999994, 'total_time': 0.063795401}, 'model_name': 'meta-llama/llama-4-scout-17b-16e-instruct', 'system_fingerprint': 'fp_42ae451038', 'finish_reason': 'tool_calls', 'logprobs': None}, 'type': 'ai', 'name': None, 'id': 'run--d549c6d0-b641-4bf6-9984-6a0949893113-0', 'example': False, 'tool_calls': [{'name': 'add', 'args': {'a': 9, 'b': 9}, 'id': 'call_cg6q', 'type': 'tool_call'}], 'invalid_tool_calls': [], 'usage_metadata': {'input_tokens': 613, 'output_tokens': 17, 'total_tokens': 630}}\n",
      "--------------------Tools Node--------------------\n",
      "{'content': '18', 'additional_kwargs': {}, 'response_metadata': {}, 'type': 'tool', 'name': 'add', 'id': '60e68fe2-1bf9-4cc8-bd93-fdbc7f9cdbcd', 'tool_call_id': 'call_cg6q', 'artifact': None, 'status': 'success'}\n",
      "--------------------Assistant Node--------------------\n",
      "{'content': '', 'additional_kwargs': {'tool_calls': [{'id': 'call_va85', 'function': {'arguments': '{\"a\":18, \"b\":2}', 'name': 'multiply'}, 'type': 'function'}]}, 'response_metadata': {'token_usage': {'completion_tokens': 18, 'prompt_tokens': 641, 'total_tokens': 659, 'completion_time': 0.035415968, 'prompt_time': 0.018362607, 'queue_time': 0.049417263, 'total_time': 0.053778575}, 'model_name': 'meta-llama/llama-4-scout-17b-16e-instruct', 'system_fingerprint': 'fp_37da608fc1', 'finish_reason': 'tool_calls', 'logprobs': None}, 'type': 'ai', 'name': None, 'id': 'run--b3433d9c-a40d-4f2c-b0a2-d03a652e5151-0', 'example': False, 'tool_calls': [{'name': 'multiply', 'args': {'a': 18, 'b': 2}, 'id': 'call_va85', 'type': 'tool_call'}], 'invalid_tool_calls': [], 'usage_metadata': {'input_tokens': 641, 'output_tokens': 18, 'total_tokens': 659}}\n",
      "--------------------Tools Node--------------------\n",
      "{'content': '36', 'additional_kwargs': {}, 'response_metadata': {}, 'type': 'tool', 'name': 'multiply', 'id': 'ba782aec-6826-47d9-a8ed-46b9e67c5715', 'tool_call_id': 'call_va85', 'artifact': None, 'status': 'success'}\n",
      "--------------------Assistant Node--------------------\n",
      "{'content': '', 'additional_kwargs': {'tool_calls': [{'id': 'call_c4th', 'function': {'arguments': '{\"a\":36, \"b\":6}', 'name': 'divide'}, 'type': 'function'}]}, 'response_metadata': {'token_usage': {'completion_tokens': 17, 'prompt_tokens': 670, 'total_tokens': 687, 'completion_time': 0.040053294, 'prompt_time': 0.025500723, 'queue_time': 0.526709328, 'total_time': 0.065554017}, 'model_name': 'meta-llama/llama-4-scout-17b-16e-instruct', 'system_fingerprint': 'fp_37da608fc1', 'finish_reason': 'tool_calls', 'logprobs': None}, 'type': 'ai', 'name': None, 'id': 'run--70d29663-e705-45f2-aff9-d256649e059f-0', 'example': False, 'tool_calls': [{'name': 'divide', 'args': {'a': 36, 'b': 6}, 'id': 'call_c4th', 'type': 'tool_call'}], 'invalid_tool_calls': [], 'usage_metadata': {'input_tokens': 670, 'output_tokens': 17, 'total_tokens': 687}}\n",
      "--------------------Tools Node--------------------\n",
      "{'content': '6.0', 'additional_kwargs': {}, 'response_metadata': {}, 'type': 'tool', 'name': 'divide', 'id': '35b341b6-bfb0-4141-a313-a3ea803854b0', 'tool_call_id': 'call_c4th', 'artifact': None, 'status': 'success'}\n",
      "--------------------Assistant Node--------------------\n",
      "{'content': '', 'additional_kwargs': {'tool_calls': [{'id': 'call_js5m', 'function': {'arguments': '{\"a\":6, \"b\":6}', 'name': 'multiply'}, 'type': 'function'}]}, 'response_metadata': {'token_usage': {'completion_tokens': 18, 'prompt_tokens': 700, 'total_tokens': 718, 'completion_time': 0.042351187, 'prompt_time': 0.033623209, 'queue_time': 0.259225231, 'total_time': 0.075974396}, 'model_name': 'meta-llama/llama-4-scout-17b-16e-instruct', 'system_fingerprint': 'fp_37da608fc1', 'finish_reason': 'tool_calls', 'logprobs': None}, 'type': 'ai', 'name': None, 'id': 'run--05702de7-1809-4b71-963b-7fe9b255bff1-0', 'example': False, 'tool_calls': [{'name': 'multiply', 'args': {'a': 6, 'b': 6}, 'id': 'call_js5m', 'type': 'tool_call'}], 'invalid_tool_calls': [], 'usage_metadata': {'input_tokens': 700, 'output_tokens': 18, 'total_tokens': 718}}\n"
     ]
    }
   ],
   "source": [
    "initial_input = {\"messages\": HumanMessage(content=\"Multiply 2 and 3\")}\n",
    "thread = await client.threads.create()\n",
    "async for chunk in client.runs.stream(\n",
    "    thread[\"thread_id\"],\n",
    "    assistant_id=\"agent\",\n",
    "    input=initial_input,\n",
    "    stream_mode=\"updates\",\n",
    "):\n",
    "    if chunk.data:\n",
    "        assisant_node = chunk.data.get('assistant', {}).get('messages', [])\n",
    "        tool_node = chunk.data.get('tools', {}).get('messages', [])\n",
    "        if assisant_node:\n",
    "            print(\"-\" * 20+\"Assistant Node\"+\"-\" * 20)\n",
    "            print(assisant_node[-1])\n",
    "        elif tool_node:\n",
    "            print(\"-\" * 20+\"Tools Node\"+\"-\" * 20)\n",
    "            print(tool_node[-1])"
   ]
  },
  {
   "cell_type": "markdown",
   "id": "58a61f2f",
   "metadata": {},
   "source": [
    "#### above cell error for the model make this mistake"
   ]
  },
  {
   "cell_type": "code",
   "execution_count": 71,
   "id": "9250b8fd",
   "metadata": {},
   "outputs": [
    {
     "data": {
      "text/plain": [
       "{'messages': [{'content': 'Multiply 2 and 3',\n",
       "   'additional_kwargs': {},\n",
       "   'response_metadata': {},\n",
       "   'type': 'human',\n",
       "   'name': None,\n",
       "   'id': '98f8fd52-46cf-4439-bcce-46d927dd89d0',\n",
       "   'example': False},\n",
       "  {'content': '',\n",
       "   'additional_kwargs': {'tool_calls': [{'id': 'call_d7be',\n",
       "      'function': {'arguments': '{\"a\": 2, \"b\": 3}', 'name': 'multiply'},\n",
       "      'type': 'function'}]},\n",
       "   'response_metadata': {'token_usage': {'completion_tokens': 20,\n",
       "     'prompt_tokens': 352,\n",
       "     'total_tokens': 372,\n",
       "     'completion_time': 0.039347762,\n",
       "     'prompt_time': 0.011261,\n",
       "     'queue_time': 0.04640098,\n",
       "     'total_time': 0.050608762},\n",
       "    'model_name': 'meta-llama/llama-4-scout-17b-16e-instruct',\n",
       "    'system_fingerprint': 'fp_37da608fc1',\n",
       "    'finish_reason': 'tool_calls',\n",
       "    'logprobs': None},\n",
       "   'type': 'ai',\n",
       "   'name': None,\n",
       "   'id': 'run--b7ce52f6-c253-4114-a14b-fcf9f061d3da-0',\n",
       "   'example': False,\n",
       "   'tool_calls': [{'name': 'multiply',\n",
       "     'args': {'a': 2, 'b': 3},\n",
       "     'id': 'call_d7be',\n",
       "     'type': 'tool_call'}],\n",
       "   'invalid_tool_calls': [],\n",
       "   'usage_metadata': {'input_tokens': 352,\n",
       "    'output_tokens': 20,\n",
       "    'total_tokens': 372}},\n",
       "  {'content': '6',\n",
       "   'additional_kwargs': {},\n",
       "   'response_metadata': {},\n",
       "   'type': 'tool',\n",
       "   'name': 'multiply',\n",
       "   'id': '19e76400-7678-41c8-a660-f19c26883f8c',\n",
       "   'tool_call_id': 'call_d7be',\n",
       "   'artifact': None,\n",
       "   'status': 'success'},\n",
       "  {'content': '',\n",
       "   'additional_kwargs': {'tool_calls': [{'id': 'call_kaez',\n",
       "      'function': {'arguments': '{\"a\": 6, \"b\": 6}', 'name': 'add'},\n",
       "      'type': 'function'}]},\n",
       "   'response_metadata': {'token_usage': {'completion_tokens': 19,\n",
       "     'prompt_tokens': 381,\n",
       "     'total_tokens': 400,\n",
       "     'completion_time': 0.038531461,\n",
       "     'prompt_time': 0.012550384,\n",
       "     'queue_time': 0.046178376,\n",
       "     'total_time': 0.051081845},\n",
       "    'model_name': 'meta-llama/llama-4-scout-17b-16e-instruct',\n",
       "    'system_fingerprint': 'fp_37da608fc1',\n",
       "    'finish_reason': 'tool_calls',\n",
       "    'logprobs': None},\n",
       "   'type': 'ai',\n",
       "   'name': None,\n",
       "   'id': 'run--56e3218f-9131-43ba-be41-3b23300fe60b-0',\n",
       "   'example': False,\n",
       "   'tool_calls': [{'name': 'add',\n",
       "     'args': {'a': 6, 'b': 6},\n",
       "     'id': 'call_kaez',\n",
       "     'type': 'tool_call'}],\n",
       "   'invalid_tool_calls': [],\n",
       "   'usage_metadata': {'input_tokens': 381,\n",
       "    'output_tokens': 19,\n",
       "    'total_tokens': 400}},\n",
       "  {'content': '12',\n",
       "   'additional_kwargs': {},\n",
       "   'response_metadata': {},\n",
       "   'type': 'tool',\n",
       "   'name': 'add',\n",
       "   'id': '3c28d785-20dc-4935-bc87-9d72e7c6499c',\n",
       "   'tool_call_id': 'call_kaez',\n",
       "   'artifact': None,\n",
       "   'status': 'success'},\n",
       "  {'content': '',\n",
       "   'additional_kwargs': {'tool_calls': [{'id': 'call_b2sd',\n",
       "      'function': {'arguments': '{\"a\":12, \"b\":3}', 'name': 'divide'},\n",
       "      'type': 'function'}]},\n",
       "   'response_metadata': {'token_usage': {'completion_tokens': 17,\n",
       "     'prompt_tokens': 409,\n",
       "     'total_tokens': 426,\n",
       "     'completion_time': 0.03347629,\n",
       "     'prompt_time': 0.012566663,\n",
       "     'queue_time': 0.050705467,\n",
       "     'total_time': 0.046042953},\n",
       "    'model_name': 'meta-llama/llama-4-scout-17b-16e-instruct',\n",
       "    'system_fingerprint': 'fp_42ae451038',\n",
       "    'finish_reason': 'tool_calls',\n",
       "    'logprobs': None},\n",
       "   'type': 'ai',\n",
       "   'name': None,\n",
       "   'id': 'run--8ac47b60-eda9-4930-b490-1b8504163eb5-0',\n",
       "   'example': False,\n",
       "   'tool_calls': [{'name': 'divide',\n",
       "     'args': {'a': 12, 'b': 3},\n",
       "     'id': 'call_b2sd',\n",
       "     'type': 'tool_call'}],\n",
       "   'invalid_tool_calls': [],\n",
       "   'usage_metadata': {'input_tokens': 409,\n",
       "    'output_tokens': 17,\n",
       "    'total_tokens': 426}},\n",
       "  {'content': '4.0',\n",
       "   'additional_kwargs': {},\n",
       "   'response_metadata': {},\n",
       "   'type': 'tool',\n",
       "   'name': 'divide',\n",
       "   'id': 'b2dbd1cc-7122-4c15-a8d7-5f62bfc635c1',\n",
       "   'tool_call_id': 'call_b2sd',\n",
       "   'artifact': None,\n",
       "   'status': 'success'},\n",
       "  {'content': '',\n",
       "   'additional_kwargs': {'tool_calls': [{'id': 'call_1ska',\n",
       "      'function': {'arguments': '{\"a\":4, \"b\":2}', 'name': 'multiply'},\n",
       "      'type': 'function'}]},\n",
       "   'response_metadata': {'token_usage': {'completion_tokens': 18,\n",
       "     'prompt_tokens': 439,\n",
       "     'total_tokens': 457,\n",
       "     'completion_time': 0.035426757,\n",
       "     'prompt_time': 0.013369301,\n",
       "     'queue_time': 0.046150367,\n",
       "     'total_time': 0.048796058},\n",
       "    'model_name': 'meta-llama/llama-4-scout-17b-16e-instruct',\n",
       "    'system_fingerprint': 'fp_42ae451038',\n",
       "    'finish_reason': 'tool_calls',\n",
       "    'logprobs': None},\n",
       "   'type': 'ai',\n",
       "   'name': None,\n",
       "   'id': 'run--358a56a1-6641-4ac9-878e-edff1e148394-0',\n",
       "   'example': False,\n",
       "   'tool_calls': [{'name': 'multiply',\n",
       "     'args': {'a': 4, 'b': 2},\n",
       "     'id': 'call_1ska',\n",
       "     'type': 'tool_call'}],\n",
       "   'invalid_tool_calls': [],\n",
       "   'usage_metadata': {'input_tokens': 439,\n",
       "    'output_tokens': 18,\n",
       "    'total_tokens': 457}},\n",
       "  {'content': '8',\n",
       "   'additional_kwargs': {},\n",
       "   'response_metadata': {},\n",
       "   'type': 'tool',\n",
       "   'name': 'multiply',\n",
       "   'id': '49c50659-0c67-4298-a17e-04c1d50656ed',\n",
       "   'tool_call_id': 'call_1ska',\n",
       "   'artifact': None,\n",
       "   'status': 'success'},\n",
       "  {'content': '',\n",
       "   'additional_kwargs': {'tool_calls': [{'id': 'call_zsyz',\n",
       "      'function': {'arguments': '{\"a\":8, \"b\":1}', 'name': 'add'},\n",
       "      'type': 'function'}]},\n",
       "   'response_metadata': {'token_usage': {'completion_tokens': 17,\n",
       "     'prompt_tokens': 468,\n",
       "     'total_tokens': 485,\n",
       "     'completion_time': 0.034333606,\n",
       "     'prompt_time': 0.014199807,\n",
       "     'queue_time': 0.045258783,\n",
       "     'total_time': 0.048533413},\n",
       "    'model_name': 'meta-llama/llama-4-scout-17b-16e-instruct',\n",
       "    'system_fingerprint': 'fp_42ae451038',\n",
       "    'finish_reason': 'tool_calls',\n",
       "    'logprobs': None},\n",
       "   'type': 'ai',\n",
       "   'name': None,\n",
       "   'id': 'run--95751790-6022-4610-91d9-44d08bd051b5-0',\n",
       "   'example': False,\n",
       "   'tool_calls': [{'name': 'add',\n",
       "     'args': {'a': 8, 'b': 1},\n",
       "     'id': 'call_zsyz',\n",
       "     'type': 'tool_call'}],\n",
       "   'invalid_tool_calls': [],\n",
       "   'usage_metadata': {'input_tokens': 468,\n",
       "    'output_tokens': 17,\n",
       "    'total_tokens': 485}},\n",
       "  {'content': '9',\n",
       "   'additional_kwargs': {},\n",
       "   'response_metadata': {},\n",
       "   'type': 'tool',\n",
       "   'name': 'add',\n",
       "   'id': '8289ea0c-0771-4cb6-94e3-48ae27b08953',\n",
       "   'tool_call_id': 'call_zsyz',\n",
       "   'artifact': None,\n",
       "   'status': 'success'},\n",
       "  {'content': '',\n",
       "   'additional_kwargs': {'tool_calls': [{'id': 'call_vpg2',\n",
       "      'function': {'arguments': '{\"a\":9, \"b\":3}', 'name': 'divide'},\n",
       "      'type': 'function'}]},\n",
       "   'response_metadata': {'token_usage': {'completion_tokens': 17,\n",
       "     'prompt_tokens': 496,\n",
       "     'total_tokens': 513,\n",
       "     'completion_time': 0.03346878,\n",
       "     'prompt_time': 0.016075326,\n",
       "     'queue_time': 0.044127731999999996,\n",
       "     'total_time': 0.049544106},\n",
       "    'model_name': 'meta-llama/llama-4-scout-17b-16e-instruct',\n",
       "    'system_fingerprint': 'fp_42ae451038',\n",
       "    'finish_reason': 'tool_calls',\n",
       "    'logprobs': None},\n",
       "   'type': 'ai',\n",
       "   'name': None,\n",
       "   'id': 'run--38dd7bd0-8914-430e-af1d-56f6cc04e31e-0',\n",
       "   'example': False,\n",
       "   'tool_calls': [{'name': 'divide',\n",
       "     'args': {'a': 9, 'b': 3},\n",
       "     'id': 'call_vpg2',\n",
       "     'type': 'tool_call'}],\n",
       "   'invalid_tool_calls': [],\n",
       "   'usage_metadata': {'input_tokens': 496,\n",
       "    'output_tokens': 17,\n",
       "    'total_tokens': 513}},\n",
       "  {'content': '3.0',\n",
       "   'additional_kwargs': {},\n",
       "   'response_metadata': {},\n",
       "   'type': 'tool',\n",
       "   'name': 'divide',\n",
       "   'id': '90f6c307-6abf-4404-a295-c3ad90f4a3d8',\n",
       "   'tool_call_id': 'call_vpg2',\n",
       "   'artifact': None,\n",
       "   'status': 'success'},\n",
       "  {'content': '',\n",
       "   'additional_kwargs': {'tool_calls': [{'id': 'call_dgb1',\n",
       "      'function': {'arguments': '{\"a\":3, \"b\":3}', 'name': 'multiply'},\n",
       "      'type': 'function'}]},\n",
       "   'response_metadata': {'token_usage': {'completion_tokens': 18,\n",
       "     'prompt_tokens': 526,\n",
       "     'total_tokens': 544,\n",
       "     'completion_time': 0.044695785,\n",
       "     'prompt_time': 0.017113508,\n",
       "     'queue_time': 0.044891782,\n",
       "     'total_time': 0.061809293},\n",
       "    'model_name': 'meta-llama/llama-4-scout-17b-16e-instruct',\n",
       "    'system_fingerprint': 'fp_42ae451038',\n",
       "    'finish_reason': 'tool_calls',\n",
       "    'logprobs': None},\n",
       "   'type': 'ai',\n",
       "   'name': None,\n",
       "   'id': 'run--dc311870-cf81-4b46-8bdc-baa7f0f03f86-0',\n",
       "   'example': False,\n",
       "   'tool_calls': [{'name': 'multiply',\n",
       "     'args': {'a': 3, 'b': 3},\n",
       "     'id': 'call_dgb1',\n",
       "     'type': 'tool_call'}],\n",
       "   'invalid_tool_calls': [],\n",
       "   'usage_metadata': {'input_tokens': 526,\n",
       "    'output_tokens': 18,\n",
       "    'total_tokens': 544}},\n",
       "  {'content': '9',\n",
       "   'additional_kwargs': {},\n",
       "   'response_metadata': {},\n",
       "   'type': 'tool',\n",
       "   'name': 'multiply',\n",
       "   'id': '7ec1f89d-e3eb-4967-b6c3-00c8fb675b84',\n",
       "   'tool_call_id': 'call_dgb1',\n",
       "   'artifact': None,\n",
       "   'status': 'success'},\n",
       "  {'content': '',\n",
       "   'additional_kwargs': {'tool_calls': [{'id': 'call_244a',\n",
       "      'function': {'arguments': '{\"a\":9, \"b\":9}', 'name': 'add'},\n",
       "      'type': 'function'}]},\n",
       "   'response_metadata': {'token_usage': {'completion_tokens': 17,\n",
       "     'prompt_tokens': 555,\n",
       "     'total_tokens': 572,\n",
       "     'completion_time': 0.040866878,\n",
       "     'prompt_time': 0.024785743,\n",
       "     'queue_time': 0.078608497,\n",
       "     'total_time': 0.065652621},\n",
       "    'model_name': 'meta-llama/llama-4-scout-17b-16e-instruct',\n",
       "    'system_fingerprint': 'fp_42ae451038',\n",
       "    'finish_reason': 'tool_calls',\n",
       "    'logprobs': None},\n",
       "   'type': 'ai',\n",
       "   'name': None,\n",
       "   'id': 'run--74eac1e7-5d51-4c53-8cb5-d00b5996fdc6-0',\n",
       "   'example': False,\n",
       "   'tool_calls': [{'name': 'add',\n",
       "     'args': {'a': 9, 'b': 9},\n",
       "     'id': 'call_244a',\n",
       "     'type': 'tool_call'}],\n",
       "   'invalid_tool_calls': [],\n",
       "   'usage_metadata': {'input_tokens': 555,\n",
       "    'output_tokens': 17,\n",
       "    'total_tokens': 572}},\n",
       "  {'content': '18',\n",
       "   'additional_kwargs': {},\n",
       "   'response_metadata': {},\n",
       "   'type': 'tool',\n",
       "   'name': 'add',\n",
       "   'id': '2fc3964f-a3ce-4038-b6b8-aafd4de8d9b1',\n",
       "   'tool_call_id': 'call_244a',\n",
       "   'artifact': None,\n",
       "   'status': 'success'},\n",
       "  {'content': '',\n",
       "   'additional_kwargs': {'tool_calls': [{'id': 'call_srk5',\n",
       "      'function': {'arguments': '{\"a\":18, \"b\":2}', 'name': 'divide'},\n",
       "      'type': 'function'}]},\n",
       "   'response_metadata': {'token_usage': {'completion_tokens': 17,\n",
       "     'prompt_tokens': 583,\n",
       "     'total_tokens': 600,\n",
       "     'completion_time': 0.037441184,\n",
       "     'prompt_time': 0.02190316,\n",
       "     'queue_time': 0.09692547,\n",
       "     'total_time': 0.059344344},\n",
       "    'model_name': 'meta-llama/llama-4-scout-17b-16e-instruct',\n",
       "    'system_fingerprint': 'fp_42ae451038',\n",
       "    'finish_reason': 'tool_calls',\n",
       "    'logprobs': None},\n",
       "   'type': 'ai',\n",
       "   'name': None,\n",
       "   'id': 'run--dfcf304a-51b2-4bed-af2d-25276f85f0e4-0',\n",
       "   'example': False,\n",
       "   'tool_calls': [{'name': 'divide',\n",
       "     'args': {'a': 18, 'b': 2},\n",
       "     'id': 'call_srk5',\n",
       "     'type': 'tool_call'}],\n",
       "   'invalid_tool_calls': [],\n",
       "   'usage_metadata': {'input_tokens': 583,\n",
       "    'output_tokens': 17,\n",
       "    'total_tokens': 600}}]}"
      ]
     },
     "execution_count": 71,
     "metadata": {},
     "output_type": "execute_result"
    }
   ],
   "source": [
    "states = await client.threads.get_history(thread['thread_id'])\n",
    "to_fork = states[-2]\n",
    "to_fork['values']"
   ]
  },
  {
   "cell_type": "code",
   "execution_count": 72,
   "id": "6ab7631f",
   "metadata": {},
   "outputs": [
    {
     "data": {
      "text/plain": [
       "'98f8fd52-46cf-4439-bcce-46d927dd89d0'"
      ]
     },
     "execution_count": 72,
     "metadata": {},
     "output_type": "execute_result"
    }
   ],
   "source": [
    "to_fork['values']['messages'][0]['id']"
   ]
  },
  {
   "cell_type": "code",
   "execution_count": 73,
   "id": "a7c1ce33",
   "metadata": {},
   "outputs": [
    {
     "data": {
      "text/plain": [
       "['tools']"
      ]
     },
     "execution_count": 73,
     "metadata": {},
     "output_type": "execute_result"
    }
   ],
   "source": [
    "to_fork['next']"
   ]
  },
  {
   "cell_type": "code",
   "execution_count": 74,
   "id": "29a0b513",
   "metadata": {},
   "outputs": [
    {
     "data": {
      "text/plain": [
       "{'checkpoint_id': '1f02c96e-3296-6552-8010-4973798ae2d0',\n",
       " 'thread_id': 'e4f1dbdc-da65-43e9-8cac-a9d942cf145d',\n",
       " 'checkpoint_ns': ''}"
      ]
     },
     "execution_count": 74,
     "metadata": {},
     "output_type": "execute_result"
    }
   ],
   "source": [
    "to_fork['parent_checkpoint']"
   ]
  },
  {
   "cell_type": "code",
   "execution_count": 75,
   "id": "5d5314e4",
   "metadata": {},
   "outputs": [],
   "source": [
    "forked_input = {\"messages\": HumanMessage(content=\"Multiply 3 and 3\",\n",
    "                                         id=to_fork['values']['messages'][0]['id'])}\n",
    "\n",
    "forked_config = await client.threads.update_state(\n",
    "    thread[\"thread_id\"],\n",
    "    forked_input,\n",
    "    checkpoint_id=to_fork['checkpoint_id']\n",
    ")"
   ]
  },
  {
   "cell_type": "code",
   "execution_count": 76,
   "id": "61eb991b",
   "metadata": {},
   "outputs": [
    {
     "data": {
      "text/plain": [
       "{'checkpoint': {'thread_id': 'e4f1dbdc-da65-43e9-8cac-a9d942cf145d',\n",
       "  'checkpoint_ns': '',\n",
       "  'checkpoint_id': '1f02c96e-4516-6175-8012-e1bae61a8c9a'},\n",
       " 'configurable': {'thread_id': 'e4f1dbdc-da65-43e9-8cac-a9d942cf145d',\n",
       "  'checkpoint_ns': '',\n",
       "  'checkpoint_id': '1f02c96e-4516-6175-8012-e1bae61a8c9a'},\n",
       " 'checkpoint_id': '1f02c96e-4516-6175-8012-e1bae61a8c9a'}"
      ]
     },
     "execution_count": 76,
     "metadata": {},
     "output_type": "execute_result"
    }
   ],
   "source": [
    "forked_config"
   ]
  },
  {
   "cell_type": "code",
   "execution_count": 77,
   "id": "5d784a21",
   "metadata": {},
   "outputs": [
    {
     "data": {
      "text/plain": [
       "{'values': {'messages': [{'content': 'Multiply 3 and 3',\n",
       "    'additional_kwargs': {},\n",
       "    'response_metadata': {},\n",
       "    'type': 'human',\n",
       "    'name': None,\n",
       "    'id': '98f8fd52-46cf-4439-bcce-46d927dd89d0',\n",
       "    'example': False},\n",
       "   {'content': '',\n",
       "    'additional_kwargs': {'tool_calls': [{'id': 'call_d7be',\n",
       "       'function': {'arguments': '{\"a\": 2, \"b\": 3}', 'name': 'multiply'},\n",
       "       'type': 'function'}]},\n",
       "    'response_metadata': {'token_usage': {'completion_tokens': 20,\n",
       "      'prompt_tokens': 352,\n",
       "      'total_tokens': 372,\n",
       "      'completion_time': 0.039347762,\n",
       "      'prompt_time': 0.011261,\n",
       "      'queue_time': 0.04640098,\n",
       "      'total_time': 0.050608762},\n",
       "     'model_name': 'meta-llama/llama-4-scout-17b-16e-instruct',\n",
       "     'system_fingerprint': 'fp_37da608fc1',\n",
       "     'finish_reason': 'tool_calls',\n",
       "     'logprobs': None},\n",
       "    'type': 'ai',\n",
       "    'name': None,\n",
       "    'id': 'run--b7ce52f6-c253-4114-a14b-fcf9f061d3da-0',\n",
       "    'example': False,\n",
       "    'tool_calls': [{'name': 'multiply',\n",
       "      'args': {'a': 2, 'b': 3},\n",
       "      'id': 'call_d7be',\n",
       "      'type': 'tool_call'}],\n",
       "    'invalid_tool_calls': [],\n",
       "    'usage_metadata': {'input_tokens': 352,\n",
       "     'output_tokens': 20,\n",
       "     'total_tokens': 372}},\n",
       "   {'content': '6',\n",
       "    'additional_kwargs': {},\n",
       "    'response_metadata': {},\n",
       "    'type': 'tool',\n",
       "    'name': 'multiply',\n",
       "    'id': '19e76400-7678-41c8-a660-f19c26883f8c',\n",
       "    'tool_call_id': 'call_d7be',\n",
       "    'artifact': None,\n",
       "    'status': 'success'},\n",
       "   {'content': '',\n",
       "    'additional_kwargs': {'tool_calls': [{'id': 'call_kaez',\n",
       "       'function': {'arguments': '{\"a\": 6, \"b\": 6}', 'name': 'add'},\n",
       "       'type': 'function'}]},\n",
       "    'response_metadata': {'token_usage': {'completion_tokens': 19,\n",
       "      'prompt_tokens': 381,\n",
       "      'total_tokens': 400,\n",
       "      'completion_time': 0.038531461,\n",
       "      'prompt_time': 0.012550384,\n",
       "      'queue_time': 0.046178376,\n",
       "      'total_time': 0.051081845},\n",
       "     'model_name': 'meta-llama/llama-4-scout-17b-16e-instruct',\n",
       "     'system_fingerprint': 'fp_37da608fc1',\n",
       "     'finish_reason': 'tool_calls',\n",
       "     'logprobs': None},\n",
       "    'type': 'ai',\n",
       "    'name': None,\n",
       "    'id': 'run--56e3218f-9131-43ba-be41-3b23300fe60b-0',\n",
       "    'example': False,\n",
       "    'tool_calls': [{'name': 'add',\n",
       "      'args': {'a': 6, 'b': 6},\n",
       "      'id': 'call_kaez',\n",
       "      'type': 'tool_call'}],\n",
       "    'invalid_tool_calls': [],\n",
       "    'usage_metadata': {'input_tokens': 381,\n",
       "     'output_tokens': 19,\n",
       "     'total_tokens': 400}},\n",
       "   {'content': '12',\n",
       "    'additional_kwargs': {},\n",
       "    'response_metadata': {},\n",
       "    'type': 'tool',\n",
       "    'name': 'add',\n",
       "    'id': '3c28d785-20dc-4935-bc87-9d72e7c6499c',\n",
       "    'tool_call_id': 'call_kaez',\n",
       "    'artifact': None,\n",
       "    'status': 'success'},\n",
       "   {'content': '',\n",
       "    'additional_kwargs': {'tool_calls': [{'id': 'call_b2sd',\n",
       "       'function': {'arguments': '{\"a\":12, \"b\":3}', 'name': 'divide'},\n",
       "       'type': 'function'}]},\n",
       "    'response_metadata': {'token_usage': {'completion_tokens': 17,\n",
       "      'prompt_tokens': 409,\n",
       "      'total_tokens': 426,\n",
       "      'completion_time': 0.03347629,\n",
       "      'prompt_time': 0.012566663,\n",
       "      'queue_time': 0.050705467,\n",
       "      'total_time': 0.046042953},\n",
       "     'model_name': 'meta-llama/llama-4-scout-17b-16e-instruct',\n",
       "     'system_fingerprint': 'fp_42ae451038',\n",
       "     'finish_reason': 'tool_calls',\n",
       "     'logprobs': None},\n",
       "    'type': 'ai',\n",
       "    'name': None,\n",
       "    'id': 'run--8ac47b60-eda9-4930-b490-1b8504163eb5-0',\n",
       "    'example': False,\n",
       "    'tool_calls': [{'name': 'divide',\n",
       "      'args': {'a': 12, 'b': 3},\n",
       "      'id': 'call_b2sd',\n",
       "      'type': 'tool_call'}],\n",
       "    'invalid_tool_calls': [],\n",
       "    'usage_metadata': {'input_tokens': 409,\n",
       "     'output_tokens': 17,\n",
       "     'total_tokens': 426}},\n",
       "   {'content': '4.0',\n",
       "    'additional_kwargs': {},\n",
       "    'response_metadata': {},\n",
       "    'type': 'tool',\n",
       "    'name': 'divide',\n",
       "    'id': 'b2dbd1cc-7122-4c15-a8d7-5f62bfc635c1',\n",
       "    'tool_call_id': 'call_b2sd',\n",
       "    'artifact': None,\n",
       "    'status': 'success'},\n",
       "   {'content': '',\n",
       "    'additional_kwargs': {'tool_calls': [{'id': 'call_1ska',\n",
       "       'function': {'arguments': '{\"a\":4, \"b\":2}', 'name': 'multiply'},\n",
       "       'type': 'function'}]},\n",
       "    'response_metadata': {'token_usage': {'completion_tokens': 18,\n",
       "      'prompt_tokens': 439,\n",
       "      'total_tokens': 457,\n",
       "      'completion_time': 0.035426757,\n",
       "      'prompt_time': 0.013369301,\n",
       "      'queue_time': 0.046150367,\n",
       "      'total_time': 0.048796058},\n",
       "     'model_name': 'meta-llama/llama-4-scout-17b-16e-instruct',\n",
       "     'system_fingerprint': 'fp_42ae451038',\n",
       "     'finish_reason': 'tool_calls',\n",
       "     'logprobs': None},\n",
       "    'type': 'ai',\n",
       "    'name': None,\n",
       "    'id': 'run--358a56a1-6641-4ac9-878e-edff1e148394-0',\n",
       "    'example': False,\n",
       "    'tool_calls': [{'name': 'multiply',\n",
       "      'args': {'a': 4, 'b': 2},\n",
       "      'id': 'call_1ska',\n",
       "      'type': 'tool_call'}],\n",
       "    'invalid_tool_calls': [],\n",
       "    'usage_metadata': {'input_tokens': 439,\n",
       "     'output_tokens': 18,\n",
       "     'total_tokens': 457}},\n",
       "   {'content': '8',\n",
       "    'additional_kwargs': {},\n",
       "    'response_metadata': {},\n",
       "    'type': 'tool',\n",
       "    'name': 'multiply',\n",
       "    'id': '49c50659-0c67-4298-a17e-04c1d50656ed',\n",
       "    'tool_call_id': 'call_1ska',\n",
       "    'artifact': None,\n",
       "    'status': 'success'},\n",
       "   {'content': '',\n",
       "    'additional_kwargs': {'tool_calls': [{'id': 'call_zsyz',\n",
       "       'function': {'arguments': '{\"a\":8, \"b\":1}', 'name': 'add'},\n",
       "       'type': 'function'}]},\n",
       "    'response_metadata': {'token_usage': {'completion_tokens': 17,\n",
       "      'prompt_tokens': 468,\n",
       "      'total_tokens': 485,\n",
       "      'completion_time': 0.034333606,\n",
       "      'prompt_time': 0.014199807,\n",
       "      'queue_time': 0.045258783,\n",
       "      'total_time': 0.048533413},\n",
       "     'model_name': 'meta-llama/llama-4-scout-17b-16e-instruct',\n",
       "     'system_fingerprint': 'fp_42ae451038',\n",
       "     'finish_reason': 'tool_calls',\n",
       "     'logprobs': None},\n",
       "    'type': 'ai',\n",
       "    'name': None,\n",
       "    'id': 'run--95751790-6022-4610-91d9-44d08bd051b5-0',\n",
       "    'example': False,\n",
       "    'tool_calls': [{'name': 'add',\n",
       "      'args': {'a': 8, 'b': 1},\n",
       "      'id': 'call_zsyz',\n",
       "      'type': 'tool_call'}],\n",
       "    'invalid_tool_calls': [],\n",
       "    'usage_metadata': {'input_tokens': 468,\n",
       "     'output_tokens': 17,\n",
       "     'total_tokens': 485}},\n",
       "   {'content': '9',\n",
       "    'additional_kwargs': {},\n",
       "    'response_metadata': {},\n",
       "    'type': 'tool',\n",
       "    'name': 'add',\n",
       "    'id': '8289ea0c-0771-4cb6-94e3-48ae27b08953',\n",
       "    'tool_call_id': 'call_zsyz',\n",
       "    'artifact': None,\n",
       "    'status': 'success'},\n",
       "   {'content': '',\n",
       "    'additional_kwargs': {'tool_calls': [{'id': 'call_vpg2',\n",
       "       'function': {'arguments': '{\"a\":9, \"b\":3}', 'name': 'divide'},\n",
       "       'type': 'function'}]},\n",
       "    'response_metadata': {'token_usage': {'completion_tokens': 17,\n",
       "      'prompt_tokens': 496,\n",
       "      'total_tokens': 513,\n",
       "      'completion_time': 0.03346878,\n",
       "      'prompt_time': 0.016075326,\n",
       "      'queue_time': 0.044127731999999996,\n",
       "      'total_time': 0.049544106},\n",
       "     'model_name': 'meta-llama/llama-4-scout-17b-16e-instruct',\n",
       "     'system_fingerprint': 'fp_42ae451038',\n",
       "     'finish_reason': 'tool_calls',\n",
       "     'logprobs': None},\n",
       "    'type': 'ai',\n",
       "    'name': None,\n",
       "    'id': 'run--38dd7bd0-8914-430e-af1d-56f6cc04e31e-0',\n",
       "    'example': False,\n",
       "    'tool_calls': [{'name': 'divide',\n",
       "      'args': {'a': 9, 'b': 3},\n",
       "      'id': 'call_vpg2',\n",
       "      'type': 'tool_call'}],\n",
       "    'invalid_tool_calls': [],\n",
       "    'usage_metadata': {'input_tokens': 496,\n",
       "     'output_tokens': 17,\n",
       "     'total_tokens': 513}},\n",
       "   {'content': '3.0',\n",
       "    'additional_kwargs': {},\n",
       "    'response_metadata': {},\n",
       "    'type': 'tool',\n",
       "    'name': 'divide',\n",
       "    'id': '90f6c307-6abf-4404-a295-c3ad90f4a3d8',\n",
       "    'tool_call_id': 'call_vpg2',\n",
       "    'artifact': None,\n",
       "    'status': 'success'},\n",
       "   {'content': '',\n",
       "    'additional_kwargs': {'tool_calls': [{'id': 'call_dgb1',\n",
       "       'function': {'arguments': '{\"a\":3, \"b\":3}', 'name': 'multiply'},\n",
       "       'type': 'function'}]},\n",
       "    'response_metadata': {'token_usage': {'completion_tokens': 18,\n",
       "      'prompt_tokens': 526,\n",
       "      'total_tokens': 544,\n",
       "      'completion_time': 0.044695785,\n",
       "      'prompt_time': 0.017113508,\n",
       "      'queue_time': 0.044891782,\n",
       "      'total_time': 0.061809293},\n",
       "     'model_name': 'meta-llama/llama-4-scout-17b-16e-instruct',\n",
       "     'system_fingerprint': 'fp_42ae451038',\n",
       "     'finish_reason': 'tool_calls',\n",
       "     'logprobs': None},\n",
       "    'type': 'ai',\n",
       "    'name': None,\n",
       "    'id': 'run--dc311870-cf81-4b46-8bdc-baa7f0f03f86-0',\n",
       "    'example': False,\n",
       "    'tool_calls': [{'name': 'multiply',\n",
       "      'args': {'a': 3, 'b': 3},\n",
       "      'id': 'call_dgb1',\n",
       "      'type': 'tool_call'}],\n",
       "    'invalid_tool_calls': [],\n",
       "    'usage_metadata': {'input_tokens': 526,\n",
       "     'output_tokens': 18,\n",
       "     'total_tokens': 544}},\n",
       "   {'content': '9',\n",
       "    'additional_kwargs': {},\n",
       "    'response_metadata': {},\n",
       "    'type': 'tool',\n",
       "    'name': 'multiply',\n",
       "    'id': '7ec1f89d-e3eb-4967-b6c3-00c8fb675b84',\n",
       "    'tool_call_id': 'call_dgb1',\n",
       "    'artifact': None,\n",
       "    'status': 'success'},\n",
       "   {'content': '',\n",
       "    'additional_kwargs': {'tool_calls': [{'id': 'call_244a',\n",
       "       'function': {'arguments': '{\"a\":9, \"b\":9}', 'name': 'add'},\n",
       "       'type': 'function'}]},\n",
       "    'response_metadata': {'token_usage': {'completion_tokens': 17,\n",
       "      'prompt_tokens': 555,\n",
       "      'total_tokens': 572,\n",
       "      'completion_time': 0.040866878,\n",
       "      'prompt_time': 0.024785743,\n",
       "      'queue_time': 0.078608497,\n",
       "      'total_time': 0.065652621},\n",
       "     'model_name': 'meta-llama/llama-4-scout-17b-16e-instruct',\n",
       "     'system_fingerprint': 'fp_42ae451038',\n",
       "     'finish_reason': 'tool_calls',\n",
       "     'logprobs': None},\n",
       "    'type': 'ai',\n",
       "    'name': None,\n",
       "    'id': 'run--74eac1e7-5d51-4c53-8cb5-d00b5996fdc6-0',\n",
       "    'example': False,\n",
       "    'tool_calls': [{'name': 'add',\n",
       "      'args': {'a': 9, 'b': 9},\n",
       "      'id': 'call_244a',\n",
       "      'type': 'tool_call'}],\n",
       "    'invalid_tool_calls': [],\n",
       "    'usage_metadata': {'input_tokens': 555,\n",
       "     'output_tokens': 17,\n",
       "     'total_tokens': 572}},\n",
       "   {'content': '18',\n",
       "    'additional_kwargs': {},\n",
       "    'response_metadata': {},\n",
       "    'type': 'tool',\n",
       "    'name': 'add',\n",
       "    'id': '2fc3964f-a3ce-4038-b6b8-aafd4de8d9b1',\n",
       "    'tool_call_id': 'call_244a',\n",
       "    'artifact': None,\n",
       "    'status': 'success'},\n",
       "   {'content': '',\n",
       "    'additional_kwargs': {'tool_calls': [{'id': 'call_srk5',\n",
       "       'function': {'arguments': '{\"a\":18, \"b\":2}', 'name': 'divide'},\n",
       "       'type': 'function'}]},\n",
       "    'response_metadata': {'token_usage': {'completion_tokens': 17,\n",
       "      'prompt_tokens': 583,\n",
       "      'total_tokens': 600,\n",
       "      'completion_time': 0.037441184,\n",
       "      'prompt_time': 0.02190316,\n",
       "      'queue_time': 0.09692547,\n",
       "      'total_time': 0.059344344},\n",
       "     'model_name': 'meta-llama/llama-4-scout-17b-16e-instruct',\n",
       "     'system_fingerprint': 'fp_42ae451038',\n",
       "     'finish_reason': 'tool_calls',\n",
       "     'logprobs': None},\n",
       "    'type': 'ai',\n",
       "    'name': None,\n",
       "    'id': 'run--dfcf304a-51b2-4bed-af2d-25276f85f0e4-0',\n",
       "    'example': False,\n",
       "    'tool_calls': [{'name': 'divide',\n",
       "      'args': {'a': 18, 'b': 2},\n",
       "      'id': 'call_srk5',\n",
       "      'type': 'tool_call'}],\n",
       "    'invalid_tool_calls': [],\n",
       "    'usage_metadata': {'input_tokens': 583,\n",
       "     'output_tokens': 17,\n",
       "     'total_tokens': 600}}]},\n",
       " 'next': ['tools'],\n",
       " 'tasks': [{'id': '8daca90c-062d-10e5-8ee6-359572bf6b71',\n",
       "   'name': 'tools',\n",
       "   'path': ['__pregel_pull', 'tools'],\n",
       "   'error': None,\n",
       "   'interrupts': [],\n",
       "   'checkpoint': None,\n",
       "   'state': None,\n",
       "   'result': None}],\n",
       " 'metadata': {'graph_id': 'agent',\n",
       "  'thread_id': 'e4f1dbdc-da65-43e9-8cac-a9d942cf145d',\n",
       "  'checkpoint_id': '1f02c96e-34f5-643c-8011-d8bb4f99ac60',\n",
       "  'checkpoint_ns': '',\n",
       "  'user-agent': 'langgraph-sdk-py/0.1.66',\n",
       "  'langgraph_auth_user': None,\n",
       "  'langgraph_auth_user_id': '',\n",
       "  'langgraph_auth_permissions': [],\n",
       "  'assistant_id': 'fe096781-5601-53d2-b2f6-0d3403f7e9ca',\n",
       "  'user_id': '',\n",
       "  'created_by': 'system',\n",
       "  'run_attempt': 1,\n",
       "  'langgraph_version': '0.4.1',\n",
       "  'langgraph_plan': 'developer',\n",
       "  'langgraph_host': 'self-hosted',\n",
       "  'langgraph_api_url': 'http://127.0.0.1:2024',\n",
       "  'run_id': '1f02c96e-1c9c-605f-b99d-d1127acb8941',\n",
       "  'source': 'update',\n",
       "  'writes': {'assistant': {'messages': {'content': 'Multiply 3 and 3',\n",
       "     'additional_kwargs': {},\n",
       "     'response_metadata': {},\n",
       "     'type': 'human',\n",
       "     'name': None,\n",
       "     'id': '98f8fd52-46cf-4439-bcce-46d927dd89d0',\n",
       "     'example': False}}},\n",
       "  'step': 18,\n",
       "  'parents': {}},\n",
       " 'created_at': '2025-05-09T05:31:43.574053+00:00',\n",
       " 'checkpoint': {'checkpoint_id': '1f02c96e-4516-6175-8012-e1bae61a8c9a',\n",
       "  'thread_id': 'e4f1dbdc-da65-43e9-8cac-a9d942cf145d',\n",
       "  'checkpoint_ns': ''},\n",
       " 'parent_checkpoint': {'checkpoint_id': '1f02c96e-34f5-643c-8011-d8bb4f99ac60',\n",
       "  'thread_id': 'e4f1dbdc-da65-43e9-8cac-a9d942cf145d',\n",
       "  'checkpoint_ns': ''},\n",
       " 'checkpoint_id': '1f02c96e-4516-6175-8012-e1bae61a8c9a',\n",
       " 'parent_checkpoint_id': '1f02c96e-34f5-643c-8011-d8bb4f99ac60'}"
      ]
     },
     "execution_count": 77,
     "metadata": {},
     "output_type": "execute_result"
    }
   ],
   "source": [
    "states = await client.threads.get_history(thread['thread_id'])\n",
    "states[0]"
   ]
  },
  {
   "cell_type": "code",
   "execution_count": 78,
   "id": "513f6407",
   "metadata": {},
   "outputs": [
    {
     "name": "stdout",
     "output_type": "stream",
     "text": [
      "--------------------Tools Node--------------------\n",
      "{'content': '9.0', 'additional_kwargs': {}, 'response_metadata': {}, 'type': 'tool', 'name': 'divide', 'id': '2837dfb2-7a52-4a9f-8661-221e15eb5bd3', 'tool_call_id': 'call_srk5', 'artifact': None, 'status': 'success'}\n",
      "--------------------Assistant Node--------------------\n",
      "{'content': '', 'additional_kwargs': {'tool_calls': [{'id': 'call_7ncg', 'function': {'arguments': '{\"a\":9, \"b\":9}', 'name': 'add'}, 'type': 'function'}]}, 'response_metadata': {'token_usage': {'completion_tokens': 17, 'prompt_tokens': 613, 'total_tokens': 630, 'completion_time': 0.037910179, 'prompt_time': 0.028719766, 'queue_time': 0.07796789300000001, 'total_time': 0.066629945}, 'model_name': 'meta-llama/llama-4-scout-17b-16e-instruct', 'system_fingerprint': 'fp_37da608fc1', 'finish_reason': 'tool_calls', 'logprobs': None}, 'type': 'ai', 'name': None, 'id': 'run--510d2e8f-894d-4ed1-8464-397d114de931-0', 'example': False, 'tool_calls': [{'name': 'add', 'args': {'a': 9, 'b': 9}, 'id': 'call_7ncg', 'type': 'tool_call'}], 'invalid_tool_calls': [], 'usage_metadata': {'input_tokens': 613, 'output_tokens': 17, 'total_tokens': 630}}\n",
      "--------------------Tools Node--------------------\n",
      "{'content': '18', 'additional_kwargs': {}, 'response_metadata': {}, 'type': 'tool', 'name': 'add', 'id': '654514aa-edfc-45d5-be7d-1ccc5411eee8', 'tool_call_id': 'call_7ncg', 'artifact': None, 'status': 'success'}\n",
      "--------------------Assistant Node--------------------\n",
      "{'content': '', 'additional_kwargs': {'tool_calls': [{'id': 'call_zxcw', 'function': {'arguments': '{\"a\":18, \"b\":18}', 'name': 'add'}, 'type': 'function'}]}, 'response_metadata': {'token_usage': {'completion_tokens': 17, 'prompt_tokens': 641, 'total_tokens': 658, 'completion_time': 0.03348129, 'prompt_time': 0.021391838, 'queue_time': 0.045058192, 'total_time': 0.054873128}, 'model_name': 'meta-llama/llama-4-scout-17b-16e-instruct', 'system_fingerprint': 'fp_42ae451038', 'finish_reason': 'tool_calls', 'logprobs': None}, 'type': 'ai', 'name': None, 'id': 'run--49e67431-6283-48bd-adb5-4a48cc51fcc7-0', 'example': False, 'tool_calls': [{'name': 'add', 'args': {'a': 18, 'b': 18}, 'id': 'call_zxcw', 'type': 'tool_call'}], 'invalid_tool_calls': [], 'usage_metadata': {'input_tokens': 641, 'output_tokens': 17, 'total_tokens': 658}}\n",
      "--------------------Tools Node--------------------\n",
      "{'content': '36', 'additional_kwargs': {}, 'response_metadata': {}, 'type': 'tool', 'name': 'add', 'id': 'c9f94ce7-a230-42c8-a9d8-192dc8ff0699', 'tool_call_id': 'call_zxcw', 'artifact': None, 'status': 'success'}\n",
      "--------------------Assistant Node--------------------\n",
      "{'content': '', 'additional_kwargs': {'tool_calls': [{'id': 'call_da15', 'function': {'arguments': '{\"a\":36, \"b\":36}', 'name': 'add'}, 'type': 'function'}]}, 'response_metadata': {'token_usage': {'completion_tokens': 17, 'prompt_tokens': 669, 'total_tokens': 686, 'completion_time': 0.035986912, 'prompt_time': 0.019018929, 'queue_time': 0.044992011, 'total_time': 0.055005841}, 'model_name': 'meta-llama/llama-4-scout-17b-16e-instruct', 'system_fingerprint': 'fp_37da608fc1', 'finish_reason': 'tool_calls', 'logprobs': None}, 'type': 'ai', 'name': None, 'id': 'run--ca3dae05-b71a-4be0-b8c2-7f04cd8ebad3-0', 'example': False, 'tool_calls': [{'name': 'add', 'args': {'a': 36, 'b': 36}, 'id': 'call_da15', 'type': 'tool_call'}], 'invalid_tool_calls': [], 'usage_metadata': {'input_tokens': 669, 'output_tokens': 17, 'total_tokens': 686}}\n",
      "--------------------Tools Node--------------------\n",
      "{'content': '72', 'additional_kwargs': {}, 'response_metadata': {}, 'type': 'tool', 'name': 'add', 'id': 'e36aa2d8-23c0-434f-a3c9-32587be81612', 'tool_call_id': 'call_da15', 'artifact': None, 'status': 'success'}\n",
      "--------------------Assistant Node--------------------\n",
      "{'content': '', 'additional_kwargs': {'tool_calls': [{'id': 'call_grd8', 'function': {'arguments': '{\"a\":72, \"b\":72}', 'name': 'add'}, 'type': 'function'}]}, 'response_metadata': {'token_usage': {'completion_tokens': 17, 'prompt_tokens': 697, 'total_tokens': 714, 'completion_time': 0.034376874, 'prompt_time': 0.027088415, 'queue_time': 0.049417643, 'total_time': 0.061465289}, 'model_name': 'meta-llama/llama-4-scout-17b-16e-instruct', 'system_fingerprint': 'fp_42ae451038', 'finish_reason': 'tool_calls', 'logprobs': None}, 'type': 'ai', 'name': None, 'id': 'run--f492797d-cef7-49ec-8032-259ffedb32fd-0', 'example': False, 'tool_calls': [{'name': 'add', 'args': {'a': 72, 'b': 72}, 'id': 'call_grd8', 'type': 'tool_call'}], 'invalid_tool_calls': [], 'usage_metadata': {'input_tokens': 697, 'output_tokens': 17, 'total_tokens': 714}}\n",
      "--------------------Tools Node--------------------\n",
      "{'content': '144', 'additional_kwargs': {}, 'response_metadata': {}, 'type': 'tool', 'name': 'add', 'id': '45c6e143-b964-4f1f-8c58-16d60eaab22c', 'tool_call_id': 'call_grd8', 'artifact': None, 'status': 'success'}\n",
      "--------------------Assistant Node--------------------\n",
      "{'content': '', 'additional_kwargs': {'tool_calls': [{'id': 'call_789z', 'function': {'arguments': '{\"a\":144, \"b\":144}', 'name': 'add'}, 'type': 'function'}]}, 'response_metadata': {'token_usage': {'completion_tokens': 17, 'prompt_tokens': 725, 'total_tokens': 742, 'completion_time': 0.03346968, 'prompt_time': 0.025403423, 'queue_time': 0.08549506300000001, 'total_time': 0.058873103}, 'model_name': 'meta-llama/llama-4-scout-17b-16e-instruct', 'system_fingerprint': 'fp_42ae451038', 'finish_reason': 'tool_calls', 'logprobs': None}, 'type': 'ai', 'name': None, 'id': 'run--776da08a-df33-4120-acb6-f50110bdfb8d-0', 'example': False, 'tool_calls': [{'name': 'add', 'args': {'a': 144, 'b': 144}, 'id': 'call_789z', 'type': 'tool_call'}], 'invalid_tool_calls': [], 'usage_metadata': {'input_tokens': 725, 'output_tokens': 17, 'total_tokens': 742}}\n",
      "--------------------Tools Node--------------------\n",
      "{'content': '288', 'additional_kwargs': {}, 'response_metadata': {}, 'type': 'tool', 'name': 'add', 'id': '644e0546-2e5f-4ace-9f7e-3b932a6e641e', 'tool_call_id': 'call_789z', 'artifact': None, 'status': 'success'}\n",
      "--------------------Assistant Node--------------------\n",
      "{'content': '', 'additional_kwargs': {'tool_calls': [{'id': 'call_dhsa', 'function': {'arguments': '{\"a\":288, \"b\":288}', 'name': 'add'}, 'type': 'function'}]}, 'response_metadata': {'token_usage': {'completion_tokens': 17, 'prompt_tokens': 753, 'total_tokens': 770, 'completion_time': 0.033601609, 'prompt_time': 0.021173584, 'queue_time': 0.04924943400000001, 'total_time': 0.054775193}, 'model_name': 'meta-llama/llama-4-scout-17b-16e-instruct', 'system_fingerprint': 'fp_37da608fc1', 'finish_reason': 'tool_calls', 'logprobs': None}, 'type': 'ai', 'name': None, 'id': 'run--cf072686-d661-4ef2-ba6e-5cacd5925431-0', 'example': False, 'tool_calls': [{'name': 'add', 'args': {'a': 288, 'b': 288}, 'id': 'call_dhsa', 'type': 'tool_call'}], 'invalid_tool_calls': [], 'usage_metadata': {'input_tokens': 753, 'output_tokens': 17, 'total_tokens': 770}}\n",
      "--------------------Tools Node--------------------\n",
      "{'content': '576', 'additional_kwargs': {}, 'response_metadata': {}, 'type': 'tool', 'name': 'add', 'id': '36abdd8b-451b-4321-ab26-e5a9cb886b03', 'tool_call_id': 'call_dhsa', 'artifact': None, 'status': 'success'}\n",
      "--------------------Assistant Node--------------------\n",
      "{'content': '', 'additional_kwargs': {'tool_calls': [{'id': 'call_xghs', 'function': {'arguments': '{\"a\":576, \"b\":576}', 'name': 'add'}, 'type': 'function'}]}, 'response_metadata': {'token_usage': {'completion_tokens': 17, 'prompt_tokens': 781, 'total_tokens': 798, 'completion_time': 0.040030794, 'prompt_time': 0.047371899, 'queue_time': 0.489141035, 'total_time': 0.087402693}, 'model_name': 'meta-llama/llama-4-scout-17b-16e-instruct', 'system_fingerprint': 'fp_37da608fc1', 'finish_reason': 'tool_calls', 'logprobs': None}, 'type': 'ai', 'name': None, 'id': 'run--a7c19cf4-dbb9-4062-9feb-238d2ea9d990-0', 'example': False, 'tool_calls': [{'name': 'add', 'args': {'a': 576, 'b': 576}, 'id': 'call_xghs', 'type': 'tool_call'}], 'invalid_tool_calls': [], 'usage_metadata': {'input_tokens': 781, 'output_tokens': 17, 'total_tokens': 798}}\n",
      "--------------------Tools Node--------------------\n",
      "{'content': '1152', 'additional_kwargs': {}, 'response_metadata': {}, 'type': 'tool', 'name': 'add', 'id': '27445969-f00e-4095-8d23-19454bd1305c', 'tool_call_id': 'call_xghs', 'artifact': None, 'status': 'success'}\n",
      "--------------------Assistant Node--------------------\n",
      "{'content': '', 'additional_kwargs': {'tool_calls': [{'id': 'call_ds5a', 'function': {'arguments': '{\"a\":1152, \"b\":1152}', 'name': 'add'}, 'type': 'function'}]}, 'response_metadata': {'token_usage': {'completion_tokens': 19, 'prompt_tokens': 810, 'total_tokens': 829, 'completion_time': 0.038721204, 'prompt_time': 0.033289583, 'queue_time': 0.148377996, 'total_time': 0.072010787}, 'model_name': 'meta-llama/llama-4-scout-17b-16e-instruct', 'system_fingerprint': 'fp_42ae451038', 'finish_reason': 'tool_calls', 'logprobs': None}, 'type': 'ai', 'name': None, 'id': 'run--7d90224c-6927-4a0e-a26e-82e65a5ae5b1-0', 'example': False, 'tool_calls': [{'name': 'add', 'args': {'a': 1152, 'b': 1152}, 'id': 'call_ds5a', 'type': 'tool_call'}], 'invalid_tool_calls': [], 'usage_metadata': {'input_tokens': 810, 'output_tokens': 19, 'total_tokens': 829}}\n",
      "--------------------Tools Node--------------------\n",
      "{'content': '2304', 'additional_kwargs': {}, 'response_metadata': {}, 'type': 'tool', 'name': 'add', 'id': '30af62d4-17e7-4bc5-b6b2-758800e58cd7', 'tool_call_id': 'call_ds5a', 'artifact': None, 'status': 'success'}\n",
      "--------------------Assistant Node--------------------\n",
      "{'content': '', 'additional_kwargs': {'tool_calls': [{'id': 'call_e7vb', 'function': {'arguments': '{\"a\":2304, \"b\":2304}', 'name': 'add'}, 'type': 'function'}]}, 'response_metadata': {'token_usage': {'completion_tokens': 19, 'prompt_tokens': 841, 'total_tokens': 860, 'completion_time': 0.037342726, 'prompt_time': 0.022545337, 'queue_time': 0.049684913, 'total_time': 0.059888063}, 'model_name': 'meta-llama/llama-4-scout-17b-16e-instruct', 'system_fingerprint': 'fp_37da608fc1', 'finish_reason': 'tool_calls', 'logprobs': None}, 'type': 'ai', 'name': None, 'id': 'run--592cd226-351f-401b-971d-4242dfeea997-0', 'example': False, 'tool_calls': [{'name': 'add', 'args': {'a': 2304, 'b': 2304}, 'id': 'call_e7vb', 'type': 'tool_call'}], 'invalid_tool_calls': [], 'usage_metadata': {'input_tokens': 841, 'output_tokens': 19, 'total_tokens': 860}}\n",
      "--------------------Tools Node--------------------\n",
      "{'content': '4608', 'additional_kwargs': {}, 'response_metadata': {}, 'type': 'tool', 'name': 'add', 'id': '391fe1a2-dfdc-4629-94be-6548671e99b5', 'tool_call_id': 'call_e7vb', 'artifact': None, 'status': 'success'}\n",
      "--------------------Assistant Node--------------------\n",
      "{'content': '', 'additional_kwargs': {'tool_calls': [{'id': 'call_7ead', 'function': {'arguments': '{\"a\":4608, \"b\":4608}', 'name': 'add'}, 'type': 'function'}]}, 'response_metadata': {'token_usage': {'completion_tokens': 19, 'prompt_tokens': 872, 'total_tokens': 891, 'completion_time': 0.041693545, 'prompt_time': 0.027162334, 'queue_time': 0.046443496, 'total_time': 0.068855879}, 'model_name': 'meta-llama/llama-4-scout-17b-16e-instruct', 'system_fingerprint': 'fp_42ae451038', 'finish_reason': 'tool_calls', 'logprobs': None}, 'type': 'ai', 'name': None, 'id': 'run--2a815300-b0a0-4d6f-8fde-ef2e2878a177-0', 'example': False, 'tool_calls': [{'name': 'add', 'args': {'a': 4608, 'b': 4608}, 'id': 'call_7ead', 'type': 'tool_call'}], 'invalid_tool_calls': [], 'usage_metadata': {'input_tokens': 872, 'output_tokens': 19, 'total_tokens': 891}}\n",
      "--------------------Tools Node--------------------\n",
      "{'content': '9216', 'additional_kwargs': {}, 'response_metadata': {}, 'type': 'tool', 'name': 'add', 'id': '5dabef93-cb52-4a7f-aa57-ff634a9520f4', 'tool_call_id': 'call_7ead', 'artifact': None, 'status': 'success'}\n",
      "--------------------Assistant Node--------------------\n",
      "{'content': '', 'additional_kwargs': {'tool_calls': [{'id': 'call_tay2', 'function': {'arguments': '{\"a\":9216, \"b\":9216}', 'name': 'add'}, 'type': 'function'}]}, 'response_metadata': {'token_usage': {'completion_tokens': 19, 'prompt_tokens': 903, 'total_tokens': 922, 'completion_time': 0.037368326, 'prompt_time': 0.025489281, 'queue_time': 0.045545436999999994, 'total_time': 0.062857607}, 'model_name': 'meta-llama/llama-4-scout-17b-16e-instruct', 'system_fingerprint': 'fp_42ae451038', 'finish_reason': 'tool_calls', 'logprobs': None}, 'type': 'ai', 'name': None, 'id': 'run--9c39413d-4662-44ad-b802-aed8f45c3f40-0', 'example': False, 'tool_calls': [{'name': 'add', 'args': {'a': 9216, 'b': 9216}, 'id': 'call_tay2', 'type': 'tool_call'}], 'invalid_tool_calls': [], 'usage_metadata': {'input_tokens': 903, 'output_tokens': 19, 'total_tokens': 922}}\n",
      "--------------------Tools Node--------------------\n",
      "{'content': '18432', 'additional_kwargs': {}, 'response_metadata': {}, 'type': 'tool', 'name': 'add', 'id': '954caf01-0ce8-4d25-b4ea-9b80c0dac04d', 'tool_call_id': 'call_tay2', 'artifact': None, 'status': 'success'}\n",
      "--------------------Assistant Node--------------------\n",
      "{'content': '', 'additional_kwargs': {'tool_calls': [{'id': 'call_vk56', 'function': {'arguments': '{\"a\":18432, \"b\":18432}', 'name': 'add'}, 'type': 'function'}]}, 'response_metadata': {'token_usage': {'completion_tokens': 19, 'prompt_tokens': 934, 'total_tokens': 953, 'completion_time': 0.04469288, 'prompt_time': 0.025895878, 'queue_time': 0.049367980000000006, 'total_time': 0.070588758}, 'model_name': 'meta-llama/llama-4-scout-17b-16e-instruct', 'system_fingerprint': 'fp_37da608fc1', 'finish_reason': 'tool_calls', 'logprobs': None}, 'type': 'ai', 'name': None, 'id': 'run--a7c4f5e0-d25c-4a23-813b-6891031b0d2d-0', 'example': False, 'tool_calls': [{'name': 'add', 'args': {'a': 18432, 'b': 18432}, 'id': 'call_vk56', 'type': 'tool_call'}], 'invalid_tool_calls': [], 'usage_metadata': {'input_tokens': 934, 'output_tokens': 19, 'total_tokens': 953}}\n",
      "--------------------Tools Node--------------------\n",
      "{'content': '36864', 'additional_kwargs': {}, 'response_metadata': {}, 'type': 'tool', 'name': 'add', 'id': '812d2b87-7eaf-4f9b-bf23-1c588dca1441', 'tool_call_id': 'call_vk56', 'artifact': None, 'status': 'success'}\n",
      "--------------------Assistant Node--------------------\n",
      "{'content': '', 'additional_kwargs': {'tool_calls': [{'id': 'call_s1cb', 'function': {'arguments': '{\"a\":36864, \"b\":36864}', 'name': 'add'}, 'type': 'function'}]}, 'response_metadata': {'token_usage': {'completion_tokens': 19, 'prompt_tokens': 965, 'total_tokens': 984, 'completion_time': 0.037350626, 'prompt_time': 0.030183209, 'queue_time': 0.050026502, 'total_time': 0.067533835}, 'model_name': 'meta-llama/llama-4-scout-17b-16e-instruct', 'system_fingerprint': 'fp_37da608fc1', 'finish_reason': 'tool_calls', 'logprobs': None}, 'type': 'ai', 'name': None, 'id': 'run--66897fd9-32ef-45f8-a9f0-a3763d87d41a-0', 'example': False, 'tool_calls': [{'name': 'add', 'args': {'a': 36864, 'b': 36864}, 'id': 'call_s1cb', 'type': 'tool_call'}], 'invalid_tool_calls': [], 'usage_metadata': {'input_tokens': 965, 'output_tokens': 19, 'total_tokens': 984}}\n",
      "--------------------Tools Node--------------------\n",
      "{'content': '73728', 'additional_kwargs': {}, 'response_metadata': {}, 'type': 'tool', 'name': 'add', 'id': 'c21ae23e-3969-4b28-99ea-88448650106e', 'tool_call_id': 'call_s1cb', 'artifact': None, 'status': 'success'}\n"
     ]
    }
   ],
   "source": [
    "async for chunk in client.runs.stream(\n",
    "    thread[\"thread_id\"],\n",
    "    assistant_id=\"agent\",\n",
    "    input=None,\n",
    "    stream_mode=\"updates\",\n",
    "    checkpoint_id=forked_config['checkpoint_id']\n",
    "):\n",
    "    if chunk.data:\n",
    "        assisant_node = chunk.data.get('assistant', {}).get('messages', [])\n",
    "        tool_node = chunk.data.get('tools', {}).get('messages', [])\n",
    "        if assisant_node:\n",
    "            print(\"-\" * 20+\"Assistant Node\"+\"-\" * 20)\n",
    "            print(assisant_node[-1])\n",
    "        elif tool_node:\n",
    "            print(\"-\" * 20+\"Tools Node\"+\"-\" * 20)\n",
    "            print(tool_node[-1])"
   ]
  },
  {
   "cell_type": "markdown",
   "id": "1b1316fc",
   "metadata": {},
   "source": [
    "#### above cell mistake for the agent code and model error its fixed later but its conceptually correct"
   ]
  },
  {
   "cell_type": "code",
   "execution_count": null,
   "id": "72d73fa6",
   "metadata": {},
   "outputs": [],
   "source": []
  }
 ],
 "metadata": {
  "kernelspec": {
   "display_name": "lang_aca",
   "language": "python",
   "name": "python3"
  },
  "language_info": {
   "codemirror_mode": {
    "name": "ipython",
    "version": 3
   },
   "file_extension": ".py",
   "mimetype": "text/x-python",
   "name": "python",
   "nbconvert_exporter": "python",
   "pygments_lexer": "ipython3",
   "version": "3.11.11"
  }
 },
 "nbformat": 4,
 "nbformat_minor": 5
}
