{
 "cells": [
  {
   "cell_type": "code",
   "execution_count": 12,
   "id": "bd0c8a9a",
   "metadata": {},
   "outputs": [],
   "source": [
    "from IPython.display import Image, display\n",
    "\n",
    "from typing_extensions import TypedDict\n",
    "from langgraph.checkpoint.memory import MemorySaver\n",
    "from langgraph.errors import NodeInterrupt\n",
    "from langgraph.graph import START, END, StateGraph"
   ]
  },
  {
   "cell_type": "code",
   "execution_count": 13,
   "id": "710c0110",
   "metadata": {},
   "outputs": [
    {
     "data": {
      "image/png": "[encoded data removed]",
      "text/plain": [
       "<IPython.core.display.Image object>"
      ]
     },
     "metadata": {},
     "output_type": "display_data"
    }
   ],
   "source": [
    "class State(TypedDict):\n",
    "    input: str\n",
    "\n",
    "def step_1(state: State) -> State:\n",
    "    print(\"---Step 1---\")\n",
    "    return state\n",
    "\n",
    "def step_2(state: State):\n",
    "    if len(state['input']) > 5:\n",
    "        raise NodeInterrupt(f\"Received input that is longer than 5 characters: {state['input']}\")\n",
    "    print(\"--Node 2--\")\n",
    "    return state\n",
    "\n",
    "def step_3(state: State):\n",
    "    print(\"---Node 3---\")\n",
    "    return state\n",
    "\n",
    "builder = StateGraph(State)\n",
    "builder.add_node(\"step_1\", step_1)\n",
    "builder.add_node(\"step_2\", step_2)\n",
    "builder.add_node(\"step_3\", step_3)\n",
    "builder.add_edge(START, \"step_1\")\n",
    "builder.add_edge(\"step_1\", \"step_2\")\n",
    "builder.add_edge(\"step_2\", \"step_3\")\n",
    "builder.add_edge(\"step_3\", END)\n",
    "\n",
    "# Set up memory\n",
    "memory = MemorySaver()\n",
    "\n",
    "# Compile the graph with memory\n",
    "graph = builder.compile(checkpointer=memory)\n",
    "\n",
    "# View\n",
    "display(Image(graph.get_graph().draw_mermaid_png()))"
   ]
  },
  {
   "cell_type": "code",
   "execution_count": 14,
   "id": "fed0b8ee",
   "metadata": {},
   "outputs": [
    {
     "name": "stdout",
     "output_type": "stream",
     "text": [
      "{'input': 'hello LangGraph'}\n",
      "---Step 1---\n",
      "{'input': 'hello LangGraph'}\n",
      "{'__interrupt__': (Interrupt(value='Received input that is longer than 5 characters: hello LangGraph', resumable=False, ns=None),)}\n"
     ]
    }
   ],
   "source": [
    "initial_input = {\"input\": \"hello LangGraph\"}\n",
    "thread_config = {\"configurable\": {\"thread_id\": \"1\"}}\n",
    "\n",
    "# Run the graph until the first interruption\n",
    "for event in graph.stream(initial_input, config=thread_config, stream_mode=\"values\"):\n",
    "    print(event)"
   ]
  },
  {
   "cell_type": "code",
   "execution_count": 15,
   "id": "83ff6cd6",
   "metadata": {},
   "outputs": [
    {
     "name": "stdout",
     "output_type": "stream",
     "text": [
      "('step_2',)\n"
     ]
    }
   ],
   "source": [
    "state =graph.get_state(thread_config)\n",
    "print(state.next)"
   ]
  },
  {
   "cell_type": "code",
   "execution_count": 16,
   "id": "a0ca5309",
   "metadata": {},
   "outputs": [
    {
     "name": "stdout",
     "output_type": "stream",
     "text": [
      "(PregelTask(id='8968f146-d612-813e-d697-c2d4c269affc', name='step_2', path=('__pregel_pull', 'step_2'), error=None, interrupts=(Interrupt(value='Received input that is longer than 5 characters: hello LangGraph', resumable=False, ns=None),), state=None, result=None),)\n"
     ]
    }
   ],
   "source": [
    "print(state.tasks)"
   ]
  },
  {
   "cell_type": "code",
   "execution_count": 17,
   "id": "dee1949f",
   "metadata": {},
   "outputs": [
    {
     "name": "stdout",
     "output_type": "stream",
     "text": [
      "{'input': 'hello LangGraph'}\n",
      "{'__interrupt__': (Interrupt(value='Received input that is longer than 5 characters: hello LangGraph', resumable=False, ns=None),)}\n"
     ]
    }
   ],
   "source": [
    "for event in graph.stream(None, thread_config, stream_mode=\"values\"):\n",
    "    print(event)"
   ]
  },
  {
   "cell_type": "code",
   "execution_count": 18,
   "id": "7508c4dc",
   "metadata": {},
   "outputs": [
    {
     "name": "stdout",
     "output_type": "stream",
     "text": [
      "('step_2',)\n"
     ]
    }
   ],
   "source": [
    "state =graph.get_state(thread_config)\n",
    "print(state.next)"
   ]
  },
  {
   "cell_type": "code",
   "execution_count": 19,
   "id": "a21aa2b0",
   "metadata": {},
   "outputs": [
    {
     "data": {
      "text/plain": [
       "{'configurable': {'thread_id': '1',\n",
       "  'checkpoint_ns': '',\n",
       "  'checkpoint_id': '1f02c134-1f10-6f10-8002-e0f474de6e00'}}"
      ]
     },
     "execution_count": 19,
     "metadata": {},
     "output_type": "execute_result"
    }
   ],
   "source": [
    "graph.update_state(\n",
    "    thread_config,\n",
    "    {\"input\": \"hi\"},\n",
    ")"
   ]
  },
  {
   "cell_type": "code",
   "execution_count": null,
   "id": "d8c79371",
   "metadata": {},
   "outputs": [
    {
     "name": "stdout",
     "output_type": "stream",
     "text": [
      "{'input': 'hi'}\n",
      "--Node 2--\n",
      "{'input': 'hi'}\n",
      "---Node 3---\n",
      "{'input': 'hi'}\n"
     ]
    }
   ],
   "source": [
    "for event in graph.stream(None, config=thread_config, stream_mode=\"values\"):\n",
    "    print(event)"
   ]
  },
  {
   "cell_type": "markdown",
   "id": "26a532d8",
   "metadata": {},
   "source": [
    "## Using LangGraph API"
   ]
  },
  {
   "cell_type": "code",
   "execution_count": 21,
   "id": "83a3d19a",
   "metadata": {},
   "outputs": [
    {
     "data": {
      "text/plain": [
       "[{'assistant_id': '6f6fce9a-b777-529d-9699-dd340ddec86c',\n",
       "  'graph_id': 'dynamic_breakpoints',\n",
       "  'config': {},\n",
       "  'metadata': {'created_by': 'system'},\n",
       "  'name': 'dynamic_breakpoints',\n",
       "  'created_at': '2025-05-08T05:42:28.251952+00:00',\n",
       "  'updated_at': '2025-05-08T05:42:28.251952+00:00',\n",
       "  'version': 1,\n",
       "  'description': None},\n",
       " {'assistant_id': 'fe096781-5601-53d2-b2f6-0d3403f7e9ca',\n",
       "  'graph_id': 'agent',\n",
       "  'config': {},\n",
       "  'metadata': {'created_by': 'system'},\n",
       "  'name': 'agent',\n",
       "  'created_at': '2025-05-08T05:42:28.245181+00:00',\n",
       "  'updated_at': '2025-05-08T05:42:28.245181+00:00',\n",
       "  'version': 1,\n",
       "  'description': None}]"
      ]
     },
     "execution_count": 21,
     "metadata": {},
     "output_type": "execute_result"
    }
   ],
   "source": [
    "from langgraph_sdk import get_client\n",
    "\n",
    "# This is the URL of the local development server\n",
    "URL = \"http://127.0.0.1:2024\"\n",
    "client = get_client(url=URL)\n",
    "\n",
    "# Search all hosted graphs\n",
    "assistants = await client.assistants.search()\n",
    "assistants"
   ]
  },
  {
   "cell_type": "code",
   "execution_count": 22,
   "id": "8a85fac4",
   "metadata": {},
   "outputs": [
    {
     "name": "stdout",
     "output_type": "stream",
     "text": [
      "Receiving new event of type: metadata...\n",
      "{'run_id': '1f02c143-cc76-643d-8bbb-a09a3aa81117', 'attempt': 1}\n",
      "\n",
      "\n",
      "\n",
      "Receiving new event of type: values...\n",
      "{'input': 'hello world'}\n",
      "\n",
      "\n",
      "\n",
      "Receiving new event of type: values...\n",
      "{'input': 'hello world'}\n",
      "\n",
      "\n",
      "\n",
      "Receiving new event of type: values...\n",
      "{'__interrupt__': [{'value': 'Received input that is longer than 5 characters: hello world', 'resumable': False, 'ns': None, 'when': 'during'}]}\n",
      "\n",
      "\n",
      "\n"
     ]
    }
   ],
   "source": [
    "thread = await client.threads.create()\n",
    "input_dict = {\"input\": \"hello world\"}\n",
    "\n",
    "async for chunk in client.runs.stream(\n",
    "    thread[\"thread_id\"],\n",
    "    assistant_id=\"dynamic_breakpoints\",\n",
    "    input=input_dict,\n",
    "    stream_mode=\"values\",):\n",
    "    \n",
    "    print(f\"Receiving new event of type: {chunk.event}...\")\n",
    "    print(chunk.data)\n",
    "    print(\"\\n\\n\")"
   ]
  },
  {
   "cell_type": "code",
   "execution_count": 23,
   "id": "5a1ef780",
   "metadata": {},
   "outputs": [
    {
     "data": {
      "text/plain": [
       "{'values': {'input': 'hello world'},\n",
       " 'next': ['step_2'],\n",
       " 'tasks': [{'id': 'd1b63fab-4340-eba2-113a-0cc023230473',\n",
       "   'name': 'step_2',\n",
       "   'path': ['__pregel_pull', 'step_2'],\n",
       "   'error': None,\n",
       "   'interrupts': [{'value': 'Received input that is longer than 5 characters: hello world',\n",
       "     'resumable': False,\n",
       "     'ns': None,\n",
       "     'when': 'during'}],\n",
       "   'checkpoint': None,\n",
       "   'state': None,\n",
       "   'result': None}],\n",
       " 'metadata': {'user-agent': 'langgraph-sdk-py/0.1.66',\n",
       "  'langgraph_auth_user': None,\n",
       "  'langgraph_auth_user_id': '',\n",
       "  'langgraph_auth_permissions': [],\n",
       "  'graph_id': 'dynamic_breakpoints',\n",
       "  'assistant_id': '6f6fce9a-b777-529d-9699-dd340ddec86c',\n",
       "  'user_id': '',\n",
       "  'created_by': 'system',\n",
       "  'run_attempt': 1,\n",
       "  'langgraph_version': '0.4.1',\n",
       "  'langgraph_plan': 'developer',\n",
       "  'langgraph_host': 'self-hosted',\n",
       "  'langgraph_api_url': 'http://127.0.0.1:2024',\n",
       "  'run_id': '1f02c143-cc76-643d-8bbb-a09a3aa81117',\n",
       "  'thread_id': 'da6b2fba-f049-44f1-959e-09af29919d66',\n",
       "  'source': 'loop',\n",
       "  'writes': {'step_1': {'input': 'hello world'}},\n",
       "  'step': 1,\n",
       "  'parents': {}},\n",
       " 'created_at': '2025-05-08T13:56:28.773024+00:00',\n",
       " 'checkpoint': {'checkpoint_id': '1f02c143-d4a4-6243-8001-7d27a0d7dbf5',\n",
       "  'thread_id': 'da6b2fba-f049-44f1-959e-09af29919d66',\n",
       "  'checkpoint_ns': ''},\n",
       " 'parent_checkpoint': {'checkpoint_id': '1f02c143-d4a4-6242-8000-2e4fef4b8521',\n",
       "  'thread_id': 'da6b2fba-f049-44f1-959e-09af29919d66',\n",
       "  'checkpoint_ns': ''},\n",
       " 'checkpoint_id': '1f02c143-d4a4-6243-8001-7d27a0d7dbf5',\n",
       " 'parent_checkpoint_id': '1f02c143-d4a4-6242-8000-2e4fef4b8521'}"
      ]
     },
     "execution_count": 23,
     "metadata": {},
     "output_type": "execute_result"
    }
   ],
   "source": [
    "current_state = await client.threads.get_state(thread['thread_id'])\n",
    "current_state"
   ]
  },
  {
   "cell_type": "code",
   "execution_count": 24,
   "id": "cbe5f6bd",
   "metadata": {},
   "outputs": [
    {
     "data": {
      "text/plain": [
       "['step_2']"
      ]
     },
     "execution_count": 24,
     "metadata": {},
     "output_type": "execute_result"
    }
   ],
   "source": [
    "current_state['next']"
   ]
  },
  {
   "cell_type": "code",
   "execution_count": 25,
   "id": "43b619bf",
   "metadata": {},
   "outputs": [
    {
     "data": {
      "text/plain": [
       "{'checkpoint': {'thread_id': 'da6b2fba-f049-44f1-959e-09af29919d66',\n",
       "  'checkpoint_ns': '',\n",
       "  'checkpoint_id': '1f02c146-6050-6902-8002-b25300ab82ce'},\n",
       " 'configurable': {'thread_id': 'da6b2fba-f049-44f1-959e-09af29919d66',\n",
       "  'checkpoint_ns': '',\n",
       "  'checkpoint_id': '1f02c146-6050-6902-8002-b25300ab82ce'},\n",
       " 'checkpoint_id': '1f02c146-6050-6902-8002-b25300ab82ce'}"
      ]
     },
     "execution_count": 25,
     "metadata": {},
     "output_type": "execute_result"
    }
   ],
   "source": [
    "await client.threads.update_state(thread['thread_id'], {\"input\": \"hi!\"})"
   ]
  },
  {
   "cell_type": "code",
   "execution_count": 26,
   "id": "895b328f",
   "metadata": {},
   "outputs": [
    {
     "name": "stdout",
     "output_type": "stream",
     "text": [
      "Receiving new event of type: metadata...\n",
      "{'run_id': '1f02c147-1fe3-6a1c-bf4a-5c029875badb', 'attempt': 1}\n",
      "\n",
      "\n",
      "\n",
      "Receiving new event of type: values...\n",
      "{'input': 'hi!'}\n",
      "\n",
      "\n",
      "\n",
      "Receiving new event of type: values...\n",
      "{'input': 'hi!'}\n",
      "\n",
      "\n",
      "\n",
      "Receiving new event of type: values...\n",
      "{'input': 'hi!'}\n",
      "\n",
      "\n",
      "\n"
     ]
    }
   ],
   "source": [
    "async for chunk in client.runs.stream(\n",
    "    thread[\"thread_id\"],\n",
    "    assistant_id=\"dynamic_breakpoints\",\n",
    "    input=None,\n",
    "    stream_mode=\"values\",):\n",
    "    \n",
    "    print(f\"Receiving new event of type: {chunk.event}...\")\n",
    "    print(chunk.data)\n",
    "    print(\"\\n\\n\")"
   ]
  },
  {
   "cell_type": "code",
   "execution_count": 27,
   "id": "0f78e616",
   "metadata": {},
   "outputs": [
    {
     "data": {
      "text/plain": [
       "{'values': {'input': 'hi!'},\n",
       " 'next': [],\n",
       " 'tasks': [],\n",
       " 'metadata': {'user-agent': 'langgraph-sdk-py/0.1.66',\n",
       "  'langgraph_auth_user': None,\n",
       "  'langgraph_auth_user_id': '',\n",
       "  'langgraph_auth_permissions': [],\n",
       "  'graph_id': 'dynamic_breakpoints',\n",
       "  'assistant_id': '6f6fce9a-b777-529d-9699-dd340ddec86c',\n",
       "  'user_id': '',\n",
       "  'created_by': 'system',\n",
       "  'run_attempt': 1,\n",
       "  'langgraph_version': '0.4.1',\n",
       "  'langgraph_plan': 'developer',\n",
       "  'langgraph_host': 'self-hosted',\n",
       "  'langgraph_api_url': 'http://127.0.0.1:2024',\n",
       "  'run_id': '1f02c147-1fe3-6a1c-bf4a-5c029875badb',\n",
       "  'thread_id': 'da6b2fba-f049-44f1-959e-09af29919d66',\n",
       "  'source': 'loop',\n",
       "  'writes': {'step_3': {'input': 'hi!'}},\n",
       "  'step': 4,\n",
       "  'parents': {}},\n",
       " 'created_at': '2025-05-08T13:57:58.204984+00:00',\n",
       " 'checkpoint': {'checkpoint_id': '1f02c147-2987-6e37-8004-8df957062469',\n",
       "  'thread_id': 'da6b2fba-f049-44f1-959e-09af29919d66',\n",
       "  'checkpoint_ns': ''},\n",
       " 'parent_checkpoint': {'checkpoint_id': '1f02c147-297d-6688-8003-17e3e3322c95',\n",
       "  'thread_id': 'da6b2fba-f049-44f1-959e-09af29919d66',\n",
       "  'checkpoint_ns': ''},\n",
       " 'checkpoint_id': '1f02c147-2987-6e37-8004-8df957062469',\n",
       " 'parent_checkpoint_id': '1f02c147-297d-6688-8003-17e3e3322c95'}"
      ]
     },
     "execution_count": 27,
     "metadata": {},
     "output_type": "execute_result"
    }
   ],
   "source": [
    "current_state = await client.threads.get_state(thread['thread_id'])\n",
    "current_state"
   ]
  },
  {
   "cell_type": "code",
   "execution_count": null,
   "id": "c2bb993a",
   "metadata": {},
   "outputs": [],
   "source": []
  }
 ],
 "metadata": {
  "kernelspec": {
   "display_name": "lang_aca",
   "language": "python",
   "name": "python3"
  },
  "language_info": {
   "codemirror_mode": {
    "name": "ipython",
    "version": 3
   },
   "file_extension": ".py",
   "mimetype": "text/x-python",
   "name": "python",
   "nbconvert_exporter": "python",
   "pygments_lexer": "ipython3",
   "version": "3.11.11"
  }
 },
 "nbformat": 4,
 "nbformat_minor": 5
}
