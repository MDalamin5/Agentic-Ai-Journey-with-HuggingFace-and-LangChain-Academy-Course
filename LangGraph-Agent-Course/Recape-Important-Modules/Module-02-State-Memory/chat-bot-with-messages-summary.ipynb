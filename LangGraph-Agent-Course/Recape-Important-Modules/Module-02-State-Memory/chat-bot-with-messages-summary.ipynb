{
 "cells": [
  {
   "cell_type": "code",
   "execution_count": 32,
   "id": "1764ce14",
   "metadata": {},
   "outputs": [],
   "source": [
    "from langchain_groq import ChatGroq\n",
    "from dotenv import load_dotenv\n",
    "import os\n",
    "load_dotenv()\n",
    "\n",
    "os.environ[\"GORQ_API_KEY\"] = os.getenv(\"GROQ_API_KEY\")\n",
    "\n",
    "model = ChatGroq(model=\"meta-llama/llama-4-scout-17b-16e-instruct\")"
   ]
  },
  {
   "cell_type": "code",
   "execution_count": 33,
   "id": "6fa7b08d",
   "metadata": {},
   "outputs": [],
   "source": [
    "from langgraph.graph import MessagesState\n",
    "class State(MessagesState):\n",
    "    summary: str"
   ]
  },
  {
   "cell_type": "code",
   "execution_count": 34,
   "id": "db4b589d",
   "metadata": {},
   "outputs": [],
   "source": [
    "from langchain_core.messages import SystemMessage, HumanMessage, RemoveMessage\n",
    "\n",
    "# Define the logic to call the model\n",
    "def call_model(state: State):\n",
    "    \n",
    "    # Get summary if it exists\n",
    "    summary = state.get(\"summary\", \"\")\n",
    "\n",
    "    # If there is summary, then we add it\n",
    "    if summary:\n",
    "        \n",
    "        # Add summary to system message\n",
    "        system_message = f\"Summary of conversation earlier: {summary}\"\n",
    "\n",
    "        # Append summary to any newer messages\n",
    "        messages = [SystemMessage(content=system_message)] + state[\"messages\"]\n",
    "    \n",
    "    else:\n",
    "        messages = state[\"messages\"]\n",
    "    \n",
    "    response = model.invoke(messages)\n",
    "    return {\"messages\": response}"
   ]
  },
  {
   "cell_type": "code",
   "execution_count": 35,
   "id": "1812fe21",
   "metadata": {},
   "outputs": [],
   "source": [
    "def summarize_conversation(state: State):\n",
    "    \n",
    "    # First, we get any existing summary\n",
    "    summary = state.get(\"summary\", \"\")\n",
    "\n",
    "    # Create our summarization prompt \n",
    "    if summary:\n",
    "        \n",
    "        # A summary already exists\n",
    "        summary_message = (\n",
    "            f\"This is summary of the conversation to date: {summary}\\n\\n\"\n",
    "            \"Extend the summary by taking into account the new messages above:\"\n",
    "        )\n",
    "        \n",
    "    else:\n",
    "        summary_message = \"Create a summary of the conversation above:\"\n",
    "\n",
    "    # Add prompt to our history\n",
    "    messages = state[\"messages\"] + [HumanMessage(content=summary_message)]\n",
    "    response = model.invoke(messages)\n",
    "    \n",
    "    # Delete all but the 2 most recent messages\n",
    "    delete_messages = [RemoveMessage(id=m.id) for m in state[\"messages\"][:-2]]\n",
    "    return {\"summary\": response.content, \"messages\": delete_messages}"
   ]
  },
  {
   "cell_type": "code",
   "execution_count": 36,
   "id": "4b41e033",
   "metadata": {},
   "outputs": [],
   "source": [
    "from langgraph.graph import END\n",
    "# Determine whether to end or summarize the conversation\n",
    "def should_continue(state: State):\n",
    "    \n",
    "    \"\"\"Return the next node to execute.\"\"\"\n",
    "    \n",
    "    messages = state[\"messages\"]\n",
    "    \n",
    "    # If there are more than six messages, then we summarize the conversation\n",
    "    if len(messages) > 6:\n",
    "        return \"summarize_conversation\"\n",
    "    \n",
    "    # Otherwise we can just end\n",
    "    return END"
   ]
  },
  {
   "cell_type": "code",
   "execution_count": 37,
   "id": "efa3716a",
   "metadata": {},
   "outputs": [
    {
     "data": {
      "image/png": "[encoded data removed]",
      "text/plain": [
       "<IPython.core.display.Image object>"
      ]
     },
     "metadata": {},
     "output_type": "display_data"
    }
   ],
   "source": [
    "from IPython.display import Image, display\n",
    "from langgraph.checkpoint.memory import MemorySaver\n",
    "from langgraph.graph import StateGraph, START\n",
    "\n",
    "# Define a new graph\n",
    "workflow = StateGraph(State)\n",
    "workflow.add_node(\"conversation\", call_model)\n",
    "workflow.add_node(\"summarize_conversation\",summarize_conversation)\n",
    "\n",
    "# Set the entrypoint as conversation\n",
    "workflow.add_edge(START, \"conversation\")\n",
    "workflow.add_conditional_edges(\"conversation\", should_continue, {\"summarize_conversation\": \"summarize_conversation\", END: END})\n",
    "workflow.add_edge(\"summarize_conversation\", END)\n",
    "\n",
    "# Compile\n",
    "memory = MemorySaver()\n",
    "graph = workflow.compile(checkpointer=memory)\n",
    "display(Image(graph.get_graph().draw_mermaid_png()))"
   ]
  },
  {
   "cell_type": "markdown",
   "id": "965a7129",
   "metadata": {},
   "source": [
    "## Threads\n",
    "\n",
    "The checkpointer saves the state at each step as a checkpoint.\n",
    "\n",
    "These saved checkpoints can be grouped into a `thread` of conversation.\n",
    "\n",
    "Think about Slack as an analog: different channels carry different conversations.\n",
    "\n",
    "Threads are like Slack channels, capturing grouped collections of state (e.g., conversation).\n",
    "\n",
    "Below, we use `configurable` to set a thread ID.\n",
    "\n",
    "![state.jpg](https://cdn.prod.website-files.com/65b8cd72835ceeacd4449a53/66dbadf3b379c2ee621adfd1_chatbot-summarization1.png)"
   ]
  },
  {
   "cell_type": "code",
   "execution_count": 38,
   "id": "25635bc5",
   "metadata": {},
   "outputs": [
    {
     "name": "stdout",
     "output_type": "stream",
     "text": [
      "==================================\u001b[1m Ai Message \u001b[0m==================================\n",
      "\n",
      "Hello Lance! It's nice to meet you! Is there something I can help you with, or would you like to chat?\n",
      "==================================\u001b[1m Ai Message \u001b[0m==================================\n",
      "\n",
      "Your name is Lance! You told me that when we first started chatting. How's your day going so far, Lance?\n",
      "==================================\u001b[1m Ai Message \u001b[0m==================================\n",
      "\n",
      "Go Niners! The San Francisco 49ers have a rich history and a loyal fan base. Who's your favorite player, past or present? Do you have a favorite memory of watching the team play?\n"
     ]
    }
   ],
   "source": [
    "# Create a thread\n",
    "config = {\"configurable\": {\"thread_id\": \"1\"}}\n",
    "\n",
    "# Start conversation\n",
    "input_message = HumanMessage(content=\"hi! I'm Lance\")\n",
    "output = graph.invoke({\"messages\": [input_message]}, config) \n",
    "for m in output['messages'][-1:]:\n",
    "    m.pretty_print()\n",
    "\n",
    "input_message = HumanMessage(content=\"what's my name?\")\n",
    "output = graph.invoke({\"messages\": [input_message]}, config) \n",
    "for m in output['messages'][-1:]:\n",
    "    m.pretty_print()\n",
    "\n",
    "input_message = HumanMessage(content=\"i like the 49ers!\")\n",
    "output = graph.invoke({\"messages\": [input_message]}, config) \n",
    "for m in output['messages'][-1:]:\n",
    "    m.pretty_print()"
   ]
  },
  {
   "cell_type": "code",
   "execution_count": 39,
   "id": "62171116",
   "metadata": {},
   "outputs": [
    {
     "data": {
      "text/plain": [
       "''"
      ]
     },
     "execution_count": 39,
     "metadata": {},
     "output_type": "execute_result"
    }
   ],
   "source": [
    "graph.get_state(config).values.get(\"summary\", \"\")"
   ]
  },
  {
   "cell_type": "code",
   "execution_count": 40,
   "id": "584c4cf5",
   "metadata": {},
   "outputs": [
    {
     "data": {
      "text/plain": [
       "[HumanMessage(content=\"hi! I'm Lance\", additional_kwargs={}, response_metadata={}, id='3c18fb9a-3f53-47ae-aeea-f915eee41960'),\n",
       " AIMessage(content=\"Hello Lance! It's nice to meet you! Is there something I can help you with, or would you like to chat?\", additional_kwargs={}, response_metadata={'token_usage': {'completion_tokens': 26, 'prompt_tokens': 14, 'total_tokens': 40, 'completion_time': 0.051485826, 'prompt_time': 0.002262509, 'queue_time': 0.045132650999999996, 'total_time': 0.053748335}, 'model_name': 'meta-llama/llama-4-scout-17b-16e-instruct', 'system_fingerprint': 'fp_37da608fc1', 'finish_reason': 'stop', 'logprobs': None}, id='run--29c9b501-dc6f-47ae-a0c3-b5ac117ed305-0', usage_metadata={'input_tokens': 14, 'output_tokens': 26, 'total_tokens': 40}),\n",
       " HumanMessage(content=\"what's my name?\", additional_kwargs={}, response_metadata={}, id='d5ddcb2f-49ac-40e3-9063-e7f9cf796f8f'),\n",
       " AIMessage(content=\"Your name is Lance! You told me that when we first started chatting. How's your day going so far, Lance?\", additional_kwargs={}, response_metadata={'token_usage': {'completion_tokens': 26, 'prompt_tokens': 54, 'total_tokens': 80, 'completion_time': 0.051487785, 'prompt_time': 0.003244969, 'queue_time': 0.046141301, 'total_time': 0.054732754}, 'model_name': 'meta-llama/llama-4-scout-17b-16e-instruct', 'system_fingerprint': 'fp_37da608fc1', 'finish_reason': 'stop', 'logprobs': None}, id='run--bd0fb41e-723f-447f-8f54-8b6acde2eba0-0', usage_metadata={'input_tokens': 54, 'output_tokens': 26, 'total_tokens': 80}),\n",
       " HumanMessage(content='i like the 49ers!', additional_kwargs={}, response_metadata={}, id='f822118d-f5ea-4479-90a3-4f2e3fb6d428'),\n",
       " AIMessage(content=\"Go Niners! The San Francisco 49ers have a rich history and a loyal fan base. Who's your favorite player, past or present? Do you have a favorite memory of watching the team play?\", additional_kwargs={}, response_metadata={'token_usage': {'completion_tokens': 43, 'prompt_tokens': 95, 'total_tokens': 138, 'completion_time': 0.09146516, 'prompt_time': 0.004426849, 'queue_time': 0.044927260999999996, 'total_time': 0.095892009}, 'model_name': 'meta-llama/llama-4-scout-17b-16e-instruct', 'system_fingerprint': 'fp_37da608fc1', 'finish_reason': 'stop', 'logprobs': None}, id='run--0d5a6bd2-e2d9-429f-8d3a-b3afcc2b9917-0', usage_metadata={'input_tokens': 95, 'output_tokens': 43, 'total_tokens': 138})]"
      ]
     },
     "execution_count": 40,
     "metadata": {},
     "output_type": "execute_result"
    }
   ],
   "source": [
    "graph.get_state(config).values.get(\"messages\", \"\")"
   ]
  },
  {
   "cell_type": "code",
   "execution_count": 41,
   "id": "f6759ee3",
   "metadata": {},
   "outputs": [
    {
     "name": "stdout",
     "output_type": "stream",
     "text": [
      "==================================\u001b[1m Ai Message \u001b[0m==================================\n",
      "\n",
      "Nick Bosa is an incredible player! He's definitely one of the top defensive players in the league. As for being the highest-paid defensive player, that's correct! In 2022, Nick Bosa signed a massive 5-year, $170 million contract extension with the 49ers, which made him the highest-paid defensive player in the NFL at the time. He's a dominant force on the field, and it's no surprise he's getting paid like a top player! What do you think about the 49ers' chances this season?\n"
     ]
    }
   ],
   "source": [
    "input_message = HumanMessage(content=\"i like Nick Bosa, isn't he the highest paid defensive player?\")\n",
    "output = graph.invoke({\"messages\": [input_message]}, config) \n",
    "for m in output['messages'][-1:]:\n",
    "    m.pretty_print()"
   ]
  },
  {
   "cell_type": "code",
   "execution_count": 42,
   "id": "ab6150b7",
   "metadata": {},
   "outputs": [
    {
     "data": {
      "text/plain": [
       "[HumanMessage(content=\"i like Nick Bosa, isn't he the highest paid defensive player?\", additional_kwargs={}, response_metadata={}, id='fab3b974-2eaa-4bce-906f-bd8fd420eab7'),\n",
       " AIMessage(content=\"Nick Bosa is an incredible player! He's definitely one of the top defensive players in the league. As for being the highest-paid defensive player, that's correct! In 2022, Nick Bosa signed a massive 5-year, $170 million contract extension with the 49ers, which made him the highest-paid defensive player in the NFL at the time. He's a dominant force on the field, and it's no surprise he's getting paid like a top player! What do you think about the 49ers' chances this season?\", additional_kwargs={}, response_metadata={'token_usage': {'completion_tokens': 110, 'prompt_tokens': 160, 'total_tokens': 270, 'completion_time': 0.217444139, 'prompt_time': 0.006201739, 'queue_time': 0.045873071, 'total_time': 0.223645878}, 'model_name': 'meta-llama/llama-4-scout-17b-16e-instruct', 'system_fingerprint': 'fp_79da0e0073', 'finish_reason': 'stop', 'logprobs': None}, id='run--6aa2710b-fe70-458b-a175-74e8bc9eee46-0', usage_metadata={'input_tokens': 160, 'output_tokens': 110, 'total_tokens': 270})]"
      ]
     },
     "execution_count": 42,
     "metadata": {},
     "output_type": "execute_result"
    }
   ],
   "source": [
    "graph.get_state(config).values.get(\"messages\", \"\")"
   ]
  },
  {
   "cell_type": "code",
   "execution_count": 43,
   "id": "412bd4a6",
   "metadata": {},
   "outputs": [
    {
     "data": {
      "text/plain": [
       "\"Here's a summary of our conversation:\\n\\n* You introduced yourself as Lance.\\n* We confirmed that your name is Lance.\\n* You mentioned that you're a fan of the San Francisco 49ers.\\n* You expressed admiration for Nick Bosa, a defensive player for the 49ers.\\n* We discussed Nick Bosa's contract and his status as one of the highest-paid defensive players in the NFL.\\n\\nLet me know if there's anything else I can help with!\""
      ]
     },
     "execution_count": 43,
     "metadata": {},
     "output_type": "execute_result"
    }
   ],
   "source": [
    "graph.get_state(config).values.get(\"summary\",\"\")"
   ]
  }
 ],
 "metadata": {
  "kernelspec": {
   "display_name": "lang_aca",
   "language": "python",
   "name": "python3"
  },
  "language_info": {
   "codemirror_mode": {
    "name": "ipython",
    "version": 3
   },
   "file_extension": ".py",
   "mimetype": "text/x-python",
   "name": "python",
   "nbconvert_exporter": "python",
   "pygments_lexer": "ipython3",
   "version": "3.11.11"
  }
 },
 "nbformat": 4,
 "nbformat_minor": 5
}
