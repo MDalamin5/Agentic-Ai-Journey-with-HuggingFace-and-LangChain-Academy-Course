{
 "cells": [
  {
   "cell_type": "markdown",
   "id": "0f672aa5",
   "metadata": {},
   "source": [
    "## Messages Reduce and Filtering"
   ]
  },
  {
   "cell_type": "code",
   "execution_count": 24,
   "id": "5241c323",
   "metadata": {},
   "outputs": [],
   "source": [
    "from langchain_groq import ChatGroq\n",
    "from dotenv import load_dotenv\n",
    "import os\n",
    "load_dotenv()\n",
    "\n",
    "os.environ[\"GORQ_API_KEY\"] = os.getenv(\"GROQ_API_KEY\")\n",
    "\n",
    "llm = ChatGroq(model=\"meta-llama/llama-4-scout-17b-16e-instruct\")"
   ]
  },
  {
   "cell_type": "markdown",
   "id": "d0a86990",
   "metadata": {},
   "source": [
    "## **Messages Reducer**"
   ]
  },
  {
   "cell_type": "code",
   "execution_count": 25,
   "id": "077ca045",
   "metadata": {},
   "outputs": [
    {
     "name": "stdout",
     "output_type": "stream",
     "text": [
      "==================================\u001b[1m Ai Message \u001b[0m==================================\n",
      "\n",
      "Hi sir, how can i help you?\n",
      "================================\u001b[1m Human Message \u001b[0m=================================\n",
      "\n",
      "i'm good can you help me to solve this math x^2+5x+6=0 step by step in markdown format?\n"
     ]
    }
   ],
   "source": [
    "from pprint import pprint\n",
    "from langchain_core.messages import AIMessage, HumanMessage\n",
    "messages = [AIMessage(content=\"Hi sir, how can i help you?\")]\n",
    "messages.append(HumanMessage(content=\"i'm good can you help me to solve this math x^2+5x+6=0 step by step in markdown format?\"))\n",
    "\n",
    "for m in messages:\n",
    "    m.pretty_print()"
   ]
  },
  {
   "cell_type": "code",
   "execution_count": 26,
   "id": "25f81cb7",
   "metadata": {},
   "outputs": [],
   "source": [
    "response = llm.invoke(messages)"
   ]
  },
  {
   "cell_type": "code",
   "execution_count": 27,
   "id": "60a66e01",
   "metadata": {},
   "outputs": [
    {
     "name": "stdout",
     "output_type": "stream",
     "text": [
      "==================================\u001b[1m Ai Message \u001b[0m==================================\n",
      "\n",
      "Hi sir, how can i help you?\n",
      "================================\u001b[1m Human Message \u001b[0m=================================\n",
      "\n",
      "i'm good can you help me to solve this math x^2+5x+6=0 step by step in markdown format?\n",
      "==================================\u001b[1m Ai Message \u001b[0m==================================\n",
      "\n",
      "## Solving the Quadratic Equation\n",
      "### Step 1: Write Down the Given Equation\n",
      "\n",
      "The given quadratic equation is:\n",
      "```markdown\n",
      "x^2 + 5x + 6 = 0\n",
      "```\n",
      "\n",
      "### Step 2: Factor the Quadratic Equation (if possible)\n",
      "\n",
      "We can try to factor the quadratic equation:\n",
      "```markdown\n",
      "x^2 + 5x + 6 = (x + 3)(x + 2) = 0\n",
      "```\n",
      "\n",
      "### Step 3: Apply the Zero Product Property\n",
      "\n",
      "According to the zero product property, if `ab = 0`, then `a = 0` or `b = 0`. Applying this to our factored equation:\n",
      "```markdown\n",
      "(x + 3) = 0 or (x + 2) = 0\n",
      "```\n",
      "\n",
      "### Step 4: Solve for x\n",
      "\n",
      "Now, solve each equation for `x`:\n",
      "```markdown\n",
      "x + 3 = 0 --> x = -3\n",
      "x + 2 = 0 --> x = -2\n",
      "```\n",
      "\n",
      "### Step 5: Write Down the Solutions\n",
      "\n",
      "The solutions to the equation `x^2 + 5x + 6 = 0` are:\n",
      "```markdown\n",
      "x = -3 or x = -2\n",
      "```\n",
      "\n",
      "## Final Answer\n",
      "\n",
      "The final solutions are `x = -3` and `x = -2`. \n",
      "\n",
      "You can verify these solutions by plugging them back into the original equation. \n",
      "\n",
      "### Verification\n",
      "\n",
      "- For `x = -3`:\n",
      "```markdown\n",
      "(-3)^2 + 5(-3) + 6 = 9 - 15 + 6 = 0\n",
      "```\n",
      "\n",
      "- For `x = -2`:\n",
      "```markdown\n",
      "(-2)^2 + 5(-2) + 6 = 4 - 10 + 6 = 0\n",
      "```\n",
      "\n",
      "Both solutions satisfy the original equation.\n"
     ]
    }
   ],
   "source": [
    "from IPython.display import display, Markdown\n",
    "messages.append(response)\n",
    "for m in messages:\n",
    "    Markdown(m.pretty_print())"
   ]
  },
  {
   "cell_type": "code",
   "execution_count": 28,
   "id": "d6779b29",
   "metadata": {},
   "outputs": [
    {
     "data": {
      "text/markdown": [
       "## Solving the Quadratic Equation\n",
       "### Step 1: Write Down the Given Equation\n",
       "\n",
       "The given quadratic equation is:\n",
       "```markdown\n",
       "x^2 + 5x + 6 = 0\n",
       "```\n",
       "\n",
       "### Step 2: Factor the Quadratic Equation (if possible)\n",
       "\n",
       "We can try to factor the quadratic equation:\n",
       "```markdown\n",
       "x^2 + 5x + 6 = (x + 3)(x + 2) = 0\n",
       "```\n",
       "\n",
       "### Step 3: Apply the Zero Product Property\n",
       "\n",
       "According to the zero product property, if `ab = 0`, then `a = 0` or `b = 0`. Applying this to our factored equation:\n",
       "```markdown\n",
       "(x + 3) = 0 or (x + 2) = 0\n",
       "```\n",
       "\n",
       "### Step 4: Solve for x\n",
       "\n",
       "Now, solve each equation for `x`:\n",
       "```markdown\n",
       "x + 3 = 0 --> x = -3\n",
       "x + 2 = 0 --> x = -2\n",
       "```\n",
       "\n",
       "### Step 5: Write Down the Solutions\n",
       "\n",
       "The solutions to the equation `x^2 + 5x + 6 = 0` are:\n",
       "```markdown\n",
       "x = -3 or x = -2\n",
       "```\n",
       "\n",
       "## Final Answer\n",
       "\n",
       "The final solutions are `x = -3` and `x = -2`. \n",
       "\n",
       "You can verify these solutions by plugging them back into the original equation. \n",
       "\n",
       "### Verification\n",
       "\n",
       "- For `x = -3`:\n",
       "```markdown\n",
       "(-3)^2 + 5(-3) + 6 = 9 - 15 + 6 = 0\n",
       "```\n",
       "\n",
       "- For `x = -2`:\n",
       "```markdown\n",
       "(-2)^2 + 5(-2) + 6 = 4 - 10 + 6 = 0\n",
       "```\n",
       "\n",
       "Both solutions satisfy the original equation."
      ],
      "text/plain": [
       "<IPython.core.display.Markdown object>"
      ]
     },
     "execution_count": 28,
     "metadata": {},
     "output_type": "execute_result"
    }
   ],
   "source": [
    "Markdown(response.content)"
   ]
  },
  {
   "cell_type": "markdown",
   "id": "61fb9ab8",
   "metadata": {},
   "source": [
    "## Using RemoveMessages to reducer the messages."
   ]
  },
  {
   "cell_type": "code",
   "execution_count": 29,
   "id": "ecd59395",
   "metadata": {},
   "outputs": [
    {
     "data": {
      "image/png": "[encoded data removed]",
      "text/plain": [
       "<IPython.core.display.Image object>"
      ]
     },
     "metadata": {},
     "output_type": "display_data"
    }
   ],
   "source": [
    "from IPython.display import Image, display\n",
    "from langgraph.graph import MessagesState\n",
    "from langgraph.graph import StateGraph, START, END\n",
    "\n",
    "# Node\n",
    "def chat_model_node(state: MessagesState):\n",
    "    return {\"messages\": llm.invoke(state[\"messages\"])}\n",
    "\n",
    "# Build graph\n",
    "builder = StateGraph(MessagesState)\n",
    "builder.add_node(\"chat_model\", chat_model_node)\n",
    "builder.add_edge(START, \"chat_model\")\n",
    "builder.add_edge(\"chat_model\", END)\n",
    "graph = builder.compile()\n",
    "\n",
    "# View\n",
    "display(Image(graph.get_graph().draw_mermaid_png()))"
   ]
  },
  {
   "cell_type": "code",
   "execution_count": 30,
   "id": "1d81049f",
   "metadata": {},
   "outputs": [
    {
     "name": "stdout",
     "output_type": "stream",
     "text": [
      "==================================\u001b[1m Ai Message \u001b[0m==================================\n",
      "\n",
      "Hi sir, how can i help you?\n",
      "================================\u001b[1m Human Message \u001b[0m=================================\n",
      "\n",
      "i'm good can you help me to solve this math x^2+5x+6=0 step by step in markdown format?\n",
      "==================================\u001b[1m Ai Message \u001b[0m==================================\n",
      "\n",
      "## Solving the Quadratic Equation\n",
      "### Step 1: Write Down the Given Equation\n",
      "\n",
      "The given quadratic equation is:\n",
      "```markdown\n",
      "x^2 + 5x + 6 = 0\n",
      "```\n",
      "\n",
      "### Step 2: Factor the Quadratic Equation (if possible)\n",
      "\n",
      "We can try to factor the quadratic equation:\n",
      "```markdown\n",
      "x^2 + 5x + 6 = (x + 3)(x + 2) = 0\n",
      "```\n",
      "\n",
      "### Step 3: Apply the Zero Product Property\n",
      "\n",
      "According to the zero product property, if `ab = 0`, then `a = 0` or `b = 0`. Applying this to our factored equation:\n",
      "```markdown\n",
      "(x + 3) = 0 or (x + 2) = 0\n",
      "```\n",
      "\n",
      "### Step 4: Solve for x\n",
      "\n",
      "Now, solve each equation for `x`:\n",
      "```markdown\n",
      "x + 3 = 0 --> x = -3\n",
      "x + 2 = 0 --> x = -2\n",
      "```\n",
      "\n",
      "### Step 5: Write Down the Solutions\n",
      "\n",
      "The solutions to the equation `x^2 + 5x + 6 = 0` are:\n",
      "```markdown\n",
      "x = -3 or x = -2\n",
      "```\n",
      "\n",
      "## Final Answer\n",
      "\n",
      "The final solutions are `x = -3` and `x = -2`. \n",
      "\n",
      "You can verify these solutions by plugging them back into the original equation. \n",
      "\n",
      "### Verification\n",
      "\n",
      "- For `x = -3`:\n",
      "```markdown\n",
      "(-3)^2 + 5(-3) + 6 = 9 - 15 + 6 = 0\n",
      "```\n",
      "\n",
      "- For `x = -2`:\n",
      "```markdown\n",
      "(-2)^2 + 5(-2) + 6 = 4 - 10 + 6 = 0\n",
      "```\n",
      "\n",
      "Both solutions satisfy the original equation.\n",
      "==================================\u001b[1m Ai Message \u001b[0m==================================\n"
     ]
    }
   ],
   "source": [
    "response = graph.invoke(\n",
    "    {\n",
    "        \"messages\": messages\n",
    "    }\n",
    ")\n",
    "\n",
    "for m in response['messages']:\n",
    "    m.pretty_print()"
   ]
  },
  {
   "cell_type": "code",
   "execution_count": 31,
   "id": "38b1ee60",
   "metadata": {},
   "outputs": [
    {
     "data": {
      "image/png": "[encoded data removed]",
      "text/plain": [
       "<IPython.core.display.Image object>"
      ]
     },
     "metadata": {},
     "output_type": "display_data"
    }
   ],
   "source": [
    "from IPython.display import Image, display\n",
    "from langgraph.graph import MessagesState\n",
    "from langgraph.graph import StateGraph, START, END\n",
    "from langchain_core.messages import RemoveMessage\n",
    "\n",
    "## reducer node\n",
    "\n",
    "def reducer_node(state: MessagesState):\n",
    "    \"\"\"This function is responsible for reduce the messages\"\"\"\n",
    "    \n",
    "    delete_messages = [RemoveMessage(id=m.id) for m in state[\"messages\"][: -2]]\n",
    "    return {\n",
    "        \"messages\": delete_messages\n",
    "    }\n",
    "\n",
    "# Node\n",
    "def chat_model_node(state: MessagesState):\n",
    "    return {\"messages\": llm.invoke(state[\"messages\"])}\n",
    "\n",
    "# Build graph\n",
    "builder = StateGraph(MessagesState)\n",
    "builder.add_node(\"chat_model\", chat_model_node)\n",
    "builder.add_node(\"reducer_node\", reducer_node)\n",
    "\n",
    "builder.add_edge(START, \"reducer_node\")\n",
    "builder.add_edge(\"reducer_node\", \"chat_model\")\n",
    "builder.add_edge(\"chat_model\", END)\n",
    "graph = builder.compile()\n",
    "\n",
    "# View\n",
    "display(Image(graph.get_graph().draw_mermaid_png()))"
   ]
  },
  {
   "cell_type": "code",
   "execution_count": 32,
   "id": "fa9c7123",
   "metadata": {},
   "outputs": [
    {
     "name": "stdout",
     "output_type": "stream",
     "text": [
      "==================================\u001b[1m Ai Message \u001b[0m==================================\n",
      "Name: Bot\n",
      "\n",
      "So you said you were researching ocean mammals?\n",
      "================================\u001b[1m Human Message \u001b[0m=================================\n",
      "Name: alamin\n",
      "\n",
      "Yes, I know about whales. But what others should I learn about?\n",
      "==================================\u001b[1m Ai Message \u001b[0m==================================\n",
      "\n",
      "Whales are indeed fascinating creatures. Besides whales, there are many other interesting ocean mammals to learn about. Here are some examples:\n",
      "\n",
      "1. **Dolphins**: Like whales, dolphins are cetaceans, but they're smaller and more agile. There are 40 species of dolphins, ranging from the bottlenose dolphin to the orca (also known as the killer whale, which is actually a dolphin, not a whale!).\n",
      "2. **Seals and Sea Lions**: These fin-footed mammals are found in oceans worldwide. Seals have ear holes, while sea lions have external ear flaps. They're known for their playful and curious nature.\n",
      "3. **Walruses**: With their distinctive tusks and blubbery bodies, walruses are iconic ocean mammals. They use their tusks to haul themselves out of the water and to defend against predators.\n",
      "4. **Manatees**: Also known as sea cows, manatees are slow-moving, herbivorous mammals that inhabit shallow waters in the Caribbean and Gulf of Mexico. They're related to elephants and are considered endangered.\n",
      "5. **Otters**: There are several species of otters that live in coastal areas, including the sea otter, which is the smallest marine mammal. Otters are known for their playful behavior and use of tools, like rocks, to crack open shells.\n",
      "6. **Pinnipeds**: This group includes seals, sea lions, and walruses. They're characterized by their flippers and streamlined bodies, which help them swim and dive efficiently.\n",
      "\n",
      "These are just a few examples of the many fascinating ocean mammals out there. Each group has its unique characteristics, behaviors, and adaptations to the marine environment.\n",
      "\n",
      "Which one of these groups would you like to learn more about?\n"
     ]
    }
   ],
   "source": [
    "# Message list with a preamble\n",
    "messages = [AIMessage(\"Hi.\", name=\"Bot\", id=\"1\")]\n",
    "messages.append(HumanMessage(\"Hi.\", name=\"alamin\", id=\"2\"))\n",
    "messages.append(AIMessage(\"So you said you were researching ocean mammals?\", name=\"Bot\", id=\"3\"))\n",
    "messages.append(HumanMessage(\"Yes, I know about whales. But what others should I learn about?\", name=\"alamin\", id=\"4\"))\n",
    "\n",
    "# Invoke\n",
    "output = graph.invoke({'messages': messages})\n",
    "for m in output['messages']:\n",
    "    m.pretty_print()"
   ]
  },
  {
   "cell_type": "markdown",
   "id": "866f3eab",
   "metadata": {},
   "source": [
    "## Filter Messages"
   ]
  },
  {
   "cell_type": "code",
   "execution_count": 33,
   "id": "0bfc3334",
   "metadata": {},
   "outputs": [
    {
     "data": {
      "image/png": "[encoded data removed]",
      "text/plain": [
       "<IPython.core.display.Image object>"
      ]
     },
     "metadata": {},
     "output_type": "display_data"
    }
   ],
   "source": [
    "# Node\n",
    "def chat_model_node(state: MessagesState):\n",
    "    return {\"messages\": [llm.invoke(state[\"messages\"][-1:])]}\n",
    "\n",
    "# Build graph\n",
    "builder = StateGraph(MessagesState)\n",
    "builder.add_node(\"chat_model\", chat_model_node)\n",
    "builder.add_edge(START, \"chat_model\")\n",
    "builder.add_edge(\"chat_model\", END)\n",
    "graph = builder.compile()\n",
    "\n",
    "# View\n",
    "display(Image(graph.get_graph().draw_mermaid_png()))"
   ]
  },
  {
   "cell_type": "code",
   "execution_count": 34,
   "id": "755a2fe6",
   "metadata": {},
   "outputs": [],
   "source": [
    "messages.append(output['messages'][-1])\n",
    "messages.append(HumanMessage(f\"Tell me more about Narwhals!\", name=\"Alamin\"))"
   ]
  },
  {
   "cell_type": "code",
   "execution_count": 35,
   "id": "c839a9d2",
   "metadata": {},
   "outputs": [
    {
     "name": "stdout",
     "output_type": "stream",
     "text": [
      "==================================\u001b[1m Ai Message \u001b[0m==================================\n",
      "Name: Bot\n",
      "\n",
      "Hi.\n",
      "================================\u001b[1m Human Message \u001b[0m=================================\n",
      "Name: alamin\n",
      "\n",
      "Hi.\n",
      "==================================\u001b[1m Ai Message \u001b[0m==================================\n",
      "Name: Bot\n",
      "\n",
      "So you said you were researching ocean mammals?\n",
      "================================\u001b[1m Human Message \u001b[0m=================================\n",
      "Name: alamin\n",
      "\n",
      "Yes, I know about whales. But what others should I learn about?\n",
      "==================================\u001b[1m Ai Message \u001b[0m==================================\n",
      "\n",
      "Whales are indeed fascinating creatures. Besides whales, there are many other interesting ocean mammals to learn about. Here are some examples:\n",
      "\n",
      "1. **Dolphins**: Like whales, dolphins are cetaceans, but they're smaller and more agile. There are 40 species of dolphins, ranging from the bottlenose dolphin to the orca (also known as the killer whale, which is actually a dolphin, not a whale!).\n",
      "2. **Seals and Sea Lions**: These fin-footed mammals are found in oceans worldwide. Seals have ear holes, while sea lions have external ear flaps. They're known for their playful and curious nature.\n",
      "3. **Walruses**: With their distinctive tusks and blubbery bodies, walruses are iconic ocean mammals. They use their tusks to haul themselves out of the water and to defend against predators.\n",
      "4. **Manatees**: Also known as sea cows, manatees are slow-moving, herbivorous mammals that inhabit shallow waters in the Caribbean and Gulf of Mexico. They're related to elephants and are considered endangered.\n",
      "5. **Otters**: There are several species of otters that live in coastal areas, including the sea otter, which is the smallest marine mammal. Otters are known for their playful behavior and use of tools, like rocks, to crack open shells.\n",
      "6. **Pinnipeds**: This group includes seals, sea lions, and walruses. They're characterized by their flippers and streamlined bodies, which help them swim and dive efficiently.\n",
      "\n",
      "These are just a few examples of the many fascinating ocean mammals out there. Each group has its unique characteristics, behaviors, and adaptations to the marine environment.\n",
      "\n",
      "Which one of these groups would you like to learn more about?\n",
      "================================\u001b[1m Human Message \u001b[0m=================================\n",
      "Name: Alamin\n",
      "\n",
      "Tell me more about Narwhals!\n"
     ]
    }
   ],
   "source": [
    "for m in messages:\n",
    "    m.pretty_print()"
   ]
  },
  {
   "cell_type": "code",
   "execution_count": 36,
   "id": "29d87753",
   "metadata": {},
   "outputs": [
    {
     "name": "stdout",
     "output_type": "stream",
     "text": [
      "==================================\u001b[1m Ai Message \u001b[0m==================================\n",
      "Name: Bot\n",
      "\n",
      "Hi.\n",
      "================================\u001b[1m Human Message \u001b[0m=================================\n",
      "Name: alamin\n",
      "\n",
      "Hi.\n",
      "==================================\u001b[1m Ai Message \u001b[0m==================================\n",
      "Name: Bot\n",
      "\n",
      "So you said you were researching ocean mammals?\n",
      "================================\u001b[1m Human Message \u001b[0m=================================\n",
      "Name: alamin\n",
      "\n",
      "Yes, I know about whales. But what others should I learn about?\n",
      "==================================\u001b[1m Ai Message \u001b[0m==================================\n",
      "\n",
      "Whales are indeed fascinating creatures. Besides whales, there are many other interesting ocean mammals to learn about. Here are some examples:\n",
      "\n",
      "1. **Dolphins**: Like whales, dolphins are cetaceans, but they're smaller and more agile. There are 40 species of dolphins, ranging from the bottlenose dolphin to the orca (also known as the killer whale, which is actually a dolphin, not a whale!).\n",
      "2. **Seals and Sea Lions**: These fin-footed mammals are found in oceans worldwide. Seals have ear holes, while sea lions have external ear flaps. They're known for their playful and curious nature.\n",
      "3. **Walruses**: With their distinctive tusks and blubbery bodies, walruses are iconic ocean mammals. They use their tusks to haul themselves out of the water and to defend against predators.\n",
      "4. **Manatees**: Also known as sea cows, manatees are slow-moving, herbivorous mammals that inhabit shallow waters in the Caribbean and Gulf of Mexico. They're related to elephants and are considered endangered.\n",
      "5. **Otters**: There are several species of otters that live in coastal areas, including the sea otter, which is the smallest marine mammal. Otters are known for their playful behavior and use of tools, like rocks, to crack open shells.\n",
      "6. **Pinnipeds**: This group includes seals, sea lions, and walruses. They're characterized by their flippers and streamlined bodies, which help them swim and dive efficiently.\n",
      "\n",
      "These are just a few examples of the many fascinating ocean mammals out there. Each group has its unique characteristics, behaviors, and adaptations to the marine environment.\n",
      "\n",
      "Which one of these groups would you like to learn more about?\n",
      "================================\u001b[1m Human Message \u001b[0m=================================\n",
      "Name: Alamin\n",
      "\n",
      "Tell me more about Narwhals!\n",
      "==================================\u001b[1m Ai Message \u001b[0m==================================\n",
      "\n",
      "The narwhal! Also known as the \"unicorn of the sea,\" this fascinating creature has captured the imagination of people around the world. Here are some interesting facts about narwhals:\n",
      "\n",
      "**Physical Characteristics:**\n",
      "\n",
      "* Narwhals (Monodon monoceros) are a type of whale that belongs to the family Monodontidae.\n",
      "* They have a distinctive tusk, which is actually a modified tooth that protrudes from their upper jaw. The tusk can grow up to 10 feet (3 meters) long and is usually found on male narwhals.\n",
      "* Narwhals have a bluish-gray back and a creamy-white belly. They can grow up to 16 feet (4.9 meters) long and weigh up to 3,500 pounds (1,590 kilograms).\n",
      "\n",
      "**Habitat and Distribution:**\n",
      "\n",
      "* Narwhals are found in the Arctic waters of Canada, Greenland, and Russia. They inhabit areas with sea ice, such as bays, fjords, and coastal waters.\n",
      "* They are social creatures and often live in groups of up to 10 individuals.\n",
      "\n",
      "**Diet and Behavior:**\n",
      "\n",
      "* Narwhals are carnivores and feed on Arctic cod, shrimp, and other marine animals. They use echolocation to locate their prey.\n",
      "* They are skilled divers and can dive to depths of up to 1,500 meters (4,920 feet) in search of food.\n",
      "* Narwhals are known for their unique way of communicating. They use a variety of clicks, whistles, and pulses to communicate with each other.\n",
      "\n",
      "**The Mysterious Tusk:**\n",
      "\n",
      "* The purpose of the narwhal's tusk is still debated among scientists. Some theories suggest that it may be used for sensing the environment, attracting mates, or even breaking through ice.\n",
      "* The tusk is actually a tooth that grows out of the upper jaw. It's thought to be a modified tooth that has evolved to become a sensory organ.\n",
      "\n",
      "**Conservation Status:**\n",
      "\n",
      "* Narwhals are listed as \"vulnerable\" on the IUCN Red List. Their populations are threatened by climate change, which is altering their habitat and making it harder for them to find food.\n",
      "* Hunting and poaching are also major threats to narwhal populations. The tusk is highly valued on the black market, and narwhals are often hunted for their ivory.\n",
      "\n",
      "**Interesting Facts:**\n",
      "\n",
      "* Narwhals are one of the most rarely seen whales in the world. They live in remote, icy waters, making them difficult to study.\n",
      "* The narwhal's tusk is so long that it was once believed to be a unicorn horn. In medieval times, narwhal tusks were sold as \"unicorn horns\" and were believed to have magical powers.\n",
      "* Narwhals are excellent swimmers and can swim at speeds of up to 35 miles (56 kilometers) per hour.\n",
      "\n",
      "Overall, narwhals are fascinating creatures that continue to capture the imagination of people around the world. Their unique appearance and behaviors make them one of the most interesting animals in the ocean!\n"
     ]
    }
   ],
   "source": [
    "# Invoke, using message filtering\n",
    "output = graph.invoke({'messages': messages})\n",
    "for m in output['messages']:\n",
    "    m.pretty_print()"
   ]
  },
  {
   "cell_type": "code",
   "execution_count": null,
   "id": "694750f6",
   "metadata": {},
   "outputs": [],
   "source": []
  }
 ],
 "metadata": {
  "kernelspec": {
   "display_name": "lang_aca",
   "language": "python",
   "name": "python3"
  },
  "language_info": {
   "codemirror_mode": {
    "name": "ipython",
    "version": 3
   },
   "file_extension": ".py",
   "mimetype": "text/x-python",
   "name": "python",
   "nbconvert_exporter": "python",
   "pygments_lexer": "ipython3",
   "version": "3.11.11"
  }
 },
 "nbformat": 4,
 "nbformat_minor": 5
}
