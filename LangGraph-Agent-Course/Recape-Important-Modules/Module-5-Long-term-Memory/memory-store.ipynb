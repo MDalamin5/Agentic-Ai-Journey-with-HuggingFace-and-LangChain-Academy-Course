{
 "cells": [
  {
   "cell_type": "code",
   "execution_count": 1,
   "id": "2fc9536d",
   "metadata": {},
   "outputs": [],
   "source": [
    "from langchain_groq import ChatGroq\n",
    "import os\n",
    "from dotenv import load_dotenv\n",
    "\n",
    "load_dotenv()\n",
    "os.environ[\"GROQ_API_KEY\"]=os.getenv(\"GROQ_API_KEY\")\n",
    "model = ChatGroq(model=\"meta-llama/llama-4-scout-17b-16e-instruct\", temperature=0.1)"
   ]
  },
  {
   "cell_type": "code",
   "execution_count": 2,
   "id": "3d8b3956",
   "metadata": {},
   "outputs": [],
   "source": [
    "import uuid\n",
    "from langgraph.store.memory import InMemoryStore\n",
    "in_state_memory = InMemoryStore()"
   ]
  },
  {
   "cell_type": "markdown",
   "id": "1667b789",
   "metadata": {},
   "source": [
    "When storing objects (e.g., memories) in the [Store](https://langchain-ai.github.io/langgraph/reference/store/#langgraph.store.base.BaseStore), we provide:\n",
    "\n",
    "- The `namespace` for the object, a tuple (similar to directories)\n",
    "- the object `key` (similar to filenames)\n",
    "- the object `value` (similar to file contents)\n",
    "\n",
    "We use the [put](https://langchain-ai.github.io/langgraph/reference/store/#langgraph.store.base.BaseStore.put) method to save an object to the store by `namespace` and `key`."
   ]
  },
  {
   "cell_type": "code",
   "execution_count": 4,
   "id": "b3b6bc82",
   "metadata": {},
   "outputs": [],
   "source": [
    "## Name space to save the memory\n",
    "user_id = \"1\"\n",
    "namespace_for_memory = (user_id, \"memories\") # its work as the directory\n",
    "\n",
    "## create the fine name as the unique key or Str\n",
    "key = str(uuid.uuid4())\n",
    "\n",
    "## create some of the value to save into the memory\n",
    "\n",
    "value = {\n",
    "    \"food_preference\": \"i like rice and fish.\"\n",
    "}\n",
    "\n",
    "## save into the memory\n",
    "\n",
    "in_state_memory.put(namespace_for_memory, key, value)"
   ]
  },
  {
   "cell_type": "code",
   "execution_count": 5,
   "id": "bb49ce32",
   "metadata": {},
   "outputs": [
    {
     "data": {
      "text/plain": [
       "[Item(namespace=['1', 'memories'], key='b4c28d6e-91a6-43ba-bc87-3ef3fd1f3bb5', value={'food_preference': 'i like rice and fish.'}, created_at='2025-05-19T06:35:35.284080+00:00', updated_at='2025-05-19T06:35:35.284080+00:00', score=None)]"
      ]
     },
     "execution_count": 5,
     "metadata": {},
     "output_type": "execute_result"
    }
   ],
   "source": [
    "## search is to retrieve the data form the memory\n",
    "\n",
    "memories =in_state_memory.search(namespace_for_memory)\n",
    "memories"
   ]
  },
  {
   "cell_type": "code",
   "execution_count": 6,
   "id": "0da432f8",
   "metadata": {},
   "outputs": [
    {
     "data": {
      "text/plain": [
       "list"
      ]
     },
     "execution_count": 6,
     "metadata": {},
     "output_type": "execute_result"
    }
   ],
   "source": [
    "type(memories)"
   ]
  },
  {
   "cell_type": "code",
   "execution_count": 8,
   "id": "8c968497",
   "metadata": {},
   "outputs": [
    {
     "data": {
      "text/plain": [
       "{'namespace': ['1', 'memories'],\n",
       " 'key': 'b4c28d6e-91a6-43ba-bc87-3ef3fd1f3bb5',\n",
       " 'value': {'food_preference': 'i like rice and fish.'},\n",
       " 'created_at': '2025-05-19T06:35:35.284080+00:00',\n",
       " 'updated_at': '2025-05-19T06:35:35.284080+00:00',\n",
       " 'score': None}"
      ]
     },
     "execution_count": 8,
     "metadata": {},
     "output_type": "execute_result"
    }
   ],
   "source": [
    "memories[0].dict()"
   ]
  },
  {
   "cell_type": "markdown",
   "id": "f0f8ee2c",
   "metadata": {},
   "source": [
    "### Use the get object to retrieve object based on the key"
   ]
  },
  {
   "cell_type": "code",
   "execution_count": 9,
   "id": "a5b22cc5",
   "metadata": {},
   "outputs": [
    {
     "data": {
      "text/plain": [
       "{'namespace': ['1', 'memories'],\n",
       " 'key': 'b4c28d6e-91a6-43ba-bc87-3ef3fd1f3bb5',\n",
       " 'value': {'food_preference': 'i like rice and fish.'},\n",
       " 'created_at': '2025-05-19T06:35:35.284080+00:00',\n",
       " 'updated_at': '2025-05-19T06:35:35.284080+00:00'}"
      ]
     },
     "execution_count": 9,
     "metadata": {},
     "output_type": "execute_result"
    }
   ],
   "source": [
    "memory = in_state_memory.get(namespace_for_memory, key)\n",
    "memory.dict()"
   ]
  },
  {
   "cell_type": "code",
   "execution_count": 10,
   "id": "02300bcd",
   "metadata": {},
   "outputs": [],
   "source": [
    "## create the fine name as the unique key or Str\n",
    "key = str(uuid.uuid4())\n",
    "\n",
    "## create some of the value to save into the memory\n",
    "\n",
    "value = {\n",
    "    \"skills\": \"i'm a programmer and python is my favorite programming language. cpp use to problem solving.\"\n",
    "}\n",
    "\n",
    "## save into the memory\n",
    "\n",
    "in_state_memory.put(namespace_for_memory, key, value)"
   ]
  },
  {
   "cell_type": "code",
   "execution_count": 11,
   "id": "04008123",
   "metadata": {},
   "outputs": [
    {
     "data": {
      "text/plain": [
       "[Item(namespace=['1', 'memories'], key='b4c28d6e-91a6-43ba-bc87-3ef3fd1f3bb5', value={'food_preference': 'i like rice and fish.'}, created_at='2025-05-19T06:35:35.284080+00:00', updated_at='2025-05-19T06:35:35.284080+00:00', score=None),\n",
       " Item(namespace=['1', 'memories'], key='fab1dd80-f431-485f-b083-1130cacb5053', value={'skills': \"i'm a programmer and python is my favorite programming language. cpp use to problem solving.\"}, created_at='2025-05-19T06:41:19.460090+00:00', updated_at='2025-05-19T06:41:19.460090+00:00', score=None)]"
      ]
     },
     "execution_count": 11,
     "metadata": {},
     "output_type": "execute_result"
    }
   ],
   "source": [
    "memories =in_state_memory.search(namespace_for_memory)\n",
    "memories"
   ]
  },
  {
   "cell_type": "code",
   "execution_count": 13,
   "id": "860ef20f",
   "metadata": {},
   "outputs": [
    {
     "name": "stdout",
     "output_type": "stream",
     "text": [
      "{'food_preference': 'i like rice and fish.'}\n",
      "{'skills': \"i'm a programmer and python is my favorite programming language. cpp use to problem solving.\"}\n"
     ]
    }
   ],
   "source": [
    "for m in memories:\n",
    "    print(m.value)"
   ]
  },
  {
   "cell_type": "code",
   "execution_count": null,
   "id": "a0db8ce8",
   "metadata": {},
   "outputs": [],
   "source": []
  }
 ],
 "metadata": {
  "kernelspec": {
   "display_name": "lang_aca",
   "language": "python",
   "name": "python3"
  },
  "language_info": {
   "codemirror_mode": {
    "name": "ipython",
    "version": 3
   },
   "file_extension": ".py",
   "mimetype": "text/x-python",
   "name": "python",
   "nbconvert_exporter": "python",
   "pygments_lexer": "ipython3",
   "version": "3.11.11"
  }
 },
 "nbformat": 4,
 "nbformat_minor": 5
}
