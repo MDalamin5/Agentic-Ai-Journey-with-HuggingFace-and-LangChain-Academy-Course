{
 "cells": [
  {
   "cell_type": "code",
   "execution_count": 1,
   "id": "2fc9536d",
   "metadata": {},
   "outputs": [],
   "source": [
    "from langchain_groq import ChatGroq\n",
    "import os\n",
    "from dotenv import load_dotenv\n",
    "\n",
    "load_dotenv()\n",
    "os.environ[\"GROQ_API_KEY\"]=os.getenv(\"GROQ_API_KEY\")\n",
    "model = ChatGroq(model=\"meta-llama/llama-4-scout-17b-16e-instruct\", temperature=0.1)"
   ]
  },
  {
   "cell_type": "code",
   "execution_count": 2,
   "id": "3d8b3956",
   "metadata": {},
   "outputs": [],
   "source": [
    "import uuid\n",
    "from langgraph.store.memory import InMemoryStore\n",
    "in_state_memory = InMemoryStore()"
   ]
  },
  {
   "cell_type": "markdown",
   "id": "1667b789",
   "metadata": {},
   "source": [
    "When storing objects (e.g., memories) in the [Store](https://langchain-ai.github.io/langgraph/reference/store/#langgraph.store.base.BaseStore), we provide:\n",
    "\n",
    "- The `namespace` for the object, a tuple (similar to directories)\n",
    "- the object `key` (similar to filenames)\n",
    "- the object `value` (similar to file contents)\n",
    "\n",
    "We use the [put](https://langchain-ai.github.io/langgraph/reference/store/#langgraph.store.base.BaseStore.put) method to save an object to the store by `namespace` and `key`."
   ]
  },
  {
   "cell_type": "code",
   "execution_count": 3,
   "id": "b3b6bc82",
   "metadata": {},
   "outputs": [],
   "source": [
    "## Name space to save the memory\n",
    "user_id = \"1\"\n",
    "namespace_for_memory = (user_id, \"memories\") # its work as the directory\n",
    "\n",
    "## create the fine name as the unique key or Str\n",
    "key = str(uuid.uuid4())\n",
    "\n",
    "## create some of the value to save into the memory\n",
    "\n",
    "value = {\n",
    "    \"food_preference\": \"i like rice and fish.\"\n",
    "}\n",
    "\n",
    "## save into the memory\n",
    "\n",
    "in_state_memory.put(namespace_for_memory, key, value)"
   ]
  },
  {
   "cell_type": "code",
   "execution_count": 4,
   "id": "bb49ce32",
   "metadata": {},
   "outputs": [
    {
     "data": {
      "text/plain": [
       "[Item(namespace=['1', 'memories'], key='8582be29-206b-40cc-95bc-be1d9ce729f5', value={'food_preference': 'i like rice and fish.'}, created_at='2025-05-19T09:20:25.420275+00:00', updated_at='2025-05-19T09:20:25.420275+00:00', score=None)]"
      ]
     },
     "execution_count": 4,
     "metadata": {},
     "output_type": "execute_result"
    }
   ],
   "source": [
    "## search is to retrieve the data form the memory\n",
    "\n",
    "memories =in_state_memory.search(namespace_for_memory)\n",
    "memories"
   ]
  },
  {
   "cell_type": "code",
   "execution_count": 5,
   "id": "0da432f8",
   "metadata": {},
   "outputs": [
    {
     "data": {
      "text/plain": [
       "list"
      ]
     },
     "execution_count": 5,
     "metadata": {},
     "output_type": "execute_result"
    }
   ],
   "source": [
    "type(memories)"
   ]
  },
  {
   "cell_type": "code",
   "execution_count": 6,
   "id": "8c968497",
   "metadata": {},
   "outputs": [
    {
     "data": {
      "text/plain": [
       "{'namespace': ['1', 'memories'],\n",
       " 'key': '8582be29-206b-40cc-95bc-be1d9ce729f5',\n",
       " 'value': {'food_preference': 'i like rice and fish.'},\n",
       " 'created_at': '2025-05-19T09:20:25.420275+00:00',\n",
       " 'updated_at': '2025-05-19T09:20:25.420275+00:00',\n",
       " 'score': None}"
      ]
     },
     "execution_count": 6,
     "metadata": {},
     "output_type": "execute_result"
    }
   ],
   "source": [
    "memories[0].dict()"
   ]
  },
  {
   "cell_type": "markdown",
   "id": "f0f8ee2c",
   "metadata": {},
   "source": [
    "### Use the get object to retrieve object based on the key"
   ]
  },
  {
   "cell_type": "code",
   "execution_count": 7,
   "id": "a5b22cc5",
   "metadata": {},
   "outputs": [
    {
     "data": {
      "text/plain": [
       "{'namespace': ['1', 'memories'],\n",
       " 'key': '8582be29-206b-40cc-95bc-be1d9ce729f5',\n",
       " 'value': {'food_preference': 'i like rice and fish.'},\n",
       " 'created_at': '2025-05-19T09:20:25.420275+00:00',\n",
       " 'updated_at': '2025-05-19T09:20:25.420275+00:00'}"
      ]
     },
     "execution_count": 7,
     "metadata": {},
     "output_type": "execute_result"
    }
   ],
   "source": [
    "memory = in_state_memory.get(namespace_for_memory, key)\n",
    "memory.dict()"
   ]
  },
  {
   "cell_type": "code",
   "execution_count": 8,
   "id": "39b2bb98",
   "metadata": {},
   "outputs": [
    {
     "name": "stdout",
     "output_type": "stream",
     "text": [
      "i like rice and fish.\n"
     ]
    }
   ],
   "source": [
    "print(memory.value.get(\"food_preference\"))"
   ]
  },
  {
   "cell_type": "code",
   "execution_count": 9,
   "id": "02300bcd",
   "metadata": {},
   "outputs": [],
   "source": [
    "## create the fine name as the unique key or Str\n",
    "key = str(uuid.uuid4())\n",
    "\n",
    "## create some of the value to save into the memory\n",
    "\n",
    "value = {\n",
    "    \"skills\": \"i'm a programmer and python is my favorite programming language. cpp use to problem solving.\"\n",
    "}\n",
    "\n",
    "## save into the memory\n",
    "\n",
    "in_state_memory.put(namespace_for_memory, key, value)"
   ]
  },
  {
   "cell_type": "code",
   "execution_count": 10,
   "id": "04008123",
   "metadata": {},
   "outputs": [
    {
     "data": {
      "text/plain": [
       "[Item(namespace=['1', 'memories'], key='8582be29-206b-40cc-95bc-be1d9ce729f5', value={'food_preference': 'i like rice and fish.'}, created_at='2025-05-19T09:20:25.420275+00:00', updated_at='2025-05-19T09:20:25.420275+00:00', score=None),\n",
       " Item(namespace=['1', 'memories'], key='7a47fe25-634d-47bb-97d9-b0c3b664ba41', value={'skills': \"i'm a programmer and python is my favorite programming language. cpp use to problem solving.\"}, created_at='2025-05-19T09:20:25.493297+00:00', updated_at='2025-05-19T09:20:25.493297+00:00', score=None)]"
      ]
     },
     "execution_count": 10,
     "metadata": {},
     "output_type": "execute_result"
    }
   ],
   "source": [
    "memories =in_state_memory.search(namespace_for_memory)\n",
    "memories"
   ]
  },
  {
   "cell_type": "code",
   "execution_count": 11,
   "id": "860ef20f",
   "metadata": {},
   "outputs": [
    {
     "name": "stdout",
     "output_type": "stream",
     "text": [
      "{'food_preference': 'i like rice and fish.'}\n",
      "{'skills': \"i'm a programmer and python is my favorite programming language. cpp use to problem solving.\"}\n"
     ]
    }
   ],
   "source": [
    "for m in memories:\n",
    "    print(m.value)"
   ]
  },
  {
   "cell_type": "markdown",
   "id": "2f877d87",
   "metadata": {},
   "source": [
    "## Chatbot with long-term memory\n",
    "\n",
    "We want a chatbot that [has two types of memory](https://docs.google.com/presentation/d/181mvjlgsnxudQI6S3ritg9sooNyu4AcLLFH1UK0kIuk/edit#slide=id.g30eb3c8cf10_0_156):\n",
    "\n",
    "1. `Short-term (within-thread) memory`: Chatbot can persist conversational history and / or allow interruptions in a chat session.\n",
    "2. `Long-term (cross-thread) memory`: Chatbot can remember information about a specific user *across all chat sessions*."
   ]
  },
  {
   "cell_type": "code",
   "execution_count": 12,
   "id": "63829e49",
   "metadata": {},
   "outputs": [],
   "source": [
    "from IPython.display import Image, display\n",
    "\n",
    "from langgraph.checkpoint.memory import MemorySaver\n",
    "from langgraph.graph import StateGraph, MessagesState, START, END\n",
    "from langgraph.store.base import BaseStore\n",
    "\n",
    "from langchain_core.messages import HumanMessage, SystemMessage\n",
    "from langchain_core.runnables.config import RunnableConfig\n",
    "\n",
    "# Chatbot instruction\n",
    "MODEL_SYSTEM_MESSAGE = \"\"\"You are a helpful assistant with memory that provides information about the user. \n",
    "If you have memory for this user, use it to personalize your responses.\n",
    "Here is the memory (it may be empty): {memory}\"\"\"\n",
    "\n",
    "# Create new memory from the chat history and any existing memory\n",
    "CREATE_MEMORY_INSTRUCTION = \"\"\"\"You are collecting information about the user to personalize your responses.\n",
    "\n",
    "CURRENT USER INFORMATION:\n",
    "{memory}\n",
    "\n",
    "INSTRUCTIONS:\n",
    "1. Review the chat history below carefully\n",
    "2. Identify new information about the user, such as:\n",
    "   - Personal details (name, location)\n",
    "   - Preferences (likes, dislikes)\n",
    "   - Interests and hobbies\n",
    "   - Past experiences\n",
    "   - Goals or future plans\n",
    "3. Merge any new information with existing memory\n",
    "4. Format the memory as a clear, bulleted list\n",
    "5. If new information conflicts with existing memory, keep the most recent version\n",
    "\n",
    "Remember: Only include factual information directly stated by the user. Do not make assumptions or inferences.\n",
    "\n",
    "Based on the chat history below, please update the user information:\"\"\""
   ]
  },
  {
   "cell_type": "code",
   "execution_count": 13,
   "id": "4ebd1072",
   "metadata": {},
   "outputs": [],
   "source": [
    "def call_model(state: MessagesState, config: RunnableConfig, store: BaseStore):\n",
    "    \"\"\"Load the memory form the store and use it to personalize the chatbot's response.\"\"\"\n",
    "    \n",
    "    ## get the user info and extract the existing memory\n",
    "    \n",
    "    user_id = config['configurable']['user_id']\n",
    "    namespace = (\"memory\", user_id)\n",
    "    key = \"user_memory\"\n",
    "    existing_memory = store.get(namespace, key)\n",
    "    \n",
    "    if existing_memory:\n",
    "        existing_memory_content = existing_memory.value.get(\"memory\")  ## load the existing data\n",
    "    else:\n",
    "        existing_memory_content = \"No exiting memory content found.\"\n",
    "        \n",
    "    system_msg = MODEL_SYSTEM_MESSAGE.format(memory = existing_memory_content)\n",
    "    \n",
    "    response = model.invoke([SystemMessage(content=system_msg)]+state['messages'])\n",
    "    \n",
    "    return {\n",
    "        \"messages\": response\n",
    "    }"
   ]
  },
  {
   "cell_type": "code",
   "execution_count": 14,
   "id": "5887cc2d",
   "metadata": {},
   "outputs": [],
   "source": [
    "def write_memory(state: MessagesState, config: RunnableConfig, store: BaseStore):\n",
    "    \"\"\"Reflect o the chat history and save a memory to the store.\"\"\"\n",
    "    \n",
    "    user_id = config['configurable']['user_id']\n",
    "    namespace = (\"memory\", user_id)\n",
    "    key = \"user_memory\"\n",
    "    existing_memory = store.get(namespace, key)\n",
    "    \n",
    "    # Extract the memory\n",
    "    if existing_memory:\n",
    "        existing_memory_content = existing_memory.value.get('memory')\n",
    "    else:\n",
    "        existing_memory_content = \"No existing memory found.\"\n",
    "        \n",
    "    system_msg = CREATE_MEMORY_INSTRUCTION.format(memory = existing_memory_content)\n",
    "    \n",
    "    new_memory = model.invoke([SystemMessage(content=system_msg)]+state['messages'])\n",
    "    \n",
    "    ## overwrite the existing memory in the store.\n",
    "    store.put(namespace, key, {'memory': new_memory.content})\n",
    "        "
   ]
  },
  {
   "cell_type": "code",
   "execution_count": 15,
   "id": "59c697ce",
   "metadata": {},
   "outputs": [
    {
     "data": {
      "image/png": "[encoded data removed]",
      "text/plain": [
       "<IPython.core.display.Image object>"
      ]
     },
     "metadata": {},
     "output_type": "display_data"
    }
   ],
   "source": [
    "# Define the graph\n",
    "builder = StateGraph(MessagesState)\n",
    "builder.add_node(\"call_model\", call_model)\n",
    "builder.add_node(\"write_memory\", write_memory)\n",
    "builder.add_edge(START, \"call_model\")\n",
    "builder.add_edge(\"call_model\", \"write_memory\")\n",
    "builder.add_edge(\"write_memory\", END)\n",
    "\n",
    "# Store for long-term (across-thread) memory\n",
    "across_thread_memory = InMemoryStore()\n",
    "\n",
    "# Checkpointer for short-term (within-thread) memory\n",
    "within_thread_memory = MemorySaver()\n",
    "\n",
    "# Compile the graph with the checkpointer fir and store\n",
    "graph = builder.compile(checkpointer=within_thread_memory, store=across_thread_memory)\n",
    "\n",
    "# View\n",
    "display(Image(graph.get_graph(xray=1).draw_mermaid_png()))"
   ]
  },
  {
   "cell_type": "markdown",
   "id": "b15743f7",
   "metadata": {},
   "source": [
    "When we interact with the chatbot, we supply two things:\n",
    "\n",
    "1. `Short-term (within-thread) memory`: A `thread ID` for persisting the chat history.\n",
    "2. `Long-term (cross-thread) memory`: A `user ID` to namespace long-term memories to the user.\n",
    "\n",
    "Let's see how these work together in practice. "
   ]
  },
  {
   "cell_type": "code",
   "execution_count": 16,
   "id": "4f28f980",
   "metadata": {},
   "outputs": [
    {
     "name": "stdout",
     "output_type": "stream",
     "text": [
      "================================\u001b[1m Human Message \u001b[0m=================================\n",
      "\n",
      "Hi, my name is Al Amin. I complete my UG form North south university.\n",
      "==================================\u001b[1m Ai Message \u001b[0m==================================\n",
      "\n",
      "Hello Al Amin! Nice to meet you. Congratulations on completing your undergraduate studies at North South University! That's a great achievement. How can I assist you today? Do you have any questions or need help with something related to your studies or career?\n"
     ]
    }
   ],
   "source": [
    "# We supply a thread ID for short-term (within-thread) memory\n",
    "# We supply a user ID for long-term (across-thread) memory \n",
    "config = {\"configurable\": {\"thread_id\": \"1\", \"user_id\": \"1\"}}\n",
    "\n",
    "# User input \n",
    "input_messages = [HumanMessage(content=\"Hi, my name is Al Amin. I complete my UG form North south university.\")]\n",
    "\n",
    "# Run the graph\n",
    "for chunk in graph.stream({\"messages\": input_messages}, config, stream_mode=\"values\"):\n",
    "    chunk[\"messages\"][-1].pretty_print()"
   ]
  },
  {
   "cell_type": "code",
   "execution_count": 17,
   "id": "4472e592",
   "metadata": {},
   "outputs": [
    {
     "name": "stdout",
     "output_type": "stream",
     "text": [
      "================================\u001b[1m Human Message \u001b[0m=================================\n",
      "\n",
      "I like to bike around Bashundhara r/a, Dhaka.\n",
      "==================================\u001b[1m Ai Message \u001b[0m==================================\n",
      "\n",
      "Biking around Bashundhara Residential Area (R/A) in Dhaka sounds like a great way to stay active and enjoy the outdoors! Bashundhara R/A is a beautiful and relatively quiet neighborhood with tree-lined roads, making it a pleasant area to explore on a bike.\n",
      "\n",
      "Do you have a favorite route or spot within Bashundhara R/A that you like to visit while biking? Or perhaps you're looking for some recommendations on where to go or what to see in the area?\n"
     ]
    }
   ],
   "source": [
    "# User input \n",
    "input_messages = [HumanMessage(content=\"I like to bike around Bashundhara r/a, Dhaka.\")]\n",
    "\n",
    "# Run the graph\n",
    "for chunk in graph.stream({\"messages\": input_messages}, config, stream_mode=\"values\"):\n",
    "    chunk[\"messages\"][-1].pretty_print()"
   ]
  },
  {
   "cell_type": "code",
   "execution_count": 18,
   "id": "11abf5ec",
   "metadata": {},
   "outputs": [
    {
     "name": "stdout",
     "output_type": "stream",
     "text": [
      "================================\u001b[1m Human Message \u001b[0m=================================\n",
      "\n",
      "Hi, my name is Al Amin. I complete my UG form North south university.\n",
      "==================================\u001b[1m Ai Message \u001b[0m==================================\n",
      "\n",
      "Hello Al Amin! Nice to meet you. Congratulations on completing your undergraduate studies at North South University! That's a great achievement. How can I assist you today? Do you have any questions or need help with something related to your studies or career?\n",
      "================================\u001b[1m Human Message \u001b[0m=================================\n",
      "\n",
      "I like to bike around Bashundhara r/a, Dhaka.\n",
      "==================================\u001b[1m Ai Message \u001b[0m==================================\n",
      "\n",
      "Biking around Bashundhara Residential Area (R/A) in Dhaka sounds like a great way to stay active and enjoy the outdoors! Bashundhara R/A is a beautiful and relatively quiet neighborhood with tree-lined roads, making it a pleasant area to explore on a bike.\n",
      "\n",
      "Do you have a favorite route or spot within Bashundhara R/A that you like to visit while biking? Or perhaps you're looking for some recommendations on where to go or what to see in the area?\n"
     ]
    }
   ],
   "source": [
    "## overall messages\n",
    "\n",
    "thread = {\"configurable\": {\"thread_id\": \"1\"}}\n",
    "state = graph.get_state(thread).values\n",
    "for m in state[\"messages\"]: \n",
    "    m.pretty_print()"
   ]
  },
  {
   "cell_type": "code",
   "execution_count": 19,
   "id": "f06d964f",
   "metadata": {},
   "outputs": [
    {
     "data": {
      "text/plain": [
       "{'namespace': ['memory', '1'],\n",
       " 'key': 'user_memory',\n",
       " 'value': {'memory': ' \\n\\n**Updated User Information:**\\n* Name: Al Amin\\n* Education: Completed undergraduate studies at North South University\\n* Interests/Hobbies: Biking\\n* Favorite biking location: Bashundhara R/A, Dhaka'},\n",
       " 'created_at': '2025-05-19T09:20:27.144532+00:00',\n",
       " 'updated_at': '2025-05-19T09:20:27.144532+00:00'}"
      ]
     },
     "execution_count": 19,
     "metadata": {},
     "output_type": "execute_result"
    }
   ],
   "source": [
    "# Namespace for the memory to save\n",
    "user_id = \"1\"\n",
    "namespace = (\"memory\", user_id)\n",
    "existing_memory = across_thread_memory.get(namespace, \"user_memory\")\n",
    "existing_memory.dict()"
   ]
  },
  {
   "cell_type": "code",
   "execution_count": 21,
   "id": "9017c8d0",
   "metadata": {},
   "outputs": [
    {
     "name": "stdout",
     "output_type": "stream",
     "text": [
      " \n",
      "\n",
      "**Updated User Information:**\n",
      "* Name: Al Amin\n",
      "* Education: Completed undergraduate studies at North South University\n",
      "* Interests/Hobbies: Biking\n",
      "* Favorite biking location: Bashundhara R/A, Dhaka\n"
     ]
    }
   ],
   "source": [
    "print(existing_memory.value.get(\"memory\"))"
   ]
  },
  {
   "cell_type": "markdown",
   "id": "ea3f32a5",
   "metadata": {},
   "source": [
    "## New thread id means new chat"
   ]
  },
  {
   "cell_type": "code",
   "execution_count": 22,
   "id": "c9fd38f8",
   "metadata": {},
   "outputs": [
    {
     "name": "stdout",
     "output_type": "stream",
     "text": [
      "================================\u001b[1m Human Message \u001b[0m=================================\n",
      "\n",
      "Hi! Where would you recommend that I go biking?\n",
      "==================================\u001b[1m Ai Message \u001b[0m==================================\n",
      "\n",
      "Hi! I'm Al Amin, nice to chat with you. I'm glad you asked about biking recommendations! You know, I'm quite fond of biking myself, and I've got a favorite spot that's really close to my heart - Bashundhara R/A in Dhaka. The roads are relatively smooth, and the scenery is lovely. It's a great place to ride around and enjoy the outdoors. Would you like more information about the route or any specific tips for biking there?\n"
     ]
    }
   ],
   "source": [
    "# We supply a user ID for across-thread memory as well as a new thread ID\n",
    "config = {\"configurable\": {\"thread_id\": \"2\", \"user_id\": \"1\"}}\n",
    "\n",
    "# User input \n",
    "input_messages = [HumanMessage(content=\"Hi! Where would you recommend that I go biking?\")]\n",
    "\n",
    "# Run the graph\n",
    "for chunk in graph.stream({\"messages\": input_messages}, config, stream_mode=\"values\"):\n",
    "    chunk[\"messages\"][-1].pretty_print()"
   ]
  },
  {
   "cell_type": "code",
   "execution_count": 23,
   "id": "180c1688",
   "metadata": {},
   "outputs": [
    {
     "name": "stdout",
     "output_type": "stream",
     "text": [
      "================================\u001b[1m Human Message \u001b[0m=================================\n",
      "\n",
      "Great, are there any Gym nearby that I can check out? I like a croissant after biking.\n",
      "==================================\u001b[1m Ai Message \u001b[0m==================================\n",
      "\n",
      "Bashundhara R/A has plenty of great gyms and cafes nearby. For a gym, I'd recommend checking out the Planet Fitness or the Anytime Fitness - both are top-notch and have great equipment. If you're looking for something a bit more low-key, there's also a 24/7 gym on the ground floor of one of the residential buildings.\n",
      "\n",
      "As for croissants, you're in luck! There's a lovely bakery called \"The Daily\" just a short ride from Bashundhara R/A. They have an amazing selection of freshly baked croissants, and their outdoor seating area is perfect for relaxing after a bike ride. Alternatively, you could also try \"Crate Cafe\" - they have a great selection of pastries, sandwiches, and coffee.\n",
      "\n",
      "Would you like more specific directions or recommendations on how to get to these spots from Bashundhara R/A?\n"
     ]
    }
   ],
   "source": [
    "# User input \n",
    "input_messages = [HumanMessage(content=\"Great, are there any Gym nearby that I can check out? I like a croissant after biking.\")]\n",
    "\n",
    "# Run the graph\n",
    "for chunk in graph.stream({\"messages\": input_messages}, config, stream_mode=\"values\"):\n",
    "    chunk[\"messages\"][-1].pretty_print()"
   ]
  },
  {
   "cell_type": "code",
   "execution_count": null,
   "id": "576d9f8d",
   "metadata": {},
   "outputs": [],
   "source": []
  }
 ],
 "metadata": {
  "kernelspec": {
   "display_name": "lang_aca",
   "language": "python",
   "name": "python3"
  },
  "language_info": {
   "codemirror_mode": {
    "name": "ipython",
    "version": 3
   },
   "file_extension": ".py",
   "mimetype": "text/x-python",
   "name": "python",
   "nbconvert_exporter": "python",
   "pygments_lexer": "ipython3",
   "version": "3.11.11"
  }
 },
 "nbformat": 4,
 "nbformat_minor": 5
}
