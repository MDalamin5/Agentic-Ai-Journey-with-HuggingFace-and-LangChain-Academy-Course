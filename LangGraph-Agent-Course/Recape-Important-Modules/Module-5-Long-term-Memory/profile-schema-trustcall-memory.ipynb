{
 "cells": [
  {
   "cell_type": "code",
   "execution_count": 1,
   "id": "24323e31",
   "metadata": {},
   "outputs": [],
   "source": [
    "from langchain_groq import ChatGroq\n",
    "import os\n",
    "from dotenv import load_dotenv\n",
    "\n",
    "load_dotenv()\n",
    "os.environ[\"GROQ_API_KEY\"]=os.getenv(\"GROQ_API_KEY\")\n",
    "model = ChatGroq(model=\"meta-llama/llama-4-scout-17b-16e-instruct\", temperature=0.1)"
   ]
  },
  {
   "cell_type": "markdown",
   "id": "33e2db33",
   "metadata": {},
   "source": [
    "## Define the profile Schema"
   ]
  },
  {
   "cell_type": "code",
   "execution_count": 4,
   "id": "b53746bb",
   "metadata": {},
   "outputs": [],
   "source": [
    "from typing import TypedDict, List\n",
    "\n",
    "class UserProfile(TypedDict):\n",
    "    \"\"\"user profile schema with typed fields\n",
    "    \n",
    "    Args:\n",
    "    user_name: is the user's preferred name,\n",
    "    interests: is a list of users interests\n",
    "    \"\"\"\n",
    "    user_name: str\n",
    "    interests: List[str]"
   ]
  },
  {
   "cell_type": "code",
   "execution_count": 5,
   "id": "d272793b",
   "metadata": {},
   "outputs": [
    {
     "data": {
      "text/plain": [
       "{'user_name': 'Md Al Amin', 'interests': ['biking', 'programming', 'reading']}"
      ]
     },
     "execution_count": 5,
     "metadata": {},
     "output_type": "execute_result"
    }
   ],
   "source": [
    "\n",
    "user_profile = UserProfile(user_name=\"Md Al Amin\", interests=['biking', 'programming', 'reading'])\n",
    "user_profile"
   ]
  },
  {
   "cell_type": "code",
   "execution_count": 6,
   "id": "fda788a5",
   "metadata": {},
   "outputs": [],
   "source": [
    "from langgraph.store.memory import InMemoryStore\n",
    "in_memory_store = InMemoryStore()\n",
    "\n",
    "user_id = '1'\n",
    "namespace_for_memory = (user_id, 'memory')\n",
    "key = \"user_profile\"\n",
    "value = user_profile\n",
    "\n",
    "in_memory_store.put(namespace_for_memory, key, value)"
   ]
  },
  {
   "cell_type": "code",
   "execution_count": 7,
   "id": "ce0027a0",
   "metadata": {},
   "outputs": [
    {
     "name": "stdout",
     "output_type": "stream",
     "text": [
      "{'namespace': ['1', 'memory'], 'key': 'user_profile', 'value': {'user_name': 'Md Al Amin', 'interests': ['biking', 'programming', 'reading']}, 'created_at': '2025-05-19T10:28:32.517899+00:00', 'updated_at': '2025-05-19T10:28:32.517899+00:00', 'score': None}\n"
     ]
    }
   ],
   "source": [
    "for m in in_memory_store.search(namespace_for_memory):\n",
    "    print(m.dict())"
   ]
  },
  {
   "cell_type": "code",
   "execution_count": 12,
   "id": "4a562daa",
   "metadata": {},
   "outputs": [
    {
     "name": "stdout",
     "output_type": "stream",
     "text": [
      "{'user_name': 'Md Al Amin', 'interests': ['biking', 'programming', 'reading']}\n"
     ]
    }
   ],
   "source": [
    "for m in in_memory_store.search(namespace_for_memory):\n",
    "    print(m.dict()['value'])"
   ]
  },
  {
   "cell_type": "code",
   "execution_count": 13,
   "id": "555f8209",
   "metadata": {},
   "outputs": [
    {
     "data": {
      "text/plain": [
       "{'user_name': 'Md Al Amin', 'interests': ['biking', 'programming', 'reading']}"
      ]
     },
     "execution_count": 13,
     "metadata": {},
     "output_type": "execute_result"
    }
   ],
   "source": [
    "profile = in_memory_store.get(namespace_for_memory, \"user_profile\")\n",
    "profile.value"
   ]
  },
  {
   "cell_type": "markdown",
   "id": "c4d62618",
   "metadata": {},
   "source": [
    "## LangGraph Tracking"
   ]
  },
  {
   "cell_type": "code",
   "execution_count": 14,
   "id": "0ee3e272",
   "metadata": {},
   "outputs": [],
   "source": [
    "os.environ[\"LANGCHAIN_API_KEY\"] = os.getenv(\"LANGCHAIN_API_KEY\")\n",
    "os.environ[\"LANGSMITH_TRACING\"] = \"true\"\n",
    "os.environ[\"LANGSMITH_PROJECT\"] = \"langchain-academy\""
   ]
  },
  {
   "cell_type": "markdown",
   "id": "0e82a0a7",
   "metadata": {},
   "source": [
    "## Trustcall for creating and updating profile schemas\n",
    "\n",
    "As we can see, working with schemas can be tricky.\n",
    "\n",
    "Complex schemas can be difficult to extract.\n",
    "\n",
    "In addition, updating even simple schemas can pose challenges.\n",
    "\n",
    "Consider our above chatbot.\n",
    "\n",
    "We regenerated the profile schema *from scratch* each time we chose to save a new memory.\n",
    "\n",
    "This is inefficient, potentially wasting model tokens if the schema contains a lot of information to re-generate each time.\n",
    "\n",
    "Worse, we may loose information when regenerating the profile from scratch.\n",
    "\n",
    "Addressing these problems is the motivation for [TrustCall](https://github.com/hinthornw/trustcall)!\n",
    "\n",
    "This is an open-source library for updating JSON schemas developed by one [Will Fu-Hinthorn](https://github.com/hinthornw) on the LangChain team.\n",
    "\n",
    "It's motivated by exactly these challenges while working on memory.\n",
    "\n",
    "Let's first show simple usage of extraction with TrustCall on this list of [messages](https://python.langchain.com/docs/concepts/messages/).\n"
   ]
  },
  {
   "cell_type": "code",
   "execution_count": 15,
   "id": "bab30059",
   "metadata": {},
   "outputs": [],
   "source": [
    "from langchain_core.messages import SystemMessage, HumanMessage, AIMessage, AnyMessage\n",
    "# Conversation\n",
    "conversation = [HumanMessage(content=\"Hi, I'm Al Amin.\"),\n",
    "                AIMessage(content=\"Nice to meet you, Lance.\"),\n",
    "                HumanMessage(content=\"I really like biking around Bashundhara r/a, Dhaka.\")]"
   ]
  },
  {
   "cell_type": "code",
   "execution_count": 16,
   "id": "402f3cab",
   "metadata": {},
   "outputs": [],
   "source": [
    "from pydantic import BaseModel, Field\n",
    "from trustcall import create_extractor\n",
    "\n",
    "\n",
    "# Schema\n",
    "class UserProfile(BaseModel):\n",
    "    \"\"\"User profile schema with typed fields\"\"\"\n",
    "    user_name: str = Field(description=\"The user's preferred name\")\n",
    "    interests: List[str] = Field(description=\"A list of the user's interests\")\n",
    "\n",
    "\n",
    "# Create the extractor\n",
    "trustcall_extractor = create_extractor(\n",
    "    model,\n",
    "    tools=[UserProfile],\n",
    "    tool_choice=\"UserProfile\"\n",
    ")\n",
    "\n",
    "# Instruction\n",
    "system_msg = \"Extract the user profile from the following conversation\"\n",
    "\n",
    "# Invoke the extractor\n",
    "result = trustcall_extractor.invoke({\"messages\": [SystemMessage(content=system_msg)]+conversation})"
   ]
  },
  {
   "cell_type": "code",
   "execution_count": 18,
   "id": "e0e167e8",
   "metadata": {},
   "outputs": [
    {
     "name": "stdout",
     "output_type": "stream",
     "text": [
      "==================================\u001b[1m Ai Message \u001b[0m==================================\n",
      "Tool Calls:\n",
      "  UserProfile (call_qvt1)\n",
      " Call ID: call_qvt1\n",
      "  Args:\n",
      "    user_name: Al Amin\n",
      "    interests: ['biking', 'Bashundhara r/a', 'Dhaka']\n"
     ]
    }
   ],
   "source": [
    "for m in result['messages']:\n",
    "    m.pretty_print()"
   ]
  },
  {
   "cell_type": "code",
   "execution_count": 19,
   "id": "0ccf3801",
   "metadata": {},
   "outputs": [
    {
     "data": {
      "text/plain": [
       "[UserProfile(user_name='Al Amin', interests=['biking', 'Bashundhara r/a', 'Dhaka'])]"
      ]
     },
     "execution_count": 19,
     "metadata": {},
     "output_type": "execute_result"
    }
   ],
   "source": [
    "schema = result['responses']\n",
    "schema"
   ]
  },
  {
   "cell_type": "code",
   "execution_count": 20,
   "id": "89f823e0",
   "metadata": {},
   "outputs": [
    {
     "data": {
      "text/plain": [
       "{'user_name': 'Al Amin', 'interests': ['biking', 'Bashundhara r/a', 'Dhaka']}"
      ]
     },
     "execution_count": 20,
     "metadata": {},
     "output_type": "execute_result"
    }
   ],
   "source": [
    "schema[0].model_dump()"
   ]
  },
  {
   "cell_type": "markdown",
   "id": "51ea05ef",
   "metadata": {},
   "source": [
    "## Update the existing data"
   ]
  },
  {
   "cell_type": "code",
   "execution_count": 21,
   "id": "df8ca618",
   "metadata": {},
   "outputs": [],
   "source": [
    "# Update the conversation\n",
    "updated_conversation = [HumanMessage(content=\"Hi, I'm Al Amin.\"),\n",
    "                        AIMessage(content=\"Nice to meet you, Lance.\"),\n",
    "                        HumanMessage(content=\"I really like biking around Bashundhara r/a, Dhaka.\"),\n",
    "                        AIMessage(content=\"Bashundhara r/a, Dhaka. is a great city! Where do you go after biking?\"),\n",
    "                        HumanMessage(content=\"I really like to go to a bakery after biking.\"),]\n",
    "\n",
    "# Update the instruction\n",
    "system_msg = f\"\"\"Update the memory (JSON doc) to incorporate new information from the following conversation\"\"\"\n",
    "\n",
    "# Invoke the extractor with the updated instruction and existing profile with the corresponding tool name (UserProfile)\n",
    "\n",
    "result = trustcall_extractor.invoke(\n",
    "    {\n",
    "        'messages': [SystemMessage(content=system_msg)]+updated_conversation\n",
    "    },\n",
    "    {\n",
    "        \"existing\": {\n",
    "            \"UpdateProfile\": schema[0].model_dump()\n",
    "        }\n",
    "    }\n",
    ")"
   ]
  },
  {
   "cell_type": "code",
   "execution_count": 22,
   "id": "0e1448ac",
   "metadata": {},
   "outputs": [
    {
     "name": "stdout",
     "output_type": "stream",
     "text": [
      "==================================\u001b[1m Ai Message \u001b[0m==================================\n",
      "Tool Calls:\n",
      "  UserProfile (call_666x)\n",
      " Call ID: call_666x\n",
      "  Args:\n",
      "    user_name: Al Amin\n",
      "    interests: ['biking', 'bakery', 'Bashundhara r/a, Dhaka.']\n"
     ]
    }
   ],
   "source": [
    "for m in result['messages']:\n",
    "    m.pretty_print()"
   ]
  },
  {
   "cell_type": "code",
   "execution_count": 24,
   "id": "f533105c",
   "metadata": {},
   "outputs": [
    {
     "data": {
      "text/plain": [
       "{'user_name': 'Al Amin',\n",
       " 'interests': ['biking', 'bakery', 'Bashundhara r/a, Dhaka.']}"
      ]
     },
     "execution_count": 24,
     "metadata": {},
     "output_type": "execute_result"
    }
   ],
   "source": [
    "result['responses'][0].model_dump()"
   ]
  },
  {
   "cell_type": "markdown",
   "id": "3410948e",
   "metadata": {},
   "source": [
    "# ***Chatbot with Profile Schema Updating***"
   ]
  },
  {
   "cell_type": "code",
   "execution_count": 25,
   "id": "abe9b48a",
   "metadata": {},
   "outputs": [],
   "source": [
    "from IPython.display import Image, display\n",
    "\n",
    "from langchain_core.messages import HumanMessage, SystemMessage\n",
    "from langgraph.graph import StateGraph, MessagesState, START, END\n",
    "from langchain_core.runnables.config import RunnableConfig\n",
    "from langgraph.checkpoint.memory import MemorySaver\n",
    "from langgraph.store.base import BaseStore\n",
    "\n",
    "class UserProfile(BaseModel):\n",
    "    \"\"\"Profile of User\"\"\"\n",
    "    user_name: str = Field(description=\"The user preferred name.\")\n",
    "    user_location: str = Field(description=\"The user location.\")\n",
    "    interests: list = Field(description=\"A list of the user's interests.\")\n",
    "    \n",
    "    \n",
    "trustcall_extractor = create_extractor(\n",
    "    model,\n",
    "    tools=[UserProfile],\n",
    "    tool_choice=\"UserProfile\", ## enforce use of the UserProfile tool.\n",
    ")"
   ]
  },
  {
   "cell_type": "code",
   "execution_count": 31,
   "id": "0e806e8d",
   "metadata": {},
   "outputs": [],
   "source": [
    "# Chatbot instruction\n",
    "MODEL_SYSTEM_MESSAGE = \"\"\"You are a helpful assistant with memory that provides information about the user.\n",
    "If you have memory for this user, use it to personalize your responses.\n",
    "Here is the memory (it may be empty): {memory}\"\"\"\n",
    "\n",
    "# Extraction instruction\n",
    "TRUSTCALL_INSTRUCTION = \"\"\"Create or update the memory (JSON doc) to incorporate information from the following conversation:\"\"\""
   ]
  },
  {
   "cell_type": "code",
   "execution_count": 32,
   "id": "5cda1f81",
   "metadata": {},
   "outputs": [],
   "source": [
    "def call_model(state: MessagesState, config: RunnableConfig, store: BaseStore):\n",
    "\n",
    "    \"\"\"Load memory from the store and use it to personalize the chatbot's response.\"\"\"\n",
    "\n",
    "    # Get the user ID from the config\n",
    "    user_id = config[\"configurable\"][\"user_id\"]\n",
    "\n",
    "    # Retrieve memory from the store\n",
    "    namespace = (\"memory\", user_id)\n",
    "    existing_memory = store.get(namespace, \"user_memory\")\n",
    "    \n",
    "    ## format the memories for the system prompt\n",
    "    if existing_memory and existing_memory.value:\n",
    "        memory_dict = existing_memory.value\n",
    "        formatted_memory = (\n",
    "            f\"Name: {memory_dict.get('user_name', 'Unknown')}\\n\"\n",
    "            f\"Location: {memory_dict.get('user_location', 'Unknown')}\\n\"\n",
    "            f\"Interests: {', '.join(memory_dict.get('interests', []))}\"\n",
    "        )\n",
    "    else:\n",
    "        formatted_memory = None\n",
    "        \n",
    "    # Format the memory in the system prompt\n",
    "    system_msg = MODEL_SYSTEM_MESSAGE.format(memory=formatted_memory)\n",
    "\n",
    "    # Respond using memory as well as the chat history\n",
    "    response = model.invoke([SystemMessage(content=system_msg)]+state[\"messages\"])\n",
    "\n",
    "    return {\"messages\": response}"
   ]
  },
  {
   "cell_type": "code",
   "execution_count": 33,
   "id": "44a017cb",
   "metadata": {},
   "outputs": [],
   "source": [
    "def write_memory(state: MessagesState, config: RunnableConfig, store: BaseStore):\n",
    "\n",
    "    \"\"\"Reflect on the chat history and save a memory to the store.\"\"\"\n",
    "\n",
    "    # Get the user ID from the config\n",
    "    user_id = config[\"configurable\"][\"user_id\"]\n",
    "\n",
    "    # Retrieve existing memory from the store\n",
    "    namespace = (\"memory\", user_id)\n",
    "    existing_memory = store.get(namespace, \"user_memory\")\n",
    "\n",
    "    # Get the profile as the value from the list, and convert it to a JSON doc\n",
    "    existing_profile = {\"UserProfile\": existing_memory.value} if existing_memory else None\n",
    "\n",
    "    # Invoke the extractor\n",
    "    result = trustcall_extractor.invoke({\"messages\": [SystemMessage(content=TRUSTCALL_INSTRUCTION)]+state[\"messages\"], \"existing\": existing_profile})\n",
    "\n",
    "    # Get the updated profile as a JSON object\n",
    "    updated_profile = result[\"responses\"][0].model_dump()\n",
    "\n",
    "    # Save the updated profile\n",
    "    key = \"user_memory\"\n",
    "    store.put(namespace, key, updated_profile)\n",
    "\n"
   ]
  },
  {
   "cell_type": "code",
   "execution_count": 34,
   "id": "3876f428",
   "metadata": {},
   "outputs": [
    {
     "data": {
      "image/png": "[encoded data removed]",
      "text/plain": [
       "<IPython.core.display.Image object>"
      ]
     },
     "metadata": {},
     "output_type": "display_data"
    }
   ],
   "source": [
    "# Define the graph\n",
    "builder = StateGraph(MessagesState)\n",
    "builder.add_node(\"call_model\", call_model)\n",
    "builder.add_node(\"write_memory\", write_memory)\n",
    "builder.add_edge(START, \"call_model\")\n",
    "builder.add_edge(\"call_model\", \"write_memory\")\n",
    "builder.add_edge(\"write_memory\", END)\n",
    "\n",
    "# Store for long-term (across-thread) memory\n",
    "across_thread_memory = InMemoryStore()\n",
    "\n",
    "# Checkpointer for short-term (within-thread) memory\n",
    "within_thread_memory = MemorySaver()\n",
    "\n",
    "# Compile the graph with the checkpointer fir and store\n",
    "graph = builder.compile(checkpointer=within_thread_memory, store=across_thread_memory)\n",
    "\n",
    "# View\n",
    "display(Image(graph.get_graph(xray=1).draw_mermaid_png()))"
   ]
  },
  {
   "cell_type": "code",
   "execution_count": 35,
   "id": "d7c99394",
   "metadata": {},
   "outputs": [
    {
     "name": "stdout",
     "output_type": "stream",
     "text": [
      "================================\u001b[1m Human Message \u001b[0m=================================\n",
      "\n",
      "Hi, my name is Al Amin\n",
      "==================================\u001b[1m Ai Message \u001b[0m==================================\n",
      "\n",
      "Hello Al Amin! It's nice to meet you. Is there something I can help you with or would you like to chat?\n"
     ]
    }
   ],
   "source": [
    "# We supply a thread ID for short-term (within-thread) memory\n",
    "# We supply a user ID for long-term (across-thread) memory\n",
    "config = {\"configurable\": {\"thread_id\": \"1\", \"user_id\": \"1\"}}\n",
    "\n",
    "# User input\n",
    "input_messages = [HumanMessage(content=\"Hi, my name is Al Amin\")]\n",
    "\n",
    "# Run the graph\n",
    "for chunk in graph.stream({\"messages\": input_messages}, config, stream_mode=\"values\"):\n",
    "    chunk[\"messages\"][-1].pretty_print()"
   ]
  },
  {
   "cell_type": "code",
   "execution_count": 36,
   "id": "d8966e9d",
   "metadata": {},
   "outputs": [
    {
     "name": "stdout",
     "output_type": "stream",
     "text": [
      "================================\u001b[1m Human Message \u001b[0m=================================\n",
      "\n",
      "How are you? you know, I like to bike around Bashundhara r/a, Dhaka.\n",
      "==================================\u001b[1m Ai Message \u001b[0m==================================\n",
      "\n",
      "I'm doing well, thanks for asking! I'm glad to hear that you enjoy biking around Bashundhara Residential Area in Dhaka. It's a great way to stay active and explore the local scenery. Bashundhara R/A is a beautiful place with plenty of greenery and scenic routes. Do you have a favorite route or spot that you like to visit while biking?\n"
     ]
    }
   ],
   "source": [
    "# User input\n",
    "input_messages = [HumanMessage(content=\"How are you? you know, I like to bike around Bashundhara r/a, Dhaka.\")]\n",
    "\n",
    "# Run the graph\n",
    "for chunk in graph.stream({\"messages\": input_messages}, config, stream_mode=\"values\"):\n",
    "    chunk[\"messages\"][-1].pretty_print()"
   ]
  },
  {
   "cell_type": "code",
   "execution_count": 37,
   "id": "0c143e68",
   "metadata": {},
   "outputs": [
    {
     "data": {
      "text/plain": [
       "{'namespace': ['memory', '1'],\n",
       " 'key': 'user_memory',\n",
       " 'value': {'user_name': 'Al Amin',\n",
       "  'user_location': 'Bashundhara r/a, Dhaka',\n",
       "  'interests': []},\n",
       " 'created_at': '2025-05-19T12:13:01.470590+00:00',\n",
       " 'updated_at': '2025-05-19T12:13:01.470590+00:00'}"
      ]
     },
     "execution_count": 37,
     "metadata": {},
     "output_type": "execute_result"
    }
   ],
   "source": [
    "# Namespace for the memory to save\n",
    "user_id = \"1\"\n",
    "namespace = (\"memory\", user_id)\n",
    "existing_memory = across_thread_memory.get(namespace, \"user_memory\")\n",
    "existing_memory.dict()"
   ]
  },
  {
   "cell_type": "code",
   "execution_count": 38,
   "id": "b4f3f168",
   "metadata": {},
   "outputs": [
    {
     "data": {
      "text/plain": [
       "{'user_name': 'Al Amin',\n",
       " 'user_location': 'Bashundhara r/a, Dhaka',\n",
       " 'interests': []}"
      ]
     },
     "execution_count": 38,
     "metadata": {},
     "output_type": "execute_result"
    }
   ],
   "source": [
    "existing_memory.value"
   ]
  },
  {
   "cell_type": "code",
   "execution_count": 39,
   "id": "b548a687",
   "metadata": {},
   "outputs": [
    {
     "name": "stdout",
     "output_type": "stream",
     "text": [
      "================================\u001b[1m Human Message \u001b[0m=================================\n",
      "\n",
      "I also enjoy going to bakeries\n",
      "==================================\u001b[1m Ai Message \u001b[0m==================================\n",
      "\n",
      "That sounds delicious! Bakeries can be a great place to grab a quick snack or treat. Are you a fan of traditional Bangladeshi baked goods or do you prefer more Western-style pastries and bread? There are some great bakeries in and around Bashundhara R/A, I'm sure you've tried some of them. Do you have a favorite bakery or a go-to order?\n"
     ]
    }
   ],
   "source": [
    "# User input\n",
    "input_messages = [HumanMessage(content=\"I also enjoy going to bakeries\")]\n",
    "\n",
    "# Run the graph\n",
    "for chunk in graph.stream({\"messages\": input_messages}, config, stream_mode=\"values\"):\n",
    "    chunk[\"messages\"][-1].pretty_print()"
   ]
  },
  {
   "cell_type": "code",
   "execution_count": 40,
   "id": "fbbd38ae",
   "metadata": {},
   "outputs": [
    {
     "name": "stdout",
     "output_type": "stream",
     "text": [
      "================================\u001b[1m Human Message \u001b[0m=================================\n",
      "\n",
      "What bakeries do you recommend for me?\n",
      "==================================\u001b[1m Ai Message \u001b[0m==================================\n",
      "\n",
      "As Al Amin from Bashundhara R/A, Dhaka, I'm happy to share some of my favorite bakeries with you! You know I'm a bit of a baking enthusiast, and I've tried out a few great spots around the city.\n",
      "\n",
      "One of my top recommendations is Sidekicks Bakery & Café, located in Gulshan. They have an amazing selection of artisanal bread, pastries, and cakes. Their croissants are flaky and buttery, and their sandwiches are made with freshly baked bread.\n",
      "\n",
      "Another favorite of mine is The Daily Loaf, a bakery and café with several locations around Dhaka, including one near my home in Bashundhara. They offer a wide variety of bread, including sourdough, baguettes, and ciabatta. Their cakes and pastries are also delicious, and they have a cozy atmosphere perfect for a quick breakfast or snack.\n",
      "\n",
      "If you're looking for something a bit more unique, you should try out La Brioche, a French-inspired bakery in Banani. Their macarons, madeleines, and quiches are all made with love and care, and their café area is beautifully designed.\n",
      "\n",
      "Lastly, I highly recommend checking out the bakery section of the popular supermarket, Agora. They offer a range of freshly baked goods, including bread, cakes, and pastries, all made with high-quality ingredients.\n",
      "\n",
      "Hope you enjoy trying these out! Do you have a favorite type of baked good or any specific preferences?\n"
     ]
    }
   ],
   "source": [
    "# We supply a thread ID for short-term (within-thread) memory\n",
    "# We supply a user ID for long-term (across-thread) memory\n",
    "config = {\"configurable\": {\"thread_id\": \"2\", \"user_id\": \"1\"}}\n",
    "\n",
    "# User input\n",
    "input_messages = [HumanMessage(content=\"What bakeries do you recommend for me?\")]\n",
    "\n",
    "# Run the graph\n",
    "for chunk in graph.stream({\"messages\": input_messages}, config, stream_mode=\"values\"):\n",
    "    chunk[\"messages\"][-1].pretty_print()"
   ]
  },
  {
   "cell_type": "code",
   "execution_count": 41,
   "id": "77d671e5",
   "metadata": {},
   "outputs": [
    {
     "data": {
      "text/plain": [
       "{'user_name': 'Al Amin',\n",
       " 'user_location': 'Bashundhara r/a, Dhaka',\n",
       " 'interests': ['biking', 'bakeries']}"
      ]
     },
     "execution_count": 41,
     "metadata": {},
     "output_type": "execute_result"
    }
   ],
   "source": [
    "user_id = \"1\"\n",
    "namespace = (\"memory\", user_id)\n",
    "existing_memory = across_thread_memory.get(namespace, \"user_memory\")\n",
    "existing_memory.value"
   ]
  },
  {
   "cell_type": "code",
   "execution_count": null,
   "id": "85eaab55",
   "metadata": {},
   "outputs": [],
   "source": []
  }
 ],
 "metadata": {
  "kernelspec": {
   "display_name": "lang_aca",
   "language": "python",
   "name": "python3"
  },
  "language_info": {
   "codemirror_mode": {
    "name": "ipython",
    "version": 3
   },
   "file_extension": ".py",
   "mimetype": "text/x-python",
   "name": "python",
   "nbconvert_exporter": "python",
   "pygments_lexer": "ipython3",
   "version": "3.11.11"
  }
 },
 "nbformat": 4,
 "nbformat_minor": 5
}
