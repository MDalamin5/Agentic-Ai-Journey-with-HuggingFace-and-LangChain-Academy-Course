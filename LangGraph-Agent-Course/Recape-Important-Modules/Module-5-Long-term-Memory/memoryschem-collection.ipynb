{
 "cells": [
  {
   "cell_type": "markdown",
   "id": "bb6cb737",
   "metadata": {},
   "source": [
    "## Updating collection schema\n",
    "\n",
    "We discussed the challenges with updating a profile schema in the last lesson.\n",
    "\n",
    "The same applies for collections!\n",
    "\n",
    "We want the ability to update the collection with new memories as well as update existing memories in the collection.\n",
    "\n",
    "Now we'll show that [Trustcall](https://github.com/hinthornw/trustcall) can be also used to update a collection.\n",
    "\n",
    "This enables both addition of new memories as well as [updating existing memories in the collection](https://github.com/hinthornw/trustcall?tab=readme-ov-file#simultanous-updates--insertions\n",
    ").\n",
    "\n",
    "Let's define a new extractor with Trustcall.\n",
    "\n",
    "As before, we provide the schema for each memory, `Memory`.  \n",
    "\n",
    "But, we can supply `enable_inserts=True` to allow the extractor to insert new memories to the collection."
   ]
  },
  {
   "cell_type": "code",
   "execution_count": 1,
   "id": "0294c40e",
   "metadata": {},
   "outputs": [],
   "source": [
    "from langchain_groq import ChatGroq\n",
    "import os\n",
    "from dotenv import load_dotenv\n",
    "\n",
    "load_dotenv()\n",
    "os.environ[\"GROQ_API_KEY\"]=os.getenv(\"GROQ_API_KEY\")\n",
    "model = ChatGroq(model=\"meta-llama/llama-4-scout-17b-16e-instruct\", temperature=0.5)"
   ]
  },
  {
   "cell_type": "code",
   "execution_count": 2,
   "id": "c5c218f2",
   "metadata": {},
   "outputs": [],
   "source": [
    "os.environ[\"LANGCHAIN_API_KEY\"] = os.getenv(\"LANGCHAIN_API_KEY\")\n",
    "os.environ[\"LANGSMITH_TRACING\"] = \"true\"\n",
    "os.environ[\"LANGSMITH_PROJECT\"] = \"langchain-academy\""
   ]
  },
  {
   "cell_type": "code",
   "execution_count": 3,
   "id": "304d61e9",
   "metadata": {},
   "outputs": [],
   "source": [
    "from pydantic import BaseModel, Field\n",
    "class Memory(BaseModel):\n",
    "    \"\"\"This is the memory field where store the collection of user data like his interested, his name, and so one. in one word all about the user info.\"\"\"\n",
    "    content: str = Field(description=\"The main content of the memory. User expressed interested in learning Programming.\")"
   ]
  },
  {
   "cell_type": "code",
   "execution_count": 4,
   "id": "488ab9d2",
   "metadata": {},
   "outputs": [],
   "source": [
    "from trustcall import create_extractor\n",
    "\n",
    "trustcall_extractor = create_extractor(\n",
    "    model,\n",
    "    tools=[Memory],\n",
    "    tool_choice=\"Memory\",\n",
    "    enable_inserts=True,\n",
    "    \n",
    ")\n",
    "\n"
   ]
  },
  {
   "cell_type": "code",
   "execution_count": 5,
   "id": "093948bb",
   "metadata": {},
   "outputs": [],
   "source": [
    "from langchain_core.messages import HumanMessage, SystemMessage, AIMessage\n",
    "\n",
    "# Instruction\n",
    "instruction = \"\"\"Extract memories from the following conversation:\"\"\"\n",
    "\n",
    "# Conversation\n",
    "conversation = [HumanMessage(content=\"Hi, I'm Al Amin\"),\n",
    "                AIMessage(content=\"Nice to meet you, Al Amin.\"),\n",
    "                HumanMessage(content=\"This morning I had a nice bike ride in Dhaka.\")]\n",
    "\n",
    "\n",
    "result = trustcall_extractor.invoke(\n",
    "    {\n",
    "        \"messages\": [SystemMessage(content=instruction)]+conversation\n",
    "    }\n",
    ")"
   ]
  },
  {
   "cell_type": "code",
   "execution_count": 6,
   "id": "2eb2fe67",
   "metadata": {},
   "outputs": [
    {
     "name": "stdout",
     "output_type": "stream",
     "text": [
      "==================================\u001b[1m Ai Message \u001b[0m==================================\n",
      "Tool Calls:\n",
      "  Memory (call_0vdr)\n",
      " Call ID: call_0vdr\n",
      "  Args:\n",
      "    content: Al Amin had a nice bike ride in Dhaka.\n"
     ]
    }
   ],
   "source": [
    "for m in result['messages']:\n",
    "    m.pretty_print()"
   ]
  },
  {
   "cell_type": "code",
   "execution_count": 7,
   "id": "440a4133",
   "metadata": {},
   "outputs": [
    {
     "name": "stdout",
     "output_type": "stream",
     "text": [
      "{'content': 'Al Amin had a nice bike ride in Dhaka.'}\n"
     ]
    }
   ],
   "source": [
    "for m in result['responses']:\n",
    "    print(m.model_dump())"
   ]
  },
  {
   "cell_type": "code",
   "execution_count": 8,
   "id": "9a977973",
   "metadata": {},
   "outputs": [
    {
     "name": "stdout",
     "output_type": "stream",
     "text": [
      "{'id': 'call_0vdr'}\n"
     ]
    }
   ],
   "source": [
    "for m in result['response_metadata']:\n",
    "    print(m)"
   ]
  },
  {
   "cell_type": "markdown",
   "id": "29d7b30c",
   "metadata": {},
   "source": [
    "### **Update the memory**"
   ]
  },
  {
   "cell_type": "code",
   "execution_count": 9,
   "id": "18a73a8d",
   "metadata": {},
   "outputs": [],
   "source": [
    "# Update the conversation\n",
    "updated_conversation = [AIMessage(content=\"That's great, did you do after?\"),\n",
    "                        HumanMessage(content=\"I went to Tartine and ate a croissant.\"),\n",
    "                        AIMessage(content=\"What else is on your mind?\"),\n",
    "                        HumanMessage(content=\"I was thinking about my Japan, and going back this winter!\"),]\n",
    "\n",
    "# Update the instruction\n",
    "system_msg = \"\"\"Update existing memories and create new ones based on the following conversation:\"\"\""
   ]
  },
  {
   "cell_type": "code",
   "execution_count": 10,
   "id": "2e729bf6",
   "metadata": {},
   "outputs": [
    {
     "data": {
      "text/plain": [
       "[('0', 'Memory', {'content': 'Al Amin had a nice bike ride in Dhaka.'})]"
      ]
     },
     "execution_count": 10,
     "metadata": {},
     "output_type": "execute_result"
    }
   ],
   "source": [
    "## Extracting the existing memory.\n",
    "tool_name = \"Memory\"\n",
    "existing_memories = [(str(i), tool_name, memory.model_dump()) for i, memory in enumerate(result['responses'])] if result['responses'] else None\n",
    "existing_memories"
   ]
  },
  {
   "cell_type": "code",
   "execution_count": 11,
   "id": "e017f975",
   "metadata": {},
   "outputs": [],
   "source": [
    "## Update the memory\n",
    "result = trustcall_extractor.invoke(\n",
    "    {\n",
    "        \"messages\": updated_conversation,\n",
    "        \"existing\": existing_memories\n",
    "    }\n",
    ")"
   ]
  },
  {
   "cell_type": "code",
   "execution_count": 12,
   "id": "efd79c89",
   "metadata": {},
   "outputs": [
    {
     "name": "stdout",
     "output_type": "stream",
     "text": [
      "==================================\u001b[1m Ai Message \u001b[0m==================================\n",
      "Tool Calls:\n",
      "  Memory (call_g64z)\n",
      " Call ID: call_g64z\n",
      "  Args:\n",
      "    content: Al Amin had a nice bike ride in Dhaka. He then went to Tartine and ate a croissant. He was thinking about Japan and going back this winter.\n"
     ]
    }
   ],
   "source": [
    "# Messages from the model indicate two tool calls were made\n",
    "for m in result[\"messages\"]:\n",
    "    m.pretty_print()"
   ]
  },
  {
   "cell_type": "code",
   "execution_count": 13,
   "id": "d601ee1f",
   "metadata": {},
   "outputs": [
    {
     "name": "stdout",
     "output_type": "stream",
     "text": [
      "content='Al Amin had a nice bike ride in Dhaka. He then went to Tartine and ate a croissant. He was thinking about Japan and going back this winter.'\n"
     ]
    }
   ],
   "source": [
    "for m in result[\"responses\"]:\n",
    "    print(m)"
   ]
  },
  {
   "cell_type": "code",
   "execution_count": 14,
   "id": "8ad6ab68",
   "metadata": {},
   "outputs": [
    {
     "name": "stdout",
     "output_type": "stream",
     "text": [
      "{'id': 'call_g64z'}\n"
     ]
    }
   ],
   "source": [
    "# Metadata contains the tool call\n",
    "for m in result[\"response_metadata\"]:\n",
    "    print(m)"
   ]
  },
  {
   "cell_type": "markdown",
   "id": "56b83305",
   "metadata": {},
   "source": [
    "# ***Chatbot with collection schema Updating***"
   ]
  },
  {
   "cell_type": "code",
   "execution_count": 15,
   "id": "4a0365b9",
   "metadata": {},
   "outputs": [],
   "source": [
    "from IPython.display import Image, display\n",
    "\n",
    "import uuid\n",
    "\n",
    "from langgraph.graph import StateGraph, MessagesState, START, END\n",
    "from langgraph.store.memory import InMemoryStore\n",
    "from langchain_core.messages import merge_message_runs\n",
    "from langchain_core.messages import HumanMessage, SystemMessage\n",
    "from langchain_core.runnables.config import RunnableConfig\n",
    "from langgraph.checkpoint.memory import MemorySaver\n",
    "from langgraph.store.base import BaseStore\n",
    "\n",
    "# Memory schema\n",
    "class Memory(BaseModel):\n",
    "    \"\"\"The main content of the memory. For example: User expressed interest in learning about French.\"\"\"\n",
    "    \n",
    "    content: str = Field(description=\"The main content of the memory. For example: User expressed interest in learning about Programming.\")\n",
    "\n",
    "# Create the Trustcall extractor\n",
    "trustcall_extractor = create_extractor(\n",
    "    model,\n",
    "    tools=[Memory],\n",
    "    tool_choice=\"Memory\",\n",
    "    # This allows the extractor to insert new memories\n",
    "    enable_inserts=True,\n",
    ")\n",
    "\n",
    "# Chatbot instruction\n",
    "MODEL_SYSTEM_MESSAGE = \"\"\"You are a helpful chatbot. You are designed to be a companion to a user.\n",
    "\n",
    "You have a long term memory which keeps track of information you learn about the user over time.\n",
    "\n",
    "Current Memory (may include updated memories from this conversation):\n",
    "\n",
    "{memory}\"\"\"\n",
    "\n",
    "# Trustcall instruction\n",
    "TRUSTCALL_INSTRUCTION = \"\"\"Reflect on following interaction.\n",
    "\n",
    "Use the provided tools to retain any necessary memories about the user.\n",
    "\n",
    "Use parallel tool calling to handle updates and insertions simultaneously:\"\"\""
   ]
  },
  {
   "cell_type": "code",
   "execution_count": 16,
   "id": "e51ab410",
   "metadata": {},
   "outputs": [],
   "source": [
    "def call_model(state: MessagesState, config: RunnableConfig, store: BaseStore):\n",
    "\n",
    "    \"\"\"Load memories from the store and use them to personalize the chatbot's response.\"\"\"\n",
    "\n",
    "    # Get the user ID from the config\n",
    "    user_id = config[\"configurable\"][\"user_id\"]\n",
    "\n",
    "    # Retrieve memory from the store\n",
    "    namespace = (\"memories\", user_id)\n",
    "    memories = store.search(namespace)\n",
    "    \n",
    "    # Format the memories for the system prompt\n",
    "    info = \"\\n\".join(f\"- {mem.value['content']}\" for mem in memories)\n",
    "    system_msg = MODEL_SYSTEM_MESSAGE.format(memory=info)\n",
    "    \n",
    "    # Respond using memory as well as the chat history\n",
    "    response = model.invoke([SystemMessage(content=system_msg)]+state[\"messages\"])\n",
    "\n",
    "    return {\"messages\": response}\n",
    "\n",
    "def write_memory(state: MessagesState, config: RunnableConfig, store: BaseStore):\n",
    "\n",
    "    \"\"\"Reflect on the chat history and update the memory collection.\"\"\"\n",
    "\n",
    "    # Get the user ID from the config\n",
    "    user_id = config[\"configurable\"][\"user_id\"]\n",
    "    \n",
    "    namespace =(\"memories\", user_id)\n",
    "    \n",
    "    ## Retrieve the recent memory content\n",
    "    existing_items = store.search(namespace)\n",
    "    \n",
    "    \n",
    "    # Format the existing memories for the Trustcall extractor\n",
    "    tool_name = \"Memory\"\n",
    "    existing_memories = ([(existing_item.key, tool_name, existing_item.value)\n",
    "                          for existing_item in existing_items]\n",
    "                          if existing_items\n",
    "                          else None\n",
    "                        )\n",
    "    \n",
    "    ## update the prompt\n",
    "    update_messages = list(merge_message_runs(messages=[SystemMessage(content=TRUSTCALL_INSTRUCTION)]+state['messages']))\n",
    "    \n",
    "    ## invoke the extractor\n",
    "    result = trustcall_extractor.invoke(\n",
    "        {\n",
    "            \"messages\": update_messages,\n",
    "            'existing': existing_memories\n",
    "        }\n",
    "    )\n",
    "    \n",
    "    # Save the memories from Trustcall to the store\n",
    "    for r, rmeta in zip(result[\"responses\"], result[\"response_metadata\"]):\n",
    "        store.put(namespace,\n",
    "                  rmeta.get(\"json_doc_id\", str(uuid.uuid4())),\n",
    "                  r.model_dump(mode=\"json\"),\n",
    "            )"
   ]
  },
  {
   "cell_type": "code",
   "execution_count": 17,
   "id": "db273ba7",
   "metadata": {},
   "outputs": [
    {
     "data": {
      "image/png": "[encoded data removed]",
      "text/plain": [
       "<IPython.core.display.Image object>"
      ]
     },
     "metadata": {},
     "output_type": "display_data"
    }
   ],
   "source": [
    "# Define the graph\n",
    "builder = StateGraph(MessagesState)\n",
    "builder.add_node(\"call_model\", call_model)\n",
    "builder.add_node(\"write_memory\", write_memory)\n",
    "builder.add_edge(START, \"call_model\")\n",
    "builder.add_edge(\"call_model\", \"write_memory\")\n",
    "builder.add_edge(\"write_memory\", END)\n",
    "\n",
    "# Store for long-term (across-thread) memory\n",
    "across_thread_memory = InMemoryStore()\n",
    "\n",
    "# Checkpointer for short-term (within-thread) memory\n",
    "within_thread_memory = MemorySaver()\n",
    "\n",
    "# Compile the graph with the checkpointer fir and store\n",
    "graph = builder.compile(checkpointer=within_thread_memory, store=across_thread_memory)\n",
    "\n",
    "# View\n",
    "display(Image(graph.get_graph(xray=1).draw_mermaid_png()))"
   ]
  },
  {
   "cell_type": "code",
   "execution_count": 18,
   "id": "bc533c73",
   "metadata": {},
   "outputs": [
    {
     "name": "stdout",
     "output_type": "stream",
     "text": [
      "================================\u001b[1m Human Message \u001b[0m=================================\n",
      "\n",
      "Hi, my name is Al Amin\n",
      "==================================\u001b[1m Ai Message \u001b[0m==================================\n",
      "\n",
      "Nice to meet you, Al Amin! I've added your name to my memory. I'll make sure to address you by name in our future conversations. How are you doing today? Is there something I can help you with or would you like to chat?\n"
     ]
    }
   ],
   "source": [
    "# We supply a thread ID for short-term (within-thread) memory\n",
    "# We supply a user ID for long-term (across-thread) memory\n",
    "config = {\"configurable\": {\"thread_id\": \"1\", \"user_id\": \"1\"}}\n",
    "\n",
    "# User input\n",
    "input_messages = [HumanMessage(content=\"Hi, my name is Al Amin\")]\n",
    "\n",
    "# Run the graph\n",
    "for chunk in graph.stream({\"messages\": input_messages}, config, stream_mode=\"values\"):\n",
    "    chunk[\"messages\"][-1].pretty_print()"
   ]
  },
  {
   "cell_type": "code",
   "execution_count": 19,
   "id": "7359317f",
   "metadata": {},
   "outputs": [
    {
     "name": "stdout",
     "output_type": "stream",
     "text": [
      "================================\u001b[1m Human Message \u001b[0m=================================\n",
      "\n",
      "I like to Programming and want to leant Agentic AI\n",
      "==================================\u001b[1m Ai Message \u001b[0m==================================\n",
      "\n",
      "Al Amin, it's great to hear that you're interested in programming and Agentic AI! Agentic AI is a fascinating field that involves creating AI systems that can act autonomously and make decisions on their own.\n",
      "\n",
      "To learn more about Agentic AI, I'd be happy to provide you with some resources and information. \n",
      "\n",
      "Before I provide more information, can you tell me a bit more about your current level of experience with programming and AI? Have you worked with any programming languages or AI frameworks before? \n",
      "\n",
      "Also, what specific aspects of Agentic AI interest you the most? Is it the theoretical foundations, the practical applications, or something else? \n",
      "\n",
      "I've added your interest in Agentic AI to my memory, so I can follow up on it in our future conversations. \n",
      "\n",
      "Current Memory Update: \n",
      "- Al Amin is interested in Programming \n",
      "- Al Amin wants to learn Agentic AI \n",
      "\n",
      "Let me know how I can assist you further!\n"
     ]
    }
   ],
   "source": [
    "# User input\n",
    "input_messages = [HumanMessage(content=\"I like to Programming and want to leant Agentic AI\")]\n",
    "\n",
    "# Run the graph\n",
    "for chunk in graph.stream({\"messages\": input_messages}, config, stream_mode=\"values\"):\n",
    "    chunk[\"messages\"][-1].pretty_print()"
   ]
  },
  {
   "cell_type": "code",
   "execution_count": 20,
   "id": "6eb6d39d",
   "metadata": {},
   "outputs": [
    {
     "name": "stdout",
     "output_type": "stream",
     "text": [
      "{'namespace': ['memories', '1'], 'key': '8f544e46-6da8-4419-ba73-9d5e8badc537', 'value': {'content': 'User name is Al Amin'}, 'created_at': '2025-05-20T01:35:13.836089+00:00', 'updated_at': '2025-05-20T01:35:13.836089+00:00', 'score': None}\n",
      "{'namespace': ['memories', '1'], 'key': '3fc7314e-8035-4e24-8d78-9aa2629050a8', 'value': {'content': 'Al Amin is interested in Programming and wants to learn Agentic AI'}, 'created_at': '2025-05-20T01:36:46.102233+00:00', 'updated_at': '2025-05-20T01:36:46.102233+00:00', 'score': None}\n"
     ]
    }
   ],
   "source": [
    "# Namespace for the memory to save\n",
    "user_id = \"1\"\n",
    "namespace = (\"memories\", user_id)\n",
    "memories = across_thread_memory.search(namespace)\n",
    "for m in memories:\n",
    "    print(m.dict())"
   ]
  },
  {
   "cell_type": "code",
   "execution_count": 21,
   "id": "35e76a56",
   "metadata": {},
   "outputs": [
    {
     "name": "stdout",
     "output_type": "stream",
     "text": [
      "================================\u001b[1m Human Message \u001b[0m=================================\n",
      "\n",
      "I also enjoy going to bakeries\n",
      "==================================\u001b[1m Ai Message \u001b[0m==================================\n",
      "\n",
      "I've added that to my memory, Al Amin! So, to recap, I know that:\n",
      "\n",
      "* Your name is Al Amin\n",
      "* You're interested in Programming\n",
      "* You want to learn Agentic AI\n",
      "* You enjoy going to bakeries\n",
      "\n",
      "I'm curious, what's your favorite type of pastry or bread to get from a bakery? Do you have a go-to spot or a favorite bakery that you like to visit? \n",
      "\n",
      "By the way, if you're looking for a break from programming and Agentic AI, I can also chat with you about bakeries or recommend some popular bakery-related topics to explore!\n"
     ]
    }
   ],
   "source": [
    "# User input\n",
    "input_messages = [HumanMessage(content=\"I also enjoy going to bakeries\")]\n",
    "\n",
    "# Run the graph\n",
    "for chunk in graph.stream({\"messages\": input_messages}, config, stream_mode=\"values\"):\n",
    "    chunk[\"messages\"][-1].pretty_print()"
   ]
  },
  {
   "cell_type": "code",
   "execution_count": 22,
   "id": "dc89e93f",
   "metadata": {},
   "outputs": [
    {
     "name": "stdout",
     "output_type": "stream",
     "text": [
      "================================\u001b[1m Human Message \u001b[0m=================================\n",
      "\n",
      "What Programming Language do you recommend for me and way.?\n",
      "==================================\u001b[1m Ai Message \u001b[0m==================================\n",
      "\n",
      "Nice to chat with you again, Al Amin! I've remembered that you're interested in Programming and learning Agentic AI.\n",
      "\n",
      "For Agentic AI, I would recommend Python as a primary programming language. Here's why:\n",
      "\n",
      "1. **Extensive libraries**: Python has a vast collection of libraries and frameworks that make it easy to work with AI and machine learning, such as TensorFlow, PyTorch, and scikit-learn.\n",
      "2. **Large community**: Python has a massive and active community, which means there are plenty of resources available, including tutorials, documentation, and forums.\n",
      "3. **Easy to learn**: Python is a relatively simple language to learn, especially for beginners. Its syntax is concise and readable, making it an excellent choice for those new to programming.\n",
      "\n",
      "Some popular Python libraries for Agentic AI include:\n",
      "\n",
      "* **PyTorch**: A popular deep learning framework that's widely used in the AI community.\n",
      "* **LangChain**: A library specifically designed for building agentic AI systems, which provides tools and APIs for creating autonomous agents.\n",
      "\n",
      "As for a way to learn Python and Agentic AI, I recommend:\n",
      "\n",
      "* **Online courses**: Websites like Coursera, Udemy, and edX offer a wide range of courses on Python programming and AI.\n",
      "* **Tutorials and blogs**: Follow popular blogs like Towards Data Science, KDnuggets, and AI Alignment Forum to stay updated on the latest developments in AI and Agentic AI.\n",
      "* **Practice and projects**: Join online communities like GitHub or Kaggle to work on projects and practice your skills.\n",
      "\n",
      "By the way, have you tried any new bakeries recently? I'm curious to know if you've discovered any new favorite spots!\n"
     ]
    }
   ],
   "source": [
    "# We supply a thread ID for short-term (within-thread) memory\n",
    "# We supply a user ID for long-term (across-thread) memory\n",
    "config = {\"configurable\": {\"thread_id\": \"2\", \"user_id\": \"1\"}}\n",
    "\n",
    "# User input\n",
    "input_messages = [HumanMessage(content=\"What Programming Language do you recommend for me and way.?\")]\n",
    "\n",
    "# Run the graph\n",
    "for chunk in graph.stream({\"messages\": input_messages}, config, stream_mode=\"values\"):\n",
    "    chunk[\"messages\"][-1].pretty_print()"
   ]
  }
 ],
 "metadata": {
  "kernelspec": {
   "display_name": "lang_aca",
   "language": "python",
   "name": "python3"
  },
  "language_info": {
   "codemirror_mode": {
    "name": "ipython",
    "version": 3
   },
   "file_extension": ".py",
   "mimetype": "text/x-python",
   "name": "python",
   "nbconvert_exporter": "python",
   "pygments_lexer": "ipython3",
   "version": "3.11.11"
  }
 },
 "nbformat": 4,
 "nbformat_minor": 5
}
