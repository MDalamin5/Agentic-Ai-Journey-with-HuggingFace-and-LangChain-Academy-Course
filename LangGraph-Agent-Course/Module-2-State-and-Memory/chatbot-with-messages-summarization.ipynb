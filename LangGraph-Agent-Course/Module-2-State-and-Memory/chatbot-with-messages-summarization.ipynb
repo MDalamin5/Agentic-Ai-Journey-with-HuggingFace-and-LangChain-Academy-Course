{
 "cells": [
  {
   "cell_type": "code",
   "execution_count": 1,
   "id": "ee59aa70",
   "metadata": {},
   "outputs": [],
   "source": [
    "from langchain_groq import ChatGroq\n",
    "from dotenv import load_dotenv\n",
    "import os\n",
    "from pprint import pprint\n",
    "from langchain_core.messages import HumanMessage, AIMessage"
   ]
  },
  {
   "cell_type": "code",
   "execution_count": 2,
   "id": "59787f96",
   "metadata": {},
   "outputs": [],
   "source": [
    "groq_api_key  = os.getenv(\"GROQ_API_KEY\")\n",
    "\n",
    "## langsmith Tracing\n",
    "os.environ[\"LANGCHAIN_API_KEY\"]= os.getenv(\"LANGCHAIN_API_KEY\")\n",
    "os.environ[\"LANGSMITH_TRACING\"] = \"true\"\n",
    "os.environ[\"LANGSMITH_PROJECT\"] = \"Chatbot With Messages Summarization\""
   ]
  },
  {
   "cell_type": "code",
   "execution_count": 3,
   "id": "ef7250b7",
   "metadata": {},
   "outputs": [],
   "source": [
    "llm = ChatGroq(model_name=\"meta-llama/llama-4-scout-17b-16e-instruct\", groq_api_key=groq_api_key)"
   ]
  },
  {
   "cell_type": "code",
   "execution_count": 4,
   "id": "4d8c0ca8",
   "metadata": {},
   "outputs": [],
   "source": [
    "from langgraph.graph import MessagesState\n",
    "\n",
    "class State(MessagesState):\n",
    "    summary: str"
   ]
  },
  {
   "cell_type": "code",
   "execution_count": 22,
   "id": "39b3bcb2",
   "metadata": {},
   "outputs": [],
   "source": [
    "from langchain_core.messages import SystemMessage, HumanMessage, RemoveMessage\n",
    "\n",
    "## calling node of conversion\n",
    "def call_model(state: State):\n",
    "    # Get summary if exists\n",
    "    summary = state.get(\"summary\", \"\")\n",
    "    \n",
    "    # if summary is exists\n",
    "    if summary:\n",
    "        system_messages = f\"Summary of the earlier conversion: {summary}\"\n",
    "        \n",
    "        # add summary with the system messages\n",
    "        messages = [SystemMessage(content=system_messages)] + state[\"messages\"]\n",
    "        \n",
    "    else:\n",
    "        messages = state['messages']\n",
    "        \n",
    "    response = llm.invoke(messages)\n",
    "    \n",
    "    return {\n",
    "        'messages': response\n",
    "    }"
   ]
  },
  {
   "cell_type": "markdown",
   "id": "b946faf2",
   "metadata": {},
   "source": [
    "## Now define the node who can produce the summary and and trim the messages"
   ]
  },
  {
   "cell_type": "code",
   "execution_count": 6,
   "id": "3a89bc29",
   "metadata": {},
   "outputs": [],
   "source": [
    "def summarize_conversation(state: State):\n",
    "    # first extract the exists summary if exists\n",
    "    \n",
    "    summary = state.get(\"summary\", \"\")\n",
    "    \n",
    "    if summary:\n",
    "        # a summary already exists\n",
    "        summary_messages = (\n",
    "            f\"This is summary of the  conversation to data: {summary}\\n\\n\"\n",
    "            \"Extend the summary by taking into acount the new messages above\"\n",
    "        )\n",
    "        \n",
    "    else:\n",
    "        summary_messages = \"Create a summary of the conversation above\"\n",
    "        \n",
    "    ## add prompt to the history\n",
    "    messages = state[\"messages\"] + [HumanMessage(content=summary_messages)]\n",
    "    response = llm.invoke(messages)\n",
    "    \n",
    "    ## Delete all but the 2 most recent messages\n",
    "    delete_messages = [RemoveMessage(id = m.id) for m in state[\"messages\"][: -2]]\n",
    "    return {\n",
    "        'summary': response,\n",
    "        'messages': delete_messages\n",
    "    }"
   ]
  },
  {
   "cell_type": "markdown",
   "id": "98212d2a",
   "metadata": {},
   "source": [
    "#### **Now add the conditional edge to determine weather to produce a summary based on the conversion length**"
   ]
  },
  {
   "cell_type": "code",
   "execution_count": 7,
   "id": "fa3e7405",
   "metadata": {},
   "outputs": [],
   "source": [
    "from langgraph.graph import END\n",
    "# determine weather to end or summarize the conversation\n",
    "def should_continue(state: State):\n",
    "    \"\"\"return the next node to execute.\"\"\"\n",
    "    \n",
    "    messages = state['messages']\n",
    "    \n",
    "    if len(messages) > 6:\n",
    "        return \"summarize_conversation\"\n",
    "    \n",
    "    # otherwise just return the END\n",
    "    return END"
   ]
  },
  {
   "cell_type": "markdown",
   "id": "17906e94",
   "metadata": {},
   "source": [
    "## ***Adding memory***\n",
    "\n",
    "Recall that [state is transient](https://github.com/langchain-ai/langgraph/discussions/352#discussioncomment-9291220) to a single graph execution.\n",
    "\n",
    "This limits our ability to have multi-turn conversations with interruptions. \n",
    "\n",
    "As introduced at the end of Module 1, we can use [persistence](https://langchain-ai.github.io/langgraph/how-tos/persistence/) to address this! \n",
    " \n",
    "LangGraph can use a checkpointer to automatically save the graph state after each step.\n",
    "\n",
    "This built-in persistence layer gives us memory, allowing LangGraph to pick up from the last state update. \n",
    "\n",
    "As we previously showed, one of the easiest to work with is `MemorySaver`, an in-memory key-value store for Graph state.\n",
    "\n",
    "All we need to do is compile the graph with a checkpointer, and our graph has memory!"
   ]
  },
  {
   "cell_type": "code",
   "execution_count": 23,
   "id": "6bb1589c",
   "metadata": {},
   "outputs": [
    {
     "data": {
      "image/png": "[encoded data removed]",
      "text/plain": [
       "<IPython.core.display.Image object>"
      ]
     },
     "metadata": {},
     "output_type": "display_data"
    }
   ],
   "source": [
    "from IPython.display import Image, display\n",
    "from langgraph.checkpoint.memory import MemorySaver\n",
    "from langgraph.graph import StateGraph, START\n",
    "\n",
    "# Define a new graph\n",
    "workflow = StateGraph(State)\n",
    "workflow.add_node(\"conversation\", call_model)\n",
    "workflow.add_node(summarize_conversation)\n",
    "\n",
    "# Set the entrypoint as conversation\n",
    "workflow.add_edge(START, \"conversation\")\n",
    "workflow.add_conditional_edges(\"conversation\", should_continue)\n",
    "workflow.add_edge(\"summarize_conversation\", END)\n",
    "\n",
    "# Compile\n",
    "memory = MemorySaver()\n",
    "graph = workflow.compile(checkpointer=memory)\n",
    "\n",
    "display(Image(graph.get_graph().draw_mermaid_png()))"
   ]
  },
  {
   "cell_type": "markdown",
   "id": "ca139d5a",
   "metadata": {},
   "source": [
    "## Threads\n",
    "\n",
    "The checkpointer saves the state at each step as a checkpoint.\n",
    "\n",
    "These saved checkpoints can be grouped into a `thread` of conversation.\n",
    "\n",
    "Think about Slack as an analog: different channels carry different conversations.\n",
    "\n",
    "Threads are like Slack channels, capturing grouped collections of state (e.g., conversation).\n",
    "\n",
    "Below, we use `configurable` to set a thread ID.\n",
    "\n",
    "![state.jpg](https://cdn.prod.website-files.com/65b8cd72835ceeacd4449a53/66dbadf3b379c2ee621adfd1_chatbot-summarization1.png)"
   ]
  },
  {
   "cell_type": "code",
   "execution_count": 24,
   "id": "e7c90c88",
   "metadata": {},
   "outputs": [
    {
     "name": "stdout",
     "output_type": "stream",
     "text": [
      "==================================\u001b[1m Ai Message \u001b[0m==================================\n",
      "\n",
      "Wa alaikumussalam! Nice to meet you, Alamin! How are you today?\n",
      "==================================\u001b[1m Ai Message \u001b[0m==================================\n",
      "\n",
      "Your name is Alamin!\n",
      "==================================\u001b[1m Ai Message \u001b[0m==================================\n",
      "\n",
      "A fan of the San Francisco 49ers, huh? Which player is your favorite?\n"
     ]
    }
   ],
   "source": [
    "config = {\"configurable\": {\"thread_id\": \"1\"}}\n",
    "\n",
    "# Start conversation\n",
    "input_message = HumanMessage(content=\"Assalamualikum! I'm Alamin\")\n",
    "output = graph.invoke({\"messages\": [input_message]}, config) \n",
    "for m in output['messages'][-1:]:\n",
    "    m.pretty_print()\n",
    "\n",
    "input_message = HumanMessage(content=\"what's my name?\")\n",
    "output = graph.invoke({\"messages\": [input_message]}, config) \n",
    "for m in output['messages'][-1:]:\n",
    "    m.pretty_print()\n",
    "\n",
    "input_message = HumanMessage(content=\"i like the 49ers!\")\n",
    "output = graph.invoke({\"messages\": [input_message]}, config) \n",
    "for m in output['messages'][-1:]:\n",
    "    m.pretty_print()"
   ]
  },
  {
   "cell_type": "markdown",
   "id": "61d13bd4",
   "metadata": {},
   "source": [
    "Now, we don't yet have a summary of the state because we still have < = 6 messages.\n",
    "\n",
    "This was set in `should_continue`. \n",
    "\n",
    "```\n",
    "    # If there are more than six messages, then we summarize the conversation\n",
    "    if len(messages) > 6:\n",
    "        return \"summarize_conversation\"\n",
    "```\n",
    "\n",
    "We can pick up the conversation because we have the thread."
   ]
  },
  {
   "cell_type": "code",
   "execution_count": 25,
   "id": "f27688a5",
   "metadata": {},
   "outputs": [
    {
     "data": {
      "text/plain": [
       "''"
      ]
     },
     "execution_count": 25,
     "metadata": {},
     "output_type": "execute_result"
    }
   ],
   "source": [
    "graph.get_state(config).values.get(\"summary\",\"\")"
   ]
  },
  {
   "cell_type": "code",
   "execution_count": 26,
   "id": "586211e8",
   "metadata": {},
   "outputs": [
    {
     "name": "stdout",
     "output_type": "stream",
     "text": [
      "==================================\u001b[1m Ai Message \u001b[0m==================================\n",
      "\n",
      "Nick Bosa is an incredible player! As of 2022, he signed a 5-year, $170 million contract extension with the 49ers, which makes him one of the highest-paid defensive players in the NFL. He's definitely a key player for the 49ers' defense! Do you think they'll make a deep run in the playoffs this season?\n"
     ]
    }
   ],
   "source": [
    "input_message = HumanMessage(content=\"i like Nick Bosa, isn't he the highest paid defensive player?\")\n",
    "output = graph.invoke({\"messages\": [input_message]}, config) \n",
    "for m in output['messages'][-1:]:\n",
    "    m.pretty_print()"
   ]
  },
  {
   "cell_type": "code",
   "execution_count": 27,
   "id": "c13254cf",
   "metadata": {},
   "outputs": [
    {
     "data": {
      "text/plain": [
       "AIMessage(content=\"Here is a summary of our conversation:\\n\\n* You introduced yourself as Alamin and I responded with a greeting.\\n* You mentioned that you like the San Francisco 49ers.\\n* You expressed your admiration for Nick Bosa and asked if he's the highest-paid defensive player.\\n* I confirmed that Nick Bosa is indeed one of the highest-paid defensive players in the NFL.\\n\\nLet me know if you'd like to chat more about the 49ers or anything else!\", additional_kwargs={}, response_metadata={'token_usage': {'completion_tokens': 95, 'prompt_tokens': 202, 'total_tokens': 297, 'completion_time': 0.18644245, 'prompt_time': 0.007354814, 'queue_time': 0.048670286, 'total_time': 0.193797264}, 'model_name': 'meta-llama/llama-4-scout-17b-16e-instruct', 'system_fingerprint': 'fp_42ae451038', 'finish_reason': 'stop', 'logprobs': None}, id='run--dd88ee34-7c0d-4026-8757-34d297b56cd1-0', usage_metadata={'input_tokens': 202, 'output_tokens': 95, 'total_tokens': 297})"
      ]
     },
     "execution_count": 27,
     "metadata": {},
     "output_type": "execute_result"
    }
   ],
   "source": [
    "graph.get_state(config).values.get(\"summary\",\"\")"
   ]
  },
  {
   "cell_type": "code",
   "execution_count": null,
   "id": "e011f842",
   "metadata": {},
   "outputs": [],
   "source": []
  }
 ],
 "metadata": {
  "kernelspec": {
   "display_name": "lang_aca",
   "language": "python",
   "name": "python3"
  },
  "language_info": {
   "codemirror_mode": {
    "name": "ipython",
    "version": 3
   },
   "file_extension": ".py",
   "mimetype": "text/x-python",
   "name": "python",
   "nbconvert_exporter": "python",
   "pygments_lexer": "ipython3",
   "version": "3.11.11"
  }
 },
 "nbformat": 4,
 "nbformat_minor": 5
}
