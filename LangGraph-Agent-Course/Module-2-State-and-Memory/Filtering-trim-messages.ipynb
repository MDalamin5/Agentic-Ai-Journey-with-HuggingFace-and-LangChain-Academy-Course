{
 "cells": [
  {
   "cell_type": "code",
   "execution_count": 49,
   "id": "696fd867",
   "metadata": {},
   "outputs": [],
   "source": [
    "from langchain_groq import ChatGroq\n",
    "from dotenv import load_dotenv\n",
    "import os\n",
    "from pprint import pprint\n",
    "from langchain_core.messages import HumanMessage, AIMessage"
   ]
  },
  {
   "cell_type": "code",
   "execution_count": 50,
   "id": "2021f54e",
   "metadata": {},
   "outputs": [],
   "source": [
    "groq_api_key  = os.getenv(\"GROQ_API_KEY\")\n",
    "\n",
    "## langsmith Tracing\n",
    "os.environ[\"LANGCHAIN_API_KEY\"]= os.getenv(\"LANGCHAIN_API_KEY\")\n",
    "os.environ[\"LANGSMITH_TRACING\"] = \"true\"\n",
    "os.environ[\"LANGSMITH_PROJECT\"] = \"Arithmetic Agent\""
   ]
  },
  {
   "cell_type": "code",
   "execution_count": 51,
   "id": "be0c2559",
   "metadata": {},
   "outputs": [],
   "source": [
    "llm = ChatGroq(model_name=\"meta-llama/llama-4-scout-17b-16e-instruct\", groq_api_key=groq_api_key)"
   ]
  },
  {
   "cell_type": "code",
   "execution_count": 52,
   "id": "f86b089b",
   "metadata": {},
   "outputs": [
    {
     "name": "stdout",
     "output_type": "stream",
     "text": [
      "==================================\u001b[1m Ai Message \u001b[0m==================================\n",
      "Name: Bot\n",
      "\n",
      "So you said you were researching ocean mammals?\n",
      "================================\u001b[1m Human Message \u001b[0m=================================\n",
      "Name: Alamin\n",
      "\n",
      "Yes, I know about whales. But what others should I learn about?\n"
     ]
    }
   ],
   "source": [
    "messages = [AIMessage(f\"So you said you were researching ocean mammals?\", name=\"Bot\")]\n",
    "messages.append(HumanMessage(f\"Yes, I know about whales. But what others should I learn about?\", name=\"Alamin\"))\n",
    "\n",
    "for m in messages:\n",
    "    m.pretty_print()"
   ]
  },
  {
   "cell_type": "code",
   "execution_count": 53,
   "id": "49a71913",
   "metadata": {},
   "outputs": [
    {
     "data": {
      "text/plain": [
       "AIMessage(content=\"Whales are indeed fascinating creatures. Besides whales, there are many other interesting ocean mammals to learn about. Here are a few:\\n\\n1. **Dolphins**: They're closely related to whales, but smaller and more agile. Did you know that dolphins are highly social and have been observed using tools?\\n2. **Seals** (also known as **Earless Seals**): These fin-footed, semi-aquatic marine mammals are found in oceans around the world. They're known for their streamlined bodies and ability to dive deep.\\n3. **Sea Lions**: Similar to seals, but with external ear flaps. Sea lions are highly intelligent and can walk on land using their flippers.\\n4. **Walruses**: Large, tusked mammals that inhabit the Arctic and sub-Arctic oceans. They're known for their distinctive tusks and blubbery bodies.\\n5. **Manatees** (also known as **Sea Cows**): Large, slow-moving herbivores found in shallow waters in the Caribbean and Gulf of Mexico. They're related to elephants and are considered endangered.\\n6. **Dugongs**: Similar to manatees, but found in warmer waters of the Pacific and Indian Oceans. They're also known as sea cows due to their grazing habits.\\n7. **Otters**: While not exclusively marine mammals, sea otters spend most of their time in the ocean, using tools to hunt and gather food.\\n\\nThese ocean mammals play vital roles in their ecosystems, and learning about them can help you appreciate the diversity and complexity of marine life.\\n\\nWhich one of these ocean mammals interests you the most?\", additional_kwargs={}, response_metadata={'token_usage': {'completion_tokens': 330, 'prompt_tokens': 39, 'total_tokens': 369, 'completion_time': 0.727731473, 'prompt_time': 0.003544126, 'queue_time': 0.046725294, 'total_time': 0.731275599}, 'model_name': 'meta-llama/llama-4-scout-17b-16e-instruct', 'system_fingerprint': 'fp_42ae451038', 'finish_reason': 'stop', 'logprobs': None}, id='run--b36c3249-2208-4e31-b287-010860ea383c-0', usage_metadata={'input_tokens': 39, 'output_tokens': 330, 'total_tokens': 369})"
      ]
     },
     "execution_count": 53,
     "metadata": {},
     "output_type": "execute_result"
    }
   ],
   "source": [
    "llm.invoke(messages)"
   ]
  },
  {
   "cell_type": "markdown",
   "id": "59e10a07",
   "metadata": {},
   "source": [
    "## Now define a Basics ChatModel with Build in MessagesState"
   ]
  },
  {
   "cell_type": "code",
   "execution_count": 54,
   "id": "31a6cb56",
   "metadata": {},
   "outputs": [
    {
     "data": {
      "image/png": "[encoded data removed]",
      "text/plain": [
       "<IPython.core.display.Image object>"
      ]
     },
     "metadata": {},
     "output_type": "display_data"
    }
   ],
   "source": [
    "from IPython.display import display, Image\n",
    "from langgraph.graph import MessagesState\n",
    "from langgraph.graph import START, END, StateGraph\n",
    "\n",
    "## define the node\n",
    "def chat_model(state: MessagesState):\n",
    "    \"\"\"This is a chat model its interact with the user messages\"\"\"\n",
    "    \n",
    "    return {\n",
    "        'messages': llm.invoke(state['messages'])\n",
    "    }\n",
    "    \n",
    "builder = StateGraph(MessagesState)\n",
    "builder.add_node(\"chat_model\", chat_model)\n",
    "\n",
    "builder.add_edge(START, 'chat_model')\n",
    "builder.add_edge(\"chat_model\", END)\n",
    "\n",
    "my_graph = builder.compile()\n",
    "\n",
    "# Displaying the graph\n",
    "display(Image(my_graph.get_graph().draw_mermaid_png()))"
   ]
  },
  {
   "cell_type": "code",
   "execution_count": 55,
   "id": "3c1f7984",
   "metadata": {},
   "outputs": [],
   "source": [
    "response = my_graph.invoke(\n",
    "    {\n",
    "        'messages': messages\n",
    "    }\n",
    ")"
   ]
  },
  {
   "cell_type": "code",
   "execution_count": 56,
   "id": "80c01ed5",
   "metadata": {},
   "outputs": [
    {
     "name": "stdout",
     "output_type": "stream",
     "text": [
      "==================================\u001b[1m Ai Message \u001b[0m==================================\n",
      "Name: Bot\n",
      "\n",
      "So you said you were researching ocean mammals?\n",
      "================================\u001b[1m Human Message \u001b[0m=================================\n",
      "Name: Alamin\n",
      "\n",
      "Yes, I know about whales. But what others should I learn about?\n",
      "==================================\u001b[1m Ai Message \u001b[0m==================================\n",
      "\n",
      "Whales are indeed fascinating creatures. Besides whales, there are many other interesting ocean mammals to learn about. Here are a few:\n",
      "\n",
      "1. **Dolphins**: They're closely related to whales, but smaller and more agile. Did you know that dolphins are highly social and have been observed using tools?\n",
      "2. **Seals** (or **Pinnipeds**): These semi-aquatic mammals have flippers and spend time on land. There are several species, including harbor seals, elephant seals, and monk seals.\n",
      "3. **Sea Lions**: Similar to seals, but with external ear flaps and the ability to walk on their hind flippers. They're found in the Pacific Ocean and are known for their intelligence and playfulness.\n",
      "4. **Walruses**: Large, carnivorous mammals with distinctive tusks. They're found in the Arctic and sub-Arctic regions and are skilled swimmers.\n",
      "5. **Manatees**: Also known as sea cows, these slow-moving, herbivorous mammals are found in shallow waters in the Caribbean and Gulf of Mexico.\n",
      "6. **Otters**: There are several species of sea otters, which are members of the weasel family. They're known for their thick fur and use tools to crack open shells.\n",
      "7. **Polar bears**: While they're not exclusively aquatic, polar bears are well-adapted to life in the Arctic Ocean and are skilled swimmers.\n",
      "\n",
      "These are just a few examples of the many fascinating ocean mammals out there. Each one has unique characteristics, behaviors, and habitats, so there's plenty to learn and discover!\n",
      "\n",
      "Which one of these ocean mammals would you like to learn more about?\n"
     ]
    }
   ],
   "source": [
    "for msg in response['messages']:\n",
    "    msg.pretty_print()"
   ]
  },
  {
   "cell_type": "markdown",
   "id": "6d0ec70c",
   "metadata": {},
   "source": [
    "## Reducer\n",
    "\n",
    "See the problem like messages are increasing and increasing so now time to reduce this messages. and its create the problem in long tram conversion\n",
    "\n",
    "we remove the messages using the reducer"
   ]
  },
  {
   "cell_type": "code",
   "execution_count": 57,
   "id": "2dc98c01",
   "metadata": {},
   "outputs": [
    {
     "name": "stdout",
     "output_type": "stream",
     "text": [
      "1\n",
      "2\n",
      "3\n",
      "4\n",
      "5\n",
      "6\n",
      "7\n"
     ]
    }
   ],
   "source": [
    "a = [1, 2, 3, 4, 5, 6, 7, 8, 9]\n",
    "for num in a[:-2]:\n",
    "    print(num)"
   ]
  },
  {
   "cell_type": "code",
   "execution_count": 58,
   "id": "bf3190f8",
   "metadata": {},
   "outputs": [
    {
     "data": {
      "text/plain": [
       "[AIMessage(content='So you said you were researching ocean mammals?', additional_kwargs={}, response_metadata={}, name='Bot', id='3697b800-b604-480a-bc42-8d0d09096b16'),\n",
       " HumanMessage(content='Yes, I know about whales. But what others should I learn about?', additional_kwargs={}, response_metadata={}, name='Alamin', id='6a5769ba-5dc2-4f12-accc-24b17904469f')]"
      ]
     },
     "execution_count": 58,
     "metadata": {},
     "output_type": "execute_result"
    }
   ],
   "source": [
    "messages"
   ]
  },
  {
   "cell_type": "code",
   "execution_count": 59,
   "id": "80523dc0",
   "metadata": {},
   "outputs": [
    {
     "data": {
      "image/png": "[encoded data removed]",
      "text/plain": [
       "<IPython.core.display.Image object>"
      ]
     },
     "metadata": {},
     "output_type": "display_data"
    }
   ],
   "source": [
    "from IPython.display import display, Image\n",
    "from langgraph.graph import MessagesState\n",
    "from langgraph.graph import START, END, StateGraph\n",
    "from langchain_core.messages import RemoveMessage\n",
    "\n",
    "## define the node\n",
    "def filter_messages(state:MessagesState):\n",
    "    delete_messages = [RemoveMessage(id=m.id) for m in state['messages'][: -2]]\n",
    "    \n",
    "    return {\n",
    "        'messages': delete_messages\n",
    "    }\n",
    "\n",
    "def chat_model(state: MessagesState):\n",
    "    \"\"\"This is a chat model its interact with the user messages\n",
    "       And the chat model get only the last two messages\n",
    "    \"\"\"\n",
    "    return {\n",
    "        'messages': llm.invoke(state['messages'])\n",
    "    }\n",
    "    \n",
    "builder = StateGraph(MessagesState)\n",
    "builder.add_node('filter', filter_messages)\n",
    "builder.add_node(\"chat_model\", chat_model)\n",
    "\n",
    "builder.add_edge(START, 'filter')\n",
    "builder.add_edge('filter', 'chat_model')\n",
    "builder.add_edge(\"chat_model\", END)\n",
    "\n",
    "my_graph = builder.compile()\n",
    "\n",
    "# Displaying the graph\n",
    "display(Image(my_graph.get_graph().draw_mermaid_png()))"
   ]
  },
  {
   "cell_type": "code",
   "execution_count": 60,
   "id": "ce5ffb08",
   "metadata": {},
   "outputs": [
    {
     "name": "stdout",
     "output_type": "stream",
     "text": [
      "==================================\u001b[1m Ai Message \u001b[0m==================================\n",
      "Name: Bot\n",
      "\n",
      "So you said you were researching ocean mammals?\n",
      "================================\u001b[1m Human Message \u001b[0m=================================\n",
      "Name: Alamin\n",
      "\n",
      "Yes, I know about whales. But what others should I learn about?\n",
      "==================================\u001b[1m Ai Message \u001b[0m==================================\n",
      "\n",
      "Whales are indeed fascinating creatures. Besides whales, there are many other interesting ocean mammals to learn about. Here are a few:\n",
      "\n",
      "1. **Dolphins**: These intelligent and social creatures are closely related to whales. Did you know that dolphins have their own signature whistles, like human names?\n",
      "2. **Seals and Sea Lions**: These fin-footed mammals are found in oceans worldwide. They're known for their agility on land and in water. Sea lions are actually a type of seal, but with external ear flaps!\n",
      "3. **Walruses**: The largest of the pinnipeds (fin-footed mammals), walruses are famous for their tusks and blubbery bodies. They play a vital role in Arctic ecosystems.\n",
      "4. **Manatees**: Also known as sea cows, manatees are slow-moving, herbivorous mammals found in shallow waters. They're related to elephants and share a similar body shape.\n",
      "5. **Otters**: There are several species of sea otters, which are the smallest marine mammals. They're incredibly playful and use tools to hunt for food.\n",
      "6. **Polar bears**: While they're not exclusively aquatic, polar bears are excellent swimmers and spend a significant amount of time in the ocean. They're well adapted to hunting and surviving in Arctic waters.\n",
      "\n",
      "These are just a few examples of the diverse range of ocean mammals out there. Each one has unique characteristics, behaviors, and adaptations that make them fascinating to learn about.\n",
      "\n",
      "Which one of these ocean mammals would you like to learn more about?\n"
     ]
    }
   ],
   "source": [
    "# Message list with a preamble\n",
    "messages = [AIMessage(\"Hi.\", name=\"Bot\", id=\"1\")]\n",
    "messages.append(HumanMessage(\"Hi.\", name=\"Alamin\", id=\"2\"))\n",
    "messages.append(AIMessage(\"So you said you were researching ocean mammals?\", name=\"Bot\", id=\"3\"))\n",
    "messages.append(HumanMessage(\"Yes, I know about whales. But what others should I learn about?\", name=\"Alamin\", id=\"4\"))\n",
    "\n",
    "# Invoke\n",
    "output = my_graph.invoke({'messages': messages})\n",
    "for m in output['messages']:\n",
    "    m.pretty_print()"
   ]
  },
  {
   "cell_type": "markdown",
   "id": "c7c28860",
   "metadata": {},
   "source": [
    "# **Filter Messages**\n",
    "just pass the last messages to the llm `llm.invoke(messages[-1: ])` to the model"
   ]
  },
  {
   "cell_type": "code",
   "execution_count": 61,
   "id": "769b93c7",
   "metadata": {},
   "outputs": [
    {
     "name": "stdout",
     "output_type": "stream",
     "text": [
      "8\n",
      "9\n"
     ]
    }
   ],
   "source": [
    "a = [1, 2, 3, 4, 5, 6, 7, 8, 9]\n",
    "for num in a[-2:]:\n",
    "    print(num)"
   ]
  },
  {
   "cell_type": "code",
   "execution_count": 62,
   "id": "57c436c5",
   "metadata": {},
   "outputs": [
    {
     "data": {
      "image/png": "[encoded data removed]",
      "text/plain": [
       "<IPython.core.display.Image object>"
      ]
     },
     "metadata": {},
     "output_type": "display_data"
    }
   ],
   "source": [
    "from IPython.display import display, Image\n",
    "from langgraph.graph import MessagesState\n",
    "from langgraph.graph import START, END, StateGraph\n",
    "\n",
    "## define the node\n",
    "def chat_model_node(state: MessagesState):\n",
    "    \"\"\"This is a chat model its interact with the user messages\"\"\"\n",
    "    \n",
    "    return {\n",
    "        'messages': llm.invoke(state['messages'][-1:])\n",
    "    }\n",
    "    \n",
    "builder = StateGraph(MessagesState)\n",
    "builder.add_node(\"chat_model\", chat_model_node)\n",
    "\n",
    "builder.add_edge(START, 'chat_model')\n",
    "builder.add_edge(\"chat_model\", END)\n",
    "\n",
    "my_graph = builder.compile()\n",
    "\n",
    "# Displaying the graph\n",
    "display(Image(my_graph.get_graph().draw_mermaid_png()))"
   ]
  },
  {
   "cell_type": "code",
   "execution_count": 63,
   "id": "f085fd40",
   "metadata": {},
   "outputs": [
    {
     "data": {
      "text/plain": [
       "[AIMessage(content='Hi.', additional_kwargs={}, response_metadata={}, name='Bot', id='1'),\n",
       " HumanMessage(content='Hi.', additional_kwargs={}, response_metadata={}, name='Alamin', id='2'),\n",
       " AIMessage(content='So you said you were researching ocean mammals?', additional_kwargs={}, response_metadata={}, name='Bot', id='3'),\n",
       " HumanMessage(content='Yes, I know about whales. But what others should I learn about?', additional_kwargs={}, response_metadata={}, name='Alamin', id='4')]"
      ]
     },
     "execution_count": 63,
     "metadata": {},
     "output_type": "execute_result"
    }
   ],
   "source": [
    "messages"
   ]
  },
  {
   "cell_type": "code",
   "execution_count": 64,
   "id": "9646b071",
   "metadata": {},
   "outputs": [
    {
     "data": {
      "text/plain": [
       "[AIMessage(content='Hi.', additional_kwargs={}, response_metadata={}, name='Bot', id='1'),\n",
       " HumanMessage(content='Hi.', additional_kwargs={}, response_metadata={}, name='Alamin', id='2'),\n",
       " AIMessage(content='So you said you were researching ocean mammals?', additional_kwargs={}, response_metadata={}, name='Bot', id='3'),\n",
       " HumanMessage(content='Yes, I know about whales. But what others should I learn about?', additional_kwargs={}, response_metadata={}, name='Alamin', id='4'),\n",
       " AIMessage(content=\"Whales are indeed fascinating creatures. Besides whales, there are many other interesting ocean mammals to learn about. Here are a few:\\n\\n1. **Dolphins**: These intelligent and social creatures are closely related to whales. Did you know that dolphins have their own signature whistles, like human names?\\n2. **Seals and Sea Lions**: These fin-footed mammals are found in oceans worldwide. They're known for their agility on land and in water. Sea lions are actually a type of seal, but with external ear flaps!\\n3. **Walruses**: The largest of the pinnipeds (fin-footed mammals), walruses are famous for their tusks and blubbery bodies. They play a vital role in Arctic ecosystems.\\n4. **Manatees**: Also known as sea cows, manatees are slow-moving, herbivorous mammals found in shallow waters. They're related to elephants and share a similar body shape.\\n5. **Otters**: There are several species of sea otters, which are the smallest marine mammals. They're incredibly playful and use tools to hunt for food.\\n6. **Polar bears**: While they're not exclusively aquatic, polar bears are excellent swimmers and spend a significant amount of time in the ocean. They're well adapted to hunting and surviving in Arctic waters.\\n\\nThese are just a few examples of the diverse range of ocean mammals out there. Each one has unique characteristics, behaviors, and adaptations that make them fascinating to learn about.\\n\\nWhich one of these ocean mammals would you like to learn more about?\", additional_kwargs={}, response_metadata={'token_usage': {'completion_tokens': 314, 'prompt_tokens': 39, 'total_tokens': 353, 'completion_time': 0.748882733, 'prompt_time': 0.003835307, 'queue_time': 0.11116542900000001, 'total_time': 0.75271804}, 'model_name': 'meta-llama/llama-4-scout-17b-16e-instruct', 'system_fingerprint': 'fp_37da608fc1', 'finish_reason': 'stop', 'logprobs': None}, id='run--82ef1c54-abbc-4d1e-8cd2-d4235aeebf04-0', usage_metadata={'input_tokens': 39, 'output_tokens': 314, 'total_tokens': 353}),\n",
       " HumanMessage(content='Tell me more about Narwhals!', additional_kwargs={}, response_metadata={}, name='Lance')]"
      ]
     },
     "execution_count": 64,
     "metadata": {},
     "output_type": "execute_result"
    }
   ],
   "source": [
    "messages.append(output['messages'][-1])\n",
    "messages.append(HumanMessage(content=f\"Tell me more about Narwhals!\", name=\"Lance\"))\n",
    "messages"
   ]
  },
  {
   "cell_type": "code",
   "execution_count": 65,
   "id": "aa7ab7fe",
   "metadata": {},
   "outputs": [
    {
     "name": "stdout",
     "output_type": "stream",
     "text": [
      "==================================\u001b[1m Ai Message \u001b[0m==================================\n",
      "Name: Bot\n",
      "\n",
      "Hi.\n",
      "================================\u001b[1m Human Message \u001b[0m=================================\n",
      "Name: Alamin\n",
      "\n",
      "Hi.\n",
      "==================================\u001b[1m Ai Message \u001b[0m==================================\n",
      "Name: Bot\n",
      "\n",
      "So you said you were researching ocean mammals?\n",
      "================================\u001b[1m Human Message \u001b[0m=================================\n",
      "Name: Alamin\n",
      "\n",
      "Yes, I know about whales. But what others should I learn about?\n",
      "==================================\u001b[1m Ai Message \u001b[0m==================================\n",
      "\n",
      "Whales are indeed fascinating creatures. Besides whales, there are many other interesting ocean mammals to learn about. Here are a few:\n",
      "\n",
      "1. **Dolphins**: These intelligent and social creatures are closely related to whales. Did you know that dolphins have their own signature whistles, like human names?\n",
      "2. **Seals and Sea Lions**: These fin-footed mammals are found in oceans worldwide. They're known for their agility on land and in water. Sea lions are actually a type of seal, but with external ear flaps!\n",
      "3. **Walruses**: The largest of the pinnipeds (fin-footed mammals), walruses are famous for their tusks and blubbery bodies. They play a vital role in Arctic ecosystems.\n",
      "4. **Manatees**: Also known as sea cows, manatees are slow-moving, herbivorous mammals found in shallow waters. They're related to elephants and share a similar body shape.\n",
      "5. **Otters**: There are several species of sea otters, which are the smallest marine mammals. They're incredibly playful and use tools to hunt for food.\n",
      "6. **Polar bears**: While they're not exclusively aquatic, polar bears are excellent swimmers and spend a significant amount of time in the ocean. They're well adapted to hunting and surviving in Arctic waters.\n",
      "\n",
      "These are just a few examples of the diverse range of ocean mammals out there. Each one has unique characteristics, behaviors, and adaptations that make them fascinating to learn about.\n",
      "\n",
      "Which one of these ocean mammals would you like to learn more about?\n",
      "================================\u001b[1m Human Message \u001b[0m=================================\n",
      "Name: Lance\n",
      "\n",
      "Tell me more about Narwhals!\n"
     ]
    }
   ],
   "source": [
    "for m in messages:\n",
    "    m.pretty_print()"
   ]
  },
  {
   "cell_type": "code",
   "execution_count": 66,
   "id": "6e83b737",
   "metadata": {},
   "outputs": [
    {
     "name": "stdout",
     "output_type": "stream",
     "text": [
      "==================================\u001b[1m Ai Message \u001b[0m==================================\n",
      "Name: Bot\n",
      "\n",
      "Hi.\n",
      "================================\u001b[1m Human Message \u001b[0m=================================\n",
      "Name: Alamin\n",
      "\n",
      "Hi.\n",
      "==================================\u001b[1m Ai Message \u001b[0m==================================\n",
      "Name: Bot\n",
      "\n",
      "So you said you were researching ocean mammals?\n",
      "================================\u001b[1m Human Message \u001b[0m=================================\n",
      "Name: Alamin\n",
      "\n",
      "Yes, I know about whales. But what others should I learn about?\n",
      "==================================\u001b[1m Ai Message \u001b[0m==================================\n",
      "\n",
      "Whales are indeed fascinating creatures. Besides whales, there are many other interesting ocean mammals to learn about. Here are a few:\n",
      "\n",
      "1. **Dolphins**: These intelligent and social creatures are closely related to whales. Did you know that dolphins have their own signature whistles, like human names?\n",
      "2. **Seals and Sea Lions**: These fin-footed mammals are found in oceans worldwide. They're known for their agility on land and in water. Sea lions are actually a type of seal, but with external ear flaps!\n",
      "3. **Walruses**: The largest of the pinnipeds (fin-footed mammals), walruses are famous for their tusks and blubbery bodies. They play a vital role in Arctic ecosystems.\n",
      "4. **Manatees**: Also known as sea cows, manatees are slow-moving, herbivorous mammals found in shallow waters. They're related to elephants and share a similar body shape.\n",
      "5. **Otters**: There are several species of sea otters, which are the smallest marine mammals. They're incredibly playful and use tools to hunt for food.\n",
      "6. **Polar bears**: While they're not exclusively aquatic, polar bears are excellent swimmers and spend a significant amount of time in the ocean. They're well adapted to hunting and surviving in Arctic waters.\n",
      "\n",
      "These are just a few examples of the diverse range of ocean mammals out there. Each one has unique characteristics, behaviors, and adaptations that make them fascinating to learn about.\n",
      "\n",
      "Which one of these ocean mammals would you like to learn more about?\n",
      "================================\u001b[1m Human Message \u001b[0m=================================\n",
      "Name: Lance\n",
      "\n",
      "Tell me more about Narwhals!\n",
      "==================================\u001b[1m Ai Message \u001b[0m==================================\n",
      "\n",
      "The narwhal! Also known as the \"unicorn of the sea,\" this majestic creature has captured the hearts and imaginations of people around the world. Here are some fascinating facts about narwhals:\n",
      "\n",
      "**Physical Characteristics:**\n",
      "\n",
      "* Narwhals (Monodon monoceros) are a species of whale found in the Arctic waters of Canada, Greenland, and Russia.\n",
      "* They have a distinctive tusk, which is actually a modified tooth that protrudes from their upper jaw. The tusk can grow up to 10 feet (3 meters) long and is usually found on males, but some females may also have a smaller tusk.\n",
      "* Narwhals have a bluish-gray back and a creamy-white belly, with a rounded body and a small dorsal fin.\n",
      "* They can grow up to 16 feet (4.9 meters) long and weigh up to 3,500 pounds (1,590 kilograms).\n",
      "\n",
      "**The Mysterious Tusk:**\n",
      "\n",
      "* The purpose of the narwhal's tusk is still a topic of debate among scientists. Theories include:\n",
      "\t+ Sensing the environment: The tusk may be used to detect changes in temperature, salinity, or other environmental factors.\n",
      "\t+ Attracting mates: The tusk may be a sign of masculinity and help attract females.\n",
      "\t+ Breaking ice: The tusk may be used to break through ice or create breathing holes.\n",
      "* Despite its size, the tusk is actually a relatively lightweight and flexible structure.\n",
      "\n",
      "**Behavior and Habitat:**\n",
      "\n",
      "* Narwhals are social animals and are often found in groups of up to 100 individuals.\n",
      "* They inhabit the Arctic waters, typically in areas with dense sea ice and cold temperatures.\n",
      "* Narwhals are skilled divers and can dive to depths of up to 1,500 meters (4,921 feet) in search of food, such as Greenland halibut, arctic cod, and shrimp.\n",
      "\n",
      "**Conservation Status:**\n",
      "\n",
      "* Narwhals are listed as \"Vulnerable\" on the IUCN Red List, due to climate change, hunting, and habitat degradation.\n",
      "* The main threats to narwhals are:\n",
      "\t+ Climate change: Melting sea ice and changes in ocean temperatures affect their habitat and food supply.\n",
      "\t+ Hunting: Narwhals are hunted for their meat, blubber, and tusks.\n",
      "\t+ Tourism: Increased tourism and shipping in the Arctic can disturb narwhal habitats and disrupt their behavior.\n",
      "\n",
      "**Interesting Facts:**\n",
      "\n",
      "* Narwhals are known for their unique vocalizations, which can be heard for miles underwater.\n",
      "* They have a relatively slow metabolism, which means they don't need to eat much to survive.\n",
      "* Narwhals are excellent swimmers and can reach speeds of up to 35 miles per hour (56 kilometers per hour).\n",
      "\n",
      "**Mythology and Cultural Significance:**\n",
      "\n",
      "* The narwhal's tusk has been the subject of myths and legends for centuries. In medieval times, narwhal tusks were sold as \"unicorn horns\" and believed to have magical powers.\n",
      "* In Inuit culture, narwhals are considered a sacred animal and are often depicted in traditional art and stories.\n",
      "\n",
      "Overall, narwhals are fascinating creatures that continue to capture the imagination of people around the world. Their unique appearance, behaviors, and habitats make them an important part of the Arctic ecosystem, and conservation efforts are necessary to protect these amazing animals.\n"
     ]
    }
   ],
   "source": [
    "# Invoke, using message filtering\n",
    "output = my_graph.invoke({'messages': messages})\n",
    "\n",
    "for m in output['messages']:\n",
    "    m.pretty_print()"
   ]
  },
  {
   "cell_type": "markdown",
   "id": "188f43fa",
   "metadata": {},
   "source": [
    "# **Trim Messages**\n",
    "\n",
    "Another approach is to [trim messages](https://python.langchain.com/v0.2/docs/how_to/trim_messages/#getting-the-last-max_tokens-tokens), based upon a set number of tokens. \n",
    "\n",
    "This restricts the message history to a specified number of tokens.\n",
    "\n",
    "While filtering only returns a post-hoc subset of the messages between agents, trimming restricts the number of tokens that a chat model can use to respond.\n",
    "\n",
    "See the `trim_messages` below."
   ]
  },
  {
   "cell_type": "code",
   "execution_count": 67,
   "id": "ec9f9272",
   "metadata": {},
   "outputs": [
    {
     "data": {
      "image/png": "[encoded data removed]",
      "text/plain": [
       "<IPython.core.display.Image object>"
      ]
     },
     "metadata": {},
     "output_type": "display_data"
    }
   ],
   "source": [
    "from langchain_core.messages import trim_messages\n",
    "\n",
    "# Node\n",
    "def chat_model_node(state: MessagesState):\n",
    "    messages = trim_messages(\n",
    "            state[\"messages\"],\n",
    "            max_tokens=100,\n",
    "            strategy=\"last\",\n",
    "            token_counter=ChatGroq(model_name=\"meta-llama/llama-4-scout-17b-16e-instruct\", groq_api_key=groq_api_key),\n",
    "            allow_partial=False,\n",
    "        )\n",
    "    return {\"messages\": [llm.invoke(messages)]}\n",
    "\n",
    "# Build graph\n",
    "builder = StateGraph(MessagesState)\n",
    "builder.add_node(\"chat_model\", chat_model_node)\n",
    "builder.add_edge(START, \"chat_model\")\n",
    "builder.add_edge(\"chat_model\", END)\n",
    "graph = builder.compile()\n",
    "\n",
    "# View\n",
    "display(Image(graph.get_graph().draw_mermaid_png()))"
   ]
  },
  {
   "cell_type": "code",
   "execution_count": 68,
   "id": "56d184ff",
   "metadata": {},
   "outputs": [],
   "source": [
    "messages.append(output['messages'][-1])\n",
    "messages.append(HumanMessage(f\"Tell me where Orcas live!\", name=\"Alamin\"))"
   ]
  },
  {
   "cell_type": "code",
   "execution_count": null,
   "id": "01d30a55",
   "metadata": {},
   "outputs": [],
   "source": [
    "messages_out_trim = graph.invoke({'messages': messages})"
   ]
  }
 ],
 "metadata": {
  "kernelspec": {
   "display_name": "lang_aca",
   "language": "python",
   "name": "python3"
  },
  "language_info": {
   "codemirror_mode": {
    "name": "ipython",
    "version": 3
   },
   "file_extension": ".py",
   "mimetype": "text/x-python",
   "name": "python",
   "nbconvert_exporter": "python",
   "pygments_lexer": "ipython3",
   "version": "3.11.11"
  }
 },
 "nbformat": 4,
 "nbformat_minor": 5
}
