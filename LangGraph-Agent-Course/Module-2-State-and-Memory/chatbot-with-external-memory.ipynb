{
 "cells": [
  {
   "cell_type": "code",
   "execution_count": 1,
   "id": "6766d1a4",
   "metadata": {},
   "outputs": [],
   "source": [
    "from langchain_groq import ChatGroq\n",
    "from dotenv import load_dotenv\n",
    "import os\n",
    "from pprint import pprint\n",
    "from langchain_core.messages import HumanMessage, AIMessage"
   ]
  },
  {
   "cell_type": "code",
   "execution_count": 2,
   "id": "b646b6f8",
   "metadata": {},
   "outputs": [],
   "source": [
    "groq_api_key  = os.getenv(\"GROQ_API_KEY\")\n",
    "\n",
    "## langsmith Tracing\n",
    "os.environ[\"LANGCHAIN_API_KEY\"]= os.getenv(\"LANGCHAIN_API_KEY\")\n",
    "os.environ[\"LANGSMITH_TRACING\"] = \"true\"\n",
    "os.environ[\"LANGSMITH_PROJECT\"] = \"Chatbot With Messages Summarization\""
   ]
  },
  {
   "cell_type": "code",
   "execution_count": 3,
   "id": "7cef1cac",
   "metadata": {},
   "outputs": [],
   "source": [
    "model = ChatGroq(model_name=\"meta-llama/llama-4-scout-17b-16e-instruct\", groq_api_key=groq_api_key)"
   ]
  },
  {
   "cell_type": "code",
   "execution_count": 4,
   "id": "528b2451",
   "metadata": {},
   "outputs": [],
   "source": [
    "import sqlite3\n",
    "\n",
    "# in memory\n",
    "conn = sqlite3.connect(\":memory:\", check_same_thread=False)"
   ]
  },
  {
   "cell_type": "code",
   "execution_count": 5,
   "id": "696b5538",
   "metadata": {},
   "outputs": [
    {
     "name": "stderr",
     "output_type": "stream",
     "text": [
      "A subdirectory or file -p already exists.\n",
      "Error occurred while processing: -p.\n",
      "A subdirectory or file state_db already exists.\n",
      "Error occurred while processing: state_db.\n"
     ]
    }
   ],
   "source": [
    "# pull file if it doesn't exist and connect to local db\n",
    "!mkdir -p state_db && [ ! -f state_db/example.db ] && wget -P state_db https://github.com/langchain-ai/langchain-academy/raw/main/module-2/state_db/example.db\n",
    "\n",
    "db_path = \"state_db/example.db\"\n",
    "conn = sqlite3.connect(db_path, check_same_thread=False)"
   ]
  },
  {
   "cell_type": "code",
   "execution_count": 6,
   "id": "464c3cb6",
   "metadata": {},
   "outputs": [],
   "source": [
    "# Here is our checkpointer \n",
    "from langgraph.checkpoint.sqlite import SqliteSaver\n",
    "memory = SqliteSaver(conn)"
   ]
  },
  {
   "cell_type": "markdown",
   "id": "99986284",
   "metadata": {},
   "source": [
    "## **Our previous chatbot code**"
   ]
  },
  {
   "cell_type": "code",
   "execution_count": 7,
   "id": "ad6e9210",
   "metadata": {},
   "outputs": [],
   "source": [
    "from langchain_openai import ChatOpenAI\n",
    "from langchain_core.messages import SystemMessage, HumanMessage, RemoveMessage\n",
    "\n",
    "from langgraph.graph import END\n",
    "from langgraph.graph import MessagesState\n",
    "\n",
    "\n",
    "\n",
    "class State(MessagesState):\n",
    "    summary: str\n",
    "\n",
    "# Define the logic to call the model\n",
    "def call_model(state: State):\n",
    "    \n",
    "    # Get summary if it exists\n",
    "    summary = state.get(\"summary\", \"\")\n",
    "\n",
    "    # If there is summary, then we add it\n",
    "    if summary:\n",
    "        \n",
    "        # Add summary to system message\n",
    "        system_message = f\"Summary of conversation earlier: {summary}\"\n",
    "\n",
    "        # Append summary to any newer messages\n",
    "        messages = [SystemMessage(content=system_message)] + state[\"messages\"]\n",
    "    \n",
    "    else:\n",
    "        messages = state[\"messages\"]\n",
    "    \n",
    "    response = model.invoke(messages)\n",
    "    return {\"messages\": response}\n",
    "\n",
    "def summarize_conversation(state: State):\n",
    "    \n",
    "    # First, we get any existing summary\n",
    "    summary = state.get(\"summary\", \"\")\n",
    "\n",
    "    # Create our summarization prompt \n",
    "    if summary:\n",
    "        \n",
    "        # A summary already exists\n",
    "        summary_message = (\n",
    "            f\"This is summary of the conversation to date: {summary}\\n\\n\"\n",
    "            \"Extend the summary by taking into account the new messages above:\"\n",
    "        )\n",
    "        \n",
    "    else:\n",
    "        summary_message = \"Create a summary of the conversation above:\"\n",
    "\n",
    "    # Add prompt to our history\n",
    "    messages = state[\"messages\"] + [HumanMessage(content=summary_message)]\n",
    "    response = model.invoke(messages)\n",
    "    \n",
    "    # Delete all but the 2 most recent messages\n",
    "    delete_messages = [RemoveMessage(id=m.id) for m in state[\"messages\"][:-2]]\n",
    "    return {\"summary\": response.content, \"messages\": delete_messages}\n",
    "\n",
    "# Determine whether to end or summarize the conversation\n",
    "def should_continue(state: State):\n",
    "    \n",
    "    \"\"\"Return the next node to execute.\"\"\"\n",
    "    \n",
    "    messages = state[\"messages\"]\n",
    "    \n",
    "    # If there are more than six messages, then we summarize the conversation\n",
    "    if len(messages) > 6:\n",
    "        return \"summarize_conversation\"\n",
    "    \n",
    "    # Otherwise we can just end\n",
    "    return END"
   ]
  },
  {
   "cell_type": "code",
   "execution_count": 8,
   "id": "03a7dcdd",
   "metadata": {},
   "outputs": [
    {
     "data": {
      "image/png": "[encoded data removed]",
      "text/plain": [
       "<IPython.core.display.Image object>"
      ]
     },
     "metadata": {},
     "output_type": "display_data"
    }
   ],
   "source": [
    "from IPython.display import Image, display\n",
    "from langgraph.graph import StateGraph, START\n",
    "\n",
    "# Define a new graph\n",
    "workflow = StateGraph(State)\n",
    "workflow.add_node(\"conversation\", call_model)\n",
    "workflow.add_node(summarize_conversation)\n",
    "\n",
    "# Set the entrypoint as conversation\n",
    "workflow.add_edge(START, \"conversation\")\n",
    "workflow.add_conditional_edges(\"conversation\", should_continue)\n",
    "workflow.add_edge(\"summarize_conversation\", END)\n",
    "\n",
    "# Compile\n",
    "graph = workflow.compile(checkpointer=memory)\n",
    "display(Image(graph.get_graph().draw_mermaid_png()))"
   ]
  },
  {
   "cell_type": "code",
   "execution_count": 9,
   "id": "d624b5e8",
   "metadata": {},
   "outputs": [
    {
     "name": "stdout",
     "output_type": "stream",
     "text": [
      "==================================\u001b[1m Ai Message \u001b[0m==================================\n",
      "\n",
      "Hi Lance! How's your day going so far? What's on your mind? Want to chat about something in particular or just shoot the breeze? I'm here to listen!\n",
      "==================================\u001b[1m Ai Message \u001b[0m==================================\n",
      "\n",
      "Your name is Lance! We just started chatting a minute ago, and you told me that. How can I help you today, Lance?\n",
      "==================================\u001b[1m Ai Message \u001b[0m==================================\n",
      "\n",
      "Go Niners! The San Francisco 49ers have a rich history and a loyal fan base. Who's your favorite player, past or present? Are you a fan of the current team or do you have a favorite player from the past, like Joe Montana or Jerry Rice?\n"
     ]
    }
   ],
   "source": [
    "# Create a thread\n",
    "config = {\"configurable\": {\"thread_id\": \"1\"}}\n",
    "\n",
    "# Start conversation\n",
    "input_message = HumanMessage(content=\"hi! I'm Lance\")\n",
    "output = graph.invoke({\"messages\": [input_message]}, config) \n",
    "for m in output['messages'][-1:]:\n",
    "    m.pretty_print()\n",
    "\n",
    "input_message = HumanMessage(content=\"what's my name?\")\n",
    "output = graph.invoke({\"messages\": [input_message]}, config) \n",
    "for m in output['messages'][-1:]:\n",
    "    m.pretty_print()\n",
    "\n",
    "input_message = HumanMessage(content=\"i like the 49ers!\")\n",
    "output = graph.invoke({\"messages\": [input_message]}, config) \n",
    "for m in output['messages'][-1:]:\n",
    "    m.pretty_print()"
   ]
  },
  {
   "cell_type": "code",
   "execution_count": 10,
   "id": "8012fcf1",
   "metadata": {},
   "outputs": [
    {
     "data": {
      "text/plain": [
       "StateSnapshot(values={'messages': [HumanMessage(content=\"hi! I'm Lance\", additional_kwargs={}, response_metadata={}, id='cbf1d8e6-daed-451c-8d77-f564ba5abae7'), AIMessage(content=\"Hi Lance! How's your day going so far? What's on your mind? Want to chat about something in particular or just shoot the breeze? I'm here to listen!\", additional_kwargs={}, response_metadata={'token_usage': {'completion_tokens': 35, 'prompt_tokens': 14, 'total_tokens': 49, 'completion_time': 0.075574148, 'prompt_time': 0.002744224, 'queue_time': 0.9328451750000001, 'total_time': 0.078318372}, 'model_name': 'meta-llama/llama-4-scout-17b-16e-instruct', 'system_fingerprint': 'fp_42ae451038', 'finish_reason': 'stop', 'logprobs': None}, id='run--a710b6e0-e453-4884-a1fb-00685144a1e3-0', usage_metadata={'input_tokens': 14, 'output_tokens': 35, 'total_tokens': 49}), HumanMessage(content=\"what's my name?\", additional_kwargs={}, response_metadata={}, id='1b3f7fd3-0b2d-4d3e-bc15-94601bef5185'), AIMessage(content='Your name is Lance! We just started chatting a minute ago, and you told me that. How can I help you today, Lance?', additional_kwargs={}, response_metadata={'token_usage': {'completion_tokens': 29, 'prompt_tokens': 63, 'total_tokens': 92, 'completion_time': 0.070249698, 'prompt_time': 0.004113081, 'queue_time': 1.433631599, 'total_time': 0.074362779}, 'model_name': 'meta-llama/llama-4-scout-17b-16e-instruct', 'system_fingerprint': 'fp_42ae451038', 'finish_reason': 'stop', 'logprobs': None}, id='run--f445f9d3-95d5-4833-a906-cacd387ad877-0', usage_metadata={'input_tokens': 63, 'output_tokens': 29, 'total_tokens': 92}), HumanMessage(content='i like the 49ers!', additional_kwargs={}, response_metadata={}, id='d2443ea7-75c4-4412-979c-9b9fd83c8045'), AIMessage(content=\"Go Niners! The San Francisco 49ers have a rich history and a loyal fan base. Who's your favorite player, past or present? Are you a fan of the current team or do you have a favorite player from the past, like Joe Montana or Jerry Rice?\", additional_kwargs={}, response_metadata={'token_usage': {'completion_tokens': 57, 'prompt_tokens': 107, 'total_tokens': 164, 'completion_time': 0.136493865, 'prompt_time': 0.007277217, 'queue_time': 0.7644532230000001, 'total_time': 0.143771082}, 'model_name': 'meta-llama/llama-4-scout-17b-16e-instruct', 'system_fingerprint': 'fp_42ae451038', 'finish_reason': 'stop', 'logprobs': None}, id='run--60dcfa52-79f0-481a-b88e-9d5bcc07f9d0-0', usage_metadata={'input_tokens': 107, 'output_tokens': 57, 'total_tokens': 164})]}, next=(), config={'configurable': {'thread_id': '1', 'checkpoint_ns': '', 'checkpoint_id': '1f02b3d1-270b-6684-8007-f806d56fb060'}}, metadata={'source': 'loop', 'writes': {'conversation': {'messages': AIMessage(content=\"Go Niners! The San Francisco 49ers have a rich history and a loyal fan base. Who's your favorite player, past or present? Are you a fan of the current team or do you have a favorite player from the past, like Joe Montana or Jerry Rice?\", additional_kwargs={}, response_metadata={'token_usage': {'completion_tokens': 57, 'prompt_tokens': 107, 'total_tokens': 164, 'completion_time': 0.136493865, 'prompt_time': 0.007277217, 'queue_time': 0.7644532230000001, 'total_time': 0.143771082}, 'model_name': 'meta-llama/llama-4-scout-17b-16e-instruct', 'system_fingerprint': 'fp_42ae451038', 'finish_reason': 'stop', 'logprobs': None}, id='run--60dcfa52-79f0-481a-b88e-9d5bcc07f9d0-0', usage_metadata={'input_tokens': 107, 'output_tokens': 57, 'total_tokens': 164})}}, 'step': 7, 'parents': {}, 'thread_id': '1'}, created_at='2025-05-07T12:16:15.086144+00:00', parent_config={'configurable': {'thread_id': '1', 'checkpoint_ns': '', 'checkpoint_id': '1f02b3d1-1d9f-682d-8006-117d42475ba6'}}, tasks=(), interrupts=())"
      ]
     },
     "execution_count": 10,
     "metadata": {},
     "output_type": "execute_result"
    }
   ],
   "source": [
    "config = {\"configurable\": {\"thread_id\": \"1\"}}\n",
    "graph_state = graph.get_state(config)\n",
    "graph_state"
   ]
  },
  {
   "cell_type": "markdown",
   "id": "e1bb75fd",
   "metadata": {},
   "source": [
    "## now its work as offline mode also because my memory saved in the local storage."
   ]
  },
  {
   "cell_type": "code",
   "execution_count": null,
   "id": "d0802991",
   "metadata": {},
   "outputs": [],
   "source": []
  }
 ],
 "metadata": {
  "kernelspec": {
   "display_name": "lang_aca",
   "language": "python",
   "name": "python3"
  },
  "language_info": {
   "codemirror_mode": {
    "name": "ipython",
    "version": 3
   },
   "file_extension": ".py",
   "mimetype": "text/x-python",
   "name": "python",
   "nbconvert_exporter": "python",
   "pygments_lexer": "ipython3",
   "version": "3.11.11"
  }
 },
 "nbformat": 4,
 "nbformat_minor": 5
}
