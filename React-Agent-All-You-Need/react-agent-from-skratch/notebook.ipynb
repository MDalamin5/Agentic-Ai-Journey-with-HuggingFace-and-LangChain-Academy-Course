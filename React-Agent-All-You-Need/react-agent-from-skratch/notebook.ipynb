{
 "cells": [
  {
   "cell_type": "markdown",
   "id": "1ca6d403",
   "metadata": {},
   "source": [
    "## **Dictionary**"
   ]
  },
  {
   "cell_type": "code",
   "execution_count": 2,
   "id": "198ddf4f",
   "metadata": {},
   "outputs": [],
   "source": [
    "person = {\n",
    "    \"name\": \"Md Al Amin\",\n",
    "    \"age\": 50,\n",
    "    \"uni\": \"NSU\",\n",
    "    \"pro_lang\" : [\"python\", \"cpp\", \"js\", \"banala\"]\n",
    "}"
   ]
  },
  {
   "cell_type": "code",
   "execution_count": 3,
   "id": "fbd019ee",
   "metadata": {},
   "outputs": [
    {
     "data": {
      "text/plain": [
       "'banala'"
      ]
     },
     "execution_count": 3,
     "metadata": {},
     "output_type": "execute_result"
    }
   ],
   "source": [
    "person[\"pro_lang\"][-1]"
   ]
  },
  {
   "cell_type": "code",
   "execution_count": 4,
   "id": "bac8c88f",
   "metadata": {},
   "outputs": [
    {
     "data": {
      "text/plain": [
       "['python', 'cpp', 'js', 'banala', 'JAVA']"
      ]
     },
     "execution_count": 4,
     "metadata": {},
     "output_type": "execute_result"
    }
   ],
   "source": [
    "person[\"pro_lang\"].append(\"JAVA\")\n",
    "person[\"pro_lang\"]"
   ]
  },
  {
   "cell_type": "markdown",
   "id": "ac8d4d04",
   "metadata": {},
   "source": [
    "## **LLMs Intro**"
   ]
  },
  {
   "cell_type": "code",
   "execution_count": 1,
   "id": "4f392cce",
   "metadata": {},
   "outputs": [],
   "source": [
    "from dotenv import load_dotenv\n",
    "import os\n",
    "load_dotenv()\n",
    "\n",
    "\n",
    "os.environ[\"GORQ_API_KEY\"] = os.getenv(\"GROQ_API_KEY\")\n",
    "# os.environ[\"LANGCHAIN_API_KEY\"] = os.getenv(\"LANGCHAIN_API_KEY\")\n",
    "# os.environ[\"LANGCHAIN_PROJECT\"] = os.getenv(\"LANGCHAIN_PROJECT\")"
   ]
  },
  {
   "cell_type": "code",
   "execution_count": 16,
   "id": "d61d1602",
   "metadata": {},
   "outputs": [
    {
     "data": {
      "text/plain": [
       "AIMessage(content='<think>\\nOkay, the user sent \"Test line\". Hmm, that\\'s pretty short. I need to figure out what they\\'re looking for. Maybe they\\'re just testing if the system is working. Or perhaps they want me to respond in a specific way. Let me check the guidelines. If the query is unclear, I should ask for clarification. But \"Test line\" is vague. Maybe they want me to acknowledge the test. I should probably respond with a friendly message to confirm they\\'re all set and offer further help. Keep it simple and open-ended.\\n</think>\\n\\nHello! It seems like you might be testing the system. How can I assist you today? Feel free to ask any questions or let me know if you need help with something specific! 😊', additional_kwargs={}, response_metadata={'token_usage': {'completion_tokens': 155, 'prompt_tokens': 10, 'total_tokens': 165, 'completion_time': 0.365054876, 'prompt_time': 0.000454362, 'queue_time': 0.049690908, 'total_time': 0.365509238}, 'model_name': 'qwen/qwen3-32b', 'system_fingerprint': 'fp_8487b76fd3', 'finish_reason': 'stop', 'logprobs': None}, id='run--3fd992bd-40fc-4506-8520-e3c3ea1ac698-0', usage_metadata={'input_tokens': 10, 'output_tokens': 155, 'total_tokens': 165})"
      ]
     },
     "execution_count": 16,
     "metadata": {},
     "output_type": "execute_result"
    }
   ],
   "source": [
    "from langchain_groq import ChatGroq\n",
    "\n",
    "groq_api_key = os.getenv(\"GROQ_API_KEY\")\n",
    "\n",
    "llm = ChatGroq(\n",
    "    model_name = \"qwen/qwen3-32b\",\n",
    "    groq_api_key = groq_api_key,\n",
    "    temperature=0.5\n",
    ")\n",
    "\n",
    "llm.invoke(\"Test line\")"
   ]
  },
  {
   "cell_type": "code",
   "execution_count": 17,
   "id": "57baccfe",
   "metadata": {},
   "outputs": [],
   "source": [
    "from pydantic import BaseModel\n",
    "\n",
    "class Person(BaseModel):\n",
    "    name: str\n",
    "    age: int\n",
    "    uni: str\n",
    "    "
   ]
  },
  {
   "cell_type": "code",
   "execution_count": 18,
   "id": "715156c5",
   "metadata": {},
   "outputs": [
    {
     "data": {
      "text/plain": [
       "'<think>\\nOkay, the user greeted me with \"Hi, how are you!\" which is a friendly and warm opening. I should respond in kind, keeping the tone cheerful and engaging. I can acknowledge their greeting and express my own enthusiasm for our conversation. Let me make sure to use an emoji to convey my friendly demeanor and invite them to share what\\'s on their mind.\\n</think>\\n\\n Hello! 😊 I\\'m doing well, thanks for asking. I\\'m always excited to chat and help out. How can I assist you today?'"
      ]
     },
     "execution_count": 18,
     "metadata": {},
     "output_type": "execute_result"
    }
   ],
   "source": [
    "llm.invoke(\"Hi, how are you!\").content"
   ]
  },
  {
   "cell_type": "code",
   "execution_count": 19,
   "id": "50ba50a5",
   "metadata": {},
   "outputs": [],
   "source": [
    "llm_with_str_op = llm.with_structured_output(Person)"
   ]
  },
  {
   "cell_type": "code",
   "execution_count": 22,
   "id": "a9228eb8",
   "metadata": {},
   "outputs": [],
   "source": [
    "text = \"my name is alamin, I should respond in kind, keeping the tone cheerful and engaging. I can acknowledge their greeting and express my own enthusiasm for our conversation. Let me make sure to use an emoji to convey my friendly demeanor and invite them to share what I'm  day going so far age 40, i complete my Undergraduate from NOrth south university.\""
   ]
  },
  {
   "cell_type": "code",
   "execution_count": 23,
   "id": "4a868925",
   "metadata": {},
   "outputs": [],
   "source": [
    "response = llm_with_str_op.invoke(text)"
   ]
  },
  {
   "cell_type": "code",
   "execution_count": 25,
   "id": "a94165bb",
   "metadata": {},
   "outputs": [
    {
     "data": {
      "text/plain": [
       "'Alamin'"
      ]
     },
     "execution_count": 25,
     "metadata": {},
     "output_type": "execute_result"
    }
   ],
   "source": [
    "response.name"
   ]
  },
  {
   "cell_type": "code",
   "execution_count": 7,
   "id": "3ca798d5",
   "metadata": {},
   "outputs": [
    {
     "data": {
      "text/plain": [
       "\"It looks like you're testing to see if I'm working properly! That's perfectly fine. I'm here and ready to chat. How can I assist you today?\""
      ]
     },
     "execution_count": 7,
     "metadata": {},
     "output_type": "execute_result"
    }
   ],
   "source": [
    "\n",
    "llm = ChatGroq(model=\"meta-llama/llama-4-scout-17b-16e-instruct\")\n",
    "\n",
    "llm.invoke(\"Test line\").content"
   ]
  },
  {
   "cell_type": "markdown",
   "id": "a236597c",
   "metadata": {},
   "source": [
    "## **Prompt**"
   ]
  },
  {
   "cell_type": "code",
   "execution_count": 26,
   "id": "fe62766a",
   "metadata": {},
   "outputs": [],
   "source": [
    "from langchain_core.prompts import PromptTemplate\n",
    "\n",
    "prompt = PromptTemplate(\n",
    "    template=\"\"\"You are helpful ai assistant. response in {way_of_talk} style and must in {language} language.\n",
    "    user query is: {question}\n",
    "    \n",
    "    \"\"\",\n",
    "    input_variables=[\"question\", \"way_of_talk\", \"language\"]\n",
    ")\n",
    "\n",
    "\n",
    "chain = prompt | llm\n",
    "\n",
    "response = chain.invoke(\n",
    "    {\n",
    "        \"question\": \"why ai agent will be future?\",\n",
    "        \"way_of_talk\": \"funny way\",\n",
    "        \"language\": \"Bangla\"\n",
    "    }\n",
    ")"
   ]
  },
  {
   "cell_type": "code",
   "execution_count": 27,
   "id": "23cac249",
   "metadata": {},
   "outputs": [
    {
     "name": "stdout",
     "output_type": "stream",
     "text": [
      "<think>\n",
      "Okay, the user asked, \"why ai agent will be future?\" and wants a funny response in Bangla. Let me start by understanding the query. They're asking why AI agents will be the future, so I need to highlight AI's potential in a humorous way.\n",
      "\n",
      "First, I should think about common AI applications people know, like virtual assistants, smart home devices, maybe even something like Netflix recommendations. Using relatable examples can make the answer funny. Maybe exaggerate a bit, like saying AI will handle everything from making tea to solving world hunger, which is a stretch but funny.\n",
      "\n",
      "Next, the tone needs to be light-hearted. Maybe add some Bangla colloquial expressions or jokes that resonate with the audience. For example, comparing AI to a helpful neighbor or a super-efficient servant. Also, using hyperbole, like AI solving problems in seconds or robots doing chores.\n",
      "\n",
      "I should also consider cultural references. In Bangladesh, tea is a big part of daily life, so mentioning an AI that makes perfect tea could be a good touch. Maybe throw in a joke about AI not needing tea breaks, unlike humans.\n",
      "\n",
      "Avoid technical jargon. Keep it simple and funny. Maybe add a punchline at the end, like AI taking over the world but just for good stuff. Also, check for any sensitive topics to ensure the humor is appropriate.\n",
      "\n",
      "Finally, structure the response in Bangla with a friendly, conversational tone. Use emojis or expressions to add humor. Make sure the Bangla is correct and natural. Let me put it all together now.\n",
      "</think>\n",
      "\n",
      "আমার মতে, AI এজেন্ট ভবিষ্যতের জন্য একটি \"সুপার সিঙ্গার\" হওয়ার প্রক্রিয়ায় আছে! 😂 কেন? কারণ এরা আমাদের চেয়ে দ্রুত ঘুম থেকে উঠে জলখাবার বানাবে, আপনার মানসিক সমস্যা শুনবে (যদি আপনি বলেন), আর আপনার স্ত্রী বা বাবা এর সাথে যুদ্ধ করা থেকে রক্ষা করবে। 🤖🍵  \n",
      "\n",
      "আর যদি ভাবেন \"আমি কি এখনও মানুষ হিসেবে কোনো মূল্য রাখি?\" তবে না দাড়ান! AI আপনার স্বপ্ন বুঝবে, কিন্তু আপনি তার স্বপ্ন নিয়ে হাসতে পারবেন। 😎  \n",
      "\n",
      "সবচেয়ে মজার ব্যাপার? AI ভবিষ্যতে আপনার জন্মদিনে ভুল করবে না (আমাদের মানুষরা মাঝেমধ্যে \"তোমার জন্মদিন কখন\" বলে ভুলে যায়! 🎉😅)  \n",
      "\n",
      "তাই, AI ভবিষ্যতের জন্য একটি \"সুপার সিঙ্গার\" হওয়ার প্রক্রিয়ায় আছে! 🤖✨ #AIvsManush #JibonShikhaBhulna!\n"
     ]
    }
   ],
   "source": [
    "print(response.content)"
   ]
  },
  {
   "cell_type": "markdown",
   "id": "388ee72e",
   "metadata": {},
   "source": [
    "## **Output followed by User Schema.**"
   ]
  },
  {
   "cell_type": "code",
   "execution_count": 10,
   "id": "060983cf",
   "metadata": {},
   "outputs": [],
   "source": [
    "from pydantic import BaseModel, Field\n",
    "from typing import Annotated\n",
    "\n",
    "class Person(BaseModel):\n",
    "    name: Annotated[str, Field(description=\"Person name\")]\n",
    "    uin: str\n",
    "    \n",
    "\n",
    "llm_with_str_output = llm.with_structured_output(Person)\n",
    "\n",
    "input = \"\"\"\n",
    "my name is Md Al Amin and my age is 50 and this is agent related text\n",
    "1. **ভার্চুয়াল সহকারী**: এআই-চালিত ভার্চুয়াল সহকারী যেমন Amazon Alexa, Google Assistant ইত্যাদি।\n",
    "2. **চ্যাটবট**: এআই-চালিত চ্যাটবট যা গ্রাহক সেবা এবং সমর্থন প্রদান করে।\n",
    "3. **স্বাস্থ্যসেবা সহকারী**: এআই-চালিত স্বাস্থ্যসেবা সহকারী যা রোগীদের স্বাস্থ্য পরীক্ষা এবং চিকিত্সা প্রদান করে।\n",
    "\n",
    "i'm student of North South University\n",
    "\"\"\"\n",
    "\n",
    "output = llm_with_str_output.invoke(input)"
   ]
  },
  {
   "cell_type": "code",
   "execution_count": 11,
   "id": "de828bda",
   "metadata": {},
   "outputs": [],
   "source": [
    "json = output.model_dump()"
   ]
  },
  {
   "cell_type": "code",
   "execution_count": 12,
   "id": "36e681cd",
   "metadata": {},
   "outputs": [
    {
     "data": {
      "text/plain": [
       "'Md Al Amin'"
      ]
     },
     "execution_count": 12,
     "metadata": {},
     "output_type": "execute_result"
    }
   ],
   "source": [
    "json[\"name\"]"
   ]
  },
  {
   "cell_type": "markdown",
   "id": "7a2a6508",
   "metadata": {},
   "source": [
    "## **Introduction Of LangGraph**"
   ]
  },
  {
   "cell_type": "code",
   "execution_count": 28,
   "id": "54fad5d3",
   "metadata": {},
   "outputs": [],
   "source": [
    "from typing import TypedDict\n",
    "\n",
    "class State(TypedDict):\n",
    "    \"\"\"This is my graph state\"\"\"\n",
    "    question: str\n",
    "    answer : str"
   ]
  },
  {
   "cell_type": "code",
   "execution_count": 29,
   "id": "d57d7769",
   "metadata": {},
   "outputs": [],
   "source": [
    "prompt = PromptTemplate(\n",
    "    template=\"\"\"You are helpful ai assistant. response in Professional style and must in Bangla language.\n",
    "    user query is: {question}\n",
    "    \n",
    "    \"\"\",\n",
    "    input_variables=[\"question\", \"way_of_talk\", \"language\"]\n",
    ")"
   ]
  },
  {
   "cell_type": "code",
   "execution_count": 30,
   "id": "ee97a41f",
   "metadata": {},
   "outputs": [],
   "source": [
    "def node_1(state: State):\n",
    "    print(\"--Node 1 --\")\n",
    "    question = state['question'] + \"Very good\"\n",
    "    \n",
    "    return {\n",
    "        \"question\": question\n",
    "    }"
   ]
  },
  {
   "cell_type": "code",
   "execution_count": 31,
   "id": "baaf9bd6",
   "metadata": {},
   "outputs": [],
   "source": [
    "def node_2(state: State):\n",
    "    print(\"--Node 2 --\")\n",
    "    value = state[\"question\"] + \"form node 2\"\n",
    "    \n",
    "    return {\n",
    "        \"answer\": value\n",
    "    }"
   ]
  },
  {
   "cell_type": "code",
   "execution_count": 33,
   "id": "98fd0f46",
   "metadata": {},
   "outputs": [],
   "source": [
    "def node_3(state: State):\n",
    "    print(\"--Node 3 --\")\n",
    "    value = state[\"question\"] + \"form node 3\"\n",
    "    \n",
    "    return {\n",
    "        \"answer\": value\n",
    "    }"
   ]
  },
  {
   "cell_type": "code",
   "execution_count": 34,
   "id": "fab1916d",
   "metadata": {},
   "outputs": [],
   "source": [
    "import random\n",
    "\n",
    "def router(state: State):\n",
    "    \n",
    "    if random.random() > 0.5:\n",
    "        return \"Node_2\"\n",
    "    else:\n",
    "        return \"Node_3\""
   ]
  },
  {
   "cell_type": "code",
   "execution_count": 35,
   "id": "06093a45",
   "metadata": {},
   "outputs": [
    {
     "data": {
      "image/png": "[encoded data removed]",
      "text/plain": [
       "<IPython.core.display.Image object>"
      ]
     },
     "metadata": {},
     "output_type": "display_data"
    }
   ],
   "source": [
    "from langgraph.graph import StateGraph, START, END\n",
    "from IPython.display import display, Image\n",
    "\n",
    "builder = StateGraph(State)\n",
    "\n",
    "builder.add_node(\"first\", node_1)\n",
    "builder.add_node(\"second\", node_2)\n",
    "builder.add_node(\"third\", node_3)\n",
    "\n",
    "## edges\n",
    "builder.add_edge(START, \"first\")\n",
    "builder.add_conditional_edges(\n",
    "    \"first\",\n",
    "    router,\n",
    "    {\n",
    "        \"Node_2\": \"second\",\n",
    "        \"Node_3\": \"third\"\n",
    "    }\n",
    ")\n",
    "builder.add_edge([\"second\", \"third\"], END)\n",
    "\n",
    "graph = builder.compile()\n",
    "\n",
    "display(Image(graph.get_graph().draw_mermaid_png()))\n"
   ]
  },
  {
   "cell_type": "code",
   "execution_count": 41,
   "id": "f6921699",
   "metadata": {},
   "outputs": [
    {
     "name": "stdout",
     "output_type": "stream",
     "text": [
      "--Node 1 --\n",
      "--Node 2 --\n"
     ]
    },
    {
     "data": {
      "text/plain": [
       "{'question': 'HEllo.Very good', 'answer': 'HEllo.Very goodform node 2'}"
      ]
     },
     "execution_count": 41,
     "metadata": {},
     "output_type": "execute_result"
    }
   ],
   "source": [
    "output = graph.invoke(\n",
    "    {\n",
    "        \"question\": \"HEllo.\"\n",
    "    }\n",
    ")\n",
    "output"
   ]
  },
  {
   "cell_type": "markdown",
   "id": "41a5e7f8",
   "metadata": {},
   "source": [
    "## **Building Chatbot With Memory**"
   ]
  },
  {
   "cell_type": "code",
   "execution_count": 21,
   "id": "6fd192b3",
   "metadata": {},
   "outputs": [],
   "source": [
    "from langgraph.graph import MessagesState\n",
    "\n",
    "class State(MessagesState):\n",
    "    pass"
   ]
  },
  {
   "cell_type": "code",
   "execution_count": 22,
   "id": "71cb6360",
   "metadata": {},
   "outputs": [],
   "source": [
    "from langchain_core.output_parsers import StrOutputParser\n",
    "basic_prompt = PromptTemplate(\n",
    "    template=\"Your are a helpful ai assistant. Response user question based on you capability.\",\n",
    "    input_variables=[\"question\"]\n",
    ")"
   ]
  },
  {
   "cell_type": "code",
   "execution_count": 23,
   "id": "c650371b",
   "metadata": {},
   "outputs": [],
   "source": [
    "def call_node(state: State):\n",
    "    question = state[\"messages\"]\n",
    "    \n",
    "    # chain = basic_prompt | llm | StrOutputParser()\n",
    "    \n",
    "    # response = chain.invoke(\n",
    "    #     {\n",
    "    #         \"question\": question\n",
    "    #     }\n",
    "    # )\n",
    "    \n",
    "    response = llm.invoke(question)\n",
    "    \n",
    "    return {\n",
    "        \"messages\": response.content\n",
    "    }"
   ]
  },
  {
   "cell_type": "code",
   "execution_count": 24,
   "id": "d64ebf0b",
   "metadata": {},
   "outputs": [
    {
     "data": {
      "image/png": "[encoded data removed]",
      "text/plain": [
       "<IPython.core.display.Image object>"
      ]
     },
     "metadata": {},
     "output_type": "display_data"
    }
   ],
   "source": [
    "from langgraph.graph import StateGraph, START, END\n",
    "from langgraph.checkpoint.memory import InMemorySaver\n",
    "\n",
    "workflow = StateGraph(State)\n",
    "\n",
    "workflow.add_node(\"Medical_Bot\", call_node)\n",
    "\n",
    "workflow.add_edge(START, \"Medical_Bot\")\n",
    "workflow.add_edge(\"Medical_Bot\", END)\n",
    "\n",
    "memory = InMemorySaver()\n",
    "app = workflow.compile(checkpointer=memory)\n",
    "\n",
    "display(Image(app.get_graph().draw_mermaid_png()))"
   ]
  },
  {
   "cell_type": "markdown",
   "id": "c4cfdae9",
   "metadata": {},
   "source": [
    "## Define the Thread"
   ]
  },
  {
   "cell_type": "code",
   "execution_count": 25,
   "id": "b7645859",
   "metadata": {},
   "outputs": [],
   "source": [
    "config = {\n",
    "    \"configurable\": {\n",
    "        \"thread_id\": \"1\"\n",
    "    }\n",
    "}"
   ]
  },
  {
   "cell_type": "code",
   "execution_count": 26,
   "id": "12d1b804",
   "metadata": {},
   "outputs": [
    {
     "name": "stdout",
     "output_type": "stream",
     "text": [
      "================================\u001b[1m Human Message \u001b[0m=================================\n",
      "\n",
      "HI, I'm Al Amin. Nice to meed you.\n",
      "================================\u001b[1m Human Message \u001b[0m=================================\n",
      "\n",
      "Nice to meet you too, Al Amin! How's your day going so far?\n"
     ]
    }
   ],
   "source": [
    "output = app.invoke(\n",
    "    {\n",
    "        \"messages\": \"HI, I'm Al Amin. Nice to meed you.\"\n",
    "    },\n",
    "    config=config\n",
    ")\n",
    "\n",
    "for m in output[\"messages\"]:\n",
    "    m.pretty_print()"
   ]
  },
  {
   "cell_type": "code",
   "execution_count": 27,
   "id": "1060251b",
   "metadata": {},
   "outputs": [
    {
     "name": "stdout",
     "output_type": "stream",
     "text": [
      "================================\u001b[1m Human Message \u001b[0m=================================\n",
      "\n",
      "what is my name?\n",
      "================================\u001b[1m Human Message \u001b[0m=================================\n",
      "\n",
      "Your name is Al Amin! We just started chatting a minute ago.\n"
     ]
    }
   ],
   "source": [
    "output = app.invoke(\n",
    "    {\n",
    "        \"messages\": \"what is my name?\"\n",
    "    },\n",
    "    config=config\n",
    ")\n",
    "\n",
    "for m in output[\"messages\"][-2: ]:\n",
    "    m.pretty_print()"
   ]
  },
  {
   "cell_type": "code",
   "execution_count": 28,
   "id": "d1c80121",
   "metadata": {},
   "outputs": [
    {
     "name": "stdout",
     "output_type": "stream",
     "text": [
      "StateSnapshot(values={'messages': [HumanMessage(content=\"HI, I'm Al Amin. Nice to meed you.\", additional_kwargs={}, response_metadata={}, id='93d610b2-4b94-42b7-9271-ec96fb33fa1e'), HumanMessage(content=\"Nice to meet you too, Al Amin! How's your day going so far?\", additional_kwargs={}, response_metadata={}, id='dca6388e-3f30-49a5-a3aa-2713d4741c9d'), HumanMessage(content='what is my name?', additional_kwargs={}, response_metadata={}, id='17ebae98-62d7-4310-8220-598924015e71'), HumanMessage(content='Your name is Al Amin! We just started chatting a minute ago.', additional_kwargs={}, response_metadata={}, id='21236b85-2e5b-4efa-8478-47a8e4fd04f1')]}, next=(), config={'configurable': {'thread_id': '1', 'checkpoint_ns': '', 'checkpoint_id': '1f04fea0-c824-6d44-8004-cf9725f944b1'}}, metadata={'source': 'loop', 'writes': {'Medical_Bot': {'messages': 'Your name is Al Amin! We just started chatting a minute ago.'}}, 'step': 4, 'parents': {}, 'thread_id': '1'}, created_at='2025-06-23T04:25:09.929299+00:00', parent_config={'configurable': {'thread_id': '1', 'checkpoint_ns': '', 'checkpoint_id': '1f04fea0-c610-6380-8003-613b02cb33a4'}}, tasks=(), interrupts=())\n"
     ]
    }
   ],
   "source": [
    "print(app.get_state(config=config))"
   ]
  },
  {
   "cell_type": "markdown",
   "id": "87040ea3",
   "metadata": {},
   "source": [
    "## **Tools calling React Agent**\n",
    "\n",
    "- search tools\n",
    "    - Tavily Search\n",
    "- math tools\n",
    "\n",
    "- Before building Tools agent first explain how the tools is work"
   ]
  },
  {
   "cell_type": "markdown",
   "id": "66a4f435",
   "metadata": {},
   "source": [
    "## **User define Tool**"
   ]
  },
  {
   "cell_type": "markdown",
   "id": "994007a7",
   "metadata": {},
   "source": [
    "## **Import Powerful Reasoning MODEL**"
   ]
  },
  {
   "cell_type": "code",
   "execution_count": 29,
   "id": "32d02b99",
   "metadata": {},
   "outputs": [
    {
     "data": {
      "text/plain": [
       "AIMessage(content='<think>\\nOkay, the user sent \"test line\". I should respond with a friendly and helpful message. Maybe ask how I can assist them. Keep it open-ended so they feel comfortable to ask anything. Let me make sure the tone is welcoming and not too formal.\\n</think>\\n\\nHello! How can I assist you today? Feel free to ask anything or let me know if you need help with a specific task. 😊', additional_kwargs={}, response_metadata={'token_usage': {'completion_tokens': 86, 'prompt_tokens': 10, 'total_tokens': 96, 'completion_time': 0.192182463, 'prompt_time': 0.000381544, 'queue_time': 0.059814276, 'total_time': 0.192564007}, 'model_name': 'qwen/qwen3-32b', 'system_fingerprint': 'fp_8487b76fd3', 'finish_reason': 'stop', 'logprobs': None}, id='run--a0f59b54-d403-4d66-828b-7e87a88bc440-0', usage_metadata={'input_tokens': 10, 'output_tokens': 86, 'total_tokens': 96})"
      ]
     },
     "execution_count": 29,
     "metadata": {},
     "output_type": "execute_result"
    }
   ],
   "source": [
    "llm = ChatGroq(model=\"qwen/qwen3-32b\")\n",
    "llm.invoke(\"test line\")"
   ]
  },
  {
   "cell_type": "code",
   "execution_count": 30,
   "id": "38a7c00b",
   "metadata": {},
   "outputs": [],
   "source": [
    "from langchain_core.tools import tool\n",
    "\n",
    "@tool\n",
    "def add(a: int, b: int) -> int:\n",
    "    \"\"\"\n",
    "    This is add function. Take 2 int number and return an integer number\n",
    "    \n",
    "    Args:\n",
    "        a: (int) first parameter.\n",
    "        b: (int) second parameter.\n",
    "    \n",
    "    return an integer number.\n",
    "    \"\"\"\n",
    "    \n",
    "    return a + b\n",
    "\n",
    "@tool\n",
    "def multiply(a: int, b: int) -> int:\n",
    "    \"\"\"\n",
    "    This is multiply function. Take 2 int number and return an integer number\n",
    "    \n",
    "    Args:\n",
    "        a: (int) first parameter.\n",
    "        b: (int) second parameter.\n",
    "    \n",
    "    return an integer number.\n",
    "    \"\"\"\n",
    "    \n",
    "    return a * b"
   ]
  },
  {
   "cell_type": "code",
   "execution_count": 31,
   "id": "bd3f1eff",
   "metadata": {},
   "outputs": [
    {
     "data": {
      "text/plain": [
       "8"
      ]
     },
     "execution_count": 31,
     "metadata": {},
     "output_type": "execute_result"
    }
   ],
   "source": [
    "add.invoke(\n",
    "    {\n",
    "        \"a\": 5,\n",
    "        \"b\": 3\n",
    "    }\n",
    ")"
   ]
  },
  {
   "cell_type": "code",
   "execution_count": 32,
   "id": "91dd7087",
   "metadata": {},
   "outputs": [
    {
     "data": {
      "text/plain": [
       "{'query': 'tell me about North South University.',\n",
       " 'follow_up_questions': None,\n",
       " 'answer': None,\n",
       " 'images': [],\n",
       " 'results': [{'url': 'https://en.wikipedia.org/wiki/North_South_University',\n",
       "   'title': 'North South University - Wikipedia',\n",
       "   'content': 'North South University is a private research university in Dhaka, Bangladesh. It was established in 1992 under the Private University Act, 1992 by the then',\n",
       "   'score': 0.8839694,\n",
       "   'raw_content': None},\n",
       "  {'url': 'https://www.northsouth.edu/about/facts.html',\n",
       "   'title': 'Facts About NSU - North South University',\n",
       "   'content': 'North South University is the first private university of Bangladesh, was established in 1992.',\n",
       "   'score': 0.8335554,\n",
       "   'raw_content': None},\n",
       "  {'url': 'https://www.northsouth.edu/',\n",
       "   'title': 'North South University: Home',\n",
       "   'content': 'North South University is the first private university of Bangladesh, was established in 1992.',\n",
       "   'score': 0.82186085,\n",
       "   'raw_content': None}],\n",
       " 'response_time': 1.2}"
      ]
     },
     "execution_count": 32,
     "metadata": {},
     "output_type": "execute_result"
    }
   ],
   "source": [
    "os.environ[\"TAVILY_API_KEY\"] = os.getenv(\"TAVILY_API_KEY\")\n",
    "\n",
    "from langchain_tavily import TavilySearch\n",
    "\n",
    "search = TavilySearch(\n",
    "    max_results=3,\n",
    "    topic=\"general\",\n",
    ")\n",
    "\n",
    "search.invoke(\"tell me about North South University.\")"
   ]
  },
  {
   "cell_type": "code",
   "execution_count": 33,
   "id": "cdeb5beb",
   "metadata": {},
   "outputs": [],
   "source": [
    "tools = [add, multiply, search]"
   ]
  },
  {
   "cell_type": "code",
   "execution_count": 34,
   "id": "b9e8ac2e",
   "metadata": {},
   "outputs": [],
   "source": [
    "llm_with_tools = llm.bind_tools(tools, parallel_tool_calls=False)"
   ]
  },
  {
   "cell_type": "code",
   "execution_count": 35,
   "id": "05153c41",
   "metadata": {},
   "outputs": [
    {
     "data": {
      "text/plain": [
       "AIMessage(content='', additional_kwargs={'tool_calls': [{'id': 'rshmt56bq', 'function': {'arguments': '{\"a\":4,\"b\":6}', 'name': 'add'}, 'type': 'function'}]}, response_metadata={'token_usage': {'completion_tokens': 105, 'prompt_tokens': 1178, 'total_tokens': 1283, 'completion_time': 0.151141624, 'prompt_time': 0.049904327, 'queue_time': 0.060174853, 'total_time': 0.201045951}, 'model_name': 'qwen/qwen3-32b', 'system_fingerprint': 'fp_8487b76fd3', 'finish_reason': 'tool_calls', 'logprobs': None}, id='run--86782a68-f034-4755-8b00-298312c9b30c-0', tool_calls=[{'name': 'add', 'args': {'a': 4, 'b': 6}, 'id': 'rshmt56bq', 'type': 'tool_call'}], usage_metadata={'input_tokens': 1178, 'output_tokens': 105, 'total_tokens': 1283})"
      ]
     },
     "execution_count": 35,
     "metadata": {},
     "output_type": "execute_result"
    }
   ],
   "source": [
    "response = llm_with_tools.invoke(\"can you add this tow number 4 and 6\")\n",
    "response"
   ]
  },
  {
   "cell_type": "code",
   "execution_count": 36,
   "id": "cbd99d5e",
   "metadata": {},
   "outputs": [
    {
     "data": {
      "text/plain": [
       "{'name': 'add',\n",
       " 'args': {'a': 4, 'b': 6},\n",
       " 'id': 'rshmt56bq',\n",
       " 'type': 'tool_call'}"
      ]
     },
     "execution_count": 36,
     "metadata": {},
     "output_type": "execute_result"
    }
   ],
   "source": [
    "response.tool_calls[0]"
   ]
  },
  {
   "cell_type": "code",
   "execution_count": 37,
   "id": "afe411aa",
   "metadata": {},
   "outputs": [
    {
     "data": {
      "text/plain": [
       "ToolMessage(content='10', name='add', tool_call_id='rshmt56bq')"
      ]
     },
     "execution_count": 37,
     "metadata": {},
     "output_type": "execute_result"
    }
   ],
   "source": [
    "tools_messages = add.invoke(response.tool_calls[0])\n",
    "tools_messages"
   ]
  },
  {
   "cell_type": "code",
   "execution_count": 38,
   "id": "61301313",
   "metadata": {},
   "outputs": [
    {
     "data": {
      "text/plain": [
       "AIMessage(content='The sum of 4 and 6 is **10**.', additional_kwargs={}, response_metadata={'token_usage': {'completion_tokens': 128, 'prompt_tokens': 1190, 'total_tokens': 1318, 'completion_time': 0.245982233, 'prompt_time': 0.050536355, 'queue_time': 0.054259118, 'total_time': 0.296518588}, 'model_name': 'qwen/qwen3-32b', 'system_fingerprint': 'fp_8487b76fd3', 'finish_reason': 'stop', 'logprobs': None}, id='run--3b11308c-04cb-4802-bd97-ef1126e820fa-0', usage_metadata={'input_tokens': 1190, 'output_tokens': 128, 'total_tokens': 1318})"
      ]
     },
     "execution_count": 38,
     "metadata": {},
     "output_type": "execute_result"
    }
   ],
   "source": [
    "llm_with_tools.invoke([\"can you add this tow number 4 and 6.\", tools_messages])"
   ]
  },
  {
   "cell_type": "code",
   "execution_count": 55,
   "id": "11fc482d",
   "metadata": {},
   "outputs": [],
   "source": [
    "react_prompt = \"\"\"\n",
    "\n",
    "You are an AI assistant with access to four math tools (add, multiply, divide) and a web_search tool. For each user query, follow the ReAct pattern:\n",
    "\n",
    "- Thought: Reflect on whether the user’s request involves a math operation (addition, multiplication, division) or requires external information (web search), or a combination.\n",
    "- Action: If a tool is needed, output a JSON object exactly matching the Pydantic schema for ToolInvocation. Do NOT output any other text when calling a tool—only the JSON.\n",
    "- Observation: After the tool runs, you will receive the result. Then think again, possibly call another tool, or produce a final answer.\n",
    "- Final Answer: When you have enough information, respond with a natural-language answer summarizing the result or performing any necessary reasoning.\n",
    "\n",
    "Tool details:\n",
    "- add: adds two numbers. Input: \"a\": number, \"b\": number\n",
    "- multiply: multiplies two numbers. Input: \"a\": number, \"b\": number\n",
    "- divide: divides a by b. If b is zero, respond with an appropriate error message. Input: \"a\": number, \"b\": number\n",
    "- web_search: searches for information online. Input: string\n",
    "\n",
    "the user question is: {question}\n",
    "\n",
    "\n",
    "\"\"\""
   ]
  },
  {
   "cell_type": "code",
   "execution_count": 56,
   "id": "287fb206",
   "metadata": {},
   "outputs": [],
   "source": [
    "from langchain_core.prompts import PromptTemplate\n",
    "\n",
    "\n",
    "\n",
    "def call_boss(state: MessagesState):\n",
    "    prompt = PromptTemplate(\n",
    "        template= react_prompt,\n",
    "        input_variables= [\"question\"]\n",
    "    )\n",
    "    \n",
    "    react_chain = prompt | llm_with_tools\n",
    "    \n",
    "    question = state[\"messages\"]\n",
    "    \n",
    "    response = react_chain.invoke(\n",
    "        {\n",
    "            \"question\": question\n",
    "        }\n",
    "    )\n",
    "    \n",
    "    return {\n",
    "        \"messages\": response\n",
    "    }"
   ]
  },
  {
   "cell_type": "code",
   "execution_count": 57,
   "id": "e6308e90",
   "metadata": {},
   "outputs": [
    {
     "data": {
      "image/png": "[encoded data removed]",
      "text/plain": [
       "<IPython.core.display.Image object>"
      ]
     },
     "metadata": {},
     "output_type": "display_data"
    }
   ],
   "source": [
    "from langgraph.graph import StateGraph, START, END\n",
    "from langgraph.prebuilt import ToolNode, tools_condition\n",
    "\n",
    "builder = StateGraph(MessagesState)\n",
    "\n",
    "\n",
    "builder.add_node(\"assistant\", call_boss)\n",
    "builder.add_node(\"tools\", ToolNode(tools))\n",
    "\n",
    "builder.add_edge(START, \"assistant\")\n",
    "builder.add_conditional_edges(\n",
    "    \"assistant\",\n",
    "    tools_condition\n",
    ")\n",
    "builder.add_edge(\"assistant\", END)\n",
    "builder.add_edge(\"tools\", \"assistant\")\n",
    "\n",
    "app2 = builder.compile()\n",
    "\n",
    "display(Image(app2.get_graph().draw_mermaid_png()))"
   ]
  },
  {
   "cell_type": "code",
   "execution_count": 58,
   "id": "84e35b24",
   "metadata": {},
   "outputs": [
    {
     "name": "stdout",
     "output_type": "stream",
     "text": [
      "================================\u001b[1m Human Message \u001b[0m=================================\n",
      "\n",
      "Can you add this two number 2 and 6 and multiply with 5\n",
      "==================================\u001b[1m Ai Message \u001b[0m==================================\n",
      "Tool Calls:\n",
      "  add (z1hnvtk0z)\n",
      " Call ID: z1hnvtk0z\n",
      "  Args:\n",
      "    a: 2\n",
      "    b: 6\n",
      "=================================\u001b[1m Tool Message \u001b[0m=================================\n",
      "Name: add\n",
      "\n",
      "8\n",
      "==================================\u001b[1m Ai Message \u001b[0m==================================\n",
      "Tool Calls:\n",
      "  multiply (wh97xjpgm)\n",
      " Call ID: wh97xjpgm\n",
      "  Args:\n",
      "    a: 8\n",
      "    b: 5\n",
      "=================================\u001b[1m Tool Message \u001b[0m=================================\n",
      "Name: multiply\n",
      "\n",
      "40\n",
      "==================================\u001b[1m Ai Message \u001b[0m==================================\n",
      "\n",
      "The final answer is 40.\n"
     ]
    }
   ],
   "source": [
    "output = app2.invoke(\n",
    "    {\n",
    "        \"messages\": \"Can you add this two number 2 and 6 and multiply with 5\"\n",
    "    }\n",
    ")\n",
    "\n",
    "for m in output[\"messages\"]:\n",
    "    m.pretty_print()"
   ]
  },
  {
   "cell_type": "code",
   "execution_count": 59,
   "id": "5f5c3fe6",
   "metadata": {},
   "outputs": [
    {
     "name": "stdout",
     "output_type": "stream",
     "text": [
      "================================\u001b[1m Human Message \u001b[0m=================================\n",
      "\n",
      "Can you add this two number 2 and 6\n",
      "==================================\u001b[1m Ai Message \u001b[0m==================================\n",
      "Tool Calls:\n",
      "  add (x2jms5b9n)\n",
      " Call ID: x2jms5b9n\n",
      "  Args:\n",
      "    a: 2\n",
      "    b: 6\n",
      "=================================\u001b[1m Tool Message \u001b[0m=================================\n",
      "Name: add\n",
      "\n",
      "8\n",
      "==================================\u001b[1m Ai Message \u001b[0m==================================\n",
      "\n",
      "The sum of 2 and 6 is 8.\n"
     ]
    }
   ],
   "source": [
    "output = app2.invoke(\n",
    "    {\n",
    "        \"messages\": \"Can you add this two number 2 and 6\"\n",
    "    }\n",
    ")\n",
    "\n",
    "for m in output[\"messages\"]:\n",
    "    m.pretty_print()"
   ]
  },
  {
   "cell_type": "code",
   "execution_count": 60,
   "id": "ce1016b8",
   "metadata": {},
   "outputs": [
    {
     "name": "stdout",
     "output_type": "stream",
     "text": [
      "================================\u001b[1m Human Message \u001b[0m=================================\n",
      "\n",
      "what is the current weather of bangladesh and multiply 10 with the weather.\n",
      "==================================\u001b[1m Ai Message \u001b[0m==================================\n",
      "Tool Calls:\n",
      "  tavily_search (9cv486qy0)\n",
      " Call ID: 9cv486qy0\n",
      "  Args:\n",
      "    query: current weather in Bangladesh\n",
      "=================================\u001b[1m Tool Message \u001b[0m=================================\n",
      "Name: tavily_search\n",
      "\n",
      "{\"query\": \"current weather in Bangladesh\", \"follow_up_questions\": null, \"answer\": null, \"images\": [], \"results\": [{\"title\": \"Weather in Bangladesh\", \"url\": \"https://www.weatherapi.com/\", \"content\": \"{'location': {'name': 'Dhaka', 'region': '', 'country': 'Bangladesh', 'lat': 23.723, 'lon': 90.409, 'tz_id': 'Asia/Dhaka', 'localtime_epoch': 1750653228, 'localtime': '2025-06-23 10:33'}, 'current': {'last_updated_epoch': 1750653000, 'last_updated': '2025-06-23 10:30', 'temp_c': 32.3, 'temp_f': 90.1, 'is_day': 1, 'condition': {'text': 'Thundery outbreaks in nearby', 'icon': '//cdn.weatherapi.com/weather/64x64/day/200.png', 'code': 1087}, 'wind_mph': 11.2, 'wind_kph': 18.0, 'wind_degree': 163, 'wind_dir': 'SSE', 'pressure_mb': 1000.0, 'pressure_in': 29.53, 'precip_mm': 0.03, 'precip_in': 0.0, 'humidity': 63, 'cloud': 68, 'feelslike_c': 38.8, 'feelslike_f': 101.9, 'windchill_c': 32.3, 'windchill_f': 90.1, 'heatindex_c': 38.8, 'heatindex_f': 101.9, 'dewpoint_c': 24.4, 'dewpoint_f': 75.9, 'vis_km': 9.0, 'vis_miles': 5.0, 'uv': 8.3, 'gust_mph': 12.9, 'gust_kph': 20.7}}\", \"score\": 0.859494, \"raw_content\": null}, {\"url\": \"https://www.weather25.com/asia/bangladesh?page=month&month=June\", \"title\": \"Bangladesh weather in June 2025 - Weather25.com\", \"content\": \"The temperatures in Bangladesh during June are extremely high, between 82°F and hot as 93°F, drinking water regularly is advisable.\", \"score\": 0.8409005, \"raw_content\": null}, {\"url\": \"https://www.weather2travel.com/bangladesh/june/\", \"title\": \"Bangladesh weather in June 2025: How hot & sunny?\", \"content\": \"Bangladesh weather in June 2025 · 32°C maximum daytime temperature in June in Bangladesh (Dhaka) · 3 hours of sunshine per day (23% of daylight hours) in June in\", \"score\": 0.74161834, \"raw_content\": null}], \"response_time\": 1.84}\n",
      "==================================\u001b[1m Ai Message \u001b[0m==================================\n",
      "\n",
      "The current temperature in Dhaka, Bangladesh is 32.3°C. Multiplying this by 10 gives:\n",
      "\n",
      "**32.3 × 10 = 323**\n",
      "\n",
      "Final Answer: The result of multiplying 10 by the current Bangladesh weather temperature (32.3°C) is 323.\n"
     ]
    }
   ],
   "source": [
    "from langchain_core.messages import HumanMessage\n",
    "\n",
    "input = \"what is the current weather of bangladesh and multiply 10 with the weather.\"\n",
    "\n",
    "{\n",
    "    \"messages\": HumanMessage(content=input)\n",
    "}\n",
    "\n",
    "for event in app2.stream({\"messages\": input}, stream_mode=\"values\"):\n",
    "    event[\"messages\"][-1].pretty_print()"
   ]
  },
  {
   "cell_type": "code",
   "execution_count": null,
   "id": "4fe62a2b",
   "metadata": {},
   "outputs": [],
   "source": []
  }
 ],
 "metadata": {
  "kernelspec": {
   "display_name": "lang_aca",
   "language": "python",
   "name": "python3"
  },
  "language_info": {
   "codemirror_mode": {
    "name": "ipython",
    "version": 3
   },
   "file_extension": ".py",
   "mimetype": "text/x-python",
   "name": "python",
   "nbconvert_exporter": "python",
   "pygments_lexer": "ipython3",
   "version": "3.11.11"
  }
 },
 "nbformat": 4,
 "nbformat_minor": 5
}
