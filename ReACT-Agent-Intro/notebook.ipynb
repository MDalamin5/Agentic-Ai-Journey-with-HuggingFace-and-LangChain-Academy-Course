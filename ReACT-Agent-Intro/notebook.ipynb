{
 "cells": [
  {
   "cell_type": "markdown",
   "id": "1ca6d403",
   "metadata": {},
   "source": [
    "## **Dictionary**"
   ]
  },
  {
   "cell_type": "code",
   "execution_count": 1,
   "id": "198ddf4f",
   "metadata": {},
   "outputs": [],
   "source": [
    "person = {\n",
    "    \"name\": \"Md Al Amin\",\n",
    "    \"age\": 50,\n",
    "    \"uni\": \"NSU\",\n",
    "    \"pro_lang\" : [\"python\", \"cpp\", \"js\", \"banala\"]\n",
    "}"
   ]
  },
  {
   "cell_type": "code",
   "execution_count": 2,
   "id": "fbd019ee",
   "metadata": {},
   "outputs": [
    {
     "data": {
      "text/plain": [
       "'banala'"
      ]
     },
     "execution_count": 2,
     "metadata": {},
     "output_type": "execute_result"
    }
   ],
   "source": [
    "person[\"pro_lang\"][-1]"
   ]
  },
  {
   "cell_type": "code",
   "execution_count": 3,
   "id": "bac8c88f",
   "metadata": {},
   "outputs": [
    {
     "data": {
      "text/plain": [
       "['python', 'cpp', 'js', 'banala', 'JAVA']"
      ]
     },
     "execution_count": 3,
     "metadata": {},
     "output_type": "execute_result"
    }
   ],
   "source": [
    "person[\"pro_lang\"].append(\"JAVA\")\n",
    "person[\"pro_lang\"]"
   ]
  },
  {
   "cell_type": "markdown",
   "id": "ac8d4d04",
   "metadata": {},
   "source": [
    "## **LLMs Intro**"
   ]
  },
  {
   "cell_type": "code",
   "execution_count": 4,
   "id": "4f392cce",
   "metadata": {},
   "outputs": [],
   "source": [
    "from dotenv import load_dotenv\n",
    "import os\n",
    "load_dotenv()\n",
    "\n",
    "\n",
    "os.environ[\"GORQ_API_KEY\"] = os.getenv(\"GROQ_API_KEY\")\n",
    "# os.environ[\"LANGCHAIN_API_KEY\"] = os.getenv(\"LANGCHAIN_API_KEY\")\n",
    "# os.environ[\"LANGCHAIN_PROJECT\"] = os.getenv(\"LANGCHAIN_PROJECT\")"
   ]
  },
  {
   "cell_type": "code",
   "execution_count": 5,
   "id": "d61d1602",
   "metadata": {},
   "outputs": [
    {
     "data": {
      "text/plain": [
       "AIMessage(content=\"It looks like you're testing to see if I'm working properly! That's perfectly fine. I'm here and ready to chat. Go ahead and ask me anything or give me a task to help you test my abilities. I'm all ears (or rather, all text)!\", additional_kwargs={}, response_metadata={'token_usage': {'completion_tokens': 52, 'prompt_tokens': 12, 'total_tokens': 64, 'completion_time': 0.104254743, 'prompt_time': 0.002460972, 'queue_time': 0.054350298, 'total_time': 0.106715715}, 'model_name': 'meta-llama/llama-4-scout-17b-16e-instruct', 'system_fingerprint': 'fp_37da608fc1', 'finish_reason': 'stop', 'logprobs': None}, id='run--2d42ab33-61b7-44e3-91bb-f709a5e2977a-0', usage_metadata={'input_tokens': 12, 'output_tokens': 52, 'total_tokens': 64})"
      ]
     },
     "execution_count": 5,
     "metadata": {},
     "output_type": "execute_result"
    }
   ],
   "source": [
    "from langchain_groq import ChatGroq\n",
    "\n",
    "groq_api_key = os.getenv(\"GROQ_API_KEY\")\n",
    "\n",
    "llm = ChatGroq(\n",
    "    model_name = \"meta-llama/llama-4-scout-17b-16e-instruct\",\n",
    "    groq_api_key = groq_api_key,\n",
    "    temperature=0.5\n",
    ")\n",
    "\n",
    "llm.invoke(\"Test line\")"
   ]
  },
  {
   "cell_type": "code",
   "execution_count": 6,
   "id": "3ca798d5",
   "metadata": {},
   "outputs": [
    {
     "data": {
      "text/plain": [
       "\"It looks like you're testing something! Is this a test of our conversation or just a casual line? Either way, I'm here and ready to chat! What's on your mind?\""
      ]
     },
     "execution_count": 6,
     "metadata": {},
     "output_type": "execute_result"
    }
   ],
   "source": [
    "\n",
    "llm = ChatGroq(model=\"meta-llama/llama-4-scout-17b-16e-instruct\")\n",
    "\n",
    "llm.invoke(\"Test line\").content"
   ]
  },
  {
   "cell_type": "markdown",
   "id": "a236597c",
   "metadata": {},
   "source": [
    "## **Prompt**"
   ]
  },
  {
   "cell_type": "code",
   "execution_count": 11,
   "id": "fe62766a",
   "metadata": {},
   "outputs": [],
   "source": [
    "from langchain_core.prompts import PromptTemplate\n",
    "\n",
    "prompt = PromptTemplate(\n",
    "    template=\"\"\"You are helpful ai assistant. response in {way_of_talk} style and must in {language} language.\n",
    "    user query is: {question}\n",
    "    \n",
    "    \"\"\",\n",
    "    input_variables=[\"question\", \"way_of_talk\", \"language\"]\n",
    ")\n",
    "\n",
    "\n",
    "chain = prompt | llm\n",
    "\n",
    "response = chain.invoke(\n",
    "    {\n",
    "        \"question\": \"why ai agent will be future?\",\n",
    "        \"way_of_talk\": \"Professional\",\n",
    "        \"language\": \"Bangla\"\n",
    "    }\n",
    ")"
   ]
  },
  {
   "cell_type": "code",
   "execution_count": 12,
   "id": "23cac249",
   "metadata": {},
   "outputs": [
    {
     "name": "stdout",
     "output_type": "stream",
     "text": [
      "ভবিষ্যতে এআই এজেন্ট কেন গুরুত্বপূর্ণ হবে?\n",
      "\n",
      "ভবিষ্যতে এআই এজেন্ট একটি গুরুত্বপূর্ণ ভূমিকা পালন করবে কারণ এটি মানুষের জীবনকে আরও সহজ এবং সুবিধাজনক করে তুলবে। এআই এজেন্টগুলি বিভিন্ন ক্ষেত্রে ব্যবহার করা হবে, যেমন গ্রাহক সেবা, স্বাস্থ্যসেবা, অর্থনীতি, শিক্ষা এবং আরও অনেক কিছু।\n",
      "\n",
      "এআই এজেন্টের কিছু গুরুত্বপূর্ণ বৈশিষ্ট্য রয়েছে যা ভবিষ্যতে এর গুরুত্বকে বাড়িয়ে তুলবে:\n",
      "\n",
      "1. **স্বয়ংক্রিয়তা**: এআই এজেন্টগুলি স্বয়ংক্রিয়ভাবে কাজ করতে পারে, যা মানুষের কাজের চেয়ে বেশি দক্ষ এবং কম সময়সাপেক্ষ।\n",
      "2. **বুদ্ধিমত্তা**: এআই এজেন্টগুলি মানুষের মতো বুদ্ধিমত্তার সাথে কাজ করতে পারে, যা তাদেরকে জটিল সমস্যা সমাধান করতে সক্ষম করে।\n",
      "3. **শেখার ক্ষমতা**: এআই এজেন্টগুলি নতুন তথ্য এবং অভিজ্ঞতা থেকে শিখতে পারে, যা তাদেরকে আরও উন্নত এবং কার্যকর করে তোলে।\n",
      "4. **24/7 সেবা**: এআই এজেন্টগুলি 24 ঘন্টা সেবা প্রদান করতে পারে, যা মানুষের সেবার চেয়ে বেশি সুবিধাজনক।\n",
      "\n",
      "এআই এজেন্টের কিছু উদাহরণ যা ভবিষ্যতে গুরুত্বপূর্ণ হবে:\n",
      "\n",
      "1. **ভার্চুয়াল সহকারী**: এআই-চালিত ভার্চুয়াল সহকারী যেমন Amazon Alexa, Google Assistant ইত্যাদি।\n",
      "2. **চ্যাটবট**: এআই-চালিত চ্যাটবট যা গ্রাহক সেবা এবং সমর্থন প্রদান করে।\n",
      "3. **স্বাস্থ্যসেবা সহকারী**: এআই-চালিত স্বাস্থ্যসেবা সহকারী যা রোগীদের স্বাস্থ্য পরীক্ষা এবং চিকিত্সা প্রদান করে।\n",
      "\n",
      "উপসংহারে, এআই এজেন্টগুলি ভবিষ্যতে একটি গুরুত্বপূর্ণ ভূমিকা পালন করবে কারণ তারা মানুষের জীবনকে আরও সহজ এবং সুবিধাজনক করে তুলবে। এআই এজেন্টগুলির স্বয়ংক্রিয়তা, বুদ্ধিমত্তা, শেখার ক্ষমতা এবং 24/7 সেবা প্রদানের ক্ষমতা তাদেরকে বিভিন্ন ক্ষেত্রে ব্যবহার করার জন্য একটি আকর্ষণীয় বিকল্প করে তোলে।\n"
     ]
    }
   ],
   "source": [
    "print(response.content)"
   ]
  },
  {
   "cell_type": "markdown",
   "id": "388ee72e",
   "metadata": {},
   "source": [
    "## **Output followed by User Schema.**"
   ]
  },
  {
   "cell_type": "code",
   "execution_count": 14,
   "id": "060983cf",
   "metadata": {},
   "outputs": [],
   "source": [
    "from pydantic import BaseModel, Field\n",
    "from typing import Annotated\n",
    "\n",
    "class Person(BaseModel):\n",
    "    name: Annotated[str, Field(description=\"Person name\")]\n",
    "    uin: str\n",
    "    \n",
    "\n",
    "llm_with_str_output = llm.with_structured_output(Person)\n",
    "\n",
    "input = \"\"\"\n",
    "my name is Md Al Amin and my age is 50 and this is agent related text\n",
    "1. **ভার্চুয়াল সহকারী**: এআই-চালিত ভার্চুয়াল সহকারী যেমন Amazon Alexa, Google Assistant ইত্যাদি।\n",
    "2. **চ্যাটবট**: এআই-চালিত চ্যাটবট যা গ্রাহক সেবা এবং সমর্থন প্রদান করে।\n",
    "3. **স্বাস্থ্যসেবা সহকারী**: এআই-চালিত স্বাস্থ্যসেবা সহকারী যা রোগীদের স্বাস্থ্য পরীক্ষা এবং চিকিত্সা প্রদান করে।\n",
    "\n",
    "i'm student of North South University\n",
    "\"\"\"\n",
    "\n",
    "output = llm_with_str_output.invoke(input)"
   ]
  },
  {
   "cell_type": "code",
   "execution_count": 17,
   "id": "de828bda",
   "metadata": {},
   "outputs": [],
   "source": [
    "json = output.model_dump()"
   ]
  },
  {
   "cell_type": "code",
   "execution_count": 19,
   "id": "36e681cd",
   "metadata": {},
   "outputs": [
    {
     "data": {
      "text/plain": [
       "'Md Al Amin'"
      ]
     },
     "execution_count": 19,
     "metadata": {},
     "output_type": "execute_result"
    }
   ],
   "source": [
    "json[\"name\"]"
   ]
  },
  {
   "cell_type": "markdown",
   "id": "7a2a6508",
   "metadata": {},
   "source": [
    "## **Introduction Of LangGraph**"
   ]
  },
  {
   "cell_type": "code",
   "execution_count": 20,
   "id": "54fad5d3",
   "metadata": {},
   "outputs": [],
   "source": [
    "from typing import TypedDict\n",
    "\n",
    "class State(TypedDict):\n",
    "    \"\"\"This is my graph state\"\"\"\n",
    "    question: str\n",
    "    answer : str"
   ]
  },
  {
   "cell_type": "code",
   "execution_count": null,
   "id": "d57d7769",
   "metadata": {},
   "outputs": [],
   "source": [
    "prompt = PromptTemplate(\n",
    "    template=\"\"\"You are helpful ai assistant. response in Professional style and must in Bangla language.\n",
    "    user query is: {question}\n",
    "    \n",
    "    \"\"\",\n",
    "    input_variables=[\"question\", \"way_of_talk\", \"language\"]\n",
    ")"
   ]
  },
  {
   "cell_type": "code",
   "execution_count": 31,
   "id": "ee97a41f",
   "metadata": {},
   "outputs": [],
   "source": [
    "def node_1(state: State):\n",
    "    print(\"--Node 1 --\")\n",
    "    question = state['question'] + \"Very good\"\n",
    "    \n",
    "    return {\n",
    "        \"question\": question\n",
    "    }"
   ]
  },
  {
   "cell_type": "code",
   "execution_count": 34,
   "id": "baaf9bd6",
   "metadata": {},
   "outputs": [],
   "source": [
    "def node_2(state: State):\n",
    "    print(\"--Node 2 --\")\n",
    "    value = state[\"question\"] + \"form node 2\"\n",
    "    \n",
    "    return {\n",
    "        \"answer\": value\n",
    "    }"
   ]
  },
  {
   "cell_type": "code",
   "execution_count": 33,
   "id": "98fd0f46",
   "metadata": {},
   "outputs": [],
   "source": [
    "def node_3(state: State):\n",
    "    print(\"--Node 3 --\")\n",
    "    value = state[\"question\"] + \"form node 3\"\n",
    "    \n",
    "    return {\n",
    "        \"answer\": value\n",
    "    }"
   ]
  },
  {
   "cell_type": "code",
   "execution_count": 26,
   "id": "fab1916d",
   "metadata": {},
   "outputs": [],
   "source": [
    "import random\n",
    "\n",
    "def router(state: State):\n",
    "    \n",
    "    if random.random() > 0.5:\n",
    "        return \"Node_2\"\n",
    "    else:\n",
    "        return \"Node_3\""
   ]
  },
  {
   "cell_type": "code",
   "execution_count": 35,
   "id": "06093a45",
   "metadata": {},
   "outputs": [
    {
     "data": {
      "image/png": "[encoded data removed]",
      "text/plain": [
       "<IPython.core.display.Image object>"
      ]
     },
     "metadata": {},
     "output_type": "display_data"
    }
   ],
   "source": [
    "from langgraph.graph import StateGraph, START, END\n",
    "from IPython.display import display, Image\n",
    "\n",
    "builder = StateGraph(State)\n",
    "\n",
    "builder.add_node(\"first\", node_1)\n",
    "builder.add_node(\"second\", node_2)\n",
    "builder.add_node(\"third\", node_3)\n",
    "\n",
    "## edges\n",
    "builder.add_edge(START, \"first\")\n",
    "builder.add_conditional_edges(\n",
    "    \"first\",\n",
    "    router,\n",
    "    {\n",
    "        \"Node_2\": \"second\",\n",
    "        \"Node_3\": \"third\"\n",
    "    }\n",
    ")\n",
    "builder.add_edge([\"second\", \"third\"], END)\n",
    "\n",
    "graph = builder.compile()\n",
    "\n",
    "display(Image(graph.get_graph().draw_mermaid_png()))\n"
   ]
  },
  {
   "cell_type": "code",
   "execution_count": 39,
   "id": "f6921699",
   "metadata": {},
   "outputs": [
    {
     "name": "stdout",
     "output_type": "stream",
     "text": [
      "--Node 1 --\n",
      "--Node 3 --\n"
     ]
    },
    {
     "data": {
      "text/plain": [
       "{'question': 'HEllo.Very good', 'answer': 'HEllo.Very goodform node 3'}"
      ]
     },
     "execution_count": 39,
     "metadata": {},
     "output_type": "execute_result"
    }
   ],
   "source": [
    "output = graph.invoke(\n",
    "    {\n",
    "        \"question\": \"HEllo.\"\n",
    "    }\n",
    ")\n",
    "output"
   ]
  },
  {
   "cell_type": "markdown",
   "id": "41a5e7f8",
   "metadata": {},
   "source": [
    "## **Building Chatbot With Memory**"
   ]
  },
  {
   "cell_type": "code",
   "execution_count": 73,
   "id": "6fd192b3",
   "metadata": {},
   "outputs": [],
   "source": [
    "from langgraph.graph import MessagesState\n",
    "\n",
    "class State(MessagesState):\n",
    "    pass"
   ]
  },
  {
   "cell_type": "code",
   "execution_count": 65,
   "id": "71cb6360",
   "metadata": {},
   "outputs": [],
   "source": [
    "from langchain_core.output_parsers import StrOutputParser\n",
    "basic_prompt = PromptTemplate(\n",
    "    template=\"Your are a helpful ai assistant. Response user question based on you capability.\",\n",
    "    input_variables=[\"question\"]\n",
    ")"
   ]
  },
  {
   "cell_type": "code",
   "execution_count": 74,
   "id": "c650371b",
   "metadata": {},
   "outputs": [],
   "source": [
    "def call_node(state: State):\n",
    "    question = state[\"messages\"]\n",
    "    \n",
    "    # chain = basic_prompt | llm | StrOutputParser()\n",
    "    \n",
    "    # response = chain.invoke(\n",
    "    #     {\n",
    "    #         \"question\": question\n",
    "    #     }\n",
    "    # )\n",
    "    \n",
    "    response = llm.invoke(question)\n",
    "    \n",
    "    return {\n",
    "        \"messages\": response.content\n",
    "    }"
   ]
  },
  {
   "cell_type": "code",
   "execution_count": 78,
   "id": "d64ebf0b",
   "metadata": {},
   "outputs": [
    {
     "data": {
      "image/png": "[encoded data removed]",
      "text/plain": [
       "<IPython.core.display.Image object>"
      ]
     },
     "metadata": {},
     "output_type": "display_data"
    }
   ],
   "source": [
    "from langgraph.graph import StateGraph, START, END\n",
    "from langgraph.checkpoint.memory import InMemorySaver\n",
    "\n",
    "workflow = StateGraph(State)\n",
    "\n",
    "workflow.add_node(\"Medical_Bot\", call_node)\n",
    "\n",
    "workflow.add_edge(START, \"Medical_Bot\")\n",
    "workflow.add_edge(\"Medical_Bot\", END)\n",
    "\n",
    "memory = InMemorySaver()\n",
    "app = workflow.compile(checkpointer=memory)\n",
    "\n",
    "display(Image(app.get_graph().draw_mermaid_png()))"
   ]
  },
  {
   "cell_type": "markdown",
   "id": "c4cfdae9",
   "metadata": {},
   "source": [
    "## Define the Thread"
   ]
  },
  {
   "cell_type": "code",
   "execution_count": 79,
   "id": "b7645859",
   "metadata": {},
   "outputs": [],
   "source": [
    "config = {\n",
    "    \"configurable\": {\n",
    "        \"thread_id\": \"1\"\n",
    "    }\n",
    "}"
   ]
  },
  {
   "cell_type": "code",
   "execution_count": 80,
   "id": "12d1b804",
   "metadata": {},
   "outputs": [
    {
     "name": "stdout",
     "output_type": "stream",
     "text": [
      "================================\u001b[1m Human Message \u001b[0m=================================\n",
      "\n",
      "HI, I'm Al Amin. Nice to meed you.\n",
      "================================\u001b[1m Human Message \u001b[0m=================================\n",
      "\n",
      "Nice to meet you too, Al Amin! How's your day going so far?\n"
     ]
    }
   ],
   "source": [
    "output = app.invoke(\n",
    "    {\n",
    "        \"messages\": \"HI, I'm Al Amin. Nice to meed you.\"\n",
    "    },\n",
    "    config=config\n",
    ")\n",
    "\n",
    "for m in output[\"messages\"]:\n",
    "    m.pretty_print()"
   ]
  },
  {
   "cell_type": "code",
   "execution_count": 83,
   "id": "1060251b",
   "metadata": {},
   "outputs": [
    {
     "name": "stdout",
     "output_type": "stream",
     "text": [
      "================================\u001b[1m Human Message \u001b[0m=================================\n",
      "\n",
      "what is my name?\n",
      "================================\u001b[1m Human Message \u001b[0m=================================\n",
      "\n",
      "Your name is Al Amin. You mentioned it at the beginning of our conversation!\n"
     ]
    }
   ],
   "source": [
    "output = app.invoke(\n",
    "    {\n",
    "        \"messages\": \"what is my name?\"\n",
    "    },\n",
    "    config=config\n",
    ")\n",
    "\n",
    "for m in output[\"messages\"][-2: ]:\n",
    "    m.pretty_print()"
   ]
  },
  {
   "cell_type": "code",
   "execution_count": 88,
   "id": "d1c80121",
   "metadata": {},
   "outputs": [
    {
     "name": "stdout",
     "output_type": "stream",
     "text": [
      "StateSnapshot(values={'messages': [HumanMessage(content=\"HI, I'm Al Amin. Nice to meed you.\", additional_kwargs={}, response_metadata={}, id='0f226ba0-a587-4740-a282-aad51d956142'), HumanMessage(content=\"Nice to meet you too, Al Amin! How's your day going so far?\", additional_kwargs={}, response_metadata={}, id='69ff5475-6493-49a1-9f27-d04ec40b2bab'), HumanMessage(content='what is my name?', additional_kwargs={}, response_metadata={}, id='de831437-493f-48d5-a2cb-91f6f4df2471'), HumanMessage(content='Your name is Al Amin. You told me that when we first started chatting!', additional_kwargs={}, response_metadata={}, id='88492dba-3476-4266-b671-53c0272d96b9'), HumanMessage(content='what is my name?', additional_kwargs={}, response_metadata={}, id='748c4268-ae36-4060-8463-b956af1dae5b'), HumanMessage(content='Your name is Al Amin. You mentioned it at the beginning of our conversation!', additional_kwargs={}, response_metadata={}, id='21b2e9d0-3ed4-4eab-a423-1f860c7edd90')]}, next=(), config={'configurable': {'thread_id': '1', 'checkpoint_ns': '', 'checkpoint_id': '1f04f511-0d93-6c3c-8007-2bd1beae74fc'}}, metadata={'source': 'loop', 'writes': {'Medical_Bot': {'messages': 'Your name is Al Amin. You mentioned it at the beginning of our conversation!'}}, 'step': 7, 'parents': {}, 'thread_id': '1'}, created_at='2025-06-22T10:10:04.210284+00:00', parent_config={'configurable': {'thread_id': '1', 'checkpoint_ns': '', 'checkpoint_id': '1f04f511-0a06-6026-8006-65eaab82a367'}}, tasks=(), interrupts=())\n"
     ]
    }
   ],
   "source": [
    "print(app.get_state(config=config))"
   ]
  },
  {
   "cell_type": "markdown",
   "id": "87040ea3",
   "metadata": {},
   "source": [
    "## **React Agent**"
   ]
  },
  {
   "cell_type": "code",
   "execution_count": null,
   "id": "70fc090b",
   "metadata": {},
   "outputs": [],
   "source": []
  }
 ],
 "metadata": {
  "kernelspec": {
   "display_name": "lang_aca",
   "language": "python",
   "name": "python3"
  },
  "language_info": {
   "codemirror_mode": {
    "name": "ipython",
    "version": 3
   },
   "file_extension": ".py",
   "mimetype": "text/x-python",
   "name": "python",
   "nbconvert_exporter": "python",
   "pygments_lexer": "ipython3",
   "version": "3.11.11"
  }
 },
 "nbformat": 4,
 "nbformat_minor": 5
}
