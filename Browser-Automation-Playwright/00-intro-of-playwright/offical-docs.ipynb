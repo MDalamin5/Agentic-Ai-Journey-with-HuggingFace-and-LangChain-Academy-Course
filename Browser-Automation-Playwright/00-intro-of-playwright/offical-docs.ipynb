{
 "cells": [
  {
   "cell_type": "markdown",
   "id": "d4d8770f",
   "metadata": {},
   "source": [
    "# **Explore `PlayWright`**\n",
    "- which help to automate your browser and extract info form web page."
   ]
  },
  {
   "cell_type": "markdown",
   "id": "50066058",
   "metadata": {},
   "source": [
    "[Official-langChain-documentation](https://python.langchain.com/docs/integrations/tools/playwright/)\n",
    "\n",
    "### **PlayWright Offers**\n",
    "\n",
    "- `NavigateTool` (navigate_browser) - navigate to a URL\n",
    "- `NavigateBackTool` (previous_page) - wait for an element to appear\n",
    "- `ClickTool` (click_element) - click on an element (specified by selector)\n",
    "- `ExtractTextTool` (extract_text) - use beautiful soup to extract text from the current web page\n",
    "- `ExtractHyperlinksTool` (extract_hyperlinks) - use beautiful soup to extract hyperlinks from the current web page\n",
    "- `GetElementsTool` (get_elements) - select elements by CSS selector\n",
    "- `CurrentPageTool` (current_page) - get the current page URL"
   ]
  },
  {
   "cell_type": "code",
   "execution_count": null,
   "id": "bbc3c0b5",
   "metadata": {},
   "outputs": [],
   "source": []
  }
 ],
 "metadata": {
  "kernelspec": {
   "display_name": "Python 3",
   "language": "python",
   "name": "python3"
  },
  "language_info": {
   "name": "python",
   "version": "3.12.0"
  }
 },
 "nbformat": 4,
 "nbformat_minor": 5
}
